{
  "nbformat": 4,
  "nbformat_minor": 0,
  "metadata": {
    "kernelspec": {
      "display_name": "Python 3",
      "language": "python",
      "name": "python3"
    },
    "language_info": {
      "codemirror_mode": {
        "name": "ipython",
        "version": 3
      },
      "file_extension": ".py",
      "mimetype": "text/x-python",
      "name": "python",
      "nbconvert_exporter": "python",
      "pygments_lexer": "ipython3",
      "version": "3.7.4"
    },
    "colab": {
      "name": "Inlämning_Laboration3_del2_klassificering_VT21.ipynb",
      "provenance": [],
      "collapsed_sections": []
    }
  },
  "cells": [
    {
      "cell_type": "markdown",
      "metadata": {
        "id": "view-in-github"
      },
      "source": [
        "<a href=\"https://colab.research.google.com/github/2IS239-Data-Analytics/laboration_3-grupp-5/blob/master/Inl%C3%A4mning_Laboration3_del2_klassificering_VT21.ipynb\" target=\"_parent\"><img src=\"https://colab.research.google.com/assets/colab-badge.svg\" alt=\"Open In Colab\"/></a>"
      ]
    },
    {
      "cell_type": "markdown",
      "metadata": {
        "id": "xRrgnDGFOBK1"
      },
      "source": [
        "# Laboration 3 del 2 klassificiering"
      ]
    },
    {
      "cell_type": "markdown",
      "metadata": {
        "id": "tcXvUfsYOBK7"
      },
      "source": [
        "## Klassificering\n",
        "\n",
        "I denna andra del ska ni testa att klassificera ett annat dataset med hjälp av två olika modeller för klassificering, logistiskt regression och desicion trees (som klarar såväl regression som klassificering). Vi kommer använda ett dataset som har data om överlevare från Titanic.\n",
        "\n",
        "Det dataset vi ska använda finns i datamappen på GitHub och heter Titanic. Några av de bibliotek ni behöver för att komma igång är också importerade i nedan kod. \n",
        "\n",
        "Den del av laboration som handlar om decision trees är inspirerad av David Johnsson på Uppsala universitet.\n"
      ]
    },
    {
      "cell_type": "markdown",
      "metadata": {
        "id": "LOxeyXrZOBK8"
      },
      "source": [
        "### Logistisk regression för att bestämma om man överlever eller inte"
      ]
    },
    {
      "cell_type": "markdown",
      "metadata": {
        "id": "_1Z1FQlGOBK8"
      },
      "source": [
        "De frågor som ska besvaras är märkta med **Q** medan coduppgifter är märkta med **C**.\n",
        "\n",
        "I vissa fall finns flera delfrågor som kan innehålla både rena koduppgifter, frågor eller en kombination, dessa är märkta **QC**. Delfrågorna Dessa är i en lista med en bokstav framför, ex. a. Huruvida en deluppgift ska kodas eller enbart besvaras avgörs av er baserat på själva texten. När ni arbetar med uppgiften förväntas ni själva avgöra hur många kodblock som krävs för att kunna utföra uppgiften samt göra den tydlig och lätt att förstå. Samma sak gäller när ni kommenterar och besvarar frågor, skriv kortfattat men tydligt. **(OBS! Vissa uppgifter kräver flera kodblock, då behöver ni skapa dem!)**\n",
        "\n",
        "**Exempel:**\n",
        "\n",
        "**QC** Undersök hur många som levde och hur många som dog.\n",
        "\n",
        ">a. Antal som överlevde och antal som dog?\n",
        ">\n",
        ">b. Hur många % överlevde?\n",
        ">\n",
        ">c. Visualisera antal överlevare och antal döda i ett stapeldiagram"
      ]
    },
    {
      "cell_type": "code",
      "metadata": {
        "id": "3mw_bNdUOBK9"
      },
      "source": [
        "import numpy as np\n",
        "import pandas as pd\n",
        "import seaborn as sb\n",
        "import matplotlib.pyplot as plt\n",
        "import sklearn\n",
        "\n",
        "from pandas import Series, DataFrame\n",
        "from pylab import rcParams\n",
        "from sklearn import preprocessing\n",
        "from sklearn.linear_model import LogisticRegression\n",
        "from sklearn.model_selection import train_test_split\n",
        "from sklearn import metrics \n",
        "from sklearn.metrics import classification_report"
      ],
      "execution_count": 77,
      "outputs": []
    },
    {
      "cell_type": "markdown",
      "metadata": {
        "id": "RM5UeG_qOBK_"
      },
      "source": [
        "**C** Läs in datafilen och gör dig familiär med den. "
      ]
    },
    {
      "cell_type": "code",
      "metadata": {
        "id": "6ikMRD1lOBK-"
      },
      "source": [
        "%matplotlib inline\n",
        "rcParams['figure.figsize'] = 10, 8\n",
        "sb.set_style('whitegrid')"
      ],
      "execution_count": 78,
      "outputs": []
    },
    {
      "cell_type": "code",
      "metadata": {
        "id": "b9ZAjsKmPK6i",
        "colab": {
          "base_uri": "https://localhost:8080/"
        },
        "outputId": "636191d4-887b-4e8b-b5b5-af984f74f0d5"
      },
      "source": [
        "#Mounting gDrive in Colaboratory\r\n",
        "try:\r\n",
        "    from google.colab import drive\r\n",
        "    drive.mount(\"/content/drive/\", force_remount=True)\r\n",
        "    google_drive_prefix = \"/content/drive/My Drive\"\r\n",
        "    data_prefix = \"{}/mnist/\".format(google_drive_prefix)\r\n",
        "except ModuleNotFoundError: \r\n",
        "    data_prefix = \"data/\""
      ],
      "execution_count": 79,
      "outputs": [
        {
          "output_type": "stream",
          "text": [
            "Mounted at /content/drive/\n"
          ],
          "name": "stdout"
        }
      ]
    },
    {
      "cell_type": "code",
      "metadata": {
        "id": "0PJ0L8ksPRRF",
        "colab": {
          "base_uri": "https://localhost:8080/",
          "height": 669
        },
        "outputId": "88d743bc-a8a6-42b1-a60f-d57b7dde4fae"
      },
      "source": [
        "# Import our Titanic Data and store it in the variable tc_df \r\n",
        "tc_df= pd.read_csv(\"/content/drive/MyDrive/titanic-train.csv\", delimiter=\",\")\r\n",
        "# Display the data in the notebook\r\n",
        "tc_df.head(20)"
      ],
      "execution_count": 80,
      "outputs": [
        {
          "output_type": "execute_result",
          "data": {
            "text/html": [
              "<div>\n",
              "<style scoped>\n",
              "    .dataframe tbody tr th:only-of-type {\n",
              "        vertical-align: middle;\n",
              "    }\n",
              "\n",
              "    .dataframe tbody tr th {\n",
              "        vertical-align: top;\n",
              "    }\n",
              "\n",
              "    .dataframe thead th {\n",
              "        text-align: right;\n",
              "    }\n",
              "</style>\n",
              "<table border=\"1\" class=\"dataframe\">\n",
              "  <thead>\n",
              "    <tr style=\"text-align: right;\">\n",
              "      <th></th>\n",
              "      <th>PassengerId</th>\n",
              "      <th>Survived</th>\n",
              "      <th>Pclass</th>\n",
              "      <th>Name</th>\n",
              "      <th>Sex</th>\n",
              "      <th>Age</th>\n",
              "      <th>SibSp</th>\n",
              "      <th>Parch</th>\n",
              "      <th>Ticket</th>\n",
              "      <th>Fare</th>\n",
              "      <th>Cabin</th>\n",
              "      <th>Embarked</th>\n",
              "    </tr>\n",
              "  </thead>\n",
              "  <tbody>\n",
              "    <tr>\n",
              "      <th>0</th>\n",
              "      <td>1</td>\n",
              "      <td>0</td>\n",
              "      <td>3</td>\n",
              "      <td>Braund, Mr. Owen Harris</td>\n",
              "      <td>male</td>\n",
              "      <td>22.0</td>\n",
              "      <td>1</td>\n",
              "      <td>0</td>\n",
              "      <td>A/5 21171</td>\n",
              "      <td>7.2500</td>\n",
              "      <td>NaN</td>\n",
              "      <td>S</td>\n",
              "    </tr>\n",
              "    <tr>\n",
              "      <th>1</th>\n",
              "      <td>2</td>\n",
              "      <td>1</td>\n",
              "      <td>1</td>\n",
              "      <td>Cumings, Mrs. John Bradley (Florence Briggs Th...</td>\n",
              "      <td>female</td>\n",
              "      <td>38.0</td>\n",
              "      <td>1</td>\n",
              "      <td>0</td>\n",
              "      <td>PC 17599</td>\n",
              "      <td>71.2833</td>\n",
              "      <td>C85</td>\n",
              "      <td>C</td>\n",
              "    </tr>\n",
              "    <tr>\n",
              "      <th>2</th>\n",
              "      <td>3</td>\n",
              "      <td>1</td>\n",
              "      <td>3</td>\n",
              "      <td>Heikkinen, Miss. Laina</td>\n",
              "      <td>female</td>\n",
              "      <td>26.0</td>\n",
              "      <td>0</td>\n",
              "      <td>0</td>\n",
              "      <td>STON/O2. 3101282</td>\n",
              "      <td>7.9250</td>\n",
              "      <td>NaN</td>\n",
              "      <td>S</td>\n",
              "    </tr>\n",
              "    <tr>\n",
              "      <th>3</th>\n",
              "      <td>4</td>\n",
              "      <td>1</td>\n",
              "      <td>1</td>\n",
              "      <td>Futrelle, Mrs. Jacques Heath (Lily May Peel)</td>\n",
              "      <td>female</td>\n",
              "      <td>35.0</td>\n",
              "      <td>1</td>\n",
              "      <td>0</td>\n",
              "      <td>113803</td>\n",
              "      <td>53.1000</td>\n",
              "      <td>C123</td>\n",
              "      <td>S</td>\n",
              "    </tr>\n",
              "    <tr>\n",
              "      <th>4</th>\n",
              "      <td>5</td>\n",
              "      <td>0</td>\n",
              "      <td>3</td>\n",
              "      <td>Allen, Mr. William Henry</td>\n",
              "      <td>male</td>\n",
              "      <td>35.0</td>\n",
              "      <td>0</td>\n",
              "      <td>0</td>\n",
              "      <td>373450</td>\n",
              "      <td>8.0500</td>\n",
              "      <td>NaN</td>\n",
              "      <td>S</td>\n",
              "    </tr>\n",
              "    <tr>\n",
              "      <th>5</th>\n",
              "      <td>6</td>\n",
              "      <td>0</td>\n",
              "      <td>3</td>\n",
              "      <td>Moran, Mr. James</td>\n",
              "      <td>male</td>\n",
              "      <td>NaN</td>\n",
              "      <td>0</td>\n",
              "      <td>0</td>\n",
              "      <td>330877</td>\n",
              "      <td>8.4583</td>\n",
              "      <td>NaN</td>\n",
              "      <td>Q</td>\n",
              "    </tr>\n",
              "    <tr>\n",
              "      <th>6</th>\n",
              "      <td>7</td>\n",
              "      <td>0</td>\n",
              "      <td>1</td>\n",
              "      <td>McCarthy, Mr. Timothy J</td>\n",
              "      <td>male</td>\n",
              "      <td>54.0</td>\n",
              "      <td>0</td>\n",
              "      <td>0</td>\n",
              "      <td>17463</td>\n",
              "      <td>51.8625</td>\n",
              "      <td>E46</td>\n",
              "      <td>S</td>\n",
              "    </tr>\n",
              "    <tr>\n",
              "      <th>7</th>\n",
              "      <td>8</td>\n",
              "      <td>0</td>\n",
              "      <td>3</td>\n",
              "      <td>Palsson, Master. Gosta Leonard</td>\n",
              "      <td>male</td>\n",
              "      <td>2.0</td>\n",
              "      <td>3</td>\n",
              "      <td>1</td>\n",
              "      <td>349909</td>\n",
              "      <td>21.0750</td>\n",
              "      <td>NaN</td>\n",
              "      <td>S</td>\n",
              "    </tr>\n",
              "    <tr>\n",
              "      <th>8</th>\n",
              "      <td>9</td>\n",
              "      <td>1</td>\n",
              "      <td>3</td>\n",
              "      <td>Johnson, Mrs. Oscar W (Elisabeth Vilhelmina Berg)</td>\n",
              "      <td>female</td>\n",
              "      <td>27.0</td>\n",
              "      <td>0</td>\n",
              "      <td>2</td>\n",
              "      <td>347742</td>\n",
              "      <td>11.1333</td>\n",
              "      <td>NaN</td>\n",
              "      <td>S</td>\n",
              "    </tr>\n",
              "    <tr>\n",
              "      <th>9</th>\n",
              "      <td>10</td>\n",
              "      <td>1</td>\n",
              "      <td>2</td>\n",
              "      <td>Nasser, Mrs. Nicholas (Adele Achem)</td>\n",
              "      <td>female</td>\n",
              "      <td>14.0</td>\n",
              "      <td>1</td>\n",
              "      <td>0</td>\n",
              "      <td>237736</td>\n",
              "      <td>30.0708</td>\n",
              "      <td>NaN</td>\n",
              "      <td>C</td>\n",
              "    </tr>\n",
              "    <tr>\n",
              "      <th>10</th>\n",
              "      <td>11</td>\n",
              "      <td>1</td>\n",
              "      <td>3</td>\n",
              "      <td>Sandstrom, Miss. Marguerite Rut</td>\n",
              "      <td>female</td>\n",
              "      <td>4.0</td>\n",
              "      <td>1</td>\n",
              "      <td>1</td>\n",
              "      <td>PP 9549</td>\n",
              "      <td>16.7000</td>\n",
              "      <td>G6</td>\n",
              "      <td>S</td>\n",
              "    </tr>\n",
              "    <tr>\n",
              "      <th>11</th>\n",
              "      <td>12</td>\n",
              "      <td>1</td>\n",
              "      <td>1</td>\n",
              "      <td>Bonnell, Miss. Elizabeth</td>\n",
              "      <td>female</td>\n",
              "      <td>58.0</td>\n",
              "      <td>0</td>\n",
              "      <td>0</td>\n",
              "      <td>113783</td>\n",
              "      <td>26.5500</td>\n",
              "      <td>C103</td>\n",
              "      <td>S</td>\n",
              "    </tr>\n",
              "    <tr>\n",
              "      <th>12</th>\n",
              "      <td>13</td>\n",
              "      <td>0</td>\n",
              "      <td>3</td>\n",
              "      <td>Saundercock, Mr. William Henry</td>\n",
              "      <td>male</td>\n",
              "      <td>20.0</td>\n",
              "      <td>0</td>\n",
              "      <td>0</td>\n",
              "      <td>A/5. 2151</td>\n",
              "      <td>8.0500</td>\n",
              "      <td>NaN</td>\n",
              "      <td>S</td>\n",
              "    </tr>\n",
              "    <tr>\n",
              "      <th>13</th>\n",
              "      <td>14</td>\n",
              "      <td>0</td>\n",
              "      <td>3</td>\n",
              "      <td>Andersson, Mr. Anders Johan</td>\n",
              "      <td>male</td>\n",
              "      <td>39.0</td>\n",
              "      <td>1</td>\n",
              "      <td>5</td>\n",
              "      <td>347082</td>\n",
              "      <td>31.2750</td>\n",
              "      <td>NaN</td>\n",
              "      <td>S</td>\n",
              "    </tr>\n",
              "    <tr>\n",
              "      <th>14</th>\n",
              "      <td>15</td>\n",
              "      <td>0</td>\n",
              "      <td>3</td>\n",
              "      <td>Vestrom, Miss. Hulda Amanda Adolfina</td>\n",
              "      <td>female</td>\n",
              "      <td>14.0</td>\n",
              "      <td>0</td>\n",
              "      <td>0</td>\n",
              "      <td>350406</td>\n",
              "      <td>7.8542</td>\n",
              "      <td>NaN</td>\n",
              "      <td>S</td>\n",
              "    </tr>\n",
              "    <tr>\n",
              "      <th>15</th>\n",
              "      <td>16</td>\n",
              "      <td>1</td>\n",
              "      <td>2</td>\n",
              "      <td>Hewlett, Mrs. (Mary D Kingcome)</td>\n",
              "      <td>female</td>\n",
              "      <td>55.0</td>\n",
              "      <td>0</td>\n",
              "      <td>0</td>\n",
              "      <td>248706</td>\n",
              "      <td>16.0000</td>\n",
              "      <td>NaN</td>\n",
              "      <td>S</td>\n",
              "    </tr>\n",
              "    <tr>\n",
              "      <th>16</th>\n",
              "      <td>17</td>\n",
              "      <td>0</td>\n",
              "      <td>3</td>\n",
              "      <td>Rice, Master. Eugene</td>\n",
              "      <td>male</td>\n",
              "      <td>2.0</td>\n",
              "      <td>4</td>\n",
              "      <td>1</td>\n",
              "      <td>382652</td>\n",
              "      <td>29.1250</td>\n",
              "      <td>NaN</td>\n",
              "      <td>Q</td>\n",
              "    </tr>\n",
              "    <tr>\n",
              "      <th>17</th>\n",
              "      <td>18</td>\n",
              "      <td>1</td>\n",
              "      <td>2</td>\n",
              "      <td>Williams, Mr. Charles Eugene</td>\n",
              "      <td>male</td>\n",
              "      <td>NaN</td>\n",
              "      <td>0</td>\n",
              "      <td>0</td>\n",
              "      <td>244373</td>\n",
              "      <td>13.0000</td>\n",
              "      <td>NaN</td>\n",
              "      <td>S</td>\n",
              "    </tr>\n",
              "    <tr>\n",
              "      <th>18</th>\n",
              "      <td>19</td>\n",
              "      <td>0</td>\n",
              "      <td>3</td>\n",
              "      <td>Vander Planke, Mrs. Julius (Emelia Maria Vande...</td>\n",
              "      <td>female</td>\n",
              "      <td>31.0</td>\n",
              "      <td>1</td>\n",
              "      <td>0</td>\n",
              "      <td>345763</td>\n",
              "      <td>18.0000</td>\n",
              "      <td>NaN</td>\n",
              "      <td>S</td>\n",
              "    </tr>\n",
              "    <tr>\n",
              "      <th>19</th>\n",
              "      <td>20</td>\n",
              "      <td>1</td>\n",
              "      <td>3</td>\n",
              "      <td>Masselmani, Mrs. Fatima</td>\n",
              "      <td>female</td>\n",
              "      <td>NaN</td>\n",
              "      <td>0</td>\n",
              "      <td>0</td>\n",
              "      <td>2649</td>\n",
              "      <td>7.2250</td>\n",
              "      <td>NaN</td>\n",
              "      <td>C</td>\n",
              "    </tr>\n",
              "  </tbody>\n",
              "</table>\n",
              "</div>"
            ],
            "text/plain": [
              "    PassengerId  Survived  Pclass  ...     Fare Cabin  Embarked\n",
              "0             1         0       3  ...   7.2500   NaN         S\n",
              "1             2         1       1  ...  71.2833   C85         C\n",
              "2             3         1       3  ...   7.9250   NaN         S\n",
              "3             4         1       1  ...  53.1000  C123         S\n",
              "4             5         0       3  ...   8.0500   NaN         S\n",
              "5             6         0       3  ...   8.4583   NaN         Q\n",
              "6             7         0       1  ...  51.8625   E46         S\n",
              "7             8         0       3  ...  21.0750   NaN         S\n",
              "8             9         1       3  ...  11.1333   NaN         S\n",
              "9            10         1       2  ...  30.0708   NaN         C\n",
              "10           11         1       3  ...  16.7000    G6         S\n",
              "11           12         1       1  ...  26.5500  C103         S\n",
              "12           13         0       3  ...   8.0500   NaN         S\n",
              "13           14         0       3  ...  31.2750   NaN         S\n",
              "14           15         0       3  ...   7.8542   NaN         S\n",
              "15           16         1       2  ...  16.0000   NaN         S\n",
              "16           17         0       3  ...  29.1250   NaN         Q\n",
              "17           18         1       2  ...  13.0000   NaN         S\n",
              "18           19         0       3  ...  18.0000   NaN         S\n",
              "19           20         1       3  ...   7.2250   NaN         C\n",
              "\n",
              "[20 rows x 12 columns]"
            ]
          },
          "metadata": {
            "tags": []
          },
          "execution_count": 80
        }
      ]
    },
    {
      "cell_type": "code",
      "metadata": {
        "id": "tKxd9b3dPmk-",
        "colab": {
          "base_uri": "https://localhost:8080/"
        },
        "outputId": "59005c2e-8f40-45b0-9022-eabd5d20054c"
      },
      "source": [
        "# Checking datatypes in dataframe\r\n",
        "print(f'{tc_df.dtypes} \\n')\r\n",
        "\r\n",
        "# Checking if there's any null value for passengerID\r\n",
        "print(f'Nullpassangers: {tc_df.isnull().PassengerId.any()} \\n')\r\n",
        "\r\n",
        "# Displaying all null values for dataframe by column\r\n",
        "print(tc_df.isnull().sum()) "
      ],
      "execution_count": 81,
      "outputs": [
        {
          "output_type": "stream",
          "text": [
            "PassengerId      int64\n",
            "Survived         int64\n",
            "Pclass           int64\n",
            "Name            object\n",
            "Sex             object\n",
            "Age            float64\n",
            "SibSp            int64\n",
            "Parch            int64\n",
            "Ticket          object\n",
            "Fare           float64\n",
            "Cabin           object\n",
            "Embarked        object\n",
            "dtype: object \n",
            "\n",
            "Nullpassangers: False \n",
            "\n",
            "PassengerId      0\n",
            "Survived         0\n",
            "Pclass           0\n",
            "Name             0\n",
            "Sex              0\n",
            "Age            177\n",
            "SibSp            0\n",
            "Parch            0\n",
            "Ticket           0\n",
            "Fare             0\n",
            "Cabin          687\n",
            "Embarked         2\n",
            "dtype: int64\n"
          ],
          "name": "stdout"
        }
      ]
    },
    {
      "cell_type": "markdown",
      "metadata": {
        "id": "zhi_Pcv-OBLA"
      },
      "source": [
        "**Q** Nedan är en översikt över några kolumner - fyll i vad varje kolumn står för där information saknas\n",
        "\n",
        "- `survival` - Överlevde ja/nej - 1/0\n",
        "- `pclass` - Passagerarklass\n",
        "- `sex` - Kön\n",
        "- `age`- Ålder\n",
        "- `sibsp` - # av syskon/äkta hälft ombord \n",
        "- `parch` - # av föräldrar/barn ombord \n",
        "- `ticket` - Biljettnr/typ\n",
        "- `fare` - Biljettpris\n",
        "- `cabin` - Hyttnr\n",
        "- `embarked` - Hamn där man steg ombord (C = Cherbourg, Q = Queenstown, S = Southampton)"
      ]
    },
    {
      "cell_type": "markdown",
      "metadata": {
        "id": "N37FYdwuOBLA"
      },
      "source": [
        "**Q** Hur många passagerare fanns på Titanic enligt ert dataset?"
      ]
    },
    {
      "cell_type": "code",
      "metadata": {
        "id": "qmhSACRAPixb",
        "colab": {
          "base_uri": "https://localhost:8080/"
        },
        "outputId": "832b3774-9927-4bdb-8b03-b2cb00cadff7"
      },
      "source": [
        "# 891 rows - 891 passengers\r\n",
        "print(f'Amount of passengers: \\t {len(tc_df)}')"
      ],
      "execution_count": 82,
      "outputs": [
        {
          "output_type": "stream",
          "text": [
            "Amount of passengers: \t 891\n"
          ],
          "name": "stdout"
        }
      ]
    },
    {
      "cell_type": "markdown",
      "metadata": {
        "id": "ZY4W2c2JOBLA"
      },
      "source": [
        "### Explorativ dataanalys\n",
        "\n",
        "För att veta vilka data som har betydelse när det handlar om att klassificera huruvida en person lever eller dör behöver vi undersöka vårt dataset med fokus på vilka variabler som påverkar `survival` som är den beroende variabel vi vill prediktera, allts vårt y. Först behöver vi dock städa och förbereda data för analys."
      ]
    },
    {
      "cell_type": "markdown",
      "metadata": {
        "id": "eVyTyEV1OBLB"
      },
      "source": [
        "**QC** Undersök hur många som levde och hur många som dog.\n",
        "\n",
        "a. Antal som överlevde och antal som dog?\n",
        "> **Svar:** 342 överlevde och 549 dog. \n",
        "\n",
        "b. Hur många % överlevde?\n",
        ">**Svar:** 38% Överlevde\n",
        "\n",
        ">c. Visualisera antal överlevare och antal döda i ett stapeldiagram"
      ]
    },
    {
      "cell_type": "code",
      "metadata": {
        "colab": {
          "base_uri": "https://localhost:8080/"
        },
        "id": "eV7qC5ycSEv1",
        "outputId": "a0af4598-9a26-44db-af31-6c745b8c1e4c"
      },
      "source": [
        "# a.\r\n",
        "# print amount of deaths and survivals\r\n",
        "total_amount = tc_df.Survived.value_counts() \r\n",
        "print(f'Omkomna:\\t{total_amount[0]} \\nÖverlevde:\\t{total_amount[1]}')"
      ],
      "execution_count": 83,
      "outputs": [
        {
          "output_type": "stream",
          "text": [
            "Omkomna:\t549 \n",
            "Överlevde:\t342\n"
          ],
          "name": "stdout"
        }
      ]
    },
    {
      "cell_type": "code",
      "metadata": {
        "colab": {
          "base_uri": "https://localhost:8080/"
        },
        "id": "m2y5RiArSRxO",
        "outputId": "30183102-4a21-4608-96f8-a81183c7220a"
      },
      "source": [
        "# b.\r\n",
        "# Using value_counts again but with normalize true, which returns the percentage. Also formats with .format to whole number.\r\n",
        "print(\"Överlevde: \",\"{:.0%}\".format(tc_df.Survived.value_counts(normalize=True)[1]))"
      ],
      "execution_count": 84,
      "outputs": [
        {
          "output_type": "stream",
          "text": [
            "Överlevde:  38%\n"
          ],
          "name": "stdout"
        }
      ]
    },
    {
      "cell_type": "code",
      "metadata": {
        "colab": {
          "base_uri": "https://localhost:8080/",
          "height": 513
        },
        "id": "HyIO4BaDSYbu",
        "outputId": "25c1b90c-1a6d-484f-91ea-8e5cf7a238cc"
      },
      "source": [
        "# c \r\n",
        "deceased = total_amount[0]\r\n",
        "survived = total_amount[1]\r\n",
        "\r\n",
        "dataset = {'Deceased': deceased, 'Survived':survived} \r\n",
        "keys = list(dataset.keys()) \r\n",
        "values = list(dataset.values()) \r\n",
        "   \r\n",
        "plt.bar(keys, values, color =['lightcoral', 'mediumseagreen']) \r\n",
        "  \r\n",
        "plt.xlabel(\"Deceased/Survived\") \r\n",
        "plt.ylabel(\"Passengers\") \r\n",
        "plt.title(\"Titanic Survival Chart\") \r\n",
        "plt.show() "
      ],
      "execution_count": 85,
      "outputs": [
        {
          "output_type": "display_data",
          "data": {
            "image/png": "[encoded data removed]",
            "text/plain": [
              "<Figure size 720x576 with 1 Axes>"
            ]
          },
          "metadata": {
            "tags": []
          }
        }
      ]
    },
    {
      "cell_type": "markdown",
      "metadata": {
        "id": "bd2Nn-q0OBLD"
      },
      "source": [
        "**QC** Städa ert data, hantera nullvärden, kontrollera outliers, typ av variabler (kategoriska, kontinuerliga, numeriska/labels)\n",
        "\n",
        ">\n",
        ">a. Vilka kolumner har nullvärden?\n",
        "\n",
        "> **Svar:** Age. Cabin och Embarked.\n",
        "\n",
        "b. Hur kan dessa hanteras? \n",
        ">**Svar:** Age bör troligtvis ersättas mot medianen. Att ta bort 177 rader är en ganska stor del av datat. Cabin kolumnen kan nog tas bort då vi redan har andra detaljer som förklarar passagerares ekonomiska status och att ersätta 687 rader mot ett annat värde är inte rimligt när det är större delen av datat.\n",
        "\n",
        ">c.Vilken typ av nullvärden har ni (MCAR/MAR/NMAR)?\n",
        "\n",
        ">**Svar:** Cabin är möjligtvis NMAR då det kanske kan bero på att vissa hytter i t.ex. lägre klass var \"valfria\" eller att endast en person i sällskapet står på hytten. Age skulle kunna vara MAR att det rör sig om något inläsnings fel eller liknande. Det kan även röra sig om att det varit valfritt att ange ålder för barn eller något i den stilen. Embarked är troligtvis MCAR då det endast är så få värden som saknas. \n",
        "\n",
        ">d. Vilka risker finns med ert sätt att hantera nullvärden? Varför? \n",
        "\n",
        "> **Svar:** Att ta bort Cabin gör att man kan missa vissa slutsatser. Det går inte att säga vilken hytttyp som t.ex. hade högst överlevnad samt om hyttypen kan kopplas till en viss passagerarklass. Att ändra null åldern till medianen kan göra att t.ex. medelåldern/median för hela kolumnen påverkas markant. Att ta bort de två raderna med Embarked gör att vi missar två rader med data men det bör inte påverka särskilt mycket i sin helhet (om det inte rör sig om extrema outliers). \n",
        "\n",
        ">e.Finns det outliers? Behöver de hanteras?\n",
        "\n",
        "> **Svar:** Vi har outliers i bland annat Age, SbiSp och Fare. Dessa ska eventuellt behandlas. \n",
        "\n",
        ">f.Vilka variabler är kategoriska och vilka är kontinuerliga?\n",
        ">\n",
        "**Svar:**\n",
        "\n",
        "- `survival` - Kategorisk\n",
        "- `pclass` - Kategorisk\n",
        "- `sex` - Kategorisk\n",
        "- `age`- Kontinuerlig\n",
        "- `sibsp` - Kontinuerlig\n",
        "- `parch` - Kontinuerlig\n",
        "- `ticket` - Kontinuerlig\n",
        "- `fare` - Kontinuerlig\n",
        "- `cabin` - Kategorisk\n",
        "- `embarked` - Kategorisk"
      ]
    },
    {
      "cell_type": "code",
      "metadata": {
        "id": "1PQfKpZpXHy_",
        "colab": {
          "base_uri": "https://localhost:8080/",
          "height": 563
        },
        "outputId": "02c9c3b7-0212-4798-aced-070337908d65"
      },
      "source": [
        "# Using pandas built in boxplot to view outliers\r\n",
        "tc_df.boxplot(fontsize=20) "
      ],
      "execution_count": 86,
      "outputs": [
        {
          "output_type": "stream",
          "text": [
            "/usr/local/lib/python3.7/dist-packages/numpy/core/_asarray.py:83: VisibleDeprecationWarning: Creating an ndarray from ragged nested sequences (which is a list-or-tuple of lists-or-tuples-or ndarrays with different lengths or shapes) is deprecated. If you meant to do this, you must specify 'dtype=object' when creating the ndarray\n",
            "  return array(a, dtype, copy=False, order=order)\n"
          ],
          "name": "stderr"
        },
        {
          "output_type": "execute_result",
          "data": {
            "text/plain": [
              "<matplotlib.axes._subplots.AxesSubplot at 0x7f822ef32050>"
            ]
          },
          "metadata": {
            "tags": []
          },
          "execution_count": 86
        },
        {
          "output_type": "display_data",
          "data": {
            "image/png": "[encoded data removed]",
            "text/plain": [
              "<Figure size 720x576 with 1 Axes>"
            ]
          },
          "metadata": {
            "tags": []
          }
        }
      ]
    },
    {
      "cell_type": "code",
      "metadata": {
        "id": "rTU7qSToXK7S",
        "colab": {
          "base_uri": "https://localhost:8080/",
          "height": 1000
        },
        "outputId": "0aa684a6-129a-4f63-a4fa-1c43b0ba60d1"
      },
      "source": [
        "# Function for plotting outliers \r\n",
        "def plot_outlier(feature):\r\n",
        "  plt.figure(figsize=(25, 6))\r\n",
        "  ax = sb.boxplot(x=feature, linewidth=2.5)\r\n",
        "\r\n",
        "# plot outliers\r\n",
        "plot_outlier(tc_df['Age'])\r\n",
        "plot_outlier(tc_df['Pclass'])\r\n",
        "plot_outlier(tc_df['SibSp'])\r\n",
        "plot_outlier(tc_df['Parch'])\r\n",
        "plot_outlier(tc_df['Fare'])"
      ],
      "execution_count": 87,
      "outputs": [
        {
          "output_type": "display_data",
          "data": {
            "image/png": "[encoded data removed]",
            "text/plain": [
              "<Figure size 1800x432 with 1 Axes>"
            ]
          },
          "metadata": {
            "tags": []
          }
        },
        {
          "output_type": "display_data",
          "data": {
            "image/png": "[encoded data removed]",
            "text/plain": [
              "<Figure size 1800x432 with 1 Axes>"
            ]
          },
          "metadata": {
            "tags": []
          }
        },
        {
          "output_type": "display_data",
          "data": {
            "image/png": "[encoded data removed]",
            "text/plain": [
              "<Figure size 1800x432 with 1 Axes>"
            ]
          },
          "metadata": {
            "tags": []
          }
        },
        {
          "output_type": "display_data",
          "data": {
            "image/png": "[encoded data removed]",
            "text/plain": [
              "<Figure size 1800x432 with 1 Axes>"
            ]
          },
          "metadata": {
            "tags": []
          }
        },
        {
          "output_type": "display_data",
          "data": {
            "image/png": "[encoded data removed]",
            "text/plain": [
              "<Figure size 1800x432 with 1 Axes>"
            ]
          },
          "metadata": {
            "tags": []
          }
        }
      ]
    },
    {
      "cell_type": "markdown",
      "metadata": {
        "id": "HpffR-YSOBLD"
      },
      "source": [
        "I följande uppgifter ska ni testa två olika varianter för att ersätta null och jämföra dessa med varandra samt välja den bästa för ert syfte. \n",
        "\n",
        "**C** Ersätt null med medianåldern\n",
        "**OBS!** Kom ihåg att du måste spara dina ändringar i en ny dataframe, det går inte att ta bort null två gånger ur samma dataframe. \n"
      ]
    },
    {
      "cell_type": "code",
      "metadata": {
        "id": "fh2ZLeqtOBLD",
        "colab": {
          "base_uri": "https://localhost:8080/",
          "height": 359
        },
        "outputId": "de3e5a92-d433-4ec0-ad52-434ee03b2beb"
      },
      "source": [
        "#Ersätt ålder med medianåldern\n",
        "# Creating a new dataframe by copying the first one. \n",
        "titanic_passenger_fill_null_median = tc_df.copy()\n",
        "# Using fillna to fill null values with Age median\n",
        "titanic_passenger_fill_null_median.Age.fillna(value=titanic_passenger_fill_null_median.Age.median(), inplace=True)\n",
        "\n",
        "titanic_passenger_fill_null_median.head(10) "
      ],
      "execution_count": 88,
      "outputs": [
        {
          "output_type": "execute_result",
          "data": {
            "text/html": [
              "<div>\n",
              "<style scoped>\n",
              "    .dataframe tbody tr th:only-of-type {\n",
              "        vertical-align: middle;\n",
              "    }\n",
              "\n",
              "    .dataframe tbody tr th {\n",
              "        vertical-align: top;\n",
              "    }\n",
              "\n",
              "    .dataframe thead th {\n",
              "        text-align: right;\n",
              "    }\n",
              "</style>\n",
              "<table border=\"1\" class=\"dataframe\">\n",
              "  <thead>\n",
              "    <tr style=\"text-align: right;\">\n",
              "      <th></th>\n",
              "      <th>PassengerId</th>\n",
              "      <th>Survived</th>\n",
              "      <th>Pclass</th>\n",
              "      <th>Name</th>\n",
              "      <th>Sex</th>\n",
              "      <th>Age</th>\n",
              "      <th>SibSp</th>\n",
              "      <th>Parch</th>\n",
              "      <th>Ticket</th>\n",
              "      <th>Fare</th>\n",
              "      <th>Cabin</th>\n",
              "      <th>Embarked</th>\n",
              "    </tr>\n",
              "  </thead>\n",
              "  <tbody>\n",
              "    <tr>\n",
              "      <th>0</th>\n",
              "      <td>1</td>\n",
              "      <td>0</td>\n",
              "      <td>3</td>\n",
              "      <td>Braund, Mr. Owen Harris</td>\n",
              "      <td>male</td>\n",
              "      <td>22.0</td>\n",
              "      <td>1</td>\n",
              "      <td>0</td>\n",
              "      <td>A/5 21171</td>\n",
              "      <td>7.2500</td>\n",
              "      <td>NaN</td>\n",
              "      <td>S</td>\n",
              "    </tr>\n",
              "    <tr>\n",
              "      <th>1</th>\n",
              "      <td>2</td>\n",
              "      <td>1</td>\n",
              "      <td>1</td>\n",
              "      <td>Cumings, Mrs. John Bradley (Florence Briggs Th...</td>\n",
              "      <td>female</td>\n",
              "      <td>38.0</td>\n",
              "      <td>1</td>\n",
              "      <td>0</td>\n",
              "      <td>PC 17599</td>\n",
              "      <td>71.2833</td>\n",
              "      <td>C85</td>\n",
              "      <td>C</td>\n",
              "    </tr>\n",
              "    <tr>\n",
              "      <th>2</th>\n",
              "      <td>3</td>\n",
              "      <td>1</td>\n",
              "      <td>3</td>\n",
              "      <td>Heikkinen, Miss. Laina</td>\n",
              "      <td>female</td>\n",
              "      <td>26.0</td>\n",
              "      <td>0</td>\n",
              "      <td>0</td>\n",
              "      <td>STON/O2. 3101282</td>\n",
              "      <td>7.9250</td>\n",
              "      <td>NaN</td>\n",
              "      <td>S</td>\n",
              "    </tr>\n",
              "    <tr>\n",
              "      <th>3</th>\n",
              "      <td>4</td>\n",
              "      <td>1</td>\n",
              "      <td>1</td>\n",
              "      <td>Futrelle, Mrs. Jacques Heath (Lily May Peel)</td>\n",
              "      <td>female</td>\n",
              "      <td>35.0</td>\n",
              "      <td>1</td>\n",
              "      <td>0</td>\n",
              "      <td>113803</td>\n",
              "      <td>53.1000</td>\n",
              "      <td>C123</td>\n",
              "      <td>S</td>\n",
              "    </tr>\n",
              "    <tr>\n",
              "      <th>4</th>\n",
              "      <td>5</td>\n",
              "      <td>0</td>\n",
              "      <td>3</td>\n",
              "      <td>Allen, Mr. William Henry</td>\n",
              "      <td>male</td>\n",
              "      <td>35.0</td>\n",
              "      <td>0</td>\n",
              "      <td>0</td>\n",
              "      <td>373450</td>\n",
              "      <td>8.0500</td>\n",
              "      <td>NaN</td>\n",
              "      <td>S</td>\n",
              "    </tr>\n",
              "    <tr>\n",
              "      <th>5</th>\n",
              "      <td>6</td>\n",
              "      <td>0</td>\n",
              "      <td>3</td>\n",
              "      <td>Moran, Mr. James</td>\n",
              "      <td>male</td>\n",
              "      <td>28.0</td>\n",
              "      <td>0</td>\n",
              "      <td>0</td>\n",
              "      <td>330877</td>\n",
              "      <td>8.4583</td>\n",
              "      <td>NaN</td>\n",
              "      <td>Q</td>\n",
              "    </tr>\n",
              "    <tr>\n",
              "      <th>6</th>\n",
              "      <td>7</td>\n",
              "      <td>0</td>\n",
              "      <td>1</td>\n",
              "      <td>McCarthy, Mr. Timothy J</td>\n",
              "      <td>male</td>\n",
              "      <td>54.0</td>\n",
              "      <td>0</td>\n",
              "      <td>0</td>\n",
              "      <td>17463</td>\n",
              "      <td>51.8625</td>\n",
              "      <td>E46</td>\n",
              "      <td>S</td>\n",
              "    </tr>\n",
              "    <tr>\n",
              "      <th>7</th>\n",
              "      <td>8</td>\n",
              "      <td>0</td>\n",
              "      <td>3</td>\n",
              "      <td>Palsson, Master. Gosta Leonard</td>\n",
              "      <td>male</td>\n",
              "      <td>2.0</td>\n",
              "      <td>3</td>\n",
              "      <td>1</td>\n",
              "      <td>349909</td>\n",
              "      <td>21.0750</td>\n",
              "      <td>NaN</td>\n",
              "      <td>S</td>\n",
              "    </tr>\n",
              "    <tr>\n",
              "      <th>8</th>\n",
              "      <td>9</td>\n",
              "      <td>1</td>\n",
              "      <td>3</td>\n",
              "      <td>Johnson, Mrs. Oscar W (Elisabeth Vilhelmina Berg)</td>\n",
              "      <td>female</td>\n",
              "      <td>27.0</td>\n",
              "      <td>0</td>\n",
              "      <td>2</td>\n",
              "      <td>347742</td>\n",
              "      <td>11.1333</td>\n",
              "      <td>NaN</td>\n",
              "      <td>S</td>\n",
              "    </tr>\n",
              "    <tr>\n",
              "      <th>9</th>\n",
              "      <td>10</td>\n",
              "      <td>1</td>\n",
              "      <td>2</td>\n",
              "      <td>Nasser, Mrs. Nicholas (Adele Achem)</td>\n",
              "      <td>female</td>\n",
              "      <td>14.0</td>\n",
              "      <td>1</td>\n",
              "      <td>0</td>\n",
              "      <td>237736</td>\n",
              "      <td>30.0708</td>\n",
              "      <td>NaN</td>\n",
              "      <td>C</td>\n",
              "    </tr>\n",
              "  </tbody>\n",
              "</table>\n",
              "</div>"
            ],
            "text/plain": [
              "   PassengerId  Survived  Pclass  ...     Fare Cabin  Embarked\n",
              "0            1         0       3  ...   7.2500   NaN         S\n",
              "1            2         1       1  ...  71.2833   C85         C\n",
              "2            3         1       3  ...   7.9250   NaN         S\n",
              "3            4         1       1  ...  53.1000  C123         S\n",
              "4            5         0       3  ...   8.0500   NaN         S\n",
              "5            6         0       3  ...   8.4583   NaN         Q\n",
              "6            7         0       1  ...  51.8625   E46         S\n",
              "7            8         0       3  ...  21.0750   NaN         S\n",
              "8            9         1       3  ...  11.1333   NaN         S\n",
              "9           10         1       2  ...  30.0708   NaN         C\n",
              "\n",
              "[10 rows x 12 columns]"
            ]
          },
          "metadata": {
            "tags": []
          },
          "execution_count": 88
        }
      ]
    },
    {
      "cell_type": "markdown",
      "metadata": {
        "id": "VBZd-6GJOBLD"
      },
      "source": [
        "**CQ** Ersätt null med lämpliga värden baserat på andra variabler i ert dataset.\n",
        "\n",
        ">a. För att beräkna korrelationen mellan olika variabler i ett dataset kan vi använda pandas inbyggda `corr()`. I nedan kodcell kontrolleras samtliga variabler gentemot varandra.\n",
        ">\n",
        ">b. Varför är det 1.00000 i flera rader?\n",
        "\n",
        ">**Svar:** För att attributet jämförs mot sig själv i matrisen.\n",
        "\n",
        ">c. Vilka kolumner har någon korrelation med varandra? \n",
        ">HINT! En rule of thumb kan sägas vara att varaibler är svagt korrelerande om korrelationskoefficienten (r) är mellan 0,2-0,39, medelkorrelerade >mellan 0,4-0,59, och starkt korrelerade mellan 0,6-0,79, över 0,8 är mycket stark korrelation och 1 är helt beroende variabler. \n",
        "\n",
        ">**Svar:** Negativ svag korrelation mellan survived och klass. Negativ svag mellan ålder och klass. Negativ svag relation mellan ålder och antal syskon/äkta hälft ombord. Positiv stark korrelation mellan # av syskon/äkta hälft ombord och # av föräldrar/barn ombord .\n",
        "\n",
        ">d.Den starkaste korrelationen finns mellan ålder och klass. Vilken typ av korrelation är det (negativ eller positiv) och hur stark?\n",
        ">**Svar:** Negativ svag korrelation -0.369226\n",
        "\n",
        ">e.I cellen under korrelationsberäkningen görs en visualisering av ålder i relation till klass. Vad säger den?\n",
        "\n",
        ">**Svar:** Generellt kan man säga att ju yngre person desto lägre klass färdades personen i (finns dock outliers).\n",
        "\n",
        ">f.Ersätt nullvärdena i age baserat på vad du kom fram till i fråga e. \n",
        ">\n",
        ">"
      ]
    },
    {
      "cell_type": "code",
      "metadata": {
        "id": "iljpkvluOBLD",
        "colab": {
          "base_uri": "https://localhost:8080/",
          "height": 266
        },
        "outputId": "274970ea-0ac9-4b25-9b3c-8c6c2f049cd0"
      },
      "source": [
        "#Ersätt med relevant ålder beroende på korrelerad variabel\n",
        "tc_df.corr()"
      ],
      "execution_count": 89,
      "outputs": [
        {
          "output_type": "execute_result",
          "data": {
            "text/html": [
              "<div>\n",
              "<style scoped>\n",
              "    .dataframe tbody tr th:only-of-type {\n",
              "        vertical-align: middle;\n",
              "    }\n",
              "\n",
              "    .dataframe tbody tr th {\n",
              "        vertical-align: top;\n",
              "    }\n",
              "\n",
              "    .dataframe thead th {\n",
              "        text-align: right;\n",
              "    }\n",
              "</style>\n",
              "<table border=\"1\" class=\"dataframe\">\n",
              "  <thead>\n",
              "    <tr style=\"text-align: right;\">\n",
              "      <th></th>\n",
              "      <th>PassengerId</th>\n",
              "      <th>Survived</th>\n",
              "      <th>Pclass</th>\n",
              "      <th>Age</th>\n",
              "      <th>SibSp</th>\n",
              "      <th>Parch</th>\n",
              "      <th>Fare</th>\n",
              "    </tr>\n",
              "  </thead>\n",
              "  <tbody>\n",
              "    <tr>\n",
              "      <th>PassengerId</th>\n",
              "      <td>1.000000</td>\n",
              "      <td>-0.005007</td>\n",
              "      <td>-0.035144</td>\n",
              "      <td>0.036847</td>\n",
              "      <td>-0.057527</td>\n",
              "      <td>-0.001652</td>\n",
              "      <td>0.012658</td>\n",
              "    </tr>\n",
              "    <tr>\n",
              "      <th>Survived</th>\n",
              "      <td>-0.005007</td>\n",
              "      <td>1.000000</td>\n",
              "      <td>-0.338481</td>\n",
              "      <td>-0.077221</td>\n",
              "      <td>-0.035322</td>\n",
              "      <td>0.081629</td>\n",
              "      <td>0.257307</td>\n",
              "    </tr>\n",
              "    <tr>\n",
              "      <th>Pclass</th>\n",
              "      <td>-0.035144</td>\n",
              "      <td>-0.338481</td>\n",
              "      <td>1.000000</td>\n",
              "      <td>-0.369226</td>\n",
              "      <td>0.083081</td>\n",
              "      <td>0.018443</td>\n",
              "      <td>-0.549500</td>\n",
              "    </tr>\n",
              "    <tr>\n",
              "      <th>Age</th>\n",
              "      <td>0.036847</td>\n",
              "      <td>-0.077221</td>\n",
              "      <td>-0.369226</td>\n",
              "      <td>1.000000</td>\n",
              "      <td>-0.308247</td>\n",
              "      <td>-0.189119</td>\n",
              "      <td>0.096067</td>\n",
              "    </tr>\n",
              "    <tr>\n",
              "      <th>SibSp</th>\n",
              "      <td>-0.057527</td>\n",
              "      <td>-0.035322</td>\n",
              "      <td>0.083081</td>\n",
              "      <td>-0.308247</td>\n",
              "      <td>1.000000</td>\n",
              "      <td>0.414838</td>\n",
              "      <td>0.159651</td>\n",
              "    </tr>\n",
              "    <tr>\n",
              "      <th>Parch</th>\n",
              "      <td>-0.001652</td>\n",
              "      <td>0.081629</td>\n",
              "      <td>0.018443</td>\n",
              "      <td>-0.189119</td>\n",
              "      <td>0.414838</td>\n",
              "      <td>1.000000</td>\n",
              "      <td>0.216225</td>\n",
              "    </tr>\n",
              "    <tr>\n",
              "      <th>Fare</th>\n",
              "      <td>0.012658</td>\n",
              "      <td>0.257307</td>\n",
              "      <td>-0.549500</td>\n",
              "      <td>0.096067</td>\n",
              "      <td>0.159651</td>\n",
              "      <td>0.216225</td>\n",
              "      <td>1.000000</td>\n",
              "    </tr>\n",
              "  </tbody>\n",
              "</table>\n",
              "</div>"
            ],
            "text/plain": [
              "             PassengerId  Survived    Pclass  ...     SibSp     Parch      Fare\n",
              "PassengerId     1.000000 -0.005007 -0.035144  ... -0.057527 -0.001652  0.012658\n",
              "Survived       -0.005007  1.000000 -0.338481  ... -0.035322  0.081629  0.257307\n",
              "Pclass         -0.035144 -0.338481  1.000000  ...  0.083081  0.018443 -0.549500\n",
              "Age             0.036847 -0.077221 -0.369226  ... -0.308247 -0.189119  0.096067\n",
              "SibSp          -0.057527 -0.035322  0.083081  ...  1.000000  0.414838  0.159651\n",
              "Parch          -0.001652  0.081629  0.018443  ...  0.414838  1.000000  0.216225\n",
              "Fare            0.012658  0.257307 -0.549500  ...  0.159651  0.216225  1.000000\n",
              "\n",
              "[7 rows x 7 columns]"
            ]
          },
          "metadata": {
            "tags": []
          },
          "execution_count": 89
        }
      ]
    },
    {
      "cell_type": "code",
      "metadata": {
        "id": "MGunIDaWOBLD",
        "colab": {
          "base_uri": "https://localhost:8080/",
          "height": 514
        },
        "outputId": "fb399143-aad4-4cb5-8c4e-96f028fc58ae"
      },
      "source": [
        "sb.boxplot(x='Pclass', y='Age', data=tc_df, palette='hls')"
      ],
      "execution_count": 90,
      "outputs": [
        {
          "output_type": "execute_result",
          "data": {
            "text/plain": [
              "<matplotlib.axes._subplots.AxesSubplot at 0x7f822edced50>"
            ]
          },
          "metadata": {
            "tags": []
          },
          "execution_count": 90
        },
        {
          "output_type": "display_data",
          "data": {
            "image/png": "[encoded data removed]",
            "text/plain": [
              "<Figure size 720x576 with 1 Axes>"
            ]
          },
          "metadata": {
            "tags": []
          }
        }
      ]
    },
    {
      "cell_type": "code",
      "metadata": {
        "id": "1oMQcmp0OBLE",
        "colab": {
          "base_uri": "https://localhost:8080/"
        },
        "outputId": "61078df0-ad7d-46f1-bcf3-dae93d98923e"
      },
      "source": [
        "print(tc_df.Age.describe())\r\n",
        "print(titanic_passenger_fill_null_median.Age.describe())\r\n",
        "\r\n",
        " # replace null values for Age, based on the Pclass group and median of that Pclass\r\n",
        "tc_df['Age'] = tc_df['Age'].fillna(tc_df.groupby('Pclass')['Age'].transform('median'))\r\n",
        "\r\n",
        "print(tc_df.Age.describe())"
      ],
      "execution_count": 91,
      "outputs": [
        {
          "output_type": "stream",
          "text": [
            "count    714.000000\n",
            "mean      29.699118\n",
            "std       14.526497\n",
            "min        0.420000\n",
            "25%       20.125000\n",
            "50%       28.000000\n",
            "75%       38.000000\n",
            "max       80.000000\n",
            "Name: Age, dtype: float64\n",
            "count    891.000000\n",
            "mean      29.361582\n",
            "std       13.019697\n",
            "min        0.420000\n",
            "25%       22.000000\n",
            "50%       28.000000\n",
            "75%       35.000000\n",
            "max       80.000000\n",
            "Name: Age, dtype: float64\n",
            "count    891.000000\n",
            "mean      29.066409\n",
            "std       13.244532\n",
            "min        0.420000\n",
            "25%       22.000000\n",
            "50%       26.000000\n",
            "75%       37.000000\n",
            "max       80.000000\n",
            "Name: Age, dtype: float64\n"
          ],
          "name": "stdout"
        }
      ]
    },
    {
      "cell_type": "markdown",
      "metadata": {
        "id": "VUHT1FwiOBLE"
      },
      "source": [
        "**Q** Vilket sätt är att föredra?\n",
        "(HINT! kontrollera de vanliga mätvärdena du får med `.describe()` för ert dataset innan och efter ni ersätter nullvärden, dessa bör vara ungefär samma före som efter ex. median/medel/max/min)\n",
        "\n",
        "**Svar:** Vi anser att det andra alternativet där nullvärden ersätts med medianen av respektive Pclass är mer lämplig. Den förändrar inte median, medelvärde eller max/min på ett drastiskt sätt men gör att datan ökar och att vi kan utvinna en bättre modell. Att ta median efter klass ger en mer verklig bild av läget. Däremot bör det tilläggas att ersätta med Age's median ger ett värde närmare den ursprungliga medianen."
      ]
    },
    {
      "cell_type": "markdown",
      "metadata": {
        "id": "4Lua_3d7OBLF"
      },
      "source": [
        "**QC** Det finns en till kolumn med nullvärden \n",
        "\n",
        ">a.Vad är lämpligt att göra med den?\n",
        "\n",
        ">**Svar:** Ta bort kolumn (Cabin) / rader (Embarked)\n",
        "\n",
        ">b.Gör det :)"
      ]
    },
    {
      "cell_type": "code",
      "metadata": {
        "id": "MbNStIGP4fnq"
      },
      "source": [
        "#Handling Cabin\r\n",
        "tc_df.drop('Cabin', axis=1, inplace=True)\r\n",
        "\r\n",
        "# Handling embarked\r\n",
        "tc_df.drop(tc_df[tc_df.Embarked.isnull()].index, axis = 0, inplace=True)"
      ],
      "execution_count": 92,
      "outputs": []
    },
    {
      "cell_type": "markdown",
      "metadata": {
        "id": "WHXLMu8oOBLF"
      },
      "source": [
        "**QC** Analys av varaibler\n",
        "\n",
        "Nu har vi städat vårt dataset är det dags att förbereda det för analys. \n",
        "\n",
        "a. Vilka variabler är överhuvudtaget inte intressanta för huruvida man lever eller dör? Kontrollera i vår korrelationsanalys.(OBS! Alla kolumner finns inte med eftersom det inte går att beräkna korrelation på vissa)\n",
        ">Svar: Variabler som inte är intressanta för oss är: PassengerId, Name, Fare, Ticket, Embarked och SibSp. \n",
        "\n",
        "b.När vi använder logistisk regression vill vi inte att de oberoende variablerna ska vara för korrelerade (beroende) av varandra. Det påverkar resultatet negativt. Därför tittar vi igen på vår korrelationsanalys. För att vi ska tycka korrelationen är för stark bör gränsvärdet ligga runt 0,4, rensa bland era variabler så att det inte finns några oberoende variabler som har en korrelation starkare än 0,4 till någon av de andra oberoende variablerna.\n",
        ">\n"
      ]
    },
    {
      "cell_type": "code",
      "metadata": {
        "id": "tuNAG6-VNUPa",
        "colab": {
          "base_uri": "https://localhost:8080/"
        },
        "outputId": "94b32097-6df4-45d3-f9d7-82127a75a376"
      },
      "source": [
        "# this function can be used to print highly correlated values in order, without perfectly correlated values (1.00...)\r\n",
        "def print_highly_corr(corr_values):\r\n",
        "  sorted_mat = corr_values.unstack().sort_values(ascending=False) # get a sorted matrix for correlation values \r\n",
        "  sorted_mat = sorted_mat[sorted_mat != 1.0] # drop 1.00... values\r\n",
        "  sorted_mat = sorted_mat[sorted_mat > 0.4] # drop values < 0.4\r\n",
        "  print(sorted_mat) # print the sorted matrix\r\n",
        "\r\n",
        "print_highly_corr(tc_df.corr().abs()) # print highly correlated values in order"
      ],
      "execution_count": 93,
      "outputs": [
        {
          "output_type": "stream",
          "text": [
            "Pclass  Fare      0.548193\n",
            "Fare    Pclass    0.548193\n",
            "SibSp   Parch     0.414542\n",
            "Parch   SibSp     0.414542\n",
            "Pclass  Age       0.405549\n",
            "Age     Pclass    0.405549\n",
            "dtype: float64\n"
          ],
          "name": "stdout"
        }
      ]
    },
    {
      "cell_type": "code",
      "metadata": {
        "id": "6veBo_qKNnju"
      },
      "source": [
        "titanic_passengers = tc_df.copy() # we will use this later..."
      ],
      "execution_count": 94,
      "outputs": []
    },
    {
      "cell_type": "code",
      "metadata": {
        "id": "S1aIE67zNVLn",
        "colab": {
          "base_uri": "https://localhost:8080/",
          "height": 173
        },
        "outputId": "cda3876d-7d99-45b8-8cf3-90eb98990be1"
      },
      "source": [
        "# Vi kan se att Fare och Pclass har för hög korrelation, 0,54. Age och Pcclass ligger runt 0,4 så här är det eventuellt möjligt att behålla båda om det är av intresse.\r\n",
        "# SibSp och Parch har 0.41 vilket vi anser väl passerar gränsen på 0,4. \r\n",
        "# print correlation for dataframe\r\n",
        "tc_df.corr()\r\n",
        "\r\n",
        "# Removing unneccessary columns\r\n",
        "tc_df.drop(columns=['PassengerId','Name','Ticket'], inplace =True)\r\n",
        "# Removing columns with to high correlation.\r\n",
        "tc_df.drop(columns=['Fare','SibSp'], inplace =True)\r\n",
        "# print correlation again \r\n",
        "tc_df.corr()"
      ],
      "execution_count": 95,
      "outputs": [
        {
          "output_type": "execute_result",
          "data": {
            "text/html": [
              "<div>\n",
              "<style scoped>\n",
              "    .dataframe tbody tr th:only-of-type {\n",
              "        vertical-align: middle;\n",
              "    }\n",
              "\n",
              "    .dataframe tbody tr th {\n",
              "        vertical-align: top;\n",
              "    }\n",
              "\n",
              "    .dataframe thead th {\n",
              "        text-align: right;\n",
              "    }\n",
              "</style>\n",
              "<table border=\"1\" class=\"dataframe\">\n",
              "  <thead>\n",
              "    <tr style=\"text-align: right;\">\n",
              "      <th></th>\n",
              "      <th>Survived</th>\n",
              "      <th>Pclass</th>\n",
              "      <th>Age</th>\n",
              "      <th>Parch</th>\n",
              "    </tr>\n",
              "  </thead>\n",
              "  <tbody>\n",
              "    <tr>\n",
              "      <th>Survived</th>\n",
              "      <td>1.000000</td>\n",
              "      <td>-0.335549</td>\n",
              "      <td>-0.052051</td>\n",
              "      <td>0.083151</td>\n",
              "    </tr>\n",
              "    <tr>\n",
              "      <th>Pclass</th>\n",
              "      <td>-0.335549</td>\n",
              "      <td>1.000000</td>\n",
              "      <td>-0.405549</td>\n",
              "      <td>0.016824</td>\n",
              "    </tr>\n",
              "    <tr>\n",
              "      <th>Age</th>\n",
              "      <td>-0.052051</td>\n",
              "      <td>-0.405549</td>\n",
              "      <td>1.000000</td>\n",
              "      <td>-0.170089</td>\n",
              "    </tr>\n",
              "    <tr>\n",
              "      <th>Parch</th>\n",
              "      <td>0.083151</td>\n",
              "      <td>0.016824</td>\n",
              "      <td>-0.170089</td>\n",
              "      <td>1.000000</td>\n",
              "    </tr>\n",
              "  </tbody>\n",
              "</table>\n",
              "</div>"
            ],
            "text/plain": [
              "          Survived    Pclass       Age     Parch\n",
              "Survived  1.000000 -0.335549 -0.052051  0.083151\n",
              "Pclass   -0.335549  1.000000 -0.405549  0.016824\n",
              "Age      -0.052051 -0.405549  1.000000 -0.170089\n",
              "Parch     0.083151  0.016824 -0.170089  1.000000"
            ]
          },
          "metadata": {
            "tags": []
          },
          "execution_count": 95
        }
      ]
    },
    {
      "cell_type": "markdown",
      "metadata": {
        "id": "BjmWRFIPOBLF"
      },
      "source": [
        "**QC** Se till att variablerna går att applicera i vald modell.\n",
        "\n",
        "Eftersom vi ska använda logistisk regression måste alla värden vara numeriska, vi behöver alltså ändra våra kategoriska, icke-numeriska variabler till numeriska. Detta görs lämpligen genom ungefär följande kod: `dataframe_without_kategorial_sex = pd.get_dummies(*namnet på ddataframen*, columns=['Sex'], drop_first=True)`\n",
        "\n",
        ">\n",
        ">a. Varför ersätter vi med 0 och 1 istället för 0,1,2,3?\n",
        ">\n",
        ">b. Ersätt övriga kategoriska kolumner med dummyvariabler. \n",
        ">\n",
        ">"
      ]
    },
    {
      "cell_type": "code",
      "metadata": {
        "id": "vQ-Xj_qHO8ly"
      },
      "source": [
        "tc_df_without_categorical_sex = pd.get_dummies(tc_df, columns=['Sex'], drop_first=True)"
      ],
      "execution_count": 96,
      "outputs": []
    },
    {
      "cell_type": "code",
      "metadata": {
        "id": "ceP8G_C5OBLF",
        "colab": {
          "base_uri": "https://localhost:8080/",
          "height": 359
        },
        "outputId": "a406022b-1502-4725-de7d-7bbef34b9fe9"
      },
      "source": [
        "#9b: Gör samma sak för övriga kategoriska variabler\n",
        "tc_df_without_categorical_sex = pd.get_dummies(tc_df_without_categorical_sex, columns=['Embarked'], drop_first=True)\n",
        "tc_df_without_categorical_sex.head(10)"
      ],
      "execution_count": 97,
      "outputs": [
        {
          "output_type": "execute_result",
          "data": {
            "text/html": [
              "<div>\n",
              "<style scoped>\n",
              "    .dataframe tbody tr th:only-of-type {\n",
              "        vertical-align: middle;\n",
              "    }\n",
              "\n",
              "    .dataframe tbody tr th {\n",
              "        vertical-align: top;\n",
              "    }\n",
              "\n",
              "    .dataframe thead th {\n",
              "        text-align: right;\n",
              "    }\n",
              "</style>\n",
              "<table border=\"1\" class=\"dataframe\">\n",
              "  <thead>\n",
              "    <tr style=\"text-align: right;\">\n",
              "      <th></th>\n",
              "      <th>Survived</th>\n",
              "      <th>Pclass</th>\n",
              "      <th>Age</th>\n",
              "      <th>Parch</th>\n",
              "      <th>Sex_male</th>\n",
              "      <th>Embarked_Q</th>\n",
              "      <th>Embarked_S</th>\n",
              "    </tr>\n",
              "  </thead>\n",
              "  <tbody>\n",
              "    <tr>\n",
              "      <th>0</th>\n",
              "      <td>0</td>\n",
              "      <td>3</td>\n",
              "      <td>22.0</td>\n",
              "      <td>0</td>\n",
              "      <td>1</td>\n",
              "      <td>0</td>\n",
              "      <td>1</td>\n",
              "    </tr>\n",
              "    <tr>\n",
              "      <th>1</th>\n",
              "      <td>1</td>\n",
              "      <td>1</td>\n",
              "      <td>38.0</td>\n",
              "      <td>0</td>\n",
              "      <td>0</td>\n",
              "      <td>0</td>\n",
              "      <td>0</td>\n",
              "    </tr>\n",
              "    <tr>\n",
              "      <th>2</th>\n",
              "      <td>1</td>\n",
              "      <td>3</td>\n",
              "      <td>26.0</td>\n",
              "      <td>0</td>\n",
              "      <td>0</td>\n",
              "      <td>0</td>\n",
              "      <td>1</td>\n",
              "    </tr>\n",
              "    <tr>\n",
              "      <th>3</th>\n",
              "      <td>1</td>\n",
              "      <td>1</td>\n",
              "      <td>35.0</td>\n",
              "      <td>0</td>\n",
              "      <td>0</td>\n",
              "      <td>0</td>\n",
              "      <td>1</td>\n",
              "    </tr>\n",
              "    <tr>\n",
              "      <th>4</th>\n",
              "      <td>0</td>\n",
              "      <td>3</td>\n",
              "      <td>35.0</td>\n",
              "      <td>0</td>\n",
              "      <td>1</td>\n",
              "      <td>0</td>\n",
              "      <td>1</td>\n",
              "    </tr>\n",
              "    <tr>\n",
              "      <th>5</th>\n",
              "      <td>0</td>\n",
              "      <td>3</td>\n",
              "      <td>24.0</td>\n",
              "      <td>0</td>\n",
              "      <td>1</td>\n",
              "      <td>1</td>\n",
              "      <td>0</td>\n",
              "    </tr>\n",
              "    <tr>\n",
              "      <th>6</th>\n",
              "      <td>0</td>\n",
              "      <td>1</td>\n",
              "      <td>54.0</td>\n",
              "      <td>0</td>\n",
              "      <td>1</td>\n",
              "      <td>0</td>\n",
              "      <td>1</td>\n",
              "    </tr>\n",
              "    <tr>\n",
              "      <th>7</th>\n",
              "      <td>0</td>\n",
              "      <td>3</td>\n",
              "      <td>2.0</td>\n",
              "      <td>1</td>\n",
              "      <td>1</td>\n",
              "      <td>0</td>\n",
              "      <td>1</td>\n",
              "    </tr>\n",
              "    <tr>\n",
              "      <th>8</th>\n",
              "      <td>1</td>\n",
              "      <td>3</td>\n",
              "      <td>27.0</td>\n",
              "      <td>2</td>\n",
              "      <td>0</td>\n",
              "      <td>0</td>\n",
              "      <td>1</td>\n",
              "    </tr>\n",
              "    <tr>\n",
              "      <th>9</th>\n",
              "      <td>1</td>\n",
              "      <td>2</td>\n",
              "      <td>14.0</td>\n",
              "      <td>0</td>\n",
              "      <td>0</td>\n",
              "      <td>0</td>\n",
              "      <td>0</td>\n",
              "    </tr>\n",
              "  </tbody>\n",
              "</table>\n",
              "</div>"
            ],
            "text/plain": [
              "   Survived  Pclass   Age  Parch  Sex_male  Embarked_Q  Embarked_S\n",
              "0         0       3  22.0      0         1           0           1\n",
              "1         1       1  38.0      0         0           0           0\n",
              "2         1       3  26.0      0         0           0           1\n",
              "3         1       1  35.0      0         0           0           1\n",
              "4         0       3  35.0      0         1           0           1\n",
              "5         0       3  24.0      0         1           1           0\n",
              "6         0       1  54.0      0         1           0           1\n",
              "7         0       3   2.0      1         1           0           1\n",
              "8         1       3  27.0      2         0           0           1\n",
              "9         1       2  14.0      0         0           0           0"
            ]
          },
          "metadata": {
            "tags": []
          },
          "execution_count": 97
        }
      ]
    },
    {
      "cell_type": "markdown",
      "metadata": {
        "id": "5S15EILhOBLF"
      },
      "source": [
        "**QC** Skapa modell, träna och testa (här behöver ni själva skapa ett antal kodblock för de olika deluppgifterna.)\n",
        "\n",
        "(OBS! Se till att ni döper era variabler till X-train, X_test,y_train,y_test annars fungerar inte utvärderingskoden)\n",
        "\n",
        ">\n",
        ">a. Starta med att formatera data så att du skapar X och y där y är den beroende variabeln survival och X är samtliga beroende variabler (de som ni bestämt er för att ha kvar i ert dataset)\n",
        ">\n",
        ">b. Dela i träning (80%) och test (20%)\n",
        ">\n",
        ">c. Har vi tillräckligt med data för att kunna träna vår modell eller måste vi ta bort fler kolumner? HINT! en rule of thumb säger minst 50 rader per oberoende variabel.\n",
        "\n",
        ">**Svar:** Ja vi har tillräckligt med data. 711 per oberoende variabel.\n",
        "\n",
        ">d.Skapa och träna modell (kod finns för starten)\n",
        ">\n",
        ">e.Testa modell på träningsdata\n",
        ">\n",
        ">f. Vad är sannolikheten för att en kvinna, ålder 34, med två barn som reser i 2:a klass med sin man överlever? \n",
        "\n",
        ">**Svar:** Prediktionen säger att hon överlever. Sannolikheten är ca 76%.\n"
      ]
    },
    {
      "cell_type": "code",
      "metadata": {
        "id": "fP569zUxQSe9"
      },
      "source": [
        "# a\r\n",
        "X = tc_df_without_categorical_sex[['Age', 'Sex_male', 'Embarked_Q', 'Embarked_S','Parch', 'Pclass']]\r\n",
        "y = tc_df_without_categorical_sex['Survived']"
      ],
      "execution_count": 98,
      "outputs": []
    },
    {
      "cell_type": "code",
      "metadata": {
        "id": "kpmRNDVMQZU7",
        "colab": {
          "base_uri": "https://localhost:8080/"
        },
        "outputId": "36b65076-9352-449b-e582-5f709586d0fe"
      },
      "source": [
        "# b \r\n",
        "\r\n",
        "X_train, X_test, y_train, y_test = train_test_split(X, y, test_size=0.20, random_state=42) \r\n",
        "# c\r\n",
        "# 711 rows per X_train column\r\n",
        "print(len(X_train.Age))\r\n",
        "print(len(X_train.Sex_male))\r\n",
        "print(len(X_train.Embarked_Q))\r\n",
        "print(len(X_train.Embarked_S))\r\n",
        "print(len(X_train.Parch))\r\n",
        "print(len(X_train.Pclass))\r\n",
        "print(\"Our training data has {} rows\".format(len(X_train)))\r\n",
        "print(\"Our test data has {} rows\".format(len(X_test)))"
      ],
      "execution_count": 99,
      "outputs": [
        {
          "output_type": "stream",
          "text": [
            "711\n",
            "711\n",
            "711\n",
            "711\n",
            "711\n",
            "711\n",
            "Our training data has 711 rows\n",
            "Our test data has 178 rows\n"
          ],
          "name": "stdout"
        }
      ]
    },
    {
      "cell_type": "code",
      "metadata": {
        "id": "5jyylGo_OBLF",
        "colab": {
          "base_uri": "https://localhost:8080/"
        },
        "outputId": "433f52d2-8354-466d-8a62-59e8dd7c0a4e"
      },
      "source": [
        "#Startkod för uppgift d) skapa och träna modell\n",
        "log_reg = LogisticRegression() \n",
        "# train data,\n",
        "log_reg.fit(X_train,y_train)"
      ],
      "execution_count": 100,
      "outputs": [
        {
          "output_type": "execute_result",
          "data": {
            "text/plain": [
              "LogisticRegression(C=1.0, class_weight=None, dual=False, fit_intercept=True,\n",
              "                   intercept_scaling=1, l1_ratio=None, max_iter=100,\n",
              "                   multi_class='auto', n_jobs=None, penalty='l2',\n",
              "                   random_state=None, solver='lbfgs', tol=0.0001, verbose=0,\n",
              "                   warm_start=False)"
            ]
          },
          "metadata": {
            "tags": []
          },
          "execution_count": 100
        }
      ]
    },
    {
      "cell_type": "code",
      "metadata": {
        "id": "XjjkvGKiQqE9",
        "colab": {
          "base_uri": "https://localhost:8080/"
        },
        "outputId": "2104ab12-0323-46d3-cb58-cd34a8755f96"
      },
      "source": [
        "#e test model \r\n",
        "y_pred = log_reg.predict(X_test)\r\n",
        "\r\n",
        "# print classification report\r\n",
        "print('Accuracy of logistic regression classifier on test set: {:.2f}'.format(log_reg.score(X_test, y_test)))\r\n",
        "print(classification_report(y_test, y_pred))"
      ],
      "execution_count": 101,
      "outputs": [
        {
          "output_type": "stream",
          "text": [
            "Accuracy of logistic regression classifier on test set: 0.79\n",
            "              precision    recall  f1-score   support\n",
            "\n",
            "           0       0.85      0.80      0.82       109\n",
            "           1       0.71      0.78      0.74        69\n",
            "\n",
            "    accuracy                           0.79       178\n",
            "   macro avg       0.78      0.79      0.78       178\n",
            "weighted avg       0.80      0.79      0.79       178\n",
            "\n"
          ],
          "name": "stdout"
        }
      ]
    },
    {
      "cell_type": "code",
      "metadata": {
        "id": "2tQsnu7KQvbQ",
        "colab": {
          "base_uri": "https://localhost:8080/"
        },
        "outputId": "d37227e6-2fb0-48d2-b062-432ba5b0806e"
      },
      "source": [
        "# X with female age 34 with a husband, and two children. \r\n",
        "custom_X_data = {'Age': 34, \"Sex_male\": 0, 'Embarked_Q': 0, 'Embarked_S': 0, 'Parch':3, 'Pclass': 2} # another version if we still have Parch as value \r\n",
        "\r\n",
        "temp_df = pd.DataFrame(custom_X_data, index=[0])\r\n",
        "np_X = temp_df.to_numpy().reshape(1, -1)\r\n",
        "print(np_X)\r\n",
        "# use the model to predict outcome\r\n",
        "custom_y_pred = log_reg.predict(np_X)\r\n",
        "# use model to predict probability \r\n",
        "y_prob = log_reg.predict_proba(np_X)\r\n",
        "# print outcome and probability\r\n",
        "print(f'Survived: {custom_y_pred[0]}')\r\n",
        "print(f'Probability to die: {round(y_prob[0][0]*100, 2)}\\nProbability to live: {round(y_prob[0][1]*100, 2)}')"
      ],
      "execution_count": 102,
      "outputs": [
        {
          "output_type": "stream",
          "text": [
            "[[34  0  0  0  3  2]]\n",
            "Survived: 1\n",
            "Probability to die: 24.05\n",
            "Probability to live: 75.95\n"
          ],
          "name": "stdout"
        }
      ]
    },
    {
      "cell_type": "markdown",
      "metadata": {
        "id": "oSEEhKhJOBLG"
      },
      "source": [
        "**QC** Utvärdera modell\n",
        "\n",
        "I nedanstående kodblock utvärderas klassificeringsmodellen på några olika sätt. \n",
        "\n",
        ">\n",
        ">a. Vilka sätt att utvärdera en klassificeringsmodell är kodade nedan?\n",
        "\n",
        ">**Svar:** Confusion matrix och Classification report. Confusion matrix är en utvärdering där output kan vara två eller flera klasser. Confusion matrix skapar en matris med fyra kombinationer av förutspådda värden och faktiska värden.\n",
        "Classification report återger följande viktiga mått i ett klassificeringsproblem:\n",
        "\n",
        "*   Precision är mätning av klassificeringsalgoritmens exakthet.\n",
        "*   Recall mäter klassificerarens kompletthet, vilket innebär dess förmåga att korrekt hitta samtliga positiva instanser. \n",
        "*   F1 score mäter precision och recall på en skala där 1.0 är bästa resultatet och 0.0 är det sämsta. F1 score bör användas för att jämföra klassificeringsmodeller, inte för att mäta global noggrannhet.\n",
        "*   Support mäter antalet förekomster av en viss klass i ens dataset. En dålig balans i träningsdata kan betyda att det finns en strukturell svaghet i de rapporterade mätningarna, man kan då behöva se över\n",
        "balanseringen och ens provtagning.\n",
        "\n",
        ">b. För varje utvärderingsmetod som är kodad (Confusion matrix  och Classification report), vad säger de om den klassificerare ni tränat? \n",
        "\n",
        "> **Svar:** Confusion Matrix säger att vi har förutspått 87 sanna positiva, 22 falska positiva, 15 falska negativa, samt 54 sanna negativa värden. Weighted avg för mätvärdena ligger mellan 0.79-0.80. Klassificeringsrapporten återger liknande resultat fast procentuellt, där F1 score ger en bra sammanfattande bild på precision och recall. \n",
        "\n",
        ">c. Vad är er bedömning av er klassificerare (bra/dålig) vad baserar ni detta på och varför? \n",
        "\n",
        ">**Svar:** Vi anser att klassificeraren är ganska bra. Utvärderingsmetoderna visar att klassificeraren är relativt tillförlitlig, där majoriteten av svaren blir sanna positiva/negativa framför tvärtom. Vi anser att den är bra med tanke på datamängden, samt osäkerheten i det vi försöker förutspå. Eftersom det inte finns någon självklar väg att ta i förutsägelsen så anser vi att modellen fungerar bra så länge den kan producera trovärdiga resultat baserat på enskilda tester (som vi provade med kvinna i ålder 34...), men också riktiga testdata, vilket den gör. "
      ]
    },
    {
      "cell_type": "code",
      "metadata": {
        "id": "yP12nHefOBLG",
        "colab": {
          "base_uri": "https://localhost:8080/"
        },
        "outputId": "79156217-70d0-4c56-a2b1-f3dff37fa49b"
      },
      "source": [
        "from sklearn.metrics import confusion_matrix\n",
        "confusion_matrix = confusion_matrix(y_test, y_pred)\n",
        "confusion_matrix"
      ],
      "execution_count": 103,
      "outputs": [
        {
          "output_type": "execute_result",
          "data": {
            "text/plain": [
              "array([[87, 22],\n",
              "       [15, 54]])"
            ]
          },
          "metadata": {
            "tags": []
          },
          "execution_count": 103
        }
      ]
    },
    {
      "cell_type": "code",
      "metadata": {
        "id": "OZ1kvwZ9OBLH",
        "colab": {
          "base_uri": "https://localhost:8080/",
          "height": 630
        },
        "outputId": "334c0b31-e0a4-45c2-f429-536331401940"
      },
      "source": [
        "class_names=[0,1] # name  of classes\n",
        "fig, ax = plt.subplots()\n",
        "tick_marks = np.arange(len(class_names))\n",
        "plt.xticks(tick_marks, class_names)\n",
        "plt.yticks(tick_marks, class_names)\n",
        "# create heatmap\n",
        "sb.heatmap(pd.DataFrame(confusion_matrix), annot=True, cmap=\"YlGnBu\" ,fmt='g')\n",
        "ax.xaxis.set_label_position(\"top\")\n",
        "plt.tight_layout()\n",
        "plt.title('Confusion matrix', y=1.1)\n",
        "plt.ylabel('Actual label')\n",
        "plt.xlabel('Predicted label')"
      ],
      "execution_count": 104,
      "outputs": [
        {
          "output_type": "execute_result",
          "data": {
            "text/plain": [
              "Text(0.5, 510.88, 'Predicted label')"
            ]
          },
          "metadata": {
            "tags": []
          },
          "execution_count": 104
        },
        {
          "output_type": "display_data",
          "data": {
            "image/png": "[encoded data removed]",
            "text/plain": [
              "<Figure size 720x576 with 2 Axes>"
            ]
          },
          "metadata": {
            "tags": []
          }
        }
      ]
    },
    {
      "cell_type": "code",
      "metadata": {
        "id": "Ljvjr7MkOBLH",
        "colab": {
          "base_uri": "https://localhost:8080/"
        },
        "outputId": "fe8771ca-f595-4061-a20b-9f5c7a2b22a2"
      },
      "source": [
        "print(classification_report(y_test, y_pred))"
      ],
      "execution_count": 105,
      "outputs": [
        {
          "output_type": "stream",
          "text": [
            "              precision    recall  f1-score   support\n",
            "\n",
            "           0       0.85      0.80      0.82       109\n",
            "           1       0.71      0.78      0.74        69\n",
            "\n",
            "    accuracy                           0.79       178\n",
            "   macro avg       0.78      0.79      0.78       178\n",
            "weighted avg       0.80      0.79      0.79       178\n",
            "\n"
          ],
          "name": "stdout"
        }
      ]
    },
    {
      "cell_type": "markdown",
      "metadata": {
        "id": "HroeCn1aOBLH"
      },
      "source": [
        "### Desicion trees för att bestämma vilka som överlever\n",
        "\n",
        "Vi ska också testa att använda ett beslutsträd för att bestämma vilka som överlever. Koden för detta är redan given nedan. Dock ska ni besvara några frågor kring beslutsträd och jämföra resultatet mellan de två klassificerarna. \n",
        "\n",
        "**QC** Följande frågor ska besvaras, vissa kan kräva att ni skriver kod. Ni ska också (kortfattat) kommentera koden så att det framgår vad som görs.\n",
        "\n",
        ">\n",
        ">a. Vilka oberoende variabler (features) används i beslutsträdet för att avgöra vem som överlever?\n",
        "\n",
        ">**Svar:** Sex_male, SibSp, Age, Fare används som variabler i beslutsträdet. \n",
        "\n",
        ">b.Hur många män respektive kvinnor överlever i prediktionen om du testar att prediktera med endast de 10 första raderna som sample (OBS! Kräver kod)\n",
        "\n",
        ">**Svar:** Efter att ha provkört koden ett par gånger så varierar resultatet lite, men det tycks alltid vara flest kvinnor som överlever. Exempel på några resultat:\n",
        "*   3 kvinnor överlever, 0 män\n",
        "*   5 kvinnor överlever, 0 män\n",
        "*   3 kvinnor överlever, 1 man\n",
        "\n",
        ">c. Hur många felaktiga respektive korrekta prediktioner gör beslutsträdet i jämförelse med den logistiska regressionen?\n",
        "\n",
        ">**Svar:** \n",
        "\n",
        "*   117 sanna positiva (87%), 18 falska positiva, 23 falska negativa, 65 sanna negativa (74%) för beslutsträdet. \n",
        "*   Logistiska regressionen fick: 88 sanna positiva (84%), 17 falska positiva, 19 falska negativa, samt 55 sanna negativa värden (74%). \n",
        "\n",
        "\n",
        ">d. Vilken av algoritmerna är \"bäst? för uppgiften?\n",
        "\n",
        ">**Svar:** Beslutsträdet får varierande resultat varje gång man kör koden, vilket tyder på viss opålitlighet i algoritmen. Resultaten för accuracy, recall och f1-score blir dock väldigt likt det vi fick för logistisk regression. \n",
        "Vi anser att logistisk regression är bättre för uppgiften delvis för att variablerna som används medför en del \"data noise\" som beslutsträd är sårbara för. Beslutsträdet kan lätt \"overfitta\" vår data - Overfitting handlar om att ha omedvetet extraherat en del av data noise, dvs. den oförklarliga variansfraktionen i ens data, som om den variationen representerade en underliggande modellstruktur.\n",
        "\n",
        ">Eftersom tre av de avgörande variabelerna är ålder, SibSp och Fare och att dessa är kontinuerliga så passar också Logistisk regression. Kategorisk data fungerar generellt bättre i beslutsträd, medan kontinuerlig data fungerar väl med logistisk regression. \n",
        "\n",
        ">Två argument för beslutsträdet är att könet är den mest avgörande variabeln och denna är kategorisk, samt att denna algoritm är bra på att hantera outliers. Man kan anse att det finns många outliers i ålder-variabeln, men styrkorna hos logistisk regression överväger styrkorna för beslutsträd, anser vi.\n",
        "\n",
        ">e. Vilka svagheter respektive styrkor har de båda modellerna i jämförelse med varandra?\n",
        "\n",
        ">**Svar:** Logistisk regression söker efter linjära beslutsgränser, medan ett beslutsträd delar upp och använder sig av axeljusterade linjära beslutsgränser. Beslutsträd är därför bra när ens datapunkter inte lätt\n",
        "separeras av ett \"hyperplan\". När klasser inte är separerade på ett bra sätt blir beslutsträd lätt sårbara för overfitting av träningsdatan. I dessa fall kan logistisk regressions mer linjära gräns \n",
        "generalisera på ett lämpligare sätt. Det går att bekämpa overfitting för beslutsträd genom att använda sig av \"pruning\". \n",
        "\n",
        ">Beslutsträd är lättare att tolka och kan även användas på mindre dataset. Nackdelarna är att de är mer sårbara för overfitting och \"data noise\". \n",
        "Logistisk regression är mer robust mot data noise och overfitting, men kräver en större mängd data. \n",
        "\n",
        "\n",
        ">f.Hur har beslutsträdet \"tänkt\" för att komma fram till modellen?\n",
        "\n",
        ">**Svar:** Beslutsträdet delas in i klasserna Alive (blå) och Dead (orange). Baserat på variablernas värden så kan utfallet antingen gå vidare till den blå eller orangea klassen för Survived. \n",
        "Beslutsträdet utgår från de olika korrelationerna och har kommit fram till att det mest avgörande (toppen av trädet) är könet, därefter avgör den om SibSp är <= 2.5 och om den är det så avgör den också om Fare är <= 36.688, annars ifall SibSp är > 2.5 så kontrollerar den ifall Fare är <= 21.038. \n",
        "Andra \"sidan\" av trädet utgår från könet och sedan utifrån om Age är <= 6.5, om det är fallet så kollar den om SibSp är <= 2.5, om Age är > 6.5 så kontrollerar den om Fare är <= 26.269. \n",
        ">\n"
      ]
    },
    {
      "cell_type": "code",
      "metadata": {
        "id": "N7GdbfAdOBLH"
      },
      "source": [
        "from graphviz import Source \n",
        "from sklearn.tree import export_graphviz \n",
        "from sklearn import tree\n",
        "from sklearn.tree import DecisionTreeClassifier "
      ],
      "execution_count": 106,
      "outputs": []
    },
    {
      "cell_type": "code",
      "metadata": {
        "id": "rjISodt3OBLI",
        "colab": {
          "base_uri": "https://localhost:8080/"
        },
        "outputId": "f17f0392-3a01-4e7a-96af-feafbe219279"
      },
      "source": [
        "survived_data = titanic_passengers.Survived #detta motsvarar y\n",
        "titanic_passengers = pd.get_dummies(titanic_passengers, columns=['Sex'], drop_first=True) # turn sex column into dummies for this dataframe \n",
        "titanic_passengers = titanic_passengers[['Sex_male', 'Fare', 'Age', 'SibSp']] #motsvarar X\n",
        "titanic_passengers.info()\n"
      ],
      "execution_count": 107,
      "outputs": [
        {
          "output_type": "stream",
          "text": [
            "<class 'pandas.core.frame.DataFrame'>\n",
            "Int64Index: 889 entries, 0 to 890\n",
            "Data columns (total 4 columns):\n",
            " #   Column    Non-Null Count  Dtype  \n",
            "---  ------    --------------  -----  \n",
            " 0   Sex_male  889 non-null    uint8  \n",
            " 1   Fare      889 non-null    float64\n",
            " 2   Age       889 non-null    float64\n",
            " 3   SibSp     889 non-null    int64  \n",
            "dtypes: float64(2), int64(1), uint8(1)\n",
            "memory usage: 28.6 KB\n"
          ],
          "name": "stdout"
        }
      ]
    },
    {
      "cell_type": "code",
      "metadata": {
        "id": "v7kOCZarOBLI",
        "colab": {
          "base_uri": "https://localhost:8080/"
        },
        "outputId": "7768f7bb-e623-4895-adad-7d8e5df08728"
      },
      "source": [
        "X_train, X_test, y_train, y_test = train_test_split(titanic_passengers, survived_data, test_size=0.25)\n",
        "print(\"Our training data has {} rows\".format(len(X_train)))\n",
        "print(\"Our test data has {} rows\".format(len(X_test)))"
      ],
      "execution_count": 108,
      "outputs": [
        {
          "output_type": "stream",
          "text": [
            "Our training data has 666 rows\n",
            "Our test data has 223 rows\n"
          ],
          "name": "stdout"
        }
      ]
    },
    {
      "cell_type": "code",
      "metadata": {
        "id": "aLESDn4EOBLI",
        "colab": {
          "base_uri": "https://localhost:8080/"
        },
        "outputId": "9814b1b3-3602-4d68-b003-7fbef01f47e8"
      },
      "source": [
        "# Importing DecisionTreeClassificer, othweise get's error message\n",
        "from sklearn.tree import DecisionTreeClassifier \n",
        "# Creating DecisionTreeClassifier with 3 as max depth (which means we get 3 levels of siblings/nodes/branches below the top)\n",
        "classifier = DecisionTreeClassifier(max_depth=3)\n",
        "# Fit's the decision tree with training values\n",
        "classifier.fit(X_train.values, y_train.values)"
      ],
      "execution_count": 109,
      "outputs": [
        {
          "output_type": "execute_result",
          "data": {
            "text/plain": [
              "DecisionTreeClassifier(ccp_alpha=0.0, class_weight=None, criterion='gini',\n",
              "                       max_depth=3, max_features=None, max_leaf_nodes=None,\n",
              "                       min_impurity_decrease=0.0, min_impurity_split=None,\n",
              "                       min_samples_leaf=1, min_samples_split=2,\n",
              "                       min_weight_fraction_leaf=0.0, presort='deprecated',\n",
              "                       random_state=None, splitter='best')"
            ]
          },
          "metadata": {
            "tags": []
          },
          "execution_count": 109
        }
      ]
    },
    {
      "cell_type": "code",
      "metadata": {
        "id": "sRBPYCpHOBLI"
      },
      "source": [
        "# Predicts y\r\n",
        "y_pred = classifier.predict(X_test.values)"
      ],
      "execution_count": 110,
      "outputs": []
    },
    {
      "cell_type": "code",
      "metadata": {
        "id": "lKEk-upUOBLI",
        "colab": {
          "base_uri": "https://localhost:8080/"
        },
        "outputId": "bfac2b21-af67-4f64-e7dc-b035b3733524"
      },
      "source": [
        "# Creating Confusion Matrix for the model\n",
        "from sklearn.metrics import confusion_matrix\n",
        "confusion_matrix = confusion_matrix(y_test.values, y_pred)\n",
        "confusion_matrix"
      ],
      "execution_count": 111,
      "outputs": [
        {
          "output_type": "execute_result",
          "data": {
            "text/plain": [
              "array([[121,  15],\n",
              "       [ 25,  62]])"
            ]
          },
          "metadata": {
            "tags": []
          },
          "execution_count": 111
        }
      ]
    },
    {
      "cell_type": "code",
      "metadata": {
        "id": "g9jQ0D76OBLI",
        "colab": {
          "base_uri": "https://localhost:8080/"
        },
        "outputId": "629f36f4-5ea6-44cf-db16-3c569980497d"
      },
      "source": [
        "# Classification report for the model\r\n",
        "print(classification_report(y_test, y_pred))"
      ],
      "execution_count": 112,
      "outputs": [
        {
          "output_type": "stream",
          "text": [
            "              precision    recall  f1-score   support\n",
            "\n",
            "           0       0.83      0.89      0.86       136\n",
            "           1       0.81      0.71      0.76        87\n",
            "\n",
            "    accuracy                           0.82       223\n",
            "   macro avg       0.82      0.80      0.81       223\n",
            "weighted avg       0.82      0.82      0.82       223\n",
            "\n"
          ],
          "name": "stdout"
        }
      ]
    },
    {
      "cell_type": "code",
      "metadata": {
        "id": "gOtzvP2KOBLI",
        "colab": {
          "base_uri": "https://localhost:8080/",
          "height": 598
        },
        "outputId": "54f5ea6e-ee22-46be-d3ad-4350eb3bf63c"
      },
      "source": [
        "tree_plot = Source(tree.export_graphviz(classifier, out_file=None, \n",
        "                            feature_names=X_train.columns, class_names=['Dead', 'Alive'], \n",
        "                            filled=True, rounded=True, special_characters=True))\n",
        "tree_plot"
      ],
      "execution_count": 113,
      "outputs": [
        {
          "output_type": "execute_result",
          "data": {
            "text/plain": [
              "<graphviz.files.Source at 0x7f822eae0f10>"
            ],
            "image/svg+xml": "<?xml version=\"1.0\" encoding=\"UTF-8\" standalone=\"no\"?>\n<!DOCTYPE svg PUBLIC \"-//W3C//DTD SVG 1.1//EN\"\n \"http://www.w3.org/Graphics/SVG/1.1/DTD/svg11.dtd\">\n<!-- Generated by graphviz version 2.40.1 (20161225.0304)\n -->\n<!-- Title: Tree Pages: 1 -->\n<svg width=\"1025pt\" height=\"433pt\"\n viewBox=\"0.00 0.00 1025.00 433.00\" xmlns=\"http://www.w3.org/2000/svg\" xmlns:xlink=\"http://www.w3.org/1999/xlink\">\n<g id=\"graph0\" class=\"graph\" transform=\"scale(1 1) rotate(0) translate(4 429)\">\n<title>Tree</title>\n<polygon fill=\"#ffffff\" stroke=\"transparent\" points=\"-4,4 -4,-429 1021,-429 1021,4 -4,4\"/>\n<!-- 0 -->\n<g id=\"node1\" class=\"node\">\n<title>0</title>\n<path fill=\"#f5ceb2\" stroke=\"#000000\" d=\"M545,-425C545,-425 437,-425 437,-425 431,-425 425,-419 425,-413 425,-413 425,-354 425,-354 425,-348 431,-342 437,-342 437,-342 545,-342 545,-342 551,-342 557,-348 557,-354 557,-354 557,-413 557,-413 557,-419 551,-425 545,-425\"/>\n<text text-anchor=\"start\" x=\"440.5\" y=\"-409.8\" font-family=\"Helvetica,sans-Serif\" font-size=\"14.00\" fill=\"#000000\">Sex_male ≤ 0.5</text>\n<text text-anchor=\"start\" x=\"453\" y=\"-394.8\" font-family=\"Helvetica,sans-Serif\" font-size=\"14.00\" fill=\"#000000\">gini = 0.471</text>\n<text text-anchor=\"start\" x=\"443\" y=\"-379.8\" font-family=\"Helvetica,sans-Serif\" font-size=\"14.00\" fill=\"#000000\">samples = 666</text>\n<text text-anchor=\"start\" x=\"433\" y=\"-364.8\" font-family=\"Helvetica,sans-Serif\" font-size=\"14.00\" fill=\"#000000\">value = [413, 253]</text>\n<text text-anchor=\"start\" x=\"448.5\" y=\"-349.8\" font-family=\"Helvetica,sans-Serif\" font-size=\"14.00\" fill=\"#000000\">class = Dead</text>\n</g>\n<!-- 1 -->\n<g id=\"node2\" class=\"node\">\n<title>1</title>\n<path fill=\"#82c1ef\" stroke=\"#000000\" d=\"M424,-306C424,-306 324,-306 324,-306 318,-306 312,-300 312,-294 312,-294 312,-235 312,-235 312,-229 318,-223 324,-223 324,-223 424,-223 424,-223 430,-223 436,-229 436,-235 436,-235 436,-294 436,-294 436,-300 430,-306 424,-306\"/>\n<text text-anchor=\"start\" x=\"337\" y=\"-290.8\" font-family=\"Helvetica,sans-Serif\" font-size=\"14.00\" fill=\"#000000\">Fare ≤ 48.2</text>\n<text text-anchor=\"start\" x=\"336\" y=\"-275.8\" font-family=\"Helvetica,sans-Serif\" font-size=\"14.00\" fill=\"#000000\">gini = 0.392</text>\n<text text-anchor=\"start\" x=\"326\" y=\"-260.8\" font-family=\"Helvetica,sans-Serif\" font-size=\"14.00\" fill=\"#000000\">samples = 235</text>\n<text text-anchor=\"start\" x=\"320\" y=\"-245.8\" font-family=\"Helvetica,sans-Serif\" font-size=\"14.00\" fill=\"#000000\">value = [63, 172]</text>\n<text text-anchor=\"start\" x=\"333.5\" y=\"-230.8\" font-family=\"Helvetica,sans-Serif\" font-size=\"14.00\" fill=\"#000000\">class = Alive</text>\n</g>\n<!-- 0&#45;&gt;1 -->\n<g id=\"edge1\" class=\"edge\">\n<title>0&#45;&gt;1</title>\n<path fill=\"none\" stroke=\"#000000\" d=\"M450.0791,-341.8796C441.047,-332.6931 431.3987,-322.8798 422.1112,-313.4336\"/>\n<polygon fill=\"#000000\" stroke=\"#000000\" points=\"424.6023,-310.975 415.0956,-306.2981 419.6107,-315.8827 424.6023,-310.975\"/>\n<text text-anchor=\"middle\" x=\"414.8837\" y=\"-327.5972\" font-family=\"Helvetica,sans-Serif\" font-size=\"14.00\" fill=\"#000000\">True</text>\n</g>\n<!-- 8 -->\n<g id=\"node9\" class=\"node\">\n<title>8</title>\n<path fill=\"#eb9e67\" stroke=\"#000000\" d=\"M672,-306C672,-306 572,-306 572,-306 566,-306 560,-300 560,-294 560,-294 560,-235 560,-235 560,-229 566,-223 572,-223 572,-223 672,-223 672,-223 678,-223 684,-229 684,-235 684,-235 684,-294 684,-294 684,-300 678,-306 672,-306\"/>\n<text text-anchor=\"start\" x=\"587\" y=\"-290.8\" font-family=\"Helvetica,sans-Serif\" font-size=\"14.00\" fill=\"#000000\">Age ≤ 13.0</text>\n<text text-anchor=\"start\" x=\"584\" y=\"-275.8\" font-family=\"Helvetica,sans-Serif\" font-size=\"14.00\" fill=\"#000000\">gini = 0.305</text>\n<text text-anchor=\"start\" x=\"574\" y=\"-260.8\" font-family=\"Helvetica,sans-Serif\" font-size=\"14.00\" fill=\"#000000\">samples = 431</text>\n<text text-anchor=\"start\" x=\"568\" y=\"-245.8\" font-family=\"Helvetica,sans-Serif\" font-size=\"14.00\" fill=\"#000000\">value = [350, 81]</text>\n<text text-anchor=\"start\" x=\"579.5\" y=\"-230.8\" font-family=\"Helvetica,sans-Serif\" font-size=\"14.00\" fill=\"#000000\">class = Dead</text>\n</g>\n<!-- 0&#45;&gt;8 -->\n<g id=\"edge8\" class=\"edge\">\n<title>0&#45;&gt;8</title>\n<path fill=\"none\" stroke=\"#000000\" d=\"M536.8174,-341.8796C547.0294,-332.6031 557.945,-322.6874 568.4376,-313.1559\"/>\n<polygon fill=\"#000000\" stroke=\"#000000\" points=\"570.9384,-315.6127 575.987,-306.2981 566.2316,-310.4313 570.9384,-315.6127\"/>\n<text text-anchor=\"middle\" x=\"574.7884\" y=\"-327.5693\" font-family=\"Helvetica,sans-Serif\" font-size=\"14.00\" fill=\"#000000\">False</text>\n</g>\n<!-- 2 -->\n<g id=\"node3\" class=\"node\">\n<title>2</title>\n<path fill=\"#9fd0f2\" stroke=\"#000000\" d=\"M244,-187C244,-187 144,-187 144,-187 138,-187 132,-181 132,-175 132,-175 132,-116 132,-116 132,-110 138,-104 144,-104 144,-104 244,-104 244,-104 250,-104 256,-110 256,-116 256,-116 256,-175 256,-175 256,-181 250,-187 244,-187\"/>\n<text text-anchor=\"start\" x=\"156.5\" y=\"-171.8\" font-family=\"Helvetica,sans-Serif\" font-size=\"14.00\" fill=\"#000000\">SibSp ≤ 2.5</text>\n<text text-anchor=\"start\" x=\"156\" y=\"-156.8\" font-family=\"Helvetica,sans-Serif\" font-size=\"14.00\" fill=\"#000000\">gini = 0.449</text>\n<text text-anchor=\"start\" x=\"146\" y=\"-141.8\" font-family=\"Helvetica,sans-Serif\" font-size=\"14.00\" fill=\"#000000\">samples = 173</text>\n<text text-anchor=\"start\" x=\"140\" y=\"-126.8\" font-family=\"Helvetica,sans-Serif\" font-size=\"14.00\" fill=\"#000000\">value = [59, 114]</text>\n<text text-anchor=\"start\" x=\"153.5\" y=\"-111.8\" font-family=\"Helvetica,sans-Serif\" font-size=\"14.00\" fill=\"#000000\">class = Alive</text>\n</g>\n<!-- 1&#45;&gt;2 -->\n<g id=\"edge2\" class=\"edge\">\n<title>1&#45;&gt;2</title>\n<path fill=\"none\" stroke=\"#000000\" d=\"M311.8022,-223.3803C296.6262,-213.3473 280.2807,-202.5412 264.7392,-192.2665\"/>\n<polygon fill=\"#000000\" stroke=\"#000000\" points=\"266.4724,-189.2166 256.2003,-186.6213 262.6119,-195.0559 266.4724,-189.2166\"/>\n</g>\n<!-- 5 -->\n<g id=\"node6\" class=\"node\">\n<title>5</title>\n<path fill=\"#47a4e7\" stroke=\"#000000\" d=\"M415.5,-187C415.5,-187 332.5,-187 332.5,-187 326.5,-187 320.5,-181 320.5,-175 320.5,-175 320.5,-116 320.5,-116 320.5,-110 326.5,-104 332.5,-104 332.5,-104 415.5,-104 415.5,-104 421.5,-104 427.5,-110 427.5,-116 427.5,-116 427.5,-175 427.5,-175 427.5,-181 421.5,-187 415.5,-187\"/>\n<text text-anchor=\"start\" x=\"336.5\" y=\"-171.8\" font-family=\"Helvetica,sans-Serif\" font-size=\"14.00\" fill=\"#000000\">SibSp ≤ 5.0</text>\n<text text-anchor=\"start\" x=\"336\" y=\"-156.8\" font-family=\"Helvetica,sans-Serif\" font-size=\"14.00\" fill=\"#000000\">gini = 0.121</text>\n<text text-anchor=\"start\" x=\"330\" y=\"-141.8\" font-family=\"Helvetica,sans-Serif\" font-size=\"14.00\" fill=\"#000000\">samples = 62</text>\n<text text-anchor=\"start\" x=\"328.5\" y=\"-126.8\" font-family=\"Helvetica,sans-Serif\" font-size=\"14.00\" fill=\"#000000\">value = [4, 58]</text>\n<text text-anchor=\"start\" x=\"333.5\" y=\"-111.8\" font-family=\"Helvetica,sans-Serif\" font-size=\"14.00\" fill=\"#000000\">class = Alive</text>\n</g>\n<!-- 1&#45;&gt;5 -->\n<g id=\"edge5\" class=\"edge\">\n<title>1&#45;&gt;5</title>\n<path fill=\"none\" stroke=\"#000000\" d=\"M374,-222.8796C374,-214.6838 374,-205.9891 374,-197.5013\"/>\n<polygon fill=\"#000000\" stroke=\"#000000\" points=\"377.5001,-197.298 374,-187.2981 370.5001,-197.2981 377.5001,-197.298\"/>\n</g>\n<!-- 3 -->\n<g id=\"node4\" class=\"node\">\n<title>3</title>\n<path fill=\"#93caf1\" stroke=\"#000000\" d=\"M112,-68C112,-68 12,-68 12,-68 6,-68 0,-62 0,-56 0,-56 0,-12 0,-12 0,-6 6,0 12,0 12,0 112,0 112,0 118,0 124,-6 124,-12 124,-12 124,-56 124,-56 124,-62 118,-68 112,-68\"/>\n<text text-anchor=\"start\" x=\"28.5\" y=\"-52.8\" font-family=\"Helvetica,sans-Serif\" font-size=\"14.00\" fill=\"#000000\">gini = 0.43</text>\n<text text-anchor=\"start\" x=\"14\" y=\"-37.8\" font-family=\"Helvetica,sans-Serif\" font-size=\"14.00\" fill=\"#000000\">samples = 160</text>\n<text text-anchor=\"start\" x=\"8\" y=\"-22.8\" font-family=\"Helvetica,sans-Serif\" font-size=\"14.00\" fill=\"#000000\">value = [50, 110]</text>\n<text text-anchor=\"start\" x=\"21.5\" y=\"-7.8\" font-family=\"Helvetica,sans-Serif\" font-size=\"14.00\" fill=\"#000000\">class = Alive</text>\n</g>\n<!-- 2&#45;&gt;3 -->\n<g id=\"edge3\" class=\"edge\">\n<title>2&#45;&gt;3</title>\n<path fill=\"none\" stroke=\"#000000\" d=\"M144.8481,-103.9815C133.5324,-94.4232 121.5087,-84.2668 110.2325,-74.7419\"/>\n<polygon fill=\"#000000\" stroke=\"#000000\" points=\"112.4612,-72.0429 102.5633,-68.2637 107.9441,-77.3904 112.4612,-72.0429\"/>\n</g>\n<!-- 4 -->\n<g id=\"node5\" class=\"node\">\n<title>4</title>\n<path fill=\"#f1b991\" stroke=\"#000000\" d=\"M234,-68C234,-68 154,-68 154,-68 148,-68 142,-62 142,-56 142,-56 142,-12 142,-12 142,-6 148,0 154,0 154,0 234,0 234,0 240,0 246,-6 246,-12 246,-12 246,-56 246,-56 246,-62 240,-68 234,-68\"/>\n<text text-anchor=\"start\" x=\"156\" y=\"-52.8\" font-family=\"Helvetica,sans-Serif\" font-size=\"14.00\" fill=\"#000000\">gini = 0.426</text>\n<text text-anchor=\"start\" x=\"150\" y=\"-37.8\" font-family=\"Helvetica,sans-Serif\" font-size=\"14.00\" fill=\"#000000\">samples = 13</text>\n<text text-anchor=\"start\" x=\"152.5\" y=\"-22.8\" font-family=\"Helvetica,sans-Serif\" font-size=\"14.00\" fill=\"#000000\">value = [9, 4]</text>\n<text text-anchor=\"start\" x=\"151.5\" y=\"-7.8\" font-family=\"Helvetica,sans-Serif\" font-size=\"14.00\" fill=\"#000000\">class = Dead</text>\n</g>\n<!-- 2&#45;&gt;4 -->\n<g id=\"edge4\" class=\"edge\">\n<title>2&#45;&gt;4</title>\n<path fill=\"none\" stroke=\"#000000\" d=\"M194,-103.9815C194,-95.618 194,-86.7965 194,-78.3409\"/>\n<polygon fill=\"#000000\" stroke=\"#000000\" points=\"197.5001,-78.2636 194,-68.2637 190.5001,-78.2637 197.5001,-78.2636\"/>\n</g>\n<!-- 6 -->\n<g id=\"node7\" class=\"node\">\n<title>6</title>\n<path fill=\"#40a0e6\" stroke=\"#000000\" d=\"M359.5,-68C359.5,-68 276.5,-68 276.5,-68 270.5,-68 264.5,-62 264.5,-56 264.5,-56 264.5,-12 264.5,-12 264.5,-6 270.5,0 276.5,0 276.5,0 359.5,0 359.5,0 365.5,0 371.5,-6 371.5,-12 371.5,-12 371.5,-56 371.5,-56 371.5,-62 365.5,-68 359.5,-68\"/>\n<text text-anchor=\"start\" x=\"280\" y=\"-52.8\" font-family=\"Helvetica,sans-Serif\" font-size=\"14.00\" fill=\"#000000\">gini = 0.064</text>\n<text text-anchor=\"start\" x=\"274\" y=\"-37.8\" font-family=\"Helvetica,sans-Serif\" font-size=\"14.00\" fill=\"#000000\">samples = 60</text>\n<text text-anchor=\"start\" x=\"272.5\" y=\"-22.8\" font-family=\"Helvetica,sans-Serif\" font-size=\"14.00\" fill=\"#000000\">value = [2, 58]</text>\n<text text-anchor=\"start\" x=\"277.5\" y=\"-7.8\" font-family=\"Helvetica,sans-Serif\" font-size=\"14.00\" fill=\"#000000\">class = Alive</text>\n</g>\n<!-- 5&#45;&gt;6 -->\n<g id=\"edge6\" class=\"edge\">\n<title>5&#45;&gt;6</title>\n<path fill=\"none\" stroke=\"#000000\" d=\"M353.1477,-103.9815C348.7625,-95.2504 344.1267,-86.0202 339.711,-77.2281\"/>\n<polygon fill=\"#000000\" stroke=\"#000000\" points=\"342.8246,-75.6291 335.2087,-68.2637 336.5692,-78.7708 342.8246,-75.6291\"/>\n</g>\n<!-- 7 -->\n<g id=\"node8\" class=\"node\">\n<title>7</title>\n<path fill=\"#e58139\" stroke=\"#000000\" d=\"M478.5,-68C478.5,-68 401.5,-68 401.5,-68 395.5,-68 389.5,-62 389.5,-56 389.5,-56 389.5,-12 389.5,-12 389.5,-6 395.5,0 401.5,0 401.5,0 478.5,0 478.5,0 484.5,0 490.5,-6 490.5,-12 490.5,-12 490.5,-56 490.5,-56 490.5,-62 484.5,-68 478.5,-68\"/>\n<text text-anchor=\"start\" x=\"410.5\" y=\"-52.8\" font-family=\"Helvetica,sans-Serif\" font-size=\"14.00\" fill=\"#000000\">gini = 0.0</text>\n<text text-anchor=\"start\" x=\"400.5\" y=\"-37.8\" font-family=\"Helvetica,sans-Serif\" font-size=\"14.00\" fill=\"#000000\">samples = 2</text>\n<text text-anchor=\"start\" x=\"398.5\" y=\"-22.8\" font-family=\"Helvetica,sans-Serif\" font-size=\"14.00\" fill=\"#000000\">value = [2, 0]</text>\n<text text-anchor=\"start\" x=\"397.5\" y=\"-7.8\" font-family=\"Helvetica,sans-Serif\" font-size=\"14.00\" fill=\"#000000\">class = Dead</text>\n</g>\n<!-- 5&#45;&gt;7 -->\n<g id=\"edge7\" class=\"edge\">\n<title>5&#45;&gt;7</title>\n<path fill=\"none\" stroke=\"#000000\" d=\"M398.576,-103.9815C403.7986,-95.1585 409.3229,-85.8258 414.5763,-76.9506\"/>\n<polygon fill=\"#000000\" stroke=\"#000000\" points=\"417.6364,-78.652 419.7184,-68.2637 411.6126,-75.0863 417.6364,-78.652\"/>\n</g>\n<!-- 9 -->\n<g id=\"node10\" class=\"node\">\n<title>9</title>\n<path fill=\"#c8e4f8\" stroke=\"#000000\" d=\"M668,-187C668,-187 576,-187 576,-187 570,-187 564,-181 564,-175 564,-175 564,-116 564,-116 564,-110 570,-104 576,-104 576,-104 668,-104 668,-104 674,-104 680,-110 680,-116 680,-116 680,-175 680,-175 680,-181 674,-187 668,-187\"/>\n<text text-anchor=\"start\" x=\"584.5\" y=\"-171.8\" font-family=\"Helvetica,sans-Serif\" font-size=\"14.00\" fill=\"#000000\">SibSp ≤ 2.5</text>\n<text text-anchor=\"start\" x=\"584\" y=\"-156.8\" font-family=\"Helvetica,sans-Serif\" font-size=\"14.00\" fill=\"#000000\">gini = 0.487</text>\n<text text-anchor=\"start\" x=\"578\" y=\"-141.8\" font-family=\"Helvetica,sans-Serif\" font-size=\"14.00\" fill=\"#000000\">samples = 31</text>\n<text text-anchor=\"start\" x=\"572\" y=\"-126.8\" font-family=\"Helvetica,sans-Serif\" font-size=\"14.00\" fill=\"#000000\">value = [13, 18]</text>\n<text text-anchor=\"start\" x=\"581.5\" y=\"-111.8\" font-family=\"Helvetica,sans-Serif\" font-size=\"14.00\" fill=\"#000000\">class = Alive</text>\n</g>\n<!-- 8&#45;&gt;9 -->\n<g id=\"edge9\" class=\"edge\">\n<title>8&#45;&gt;9</title>\n<path fill=\"none\" stroke=\"#000000\" d=\"M622,-222.8796C622,-214.6838 622,-205.9891 622,-197.5013\"/>\n<polygon fill=\"#000000\" stroke=\"#000000\" points=\"625.5001,-197.298 622,-187.2981 618.5001,-197.2981 625.5001,-197.298\"/>\n</g>\n<!-- 12 -->\n<g id=\"node13\" class=\"node\">\n<title>12</title>\n<path fill=\"#ea995e\" stroke=\"#000000\" d=\"M871,-187C871,-187 771,-187 771,-187 765,-187 759,-181 759,-175 759,-175 759,-116 759,-116 759,-110 765,-104 771,-104 771,-104 871,-104 871,-104 877,-104 883,-110 883,-116 883,-116 883,-175 883,-175 883,-181 877,-187 871,-187\"/>\n<text text-anchor=\"start\" x=\"775.5\" y=\"-171.8\" font-family=\"Helvetica,sans-Serif\" font-size=\"14.00\" fill=\"#000000\">Fare ≤ 26.269</text>\n<text text-anchor=\"start\" x=\"783\" y=\"-156.8\" font-family=\"Helvetica,sans-Serif\" font-size=\"14.00\" fill=\"#000000\">gini = 0.265</text>\n<text text-anchor=\"start\" x=\"773\" y=\"-141.8\" font-family=\"Helvetica,sans-Serif\" font-size=\"14.00\" fill=\"#000000\">samples = 400</text>\n<text text-anchor=\"start\" x=\"767\" y=\"-126.8\" font-family=\"Helvetica,sans-Serif\" font-size=\"14.00\" fill=\"#000000\">value = [337, 63]</text>\n<text text-anchor=\"start\" x=\"778.5\" y=\"-111.8\" font-family=\"Helvetica,sans-Serif\" font-size=\"14.00\" fill=\"#000000\">class = Dead</text>\n</g>\n<!-- 8&#45;&gt;12 -->\n<g id=\"edge12\" class=\"edge\">\n<title>8&#45;&gt;12</title>\n<path fill=\"none\" stroke=\"#000000\" d=\"M684.1463,-227.3371C705.0946,-214.8103 728.627,-200.7381 750.193,-187.8419\"/>\n<polygon fill=\"#000000\" stroke=\"#000000\" points=\"752.1967,-190.7218 758.983,-182.5856 748.6041,-184.714 752.1967,-190.7218\"/>\n</g>\n<!-- 10 -->\n<g id=\"node11\" class=\"node\">\n<title>10</title>\n<path fill=\"#399de5\" stroke=\"#000000\" d=\"M603.5,-68C603.5,-68 520.5,-68 520.5,-68 514.5,-68 508.5,-62 508.5,-56 508.5,-56 508.5,-12 508.5,-12 508.5,-6 514.5,0 520.5,0 520.5,0 603.5,0 603.5,0 609.5,0 615.5,-6 615.5,-12 615.5,-12 615.5,-56 615.5,-56 615.5,-62 609.5,-68 603.5,-68\"/>\n<text text-anchor=\"start\" x=\"532.5\" y=\"-52.8\" font-family=\"Helvetica,sans-Serif\" font-size=\"14.00\" fill=\"#000000\">gini = 0.0</text>\n<text text-anchor=\"start\" x=\"518\" y=\"-37.8\" font-family=\"Helvetica,sans-Serif\" font-size=\"14.00\" fill=\"#000000\">samples = 17</text>\n<text text-anchor=\"start\" x=\"516.5\" y=\"-22.8\" font-family=\"Helvetica,sans-Serif\" font-size=\"14.00\" fill=\"#000000\">value = [0, 17]</text>\n<text text-anchor=\"start\" x=\"521.5\" y=\"-7.8\" font-family=\"Helvetica,sans-Serif\" font-size=\"14.00\" fill=\"#000000\">class = Alive</text>\n</g>\n<!-- 9&#45;&gt;10 -->\n<g id=\"edge10\" class=\"edge\">\n<title>9&#45;&gt;10</title>\n<path fill=\"none\" stroke=\"#000000\" d=\"M599.6582,-103.9815C594.9598,-95.2504 589.9929,-86.0202 585.2617,-77.2281\"/>\n<polygon fill=\"#000000\" stroke=\"#000000\" points=\"588.2586,-75.4111 580.4379,-68.2637 582.0944,-78.7282 588.2586,-75.4111\"/>\n</g>\n<!-- 11 -->\n<g id=\"node12\" class=\"node\">\n<title>11</title>\n<path fill=\"#e78b48\" stroke=\"#000000\" d=\"M728.5,-68C728.5,-68 645.5,-68 645.5,-68 639.5,-68 633.5,-62 633.5,-56 633.5,-56 633.5,-12 633.5,-12 633.5,-6 639.5,0 645.5,0 645.5,0 728.5,0 728.5,0 734.5,0 740.5,-6 740.5,-12 740.5,-12 740.5,-56 740.5,-56 740.5,-62 734.5,-68 728.5,-68\"/>\n<text text-anchor=\"start\" x=\"649\" y=\"-52.8\" font-family=\"Helvetica,sans-Serif\" font-size=\"14.00\" fill=\"#000000\">gini = 0.133</text>\n<text text-anchor=\"start\" x=\"643\" y=\"-37.8\" font-family=\"Helvetica,sans-Serif\" font-size=\"14.00\" fill=\"#000000\">samples = 14</text>\n<text text-anchor=\"start\" x=\"641.5\" y=\"-22.8\" font-family=\"Helvetica,sans-Serif\" font-size=\"14.00\" fill=\"#000000\">value = [13, 1]</text>\n<text text-anchor=\"start\" x=\"644.5\" y=\"-7.8\" font-family=\"Helvetica,sans-Serif\" font-size=\"14.00\" fill=\"#000000\">class = Dead</text>\n</g>\n<!-- 9&#45;&gt;11 -->\n<g id=\"edge11\" class=\"edge\">\n<title>9&#45;&gt;11</title>\n<path fill=\"none\" stroke=\"#000000\" d=\"M646.2036,-103.9815C651.3471,-95.1585 656.7877,-85.8258 661.9616,-76.9506\"/>\n<polygon fill=\"#000000\" stroke=\"#000000\" points=\"665.013,-78.6656 667.0257,-68.2637 658.9656,-75.1402 665.013,-78.6656\"/>\n</g>\n<!-- 13 -->\n<g id=\"node14\" class=\"node\">\n<title>13</title>\n<path fill=\"#e88e4d\" stroke=\"#000000\" d=\"M871,-68C871,-68 771,-68 771,-68 765,-68 759,-62 759,-56 759,-56 759,-12 759,-12 759,-6 765,0 771,0 771,0 871,0 871,0 877,0 883,-6 883,-12 883,-12 883,-56 883,-56 883,-62 877,-68 871,-68\"/>\n<text text-anchor=\"start\" x=\"783\" y=\"-52.8\" font-family=\"Helvetica,sans-Serif\" font-size=\"14.00\" fill=\"#000000\">gini = 0.167</text>\n<text text-anchor=\"start\" x=\"773\" y=\"-37.8\" font-family=\"Helvetica,sans-Serif\" font-size=\"14.00\" fill=\"#000000\">samples = 294</text>\n<text text-anchor=\"start\" x=\"767\" y=\"-22.8\" font-family=\"Helvetica,sans-Serif\" font-size=\"14.00\" fill=\"#000000\">value = [267, 27]</text>\n<text text-anchor=\"start\" x=\"778.5\" y=\"-7.8\" font-family=\"Helvetica,sans-Serif\" font-size=\"14.00\" fill=\"#000000\">class = Dead</text>\n</g>\n<!-- 12&#45;&gt;13 -->\n<g id=\"edge13\" class=\"edge\">\n<title>12&#45;&gt;13</title>\n<path fill=\"none\" stroke=\"#000000\" d=\"M821,-103.9815C821,-95.618 821,-86.7965 821,-78.3409\"/>\n<polygon fill=\"#000000\" stroke=\"#000000\" points=\"824.5001,-78.2636 821,-68.2637 817.5001,-78.2637 824.5001,-78.2636\"/>\n</g>\n<!-- 14 -->\n<g id=\"node15\" class=\"node\">\n<title>14</title>\n<path fill=\"#f2c29f\" stroke=\"#000000\" d=\"M1005,-68C1005,-68 913,-68 913,-68 907,-68 901,-62 901,-56 901,-56 901,-12 901,-12 901,-6 907,0 913,0 913,0 1005,0 1005,0 1011,0 1017,-6 1017,-12 1017,-12 1017,-56 1017,-56 1017,-62 1011,-68 1005,-68\"/>\n<text text-anchor=\"start\" x=\"921\" y=\"-52.8\" font-family=\"Helvetica,sans-Serif\" font-size=\"14.00\" fill=\"#000000\">gini = 0.449</text>\n<text text-anchor=\"start\" x=\"911\" y=\"-37.8\" font-family=\"Helvetica,sans-Serif\" font-size=\"14.00\" fill=\"#000000\">samples = 106</text>\n<text text-anchor=\"start\" x=\"909\" y=\"-22.8\" font-family=\"Helvetica,sans-Serif\" font-size=\"14.00\" fill=\"#000000\">value = [70, 36]</text>\n<text text-anchor=\"start\" x=\"916.5\" y=\"-7.8\" font-family=\"Helvetica,sans-Serif\" font-size=\"14.00\" fill=\"#000000\">class = Dead</text>\n</g>\n<!-- 12&#45;&gt;14 -->\n<g id=\"edge14\" class=\"edge\">\n<title>12&#45;&gt;14</title>\n<path fill=\"none\" stroke=\"#000000\" d=\"M872.3861,-103.9815C884.2161,-94.4232 896.7864,-84.2668 908.5751,-74.7419\"/>\n<polygon fill=\"#000000\" stroke=\"#000000\" points=\"911.0142,-77.2708 916.5929,-68.2637 906.6149,-71.826 911.0142,-77.2708\"/>\n</g>\n</g>\n</svg>\n"
          },
          "metadata": {
            "tags": []
          },
          "execution_count": 113
        }
      ]
    },
    {
      "cell_type": "code",
      "metadata": {
        "colab": {
          "base_uri": "https://localhost:8080/"
        },
        "id": "K1mBc9O4YzJV",
        "outputId": "d29f8a71-9a03-4ef9-9735-d564867f6dc6"
      },
      "source": [
        "# b.\r\n",
        "ten_sample = X_test.head(10) # get 10 sample passengers\r\n",
        "ten_sample['Survived'] = classifier.predict(ten_sample) # predict the sample \r\n",
        "ten_sample\r\n",
        "\r\n",
        "ten_sample.groupby('Sex_male')['Survived'].value_counts() # show grouped outcome of predicted data\r\n",
        "print(f'Amount of females that survived: {ten_sample.groupby(\"Sex_male\")[\"Survived\"].sum().loc[0]}, amount of males that survived {ten_sample.groupby(\"Sex_male\")[\"Survived\"].sum().loc[1]}')"
      ],
      "execution_count": 114,
      "outputs": [
        {
          "output_type": "stream",
          "text": [
            "Amount of females that survived: 5, amount of males that survived 0\n"
          ],
          "name": "stdout"
        },
        {
          "output_type": "stream",
          "text": [
            "/usr/local/lib/python3.7/dist-packages/ipykernel_launcher.py:3: SettingWithCopyWarning: \n",
            "A value is trying to be set on a copy of a slice from a DataFrame.\n",
            "Try using .loc[row_indexer,col_indexer] = value instead\n",
            "\n",
            "See the caveats in the documentation: https://pandas.pydata.org/pandas-docs/stable/user_guide/indexing.html#returning-a-view-versus-a-copy\n",
            "  This is separate from the ipykernel package so we can avoid doing imports until\n"
          ],
          "name": "stderr"
        }
      ]
    },
    {
      "cell_type": "markdown",
      "metadata": {
        "id": "VKJQF8thOBLJ"
      },
      "source": [
        "*Lämna in länk till kod i colaboratory eller till GitHub repositoriet (med koden exekverad) för rättning.*"
      ]
    }
  ]
}