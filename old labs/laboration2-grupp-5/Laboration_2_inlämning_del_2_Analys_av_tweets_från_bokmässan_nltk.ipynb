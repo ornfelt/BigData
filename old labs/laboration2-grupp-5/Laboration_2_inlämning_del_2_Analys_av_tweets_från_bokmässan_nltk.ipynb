{
  "nbformat": 4,
  "nbformat_minor": 0,
  "metadata": {
    "kernelspec": {
      "display_name": "Python 3",
      "language": "python",
      "name": "python3"
    },
    "language_info": {
      "codemirror_mode": {
        "name": "ipython",
        "version": 3
      },
      "file_extension": ".py",
      "mimetype": "text/x-python",
      "name": "python",
      "nbconvert_exporter": "python",
      "pygments_lexer": "ipython3",
      "version": "3.7.4"
    },
    "latex_envs": {
      "LaTeX_envs_menu_present": true,
      "autoclose": false,
      "autocomplete": true,
      "bibliofile": "biblio.bib",
      "cite_by": "apalike",
      "current_citInitial": 1,
      "eqLabelWithNumbers": true,
      "eqNumInitial": 1,
      "hotkeys": {
        "equation": "Ctrl-E",
        "itemize": "Ctrl-I"
      },
      "labels_anchors": false,
      "latex_user_defs": false,
      "report_style_numbering": false,
      "user_envs_cfg": false
    },
    "nbTranslate": {
      "displayLangs": [],
      "hotkey": "alt-t",
      "langInMainMenu": true,
      "sourceLang": "sv",
      "targetLang": "en",
      "useGoogleTranslate": true
    },
    "colab": {
      "name": "Laboration_2_inlämning_del_2_Analys_av_tweets_från_bokmässan_nltk.ipynb",
      "provenance": [],
      "collapsed_sections": []
    }
  },
  "cells": [
    {
      "cell_type": "markdown",
      "metadata": {
        "id": "view-in-github"
      },
      "source": [
        "<a href=\"https://colab.research.google.com/github/2IS239-Data-Analytics/laboration2-grupp-5/blob/master/Laboration_2_inl%C3%A4mning_del_2_Analys_av_tweets_fr%C3%A5n_bokm%C3%A4ssan_nltk.ipynb\" target=\"_parent\"><img src=\"https://colab.research.google.com/assets/colab-badge.svg\" alt=\"Open In Colab\"/></a>"
      ]
    },
    {
      "cell_type": "markdown",
      "metadata": {
        "id": "uQgJOuoJeZeQ"
      },
      "source": [
        "# Laboration 2 - inlämning del 2 Analys av tweets från bokmässan\n",
        "\n",
        "## Attribution David Johnsson, Uppsala University"
      ]
    },
    {
      "cell_type": "markdown",
      "metadata": {
        "id": "ovnz01qbeZeX"
      },
      "source": [
        "Starta med att ladda in följande moduler och sätt upp visualiseringsmiljön för matplotlib\n",
        "\n",
        "1. `pandas` \n",
        "2. `textmining` \n",
        "Funktioner för statistisk textmining, fokuserad på bag-of-words model (som ni inte behöver sätta er in för denna kurs.f För den nyfikne eller vetgirige finns enkla förklaringar exempelvis [här](https://www.analyticsvidhya.com/blog/2020/02/quick-introduction-bag-of-words-bow-tf-idf/) eller [här](https://www.geeksforgeeks.org/bag-of-words-bow-model-in-nlp/), en enkel tutorial finns också [här](https://machinelearningmastery.com/gentle-introduction-bag-words-model/)) \n",
        "3. `wordcloud` - En visualiseringsmodul för att skapa ordmoln, vilket vi gör i denna laboration.\n",
        "4. `matplotlib` \n",
        "5. `sklearn` -  Scikit-learn,ett pythonbibliotek för maskininlärningsalgoritmer, den kommer vi använda mycket i både laboration 3 och 4."
      ]
    },
    {
      "cell_type": "code",
      "metadata": {
        "id": "BP-jnxY4eZeX",
        "colab": {
          "base_uri": "https://localhost:8080/"
        },
        "outputId": "e479a115-9515-4aac-f2e4-d63e67c943b9"
      },
      "source": [
        "pip install nltk "
      ],
      "execution_count": 1,
      "outputs": [
        {
          "output_type": "stream",
          "text": [
            "Requirement already satisfied: nltk in /usr/local/lib/python3.6/dist-packages (3.2.5)\n",
            "Requirement already satisfied: six in /usr/local/lib/python3.6/dist-packages (from nltk) (1.15.0)\n"
          ],
          "name": "stdout"
        }
      ]
    },
    {
      "cell_type": "code",
      "metadata": {
        "id": "YNGDttckeZeZ"
      },
      "source": [
        "# Kör denna cell för att ladda in biblioteken och sätta upp vår miljö\n",
        "import pandas as pd\n",
        "import nltk as tm\n",
        "from nltk.corpus import stopwords\n",
        "import wordcloud\n",
        "import matplotlib\n",
        "from sklearn.feature_extraction.text import CountVectorizer\n",
        "# Sätt upp visualiseringen\n",
        "%matplotlib inline\n",
        "matplotlib.pyplot.rcParams['figure.figsize'] = [10, 6]"
      ],
      "execution_count": 2,
      "outputs": []
    },
    {
      "cell_type": "code",
      "metadata": {
        "id": "SvITq9p-eZeZ",
        "colab": {
          "base_uri": "https://localhost:8080/"
        },
        "outputId": "f909bc9e-a97c-405a-dcfb-2e794d18f828"
      },
      "source": [
        "tm.download('stopwords')"
      ],
      "execution_count": 3,
      "outputs": [
        {
          "output_type": "stream",
          "text": [
            "[nltk_data] Downloading package stopwords to /root/nltk_data...\n",
            "[nltk_data]   Unzipping corpora/stopwords.zip.\n"
          ],
          "name": "stdout"
        },
        {
          "output_type": "execute_result",
          "data": {
            "text/plain": [
              "True"
            ]
          },
          "metadata": {
            "tags": []
          },
          "execution_count": 3
        }
      ]
    },
    {
      "cell_type": "code",
      "metadata": {
        "id": "nOGPRNSBeZeZ",
        "colab": {
          "base_uri": "https://localhost:8080/"
        },
        "outputId": "58670ae8-0979-4504-91b5-96f9c55512b2"
      },
      "source": [
        "stopWords = set(stopwords.words('swedish'))\n",
        "stopWords"
      ],
      "execution_count": 4,
      "outputs": [
        {
          "output_type": "execute_result",
          "data": {
            "text/plain": [
              "{'alla',\n",
              " 'allt',\n",
              " 'att',\n",
              " 'av',\n",
              " 'blev',\n",
              " 'bli',\n",
              " 'blir',\n",
              " 'blivit',\n",
              " 'de',\n",
              " 'dem',\n",
              " 'den',\n",
              " 'denna',\n",
              " 'deras',\n",
              " 'dess',\n",
              " 'dessa',\n",
              " 'det',\n",
              " 'detta',\n",
              " 'dig',\n",
              " 'din',\n",
              " 'dina',\n",
              " 'ditt',\n",
              " 'du',\n",
              " 'där',\n",
              " 'då',\n",
              " 'efter',\n",
              " 'ej',\n",
              " 'eller',\n",
              " 'en',\n",
              " 'er',\n",
              " 'era',\n",
              " 'ert',\n",
              " 'ett',\n",
              " 'från',\n",
              " 'för',\n",
              " 'ha',\n",
              " 'hade',\n",
              " 'han',\n",
              " 'hans',\n",
              " 'har',\n",
              " 'henne',\n",
              " 'hennes',\n",
              " 'hon',\n",
              " 'honom',\n",
              " 'hur',\n",
              " 'här',\n",
              " 'i',\n",
              " 'icke',\n",
              " 'ingen',\n",
              " 'inom',\n",
              " 'inte',\n",
              " 'jag',\n",
              " 'ju',\n",
              " 'kan',\n",
              " 'kunde',\n",
              " 'man',\n",
              " 'med',\n",
              " 'mellan',\n",
              " 'men',\n",
              " 'mig',\n",
              " 'min',\n",
              " 'mina',\n",
              " 'mitt',\n",
              " 'mot',\n",
              " 'mycket',\n",
              " 'ni',\n",
              " 'nu',\n",
              " 'när',\n",
              " 'någon',\n",
              " 'något',\n",
              " 'några',\n",
              " 'och',\n",
              " 'om',\n",
              " 'oss',\n",
              " 'på',\n",
              " 'samma',\n",
              " 'sedan',\n",
              " 'sig',\n",
              " 'sin',\n",
              " 'sina',\n",
              " 'sitta',\n",
              " 'själv',\n",
              " 'skulle',\n",
              " 'som',\n",
              " 'så',\n",
              " 'sådan',\n",
              " 'sådana',\n",
              " 'sådant',\n",
              " 'till',\n",
              " 'under',\n",
              " 'upp',\n",
              " 'ut',\n",
              " 'utan',\n",
              " 'vad',\n",
              " 'var',\n",
              " 'vara',\n",
              " 'varför',\n",
              " 'varit',\n",
              " 'varje',\n",
              " 'vars',\n",
              " 'vart',\n",
              " 'vem',\n",
              " 'vi',\n",
              " 'vid',\n",
              " 'vilka',\n",
              " 'vilkas',\n",
              " 'vilken',\n",
              " 'vilket',\n",
              " 'vår',\n",
              " 'våra',\n",
              " 'vårt',\n",
              " 'än',\n",
              " 'är',\n",
              " 'åt',\n",
              " 'över'}"
            ]
          },
          "metadata": {
            "tags": []
          },
          "execution_count": 4
        }
      ]
    },
    {
      "cell_type": "markdown",
      "metadata": {
        "lang": "en",
        "id": "x32L6jOWeZeZ"
      },
      "source": [
        "## Analys av Twitterdata från bokmässan\n",
        "\n",
        "Ni har blivit inhyrda som konsulter för en bokpublicist som vill att du ska ta reda på vilka teman och böcker som har fått mest uppmärksamhet på bokmässan i Göteborg 2016. \n",
        "\n",
        "Er uppgift är att via Twitterdata undersöka vilka ämnen som fått speciellt mycket uppmärksamhet för och under bokmässan och presentera ett förslag till företaget du arbetar med vad som är lämpliga debattämnen. \n",
        "\n",
        "Fokus här är alltså på att förstå data, vilket är en viktigt del av pre-processering inför mer avacerad dataanalys. \n",
        "\n",
        "**F1.** Vad för data är distinkt för twitter och vilken typ av pre-processing tror ni kommer behövas på den typen av data? "
      ]
    },
    {
      "cell_type": "markdown",
      "metadata": {
        "id": "5szK7pTOhYdY"
      },
      "source": [
        "**F1 Svar:** \r\n",
        "Data relaterad till varje tweet. Dels texten i sig, men även hur många som har retweetat eller svarat på tweeten. Ser man till användare bör det t.ex. även finnas data kring följare. När det gäller pre-processing kan det hanlda om att kategorisera tweet rätt. Det kan t.ex. röra sig om stavfel i datat eller att kunna relatera olika tweets till ett nyckelord så att man kan kategorisera och finna de mest popluära ämnena. T.ex. skulle det kunna röra sig av synonymer av samma tema finns som måste transformeras att representera ett specifikt ämne. Andra problem kan vara att sortera bort html element och hashtags som finns kvar i datat. Det kan också finnas en hel del annan irrelevant data som kan sållas bort helt, t.ex. länkar."
      ]
    },
    {
      "cell_type": "markdown",
      "metadata": {
        "lang": "en",
        "id": "H5xy4nCaeZea"
      },
      "source": [
        "## Data processing\n",
        "\n",
        "Som alltid behöver vårt data städas, i detta fall är fokus att sortera bort data som antingen inte går att analysera eller inte är intressant från den råtextdata vi fått från Twitter. Den data som givits samlades in från Twitter från maj till september 2016.\n",
        "\n",
        "Er datafil finns i mappen data i laborationsrepositoriet och heter `twitter_book_fair_data.tsv`."
      ]
    },
    {
      "cell_type": "markdown",
      "metadata": {
        "lang": "en",
        "id": "iwGqM3xfeZea"
      },
      "source": [
        "### Ladda data\n",
        "\n",
        "En `.tsv` fil betyder att det är en tab-separerad fil med tabelldata (jämfört med ; separerad som vi använt tidigare)\n",
        "\n",
        "**F2** Starta arbetet med att läsa in filen med read_csv() med följande parametrar:  encoding=\"utf-8\", sep=\"\\t\" och spara i en dataframe"
      ]
    },
    {
      "cell_type": "code",
      "metadata": {
        "id": "3QPfzqcwirWv",
        "colab": {
          "base_uri": "https://localhost:8080/"
        },
        "outputId": "8c1ff483-07f6-4520-ecff-e809de393fbe"
      },
      "source": [
        "# F2\r\n",
        "# Mounting gDrive in Colaboratory\r\n",
        "try:\r\n",
        "    from google.colab import drive\r\n",
        "    drive.mount(\"/content/drive/\", force_remount=True)\r\n",
        "    google_drive_prefix = \"/content/drive/My Drive\"\r\n",
        "    data_prefix = \"{}/mnist/\".format(google_drive_prefix)\r\n",
        "except ModuleNotFoundError: \r\n",
        "    data_prefix = \"data/\""
      ],
      "execution_count": 5,
      "outputs": [
        {
          "output_type": "stream",
          "text": [
            "Mounted at /content/drive/\n"
          ],
          "name": "stdout"
        }
      ]
    },
    {
      "cell_type": "code",
      "metadata": {
        "id": "zryYrfWEiw4c",
        "colab": {
          "base_uri": "https://localhost:8080/",
          "height": 719
        },
        "outputId": "849cd447-5441-4397-c562-f0e5e08b7381"
      },
      "source": [
        "# Read file and view first ten rows\r\n",
        "tbf_df= pd.read_csv(\"/content/drive/MyDrive/twitter_book_fair_data.tsv\", encoding=\"utf-8\", sep=\"\\t\")\r\n",
        "\r\n",
        "tbf_df.head(10)"
      ],
      "execution_count": 6,
      "outputs": [
        {
          "output_type": "execute_result",
          "data": {
            "text/html": [
              "<div>\n",
              "<style scoped>\n",
              "    .dataframe tbody tr th:only-of-type {\n",
              "        vertical-align: middle;\n",
              "    }\n",
              "\n",
              "    .dataframe tbody tr th {\n",
              "        vertical-align: top;\n",
              "    }\n",
              "\n",
              "    .dataframe thead th {\n",
              "        text-align: right;\n",
              "    }\n",
              "</style>\n",
              "<table border=\"1\" class=\"dataframe\">\n",
              "  <thead>\n",
              "    <tr style=\"text-align: right;\">\n",
              "      <th></th>\n",
              "      <th>text</th>\n",
              "      <th>to_user_id</th>\n",
              "      <th>from_user</th>\n",
              "      <th>id</th>\n",
              "      <th>from_user_id</th>\n",
              "      <th>iso_language_code</th>\n",
              "      <th>source</th>\n",
              "      <th>profile_image_url</th>\n",
              "      <th>geo_type</th>\n",
              "      <th>geo_coordinates_0</th>\n",
              "      <th>geo_coordinates_1</th>\n",
              "      <th>created_at</th>\n",
              "      <th>time</th>\n",
              "    </tr>\n",
              "  </thead>\n",
              "  <tbody>\n",
              "    <tr>\n",
              "      <th>0</th>\n",
              "      <td>rt @amiethekid: kvaellens avsnitt av raseriet ...</td>\n",
              "      <td>NaN</td>\n",
              "      <td>ornellanizii</td>\n",
              "      <td>780663045701955584</td>\n",
              "      <td>701149297</td>\n",
              "      <td>sv</td>\n",
              "      <td>&lt;a href=\"http://twitter.com\" rel=\"nofollow\"&gt;tw...</td>\n",
              "      <td>http://abs.twimg.com/images/themes/theme1/bg.png</td>\n",
              "      <td>NaN</td>\n",
              "      <td>0.0</td>\n",
              "      <td>0.0</td>\n",
              "      <td>tue sep 27 06:59:08 +0000 2016</td>\n",
              "      <td>1.474960e+09</td>\n",
              "    </tr>\n",
              "    <tr>\n",
              "      <th>1</th>\n",
              "      <td>maranatafoersamlingens monter paa bokmaessan v...</td>\n",
              "      <td>NaN</td>\n",
              "      <td>strrawbuz</td>\n",
              "      <td>780658066073198592</td>\n",
              "      <td>163765933</td>\n",
              "      <td>sv</td>\n",
              "      <td>&lt;a href=\"http://twitter.com\" rel=\"nofollow\"&gt;tw...</td>\n",
              "      <td>http://pbs.twimg.com/profile_background_images...</td>\n",
              "      <td>NaN</td>\n",
              "      <td>0.0</td>\n",
              "      <td>0.0</td>\n",
              "      <td>tue sep 27 06:39:21 +0000 2016</td>\n",
              "      <td>1.474958e+09</td>\n",
              "    </tr>\n",
              "    <tr>\n",
              "      <th>2</th>\n",
              "      <td>idrotten blev en trygg zon under en jobbig ton...</td>\n",
              "      <td>NaN</td>\n",
              "      <td>birgittajekblom</td>\n",
              "      <td>780655458407383040</td>\n",
              "      <td>72873310</td>\n",
              "      <td>sv</td>\n",
              "      <td>&lt;a href=\"http://twitter.com/download/iphone\" r...</td>\n",
              "      <td>http://abs.twimg.com/images/themes/theme1/bg.png</td>\n",
              "      <td>NaN</td>\n",
              "      <td>0.0</td>\n",
              "      <td>0.0</td>\n",
              "      <td>tue sep 27 06:28:59 +0000 2016</td>\n",
              "      <td>1.474958e+09</td>\n",
              "    </tr>\n",
              "    <tr>\n",
              "      <th>3</th>\n",
              "      <td>tillbakablick paa #bokmaessan #goeteborg del 1...</td>\n",
              "      <td>NaN</td>\n",
              "      <td>kimmkimselius</td>\n",
              "      <td>780654308002062336</td>\n",
              "      <td>65428329</td>\n",
              "      <td>sv</td>\n",
              "      <td>&lt;a href=\"https://about.twitter.com/products/tw...</td>\n",
              "      <td>http://pbs.twimg.com/profile_background_images...</td>\n",
              "      <td>NaN</td>\n",
              "      <td>0.0</td>\n",
              "      <td>0.0</td>\n",
              "      <td>tue sep 27 06:24:25 +0000 2016</td>\n",
              "      <td>1.474957e+09</td>\n",
              "    </tr>\n",
              "    <tr>\n",
              "      <th>4</th>\n",
              "      <td>rt @flamman_: aha, vilken tid aer demon? hm, d...</td>\n",
              "      <td>NaN</td>\n",
              "      <td>annaherdy</td>\n",
              "      <td>780654122076962816</td>\n",
              "      <td>111971247</td>\n",
              "      <td>sv</td>\n",
              "      <td>&lt;a href=\"https://about.twitter.com/products/tw...</td>\n",
              "      <td>http://abs.twimg.com/images/themes/theme17/bg.gif</td>\n",
              "      <td>NaN</td>\n",
              "      <td>0.0</td>\n",
              "      <td>0.0</td>\n",
              "      <td>tue sep 27 06:23:41 +0000 2016</td>\n",
              "      <td>1.474957e+09</td>\n",
              "    </tr>\n",
              "    <tr>\n",
              "      <th>5</th>\n",
              "      <td>aha, vilken tid aer demon? hm, den krockar med...</td>\n",
              "      <td>NaN</td>\n",
              "      <td>flamman_</td>\n",
              "      <td>780651417182830592</td>\n",
              "      <td>115388535</td>\n",
              "      <td>sv</td>\n",
              "      <td>&lt;a href=\"https://about.twitter.com/products/tw...</td>\n",
              "      <td>http://pbs.twimg.com/profile_background_images...</td>\n",
              "      <td>NaN</td>\n",
              "      <td>0.0</td>\n",
              "      <td>0.0</td>\n",
              "      <td>tue sep 27 06:12:56 +0000 2016</td>\n",
              "      <td>1.474957e+09</td>\n",
              "    </tr>\n",
              "    <tr>\n",
              "      <th>6</th>\n",
              "      <td>rt @mariabennet2000: tack lisa bjurwald - rakr...</td>\n",
              "      <td>NaN</td>\n",
              "      <td>lisabjurwald</td>\n",
              "      <td>780651392298020864</td>\n",
              "      <td>316443131</td>\n",
              "      <td>sv</td>\n",
              "      <td>&lt;a href=\"http://twitter.com/download/android\" ...</td>\n",
              "      <td>http://abs.twimg.com/images/themes/theme4/bg.gif</td>\n",
              "      <td>NaN</td>\n",
              "      <td>0.0</td>\n",
              "      <td>0.0</td>\n",
              "      <td>tue sep 27 06:12:50 +0000 2016</td>\n",
              "      <td>1.474957e+09</td>\n",
              "    </tr>\n",
              "    <tr>\n",
              "      <th>7</th>\n",
              "      <td>rt @mvasara: haer aer den gardell ni borde lae...</td>\n",
              "      <td>NaN</td>\n",
              "      <td>mikaelvasara3</td>\n",
              "      <td>780644263784812544</td>\n",
              "      <td>3790274487</td>\n",
              "      <td>sv</td>\n",
              "      <td>&lt;a href=\"http://twitter.com\" rel=\"nofollow\"&gt;tw...</td>\n",
              "      <td>http://abs.twimg.com/images/themes/theme1/bg.png</td>\n",
              "      <td>NaN</td>\n",
              "      <td>0.0</td>\n",
              "      <td>0.0</td>\n",
              "      <td>tue sep 27 05:44:30 +0000 2016</td>\n",
              "      <td>1.474955e+09</td>\n",
              "    </tr>\n",
              "    <tr>\n",
              "      <th>8</th>\n",
              "      <td>boksmaellan aer paataglig. men hellre boksmael...</td>\n",
              "      <td>NaN</td>\n",
              "      <td>fny_g</td>\n",
              "      <td>780638593157136384</td>\n",
              "      <td>272016039</td>\n",
              "      <td>sv</td>\n",
              "      <td>&lt;a href=\"http://twitter.com/download/android\" ...</td>\n",
              "      <td>http://pbs.twimg.com/profile_background_images...</td>\n",
              "      <td>NaN</td>\n",
              "      <td>0.0</td>\n",
              "      <td>0.0</td>\n",
              "      <td>tue sep 27 05:21:58 +0000 2016</td>\n",
              "      <td>1.474954e+09</td>\n",
              "    </tr>\n",
              "    <tr>\n",
              "      <th>9</th>\n",
              "      <td>tack lisa bjurwald - rakryggat och otroligt vi...</td>\n",
              "      <td>NaN</td>\n",
              "      <td>mariabennet2000</td>\n",
              "      <td>780633967741591552</td>\n",
              "      <td>35309299</td>\n",
              "      <td>sv</td>\n",
              "      <td>&lt;a href=\"http://twitter.com/download/iphone\" r...</td>\n",
              "      <td>http://abs.twimg.com/images/themes/theme1/bg.png</td>\n",
              "      <td>NaN</td>\n",
              "      <td>0.0</td>\n",
              "      <td>0.0</td>\n",
              "      <td>tue sep 27 05:03:36 +0000 2016</td>\n",
              "      <td>1.474953e+09</td>\n",
              "    </tr>\n",
              "  </tbody>\n",
              "</table>\n",
              "</div>"
            ],
            "text/plain": [
              "                                                text  ...          time\n",
              "0  rt @amiethekid: kvaellens avsnitt av raseriet ...  ...  1.474960e+09\n",
              "1  maranatafoersamlingens monter paa bokmaessan v...  ...  1.474958e+09\n",
              "2  idrotten blev en trygg zon under en jobbig ton...  ...  1.474958e+09\n",
              "3  tillbakablick paa #bokmaessan #goeteborg del 1...  ...  1.474957e+09\n",
              "4  rt @flamman_: aha, vilken tid aer demon? hm, d...  ...  1.474957e+09\n",
              "5  aha, vilken tid aer demon? hm, den krockar med...  ...  1.474957e+09\n",
              "6  rt @mariabennet2000: tack lisa bjurwald - rakr...  ...  1.474957e+09\n",
              "7  rt @mvasara: haer aer den gardell ni borde lae...  ...  1.474955e+09\n",
              "8  boksmaellan aer paataglig. men hellre boksmael...  ...  1.474954e+09\n",
              "9  tack lisa bjurwald - rakryggat och otroligt vi...  ...  1.474953e+09\n",
              "\n",
              "[10 rows x 13 columns]"
            ]
          },
          "metadata": {
            "tags": []
          },
          "execution_count": 6
        }
      ]
    },
    {
      "cell_type": "markdown",
      "metadata": {
        "lang": "en",
        "id": "SXHwtKP-eZeb"
      },
      "source": [
        "**F3** Inspektera den dataframe som skapats med lämpliga funktioner. Ta reda på följande:\n",
        "\n",
        "Hur ser den ut?\n",
        "Antal kolumner och rader?\n",
        "Datatyper?\n",
        "\n",
        "Glöm inte bort att när du utför operationer på en datafram så sparas ingenting om du inte skapar en variabel som du lagrar dina ändringar i! (alternativt skriver över den dataframe du har genom att sätta parametern inplace = True (default är False)."
      ]
    },
    {
      "cell_type": "code",
      "metadata": {
        "id": "LcQm77jPjiAD",
        "colab": {
          "base_uri": "https://localhost:8080/"
        },
        "outputId": "66e41db8-13a2-484f-fdf8-2d2a90697948"
      },
      "source": [
        "#Which datatypes are in our dataframe?\r\n",
        "print(f'{tbf_df.dtypes}\\n')\r\n",
        "# int64, float64 and object with the majority being object. \r\n",
        "\r\n",
        "# How many rows and columns?\r\n",
        "# 13 columns and 10000 rows.\r\n",
        "tbf_df.shape \r\n",
        "print(f'Antal kolumner:\\t {len(tbf_df.columns)} \\nAntal rader: \\t {len(tbf_df)}')"
      ],
      "execution_count": 7,
      "outputs": [
        {
          "output_type": "stream",
          "text": [
            "text                  object\n",
            "to_user_id            object\n",
            "from_user             object\n",
            "id                     int64\n",
            "from_user_id           int64\n",
            "iso_language_code     object\n",
            "source                object\n",
            "profile_image_url     object\n",
            "geo_type              object\n",
            "geo_coordinates_0    float64\n",
            "geo_coordinates_1    float64\n",
            "created_at            object\n",
            "time                 float64\n",
            "dtype: object\n",
            "\n",
            "Antal kolumner:\t 13 \n",
            "Antal rader: \t 10000\n"
          ],
          "name": "stdout"
        }
      ]
    },
    {
      "cell_type": "markdown",
      "metadata": {
        "id": "XmtvB99TeZec"
      },
      "source": [
        "**F4** Finns det nullvärden i vårt dataset? Varför/varför inte?"
      ]
    },
    {
      "cell_type": "code",
      "metadata": {
        "id": "1FnuPGohj9SV",
        "colab": {
          "base_uri": "https://localhost:8080/"
        },
        "outputId": "9dcaf61f-7bdd-4d5e-cbb7-65e6ad5f5b31"
      },
      "source": [
        "# Checks if dataframe has any null values, which it indeed has.\r\n",
        "print(f'Contains null values: {tbf_df.isnull().values.any()}\\n')\r\n",
        "\r\n",
        "# Display null vales per column\r\n",
        "print(tbf_df.isnull().sum()) "
      ],
      "execution_count": 8,
      "outputs": [
        {
          "output_type": "stream",
          "text": [
            "Contains null values: True\n",
            "\n",
            "text                    0\n",
            "to_user_id           9572\n",
            "from_user               4\n",
            "id                      0\n",
            "from_user_id            0\n",
            "iso_language_code       0\n",
            "source                  0\n",
            "profile_image_url     411\n",
            "geo_type             9885\n",
            "geo_coordinates_0       4\n",
            "geo_coordinates_1       4\n",
            "created_at              4\n",
            "time                    4\n",
            "dtype: int64\n"
          ],
          "name": "stdout"
        }
      ]
    },
    {
      "cell_type": "markdown",
      "metadata": {
        "id": "mx3yjn44j_-Z"
      },
      "source": [
        "**F4 Svar:** Ja, det finns 19888 nullvärden totalt. Vi ser nullvärden i \"to_user_id\"-kolumnen som representerar user_id för användaren som tweeten är ett svar till. Det är dock inte alltid en tweet är ett svar\r\n",
        "och därför förekommer nullvärden här. \"profile_image_url\"-kolumnen innehåller nullvärden då inte alla har en profilbild baserad på url. Geo_type saknas ibland då användare inte väljer att ha lokation\r\n",
        "aktiverad för Twitter. geo_coordinates_0 & 1, created_at & time är null 4 gånger, vilket troligtvis kan bero på MCAR."
      ]
    },
    {
      "cell_type": "markdown",
      "metadata": {
        "id": "RvdTiDx4eZed"
      },
      "source": [
        "**F5.** Hur många tweets i vårt dataset är nämnanden av andra användare (alltså när `@twittername` finns med i tweeten) \n",
        "\n",
        "*Hint: Det kan vara till hjälp att använda funktionen `info()`*"
      ]
    },
    {
      "cell_type": "code",
      "metadata": {
        "id": "ctzbqlyLlMDA",
        "colab": {
          "base_uri": "https://localhost:8080/"
        },
        "outputId": "b10a89d9-7d95-4077-bfc2-246f282c3c5f"
      },
      "source": [
        "tbf_df.info()\r\n",
        "\r\n",
        "# Displaying notnull occurances\r\n",
        "print(f'\\nAmounts of @: {tbf_df.to_user_id.notnull().sum()}')"
      ],
      "execution_count": 9,
      "outputs": [
        {
          "output_type": "stream",
          "text": [
            "<class 'pandas.core.frame.DataFrame'>\n",
            "RangeIndex: 10000 entries, 0 to 9999\n",
            "Data columns (total 13 columns):\n",
            " #   Column             Non-Null Count  Dtype  \n",
            "---  ------             --------------  -----  \n",
            " 0   text               10000 non-null  object \n",
            " 1   to_user_id         428 non-null    object \n",
            " 2   from_user          9996 non-null   object \n",
            " 3   id                 10000 non-null  int64  \n",
            " 4   from_user_id       10000 non-null  int64  \n",
            " 5   iso_language_code  10000 non-null  object \n",
            " 6   source             10000 non-null  object \n",
            " 7   profile_image_url  9589 non-null   object \n",
            " 8   geo_type           115 non-null    object \n",
            " 9   geo_coordinates_0  9996 non-null   float64\n",
            " 10  geo_coordinates_1  9996 non-null   float64\n",
            " 11  created_at         9996 non-null   object \n",
            " 12  time               9996 non-null   float64\n",
            "dtypes: float64(3), int64(2), object(8)\n",
            "memory usage: 1015.8+ KB\n",
            "\n",
            "Amounts of @: 428\n"
          ],
          "name": "stdout"
        }
      ]
    },
    {
      "cell_type": "markdown",
      "metadata": {
        "id": "GNjjDwvzle6s"
      },
      "source": [
        "**F5 Svar:** 428 st"
      ]
    },
    {
      "cell_type": "markdown",
      "metadata": {
        "id": "YKGa4QUImX2k"
      },
      "source": [
        ""
      ]
    },
    {
      "cell_type": "markdown",
      "metadata": {
        "lang": "en",
        "id": "EJ5CsW9ieZed"
      },
      "source": [
        "**F6.** En kolumn är speciellt intressant för vår **textanalys**, extrahera den från den dataframe vi lagrat all data i och skapa en variabel där du placerar denna data, döp variablen till `tweets_corpus`."
      ]
    },
    {
      "cell_type": "code",
      "metadata": {
        "id": "EYFvEKABmLxH",
        "colab": {
          "base_uri": "https://localhost:8080/"
        },
        "outputId": "0ecf748b-7b6a-4f6e-9756-82d6a66f4a67"
      },
      "source": [
        "#F6\r\n",
        "tweets_corpus = tbf_df.text # extract text from the tweets\r\n",
        "tweets_corpus"
      ],
      "execution_count": 10,
      "outputs": [
        {
          "output_type": "execute_result",
          "data": {
            "text/plain": [
              "0       rt @amiethekid: kvaellens avsnitt av raseriet ...\n",
              "1       maranatafoersamlingens monter paa bokmaessan v...\n",
              "2       idrotten blev en trygg zon under en jobbig ton...\n",
              "3       tillbakablick paa #bokmaessan #goeteborg del 1...\n",
              "4       rt @flamman_: aha, vilken tid aer demon? hm, d...\n",
              "                              ...                        \n",
              "9995    rt @mxcartoons: nya tider kommenterar bokmaess...\n",
              "9996    rt @viskot: apropaa #bokmaessan och det haer m...\n",
              "9997    rt @charlieafnord: hej @bokmassangbg. kommer n...\n",
              "9998    rt @mxcartoons: nya tider kommenterar bokmaess...\n",
              "9999    rt @dolf371: tystnad aer yttrandefrihet – #bok...\n",
              "Name: text, Length: 10000, dtype: object"
            ]
          },
          "metadata": {
            "tags": []
          },
          "execution_count": 10
        }
      ]
    },
    {
      "cell_type": "markdown",
      "metadata": {
        "lang": "en",
        "id": "jWEfsjWieZed"
      },
      "source": [
        "### Emojis\n",
        "\n",
        "På Twitter är det väldigt vanligt med emojis 👍 ✨ 🐫 🎉 🚀 🤘.\n",
        "\n",
        "Dessa kan innehålla mycket information som kan vara relevant för vår analys. Dock är det ofta svårt att analysera emojis med hjälp av vanliga verktug för NLP(Natural Language Processig). \n",
        "\n",
        "Vi behöver därför ta bort dessa ur vårt utvalda dataset som skapades i uppgiften ovan.\n",
        "\n",
        "Följande kod utför detta, ni behöver inte bry er om lambda just nu, men vi kommer gå igenom det lite senare i kursen. "
      ]
    },
    {
      "cell_type": "code",
      "metadata": {
        "scrolled": true,
        "id": "pLv1DpT3eZee",
        "colab": {
          "base_uri": "https://localhost:8080/"
        },
        "outputId": "e76d66ea-94d0-4b4c-fc84-e48d410f8123"
      },
      "source": [
        "encode2ascii = lambda x: x.encode('ascii', errors='ignore').decode('utf-8')\n",
        "clean_tweets = tweets_corpus.apply(encode2ascii)\n",
        "clean_tweets"
      ],
      "execution_count": 11,
      "outputs": [
        {
          "output_type": "execute_result",
          "data": {
            "text/plain": [
              "0       rt @amiethekid: kvaellens avsnitt av raseriet ...\n",
              "1       maranatafoersamlingens monter paa bokmaessan v...\n",
              "2       idrotten blev en trygg zon under en jobbig ton...\n",
              "3       tillbakablick paa #bokmaessan #goeteborg del 1...\n",
              "4       rt @flamman_: aha, vilken tid aer demon? hm, d...\n",
              "                              ...                        \n",
              "9995    rt @mxcartoons: nya tider kommenterar bokmaess...\n",
              "9996    rt @viskot: apropaa #bokmaessan och det haer m...\n",
              "9997    rt @charlieafnord: hej @bokmassangbg. kommer n...\n",
              "9998    rt @mxcartoons: nya tider kommenterar bokmaess...\n",
              "9999    rt @dolf371: tystnad aer yttrandefrihet  #bokm...\n",
              "Name: text, Length: 10000, dtype: object"
            ]
          },
          "metadata": {
            "tags": []
          },
          "execution_count": 11
        }
      ]
    },
    {
      "cell_type": "markdown",
      "metadata": {
        "lang": "en",
        "id": "jWgmnit2eZee"
      },
      "source": [
        "**F7.** Hur påverkas kvaliteten på vår analys potentiellt av att ta bort alla emojis? Förklara svaret."
      ]
    },
    {
      "cell_type": "markdown",
      "metadata": {
        "id": "3r1RPEB9nwUe"
      },
      "source": [
        "**F7 Svar:** Delvis baserad på artikel: The Effects of Emoji in Sentiment Analysis (Shiha & Ayvaz, 2017)\r\n",
        "Inom 'natural language processing' (NLP) så är encoding viktigt då människor allt mer använder sig av emojis för att uttrycka känslor, vilket ofta kan ersätta ord som annars hade använts. Encoding genom att ta bort emojis ökar datakvaliteten inom bland annat sentimentanalys, eftersom Emoji-karaktärer verkar ha högre inverkan på de övergripande känslorna av positiva åsikter, jämfört med de negativa åsikterna. Sentimentanalys använder NLP för att extrahera åsikter från text och klassificera dem i klasser som oftast delas in enligt: negativt, naturlig, positiv. F7 Svar: Det går tänka sig att det finns möjlighet att man tappar ord / kontext då användare ibland väljer att ersätta ett ord mot en emoji. Det är också möjligt att man tappar nyansen i ett meddelande t.ex. att någon skriver något och använder en emoji för att visa att det som är skrivet är på skämt eller tvärtom."
      ]
    },
    {
      "cell_type": "markdown",
      "metadata": {
        "lang": "en",
        "id": "UIE77G9qeZee"
      },
      "source": [
        "### Ta bort URLs\n",
        "Det är också vanligt att man på Twitter länkar till olika webbplatser med hjälp av URL:er, när man gör textanalys på twitterdata är det vanligt att delar av dessa URL:er dyker upp som \"mest frekventa ord\" vilket påverkar vår analys negativs. Dessa behöver därför också tas bort."
      ]
    },
    {
      "cell_type": "code",
      "metadata": {
        "id": "FJgKC3BbeZee",
        "colab": {
          "base_uri": "https://localhost:8080/"
        },
        "outputId": "791ce173-ee1a-4fa7-8a2a-f4ee94c5540c"
      },
      "source": [
        "clean_tweets = clean_tweets.str.replace(r'http\\S+', '')\n",
        "clean_tweets"
      ],
      "execution_count": 12,
      "outputs": [
        {
          "output_type": "execute_result",
          "data": {
            "text/plain": [
              "0       rt @amiethekid: kvaellens avsnitt av raseriet ...\n",
              "1       maranatafoersamlingens monter paa bokmaessan v...\n",
              "2       idrotten blev en trygg zon under en jobbig ton...\n",
              "3        tillbakablick paa #bokmaessan #goeteborg del 1  \n",
              "4       rt @flamman_: aha, vilken tid aer demon? hm, d...\n",
              "                              ...                        \n",
              "9995    rt @mxcartoons: nya tider kommenterar bokmaess...\n",
              "9996    rt @viskot: apropaa #bokmaessan och det haer m...\n",
              "9997    rt @charlieafnord: hej @bokmassangbg. kommer n...\n",
              "9998    rt @mxcartoons: nya tider kommenterar bokmaess...\n",
              "9999    rt @dolf371: tystnad aer yttrandefrihet  #bokm...\n",
              "Name: text, Length: 10000, dtype: object"
            ]
          },
          "metadata": {
            "tags": []
          },
          "execution_count": 12
        }
      ]
    },
    {
      "cell_type": "markdown",
      "metadata": {
        "id": "8kHQBlDmeZee"
      },
      "source": [
        "**F8.** Hur kan borttagandet av URL:er pvåerkar analysen och dess kvalitet, förklara svaret."
      ]
    },
    {
      "cell_type": "markdown",
      "metadata": {
        "id": "ml33yDr6odMj"
      },
      "source": [
        "**F8 Svar:** Vi skulle säga att datakvaliteten ökar i detta fall eftersom vi kommer söka efter mest frekventa ord nedan. \r\n",
        "Om länkarna inte är användbara för ett specifikt ändamål så är det positivt för datakvaliteten att ta bort orden i länkarna eftersom de kan vara missledande i analysen. Exempelvis kan det vanligaste ordet komma från att ordet finns med i länkar. \r\n",
        "\r\n",
        "En negativ aspekt är att texten (tweeten) kan bli förvirrande om en länk saknas. Exempelvis om en tweet hänvisar till en viss länk så kan texten bli oklar. Det kan också vara så att flera länkar till samma sida, något som också skulle peka på en trend som vi då missar.\r\n",
        "En positiv aspekt för Twitter-data är att Twitter har ett filter som blockerar skadliga länkar så om man vill analysera länkarna så går det att göra på med datan som innehåller länkar."
      ]
    },
    {
      "cell_type": "markdown",
      "metadata": {
        "lang": "en",
        "id": "jubk0MVjeZee"
      },
      "source": [
        "### Funktion för att hitta mest frekventa ord \n",
        "\n",
        "Ett sätt att förstå hur olika metoder för pre-processing påverkar ett dataset kan man räkna de mest förekommande orden efter varje operation som utförs. Eftersom vi kommer vilja utföra denna räkning många gånger under arbetet är de lämpligt att skapa en funktion för det som vi kan anropa flera gånger.\n",
        "\n",
        "#### Vad är en Term Document Matrix (TDM)?\n",
        "\n",
        "En TDM är en tabell där antalet unika ord räknas för varje dokument. För att göra detta på vårt Twitterdata är det lämpligt att skapa en TDM där varje tweet är en egen vektor där varje element består av de ord som finns i den tweeten. En tweet med tre unika ord blir alltså en vektor med tre element. \n",
        "\n",
        "Nedanstående kod skapar denna TDM i form av en funktion med namn `create_term_document_matrix()`:"
      ]
    },
    {
      "cell_type": "markdown",
      "metadata": {
        "id": "wt7cUqq3eZef"
      },
      "source": [
        "**F9** Koden nedan är inte kommenterad, lägg in kommentarer som förklarar vad som sker i koden. (No hittar dokumentationen för CountVectorizer() [här](https://scikit-learn.org/stable/modules/generated/sklearn.feature_extraction.text.CountVectorizer.html) och en kort beskrivning med exempel [här](https://www.geeksforgeeks.org/using-countvectorizer-to-extracting-features-from-text/)"
      ]
    },
    {
      "cell_type": "code",
      "metadata": {
        "id": "mOeci3JpeZeg"
      },
      "source": [
        "def create_term_document_matrix(corpus, min_df=1):\n",
        "    # Initialize the vectorizer for counting words\n",
        "    cvec = CountVectorizer(min_df=min_df, stop_words=stopWords)\n",
        "    # Create matrix of token counts via CountVectorizer, which we can then transform into a dataframe\n",
        "    tfmatrix = cvec.fit_transform(corpus)\n",
        "    # Return the dataframe\n",
        "    return pd.DataFrame(data=tfmatrix.toarray(), columns=cvec.get_feature_names())"
      ],
      "execution_count": 13,
      "outputs": []
    },
    {
      "cell_type": "markdown",
      "metadata": {
        "id": "o32E26t7eZeg"
      },
      "source": [
        "**F10** Testa vår nya funktion genom att skapa en TDM endast för de tre första raderna i `clean_tweets` som kan sorteras ut med `.head(3)` funktionen. "
      ]
    },
    {
      "cell_type": "code",
      "metadata": {
        "id": "mVAkYCAzeZeg",
        "colab": {
          "base_uri": "https://localhost:8080/",
          "height": 191
        },
        "outputId": "4df92ff6-3b15-4102-ea8d-23632ea15bb8"
      },
      "source": [
        "#kod här..\n",
        "#F10\n",
        "create_term_document_matrix(clean_tweets).head(3)"
      ],
      "execution_count": 14,
      "outputs": [
        {
          "output_type": "execute_result",
          "data": {
            "text/html": [
              "<div>\n",
              "<style scoped>\n",
              "    .dataframe tbody tr th:only-of-type {\n",
              "        vertical-align: middle;\n",
              "    }\n",
              "\n",
              "    .dataframe tbody tr th {\n",
              "        vertical-align: top;\n",
              "    }\n",
              "\n",
              "    .dataframe thead th {\n",
              "        text-align: right;\n",
              "    }\n",
              "</style>\n",
              "<table border=\"1\" class=\"dataframe\">\n",
              "  <thead>\n",
              "    <tr style=\"text-align: right;\">\n",
              "      <th></th>\n",
              "      <th>00</th>\n",
              "      <th>000</th>\n",
              "      <th>01</th>\n",
              "      <th>02</th>\n",
              "      <th>03</th>\n",
              "      <th>031</th>\n",
              "      <th>04</th>\n",
              "      <th>05</th>\n",
              "      <th>06</th>\n",
              "      <th>07</th>\n",
              "      <th>073996782</th>\n",
              "      <th>0739967827</th>\n",
              "      <th>08</th>\n",
              "      <th>08pol</th>\n",
              "      <th>09</th>\n",
              "      <th>099</th>\n",
              "      <th>10</th>\n",
              "      <th>100</th>\n",
              "      <th>1000</th>\n",
              "      <th>1007</th>\n",
              "      <th>10misstagfoerfattaregoer</th>\n",
              "      <th>10pers</th>\n",
              "      <th>10s</th>\n",
              "      <th>11</th>\n",
              "      <th>110</th>\n",
              "      <th>12</th>\n",
              "      <th>120</th>\n",
              "      <th>1230</th>\n",
              "      <th>13</th>\n",
              "      <th>1300</th>\n",
              "      <th>14</th>\n",
              "      <th>15</th>\n",
              "      <th>1530</th>\n",
              "      <th>16</th>\n",
              "      <th>1600</th>\n",
              "      <th>1630</th>\n",
              "      <th>165679596</th>\n",
              "      <th>17</th>\n",
              "      <th>1700</th>\n",
              "      <th>1730</th>\n",
              "      <th>...</th>\n",
              "      <th>ytterligare</th>\n",
              "      <th>ytterst</th>\n",
              "      <th>yttervarvet</th>\n",
              "      <th>yttr</th>\n",
              "      <th>yttra</th>\n",
              "      <th>yttrande</th>\n",
              "      <th>yttrandefri</th>\n",
              "      <th>yttrandefrihet</th>\n",
              "      <th>yttrandefriheten</th>\n",
              "      <th>yttrandefrihetens</th>\n",
              "      <th>yttrandefrihetsdebatt</th>\n",
              "      <th>yttrandefrihetsexpert</th>\n",
              "      <th>yttrandefrihetsextremist</th>\n",
              "      <th>yttrandefrihetsfobiker</th>\n",
              "      <th>yttrandefrihetsfobikerna</th>\n",
              "      <th>yttrandefrihetsfraagor</th>\n",
              "      <th>yttrandefrihetsmaessan</th>\n",
              "      <th>yttrandefrihetsmontern</th>\n",
              "      <th>yttrandefrihetsscenen</th>\n",
              "      <th>yttrandefrihetstemat</th>\n",
              "      <th>yttranden</th>\n",
              "      <th>yttrat</th>\n",
              "      <th>yukiko</th>\n",
              "      <th>yvoeri</th>\n",
              "      <th>yvonne</th>\n",
              "      <th>zainab</th>\n",
              "      <th>zandra</th>\n",
              "      <th>zaralarsson</th>\n",
              "      <th>zaw</th>\n",
              "      <th>zawall</th>\n",
              "      <th>zedendahl</th>\n",
              "      <th>zetterlund</th>\n",
              "      <th>ziggy</th>\n",
              "      <th>zlatan</th>\n",
              "      <th>zoecormier</th>\n",
              "      <th>zombieseminariet</th>\n",
              "      <th>zon</th>\n",
              "      <th>zoo</th>\n",
              "      <th>zpiff75</th>\n",
              "      <th>zweigbergk</th>\n",
              "    </tr>\n",
              "  </thead>\n",
              "  <tbody>\n",
              "    <tr>\n",
              "      <th>0</th>\n",
              "      <td>0</td>\n",
              "      <td>0</td>\n",
              "      <td>0</td>\n",
              "      <td>0</td>\n",
              "      <td>0</td>\n",
              "      <td>0</td>\n",
              "      <td>0</td>\n",
              "      <td>0</td>\n",
              "      <td>0</td>\n",
              "      <td>0</td>\n",
              "      <td>0</td>\n",
              "      <td>0</td>\n",
              "      <td>0</td>\n",
              "      <td>0</td>\n",
              "      <td>0</td>\n",
              "      <td>0</td>\n",
              "      <td>0</td>\n",
              "      <td>0</td>\n",
              "      <td>0</td>\n",
              "      <td>0</td>\n",
              "      <td>0</td>\n",
              "      <td>0</td>\n",
              "      <td>0</td>\n",
              "      <td>0</td>\n",
              "      <td>0</td>\n",
              "      <td>0</td>\n",
              "      <td>0</td>\n",
              "      <td>0</td>\n",
              "      <td>0</td>\n",
              "      <td>0</td>\n",
              "      <td>0</td>\n",
              "      <td>0</td>\n",
              "      <td>0</td>\n",
              "      <td>0</td>\n",
              "      <td>0</td>\n",
              "      <td>0</td>\n",
              "      <td>0</td>\n",
              "      <td>0</td>\n",
              "      <td>0</td>\n",
              "      <td>0</td>\n",
              "      <td>...</td>\n",
              "      <td>0</td>\n",
              "      <td>0</td>\n",
              "      <td>0</td>\n",
              "      <td>0</td>\n",
              "      <td>0</td>\n",
              "      <td>0</td>\n",
              "      <td>0</td>\n",
              "      <td>0</td>\n",
              "      <td>0</td>\n",
              "      <td>0</td>\n",
              "      <td>0</td>\n",
              "      <td>0</td>\n",
              "      <td>0</td>\n",
              "      <td>0</td>\n",
              "      <td>0</td>\n",
              "      <td>0</td>\n",
              "      <td>0</td>\n",
              "      <td>0</td>\n",
              "      <td>0</td>\n",
              "      <td>0</td>\n",
              "      <td>0</td>\n",
              "      <td>0</td>\n",
              "      <td>0</td>\n",
              "      <td>0</td>\n",
              "      <td>0</td>\n",
              "      <td>0</td>\n",
              "      <td>0</td>\n",
              "      <td>0</td>\n",
              "      <td>0</td>\n",
              "      <td>0</td>\n",
              "      <td>0</td>\n",
              "      <td>0</td>\n",
              "      <td>0</td>\n",
              "      <td>0</td>\n",
              "      <td>0</td>\n",
              "      <td>0</td>\n",
              "      <td>0</td>\n",
              "      <td>0</td>\n",
              "      <td>0</td>\n",
              "      <td>0</td>\n",
              "    </tr>\n",
              "    <tr>\n",
              "      <th>1</th>\n",
              "      <td>0</td>\n",
              "      <td>0</td>\n",
              "      <td>0</td>\n",
              "      <td>0</td>\n",
              "      <td>0</td>\n",
              "      <td>0</td>\n",
              "      <td>0</td>\n",
              "      <td>0</td>\n",
              "      <td>0</td>\n",
              "      <td>0</td>\n",
              "      <td>0</td>\n",
              "      <td>0</td>\n",
              "      <td>0</td>\n",
              "      <td>0</td>\n",
              "      <td>0</td>\n",
              "      <td>0</td>\n",
              "      <td>0</td>\n",
              "      <td>0</td>\n",
              "      <td>0</td>\n",
              "      <td>0</td>\n",
              "      <td>0</td>\n",
              "      <td>0</td>\n",
              "      <td>0</td>\n",
              "      <td>0</td>\n",
              "      <td>0</td>\n",
              "      <td>0</td>\n",
              "      <td>0</td>\n",
              "      <td>0</td>\n",
              "      <td>0</td>\n",
              "      <td>0</td>\n",
              "      <td>0</td>\n",
              "      <td>0</td>\n",
              "      <td>0</td>\n",
              "      <td>0</td>\n",
              "      <td>0</td>\n",
              "      <td>0</td>\n",
              "      <td>0</td>\n",
              "      <td>0</td>\n",
              "      <td>0</td>\n",
              "      <td>0</td>\n",
              "      <td>...</td>\n",
              "      <td>0</td>\n",
              "      <td>0</td>\n",
              "      <td>0</td>\n",
              "      <td>0</td>\n",
              "      <td>0</td>\n",
              "      <td>0</td>\n",
              "      <td>0</td>\n",
              "      <td>0</td>\n",
              "      <td>0</td>\n",
              "      <td>0</td>\n",
              "      <td>0</td>\n",
              "      <td>0</td>\n",
              "      <td>0</td>\n",
              "      <td>0</td>\n",
              "      <td>0</td>\n",
              "      <td>0</td>\n",
              "      <td>0</td>\n",
              "      <td>0</td>\n",
              "      <td>0</td>\n",
              "      <td>0</td>\n",
              "      <td>0</td>\n",
              "      <td>0</td>\n",
              "      <td>0</td>\n",
              "      <td>0</td>\n",
              "      <td>0</td>\n",
              "      <td>0</td>\n",
              "      <td>0</td>\n",
              "      <td>0</td>\n",
              "      <td>0</td>\n",
              "      <td>0</td>\n",
              "      <td>0</td>\n",
              "      <td>0</td>\n",
              "      <td>0</td>\n",
              "      <td>0</td>\n",
              "      <td>0</td>\n",
              "      <td>0</td>\n",
              "      <td>0</td>\n",
              "      <td>0</td>\n",
              "      <td>0</td>\n",
              "      <td>0</td>\n",
              "    </tr>\n",
              "    <tr>\n",
              "      <th>2</th>\n",
              "      <td>0</td>\n",
              "      <td>0</td>\n",
              "      <td>0</td>\n",
              "      <td>0</td>\n",
              "      <td>0</td>\n",
              "      <td>0</td>\n",
              "      <td>0</td>\n",
              "      <td>0</td>\n",
              "      <td>0</td>\n",
              "      <td>0</td>\n",
              "      <td>0</td>\n",
              "      <td>0</td>\n",
              "      <td>0</td>\n",
              "      <td>0</td>\n",
              "      <td>0</td>\n",
              "      <td>0</td>\n",
              "      <td>0</td>\n",
              "      <td>0</td>\n",
              "      <td>0</td>\n",
              "      <td>0</td>\n",
              "      <td>0</td>\n",
              "      <td>0</td>\n",
              "      <td>0</td>\n",
              "      <td>0</td>\n",
              "      <td>0</td>\n",
              "      <td>0</td>\n",
              "      <td>0</td>\n",
              "      <td>0</td>\n",
              "      <td>0</td>\n",
              "      <td>0</td>\n",
              "      <td>0</td>\n",
              "      <td>0</td>\n",
              "      <td>0</td>\n",
              "      <td>0</td>\n",
              "      <td>0</td>\n",
              "      <td>0</td>\n",
              "      <td>0</td>\n",
              "      <td>0</td>\n",
              "      <td>0</td>\n",
              "      <td>0</td>\n",
              "      <td>...</td>\n",
              "      <td>0</td>\n",
              "      <td>0</td>\n",
              "      <td>0</td>\n",
              "      <td>0</td>\n",
              "      <td>0</td>\n",
              "      <td>0</td>\n",
              "      <td>0</td>\n",
              "      <td>0</td>\n",
              "      <td>0</td>\n",
              "      <td>0</td>\n",
              "      <td>0</td>\n",
              "      <td>0</td>\n",
              "      <td>0</td>\n",
              "      <td>0</td>\n",
              "      <td>0</td>\n",
              "      <td>0</td>\n",
              "      <td>0</td>\n",
              "      <td>0</td>\n",
              "      <td>0</td>\n",
              "      <td>0</td>\n",
              "      <td>0</td>\n",
              "      <td>0</td>\n",
              "      <td>0</td>\n",
              "      <td>0</td>\n",
              "      <td>0</td>\n",
              "      <td>0</td>\n",
              "      <td>0</td>\n",
              "      <td>0</td>\n",
              "      <td>0</td>\n",
              "      <td>0</td>\n",
              "      <td>0</td>\n",
              "      <td>0</td>\n",
              "      <td>0</td>\n",
              "      <td>0</td>\n",
              "      <td>0</td>\n",
              "      <td>0</td>\n",
              "      <td>1</td>\n",
              "      <td>0</td>\n",
              "      <td>0</td>\n",
              "      <td>0</td>\n",
              "    </tr>\n",
              "  </tbody>\n",
              "</table>\n",
              "<p>3 rows × 13244 columns</p>\n",
              "</div>"
            ],
            "text/plain": [
              "   00  000  01  02  03  ...  zombieseminariet  zon  zoo  zpiff75  zweigbergk\n",
              "0   0    0   0   0   0  ...                 0    0    0        0           0\n",
              "1   0    0   0   0   0  ...                 0    0    0        0           0\n",
              "2   0    0   0   0   0  ...                 0    1    0        0           0\n",
              "\n",
              "[3 rows x 13244 columns]"
            ]
          },
          "metadata": {
            "tags": []
          },
          "execution_count": 14
        }
      ]
    },
    {
      "cell_type": "markdown",
      "metadata": {
        "id": "WuwZ9MW0eZeg"
      },
      "source": [
        "**F11.** Hur många kolumner skapades i TDM:n?"
      ]
    },
    {
      "cell_type": "markdown",
      "metadata": {
        "id": "8GgmoDJapqXn"
      },
      "source": [
        "**F11 Svar:** 13244 kolumner."
      ]
    },
    {
      "cell_type": "markdown",
      "metadata": {
        "id": "bpmMZqQyeZeh"
      },
      "source": [
        "För att hitta de mest frekvent förekommander orden i vår TDM behöver vi räkna ord. Det är också lämpligt med en visualisering över dessa vanligast förekommande ord. Även detta kommer vi behöva göra flera gånger och därför är det återigen lämpligt att definiera en funktion `plot_top_words()` som både räknar och plottar orden i ett stapeldiagram. \n",
        "\n",
        "**F12** I nedanstående cell är funktionen definierad, men koden är återigen inte kommenterad, skapa kommentarer (eller skriv i en markdowncell) som förklarar vad funktionen gör. \n"
      ]
    },
    {
      "cell_type": "code",
      "metadata": {
        "id": "aKEUk-ETeZeh"
      },
      "source": [
        "def plot_top_words(tweets, num_word_instances, top_words):\n",
        "    # Initialize new term document matrix with the tweets\n",
        "    tdm_df = create_term_document_matrix(tweets, min_df=2)\n",
        "    # Counting word frequences of word if char is more than 1 letter.\n",
        "    word_frequencies = tdm_df[[x for x in tdm_df.columns if len(x) > 1]].sum()\n",
        "    # Sorting word frequency with highest number in top\n",
        "    sorted_words = word_frequencies.sort_values(ascending=False)\n",
        "    # Create new series that we can plot and return based on how many of the top words we want to unclude.\n",
        "    top_sorted_words = sorted_words[:num_word_instances]\n",
        "    # Plotting top words series, with top_words being how many of the top words to be included in the plot. \n",
        "    top_sorted_words[:top_words].plot.bar()\n",
        "    # Returns the sorted most frequent words\n",
        "    return top_sorted_words"
      ],
      "execution_count": 15,
      "outputs": []
    },
    {
      "cell_type": "markdown",
      "metadata": {
        "id": "NnJYc6i0eZeh"
      },
      "source": [
        "Nu kan vi använda `plot_top_words()` funktionen för att räkna ut de mest förekommande orden i hela vårt corpus, viktigt att ha tålamod dock för det kan ta ett tag. Nedanstående kod utför beräkningen."
      ]
    },
    {
      "cell_type": "code",
      "metadata": {
        "id": "slDth7nneZeh",
        "colab": {
          "base_uri": "https://localhost:8080/",
          "height": 1000
        },
        "outputId": "ffcdc639-ea70-4ef8-dffe-4e427a743d52"
      },
      "source": [
        "top_words = plot_top_words(clean_tweets, 50, 30)\n",
        "top_words"
      ],
      "execution_count": 16,
      "outputs": [
        {
          "output_type": "execute_result",
          "data": {
            "text/plain": [
              "bokmaessan         9858\n",
              "paa                5256\n",
              "rt                 4805\n",
              "aer                2351\n",
              "foer               1811\n",
              "monter             1052\n",
              "svpol               850\n",
              "haer                761\n",
              "kl                  648\n",
              "bokmassangbg        604\n",
              "nya                 595\n",
              "fraan               580\n",
              "saa                 550\n",
              "yttrandefrihet      531\n",
              "faar                521\n",
              "amp                 479\n",
              "idag                456\n",
              "ska                 446\n",
              "naer                413\n",
              "kom                 411\n",
              "samtal              409\n",
              "goeteborg           400\n",
              "bokmassan           375\n",
              "tider               374\n",
              "vaar                366\n",
              "aar                 306\n",
              "bok                 284\n",
              "30                  278\n",
              "vill                278\n",
              "just                270\n",
              "plats               265\n",
              "se                  260\n",
              "kommer              259\n",
              "in                  254\n",
              "itorget             247\n",
              "20                  235\n",
              "boecker             233\n",
              "10                  233\n",
              "daer                231\n",
              "finns               227\n",
              "pratar              226\n",
              "tack                216\n",
              "varfoer             216\n",
              "pedagogikscenen     210\n",
              "15                  206\n",
              "charlieafnord       204\n",
              "bibliotek           198\n",
              "seminarium          191\n",
              "saeger              184\n",
              "bara                183\n",
              "dtype: int64"
            ]
          },
          "metadata": {
            "tags": []
          },
          "execution_count": 16
        },
        {
          "output_type": "display_data",
          "data": {
            "image/png": "[encoded data removed]",
            "text/plain": [
              "<Figure size 720x432 with 1 Axes>"
            ]
          },
          "metadata": {
            "tags": [],
            "needs_background": "light"
          }
        }
      ]
    },
    {
      "cell_type": "markdown",
      "metadata": {
        "id": "r_3gEOBdeZeh"
      },
      "source": [
        "**F13** Hur många gånger måste ett ord finnas i corpuset för att finnas med i `top_words` så som den är skriven ovan?"
      ]
    },
    {
      "cell_type": "code",
      "metadata": {
        "id": "NdlHQ7tup9X9",
        "colab": {
          "base_uri": "https://localhost:8080/"
        },
        "outputId": "7bf83e0b-fd30-4c39-a096-dfe9e433cdb1"
      },
      "source": [
        "top_words.min() # prints the lowest value from the corpus"
      ],
      "execution_count": 17,
      "outputs": [
        {
          "output_type": "execute_result",
          "data": {
            "text/plain": [
              "183"
            ]
          },
          "metadata": {
            "tags": []
          },
          "execution_count": 17
        }
      ]
    },
    {
      "cell_type": "markdown",
      "metadata": {
        "id": "MyOCKmZkqJSk"
      },
      "source": [
        "**F13 Svar:** top_words ovan plottar ut de 30 vanligaste orden av en serie på 50 ord. Det sista ordet i serien har 183 förekommanden så ordet måste ha fler än 183 för att vara med i serien. För att plottas ut måste ordet förekomma fler än 270 gånger. \r\n",
        "I själva funktionen plot_top_words tycks den lägga till alla ord som förekommer fler än 1 gånger i en \"serie\", men de som plottas ut och returneras är det antal som inkommer i parametrarna. "
      ]
    },
    {
      "cell_type": "markdown",
      "metadata": {
        "id": "hyh1HViheZeh"
      },
      "source": [
        "**F14.** Hur många ord plottas i stapeldiagrammet? "
      ]
    },
    {
      "cell_type": "markdown",
      "metadata": {
        "id": "8_AICrUlqS5Y"
      },
      "source": [
        "**F14 Svar:** 30 ord. Detta avgörs genom inargumentet top_words i plot_top_words."
      ]
    },
    {
      "cell_type": "markdown",
      "metadata": {
        "lang": "en",
        "id": "Xh2iWklAeZeh"
      },
      "source": [
        "### Små bokstäver\n",
        "\n",
        "Nästa steg i pre-processingen av vårt dataset (vårt corpus) är att göra om alla bokstäver till små. \n",
        "\n",
        "**F15** \n",
        "\n",
        "a.Utför ändringen att alla stora bokstäver blir små bokstäver i `clean_tweets` och spara i en ny variabel kallad `tweets_lowered`\n",
        "\n",
        "b.Varför vill man göra det för vår analys?\n"
      ]
    },
    {
      "cell_type": "code",
      "metadata": {
        "colab": {
          "base_uri": "https://localhost:8080/"
        },
        "id": "SNaRQ1nFrEE-",
        "outputId": "d5ea5d14-2c01-4a17-9ca2-51fb9fd1680b"
      },
      "source": [
        "# F15 a)  \r\n",
        "# Converting all strings in series to lowercase\r\n",
        "tweets_lowered = clean_tweets.str.lower()\r\n",
        "# Check if only lowercase (should print True)\r\n",
        "tweets_lowered.str.islower().any() \r\n",
        "tweets_lowered"
      ],
      "execution_count": 18,
      "outputs": [
        {
          "output_type": "execute_result",
          "data": {
            "text/plain": [
              "0       rt @amiethekid: kvaellens avsnitt av raseriet ...\n",
              "1       maranatafoersamlingens monter paa bokmaessan v...\n",
              "2       idrotten blev en trygg zon under en jobbig ton...\n",
              "3        tillbakablick paa #bokmaessan #goeteborg del 1  \n",
              "4       rt @flamman_: aha, vilken tid aer demon? hm, d...\n",
              "                              ...                        \n",
              "9995    rt @mxcartoons: nya tider kommenterar bokmaess...\n",
              "9996    rt @viskot: apropaa #bokmaessan och det haer m...\n",
              "9997    rt @charlieafnord: hej @bokmassangbg. kommer n...\n",
              "9998    rt @mxcartoons: nya tider kommenterar bokmaess...\n",
              "9999    rt @dolf371: tystnad aer yttrandefrihet  #bokm...\n",
              "Name: text, Length: 10000, dtype: object"
            ]
          },
          "metadata": {
            "tags": []
          },
          "execution_count": 18
        }
      ]
    },
    {
      "cell_type": "markdown",
      "metadata": {
        "id": "JTamgTS5rm1Z"
      },
      "source": [
        "**F15 b) Svar:** Det hjälper att ta bort delar i data som inte är hjälpsamt (noise). Detta kan bland annat göras genom att göra om all text till små bokstäver, vilket ökar enkelheten i datan. Detta hjälper med att upprätthålla ett konsistent flöde när man använder tekniker i NLP och text mining."
      ]
    },
    {
      "cell_type": "markdown",
      "metadata": {
        "id": "UUHUCGx8eZei"
      },
      "source": [
        "**F16** Räkna ut en ny variabel med de mest förekommander (frekventa) orden, döp den till `top_words_lowered`"
      ]
    },
    {
      "cell_type": "code",
      "metadata": {
        "id": "kgcC_kBmeZei",
        "colab": {
          "base_uri": "https://localhost:8080/",
          "height": 1000
        },
        "outputId": "57514ed7-5634-422c-fb35-775c0de59161"
      },
      "source": [
        "#Skriv klart denna kodcell för F1.16\n",
        "\n",
        "top_words_lowered = plot_top_words(tweets_lowered , 50, 30)\n",
        "top_words_lowered"
      ],
      "execution_count": 19,
      "outputs": [
        {
          "output_type": "execute_result",
          "data": {
            "text/plain": [
              "bokmaessan         9858\n",
              "paa                5256\n",
              "rt                 4805\n",
              "aer                2351\n",
              "foer               1811\n",
              "monter             1052\n",
              "svpol               850\n",
              "haer                761\n",
              "kl                  648\n",
              "bokmassangbg        604\n",
              "nya                 595\n",
              "fraan               580\n",
              "saa                 550\n",
              "yttrandefrihet      531\n",
              "faar                521\n",
              "amp                 479\n",
              "idag                456\n",
              "ska                 446\n",
              "naer                413\n",
              "kom                 411\n",
              "samtal              409\n",
              "goeteborg           400\n",
              "bokmassan           375\n",
              "tider               374\n",
              "vaar                366\n",
              "aar                 306\n",
              "bok                 284\n",
              "30                  278\n",
              "vill                278\n",
              "just                270\n",
              "plats               265\n",
              "se                  260\n",
              "kommer              259\n",
              "in                  254\n",
              "itorget             247\n",
              "20                  235\n",
              "boecker             233\n",
              "10                  233\n",
              "daer                231\n",
              "finns               227\n",
              "pratar              226\n",
              "tack                216\n",
              "varfoer             216\n",
              "pedagogikscenen     210\n",
              "15                  206\n",
              "charlieafnord       204\n",
              "bibliotek           198\n",
              "seminarium          191\n",
              "saeger              184\n",
              "bara                183\n",
              "dtype: int64"
            ]
          },
          "metadata": {
            "tags": []
          },
          "execution_count": 19
        },
        {
          "output_type": "display_data",
          "data": {
            "image/png": "[encoded data removed]",
            "text/plain": [
              "<Figure size 720x432 with 1 Axes>"
            ]
          },
          "metadata": {
            "tags": [],
            "needs_background": "light"
          }
        }
      ]
    },
    {
      "cell_type": "markdown",
      "metadata": {
        "id": "XdFvlcOUeZej"
      },
      "source": [
        "**F17.** Har något förändrats, vad? Förklara svaret."
      ]
    },
    {
      "cell_type": "markdown",
      "metadata": {
        "id": "TbLQ0ZJWsLv2"
      },
      "source": [
        "**F17 Svar:** Inget har förändrats. CountVectorizer som anropas i metoden ändrar till lowercase automatiskt om detta inte ställs in."
      ]
    },
    {
      "cell_type": "markdown",
      "metadata": {
        "lang": "en",
        "id": "jcSk4ST_eZej"
      },
      "source": [
        "För att underlätta att jämföra vad våra ansträngningar får för resultat kan det vara bra att enkelt kunna jämföra olika listor med top_words.\n",
        "\n",
        "**F18** Skapa en ny dataframe som har två kolumner, en med de 20 mest frekventa orden från`top_words` och en med de 20 mest frekventa orden från `top_word_lowered`. Döp kolumnerna till `Top tweeted clean`och  `Top tweeted lowered`. "
      ]
    },
    {
      "cell_type": "code",
      "metadata": {
        "id": "p3qdsRH6eZej",
        "colab": {
          "base_uri": "https://localhost:8080/",
          "height": 669
        },
        "outputId": "0f83fabb-7e59-4aea-8e96-de0a009ccf84"
      },
      "source": [
        "pd.DataFrame({\n",
        "    'Top tweeted clean': top_words[0:20].index,\n",
        "    'Top tweeted lowered': top_words_lowered[0:20].index\n",
        "})"
      ],
      "execution_count": 20,
      "outputs": [
        {
          "output_type": "execute_result",
          "data": {
            "text/html": [
              "<div>\n",
              "<style scoped>\n",
              "    .dataframe tbody tr th:only-of-type {\n",
              "        vertical-align: middle;\n",
              "    }\n",
              "\n",
              "    .dataframe tbody tr th {\n",
              "        vertical-align: top;\n",
              "    }\n",
              "\n",
              "    .dataframe thead th {\n",
              "        text-align: right;\n",
              "    }\n",
              "</style>\n",
              "<table border=\"1\" class=\"dataframe\">\n",
              "  <thead>\n",
              "    <tr style=\"text-align: right;\">\n",
              "      <th></th>\n",
              "      <th>Top tweeted clean</th>\n",
              "      <th>Top tweeted lowered</th>\n",
              "    </tr>\n",
              "  </thead>\n",
              "  <tbody>\n",
              "    <tr>\n",
              "      <th>0</th>\n",
              "      <td>bokmaessan</td>\n",
              "      <td>bokmaessan</td>\n",
              "    </tr>\n",
              "    <tr>\n",
              "      <th>1</th>\n",
              "      <td>paa</td>\n",
              "      <td>paa</td>\n",
              "    </tr>\n",
              "    <tr>\n",
              "      <th>2</th>\n",
              "      <td>rt</td>\n",
              "      <td>rt</td>\n",
              "    </tr>\n",
              "    <tr>\n",
              "      <th>3</th>\n",
              "      <td>aer</td>\n",
              "      <td>aer</td>\n",
              "    </tr>\n",
              "    <tr>\n",
              "      <th>4</th>\n",
              "      <td>foer</td>\n",
              "      <td>foer</td>\n",
              "    </tr>\n",
              "    <tr>\n",
              "      <th>5</th>\n",
              "      <td>monter</td>\n",
              "      <td>monter</td>\n",
              "    </tr>\n",
              "    <tr>\n",
              "      <th>6</th>\n",
              "      <td>svpol</td>\n",
              "      <td>svpol</td>\n",
              "    </tr>\n",
              "    <tr>\n",
              "      <th>7</th>\n",
              "      <td>haer</td>\n",
              "      <td>haer</td>\n",
              "    </tr>\n",
              "    <tr>\n",
              "      <th>8</th>\n",
              "      <td>kl</td>\n",
              "      <td>kl</td>\n",
              "    </tr>\n",
              "    <tr>\n",
              "      <th>9</th>\n",
              "      <td>bokmassangbg</td>\n",
              "      <td>bokmassangbg</td>\n",
              "    </tr>\n",
              "    <tr>\n",
              "      <th>10</th>\n",
              "      <td>nya</td>\n",
              "      <td>nya</td>\n",
              "    </tr>\n",
              "    <tr>\n",
              "      <th>11</th>\n",
              "      <td>fraan</td>\n",
              "      <td>fraan</td>\n",
              "    </tr>\n",
              "    <tr>\n",
              "      <th>12</th>\n",
              "      <td>saa</td>\n",
              "      <td>saa</td>\n",
              "    </tr>\n",
              "    <tr>\n",
              "      <th>13</th>\n",
              "      <td>yttrandefrihet</td>\n",
              "      <td>yttrandefrihet</td>\n",
              "    </tr>\n",
              "    <tr>\n",
              "      <th>14</th>\n",
              "      <td>faar</td>\n",
              "      <td>faar</td>\n",
              "    </tr>\n",
              "    <tr>\n",
              "      <th>15</th>\n",
              "      <td>amp</td>\n",
              "      <td>amp</td>\n",
              "    </tr>\n",
              "    <tr>\n",
              "      <th>16</th>\n",
              "      <td>idag</td>\n",
              "      <td>idag</td>\n",
              "    </tr>\n",
              "    <tr>\n",
              "      <th>17</th>\n",
              "      <td>ska</td>\n",
              "      <td>ska</td>\n",
              "    </tr>\n",
              "    <tr>\n",
              "      <th>18</th>\n",
              "      <td>naer</td>\n",
              "      <td>naer</td>\n",
              "    </tr>\n",
              "    <tr>\n",
              "      <th>19</th>\n",
              "      <td>kom</td>\n",
              "      <td>kom</td>\n",
              "    </tr>\n",
              "  </tbody>\n",
              "</table>\n",
              "</div>"
            ],
            "text/plain": [
              "   Top tweeted clean Top tweeted lowered\n",
              "0         bokmaessan          bokmaessan\n",
              "1                paa                 paa\n",
              "2                 rt                  rt\n",
              "3                aer                 aer\n",
              "4               foer                foer\n",
              "5             monter              monter\n",
              "6              svpol               svpol\n",
              "7               haer                haer\n",
              "8                 kl                  kl\n",
              "9       bokmassangbg        bokmassangbg\n",
              "10               nya                 nya\n",
              "11             fraan               fraan\n",
              "12               saa                 saa\n",
              "13    yttrandefrihet      yttrandefrihet\n",
              "14              faar                faar\n",
              "15               amp                 amp\n",
              "16              idag                idag\n",
              "17               ska                 ska\n",
              "18              naer                naer\n",
              "19               kom                 kom"
            ]
          },
          "metadata": {
            "tags": []
          },
          "execution_count": 20
        }
      ]
    },
    {
      "cell_type": "markdown",
      "metadata": {
        "lang": "en",
        "id": "JSuJucZMeZek"
      },
      "source": [
        "Ett annnat sätt att göra ungefär samma sak, fast lite mer automatiskt är nedanstående kod som också jämför de första 20 orden. Gör om den så att den istället för att jämföra de 20 mest frekventa orden, jämför de ord som är minst förekommande i de två listorna `top_words`och `top_words_lowered`.\n",
        "\n",
        "**F19** Vad returnerar nedanstående kodrad om de två listor som jämförs är identiska? Vad returneras om de inte är identiska?"
      ]
    },
    {
      "cell_type": "code",
      "metadata": {
        "id": "VG5SUA6eI2V5",
        "colab": {
          "base_uri": "https://localhost:8080/"
        },
        "outputId": "20113477-1cdf-4f35-c2c4-69e27a94fe4d"
      },
      "source": [
        "# Just to demonstrate 20 least frequent words\r\n",
        "print(f'{top_words[:-21:-1]}\\n')\r\n",
        "\r\n",
        "# Returns set() which means lists are equal.\r\n",
        "print(f'{set(top_words[:-21:-1].index) - set(top_words_lowered[:-21:-1].index)}\\n')\r\n",
        "\r\n",
        "l1 = ['1','3','6','5','9']\r\n",
        "l2 = ['1','4','6','8','7']\r\n",
        "\r\n",
        "# Returns the different values in l1 compared to l2.\r\n",
        "set(l1)-set(l2)"
      ],
      "execution_count": 21,
      "outputs": [
        {
          "output_type": "stream",
          "text": [
            "bara               183\n",
            "saeger             184\n",
            "seminarium         191\n",
            "bibliotek          198\n",
            "charlieafnord      204\n",
            "15                 206\n",
            "pedagogikscenen    210\n",
            "varfoer            216\n",
            "tack               216\n",
            "pratar             226\n",
            "finns              227\n",
            "daer               231\n",
            "10                 233\n",
            "boecker            233\n",
            "20                 235\n",
            "itorget            247\n",
            "in                 254\n",
            "kommer             259\n",
            "se                 260\n",
            "plats              265\n",
            "dtype: int64\n",
            "\n",
            "set()\n",
            "\n"
          ],
          "name": "stdout"
        },
        {
          "output_type": "execute_result",
          "data": {
            "text/plain": [
              "{'3', '5', '9'}"
            ]
          },
          "metadata": {
            "tags": []
          },
          "execution_count": 21
        }
      ]
    },
    {
      "cell_type": "markdown",
      "metadata": {
        "id": "hu7z2CY3I-Q4"
      },
      "source": [
        "**F19 Svar:** Om listorna är identiska returneras set(). Om listorna inte är identiska returneras de strängar som skiljer sig från den andra från den första listan i syntaxen. I set(l1)-set(l2) visas det t.ex. att det är 3, 5, & 9 som skiljer l1 mot l2."
      ]
    },
    {
      "cell_type": "code",
      "metadata": {
        "id": "inCzus6-eZek",
        "colab": {
          "base_uri": "https://localhost:8080/"
        },
        "outputId": "f1b72c59-b67f-430b-8607-99fb062c89e5"
      },
      "source": [
        "set(top_words[0:20].index) - set(top_words_lowered[0:20].index)"
      ],
      "execution_count": 22,
      "outputs": [
        {
          "output_type": "execute_result",
          "data": {
            "text/plain": [
              "set()"
            ]
          },
          "metadata": {
            "tags": []
          },
          "execution_count": 22
        }
      ]
    },
    {
      "cell_type": "markdown",
      "metadata": {
        "id": "kSZgmKe1eZek"
      },
      "source": [
        "### Korta ord\n",
        "\n",
        "Korta ord har ofta inte någon egentlig betydelse, alltså behöver vi inte dessa ord. Typiska sådana ord kan vara ja, jo eller nej. Vi bestämmer oss för att alla ord som är kortare än 3 bokstäver inte innehar någon betydelse i vår analys och tar därmed bort dem. \n",
        "\n",
        "**F20** Ta bort alla ord med färre bokstäver än 3(HINT: [regular expressions](https://docs.python.org/3/howto/regex.html)), lägg den nya listan med ord (som inte innehåller ord med färre bokstäver än 3) i en variabel med namn `tweets_low_no_small`\n",
        "\n"
      ]
    },
    {
      "cell_type": "code",
      "metadata": {
        "id": "EaMja1AXeZek",
        "colab": {
          "base_uri": "https://localhost:8080/"
        },
        "outputId": "4bb845d2-f1cb-4d2c-d0c3-cc74a752d065"
      },
      "source": [
        "# Demo of tweets lowered\r\n",
        "print(f'{tweets_lowered[0:10]}\\n')\r\n",
        "\r\n",
        "# Another way to get the same result:\r\n",
        "tweets_low_no_small = tweets_lowered.str.findall('\\w{3,}').str.join(' ')\r\n",
        "\r\n",
        "# Demo of tweets_low_no_smal\r\n",
        "print(f'{tweets_low_no_small[0:10]}\\n')"
      ],
      "execution_count": 23,
      "outputs": [
        {
          "output_type": "stream",
          "text": [
            "0    rt @amiethekid: kvaellens avsnitt av raseriet ...\n",
            "1    maranatafoersamlingens monter paa bokmaessan v...\n",
            "2    idrotten blev en trygg zon under en jobbig ton...\n",
            "3     tillbakablick paa #bokmaessan #goeteborg del 1  \n",
            "4    rt @flamman_: aha, vilken tid aer demon? hm, d...\n",
            "5    aha, vilken tid aer demon? hm, den krockar med...\n",
            "6    rt @mariabennet2000: tack lisa bjurwald - rakr...\n",
            "7    rt @mvasara: haer aer den gardell ni borde lae...\n",
            "8    boksmaellan aer paataglig. men hellre boksmael...\n",
            "9    tack lisa bjurwald - rakryggat och otroligt vi...\n",
            "Name: text, dtype: object\n",
            "\n",
            "0    amiethekid kvaellens avsnitt raseriet hittar h...\n",
            "1    maranatafoersamlingens monter paa bokmaessan v...\n",
            "2    idrotten blev trygg zon under jobbig tonaarsti...\n",
            "3           tillbakablick paa bokmaessan goeteborg del\n",
            "4    flamman_ aha vilken tid aer demon den krockar ...\n",
            "5    aha vilken tid aer demon den krockar med mina ...\n",
            "6    mariabennet2000 tack lisa bjurwald rakryggat o...\n",
            "7    mvasara haer aer den gardell borde laesa bokma...\n",
            "8    boksmaellan aer paataglig men hellre boksmaell...\n",
            "9    tack lisa bjurwald rakryggat och otroligt vikt...\n",
            "Name: text, dtype: object\n",
            "\n"
          ],
          "name": "stdout"
        }
      ]
    },
    {
      "cell_type": "code",
      "metadata": {
        "id": "DtdzBKxYeZek",
        "colab": {
          "base_uri": "https://localhost:8080/",
          "height": 1000
        },
        "outputId": "8f4c6825-73e4-4033-cfd9-7216edd7a75b"
      },
      "source": [
        "#Skapar ny topplista utan korta ord\n",
        "top_words_low_no_small = plot_top_words(tweets_low_no_small, 50, 30)\n",
        "top_words_low_no_small"
      ],
      "execution_count": 24,
      "outputs": [
        {
          "output_type": "execute_result",
          "data": {
            "text/plain": [
              "bokmaessan         9858\n",
              "paa                5256\n",
              "aer                2351\n",
              "foer               1811\n",
              "monter             1052\n",
              "svpol               850\n",
              "haer                761\n",
              "bokmassangbg        604\n",
              "nya                 595\n",
              "fraan               580\n",
              "saa                 550\n",
              "yttrandefrihet      531\n",
              "faar                521\n",
              "amp                 479\n",
              "idag                456\n",
              "ska                 446\n",
              "naer                413\n",
              "kom                 411\n",
              "samtal              409\n",
              "goeteborg           400\n",
              "bokmassan           375\n",
              "tider               374\n",
              "vaar                366\n",
              "aar                 306\n",
              "bok                 284\n",
              "vill                278\n",
              "just                270\n",
              "plats               265\n",
              "kommer              259\n",
              "itorget             247\n",
              "boecker             233\n",
              "daer                231\n",
              "finns               227\n",
              "pratar              226\n",
              "varfoer             216\n",
              "tack                216\n",
              "pedagogikscenen     210\n",
              "charlieafnord       204\n",
              "bibliotek           198\n",
              "seminarium          191\n",
              "saeger              184\n",
              "bara                183\n",
              "dag                 183\n",
              "lyssna              182\n",
              "vaelkommen          178\n",
              "hos                 176\n",
              "c04                 176\n",
              "barn                175\n",
              "missa               175\n",
              "bra                 169\n",
              "dtype: int64"
            ]
          },
          "metadata": {
            "tags": []
          },
          "execution_count": 24
        },
        {
          "output_type": "display_data",
          "data": {
            "image/png": "[encoded data removed]",
            "text/plain": [
              "<Figure size 720x432 with 1 Axes>"
            ]
          },
          "metadata": {
            "tags": [],
            "needs_background": "light"
          }
        }
      ]
    },
    {
      "cell_type": "markdown",
      "metadata": {
        "id": "ve0nvVXseZel"
      },
      "source": [
        "**F21.** Efter att korta ord tagits bort, hur många gånger måste ett ord förekomma i vårt corpus för att hamna i den nya listan enligt ovan? "
      ]
    },
    {
      "cell_type": "code",
      "metadata": {
        "colab": {
          "base_uri": "https://localhost:8080/"
        },
        "id": "69on_YSjLenP",
        "outputId": "7dbdb3a7-9cb1-46f9-84fe-6a64460bc40b"
      },
      "source": [
        "print(f'Minimum value: {top_words_low_no_small.min()}')"
      ],
      "execution_count": 25,
      "outputs": [
        {
          "output_type": "stream",
          "text": [
            "Minimum value: 169\n"
          ],
          "name": "stdout"
        }
      ]
    },
    {
      "cell_type": "markdown",
      "metadata": {
        "id": "3KBZgB0jLhQj"
      },
      "source": [
        "**F21 Svar:** 169 ggr. För plot: 247."
      ]
    },
    {
      "cell_type": "markdown",
      "metadata": {
        "lang": "en",
        "id": "PYD6Y3O8eZel"
      },
      "source": [
        "### Betydelselösa ord\n",
        "\n",
        "Stop words är andra ord som inte är korta men som ändå inte har betydelse, dessa kan vara lite besvärligare att identifiera och ta bort. En möjlighet är att helt enkelt skapa en lista med sådana ord och sedan använda den listan för att filtrera ut orden ur ett corpus. Vi har ju redan tagit bort alla ord med färre bokstäver än 3, så sådana behöver vi inte lägga in i listan. \n",
        "\n",
        "Nedan är ett exempel på en lista med stoppord som är betydelselösa. \n"
      ]
    },
    {
      "cell_type": "code",
      "metadata": {
        "id": "nei4fKe0eZel"
      },
      "source": [
        "my_stop_words = [\"och\", \"det\", \"att\", \"i\", \"en\", \"jag\", \"hon\", \n",
        "                \"som\", \"han\", \"paa\", \"den\", \"med\", \"var\", \"sig\", \n",
        "                \"foer\", \"saa\", \"till\", \"aer\", \"men\", \"ett\", \n",
        "                \"om\", \"hade\", \"de\", \"av\", \"icke\", \"mig\", \"du\", \n",
        "                \"henne\", \"daa\", \"sin\", \"nu\", \"har\", \"inte\", \n",
        "                \"hans\", \"honom\", \"skulle\", \"hennes\", \"daer\", \n",
        "                \"min\", \"man\", \"ej\", \"vid\", \"kunde\", \"naagot\", \n",
        "                \"fraan\", \"ut\", \"naer\", \"efter\", \"upp\", \"vi\", \n",
        "                \"dem\", \"vara\", \"vad\", \"oever\", \"aen\", \"dig\", \n",
        "                \"kan\", \"sina\", \"haer\", \"ha\", \"mot\", \"alla\", \n",
        "                \"under\", \"naagon\", \"eller\", \"allt\", \"mycket\", \n",
        "                \"sedan\", \"ju\", \"denna\", \"sjaelv\", \"detta\", \n",
        "                \"aat\", \"utan\", \"varit\", \"hur\", \"ingen\", \"mitt\", \n",
        "                \"ni\", \"bli\", \"blev\", \"oss\", \"din\", \"dessa\", \n",
        "                \"naagra\", \"deras\", \"blir\", \"mina\", \"samma\", \n",
        "                \"vilken\", \"er\", \"saadan\", \"vaar\", \"blivit\", \n",
        "                \"dess\", \"inom\", \"mellan\", \"saadant\", \"varfoer\", \n",
        "                \"varje\", \"vilka\", \"ditt\", \"vem\", \"vilket\", \n",
        "                \"sitta\", \"saadana\", \"vart\", \"dina\", \"vars\", \n",
        "                \"vaart\", \"vaara\", \"ert\", \"era\", \"vilka\"]"
      ],
      "execution_count": 26,
      "outputs": []
    },
    {
      "cell_type": "markdown",
      "metadata": {
        "lang": "en",
        "id": "kE42vyTSeZel"
      },
      "source": [
        "När vi skapat vår lista är det dags att skapa en funktion som tar bort dessa från ett dokument. Denna funktion är kodad i cellen nedan. (Igen strunta i lambda för tillfället.)"
      ]
    },
    {
      "cell_type": "code",
      "metadata": {
        "id": "q9eiG_MXeZem"
      },
      "source": [
        "remove_stopwords = lambda x: ' '.join(y for y in x.split() if y not in my_stop_words)"
      ],
      "execution_count": 27,
      "outputs": []
    },
    {
      "cell_type": "markdown",
      "metadata": {
        "id": "78OVpqNOeZem"
      },
      "source": [
        "Funktionen ovan tar alltså bort stoppord från ett dokument (alltså en tweet), för att ta bort stoppord från hela vårt corpus kan funktionen `.apply()`användas. \n",
        "\n",
        "**F22.** Skriv den kod som tar bort alla stoppord från `tweets_low_no_small` och skapar en ny variabel `tweets_low_no_small_stopwords` för corpuset utan stoppord."
      ]
    },
    {
      "cell_type": "code",
      "metadata": {
        "id": "88J5WE0teZem"
      },
      "source": [
        "tweets_low_no_small_stopwords = tweets_low_no_small.apply(remove_stopwords)"
      ],
      "execution_count": 28,
      "outputs": []
    },
    {
      "cell_type": "code",
      "metadata": {
        "id": "THj19qioeZem",
        "colab": {
          "base_uri": "https://localhost:8080/",
          "height": 1000
        },
        "outputId": "20b78f15-65e8-4466-9a78-d341ddb98d30"
      },
      "source": [
        "top_words_low_no_small_stopwords = plot_top_words(tweets_low_no_small_stopwords, 50, 30)\n",
        "top_words_low_no_small_stopwords"
      ],
      "execution_count": 29,
      "outputs": [
        {
          "output_type": "execute_result",
          "data": {
            "text/plain": [
              "bokmaessan         9858\n",
              "monter             1052\n",
              "svpol               850\n",
              "bokmassangbg        604\n",
              "nya                 595\n",
              "yttrandefrihet      531\n",
              "faar                521\n",
              "amp                 479\n",
              "idag                456\n",
              "ska                 446\n",
              "kom                 411\n",
              "samtal              409\n",
              "goeteborg           400\n",
              "bokmassan           375\n",
              "tider               374\n",
              "aar                 306\n",
              "bok                 284\n",
              "vill                278\n",
              "just                270\n",
              "plats               265\n",
              "kommer              259\n",
              "itorget             247\n",
              "boecker             233\n",
              "finns               227\n",
              "pratar              226\n",
              "tack                216\n",
              "pedagogikscenen     210\n",
              "charlieafnord       204\n",
              "bibliotek           198\n",
              "seminarium          191\n",
              "saeger              184\n",
              "bara                183\n",
              "dag                 183\n",
              "lyssna              182\n",
              "vaelkommen          178\n",
              "c04                 176\n",
              "hos                 176\n",
              "missa               175\n",
              "barn                175\n",
              "skaems              169\n",
              "bra                 169\n",
              "maaste              167\n",
              "igen                167\n",
              "goer                166\n",
              "kolla               165\n",
              "pandark2083         158\n",
              "foerfattare         156\n",
              "skolan              154\n",
              "hoer                153\n",
              "faa                 151\n",
              "dtype: int64"
            ]
          },
          "metadata": {
            "tags": []
          },
          "execution_count": 29
        },
        {
          "output_type": "display_data",
          "data": {
            "image/png": "[encoded data removed]",
            "text/plain": [
              "<Figure size 720x432 with 1 Axes>"
            ]
          },
          "metadata": {
            "tags": [],
            "needs_background": "light"
          }
        }
      ]
    },
    {
      "cell_type": "markdown",
      "metadata": {
        "id": "P2w7T4-PeZen"
      },
      "source": [
        "**F23.** Efter att stopporden tagits bort, hur många gånger måste ett ord förekomma i vårt corpus för att hamna i den nya listan enligt ovan? "
      ]
    },
    {
      "cell_type": "markdown",
      "metadata": {
        "lang": "en",
        "id": "Lp1MF_uceZen"
      },
      "source": [
        "**F24.** Vad är skillnaderna mellan de frekvent förekommande orden i jämförelse med våra tidigare listor? Skriv den kod som jämför dessa tre listor `top_words_lowered`, `top_words_low_no_small` and `top_words_low_no_small_stopwords`, titta på de första 20 orden i listorna.\n"
      ]
    },
    {
      "cell_type": "code",
      "metadata": {
        "id": "uhlwygCFRSNn",
        "colab": {
          "base_uri": "https://localhost:8080/",
          "height": 669
        },
        "outputId": "842d278f-b83e-4947-bb1e-a8760a5f31ec"
      },
      "source": [
        "# F24\r\n",
        "\r\n",
        "pd.DataFrame({\r\n",
        "    'Top tweeted lowered': top_words_lowered[0:20].index,\r\n",
        "    'Top tweeted low no small': top_words_low_no_small[0:20].index,\r\n",
        "    'Top tweeted low no small stopwords': top_words_low_no_small_stopwords[0:20].index\r\n",
        "})"
      ],
      "execution_count": 30,
      "outputs": [
        {
          "output_type": "execute_result",
          "data": {
            "text/html": [
              "<div>\n",
              "<style scoped>\n",
              "    .dataframe tbody tr th:only-of-type {\n",
              "        vertical-align: middle;\n",
              "    }\n",
              "\n",
              "    .dataframe tbody tr th {\n",
              "        vertical-align: top;\n",
              "    }\n",
              "\n",
              "    .dataframe thead th {\n",
              "        text-align: right;\n",
              "    }\n",
              "</style>\n",
              "<table border=\"1\" class=\"dataframe\">\n",
              "  <thead>\n",
              "    <tr style=\"text-align: right;\">\n",
              "      <th></th>\n",
              "      <th>Top tweeted lowered</th>\n",
              "      <th>Top tweeted low no small</th>\n",
              "      <th>Top tweeted low no small stopwords</th>\n",
              "    </tr>\n",
              "  </thead>\n",
              "  <tbody>\n",
              "    <tr>\n",
              "      <th>0</th>\n",
              "      <td>bokmaessan</td>\n",
              "      <td>bokmaessan</td>\n",
              "      <td>bokmaessan</td>\n",
              "    </tr>\n",
              "    <tr>\n",
              "      <th>1</th>\n",
              "      <td>paa</td>\n",
              "      <td>paa</td>\n",
              "      <td>monter</td>\n",
              "    </tr>\n",
              "    <tr>\n",
              "      <th>2</th>\n",
              "      <td>rt</td>\n",
              "      <td>aer</td>\n",
              "      <td>svpol</td>\n",
              "    </tr>\n",
              "    <tr>\n",
              "      <th>3</th>\n",
              "      <td>aer</td>\n",
              "      <td>foer</td>\n",
              "      <td>bokmassangbg</td>\n",
              "    </tr>\n",
              "    <tr>\n",
              "      <th>4</th>\n",
              "      <td>foer</td>\n",
              "      <td>monter</td>\n",
              "      <td>nya</td>\n",
              "    </tr>\n",
              "    <tr>\n",
              "      <th>5</th>\n",
              "      <td>monter</td>\n",
              "      <td>svpol</td>\n",
              "      <td>yttrandefrihet</td>\n",
              "    </tr>\n",
              "    <tr>\n",
              "      <th>6</th>\n",
              "      <td>svpol</td>\n",
              "      <td>haer</td>\n",
              "      <td>faar</td>\n",
              "    </tr>\n",
              "    <tr>\n",
              "      <th>7</th>\n",
              "      <td>haer</td>\n",
              "      <td>bokmassangbg</td>\n",
              "      <td>amp</td>\n",
              "    </tr>\n",
              "    <tr>\n",
              "      <th>8</th>\n",
              "      <td>kl</td>\n",
              "      <td>nya</td>\n",
              "      <td>idag</td>\n",
              "    </tr>\n",
              "    <tr>\n",
              "      <th>9</th>\n",
              "      <td>bokmassangbg</td>\n",
              "      <td>fraan</td>\n",
              "      <td>ska</td>\n",
              "    </tr>\n",
              "    <tr>\n",
              "      <th>10</th>\n",
              "      <td>nya</td>\n",
              "      <td>saa</td>\n",
              "      <td>kom</td>\n",
              "    </tr>\n",
              "    <tr>\n",
              "      <th>11</th>\n",
              "      <td>fraan</td>\n",
              "      <td>yttrandefrihet</td>\n",
              "      <td>samtal</td>\n",
              "    </tr>\n",
              "    <tr>\n",
              "      <th>12</th>\n",
              "      <td>saa</td>\n",
              "      <td>faar</td>\n",
              "      <td>goeteborg</td>\n",
              "    </tr>\n",
              "    <tr>\n",
              "      <th>13</th>\n",
              "      <td>yttrandefrihet</td>\n",
              "      <td>amp</td>\n",
              "      <td>bokmassan</td>\n",
              "    </tr>\n",
              "    <tr>\n",
              "      <th>14</th>\n",
              "      <td>faar</td>\n",
              "      <td>idag</td>\n",
              "      <td>tider</td>\n",
              "    </tr>\n",
              "    <tr>\n",
              "      <th>15</th>\n",
              "      <td>amp</td>\n",
              "      <td>ska</td>\n",
              "      <td>aar</td>\n",
              "    </tr>\n",
              "    <tr>\n",
              "      <th>16</th>\n",
              "      <td>idag</td>\n",
              "      <td>naer</td>\n",
              "      <td>bok</td>\n",
              "    </tr>\n",
              "    <tr>\n",
              "      <th>17</th>\n",
              "      <td>ska</td>\n",
              "      <td>kom</td>\n",
              "      <td>vill</td>\n",
              "    </tr>\n",
              "    <tr>\n",
              "      <th>18</th>\n",
              "      <td>naer</td>\n",
              "      <td>samtal</td>\n",
              "      <td>just</td>\n",
              "    </tr>\n",
              "    <tr>\n",
              "      <th>19</th>\n",
              "      <td>kom</td>\n",
              "      <td>goeteborg</td>\n",
              "      <td>plats</td>\n",
              "    </tr>\n",
              "  </tbody>\n",
              "</table>\n",
              "</div>"
            ],
            "text/plain": [
              "   Top tweeted lowered  ... Top tweeted low no small stopwords\n",
              "0           bokmaessan  ...                         bokmaessan\n",
              "1                  paa  ...                             monter\n",
              "2                   rt  ...                              svpol\n",
              "3                  aer  ...                       bokmassangbg\n",
              "4                 foer  ...                                nya\n",
              "5               monter  ...                     yttrandefrihet\n",
              "6                svpol  ...                               faar\n",
              "7                 haer  ...                                amp\n",
              "8                   kl  ...                               idag\n",
              "9         bokmassangbg  ...                                ska\n",
              "10                 nya  ...                                kom\n",
              "11               fraan  ...                             samtal\n",
              "12                 saa  ...                          goeteborg\n",
              "13      yttrandefrihet  ...                          bokmassan\n",
              "14                faar  ...                              tider\n",
              "15                 amp  ...                                aar\n",
              "16                idag  ...                                bok\n",
              "17                 ska  ...                               vill\n",
              "18                naer  ...                               just\n",
              "19                 kom  ...                              plats\n",
              "\n",
              "[20 rows x 3 columns]"
            ]
          },
          "metadata": {
            "tags": []
          },
          "execution_count": 30
        }
      ]
    },
    {
      "cell_type": "markdown",
      "metadata": {
        "id": "7qZfm7YZRcHh"
      },
      "source": [
        "**F24 Svar:** Skillnaderna är att den första bara filtrerat bort stora bokstäver, den andra har filtrerat bort alla korta ord, och den tredje har inte med s.k. \"stopwords\". Alla listor innehåller alltså olika \"top tweets\"."
      ]
    },
    {
      "cell_type": "markdown",
      "metadata": {
        "lang": "en",
        "id": "KUhDb31JeZen"
      },
      "source": [
        "### Visualisering och rekommendation\n",
        "\n",
        "Dags att visualisera vårt resultat och övertyga vår klient om att vi hittat de bästa debattämnena för dem! Här gör vi det genom att skapa ett word cloud där de mest frekventa orden syns bäst. \n",
        "\n",
        "Nedanstående kod skapar ett ordmoln för `top_words_low_no_small_stopwords`"
      ]
    },
    {
      "cell_type": "code",
      "metadata": {
        "id": "xksP890xeZen",
        "colab": {
          "base_uri": "https://localhost:8080/",
          "height": 310
        },
        "outputId": "e6384cc3-fb95-452a-86a5-fca8541cb398"
      },
      "source": [
        "from wordcloud import WordCloud\n",
        "import matplotlib.pyplot as plt\n",
        "# Changing maximum amount fo words displayed to 20, which means just the top 20 words will be allowed.\n",
        "wordcloud = WordCloud(max_font_size=40, max_words =20)\n",
        "#wordcloud.fit_words(plot_top_words(clean_tweets, 200, 30).to_dict()) # use this to print lots of words\n",
        "wordcloud.fit_words(top_words_low_no_small_stopwords.to_dict())\n",
        "plt.figure()\n",
        "plt.imshow(wordcloud, interpolation=\"bilinear\")\n",
        "plt.axis(\"off\")\n",
        "plt.show()"
      ],
      "execution_count": 31,
      "outputs": [
        {
          "output_type": "display_data",
          "data": {
            "image/png": "[encoded data removed]",
            "text/plain": [
              "<Figure size 720x432 with 1 Axes>"
            ]
          },
          "metadata": {
            "tags": [],
            "needs_background": "light"
          }
        }
      ]
    },
    {
      "cell_type": "markdown",
      "metadata": {
        "id": "cvuaqdddeZeo"
      },
      "source": [
        "**F25** Ändra i tidigare kod hur många gånger ett ord minst måste finnas för att det ska inkluderas i ordmolnet. Vad förändras?"
      ]
    },
    {
      "cell_type": "markdown",
      "metadata": {
        "id": "IqjUiD9oShdg"
      },
      "source": [
        "**F25 Svar:** Ändrade max antalet ord som ska visas, vilket innebär att tröskeln för att komma med i molnet blir även den blir högre. Skillnaden är att färre ord visas och att det blir tydligare att sålla ut de mest populära ämnena.\r\n"
      ]
    },
    {
      "cell_type": "markdown",
      "metadata": {
        "lang": "en",
        "id": "qLEH5Ep_eZeo"
      },
      "source": [
        "**F26** När du tittar på ordmolnet, är det fler ord som borde vara stoppord? Ange några stycken och förklara varför de bör tas bort."
      ]
    },
    {
      "cell_type": "markdown",
      "metadata": {
        "id": "ZerWKXY_Slu4"
      },
      "source": [
        "**F26 Svar:** \"pandark2083\" kan vara ett user_name där man glömt ha med @{user_name}, denna skulle därför kunna tas bort med hjälp av stoppord. \"c04\" är ett ord som inte säger så mycket, \"itorget\" kan tänkas vara en ihopskrivning av \"i torget\", ord som \"hos\", \"nya\", \"ska\", \"aar\", \"faa\" är ord som inte ger så mycket information så dessa skulle kunna tas bort. Det är möjligt att \"amp\" kommer ifrån html då en HTML-entitet är: \"& amp;\""
      ]
    },
    {
      "cell_type": "markdown",
      "metadata": {
        "lang": "en",
        "id": "eD3wFDrOeZeo"
      },
      "source": [
        "**F27.** Vilket tema rekommenderar ni att publicisten ska ha som debattämne? Förklara svaret. "
      ]
    },
    {
      "cell_type": "markdown",
      "metadata": {
        "id": "U3ytyrfFTE-b"
      },
      "source": [
        "**F27 Svar:** Efter att ha sållat ner till 20 mest populära finner vi att yttrandefrihet är det tema vi upplever mest relevant. De flesta övriga i topp 20 är relaterade till mässan i sig än att vara specifika debattämnen. Detta kan även stärkas med https://bokmassan.se/2016/05/bokmassan-firar-det-fria-ordet/ \r\n",
        "Väldigt många av de populäraste orden kan länkas till Bokmässan i Göteborg som handlar om yttrandefrihet och tycks ha ägt rum 2020."
      ]
    },
    {
      "cell_type": "markdown",
      "metadata": {
        "lang": "en",
        "id": "vM5GBJa-eZeo"
      },
      "source": [
        "**F28.** Ni har nu arbetat med textdata, hur är det annorlunda när det gäller pre-processing jämfört med annan typ av data som är av mer numerisk eller kategorisk karaktär?"
      ]
    },
    {
      "cell_type": "markdown",
      "metadata": {
        "id": "c50Z6kVsT4JH"
      },
      "source": [
        "**F28 Svar:** Textdata innebär att man får förfina och ändra större sammansatta klumpar av information. Det finns andra utmaningar som att ta bort onödiga ord, emojis länkar och vad situationen nu kräver. I detta fall krävdes även t.ex. också räknande av förekomsten av varje ord. Vår uppfattning är att det möjligtvis är ännu viktigare att verkligen analysera innehållet och reflektera kring vad det är man vill utvinna när det gäller textdata.\r\n",
        "\r\n",
        "Det krävs alltså en annan typ av pre-processing, som encoding och att man tar bort emojis och URL's. Det verkar finnas många olika sätt att \"pre-processa\" datan på när det är i textform eftersom det beror på vad man är ute efter i texten."
      ]
    },
    {
      "cell_type": "markdown",
      "metadata": {
        "id": "-5ZPlVUKeZeo"
      },
      "source": [
        "---\n",
        "*När ni besvarat samtliga frågor och all er kod fungerar i enlighet med instruktioner*, spara ert arbete som HTML och ladda upp på Studium för laboration 2, eller länka till er Notebook på Collaboratory. \n",
        "\n",
        "** Glöm inte att versionshantera i GitHub så att jag kan följa ert arbete!** \n",
        "\n",
        "Lycka till!"
      ]
    },
    {
      "cell_type": "code",
      "metadata": {
        "id": "uRpLgZq1eZeo"
      },
      "source": [
        ""
      ],
      "execution_count": 31,
      "outputs": []
    }
  ]
}