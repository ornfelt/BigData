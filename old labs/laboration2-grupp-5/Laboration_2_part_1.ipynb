{
  "nbformat": 4,
  "nbformat_minor": 0,
  "metadata": {
    "colab": {
      "name": "Laboration_2_part_1.ipynb",
      "provenance": [],
      "collapsed_sections": []
    },
    "kernelspec": {
      "display_name": "Python 3",
      "language": "python",
      "name": "python3"
    },
    "language_info": {
      "codemirror_mode": {
        "name": "ipython",
        "version": 3
      },
      "file_extension": ".py",
      "mimetype": "text/x-python",
      "name": "python",
      "nbconvert_exporter": "python",
      "pygments_lexer": "ipython3",
      "version": "3.6.6"
    }
  },
  "cells": [
    {
      "cell_type": "markdown",
      "metadata": {
        "id": "view-in-github"
      },
      "source": [
        "<a href=\"https://colab.research.google.com/github/2IS239-Data-Analytics/laboration2-grupp-5/blob/master/Laboration_2_part_1.ipynb\" target=\"_parent\"><img src=\"https://colab.research.google.com/assets/colab-badge.svg\" alt=\"Open In Colab\"/></a>"
      ]
    },
    {
      "cell_type": "markdown",
      "metadata": {
        "id": "aVkuY_jwxiaS"
      },
      "source": [
        "# Laboration 2 part 1: \n",
        "\n",
        "In this first part of laboration 2 you will practice some aspects of data wrangling and descriptive statistics on a structured dataset. \n",
        "\n",
        "Make sure to read all instructions carefully and also to answer all questions. Questions are marked with **Q** in the laboration. Always answer these questions directly after it is posed, using markdown language. \n",
        "\n",
        "There are also a number of coding exercises without specific questions attached. These also have to be coded in order to pass the laboration. \n",
        "\n",
        "The dataset used in this laboration is called *modcloth_final_data.json* and is located in the data folder in the repository for laboration 2. \n",
        "\n",
        "To hand in the laborations only provide the link to the finished Colaboratory notebook in Studium, or hand in a HTML-file with all the cells executed to show the output. \n",
        "\n",
        "Good luck!\n",
        "\n"
      ]
    },
    {
      "cell_type": "markdown",
      "metadata": {
        "id": "EWj4kKqLA5Vk"
      },
      "source": [
        " Copyright 2018 Aditya Agrawal\n",
        "\n",
        "Licensed under the Apache License, Version 2.0 (the \"License\");\n",
        "you may not use this file except in compliance with the License.\n",
        "You may obtain a copy of the License at\n",
        "\n",
        "    http://www.apache.org/licenses/LICENSE-2.0\n",
        "\n",
        "Unless required by applicable law or agreed to in writing, software\n",
        "distributed under the License is distributed on an \"AS IS\" BASIS,\n",
        "WITHOUT WARRANTIES OR CONDITIONS OF ANY KIND, either express or implied.\n",
        "See the License for the specific language governing permissions and\n",
        "limitations under the License.\n",
        "\n",
        "The content in this notebook has been subjected to changes in order to make it fit with the course Data Analytics 2IS239 at Uppsala University Campus Gotland.\n",
        "\n",
        "\n",
        "### About the dataset\n",
        "\n",
        ">This dataset contains self-reported clothing-fit feedback from customers as well as other side information like reviews, ratings, product categories, catalog sizes, customers’ measurements (etc.) from [Modcloth](http://modcloth.com)\n",
        "\n",
        ">ModCloth sells women’s vintage clothing and accessories, from which the curator of the dataset collected data from three categories: dresses, tops, and bottoms. RentTheRunWay is a unique platform that allows women to rent clothes for various occasions; they collected data from several categories. \n",
        ">\n",
        ">**Note:** In the dataset, fit feedback belongs to one of three classes: ‘Small,’ ‘Fit,’ and ‘Large.’ "
      ]
    },
    {
      "cell_type": "markdown",
      "metadata": {
        "id": "2rNQm12gCJko"
      },
      "source": [
        "Start you work by importing the following libraries that you will use during this part of the lab. "
      ]
    },
    {
      "cell_type": "code",
      "metadata": {
        "id": "wO1YUkF7A5Vq"
      },
      "source": [
        "import numpy as np # linear algebra\n",
        "import pandas as pd # data processing, CSV file I/O (e.g. pd.read_csv)\n",
        "import matplotlib.pyplot as plt\n",
        "import seaborn as sns\n",
        "\n",
        "# Suppressing all warnings\n",
        "import warnings\n",
        "warnings.filterwarnings(\"ignore\")\n",
        "\n",
        "import matplotlib\n",
        "matplotlib.rc('figure', figsize = (20, 8))\n",
        "matplotlib.rc('font', size = 14)\n",
        "matplotlib.rc('axes.spines', top = False, right = False)\n",
        "matplotlib.rc('axes', grid = False)\n",
        "matplotlib.rc('axes', facecolor = 'white')"
      ],
      "execution_count": 1,
      "outputs": []
    },
    {
      "cell_type": "markdown",
      "metadata": {
        "id": "Z1KDzywGA5Vr"
      },
      "source": [
        "#  [Modcloth](http://modcloth.com) Dataset\n",
        "\n",
        "## Importing data using Pandas\n",
        "\n",
        "The following lines of code imports the json dataset into a pandas dataframe, given that the file is stored in your gdrive. This requires you to clone your repo into gDrive. If you want to, you can also get it directly from your repository at GitHub or upload it from your local computer (if you have cloned your repository on your local computer).\n",
        "\n",
        "If you are interested in creating your own solutions that perhaps are nicer than this, please see for instance: \n",
        "\n",
        "[Connecting github to Colaboratory](https://towardsdatascience.com/3-ways-to-load-csv-files-into-colab-7c14fcbdcb92)\n",
        "\n",
        "\n"
      ]
    },
    {
      "cell_type": "code",
      "metadata": {
        "id": "F-u2zzbJFb-F",
        "colab": {
          "base_uri": "https://localhost:8080/"
        },
        "outputId": "674b1550-6898-4c8d-94b2-c7bc07e05bc9"
      },
      "source": [
        "#Mounting gDrive in Colaboratory\n",
        "try:\n",
        "    from google.colab import drive\n",
        "    drive.mount(\"/content/drive/\", force_remount=True)\n",
        "    google_drive_prefix = \"/content/drive/My Drive\"\n",
        "    data_prefix = \"{}/mnist/\".format(google_drive_prefix)\n",
        "except ModuleNotFoundError: \n",
        "    data_prefix = \"data/\"\n"
      ],
      "execution_count": 2,
      "outputs": [
        {
          "output_type": "stream",
          "text": [
            "Mounted at /content/drive/\n"
          ],
          "name": "stdout"
        }
      ]
    },
    {
      "cell_type": "markdown",
      "metadata": {
        "id": "AiGd20cqktyj"
      },
      "source": [
        "To change directory to the folder where the files you want to work with are located you have to use magic commands. See for instance [here](https://ipython.readthedocs.io/en/stable/interactive/magics.html), or [here](https://www.tutorialspoint.com/jupyter/ipython_magic_commands.htm)"
      ]
    },
    {
      "cell_type": "code",
      "metadata": {
        "id": "buXbDdWrBeHG",
        "colab": {
          "base_uri": "https://localhost:8080/"
        },
        "outputId": "4ed3b2c3-48c2-4a05-8067-b4a93038feae"
      },
      "source": [
        "#Change directory to my folder for analytics labs where I have cloned my gitHub repositories with magic command.\n",
        "\n",
        "%cd drive/My Drive/Data_analytics_lab"
      ],
      "execution_count": 3,
      "outputs": [
        {
          "output_type": "stream",
          "text": [
            "[Errno 2] No such file or directory: 'drive/My Drive/Data_analytics_lab'\n",
            "/content\n"
          ],
          "name": "stdout"
        }
      ]
    },
    {
      "cell_type": "markdown",
      "metadata": {
        "id": "pgrJWLO5kd-A"
      },
      "source": [
        "### Reading JSON file\n",
        "\n",
        "Using the pd.read_json() function the json file is brought into a pandas DataFrame, with the *lines* parameter as *True*- because every new object is separated by a new line. "
      ]
    },
    {
      "cell_type": "code",
      "metadata": {
        "id": "Gl5j3OTIG84k",
        "colab": {
          "base_uri": "https://localhost:8080/",
          "height": 359
        },
        "outputId": "fba22464-ce72-460c-fbaa-8a32148a284e"
      },
      "source": [
        "#Read file and view first ten rows\n",
        "mc_df= pd.read_json(\"/content/drive/MyDrive/modcloth_final_data.json\", lines=True)\n",
        "\n",
        "mc_df.head(10)\n"
      ],
      "execution_count": 4,
      "outputs": [
        {
          "output_type": "execute_result",
          "data": {
            "text/html": [
              "<div>\n",
              "<style scoped>\n",
              "    .dataframe tbody tr th:only-of-type {\n",
              "        vertical-align: middle;\n",
              "    }\n",
              "\n",
              "    .dataframe tbody tr th {\n",
              "        vertical-align: top;\n",
              "    }\n",
              "\n",
              "    .dataframe thead th {\n",
              "        text-align: right;\n",
              "    }\n",
              "</style>\n",
              "<table border=\"1\" class=\"dataframe\">\n",
              "  <thead>\n",
              "    <tr style=\"text-align: right;\">\n",
              "      <th></th>\n",
              "      <th>item_id</th>\n",
              "      <th>waist</th>\n",
              "      <th>size</th>\n",
              "      <th>quality</th>\n",
              "      <th>cup size</th>\n",
              "      <th>hips</th>\n",
              "      <th>bra size</th>\n",
              "      <th>category</th>\n",
              "      <th>bust</th>\n",
              "      <th>height</th>\n",
              "      <th>user_name</th>\n",
              "      <th>length</th>\n",
              "      <th>fit</th>\n",
              "      <th>user_id</th>\n",
              "      <th>shoe size</th>\n",
              "      <th>shoe width</th>\n",
              "      <th>review_summary</th>\n",
              "      <th>review_text</th>\n",
              "    </tr>\n",
              "  </thead>\n",
              "  <tbody>\n",
              "    <tr>\n",
              "      <th>0</th>\n",
              "      <td>123373</td>\n",
              "      <td>29.0</td>\n",
              "      <td>7</td>\n",
              "      <td>5.0</td>\n",
              "      <td>d</td>\n",
              "      <td>38.0</td>\n",
              "      <td>34.0</td>\n",
              "      <td>new</td>\n",
              "      <td>36</td>\n",
              "      <td>5ft 6in</td>\n",
              "      <td>Emily</td>\n",
              "      <td>just right</td>\n",
              "      <td>small</td>\n",
              "      <td>991571</td>\n",
              "      <td>NaN</td>\n",
              "      <td>NaN</td>\n",
              "      <td>NaN</td>\n",
              "      <td>NaN</td>\n",
              "    </tr>\n",
              "    <tr>\n",
              "      <th>1</th>\n",
              "      <td>123373</td>\n",
              "      <td>31.0</td>\n",
              "      <td>13</td>\n",
              "      <td>3.0</td>\n",
              "      <td>b</td>\n",
              "      <td>30.0</td>\n",
              "      <td>36.0</td>\n",
              "      <td>new</td>\n",
              "      <td>NaN</td>\n",
              "      <td>5ft 2in</td>\n",
              "      <td>sydneybraden2001</td>\n",
              "      <td>just right</td>\n",
              "      <td>small</td>\n",
              "      <td>587883</td>\n",
              "      <td>NaN</td>\n",
              "      <td>NaN</td>\n",
              "      <td>NaN</td>\n",
              "      <td>NaN</td>\n",
              "    </tr>\n",
              "    <tr>\n",
              "      <th>2</th>\n",
              "      <td>123373</td>\n",
              "      <td>30.0</td>\n",
              "      <td>7</td>\n",
              "      <td>2.0</td>\n",
              "      <td>b</td>\n",
              "      <td>NaN</td>\n",
              "      <td>32.0</td>\n",
              "      <td>new</td>\n",
              "      <td>NaN</td>\n",
              "      <td>5ft 7in</td>\n",
              "      <td>Ugggh</td>\n",
              "      <td>slightly long</td>\n",
              "      <td>small</td>\n",
              "      <td>395665</td>\n",
              "      <td>9.0</td>\n",
              "      <td>NaN</td>\n",
              "      <td>NaN</td>\n",
              "      <td>NaN</td>\n",
              "    </tr>\n",
              "    <tr>\n",
              "      <th>3</th>\n",
              "      <td>123373</td>\n",
              "      <td>NaN</td>\n",
              "      <td>21</td>\n",
              "      <td>5.0</td>\n",
              "      <td>dd/e</td>\n",
              "      <td>NaN</td>\n",
              "      <td>NaN</td>\n",
              "      <td>new</td>\n",
              "      <td>NaN</td>\n",
              "      <td>NaN</td>\n",
              "      <td>alexmeyer626</td>\n",
              "      <td>just right</td>\n",
              "      <td>fit</td>\n",
              "      <td>875643</td>\n",
              "      <td>NaN</td>\n",
              "      <td>NaN</td>\n",
              "      <td>NaN</td>\n",
              "      <td>NaN</td>\n",
              "    </tr>\n",
              "    <tr>\n",
              "      <th>4</th>\n",
              "      <td>123373</td>\n",
              "      <td>NaN</td>\n",
              "      <td>18</td>\n",
              "      <td>5.0</td>\n",
              "      <td>b</td>\n",
              "      <td>NaN</td>\n",
              "      <td>36.0</td>\n",
              "      <td>new</td>\n",
              "      <td>NaN</td>\n",
              "      <td>5ft 2in</td>\n",
              "      <td>dberrones1</td>\n",
              "      <td>slightly long</td>\n",
              "      <td>small</td>\n",
              "      <td>944840</td>\n",
              "      <td>NaN</td>\n",
              "      <td>NaN</td>\n",
              "      <td>NaN</td>\n",
              "      <td>NaN</td>\n",
              "    </tr>\n",
              "    <tr>\n",
              "      <th>5</th>\n",
              "      <td>123373</td>\n",
              "      <td>27.0</td>\n",
              "      <td>11</td>\n",
              "      <td>5.0</td>\n",
              "      <td>c</td>\n",
              "      <td>41.0</td>\n",
              "      <td>36.0</td>\n",
              "      <td>new</td>\n",
              "      <td>NaN</td>\n",
              "      <td>5ft 4in</td>\n",
              "      <td>Doreenajane</td>\n",
              "      <td>just right</td>\n",
              "      <td>small</td>\n",
              "      <td>162012</td>\n",
              "      <td>NaN</td>\n",
              "      <td>NaN</td>\n",
              "      <td>NaN</td>\n",
              "      <td>NaN</td>\n",
              "    </tr>\n",
              "    <tr>\n",
              "      <th>6</th>\n",
              "      <td>123373</td>\n",
              "      <td>26.0</td>\n",
              "      <td>5</td>\n",
              "      <td>1.0</td>\n",
              "      <td>b</td>\n",
              "      <td>NaN</td>\n",
              "      <td>32.0</td>\n",
              "      <td>new</td>\n",
              "      <td>NaN</td>\n",
              "      <td>5ft 3in</td>\n",
              "      <td>barbiejenks</td>\n",
              "      <td>just right</td>\n",
              "      <td>large</td>\n",
              "      <td>114843</td>\n",
              "      <td>NaN</td>\n",
              "      <td>NaN</td>\n",
              "      <td>NaN</td>\n",
              "      <td>NaN</td>\n",
              "    </tr>\n",
              "    <tr>\n",
              "      <th>7</th>\n",
              "      <td>123373</td>\n",
              "      <td>NaN</td>\n",
              "      <td>11</td>\n",
              "      <td>5.0</td>\n",
              "      <td>d</td>\n",
              "      <td>42.0</td>\n",
              "      <td>38.0</td>\n",
              "      <td>new</td>\n",
              "      <td>NaN</td>\n",
              "      <td>5ft 5in</td>\n",
              "      <td>brettloie</td>\n",
              "      <td>just right</td>\n",
              "      <td>small</td>\n",
              "      <td>58869</td>\n",
              "      <td>8.5</td>\n",
              "      <td>NaN</td>\n",
              "      <td>NaN</td>\n",
              "      <td>NaN</td>\n",
              "    </tr>\n",
              "    <tr>\n",
              "      <th>8</th>\n",
              "      <td>123373</td>\n",
              "      <td>NaN</td>\n",
              "      <td>30</td>\n",
              "      <td>4.0</td>\n",
              "      <td>d</td>\n",
              "      <td>50.0</td>\n",
              "      <td>42.0</td>\n",
              "      <td>new</td>\n",
              "      <td>NaN</td>\n",
              "      <td>5ft 10in</td>\n",
              "      <td>francescaviola</td>\n",
              "      <td>just right</td>\n",
              "      <td>small</td>\n",
              "      <td>279568</td>\n",
              "      <td>11.0</td>\n",
              "      <td>wide</td>\n",
              "      <td>NaN</td>\n",
              "      <td>NaN</td>\n",
              "    </tr>\n",
              "    <tr>\n",
              "      <th>9</th>\n",
              "      <td>123373</td>\n",
              "      <td>NaN</td>\n",
              "      <td>13</td>\n",
              "      <td>5.0</td>\n",
              "      <td>dd/e</td>\n",
              "      <td>41.0</td>\n",
              "      <td>36.0</td>\n",
              "      <td>new</td>\n",
              "      <td>39</td>\n",
              "      <td>5ft 6in</td>\n",
              "      <td>laurenpolzin</td>\n",
              "      <td>just right</td>\n",
              "      <td>fit</td>\n",
              "      <td>950172</td>\n",
              "      <td>9.0</td>\n",
              "      <td>NaN</td>\n",
              "      <td>NaN</td>\n",
              "      <td>NaN</td>\n",
              "    </tr>\n",
              "  </tbody>\n",
              "</table>\n",
              "</div>"
            ],
            "text/plain": [
              "   item_id  waist  size  ...  shoe width review_summary  review_text\n",
              "0   123373   29.0     7  ...         NaN            NaN          NaN\n",
              "1   123373   31.0    13  ...         NaN            NaN          NaN\n",
              "2   123373   30.0     7  ...         NaN            NaN          NaN\n",
              "3   123373    NaN    21  ...         NaN            NaN          NaN\n",
              "4   123373    NaN    18  ...         NaN            NaN          NaN\n",
              "5   123373   27.0    11  ...         NaN            NaN          NaN\n",
              "6   123373   26.0     5  ...         NaN            NaN          NaN\n",
              "7   123373    NaN    11  ...         NaN            NaN          NaN\n",
              "8   123373    NaN    30  ...        wide            NaN          NaN\n",
              "9   123373    NaN    13  ...         NaN            NaN          NaN\n",
              "\n",
              "[10 rows x 18 columns]"
            ]
          },
          "metadata": {
            "tags": []
          },
          "execution_count": 4
        }
      ]
    },
    {
      "cell_type": "markdown",
      "metadata": {
        "id": "22WfPo3bA5Vs"
      },
      "source": [
        "Time to investigate our dataframe. Answer the following questions:\n",
        "\n",
        "**Q**\n",
        "\n",
        ">\n",
        ">Which datatypes are in our dataframe? What does it tell us about our data in regards to scale (HINT! Measurement scale:Nominal,Ordinal,Inverval,Ratio. Continous/Kategorial data)\n",
        ">\n",
        ">How many rows and columns?\n",
        ">\n",
        ">What does the first column represent?\n",
        "\n",
        "Interpretetion of features: \n",
        "\n",
        "The following features exist in our data, describe shortly how you interpret them and how the data has been collected (to your understanding): \n",
        "\n",
        "- item_id:\n",
        "- waist:\n",
        "- size:\n",
        "- quality:\n",
        "- cup size:\n",
        "- hips:\n",
        "- bra size:\n",
        "- category:\n",
        "- bust:\n",
        "- height:\n",
        "- user_name:\n",
        "- length:\n",
        "- fit:\n",
        "- user_id:\n",
        "\n",
        "\n"
      ]
    },
    {
      "cell_type": "code",
      "metadata": {
        "id": "dwVFRfKsfHVe",
        "colab": {
          "base_uri": "https://localhost:8080/"
        },
        "outputId": "7217d3e4-ba50-4da5-d587-1d364380f7bb"
      },
      "source": [
        "#Which datatypes are in our dataframe?\r\n",
        "print(f'{mc_df.dtypes}\\n')\r\n",
        "# int64, float64 and object with the majority being object. \r\n",
        "\r\n",
        "# How many rows and columns?\r\n",
        "# 18 columns and 82790 rows.\r\n",
        "print(f'Column count: \\t {len(mc_df.columns)} \\nRow count: \\t {len(mc_df)}')"
      ],
      "execution_count": 5,
      "outputs": [
        {
          "output_type": "stream",
          "text": [
            "item_id             int64\n",
            "waist             float64\n",
            "size                int64\n",
            "quality           float64\n",
            "cup size           object\n",
            "hips              float64\n",
            "bra size          float64\n",
            "category           object\n",
            "bust               object\n",
            "height             object\n",
            "user_name          object\n",
            "length             object\n",
            "fit                object\n",
            "user_id             int64\n",
            "shoe size         float64\n",
            "shoe width         object\n",
            "review_summary     object\n",
            "review_text        object\n",
            "dtype: object\n",
            "\n",
            "Column count: \t 18 \n",
            "Row count: \t 82790\n"
          ],
          "name": "stdout"
        }
      ]
    },
    {
      "cell_type": "markdown",
      "metadata": {
        "id": "D-DnJLZoT1UQ"
      },
      "source": [
        "**Q** \r\n",
        "\r\n",
        "**Answer** \r\n",
        ">\r\n",
        ">Which datatypes are in our dataframe? What does it tell us about our data in regards to scale (HINT! Measurement scale:Nominal,Ordinal,Inverval,Ratio. Continous/Kategorial data)\r\n",
        ">\r\n",
        ">**How many rows and columns?**\r\n",
        ">\r\n",
        ">18 columns and 82790 rows\r\n",
        ">\r\n",
        ">**What does the first column represent?**\r\n",
        "\r\n",
        "**Interpretetion of features:** \r\n",
        "\r\n",
        "**The following features exist in our data, describe shortly how you interpret them and how the data has been collected (to your understanding):**\r\n",
        "\r\n",
        "To our understanding, the data was collected from customer's fit feedback online from the site.Customer feedback, user details and product details were combined to create the dataset.\r\n",
        "\r\n",
        "* item_id: Item id to which item feedback is aimed at. Nominal, because no use in viewing it as quantitative despite the values being numbers. For example, no benefit to find the mean of this feature.\r\n",
        "\r\n",
        "* waist: Waist measurement. Discrete interval, because there’s an equal difference between each value.\r\n",
        "\r\n",
        "* size: Size of item. Discrete interval, because there’s an equal difference between each value.\r\n",
        "\r\n",
        "* quality: Customer rating from feedback. Discrete interval, because there’s an equal difference between each value.\r\n",
        "\r\n",
        "* cup size: Customers cup size based on item. Ordinal, provides a size order in alphabetical characters.\r\n",
        "\r\n",
        "* hips: Customers hip measurement. Discrete Interval, because there’s an equal difference between each value.\r\n",
        "\r\n",
        "* bra size: Customers bra size.  Discrete Interval, because there’s an equal difference between each value.\r\n",
        "\r\n",
        "* category: product category. Nominal, cannot be ranked. \r\n",
        "\r\n",
        "* bust: Customers bust measurement. Discrete Interval, because there’s an equal difference between each value.\r\n",
        "\r\n",
        "* height: Customers height, Continuous ratio.\r\n",
        "\r\n",
        "* user_name: Customers username nominal.\r\n",
        "\r\n",
        "* fit: Customers feedback according about items fit. Ordinal, can be ranked. \r\n",
        "\r\n",
        "* user_id: Customers user id. Nominal, because no use in viewing it as quantitative despite the values being numbers. For example, no benefit to find the mean of this feature.\r\n",
        "\r\n",
        "\r\n",
        "\r\n"
      ]
    },
    {
      "cell_type": "markdown",
      "metadata": {
        "id": "g-n7qq3xA5Vs"
      },
      "source": [
        "<a id=\"4\"></a>\n",
        "# EDA - Exploratory Data Analysis\n",
        "\n",
        "We can already make few observations here, by looking at the head of the data:\n",
        "1. There are missing values across the dataframe, which need to be handled.\n",
        "2. Cup-size contains multiple preferences- which will need handling, if we wish to define cup sizes as 'category' datatype.\n",
        "3. Height column needs to be parsed for extracting the height in a numerical quantity, it looks like a string (object) right now.\n",
        "4. Not so important, but some columns could do with some renaming- for removing spaces. One is also using a name `size` that could cause trouble since it is a word used by Pandas, this should be changed.\n",
        "\n",
        "Firstly, we handle the naming of columns for ease-of-access in pandas. It is inconvenient with spaces so remove all of them and replace them with _. Further size is a the keyword in pandas, so we better make sure to change the feature name \"size\" to some user defined name like \"mc_size\"."
      ]
    },
    {
      "cell_type": "code",
      "metadata": {
        "id": "6tgDH8i41FpP",
        "colab": {
          "base_uri": "https://localhost:8080/",
          "height": 359
        },
        "outputId": "f7f0305d-6ba1-48ed-f7d6-a6d4c0460718"
      },
      "source": [
        "#replace white spaces with _ and view dataframe to confirm\n",
        "mc_df.columns =mc_df.columns.str.replace(r'\\s+', '_')\n",
        "\n",
        "mc_df.head(10)\n"
      ],
      "execution_count": 6,
      "outputs": [
        {
          "output_type": "execute_result",
          "data": {
            "text/html": [
              "<div>\n",
              "<style scoped>\n",
              "    .dataframe tbody tr th:only-of-type {\n",
              "        vertical-align: middle;\n",
              "    }\n",
              "\n",
              "    .dataframe tbody tr th {\n",
              "        vertical-align: top;\n",
              "    }\n",
              "\n",
              "    .dataframe thead th {\n",
              "        text-align: right;\n",
              "    }\n",
              "</style>\n",
              "<table border=\"1\" class=\"dataframe\">\n",
              "  <thead>\n",
              "    <tr style=\"text-align: right;\">\n",
              "      <th></th>\n",
              "      <th>item_id</th>\n",
              "      <th>waist</th>\n",
              "      <th>size</th>\n",
              "      <th>quality</th>\n",
              "      <th>cup_size</th>\n",
              "      <th>hips</th>\n",
              "      <th>bra_size</th>\n",
              "      <th>category</th>\n",
              "      <th>bust</th>\n",
              "      <th>height</th>\n",
              "      <th>user_name</th>\n",
              "      <th>length</th>\n",
              "      <th>fit</th>\n",
              "      <th>user_id</th>\n",
              "      <th>shoe_size</th>\n",
              "      <th>shoe_width</th>\n",
              "      <th>review_summary</th>\n",
              "      <th>review_text</th>\n",
              "    </tr>\n",
              "  </thead>\n",
              "  <tbody>\n",
              "    <tr>\n",
              "      <th>0</th>\n",
              "      <td>123373</td>\n",
              "      <td>29.0</td>\n",
              "      <td>7</td>\n",
              "      <td>5.0</td>\n",
              "      <td>d</td>\n",
              "      <td>38.0</td>\n",
              "      <td>34.0</td>\n",
              "      <td>new</td>\n",
              "      <td>36</td>\n",
              "      <td>5ft 6in</td>\n",
              "      <td>Emily</td>\n",
              "      <td>just right</td>\n",
              "      <td>small</td>\n",
              "      <td>991571</td>\n",
              "      <td>NaN</td>\n",
              "      <td>NaN</td>\n",
              "      <td>NaN</td>\n",
              "      <td>NaN</td>\n",
              "    </tr>\n",
              "    <tr>\n",
              "      <th>1</th>\n",
              "      <td>123373</td>\n",
              "      <td>31.0</td>\n",
              "      <td>13</td>\n",
              "      <td>3.0</td>\n",
              "      <td>b</td>\n",
              "      <td>30.0</td>\n",
              "      <td>36.0</td>\n",
              "      <td>new</td>\n",
              "      <td>NaN</td>\n",
              "      <td>5ft 2in</td>\n",
              "      <td>sydneybraden2001</td>\n",
              "      <td>just right</td>\n",
              "      <td>small</td>\n",
              "      <td>587883</td>\n",
              "      <td>NaN</td>\n",
              "      <td>NaN</td>\n",
              "      <td>NaN</td>\n",
              "      <td>NaN</td>\n",
              "    </tr>\n",
              "    <tr>\n",
              "      <th>2</th>\n",
              "      <td>123373</td>\n",
              "      <td>30.0</td>\n",
              "      <td>7</td>\n",
              "      <td>2.0</td>\n",
              "      <td>b</td>\n",
              "      <td>NaN</td>\n",
              "      <td>32.0</td>\n",
              "      <td>new</td>\n",
              "      <td>NaN</td>\n",
              "      <td>5ft 7in</td>\n",
              "      <td>Ugggh</td>\n",
              "      <td>slightly long</td>\n",
              "      <td>small</td>\n",
              "      <td>395665</td>\n",
              "      <td>9.0</td>\n",
              "      <td>NaN</td>\n",
              "      <td>NaN</td>\n",
              "      <td>NaN</td>\n",
              "    </tr>\n",
              "    <tr>\n",
              "      <th>3</th>\n",
              "      <td>123373</td>\n",
              "      <td>NaN</td>\n",
              "      <td>21</td>\n",
              "      <td>5.0</td>\n",
              "      <td>dd/e</td>\n",
              "      <td>NaN</td>\n",
              "      <td>NaN</td>\n",
              "      <td>new</td>\n",
              "      <td>NaN</td>\n",
              "      <td>NaN</td>\n",
              "      <td>alexmeyer626</td>\n",
              "      <td>just right</td>\n",
              "      <td>fit</td>\n",
              "      <td>875643</td>\n",
              "      <td>NaN</td>\n",
              "      <td>NaN</td>\n",
              "      <td>NaN</td>\n",
              "      <td>NaN</td>\n",
              "    </tr>\n",
              "    <tr>\n",
              "      <th>4</th>\n",
              "      <td>123373</td>\n",
              "      <td>NaN</td>\n",
              "      <td>18</td>\n",
              "      <td>5.0</td>\n",
              "      <td>b</td>\n",
              "      <td>NaN</td>\n",
              "      <td>36.0</td>\n",
              "      <td>new</td>\n",
              "      <td>NaN</td>\n",
              "      <td>5ft 2in</td>\n",
              "      <td>dberrones1</td>\n",
              "      <td>slightly long</td>\n",
              "      <td>small</td>\n",
              "      <td>944840</td>\n",
              "      <td>NaN</td>\n",
              "      <td>NaN</td>\n",
              "      <td>NaN</td>\n",
              "      <td>NaN</td>\n",
              "    </tr>\n",
              "    <tr>\n",
              "      <th>5</th>\n",
              "      <td>123373</td>\n",
              "      <td>27.0</td>\n",
              "      <td>11</td>\n",
              "      <td>5.0</td>\n",
              "      <td>c</td>\n",
              "      <td>41.0</td>\n",
              "      <td>36.0</td>\n",
              "      <td>new</td>\n",
              "      <td>NaN</td>\n",
              "      <td>5ft 4in</td>\n",
              "      <td>Doreenajane</td>\n",
              "      <td>just right</td>\n",
              "      <td>small</td>\n",
              "      <td>162012</td>\n",
              "      <td>NaN</td>\n",
              "      <td>NaN</td>\n",
              "      <td>NaN</td>\n",
              "      <td>NaN</td>\n",
              "    </tr>\n",
              "    <tr>\n",
              "      <th>6</th>\n",
              "      <td>123373</td>\n",
              "      <td>26.0</td>\n",
              "      <td>5</td>\n",
              "      <td>1.0</td>\n",
              "      <td>b</td>\n",
              "      <td>NaN</td>\n",
              "      <td>32.0</td>\n",
              "      <td>new</td>\n",
              "      <td>NaN</td>\n",
              "      <td>5ft 3in</td>\n",
              "      <td>barbiejenks</td>\n",
              "      <td>just right</td>\n",
              "      <td>large</td>\n",
              "      <td>114843</td>\n",
              "      <td>NaN</td>\n",
              "      <td>NaN</td>\n",
              "      <td>NaN</td>\n",
              "      <td>NaN</td>\n",
              "    </tr>\n",
              "    <tr>\n",
              "      <th>7</th>\n",
              "      <td>123373</td>\n",
              "      <td>NaN</td>\n",
              "      <td>11</td>\n",
              "      <td>5.0</td>\n",
              "      <td>d</td>\n",
              "      <td>42.0</td>\n",
              "      <td>38.0</td>\n",
              "      <td>new</td>\n",
              "      <td>NaN</td>\n",
              "      <td>5ft 5in</td>\n",
              "      <td>brettloie</td>\n",
              "      <td>just right</td>\n",
              "      <td>small</td>\n",
              "      <td>58869</td>\n",
              "      <td>8.5</td>\n",
              "      <td>NaN</td>\n",
              "      <td>NaN</td>\n",
              "      <td>NaN</td>\n",
              "    </tr>\n",
              "    <tr>\n",
              "      <th>8</th>\n",
              "      <td>123373</td>\n",
              "      <td>NaN</td>\n",
              "      <td>30</td>\n",
              "      <td>4.0</td>\n",
              "      <td>d</td>\n",
              "      <td>50.0</td>\n",
              "      <td>42.0</td>\n",
              "      <td>new</td>\n",
              "      <td>NaN</td>\n",
              "      <td>5ft 10in</td>\n",
              "      <td>francescaviola</td>\n",
              "      <td>just right</td>\n",
              "      <td>small</td>\n",
              "      <td>279568</td>\n",
              "      <td>11.0</td>\n",
              "      <td>wide</td>\n",
              "      <td>NaN</td>\n",
              "      <td>NaN</td>\n",
              "    </tr>\n",
              "    <tr>\n",
              "      <th>9</th>\n",
              "      <td>123373</td>\n",
              "      <td>NaN</td>\n",
              "      <td>13</td>\n",
              "      <td>5.0</td>\n",
              "      <td>dd/e</td>\n",
              "      <td>41.0</td>\n",
              "      <td>36.0</td>\n",
              "      <td>new</td>\n",
              "      <td>39</td>\n",
              "      <td>5ft 6in</td>\n",
              "      <td>laurenpolzin</td>\n",
              "      <td>just right</td>\n",
              "      <td>fit</td>\n",
              "      <td>950172</td>\n",
              "      <td>9.0</td>\n",
              "      <td>NaN</td>\n",
              "      <td>NaN</td>\n",
              "      <td>NaN</td>\n",
              "    </tr>\n",
              "  </tbody>\n",
              "</table>\n",
              "</div>"
            ],
            "text/plain": [
              "   item_id  waist  size  ...  shoe_width review_summary  review_text\n",
              "0   123373   29.0     7  ...         NaN            NaN          NaN\n",
              "1   123373   31.0    13  ...         NaN            NaN          NaN\n",
              "2   123373   30.0     7  ...         NaN            NaN          NaN\n",
              "3   123373    NaN    21  ...         NaN            NaN          NaN\n",
              "4   123373    NaN    18  ...         NaN            NaN          NaN\n",
              "5   123373   27.0    11  ...         NaN            NaN          NaN\n",
              "6   123373   26.0     5  ...         NaN            NaN          NaN\n",
              "7   123373    NaN    11  ...         NaN            NaN          NaN\n",
              "8   123373    NaN    30  ...        wide            NaN          NaN\n",
              "9   123373    NaN    13  ...         NaN            NaN          NaN\n",
              "\n",
              "[10 rows x 18 columns]"
            ]
          },
          "metadata": {
            "tags": []
          },
          "execution_count": 6
        }
      ]
    },
    {
      "cell_type": "code",
      "metadata": {
        "id": "4Mt-02QhOuOt",
        "colab": {
          "base_uri": "https://localhost:8080/",
          "height": 359
        },
        "outputId": "00ecaa41-8866-444a-c8d2-50f3ad9ba777"
      },
      "source": [
        "#Rename size to mc_size and view dataframe to confirm\n",
        "#Your code here\n",
        "#Rename specific column\n",
        "mc_df.rename(columns={'size' : 'mc_size'}, inplace = True)\n",
        "mc_df.head(10)"
      ],
      "execution_count": 7,
      "outputs": [
        {
          "output_type": "execute_result",
          "data": {
            "text/html": [
              "<div>\n",
              "<style scoped>\n",
              "    .dataframe tbody tr th:only-of-type {\n",
              "        vertical-align: middle;\n",
              "    }\n",
              "\n",
              "    .dataframe tbody tr th {\n",
              "        vertical-align: top;\n",
              "    }\n",
              "\n",
              "    .dataframe thead th {\n",
              "        text-align: right;\n",
              "    }\n",
              "</style>\n",
              "<table border=\"1\" class=\"dataframe\">\n",
              "  <thead>\n",
              "    <tr style=\"text-align: right;\">\n",
              "      <th></th>\n",
              "      <th>item_id</th>\n",
              "      <th>waist</th>\n",
              "      <th>mc_size</th>\n",
              "      <th>quality</th>\n",
              "      <th>cup_size</th>\n",
              "      <th>hips</th>\n",
              "      <th>bra_size</th>\n",
              "      <th>category</th>\n",
              "      <th>bust</th>\n",
              "      <th>height</th>\n",
              "      <th>user_name</th>\n",
              "      <th>length</th>\n",
              "      <th>fit</th>\n",
              "      <th>user_id</th>\n",
              "      <th>shoe_size</th>\n",
              "      <th>shoe_width</th>\n",
              "      <th>review_summary</th>\n",
              "      <th>review_text</th>\n",
              "    </tr>\n",
              "  </thead>\n",
              "  <tbody>\n",
              "    <tr>\n",
              "      <th>0</th>\n",
              "      <td>123373</td>\n",
              "      <td>29.0</td>\n",
              "      <td>7</td>\n",
              "      <td>5.0</td>\n",
              "      <td>d</td>\n",
              "      <td>38.0</td>\n",
              "      <td>34.0</td>\n",
              "      <td>new</td>\n",
              "      <td>36</td>\n",
              "      <td>5ft 6in</td>\n",
              "      <td>Emily</td>\n",
              "      <td>just right</td>\n",
              "      <td>small</td>\n",
              "      <td>991571</td>\n",
              "      <td>NaN</td>\n",
              "      <td>NaN</td>\n",
              "      <td>NaN</td>\n",
              "      <td>NaN</td>\n",
              "    </tr>\n",
              "    <tr>\n",
              "      <th>1</th>\n",
              "      <td>123373</td>\n",
              "      <td>31.0</td>\n",
              "      <td>13</td>\n",
              "      <td>3.0</td>\n",
              "      <td>b</td>\n",
              "      <td>30.0</td>\n",
              "      <td>36.0</td>\n",
              "      <td>new</td>\n",
              "      <td>NaN</td>\n",
              "      <td>5ft 2in</td>\n",
              "      <td>sydneybraden2001</td>\n",
              "      <td>just right</td>\n",
              "      <td>small</td>\n",
              "      <td>587883</td>\n",
              "      <td>NaN</td>\n",
              "      <td>NaN</td>\n",
              "      <td>NaN</td>\n",
              "      <td>NaN</td>\n",
              "    </tr>\n",
              "    <tr>\n",
              "      <th>2</th>\n",
              "      <td>123373</td>\n",
              "      <td>30.0</td>\n",
              "      <td>7</td>\n",
              "      <td>2.0</td>\n",
              "      <td>b</td>\n",
              "      <td>NaN</td>\n",
              "      <td>32.0</td>\n",
              "      <td>new</td>\n",
              "      <td>NaN</td>\n",
              "      <td>5ft 7in</td>\n",
              "      <td>Ugggh</td>\n",
              "      <td>slightly long</td>\n",
              "      <td>small</td>\n",
              "      <td>395665</td>\n",
              "      <td>9.0</td>\n",
              "      <td>NaN</td>\n",
              "      <td>NaN</td>\n",
              "      <td>NaN</td>\n",
              "    </tr>\n",
              "    <tr>\n",
              "      <th>3</th>\n",
              "      <td>123373</td>\n",
              "      <td>NaN</td>\n",
              "      <td>21</td>\n",
              "      <td>5.0</td>\n",
              "      <td>dd/e</td>\n",
              "      <td>NaN</td>\n",
              "      <td>NaN</td>\n",
              "      <td>new</td>\n",
              "      <td>NaN</td>\n",
              "      <td>NaN</td>\n",
              "      <td>alexmeyer626</td>\n",
              "      <td>just right</td>\n",
              "      <td>fit</td>\n",
              "      <td>875643</td>\n",
              "      <td>NaN</td>\n",
              "      <td>NaN</td>\n",
              "      <td>NaN</td>\n",
              "      <td>NaN</td>\n",
              "    </tr>\n",
              "    <tr>\n",
              "      <th>4</th>\n",
              "      <td>123373</td>\n",
              "      <td>NaN</td>\n",
              "      <td>18</td>\n",
              "      <td>5.0</td>\n",
              "      <td>b</td>\n",
              "      <td>NaN</td>\n",
              "      <td>36.0</td>\n",
              "      <td>new</td>\n",
              "      <td>NaN</td>\n",
              "      <td>5ft 2in</td>\n",
              "      <td>dberrones1</td>\n",
              "      <td>slightly long</td>\n",
              "      <td>small</td>\n",
              "      <td>944840</td>\n",
              "      <td>NaN</td>\n",
              "      <td>NaN</td>\n",
              "      <td>NaN</td>\n",
              "      <td>NaN</td>\n",
              "    </tr>\n",
              "    <tr>\n",
              "      <th>5</th>\n",
              "      <td>123373</td>\n",
              "      <td>27.0</td>\n",
              "      <td>11</td>\n",
              "      <td>5.0</td>\n",
              "      <td>c</td>\n",
              "      <td>41.0</td>\n",
              "      <td>36.0</td>\n",
              "      <td>new</td>\n",
              "      <td>NaN</td>\n",
              "      <td>5ft 4in</td>\n",
              "      <td>Doreenajane</td>\n",
              "      <td>just right</td>\n",
              "      <td>small</td>\n",
              "      <td>162012</td>\n",
              "      <td>NaN</td>\n",
              "      <td>NaN</td>\n",
              "      <td>NaN</td>\n",
              "      <td>NaN</td>\n",
              "    </tr>\n",
              "    <tr>\n",
              "      <th>6</th>\n",
              "      <td>123373</td>\n",
              "      <td>26.0</td>\n",
              "      <td>5</td>\n",
              "      <td>1.0</td>\n",
              "      <td>b</td>\n",
              "      <td>NaN</td>\n",
              "      <td>32.0</td>\n",
              "      <td>new</td>\n",
              "      <td>NaN</td>\n",
              "      <td>5ft 3in</td>\n",
              "      <td>barbiejenks</td>\n",
              "      <td>just right</td>\n",
              "      <td>large</td>\n",
              "      <td>114843</td>\n",
              "      <td>NaN</td>\n",
              "      <td>NaN</td>\n",
              "      <td>NaN</td>\n",
              "      <td>NaN</td>\n",
              "    </tr>\n",
              "    <tr>\n",
              "      <th>7</th>\n",
              "      <td>123373</td>\n",
              "      <td>NaN</td>\n",
              "      <td>11</td>\n",
              "      <td>5.0</td>\n",
              "      <td>d</td>\n",
              "      <td>42.0</td>\n",
              "      <td>38.0</td>\n",
              "      <td>new</td>\n",
              "      <td>NaN</td>\n",
              "      <td>5ft 5in</td>\n",
              "      <td>brettloie</td>\n",
              "      <td>just right</td>\n",
              "      <td>small</td>\n",
              "      <td>58869</td>\n",
              "      <td>8.5</td>\n",
              "      <td>NaN</td>\n",
              "      <td>NaN</td>\n",
              "      <td>NaN</td>\n",
              "    </tr>\n",
              "    <tr>\n",
              "      <th>8</th>\n",
              "      <td>123373</td>\n",
              "      <td>NaN</td>\n",
              "      <td>30</td>\n",
              "      <td>4.0</td>\n",
              "      <td>d</td>\n",
              "      <td>50.0</td>\n",
              "      <td>42.0</td>\n",
              "      <td>new</td>\n",
              "      <td>NaN</td>\n",
              "      <td>5ft 10in</td>\n",
              "      <td>francescaviola</td>\n",
              "      <td>just right</td>\n",
              "      <td>small</td>\n",
              "      <td>279568</td>\n",
              "      <td>11.0</td>\n",
              "      <td>wide</td>\n",
              "      <td>NaN</td>\n",
              "      <td>NaN</td>\n",
              "    </tr>\n",
              "    <tr>\n",
              "      <th>9</th>\n",
              "      <td>123373</td>\n",
              "      <td>NaN</td>\n",
              "      <td>13</td>\n",
              "      <td>5.0</td>\n",
              "      <td>dd/e</td>\n",
              "      <td>41.0</td>\n",
              "      <td>36.0</td>\n",
              "      <td>new</td>\n",
              "      <td>39</td>\n",
              "      <td>5ft 6in</td>\n",
              "      <td>laurenpolzin</td>\n",
              "      <td>just right</td>\n",
              "      <td>fit</td>\n",
              "      <td>950172</td>\n",
              "      <td>9.0</td>\n",
              "      <td>NaN</td>\n",
              "      <td>NaN</td>\n",
              "      <td>NaN</td>\n",
              "    </tr>\n",
              "  </tbody>\n",
              "</table>\n",
              "</div>"
            ],
            "text/plain": [
              "   item_id  waist  mc_size  ...  shoe_width review_summary  review_text\n",
              "0   123373   29.0        7  ...         NaN            NaN          NaN\n",
              "1   123373   31.0       13  ...         NaN            NaN          NaN\n",
              "2   123373   30.0        7  ...         NaN            NaN          NaN\n",
              "3   123373    NaN       21  ...         NaN            NaN          NaN\n",
              "4   123373    NaN       18  ...         NaN            NaN          NaN\n",
              "5   123373   27.0       11  ...         NaN            NaN          NaN\n",
              "6   123373   26.0        5  ...         NaN            NaN          NaN\n",
              "7   123373    NaN       11  ...         NaN            NaN          NaN\n",
              "8   123373    NaN       30  ...        wide            NaN          NaN\n",
              "9   123373    NaN       13  ...         NaN            NaN          NaN\n",
              "\n",
              "[10 rows x 18 columns]"
            ]
          },
          "metadata": {
            "tags": []
          },
          "execution_count": 7
        }
      ]
    },
    {
      "cell_type": "markdown",
      "metadata": {
        "id": "3q3rUtSPaRbF"
      },
      "source": [
        "### Unique number of observations for each feature\n",
        "\n",
        "If the dataset is having less number of observations then we can see the unique values for each feature(There are 82790 observations in the dataset). We will therefore list the number of unique observations for each feature in the dataset. (**HINT!** There is a built in function for this in Pandas)"
      ]
    },
    {
      "cell_type": "code",
      "metadata": {
        "id": "ipI-kTFlaVbL",
        "colab": {
          "base_uri": "https://localhost:8080/"
        },
        "outputId": "44ca2602-1ba9-4c42-adab-84abdd36da98"
      },
      "source": [
        "#Investigate the number of unique values for each feature\n",
        "#Your code here\n",
        "\n",
        "# Using funcion nunique to get amount of unique observations of each column.\n",
        "mc_df.nunique() "
      ],
      "execution_count": 8,
      "outputs": [
        {
          "output_type": "execute_result",
          "data": {
            "text/plain": [
              "item_id            1378\n",
              "waist                31\n",
              "mc_size              29\n",
              "quality               5\n",
              "cup_size             12\n",
              "hips                 31\n",
              "bra_size             11\n",
              "category              7\n",
              "bust                 40\n",
              "height               41\n",
              "user_name         32429\n",
              "length                5\n",
              "fit                   3\n",
              "user_id           47958\n",
              "shoe_size            15\n",
              "shoe_width            3\n",
              "review_summary    61713\n",
              "review_text       73313\n",
              "dtype: int64"
            ]
          },
          "metadata": {
            "tags": []
          },
          "execution_count": 8
        }
      ]
    },
    {
      "cell_type": "markdown",
      "metadata": {
        "id": "FEVK2po_i0eE"
      },
      "source": [
        "* Many of the columns have string values (object as datatype) how should we handle them to make them into usable columns for analysis? \n",
        "\n",
        "* Turn string object that should be numeric data to a correct format (**HINT!** Are they categorial or continous). \n",
        "\n",
        "* Out of the 18 columns, how many columns have complete data?"
      ]
    },
    {
      "cell_type": "markdown",
      "metadata": {
        "id": "eoEhOUtbeSTf"
      },
      "source": [
        "**Q** \r\n",
        "\r\n",
        "**Answer** \r\n",
        "\r\n",
        "**Many of the columns have string values (object as datatype) how should we handle them to make them into usable columns for analysis?**\r\n",
        "\r\n",
        "We can extract the values and turn them into other datatypes\r\n",
        "For example: df['Boolean'] = df['stringData'].str.extract('(\\d)', expand=True)\r\n",
        "\r\n",
        "**Turn string object that should be numeric data to a correct format (HINT! Are they categorial or continous).**\r\n",
        "\r\n",
        "bust: str --> to_numeric\r\n",
        "mc_df['bust'] = pd.to_numeric(mc_df['bust'],errors='coerce')\r\n",
        "\r\n",
        "**Out of the 18 columns, how many columns have complete data**\r\n",
        "answer: 6\r\n"
      ]
    },
    {
      "cell_type": "code",
      "metadata": {
        "id": "CgfFSZU0cisF",
        "colab": {
          "base_uri": "https://localhost:8080/"
        },
        "outputId": "84dc277e-60e6-4185-9ab3-71588779b09c"
      },
      "source": [
        "# We can use the function to_numeric() to convert a string to a suitable numeric\r\n",
        "\r\n",
        "# Changing bust from object to numeric\r\n",
        "mc_df['bust'] = pd.to_numeric(mc_df['bust'], errors='coerce')\r\n",
        "print(f'{mc_df.dtypes}\\n')\r\n",
        "\r\n",
        "## Complete data\r\n",
        "# Checking isnull for entire dataframe. The Columns which has value means that they are complete.\r\n",
        "# Anwser: item_id, size, category, user_name, fit, user_id\r\n",
        "print(f'{mc_df.isnull().sum()}') # visually see the null values \r\n",
        "\r\n",
        "print('Columns with complete data:', len(mc_df.columns)- mc_df.isna().any().sum()) # get answer (6 with complete data)"
      ],
      "execution_count": 9,
      "outputs": [
        {
          "output_type": "stream",
          "text": [
            "item_id             int64\n",
            "waist             float64\n",
            "mc_size             int64\n",
            "quality           float64\n",
            "cup_size           object\n",
            "hips              float64\n",
            "bra_size          float64\n",
            "category           object\n",
            "bust              float64\n",
            "height             object\n",
            "user_name          object\n",
            "length             object\n",
            "fit                object\n",
            "user_id             int64\n",
            "shoe_size         float64\n",
            "shoe_width         object\n",
            "review_summary     object\n",
            "review_text        object\n",
            "dtype: object\n",
            "\n",
            "item_id               0\n",
            "waist             79908\n",
            "mc_size               0\n",
            "quality              68\n",
            "cup_size           6255\n",
            "hips              26726\n",
            "bra_size           6018\n",
            "category              0\n",
            "bust              70937\n",
            "height             1107\n",
            "user_name             0\n",
            "length               35\n",
            "fit                   0\n",
            "user_id               0\n",
            "shoe_size         54875\n",
            "shoe_width        64183\n",
            "review_summary     6725\n",
            "review_text        6725\n",
            "dtype: int64\n",
            "Columns with complete data: 6\n"
          ],
          "name": "stdout"
        }
      ]
    },
    {
      "cell_type": "markdown",
      "metadata": {
        "id": "p_jDRfC0gAQA"
      },
      "source": [
        "### Identifying outliers\n",
        "\n",
        "* Visualise all the different numerical values in order to identify possible outliers in each of these. Code is provided that define a function for making a boxplot for a feature. \n",
        "\n",
        "  **Q**: \n",
        "  * How does a boxplot help us identify outliers in single features?\n",
        "  "
      ]
    },
    {
      "cell_type": "markdown",
      "metadata": {
        "id": "UFeASRbuIUo2"
      },
      "source": [
        "The code below define a function which can be used to make boxplot for any numeric feature in the dataset. It will be convenient to use several times, therefore it has been made into a function so you can call it with different features to investigate outliers. \n",
        "\n"
      ]
    },
    {
      "cell_type": "code",
      "metadata": {
        "id": "wcco6vHYcW6V"
      },
      "source": [
        "def plot_outlier(feature):\n",
        "  plt.figure(figsize=(25, 6))\n",
        "  ax = sns.boxplot(x=feature, linewidth=2.5)\n"
      ],
      "execution_count": 10,
      "outputs": []
    },
    {
      "cell_type": "markdown",
      "metadata": {
        "id": "avco2PZWm3iN"
      },
      "source": [
        "**Q** \r\n",
        ">\r\n",
        "**Answer**\r\n",
        "\r\n",
        "* **How does a boxplot help us identify outliers in single features?**\r\n",
        ">\r\n",
        "They show outlying observations as dots for unusual high and low values."
      ]
    },
    {
      "cell_type": "code",
      "metadata": {
        "colab": {
          "base_uri": "https://localhost:8080/",
          "height": 1000
        },
        "id": "hPDlZgUik3qh",
        "outputId": "bb1c0052-54b1-464f-a22d-55bc2a7aa6fb"
      },
      "source": [
        "plot_outlier(mc_df['bust'])\r\n",
        "plot_outlier(mc_df['waist'])\r\n",
        "plot_outlier(mc_df['mc_size'])\r\n",
        "plot_outlier(mc_df['quality'])\r\n",
        "plot_outlier(mc_df['hips'])\r\n",
        "plot_outlier(mc_df['bra_size'])\r\n",
        "plot_outlier(mc_df['shoe_size'])\r\n",
        "plot_outlier(mc_df['user_id'])"
      ],
      "execution_count": 11,
      "outputs": [
        {
          "output_type": "display_data",
          "data": {
            "image/png": "[encoded data removed]",
            "text/plain": [
              "<Figure size 1800x432 with 1 Axes>"
            ]
          },
          "metadata": {
            "tags": [],
            "needs_background": "light"
          }
        },
        {
          "output_type": "display_data",
          "data": {
            "image/png": "[encoded data removed]",
            "text/plain": [
              "<Figure size 1800x432 with 1 Axes>"
            ]
          },
          "metadata": {
            "tags": [],
            "needs_background": "light"
          }
        },
        {
          "output_type": "display_data",
          "data": {
            "image/png": "[encoded data removed]",
            "text/plain": [
              "<Figure size 1800x432 with 1 Axes>"
            ]
          },
          "metadata": {
            "tags": [],
            "needs_background": "light"
          }
        },
        {
          "output_type": "display_data",
          "data": {
            "image/png": "[encoded data removed]",
            "text/plain": [
              "<Figure size 1800x432 with 1 Axes>"
            ]
          },
          "metadata": {
            "tags": [],
            "needs_background": "light"
          }
        },
        {
          "output_type": "display_data",
          "data": {
            "image/png": "[encoded data removed]",
            "text/plain": [
              "<Figure size 1800x432 with 1 Axes>"
            ]
          },
          "metadata": {
            "tags": [],
            "needs_background": "light"
          }
        },
        {
          "output_type": "display_data",
          "data": {
            "image/png": "[encoded data removed]",
            "text/plain": [
              "<Figure size 1800x432 with 1 Axes>"
            ]
          },
          "metadata": {
            "tags": [],
            "needs_background": "light"
          }
        },
        {
          "output_type": "display_data",
          "data": {
            "image/png": "[encoded data removed]",
            "text/plain": [
              "<Figure size 1800x432 with 1 Axes>"
            ]
          },
          "metadata": {
            "tags": [],
            "needs_background": "light"
          }
        },
        {
          "output_type": "display_data",
          "data": {
            "image/png": "[encoded data removed]",
            "text/plain": [
              "<Figure size 1800x432 with 1 Axes>"
            ]
          },
          "metadata": {
            "tags": [],
            "needs_background": "light"
          }
        }
      ]
    },
    {
      "cell_type": "markdown",
      "metadata": {
        "id": "5LjqPysaI10X"
      },
      "source": [
        "* Test the function with a few of the numeric variables in the dataset.\n",
        "\n",
        "* What does the visualizations tell you about potential outliers in your tested features?\n",
        "\n",
        "* Create a new dataframe called `missing_data` which consists of three columns, the feature, total number of missing values and the percantage of missing values for each feature. In the code cell below you have starter code that summarise the missing values and store it in a variable called `missing_data_sum`, you can use it to calculate your columns in `missing_data`.\n",
        "\n",
        "* Investigate the missing data further, why is it missing you think and what type of missing data is it? (HINT! NMAR, MAR, MCAR)\n"
      ]
    },
    {
      "cell_type": "code",
      "metadata": {
        "id": "Lc28VmQLA5Vu",
        "colab": {
          "base_uri": "https://localhost:8080/",
          "height": 607
        },
        "outputId": "20f03dbf-b904-4b09-e76b-49f98440ca0f"
      },
      "source": [
        "#Summarise missing data and find % of missing data\n",
        "missing_data_sum = mc_df.isnull().sum()\n",
        "#Your code here\n",
        "\n",
        "# Using mean() to get percentage of missing values.\n",
        "missing_data_percentage = round(mc_df.isnull().mean() * 100)\n",
        "\n",
        "# Creating dataframe \n",
        "missing_data = pd.DataFrame(list(zip(missing_data_sum.keys(), missing_data_sum, missing_data_percentage)), columns=['Feature', 'Total missing values', 'Missing value percentage'])\n",
        "missing_data"
      ],
      "execution_count": 12,
      "outputs": [
        {
          "output_type": "execute_result",
          "data": {
            "text/html": [
              "<div>\n",
              "<style scoped>\n",
              "    .dataframe tbody tr th:only-of-type {\n",
              "        vertical-align: middle;\n",
              "    }\n",
              "\n",
              "    .dataframe tbody tr th {\n",
              "        vertical-align: top;\n",
              "    }\n",
              "\n",
              "    .dataframe thead th {\n",
              "        text-align: right;\n",
              "    }\n",
              "</style>\n",
              "<table border=\"1\" class=\"dataframe\">\n",
              "  <thead>\n",
              "    <tr style=\"text-align: right;\">\n",
              "      <th></th>\n",
              "      <th>Feature</th>\n",
              "      <th>Total missing values</th>\n",
              "      <th>Missing value percentage</th>\n",
              "    </tr>\n",
              "  </thead>\n",
              "  <tbody>\n",
              "    <tr>\n",
              "      <th>0</th>\n",
              "      <td>item_id</td>\n",
              "      <td>0</td>\n",
              "      <td>0.0</td>\n",
              "    </tr>\n",
              "    <tr>\n",
              "      <th>1</th>\n",
              "      <td>waist</td>\n",
              "      <td>79908</td>\n",
              "      <td>97.0</td>\n",
              "    </tr>\n",
              "    <tr>\n",
              "      <th>2</th>\n",
              "      <td>mc_size</td>\n",
              "      <td>0</td>\n",
              "      <td>0.0</td>\n",
              "    </tr>\n",
              "    <tr>\n",
              "      <th>3</th>\n",
              "      <td>quality</td>\n",
              "      <td>68</td>\n",
              "      <td>0.0</td>\n",
              "    </tr>\n",
              "    <tr>\n",
              "      <th>4</th>\n",
              "      <td>cup_size</td>\n",
              "      <td>6255</td>\n",
              "      <td>8.0</td>\n",
              "    </tr>\n",
              "    <tr>\n",
              "      <th>5</th>\n",
              "      <td>hips</td>\n",
              "      <td>26726</td>\n",
              "      <td>32.0</td>\n",
              "    </tr>\n",
              "    <tr>\n",
              "      <th>6</th>\n",
              "      <td>bra_size</td>\n",
              "      <td>6018</td>\n",
              "      <td>7.0</td>\n",
              "    </tr>\n",
              "    <tr>\n",
              "      <th>7</th>\n",
              "      <td>category</td>\n",
              "      <td>0</td>\n",
              "      <td>0.0</td>\n",
              "    </tr>\n",
              "    <tr>\n",
              "      <th>8</th>\n",
              "      <td>bust</td>\n",
              "      <td>70937</td>\n",
              "      <td>86.0</td>\n",
              "    </tr>\n",
              "    <tr>\n",
              "      <th>9</th>\n",
              "      <td>height</td>\n",
              "      <td>1107</td>\n",
              "      <td>1.0</td>\n",
              "    </tr>\n",
              "    <tr>\n",
              "      <th>10</th>\n",
              "      <td>user_name</td>\n",
              "      <td>0</td>\n",
              "      <td>0.0</td>\n",
              "    </tr>\n",
              "    <tr>\n",
              "      <th>11</th>\n",
              "      <td>length</td>\n",
              "      <td>35</td>\n",
              "      <td>0.0</td>\n",
              "    </tr>\n",
              "    <tr>\n",
              "      <th>12</th>\n",
              "      <td>fit</td>\n",
              "      <td>0</td>\n",
              "      <td>0.0</td>\n",
              "    </tr>\n",
              "    <tr>\n",
              "      <th>13</th>\n",
              "      <td>user_id</td>\n",
              "      <td>0</td>\n",
              "      <td>0.0</td>\n",
              "    </tr>\n",
              "    <tr>\n",
              "      <th>14</th>\n",
              "      <td>shoe_size</td>\n",
              "      <td>54875</td>\n",
              "      <td>66.0</td>\n",
              "    </tr>\n",
              "    <tr>\n",
              "      <th>15</th>\n",
              "      <td>shoe_width</td>\n",
              "      <td>64183</td>\n",
              "      <td>78.0</td>\n",
              "    </tr>\n",
              "    <tr>\n",
              "      <th>16</th>\n",
              "      <td>review_summary</td>\n",
              "      <td>6725</td>\n",
              "      <td>8.0</td>\n",
              "    </tr>\n",
              "    <tr>\n",
              "      <th>17</th>\n",
              "      <td>review_text</td>\n",
              "      <td>6725</td>\n",
              "      <td>8.0</td>\n",
              "    </tr>\n",
              "  </tbody>\n",
              "</table>\n",
              "</div>"
            ],
            "text/plain": [
              "           Feature  Total missing values  Missing value percentage\n",
              "0          item_id                     0                       0.0\n",
              "1            waist                 79908                      97.0\n",
              "2          mc_size                     0                       0.0\n",
              "3          quality                    68                       0.0\n",
              "4         cup_size                  6255                       8.0\n",
              "5             hips                 26726                      32.0\n",
              "6         bra_size                  6018                       7.0\n",
              "7         category                     0                       0.0\n",
              "8             bust                 70937                      86.0\n",
              "9           height                  1107                       1.0\n",
              "10       user_name                     0                       0.0\n",
              "11          length                    35                       0.0\n",
              "12             fit                     0                       0.0\n",
              "13         user_id                     0                       0.0\n",
              "14       shoe_size                 54875                      66.0\n",
              "15      shoe_width                 64183                      78.0\n",
              "16  review_summary                  6725                       8.0\n",
              "17     review_text                  6725                       8.0"
            ]
          },
          "metadata": {
            "tags": []
          },
          "execution_count": 12
        }
      ]
    },
    {
      "cell_type": "markdown",
      "metadata": {
        "id": "cQ4k6HDopOpk"
      },
      "source": [
        "**Q**\r\n",
        "**Answer**\r\n",
        "\r\n",
        "* **What does the visualizations tell you about potential outliers in your tested features?**\r\n",
        "\r\n",
        ">The visualizations tells us that there are outliers for all plotted features except: quality, user_id and shoe_size.\r\n",
        "Shoe_size only has 1 outlier and we will therefore remove this one since it doesn’t affect the overall data significantly.\r\n",
        "There aren’t that many outliers and some of them might be from different formats being entered (like uk / us sizes). The outliers also seem to correlate with each other for bust, hips, waist, mc_size, which might mean that they might be from the same customers. \r\n",
        "\r\n",
        "* **Investigate the missing data further, why is it missing you think and what type of missing data is it? (HINT! NMAR, MAR, MCAR)**\r\n",
        "\r\n",
        "\r\n",
        ">bust and waist: could be missing a lot because of stigmatization (customers don't want to enter this info), or because the customers feel this measurement is redundant since there’s a measurement for hips and bra_size already. MNAR.\r\n",
        "\r\n",
        ">hips could either be MNAR because of the same reason as above or MAR. 30% is missing compared to 80% and above missing. Perhaps the measurement is not always relevant or missing because of unknown reasons. Customers might also feel like hips is a more relevant measurement instead of waist.\r\n",
        "\r\n",
        ">height, cup_size and bra_size, quality and length are missing only a few random values. We think it’s MCAR since the percentage missing is very low. (< 10%).\r\n",
        "\r\n",
        ">shoe_size and shoe_width are missing 66% and 77%, we suspect that this is due to the information not being relevant for the product. \r\n",
        "\r\n",
        ">Therefore it is MNAR.\r\n",
        "review_summary and text could be MNAR - missing just because the customer didn't want to enter any text.\r\n"
      ]
    },
    {
      "cell_type": "markdown",
      "metadata": {
        "id": "B09PSRsLnaXV"
      },
      "source": [
        "### Visualize the nonunique observations\n",
        "\n",
        "Some of the observations contain less unique values than others. The below function visualise values. \n",
        "\n",
        "* Create a list that contains  features that you are unsure about whether they are categorial or continous and provide it to the `countplot` function *(max 5 features otherwise it takes to much time)*. \n",
        "\n",
        "* Which of the features would you regard as categorial and which are continous based on the visualizations?\n"
      ]
    },
    {
      "cell_type": "code",
      "metadata": {
        "id": "xz_d42bUnatZ"
      },
      "source": [
        "def countplot(independent_features):\n",
        "  plt.figure(figsize=(25, 25))\n",
        "  for loc, feature in enumerate(independent_features):\n",
        "    ax = plt.subplot(3, 4, loc+1)\n",
        "    ax.set_xlabel('{}'.format(feature), fontsize=10)\n",
        "    chart = sns.countplot(mc_df[feature])\n",
        "    chart.set_xticklabels(chart.get_xticklabels(), rotation=90)\n",
        "  return None"
      ],
      "execution_count": 13,
      "outputs": []
    },
    {
      "cell_type": "code",
      "metadata": {
        "id": "dFNtOugWNjyO",
        "colab": {
          "base_uri": "https://localhost:8080/",
          "height": 958
        },
        "outputId": "765993b8-2709-4654-c00f-2109e1e99e8a"
      },
      "source": [
        "#List of features and call to function\n",
        "#Your code here\n",
        "\n",
        "unsure_features = ['height', 'mc_size', 'cup_size', 'length', 'fit']\n",
        "\n",
        "countplot(unsure_features)"
      ],
      "execution_count": 14,
      "outputs": [
        {
          "output_type": "display_data",
          "data": {
            "image/png": "[encoded data removed]",
            "text/plain": [
              "<Figure size 1800x1800 with 5 Axes>"
            ]
          },
          "metadata": {
            "tags": [],
            "needs_background": "light"
          }
        }
      ]
    },
    {
      "cell_type": "markdown",
      "metadata": {
        "id": "yAFo_8Hirl4c"
      },
      "source": [
        "**Which of the features would you regard as categorial and which are continous based on the visualizations?**\r\n",
        "\r\n",
        ">height: Continous\r\n",
        "\r\n",
        ">mc_size: Continous\r\n",
        "\r\n",
        ">cup_size: Categorical\r\n",
        "\r\n",
        ">length: Categorical\r\n",
        "\r\n",
        ">fit: Categorical\r\n"
      ]
    },
    {
      "cell_type": "markdown",
      "metadata": {
        "id": "Mil-c46_A5Vu"
      },
      "source": [
        "### Statistical description of numerical variables\n",
        "\n",
        "Use the built in functions in Pandas to describe common statistics in regards to the numerical features in the dataset.\n",
        "\n",
        "**Q** \n",
        "\n",
        "* What is the mean bra_size?\n",
        "\n",
        "* What does std stand for?"
      ]
    },
    {
      "cell_type": "code",
      "metadata": {
        "id": "ctqKHOeQA5Vv",
        "colab": {
          "base_uri": "https://localhost:8080/"
        },
        "outputId": "96426b48-6b5b-4a63-80fe-d732984ce110"
      },
      "source": [
        "#Statistics\n",
        "#Your code here\n",
        "mc_df.describe() #view count, mean, etc. for all columns\n",
        "\n",
        "# Getting mean bra_size and rounding it \n",
        "mean_bra_size = round(mc_df['bra_size'].mean())\n",
        "print(mean_bra_size) #print mean for bra_size"
      ],
      "execution_count": 15,
      "outputs": [
        {
          "output_type": "stream",
          "text": [
            "36\n"
          ],
          "name": "stdout"
        }
      ]
    },
    {
      "cell_type": "markdown",
      "metadata": {
        "id": "kn09FI3RrYzF"
      },
      "source": [
        "**What is the mean bra_size?**\r\n",
        "mean bra size: 35.97 or 36 rounded\r\n",
        "\r\n",
        "**What does std stand for?**\r\n",
        "std stands for: standard deviation, which describes how the data is spread out, i.e. the variation of a data set. "
      ]
    },
    {
      "cell_type": "markdown",
      "metadata": {
        "id": "5eBx1abqgiBf"
      },
      "source": [
        "### Further investigation of (some) individual features"
      ]
    },
    {
      "cell_type": "markdown",
      "metadata": {
        "id": "WTxN2H3uA5Vv"
      },
      "source": [
        "\n",
        "\n",
        "* **shoe_size**: \n",
        "\n",
        "  **Q**:\n",
        "\n",
        "* How does the row(s) containing outlier(s) in the shoe_size feature look like?\n",
        "\n",
        "* What is a suitable way of handling the identified outlier(s) in the shoe_size column? Why? Also, handle the outlier in shoe_size appropriately.\n",
        "\n"
      ]
    },
    {
      "cell_type": "code",
      "metadata": {
        "id": "0WWiIcHkA5Vw",
        "colab": {
          "base_uri": "https://localhost:8080/",
          "height": 406
        },
        "outputId": "3abe1797-528a-4b10-d50a-81b83e28b384"
      },
      "source": [
        "#View the row that contains the outlier in shoe_size\n",
        "plot_outlier(mc_df.shoe_size)\n",
        "mc_df.shoe_size.loc[mc_df['shoe_size'].idxmax()] # print the max row (38.0)"
      ],
      "execution_count": 16,
      "outputs": [
        {
          "output_type": "execute_result",
          "data": {
            "text/plain": [
              "38.0"
            ]
          },
          "metadata": {
            "tags": []
          },
          "execution_count": 16
        },
        {
          "output_type": "display_data",
          "data": {
            "image/png": "[encoded data removed]",
            "text/plain": [
              "<Figure size 1800x432 with 1 Axes>"
            ]
          },
          "metadata": {
            "tags": [],
            "needs_background": "light"
          }
        }
      ]
    },
    {
      "cell_type": "code",
      "metadata": {
        "id": "q8qFBZQhA5Vx",
        "colab": {
          "base_uri": "https://localhost:8080/",
          "height": 389
        },
        "outputId": "3519d6ad-19bc-417f-acb7-a93366727bcb"
      },
      "source": [
        "#Handle the outlier\n",
        "\n",
        "# Handling the outlier by dropping rows bigger than 15 (Size 13 is equal EU size 48, so above 13 would be extremely rare under any condition) but this could be changed to exact value by setting == 38 in this case.\n",
        "# However another suitable way would be to set top and bottom quartile and then remove values from the dataframe which are outside that range.\n",
        "mc_df.drop(mc_df.index[mc_df['shoe_size'] > 15], inplace = True)\n",
        "\n",
        "# Calling plot outlier again, to show that the outlier is removed.\n",
        "plot_outlier(mc_df.shoe_size)"
      ],
      "execution_count": 17,
      "outputs": [
        {
          "output_type": "display_data",
          "data": {
            "image/png": "[encoded data removed]",
            "text/plain": [
              "<Figure size 1800x432 with 1 Axes>"
            ]
          },
          "metadata": {
            "tags": [],
            "needs_background": "light"
          }
        }
      ]
    },
    {
      "cell_type": "markdown",
      "metadata": {
        "id": "XVjHs1rrA5Vx"
      },
      "source": [
        "## Joint Distribution visualizations\n",
        "Create a visualization that shows the joint distribution of bra_size vs size (bivariate) to get an understanding about the values.\n",
        "\n",
        "**Q:** \n",
        "* What does the visualization tell us?\n",
        "\n",
        "* Can you suggest and implement a visualisation that shows the relationship between the two variables in a clearer way?\n",
        "\n"
      ]
    },
    {
      "cell_type": "code",
      "metadata": {
        "id": "Klcie-G5A5Vx",
        "colab": {
          "base_uri": "https://localhost:8080/",
          "height": 563
        },
        "outputId": "e9ababc1-1aef-4f38-8762-ac0155e6fd8d"
      },
      "source": [
        "plt.figure(figsize=(18,8))\n",
        "plt.xlabel(\"bra_size\", fontsize=18)\n",
        "plt.ylabel(\"mc_size\", fontsize=18)\n",
        "plt.suptitle(\"Joint distribution of bra_size vs size\", fontsize= 20)\n",
        "plt.plot(mc_df.bra_size, mc_df['mc_size'], 'bo', alpha=0.2)\n",
        "plt.show()\n"
      ],
      "execution_count": 18,
      "outputs": [
        {
          "output_type": "display_data",
          "data": {
            "image/png": "[encoded data removed]",
            "text/plain": [
              "<Figure size 1296x576 with 1 Axes>"
            ]
          },
          "metadata": {
            "tags": [],
            "needs_background": "light"
          }
        }
      ]
    },
    {
      "cell_type": "code",
      "metadata": {
        "colab": {
          "base_uri": "https://localhost:8080/",
          "height": 287
        },
        "id": "CpY22NJwygBz",
        "outputId": "9d357c1d-f793-4602-e015-83255c19c664"
      },
      "source": [
        "#Can you suggest and implement a visualisation that shows the relationship between the two variables in a clearer way?\r\n",
        "import seaborn as sns\r\n",
        "# generate heat map of mc_size and bra_size\r\n",
        "sns.heatmap(mc_df[['mc_size','bra_size']].corr(),annot = True, fmt='.2g',cmap= 'rocket')\r\n",
        "\r\n",
        "# another version \r\n",
        "#bra_and_mc_size = mc_df[['bra_size', 'mc_size']].copy()\r\n",
        "#sns.jointplot(x='bra_size', y='mc_size', data=bra_and_mc_size, kind='hex') # Alternatively, setting kind=\"hex\" will use matplotlib.axes.Axes.hexbin() to compute a bivariate histogram using hexagonal bins:"
      ],
      "execution_count": 19,
      "outputs": [
        {
          "output_type": "execute_result",
          "data": {
            "text/plain": [
              "<matplotlib.axes._subplots.AxesSubplot at 0x7f9cb5f22c50>"
            ]
          },
          "metadata": {
            "tags": []
          },
          "execution_count": 19
        },
        {
          "output_type": "display_data",
          "data": {
            "image/png": "[encoded data removed]",
            "text/plain": [
              "<Figure size 432x288 with 2 Axes>"
            ]
          },
          "metadata": {
            "tags": [],
            "needs_background": "light"
          }
        }
      ]
    },
    {
      "cell_type": "markdown",
      "metadata": {
        "id": "VKtqgiM9xmyR"
      },
      "source": [
        "**What does the visualization tell us?**\r\n",
        "It tells us there's a correlation between size and bra_size. Bigger size is more likely to have bigger bra size. "
      ]
    },
    {
      "cell_type": "markdown",
      "metadata": {
        "id": "vBvL0bZ4A5Vy"
      },
      "source": [
        "## Step-by-step features processing:\n",
        "\n",
        "\n",
        "\n",
        "\n"
      ]
    },
    {
      "cell_type": "markdown",
      "metadata": {
        "id": "TAe8wPxRWXOk"
      },
      "source": [
        "* **bra_size:**  Looks numerical, but the range is only from 28 to 48, with most of the sizing lying around 34-38. \n",
        "\n",
        "  **Q**: What is a more sensible dtype? Change to this type instead of the present one.\n",
        "\n",
        "  * There are some NA values, this might be due to the store not having this data (yet). Create an 'Unknown' category to replace NA values. "
      ]
    },
    {
      "cell_type": "code",
      "metadata": {
        "id": "EqkW7D8gWbpW",
        "colab": {
          "base_uri": "https://localhost:8080/"
        },
        "outputId": "841b4781-a483-4c5e-a164-578c94fc8453"
      },
      "source": [
        "#Fix bra_size column\n",
        "\n",
        "# Convert bra_size to numeric and set errors to null\n",
        "mc_df['bra_size'] = pd.to_numeric(mc_df['bra_size'], errors = 'coerce') \n",
        "\n",
        "#Replace null values with \"Unknown\"\n",
        "mc_df['bra_size'].fillna('Unknown', inplace = True) \n",
        "\n",
        "# Could perhaps be converted to int as well although category might be more sensible in this case.\n",
        "mc_df.bra_size = mc_df.bra_size.astype('category').cat.as_ordered() #convert data type to categorical\n",
        "\n",
        "# Demo\n",
        "mc_df['bra_size']"
      ],
      "execution_count": 20,
      "outputs": [
        {
          "output_type": "execute_result",
          "data": {
            "text/plain": [
              "0             34\n",
              "1             36\n",
              "2             32\n",
              "3        Unknown\n",
              "4             36\n",
              "          ...   \n",
              "82785         36\n",
              "82786         34\n",
              "82787         32\n",
              "82788    Unknown\n",
              "82789         32\n",
              "Name: bra_size, Length: 82789, dtype: category\n",
              "Categories (12, object): [28 < 30 < 32 < 34 ... 44 < 46 < 48 < 'Unknown']"
            ]
          },
          "metadata": {
            "tags": []
          },
          "execution_count": 20
        }
      ]
    },
    {
      "cell_type": "markdown",
      "metadata": {
        "id": "LhpoBh9VWkm0"
      },
      "source": [
        "* **bust:** \n",
        "\n",
        "  **Q**: \n",
        "  * What can you infer by looking at the values which are not null? \n",
        "  \n",
        "  * Which dtype is most suitable for bust feature?  Change into this dtype.\n",
        "  \n",
        "  We also need to handle a special case where bust is given as - '37-39'. Replace the entry of '37-39' with the mean. "
      ]
    },
    {
      "cell_type": "code",
      "metadata": {
        "id": "thi69XwzA5Vy"
      },
      "source": [
        "#Fix bust column\n",
        "\n",
        "# Replacing 37-39\n",
        "mc_df['bust'] = mc_df['bust'].replace(['37-39'], round(mc_df['bust'].mean()))\n",
        "# Changing null values to 0\n",
        "mc_df['bust'].fillna(0, inplace = True)\n",
        "# Setting type to int, which is more suitable in this case.\n",
        "mc_df['bust'] = mc_df['bust'].astype(int)"
      ],
      "execution_count": 21,
      "outputs": []
    },
    {
      "cell_type": "markdown",
      "metadata": {
        "id": "3D0-j52xQ0ho"
      },
      "source": [
        "**What can you infer by looking at the values which are not null?**\r\n",
        "The non-null values are all whole numbers (integers) and we therefore convert this feature to type: int."
      ]
    },
    {
      "cell_type": "markdown",
      "metadata": {
        "id": "-SiOIw0YWvzK"
      },
      "source": [
        "* **category:** none missing; change to dtype category.\n"
      ]
    },
    {
      "cell_type": "code",
      "metadata": {
        "id": "Z3Iu2hHrW54k",
        "colab": {
          "base_uri": "https://localhost:8080/"
        },
        "outputId": "c02f525a-1394-4b8f-8c09-d08fb8b6db4b"
      },
      "source": [
        "#Fix category column\n",
        "mc_df['category'] = mc_df['category'].astype('category')\n",
        "\n",
        "# Demo\n",
        "mc_df['category'].dtype"
      ],
      "execution_count": 22,
      "outputs": [
        {
          "output_type": "execute_result",
          "data": {
            "text/plain": [
              "CategoricalDtype(categories=['bottoms', 'dresses', 'new', 'outerwear', 'sale', 'tops',\n",
              "                  'wedding'],\n",
              "                 ordered=False)"
            ]
          },
          "metadata": {
            "tags": []
          },
          "execution_count": 22
        }
      ]
    },
    {
      "cell_type": "markdown",
      "metadata": {
        "id": "TIe0snUwXAku"
      },
      "source": [
        "\n",
        "* **cup_size:** Change the dtype to *category* for this column. This column has around 7% missing values. Take a look at the rows where this value is missing. "
      ]
    },
    {
      "cell_type": "code",
      "metadata": {
        "id": "Jv7c1z00A5Vz",
        "scrolled": true,
        "colab": {
          "base_uri": "https://localhost:8080/"
        },
        "outputId": "d9f9b9ef-e59d-4ff6-b440-24030ed27a10"
      },
      "source": [
        "#Fix cup_size column and view a sample of 20 rows where this value is missing\n",
        "print(mc_df.loc[mc_df[\"cup_size\"].isna() == True].head(20))\n",
        "\n",
        "# Replacing empty values with Unknown\n",
        "mc_df['cup_size'].fillna('Unknown', inplace = True) \n",
        "\n",
        "# Changing dtype to category\n",
        "mc_df['cup_size'] = mc_df['cup_size'].astype('category')\n",
        "\n",
        "# Demo\n",
        "mc_df['cup_size'].dtype"
      ],
      "execution_count": 23,
      "outputs": [
        {
          "output_type": "stream",
          "text": [
            "     item_id  waist  mc_size  ...  shoe_width review_summary  review_text\n",
            "61    124024    NaN        9  ...         NaN            NaN          NaN\n",
            "70    124124    NaN       26  ...         NaN            NaN          NaN\n",
            "72    124124    NaN       26  ...         NaN            NaN          NaN\n",
            "99    124124    NaN       12  ...         NaN            NaN          NaN\n",
            "101   124124    NaN       15  ...         NaN            NaN          NaN\n",
            "107   124124    NaN       38  ...         NaN            NaN          NaN\n",
            "122   124124    NaN       20  ...         NaN            NaN          NaN\n",
            "145   124124    NaN       12  ...         NaN            NaN          NaN\n",
            "161   124124    NaN        8  ...         NaN            NaN          NaN\n",
            "184   124124    NaN       12  ...         NaN            NaN          NaN\n",
            "189   124124    NaN       26  ...         NaN            NaN          NaN\n",
            "199   124124    NaN       12  ...         NaN            NaN          NaN\n",
            "210   124124    NaN       38  ...         NaN            NaN          NaN\n",
            "237   124124    NaN       20  ...         NaN            NaN          NaN\n",
            "280   124761    NaN        5  ...         NaN            NaN          NaN\n",
            "298   125353    NaN       15  ...         NaN            NaN          NaN\n",
            "300   125442    NaN        9  ...         NaN            NaN          NaN\n",
            "352   125442    NaN        7  ...      narrow            NaN          NaN\n",
            "404   125442    NaN        9  ...         NaN            NaN          NaN\n",
            "405   125442    NaN        5  ...         NaN            NaN          NaN\n",
            "\n",
            "[20 rows x 18 columns]\n"
          ],
          "name": "stdout"
        },
        {
          "output_type": "execute_result",
          "data": {
            "text/plain": [
              "CategoricalDtype(categories=['Unknown', 'a', 'aa', 'b', 'c', 'd', 'dd/e', 'ddd/f',\n",
              "                  'dddd/g', 'h', 'i', 'j', 'k'],\n",
              "                 ordered=False)"
            ]
          },
          "metadata": {
            "tags": []
          },
          "execution_count": 23
        }
      ]
    },
    {
      "cell_type": "markdown",
      "metadata": {
        "id": "aKM-f_OhA5Vz"
      },
      "source": [
        ">We can't see anything glaring from the rows where this data is missing, however, as per the curator of the dataset- \"***Note that these datasets are highly sparse, with most products and customers having only a single transaction.***\" It does point to that maybe these customers have not bought lingerie from modcloth yet and so modcloth does not have that data. So, it makes sense to fill these null values as 'Unknown'. From the prevalence of the values like dd/e, ddd/f, and dddd/g, we can assume these to be legit cup_sizes, also confirmed by [**this**](https://www.herroom.com/full-figure-bra-cup-sizing,905,30.html) article, where some brands change the cup size dd to e, ddd to f etc. We can directly convert this to *category* dtype."
      ]
    },
    {
      "cell_type": "markdown",
      "metadata": {
        "id": "RaqmuDUmA5Vz"
      },
      "source": [
        "* **fit:** Change the dtype to *category* for this column. \n",
        "\n",
        "  **Q**: \n",
        "\n",
        "  Which feedback has the vast majority of customers given for the fit feature for items on Modcloth?"
      ]
    },
    {
      "cell_type": "code",
      "metadata": {
        "id": "737H4HgJXZ8a",
        "colab": {
          "base_uri": "https://localhost:8080/"
        },
        "outputId": "4246f357-26fe-45e2-9328-afbd354c7dfe"
      },
      "source": [
        "#Fix fit column and find the most common value\n",
        "# Changing dtype to category\n",
        "mc_df['fit'] = mc_df['fit'].astype('category')\n",
        "\n",
        "# Showing value counts, which tells us that fit is the most common feedback \n",
        "mc_df['fit'].value_counts()\n",
        "# mode() can also be used\n",
        "mc_df.fit.mode()"
      ],
      "execution_count": 24,
      "outputs": [
        {
          "output_type": "execute_result",
          "data": {
            "text/plain": [
              "0    fit\n",
              "Name: fit, dtype: category\n",
              "Categories (3, object): ['fit', 'large', 'small']"
            ]
          },
          "metadata": {
            "tags": []
          },
          "execution_count": 24
        }
      ]
    },
    {
      "cell_type": "markdown",
      "metadata": {
        "id": "5ePf5oa0A5V0"
      },
      "source": [
        "* **height:** We need to parse the height column as currently it is a string object to a numerical form which is more suitable.  \n",
        "\n",
        "Further:\n",
        "\n",
        "  * Convert height to centimeters instead of inches and feet. This is done in the code below, comment it so it is understandable what it does.\n",
        "\n",
        "  * How many values are missing?\n",
        "\n",
        "  * How many outliers exist? What is suitable to do with the rows containing outliers based on this numer?\n",
        "\n",
        "* Investigate the first 20 rows where the height data is missing. What does it tell us about the customers representing these rows?\n",
        "\n"
      ]
    },
    {
      "cell_type": "code",
      "metadata": {
        "id": "Nh3TXWrBbgg2",
        "colab": {
          "base_uri": "https://localhost:8080/",
          "height": 204
        },
        "outputId": "ae67b219-098b-4a09-d126-0ed722c45516"
      },
      "source": [
        "#Convert inches and feet to centimeters\n",
        "def height_in_cms(ht):\n",
        "  if ht.lower() != 'nan':\n",
        "    ht = ht.replace('ft','').replace('in', '')\n",
        "    h_ft = int(ht.split()[0])\n",
        "    if len(ht.split()) > 1:\n",
        "      h_inch = int(ht.split()[1])\n",
        "    else:\n",
        "      h_inch = 0\n",
        "    h_inch += h_ft * 12\n",
        "    h_cm = round(h_inch * 2.54, 1)\n",
        "    return h_cm\n",
        "\n",
        "mc_df.height = mc_df.height.astype(str).apply(height_in_cms)\n",
        "mc_df.head()"
      ],
      "execution_count": 25,
      "outputs": [
        {
          "output_type": "execute_result",
          "data": {
            "text/html": [
              "<div>\n",
              "<style scoped>\n",
              "    .dataframe tbody tr th:only-of-type {\n",
              "        vertical-align: middle;\n",
              "    }\n",
              "\n",
              "    .dataframe tbody tr th {\n",
              "        vertical-align: top;\n",
              "    }\n",
              "\n",
              "    .dataframe thead th {\n",
              "        text-align: right;\n",
              "    }\n",
              "</style>\n",
              "<table border=\"1\" class=\"dataframe\">\n",
              "  <thead>\n",
              "    <tr style=\"text-align: right;\">\n",
              "      <th></th>\n",
              "      <th>item_id</th>\n",
              "      <th>waist</th>\n",
              "      <th>mc_size</th>\n",
              "      <th>quality</th>\n",
              "      <th>cup_size</th>\n",
              "      <th>hips</th>\n",
              "      <th>bra_size</th>\n",
              "      <th>category</th>\n",
              "      <th>bust</th>\n",
              "      <th>height</th>\n",
              "      <th>user_name</th>\n",
              "      <th>length</th>\n",
              "      <th>fit</th>\n",
              "      <th>user_id</th>\n",
              "      <th>shoe_size</th>\n",
              "      <th>shoe_width</th>\n",
              "      <th>review_summary</th>\n",
              "      <th>review_text</th>\n",
              "    </tr>\n",
              "  </thead>\n",
              "  <tbody>\n",
              "    <tr>\n",
              "      <th>0</th>\n",
              "      <td>123373</td>\n",
              "      <td>29.0</td>\n",
              "      <td>7</td>\n",
              "      <td>5.0</td>\n",
              "      <td>d</td>\n",
              "      <td>38.0</td>\n",
              "      <td>34</td>\n",
              "      <td>new</td>\n",
              "      <td>36</td>\n",
              "      <td>167.6</td>\n",
              "      <td>Emily</td>\n",
              "      <td>just right</td>\n",
              "      <td>small</td>\n",
              "      <td>991571</td>\n",
              "      <td>NaN</td>\n",
              "      <td>NaN</td>\n",
              "      <td>NaN</td>\n",
              "      <td>NaN</td>\n",
              "    </tr>\n",
              "    <tr>\n",
              "      <th>1</th>\n",
              "      <td>123373</td>\n",
              "      <td>31.0</td>\n",
              "      <td>13</td>\n",
              "      <td>3.0</td>\n",
              "      <td>b</td>\n",
              "      <td>30.0</td>\n",
              "      <td>36</td>\n",
              "      <td>new</td>\n",
              "      <td>0</td>\n",
              "      <td>157.5</td>\n",
              "      <td>sydneybraden2001</td>\n",
              "      <td>just right</td>\n",
              "      <td>small</td>\n",
              "      <td>587883</td>\n",
              "      <td>NaN</td>\n",
              "      <td>NaN</td>\n",
              "      <td>NaN</td>\n",
              "      <td>NaN</td>\n",
              "    </tr>\n",
              "    <tr>\n",
              "      <th>2</th>\n",
              "      <td>123373</td>\n",
              "      <td>30.0</td>\n",
              "      <td>7</td>\n",
              "      <td>2.0</td>\n",
              "      <td>b</td>\n",
              "      <td>NaN</td>\n",
              "      <td>32</td>\n",
              "      <td>new</td>\n",
              "      <td>0</td>\n",
              "      <td>170.2</td>\n",
              "      <td>Ugggh</td>\n",
              "      <td>slightly long</td>\n",
              "      <td>small</td>\n",
              "      <td>395665</td>\n",
              "      <td>9.0</td>\n",
              "      <td>NaN</td>\n",
              "      <td>NaN</td>\n",
              "      <td>NaN</td>\n",
              "    </tr>\n",
              "    <tr>\n",
              "      <th>3</th>\n",
              "      <td>123373</td>\n",
              "      <td>NaN</td>\n",
              "      <td>21</td>\n",
              "      <td>5.0</td>\n",
              "      <td>dd/e</td>\n",
              "      <td>NaN</td>\n",
              "      <td>Unknown</td>\n",
              "      <td>new</td>\n",
              "      <td>0</td>\n",
              "      <td>NaN</td>\n",
              "      <td>alexmeyer626</td>\n",
              "      <td>just right</td>\n",
              "      <td>fit</td>\n",
              "      <td>875643</td>\n",
              "      <td>NaN</td>\n",
              "      <td>NaN</td>\n",
              "      <td>NaN</td>\n",
              "      <td>NaN</td>\n",
              "    </tr>\n",
              "    <tr>\n",
              "      <th>4</th>\n",
              "      <td>123373</td>\n",
              "      <td>NaN</td>\n",
              "      <td>18</td>\n",
              "      <td>5.0</td>\n",
              "      <td>b</td>\n",
              "      <td>NaN</td>\n",
              "      <td>36</td>\n",
              "      <td>new</td>\n",
              "      <td>0</td>\n",
              "      <td>157.5</td>\n",
              "      <td>dberrones1</td>\n",
              "      <td>slightly long</td>\n",
              "      <td>small</td>\n",
              "      <td>944840</td>\n",
              "      <td>NaN</td>\n",
              "      <td>NaN</td>\n",
              "      <td>NaN</td>\n",
              "      <td>NaN</td>\n",
              "    </tr>\n",
              "  </tbody>\n",
              "</table>\n",
              "</div>"
            ],
            "text/plain": [
              "   item_id  waist  mc_size  ...  shoe_width review_summary  review_text\n",
              "0   123373   29.0        7  ...         NaN            NaN          NaN\n",
              "1   123373   31.0       13  ...         NaN            NaN          NaN\n",
              "2   123373   30.0        7  ...         NaN            NaN          NaN\n",
              "3   123373    NaN       21  ...         NaN            NaN          NaN\n",
              "4   123373    NaN       18  ...         NaN            NaN          NaN\n",
              "\n",
              "[5 rows x 18 columns]"
            ]
          },
          "metadata": {
            "tags": []
          },
          "execution_count": 25
        }
      ]
    },
    {
      "cell_type": "code",
      "metadata": {
        "id": "3aNUQt7FWfWT",
        "colab": {
          "base_uri": "https://localhost:8080/",
          "height": 405
        },
        "outputId": "a351d051-d3b7-4857-9c6b-6b256bd3b37d"
      },
      "source": [
        "# 25 outliers. Suitable to delete them, but perhaps not all. \r\n",
        "plot_outlier(mc_df.height)\r\n",
        "\r\n",
        "# Missing values is 1107\r\n",
        "print(f'Missing values count: {mc_df[\"height\"].isnull().sum()}')\r\n",
        "\r\n",
        "# Drop values > 220 \r\n",
        "tall_heights = mc_df[mc_df['height'] > 220].index\r\n",
        "# Drop these row indexes from df\r\n",
        "mc_df.drop(tall_heights, inplace = True)\r\n",
        "\r\n",
        "# Drop values < 110\r\n",
        "short_heights = mc_df[mc_df['height'] < 110].index\r\n",
        "mc_df.drop(short_heights, inplace = True)"
      ],
      "execution_count": 26,
      "outputs": [
        {
          "output_type": "stream",
          "text": [
            "Missing values count: 1107\n"
          ],
          "name": "stdout"
        },
        {
          "output_type": "display_data",
          "data": {
            "image/png": "[encoded data removed]",
            "text/plain": [
              "<Figure size 1800x432 with 1 Axes>"
            ]
          },
          "metadata": {
            "tags": [],
            "needs_background": "light"
          }
        }
      ]
    },
    {
      "cell_type": "code",
      "metadata": {
        "id": "p5S0kQVuA5V0",
        "scrolled": true,
        "colab": {
          "base_uri": "https://localhost:8080/",
          "height": 669
        },
        "outputId": "8b1de53b-5162-4136-d937-4c6a877a3320"
      },
      "source": [
        "mc_df[mc_df.height.isnull()].head(20)\n",
        "# Do look at the output to be able to better understand the inferences!"
      ],
      "execution_count": 27,
      "outputs": [
        {
          "output_type": "execute_result",
          "data": {
            "text/html": [
              "<div>\n",
              "<style scoped>\n",
              "    .dataframe tbody tr th:only-of-type {\n",
              "        vertical-align: middle;\n",
              "    }\n",
              "\n",
              "    .dataframe tbody tr th {\n",
              "        vertical-align: top;\n",
              "    }\n",
              "\n",
              "    .dataframe thead th {\n",
              "        text-align: right;\n",
              "    }\n",
              "</style>\n",
              "<table border=\"1\" class=\"dataframe\">\n",
              "  <thead>\n",
              "    <tr style=\"text-align: right;\">\n",
              "      <th></th>\n",
              "      <th>item_id</th>\n",
              "      <th>waist</th>\n",
              "      <th>mc_size</th>\n",
              "      <th>quality</th>\n",
              "      <th>cup_size</th>\n",
              "      <th>hips</th>\n",
              "      <th>bra_size</th>\n",
              "      <th>category</th>\n",
              "      <th>bust</th>\n",
              "      <th>height</th>\n",
              "      <th>user_name</th>\n",
              "      <th>length</th>\n",
              "      <th>fit</th>\n",
              "      <th>user_id</th>\n",
              "      <th>shoe_size</th>\n",
              "      <th>shoe_width</th>\n",
              "      <th>review_summary</th>\n",
              "      <th>review_text</th>\n",
              "    </tr>\n",
              "  </thead>\n",
              "  <tbody>\n",
              "    <tr>\n",
              "      <th>3</th>\n",
              "      <td>123373</td>\n",
              "      <td>NaN</td>\n",
              "      <td>21</td>\n",
              "      <td>5.0</td>\n",
              "      <td>dd/e</td>\n",
              "      <td>NaN</td>\n",
              "      <td>Unknown</td>\n",
              "      <td>new</td>\n",
              "      <td>0</td>\n",
              "      <td>NaN</td>\n",
              "      <td>alexmeyer626</td>\n",
              "      <td>just right</td>\n",
              "      <td>fit</td>\n",
              "      <td>875643</td>\n",
              "      <td>NaN</td>\n",
              "      <td>NaN</td>\n",
              "      <td>NaN</td>\n",
              "      <td>NaN</td>\n",
              "    </tr>\n",
              "    <tr>\n",
              "      <th>17</th>\n",
              "      <td>123373</td>\n",
              "      <td>NaN</td>\n",
              "      <td>15</td>\n",
              "      <td>4.0</td>\n",
              "      <td>dddd/g</td>\n",
              "      <td>NaN</td>\n",
              "      <td>36</td>\n",
              "      <td>new</td>\n",
              "      <td>0</td>\n",
              "      <td>NaN</td>\n",
              "      <td>Megan</td>\n",
              "      <td>just right</td>\n",
              "      <td>large</td>\n",
              "      <td>128353</td>\n",
              "      <td>NaN</td>\n",
              "      <td>NaN</td>\n",
              "      <td>NaN</td>\n",
              "      <td>NaN</td>\n",
              "    </tr>\n",
              "    <tr>\n",
              "      <th>43</th>\n",
              "      <td>123373</td>\n",
              "      <td>NaN</td>\n",
              "      <td>15</td>\n",
              "      <td>5.0</td>\n",
              "      <td>dd/e</td>\n",
              "      <td>NaN</td>\n",
              "      <td>36</td>\n",
              "      <td>new</td>\n",
              "      <td>0</td>\n",
              "      <td>NaN</td>\n",
              "      <td>sdhewey</td>\n",
              "      <td>just right</td>\n",
              "      <td>fit</td>\n",
              "      <td>670919</td>\n",
              "      <td>NaN</td>\n",
              "      <td>NaN</td>\n",
              "      <td>NaN</td>\n",
              "      <td>NaN</td>\n",
              "    </tr>\n",
              "    <tr>\n",
              "      <th>73</th>\n",
              "      <td>124124</td>\n",
              "      <td>NaN</td>\n",
              "      <td>20</td>\n",
              "      <td>4.0</td>\n",
              "      <td>c</td>\n",
              "      <td>NaN</td>\n",
              "      <td>38</td>\n",
              "      <td>new</td>\n",
              "      <td>0</td>\n",
              "      <td>NaN</td>\n",
              "      <td>Fiorella</td>\n",
              "      <td>just right</td>\n",
              "      <td>large</td>\n",
              "      <td>816504</td>\n",
              "      <td>NaN</td>\n",
              "      <td>NaN</td>\n",
              "      <td>NaN</td>\n",
              "      <td>NaN</td>\n",
              "    </tr>\n",
              "    <tr>\n",
              "      <th>131</th>\n",
              "      <td>124124</td>\n",
              "      <td>NaN</td>\n",
              "      <td>12</td>\n",
              "      <td>3.0</td>\n",
              "      <td>c</td>\n",
              "      <td>NaN</td>\n",
              "      <td>36</td>\n",
              "      <td>new</td>\n",
              "      <td>0</td>\n",
              "      <td>NaN</td>\n",
              "      <td>jmcrowder.1124</td>\n",
              "      <td>very short</td>\n",
              "      <td>fit</td>\n",
              "      <td>846091</td>\n",
              "      <td>NaN</td>\n",
              "      <td>NaN</td>\n",
              "      <td>NaN</td>\n",
              "      <td>NaN</td>\n",
              "    </tr>\n",
              "    <tr>\n",
              "      <th>213</th>\n",
              "      <td>124124</td>\n",
              "      <td>NaN</td>\n",
              "      <td>20</td>\n",
              "      <td>4.0</td>\n",
              "      <td>d</td>\n",
              "      <td>NaN</td>\n",
              "      <td>40</td>\n",
              "      <td>new</td>\n",
              "      <td>0</td>\n",
              "      <td>NaN</td>\n",
              "      <td>rhea_heather</td>\n",
              "      <td>just right</td>\n",
              "      <td>fit</td>\n",
              "      <td>121007</td>\n",
              "      <td>NaN</td>\n",
              "      <td>NaN</td>\n",
              "      <td>NaN</td>\n",
              "      <td>NaN</td>\n",
              "    </tr>\n",
              "    <tr>\n",
              "      <th>382</th>\n",
              "      <td>125442</td>\n",
              "      <td>NaN</td>\n",
              "      <td>5</td>\n",
              "      <td>5.0</td>\n",
              "      <td>b</td>\n",
              "      <td>NaN</td>\n",
              "      <td>34</td>\n",
              "      <td>new</td>\n",
              "      <td>0</td>\n",
              "      <td>NaN</td>\n",
              "      <td>kelsi.flatland</td>\n",
              "      <td>just right</td>\n",
              "      <td>large</td>\n",
              "      <td>5752</td>\n",
              "      <td>NaN</td>\n",
              "      <td>NaN</td>\n",
              "      <td>NaN</td>\n",
              "      <td>NaN</td>\n",
              "    </tr>\n",
              "    <tr>\n",
              "      <th>423</th>\n",
              "      <td>125442</td>\n",
              "      <td>NaN</td>\n",
              "      <td>7</td>\n",
              "      <td>5.0</td>\n",
              "      <td>c</td>\n",
              "      <td>NaN</td>\n",
              "      <td>34</td>\n",
              "      <td>new</td>\n",
              "      <td>0</td>\n",
              "      <td>NaN</td>\n",
              "      <td>Naomi</td>\n",
              "      <td>just right</td>\n",
              "      <td>fit</td>\n",
              "      <td>563612</td>\n",
              "      <td>NaN</td>\n",
              "      <td>NaN</td>\n",
              "      <td>NaN</td>\n",
              "      <td>NaN</td>\n",
              "    </tr>\n",
              "    <tr>\n",
              "      <th>456</th>\n",
              "      <td>125442</td>\n",
              "      <td>NaN</td>\n",
              "      <td>7</td>\n",
              "      <td>5.0</td>\n",
              "      <td>b</td>\n",
              "      <td>NaN</td>\n",
              "      <td>38</td>\n",
              "      <td>new</td>\n",
              "      <td>0</td>\n",
              "      <td>NaN</td>\n",
              "      <td>shirawzn</td>\n",
              "      <td>just right</td>\n",
              "      <td>fit</td>\n",
              "      <td>968605</td>\n",
              "      <td>NaN</td>\n",
              "      <td>NaN</td>\n",
              "      <td>NaN</td>\n",
              "      <td>NaN</td>\n",
              "    </tr>\n",
              "    <tr>\n",
              "      <th>475</th>\n",
              "      <td>125442</td>\n",
              "      <td>NaN</td>\n",
              "      <td>7</td>\n",
              "      <td>5.0</td>\n",
              "      <td>dd/e</td>\n",
              "      <td>36.0</td>\n",
              "      <td>30</td>\n",
              "      <td>new</td>\n",
              "      <td>0</td>\n",
              "      <td>NaN</td>\n",
              "      <td>Ingrid</td>\n",
              "      <td>just right</td>\n",
              "      <td>small</td>\n",
              "      <td>940714</td>\n",
              "      <td>NaN</td>\n",
              "      <td>NaN</td>\n",
              "      <td>NaN</td>\n",
              "      <td>NaN</td>\n",
              "    </tr>\n",
              "    <tr>\n",
              "      <th>543</th>\n",
              "      <td>125442</td>\n",
              "      <td>NaN</td>\n",
              "      <td>9</td>\n",
              "      <td>4.0</td>\n",
              "      <td>dd/e</td>\n",
              "      <td>NaN</td>\n",
              "      <td>34</td>\n",
              "      <td>new</td>\n",
              "      <td>0</td>\n",
              "      <td>NaN</td>\n",
              "      <td>lesleylucas11</td>\n",
              "      <td>just right</td>\n",
              "      <td>fit</td>\n",
              "      <td>412182</td>\n",
              "      <td>NaN</td>\n",
              "      <td>NaN</td>\n",
              "      <td>NaN</td>\n",
              "      <td>NaN</td>\n",
              "    </tr>\n",
              "    <tr>\n",
              "      <th>553</th>\n",
              "      <td>125442</td>\n",
              "      <td>NaN</td>\n",
              "      <td>7</td>\n",
              "      <td>5.0</td>\n",
              "      <td>Unknown</td>\n",
              "      <td>NaN</td>\n",
              "      <td>Unknown</td>\n",
              "      <td>new</td>\n",
              "      <td>0</td>\n",
              "      <td>NaN</td>\n",
              "      <td>sharonpeporter</td>\n",
              "      <td>slightly long</td>\n",
              "      <td>fit</td>\n",
              "      <td>461540</td>\n",
              "      <td>7.0</td>\n",
              "      <td>average</td>\n",
              "      <td>NaN</td>\n",
              "      <td>NaN</td>\n",
              "    </tr>\n",
              "    <tr>\n",
              "      <th>591</th>\n",
              "      <td>125442</td>\n",
              "      <td>NaN</td>\n",
              "      <td>7</td>\n",
              "      <td>3.0</td>\n",
              "      <td>Unknown</td>\n",
              "      <td>NaN</td>\n",
              "      <td>Unknown</td>\n",
              "      <td>new</td>\n",
              "      <td>0</td>\n",
              "      <td>NaN</td>\n",
              "      <td>julia.burch</td>\n",
              "      <td>slightly short</td>\n",
              "      <td>small</td>\n",
              "      <td>675878</td>\n",
              "      <td>8.5</td>\n",
              "      <td>narrow</td>\n",
              "      <td>NaN</td>\n",
              "      <td>NaN</td>\n",
              "    </tr>\n",
              "    <tr>\n",
              "      <th>631</th>\n",
              "      <td>125442</td>\n",
              "      <td>NaN</td>\n",
              "      <td>9</td>\n",
              "      <td>5.0</td>\n",
              "      <td>c</td>\n",
              "      <td>NaN</td>\n",
              "      <td>34</td>\n",
              "      <td>new</td>\n",
              "      <td>0</td>\n",
              "      <td>NaN</td>\n",
              "      <td>aedwyer92</td>\n",
              "      <td>just right</td>\n",
              "      <td>large</td>\n",
              "      <td>724483</td>\n",
              "      <td>8.5</td>\n",
              "      <td>wide</td>\n",
              "      <td>NaN</td>\n",
              "      <td>NaN</td>\n",
              "    </tr>\n",
              "    <tr>\n",
              "      <th>665</th>\n",
              "      <td>125442</td>\n",
              "      <td>NaN</td>\n",
              "      <td>7</td>\n",
              "      <td>5.0</td>\n",
              "      <td>Unknown</td>\n",
              "      <td>NaN</td>\n",
              "      <td>Unknown</td>\n",
              "      <td>new</td>\n",
              "      <td>0</td>\n",
              "      <td>NaN</td>\n",
              "      <td>Kate</td>\n",
              "      <td>slightly short</td>\n",
              "      <td>fit</td>\n",
              "      <td>131784</td>\n",
              "      <td>9.5</td>\n",
              "      <td>wide</td>\n",
              "      <td>NaN</td>\n",
              "      <td>NaN</td>\n",
              "    </tr>\n",
              "    <tr>\n",
              "      <th>775</th>\n",
              "      <td>125442</td>\n",
              "      <td>NaN</td>\n",
              "      <td>13</td>\n",
              "      <td>3.0</td>\n",
              "      <td>d</td>\n",
              "      <td>NaN</td>\n",
              "      <td>38</td>\n",
              "      <td>new</td>\n",
              "      <td>0</td>\n",
              "      <td>NaN</td>\n",
              "      <td>Samantha</td>\n",
              "      <td>just right</td>\n",
              "      <td>fit</td>\n",
              "      <td>443301</td>\n",
              "      <td>NaN</td>\n",
              "      <td>NaN</td>\n",
              "      <td>NaN</td>\n",
              "      <td>NaN</td>\n",
              "    </tr>\n",
              "    <tr>\n",
              "      <th>785</th>\n",
              "      <td>125442</td>\n",
              "      <td>NaN</td>\n",
              "      <td>9</td>\n",
              "      <td>4.0</td>\n",
              "      <td>d</td>\n",
              "      <td>NaN</td>\n",
              "      <td>38</td>\n",
              "      <td>new</td>\n",
              "      <td>0</td>\n",
              "      <td>NaN</td>\n",
              "      <td>Gypsy</td>\n",
              "      <td>just right</td>\n",
              "      <td>fit</td>\n",
              "      <td>361453</td>\n",
              "      <td>NaN</td>\n",
              "      <td>NaN</td>\n",
              "      <td>NaN</td>\n",
              "      <td>NaN</td>\n",
              "    </tr>\n",
              "    <tr>\n",
              "      <th>864</th>\n",
              "      <td>125442</td>\n",
              "      <td>NaN</td>\n",
              "      <td>9</td>\n",
              "      <td>3.0</td>\n",
              "      <td>d</td>\n",
              "      <td>NaN</td>\n",
              "      <td>34</td>\n",
              "      <td>new</td>\n",
              "      <td>0</td>\n",
              "      <td>NaN</td>\n",
              "      <td>Aleece</td>\n",
              "      <td>just right</td>\n",
              "      <td>fit</td>\n",
              "      <td>530376</td>\n",
              "      <td>NaN</td>\n",
              "      <td>NaN</td>\n",
              "      <td>NaN</td>\n",
              "      <td>NaN</td>\n",
              "    </tr>\n",
              "    <tr>\n",
              "      <th>908</th>\n",
              "      <td>125442</td>\n",
              "      <td>NaN</td>\n",
              "      <td>13</td>\n",
              "      <td>2.0</td>\n",
              "      <td>Unknown</td>\n",
              "      <td>NaN</td>\n",
              "      <td>Unknown</td>\n",
              "      <td>new</td>\n",
              "      <td>0</td>\n",
              "      <td>NaN</td>\n",
              "      <td>Tallulah</td>\n",
              "      <td>slightly short</td>\n",
              "      <td>fit</td>\n",
              "      <td>198731</td>\n",
              "      <td>8.5</td>\n",
              "      <td>average</td>\n",
              "      <td>NaN</td>\n",
              "      <td>NaN</td>\n",
              "    </tr>\n",
              "    <tr>\n",
              "      <th>1189</th>\n",
              "      <td>126885</td>\n",
              "      <td>NaN</td>\n",
              "      <td>20</td>\n",
              "      <td>4.0</td>\n",
              "      <td>Unknown</td>\n",
              "      <td>NaN</td>\n",
              "      <td>Unknown</td>\n",
              "      <td>new</td>\n",
              "      <td>0</td>\n",
              "      <td>NaN</td>\n",
              "      <td>celinemaslard</td>\n",
              "      <td>just right</td>\n",
              "      <td>fit</td>\n",
              "      <td>295466</td>\n",
              "      <td>8.5</td>\n",
              "      <td>NaN</td>\n",
              "      <td>NaN</td>\n",
              "      <td>NaN</td>\n",
              "    </tr>\n",
              "  </tbody>\n",
              "</table>\n",
              "</div>"
            ],
            "text/plain": [
              "      item_id  waist  mc_size  ...  shoe_width review_summary  review_text\n",
              "3      123373    NaN       21  ...         NaN            NaN          NaN\n",
              "17     123373    NaN       15  ...         NaN            NaN          NaN\n",
              "43     123373    NaN       15  ...         NaN            NaN          NaN\n",
              "73     124124    NaN       20  ...         NaN            NaN          NaN\n",
              "131    124124    NaN       12  ...         NaN            NaN          NaN\n",
              "213    124124    NaN       20  ...         NaN            NaN          NaN\n",
              "382    125442    NaN        5  ...         NaN            NaN          NaN\n",
              "423    125442    NaN        7  ...         NaN            NaN          NaN\n",
              "456    125442    NaN        7  ...         NaN            NaN          NaN\n",
              "475    125442    NaN        7  ...         NaN            NaN          NaN\n",
              "543    125442    NaN        9  ...         NaN            NaN          NaN\n",
              "553    125442    NaN        7  ...     average            NaN          NaN\n",
              "591    125442    NaN        7  ...      narrow            NaN          NaN\n",
              "631    125442    NaN        9  ...        wide            NaN          NaN\n",
              "665    125442    NaN        7  ...        wide            NaN          NaN\n",
              "775    125442    NaN       13  ...         NaN            NaN          NaN\n",
              "785    125442    NaN        9  ...         NaN            NaN          NaN\n",
              "864    125442    NaN        9  ...         NaN            NaN          NaN\n",
              "908    125442    NaN       13  ...     average            NaN          NaN\n",
              "1189   126885    NaN       20  ...         NaN            NaN          NaN\n",
              "\n",
              "[20 rows x 18 columns]"
            ]
          },
          "metadata": {
            "tags": []
          },
          "execution_count": 27
        }
      ]
    },
    {
      "cell_type": "markdown",
      "metadata": {
        "id": "pmf_rFV9XJTj"
      },
      "source": [
        "**Investigate the first 20 rows where the height data is missing. What does it tell us about the customers representing these rows?**\r\n",
        "the rows where height is missing seems to have cup_size and mc_size, so it's possible that they haven't bought anything where height is relevant."
      ]
    },
    {
      "cell_type": "markdown",
      "metadata": {
        "id": "6OqMm1tDA5V0"
      },
      "source": [
        "> This filtering gives us interesting observations here:\n",
        "> 1. Some customers have given bra_size, cup_size data, whereas all other measurements are empty. **Possible first-time purchase at Modcloth for lingerie!**\n",
        "> 2. Some customers have given shoe_size and all other measurements are empty. **Possible first-time purchase at Modcloth for shoes!**\n",
        ">     \n",
        "\n",
        "**It leads us to saying that there are some first-time buyers in the dataset** (let us remeber this for later)\n",
        "\n",
        "  **Q:** \n",
        "\n",
        "  * How can we support this assumption by looking at the data? \n",
        "  \n",
        "  * How many missing values exist in the height feature. \n",
        "  \n",
        "  * What is a suitable course of action for height feature with missing rows?\n",
        "\n"
      ]
    },
    {
      "cell_type": "code",
      "metadata": {
        "id": "_0dW1g9onpOJ",
        "colab": {
          "base_uri": "https://localhost:8080/"
        },
        "outputId": "2804793e-73e6-4bd6-a382-3043130191b2"
      },
      "source": [
        "#Count and handle missing rows \n",
        "height_null_values = mc_df['height'].isnull()\n",
        "mc_df[height_null_values].isnull().sum().div(height_null_values.sum())*100 # we can look at percentage of other null values for the rows where height is null and see that waist, category, bust and\n",
        "# shoe_width almost always is null at the same row\n",
        "\n",
        "# Missing values is 1107\n",
        "print(f'Missing values count: {mc_df[\"height\"].isnull().sum()}')\n",
        "# replace null values with \"Unknown\"\n",
        "mc_df['height'].fillna('Unknown', inplace = True) \n",
        "# Convert data type to categorical\n",
        "mc_df.height = mc_df.height.astype('category').cat.as_ordered() "
      ],
      "execution_count": 28,
      "outputs": [
        {
          "output_type": "stream",
          "text": [
            "Missing values count: 1107\n"
          ],
          "name": "stdout"
        }
      ]
    },
    {
      "cell_type": "markdown",
      "metadata": {
        "id": "ENLPxBUzA5V1"
      },
      "source": [
        "* **hips:**\n",
        "Hips column has a lot of missing values ~ 32.28%! We know this data would possibly be missing because Modcloth never got this data from the user most probably. We cannot remove such a significant chunk of the data, so we need another way of handling this feature. We will bin the data- on the basis of quartiles. This is done in the code below. \n",
        "\n",
        "* Explain what the code does and what the result is. \n"
      ]
    },
    {
      "cell_type": "code",
      "metadata": {
        "id": "OabZVYVehb-F",
        "colab": {
          "base_uri": "https://localhost:8080/"
        },
        "outputId": "12874bcb-1456-4e91-d79b-f3f58d817807"
      },
      "source": [
        "# Handling hips column\n",
        "\n",
        "# Exchanging empty columns with -1,0\n",
        "mc_df.hips = mc_df.hips.fillna(-1.0)\n",
        "\n",
        "# Creating bins \n",
        "bins = [-5,0,31,37,40,44,75]\n",
        "\n",
        "# Creating labels \n",
        "labels = ['Unknown','XS','S','M', 'L','XL']\n",
        "\n",
        "#Using cut to segment and sort data values into bins as categorical values with Xl being largest and Unknown is negative values?\n",
        "mc_df.hips = pd.cut(mc_df.hips, bins, labels=labels)\n",
        "\n",
        "mc_df.hips.head(20)"
      ],
      "execution_count": 29,
      "outputs": [
        {
          "output_type": "execute_result",
          "data": {
            "text/plain": [
              "0           M\n",
              "1          XS\n",
              "2     Unknown\n",
              "3     Unknown\n",
              "4     Unknown\n",
              "5           L\n",
              "6     Unknown\n",
              "7           L\n",
              "8          XL\n",
              "9           L\n",
              "10         XL\n",
              "11         XL\n",
              "12    Unknown\n",
              "13    Unknown\n",
              "14          S\n",
              "15         XL\n",
              "16          L\n",
              "17    Unknown\n",
              "18          M\n",
              "19          S\n",
              "Name: hips, dtype: category\n",
              "Categories (6, object): ['Unknown' < 'XS' < 'S' < 'M' < 'L' < 'XL']"
            ]
          },
          "metadata": {
            "tags": []
          },
          "execution_count": 29
        }
      ]
    },
    {
      "cell_type": "markdown",
      "metadata": {
        "id": "n6bZjo4qhfeA"
      },
      "source": [
        "* **length:** There are only 35 missing rows in length, we'll take a look at these. We saw that most probably the customers did not leave behind the feedback or the data was corrupted in these rows. However, we should be able to impute these values using review related fields (if they are filled!). Or we could also simply choose to remove these rows. For the sake of this analysis, we will remove these rows.\n"
      ]
    },
    {
      "cell_type": "code",
      "metadata": {
        "id": "hWm_1L3ehz6J"
      },
      "source": [
        "# Handling length column\n",
        "missing_rows = mc_df[mc_df.length.isnull()].index\n",
        "mc_df.drop(missing_rows, axis = 0, inplace=True)"
      ],
      "execution_count": 30,
      "outputs": []
    },
    {
      "cell_type": "markdown",
      "metadata": {
        "id": "VvHZ3nNAhlpC"
      },
      "source": [
        "* **quality:** There are only 68 missing rows in quality, we'll took a look at these. Similarly to length, the customers did not leave behind the feedback or the data was corrupted in these rows. We will remove these rows and convert the dtype to an ordinal variable (ordered categorical)."
      ]
    },
    {
      "cell_type": "code",
      "metadata": {
        "id": "_gD058qzhy7V"
      },
      "source": [
        "# Handling quality\n",
        "missing_rows = mc_df[mc_df.quality.isnull()].index\n",
        "mc_df.drop(missing_rows, axis = 0, inplace=True)\n",
        "mc_df.quality = mc_df.quality.astype('category').cat.as_ordered()"
      ],
      "execution_count": 31,
      "outputs": []
    },
    {
      "cell_type": "markdown",
      "metadata": {
        "id": "kdlHn_vRfhN3"
      },
      "source": [
        "* **review_summary/ review_text**- The NA values are there because these reviews are simply not provided by customers. Let's just fill those as 'Unknown'.\n"
      ]
    },
    {
      "cell_type": "code",
      "metadata": {
        "id": "ISRXDpz2fuUw"
      },
      "source": [
        "#Handling review_summare/review_text\r\n",
        "\r\n",
        "mc_df['review_summary'].fillna('Unknown', inplace = True) #replace null values with \"Unknown\"\r\n",
        "mc_df['review_text'].fillna('Unknown', inplace = True) #replace null values with \"Unknown\""
      ],
      "execution_count": 32,
      "outputs": []
    },
    {
      "cell_type": "markdown",
      "metadata": {
        "id": "cMlQSpTnfkVe"
      },
      "source": [
        "* **shoe_size** -  Roughly 66.3% of the shoe_size data is missing. We will change the shoe_size into *category* dtype and fill the NA values as 'Unknown'.\n"
      ]
    },
    {
      "cell_type": "code",
      "metadata": {
        "id": "rE3tG2O3fu44"
      },
      "source": [
        "#Handling shoe_size\r\n",
        "mc_df.shoe_size.fillna('Unknown', inplace = True) \r\n",
        "mc_df.shoe_size= mc_df.shoe_size.astype('category').cat.as_ordered()"
      ],
      "execution_count": 33,
      "outputs": []
    },
    {
      "cell_type": "markdown",
      "metadata": {
        "id": "1i4yxV9bfmfr"
      },
      "source": [
        "* **shoe_width** - Roughly 77.5% of the shoe_width data is missing, drop this column.\n"
      ]
    },
    {
      "cell_type": "code",
      "metadata": {
        "id": "aGC_VyNMfvh4"
      },
      "source": [
        "#Handling shoe_with\r\n",
        "mc_df.drop('shoe_width', axis=1, inplace=True)"
      ],
      "execution_count": 34,
      "outputs": []
    },
    {
      "cell_type": "markdown",
      "metadata": {
        "id": "xJnruDkrfo04"
      },
      "source": [
        "* **waist**- Waist column has the highest number of missing values - 96.5%! We will drop this column.\n"
      ]
    },
    {
      "cell_type": "code",
      "metadata": {
        "id": "gcjDWE7nfwK6"
      },
      "source": [
        "#Handling waist\r\n",
        "mc_df.drop('waist', axis=1, inplace=True)"
      ],
      "execution_count": 35,
      "outputs": []
    },
    {
      "cell_type": "markdown",
      "metadata": {
        "id": "KQUH-BfdfqpN"
      },
      "source": [
        "* **bust**- 85.6% missing values and highly correlated to bra_size. Remove.\n"
      ]
    },
    {
      "cell_type": "code",
      "metadata": {
        "id": "RL1Wjz6afw1G"
      },
      "source": [
        "#Handling bust\r\n",
        "mc_df.drop('bust', axis=1, inplace=True)"
      ],
      "execution_count": 36,
      "outputs": []
    },
    {
      "cell_type": "markdown",
      "metadata": {
        "id": "_lY-Gjcqfsvu"
      },
      "source": [
        "* **user_name**- user_name itself is not needed with the user_id given. Remove.\n",
        "\n"
      ]
    },
    {
      "cell_type": "code",
      "metadata": {
        "id": "DJr9y0IYfyKf"
      },
      "source": [
        "#Handling user_name\r\n",
        "mc_df.drop('user_name', axis=1, inplace=True)"
      ],
      "execution_count": 37,
      "outputs": []
    },
    {
      "cell_type": "markdown",
      "metadata": {
        "id": "U_bZ0Af8Z2MD"
      },
      "source": [
        "Run the function for plotting features again to see how the features look like after our changes, only plot categorial variables."
      ]
    },
    {
      "cell_type": "code",
      "metadata": {
        "id": "TqBijCk5aDcL",
        "colab": {
          "base_uri": "https://localhost:8080/",
          "height": 978
        },
        "outputId": "e1ff0f44-3007-4557-a560-895623652f27"
      },
      "source": [
        "#Create list and call function to plot features\n",
        "categorical_features_list = ['quality', 'hips', 'fit', 'shoe_size', 'height']\n",
        "\n",
        "countplot(categorical_features_list)"
      ],
      "execution_count": 38,
      "outputs": [
        {
          "output_type": "display_data",
          "data": {
            "image/png": "[encoded data removed]",
            "text/plain": [
              "<Figure size 1800x1800 with 5 Axes>"
            ]
          },
          "metadata": {
            "tags": [],
            "needs_background": "light"
          }
        }
      ]
    },
    {
      "cell_type": "markdown",
      "metadata": {
        "id": "6V51-rlAbHRt"
      },
      "source": [
        ""
      ]
    },
    {
      "cell_type": "markdown",
      "metadata": {
        "id": "0LyqTnB-MgSd"
      },
      "source": [
        "> # Feature Engineering \n",
        "> ## Creating a new feature of first_time_buyer\n",
        "> \n",
        "> Building on our observations above, it makes sense to identify the transactions which belong to first time users. We use the following logic to identify such first time transactions in the dataset:\n",
        "> * If bra_size/cup_size have a value and height, hips, shoe_size, and waist do not we conclude **it is a first time buyer of lingerie**.\n",
        "> * If shoe_size have a value and bra_size, cup_size, height, hips, and waist do not we conclude: **it is a first time buyer of shoes**.\n",
        "> * If hips/waist have a value and bra_size, cup_size, height, shoe_size do not: we conclude: **it is a first time buyer of a dress/tops**.\n",
        "> \n"
      ]
    },
    {
      "cell_type": "markdown",
      "metadata": {
        "id": "YORDKkElA5V1"
      },
      "source": [
        ">Now we add a new column to the original data- *first_time_user*, which is a bool feature which indicates if a user, of a transaction, is a first-time user or not. This is based on the grounds that Modcloth has no previous information about the person, infact it is possible that the new user did multiple transactions in the first time!"
      ]
    },
    {
      "cell_type": "code",
      "metadata": {
        "id": "1VRyZdYbA5V1"
      },
      "source": [
        "# Changed isnull to 'Unknown'\n",
        "\n",
        "lingerie_cond = (((mc_df.bra_size != 'Unknown') | (mc_df.cup_size != 'Unknown')) & (mc_df.height == 'Unknown') & (mc_df.hips == 'Unknown') &\n",
        "(mc_df.shoe_size == 'Unknown'))\n",
        "shoe_cond = ((mc_df.bra_size == 'Unknown') & (mc_df.cup_size == 'Unknown') & (mc_df.height == 'Unknown') & (mc_df.hips == 'Unknown') &\n",
        "((mc_df.shoe_size != 'Unknown')))\n",
        "dress_cond = ((mc_df.bra_size == 'Unknown') & (mc_df.cup_size == 'Unknown') & (mc_df.height == 'Unknown') & ((mc_df.hips != 'Unknown')) &\n",
        "(mc_df.shoe_size == 'Unknown'))\n"
      ],
      "execution_count": 39,
      "outputs": []
    },
    {
      "cell_type": "code",
      "metadata": {
        "id": "ixgcnCoLnUEQ",
        "colab": {
          "base_uri": "https://localhost:8080/"
        },
        "outputId": "887ac799-51a6-4fcd-c299-d2863d1a4eb9"
      },
      "source": [
        "mc_df['first_time_user'] = (lingerie_cond | shoe_cond | dress_cond)\n",
        "print(\"Column added!\")\n",
        "print(\"Total transactions by first time users who bought bra, shoes, or a dress: \" + str(sum(mc_df.first_time_user)))\n",
        "print(\"Total first time users: \" + str(len(mc_df[(lingerie_cond | shoe_cond | dress_cond)].user_id.unique())))"
      ],
      "execution_count": 40,
      "outputs": [
        {
          "output_type": "stream",
          "text": [
            "Column added!\n",
            "Total transactions by first time users who bought bra, shoes, or a dress: 902\n",
            "Total first time users: 567\n"
          ],
          "name": "stdout"
        }
      ]
    },
    {
      "cell_type": "markdown",
      "metadata": {
        "id": "RZUEs4yJrHUU"
      },
      "source": [
        "**Q**\n",
        "\n",
        "* How many `first_time_users` did you identify?\n",
        "\n",
        "* How many transactions were made by `first_time_users` who bought bra, shoes, or a dress?"
      ]
    },
    {
      "cell_type": "markdown",
      "metadata": {
        "id": "_UcwCNngfoDL"
      },
      "source": [
        "**Q**\r\n",
        "\r\n",
        "Answer\r\n",
        "* **How many `first_time_users` did you identify?**\r\n",
        ">567\r\n",
        "* **How many transactions were made by `first_time_users` who bought bra, shoes, or a dress?**\r\n",
        ">902"
      ]
    },
    {
      "cell_type": "markdown",
      "metadata": {
        "id": "RUSGvbKxgdfi"
      },
      "source": [
        "**Q** Are there any missing values left in our dataframe?"
      ]
    },
    {
      "cell_type": "code",
      "metadata": {
        "id": "5LfxCtltfw73",
        "colab": {
          "base_uri": "https://localhost:8080/"
        },
        "outputId": "9369f0ba-22ba-4c00-9825-a043b1a09901"
      },
      "source": [
        "# Checking dataframe for nullvalues. There is no  missing values left. \r\n",
        "print(mc_df.isna().any().sum()) "
      ],
      "execution_count": 41,
      "outputs": [
        {
          "output_type": "stream",
          "text": [
            "0\n"
          ],
          "name": "stdout"
        }
      ]
    },
    {
      "cell_type": "markdown",
      "metadata": {
        "id": "Lntux869fzdj"
      },
      "source": [
        "**Q** **Are there any missing values left in our dataframe?**\r\n",
        ">\r\n",
        "**Answer**\r\n",
        ">There is no missing values left."
      ]
    },
    {
      "cell_type": "markdown",
      "metadata": {
        "id": "juL23IJ8A5V2"
      },
      "source": [
        "\n",
        "## Distribution of different features \n",
        "\n",
        "Now we want to review our remaining features again to see how they look after our cleaning and pre-processing. \n",
        "\n",
        "* Call the plotting function again with a list of all categorial values.\n",
        "\n",
        "* Create a function that plots the continous variables in the dataset and call it with a list of the continous variables. \n",
        "\n",
        "**Q**\n",
        "\n",
        "* What are your observations in regards to the distribution of the data in remaining features? \n",
        "\n",
        "\n",
        "\n"
      ]
    },
    {
      "cell_type": "code",
      "metadata": {
        "id": "kRqqhcxph4R7"
      },
      "source": [
        "#Function for plotting continous features\n",
        "def plot_dist(df, independent_features):\n",
        "  plt.figure(figsize=(25, 20))\n",
        "  for loc, feature in enumerate(independent_features):\n",
        "    ax = plt.subplot(3, 3, loc+1)\n",
        "    sns.distplot(df[feature]) # you can try histplot as well\n",
        "  return None"
      ],
      "execution_count": 42,
      "outputs": []
    },
    {
      "cell_type": "code",
      "metadata": {
        "colab": {
          "base_uri": "https://localhost:8080/",
          "height": 982
        },
        "id": "2bvXXQrkhJwB",
        "outputId": "643adaff-7fb2-452a-809d-e9e6d6f52e7b"
      },
      "source": [
        "total_categorical_list = ['quality', 'cup_size', 'bra_size', 'hips', 'fit', 'shoe_size', 'height', 'category']\r\n",
        "countplot(total_categorical_list)"
      ],
      "execution_count": 43,
      "outputs": [
        {
          "output_type": "display_data",
          "data": {
            "image/png": "[encoded data removed]",
            "text/plain": [
              "<Figure size 1800x1800 with 8 Axes>"
            ]
          },
          "metadata": {
            "tags": [],
            "needs_background": "light"
          }
        }
      ]
    },
    {
      "cell_type": "code",
      "metadata": {
        "id": "v4zOoT1-iUUb",
        "colab": {
          "base_uri": "https://localhost:8080/",
          "height": 394
        },
        "outputId": "d73ab4df-f9c7-457a-c0a1-39c1cfaa0d2f"
      },
      "source": [
        "#Call the function to plot the continous features.\r\n",
        "total_continous_list = ['item_id', 'mc_size', 'user_id']\r\n",
        "plot_dist(mc_df, total_continous_list)"
      ],
      "execution_count": 44,
      "outputs": [
        {
          "output_type": "display_data",
          "data": {
            "image/png": "[encoded data removed]",
            "text/plain": [
              "<Figure size 1800x1440 with 3 Axes>"
            ]
          },
          "metadata": {
            "tags": [],
            "needs_background": "light"
          }
        }
      ]
    },
    {
      "cell_type": "markdown",
      "metadata": {
        "id": "TQU5FdS3pwFt"
      },
      "source": [
        "* What do the different visualizations tell us about individual features?"
      ]
    },
    {
      "cell_type": "markdown",
      "metadata": {
        "id": "RCwdijxrhgee"
      },
      "source": [
        "**What do the different visualizations tell us about individual features?**\r\n",
        "We can see that the features now are more clean, they all have values such as Unknown instead of null values and the outliers are removed, or replaced. \r\n",
        "The continuous features are coherent when compared to the dataframe in its entirety. The continuity corresponds with the overall data. "
      ]
    },
    {
      "cell_type": "markdown",
      "metadata": {
        "id": "ERtrQNohA5V2"
      },
      "source": [
        "<a id=\"14\"></a>\n",
        "## Categories vs. Fit, Length and Quality\n",
        "Here, we will visualize how the items of different categories fared in terms of - fit, length, and quality. This will tell Modcloth which categories need more attention! \n",
        "\n",
        "I have plotted 2 distributions in categories here:\n",
        "\n",
        "**1. Unnormalized**- viewing the frequency counts directly- for comparison across categories. We also include the best fit, length, or quality measure in this plot.\n",
        "\n",
        "**2. Normalized** -  viewing the distribution for the category after normalizing the counts, amongst the category itself- it will help us compare what are major reason for return amongst the category itself. We exclude the best sizing & quality measures, so as to focus on the pre-dominant reasons of return per category (if any)."
      ]
    },
    {
      "cell_type": "code",
      "metadata": {
        "id": "iQDlXaZhA5V2"
      },
      "source": [
        "def plot_barh(df,col, cmap = None, stacked=False, norm = None):\n",
        "    df.plot(kind='barh', colormap=cmap, stacked=stacked)\n",
        "    fig = plt.gcf()\n",
        "    fig.set_size_inches(24,12)\n",
        "    plt.title(\"Category vs {}-feedback -  Modcloth {}\".format(col, '(Normalized)' if norm else ''), fontsize= 20)\n",
        "    plt.ylabel('Category', fontsize = 18)\n",
        "    plot = plt.xlabel('Frequency', fontsize=18)\n",
        "    \n",
        "def norm_counts(t):\n",
        "    norms = np.linalg.norm(t.fillna(0), axis=1)\n",
        "    t_norm = t[0:0]\n",
        "    for row, euc in zip(t.iterrows(), norms):\n",
        "        t_norm.loc[row[0]] = list(map(lambda x: x/euc, list(row[1])))\n",
        "    return t_norm"
      ],
      "execution_count": 45,
      "outputs": []
    },
    {
      "cell_type": "markdown",
      "metadata": {
        "id": "KGQzf-uIA5V3"
      },
      "source": [
        "- **Category vs. Fit**"
      ]
    },
    {
      "cell_type": "code",
      "metadata": {
        "id": "wgVcCtYvA5V3",
        "colab": {
          "base_uri": "https://localhost:8080/",
          "height": 743
        },
        "outputId": "289f4461-db6a-400b-fa2c-bfbdb520d3a4"
      },
      "source": [
        "g_by_category = mc_df.groupby('category')\n",
        "cat_fit = g_by_category['fit'].value_counts()\n",
        "cat_fit = cat_fit.unstack()\n",
        "cat_fit_norm = norm_counts(cat_fit)\n",
        "cat_fit_norm.drop(['fit'], axis=1, inplace=True)\n",
        "plot_barh(cat_fit, 'fit')"
      ],
      "execution_count": 46,
      "outputs": [
        {
          "output_type": "display_data",
          "data": {
            "image/png": "[encoded data removed]",
            "text/plain": [
              "<Figure size 1728x864 with 1 Axes>"
            ]
          },
          "metadata": {
            "tags": [],
            "needs_background": "light"
          }
        }
      ]
    },
    {
      "cell_type": "code",
      "metadata": {
        "colab": {
          "base_uri": "https://localhost:8080/"
        },
        "id": "AxrOT-S-jkpu",
        "outputId": "5e7fcbc6-3acc-4650-b4e9-e49948b663c6"
      },
      "source": [
        "# print percentage of each category so we can see the ones with best fitness\r\n",
        "for i in range(len(cat_fit.index)):\r\n",
        "  print((cat_fit.iloc[i]/cat_fit.iloc[i].sum()*100).round(2))"
      ],
      "execution_count": 47,
      "outputs": [
        {
          "output_type": "stream",
          "text": [
            "fit\n",
            "fit      69.85\n",
            "large    13.48\n",
            "small    16.67\n",
            "Name: bottoms, dtype: float64\n",
            "fit\n",
            "fit      72.83\n",
            "large    13.72\n",
            "small    13.44\n",
            "Name: dresses, dtype: float64\n",
            "fit\n",
            "fit      67.10\n",
            "large    13.87\n",
            "small    19.03\n",
            "Name: new, dtype: float64\n",
            "fit\n",
            "fit      66.16\n",
            "large    19.35\n",
            "small    14.49\n",
            "Name: outerwear, dtype: float64\n",
            "fit\n",
            "fit      63.14\n",
            "large    17.05\n",
            "small    19.81\n",
            "Name: sale, dtype: float64\n",
            "fit\n",
            "fit      66.32\n",
            "large    20.47\n",
            "small    13.22\n",
            "Name: tops, dtype: float64\n",
            "fit\n",
            "fit      79.64\n",
            "large    15.64\n",
            "small     4.73\n",
            "Name: wedding, dtype: float64\n"
          ],
          "name": "stdout"
        }
      ]
    },
    {
      "cell_type": "markdown",
      "metadata": {
        "id": "88byI5eoA5V3"
      },
      "source": [
        "\n",
        "* Which categories have the best fit response (`fit`)  \n",
        "* Which categories have the worst fit-feedback?  \n"
      ]
    },
    {
      "cell_type": "markdown",
      "metadata": {
        "id": "13vFF_LSjoC2"
      },
      "source": [
        "**Which categories have the best fit response (`fit`)** \r\n",
        "Categories with the best fit ( > 70% fit): Dresses, wedding\r\n",
        "**Which categories have the worst fit-feedback?**\r\n",
        "Categories with the worst fit ( < 67% fit): Sale (63%), Outerwear (66%), tops (66%). "
      ]
    },
    {
      "cell_type": "markdown",
      "metadata": {
        "id": "oqTOT1slA5V3"
      },
      "source": [
        "- **Category vs Length**"
      ]
    },
    {
      "cell_type": "code",
      "metadata": {
        "id": "VCyOqa4HA5V4",
        "colab": {
          "base_uri": "https://localhost:8080/",
          "height": 743
        },
        "outputId": "c87749cd-26e2-4693-d589-2d751a895b94"
      },
      "source": [
        "cat_len = g_by_category['length'].value_counts()\n",
        "cat_len = cat_len.unstack()\n",
        "plot_barh(cat_len, 'length', 'Set3')"
      ],
      "execution_count": 48,
      "outputs": [
        {
          "output_type": "display_data",
          "data": {
            "image/png": "[encoded data removed]",
            "text/plain": [
              "<Figure size 1728x864 with 1 Axes>"
            ]
          },
          "metadata": {
            "tags": [],
            "needs_background": "light"
          }
        }
      ]
    },
    {
      "cell_type": "markdown",
      "metadata": {
        "id": "LGJMjfbEA5V4"
      },
      "source": [
        "\n",
        "**Q** Which reason is the most common for returning clothes? "
      ]
    },
    {
      "cell_type": "code",
      "metadata": {
        "colab": {
          "base_uri": "https://localhost:8080/"
        },
        "id": "QSHCe7LLjtqO",
        "outputId": "2e47273c-8440-4702-99f6-264b5ff7b792"
      },
      "source": [
        "# print percentage of each category to see frequency of length\r\n",
        "for i in range(len(cat_len.index)):\r\n",
        "  print((cat_len.iloc[i]/cat_len.iloc[i].sum()*100).round(2))"
      ],
      "execution_count": 49,
      "outputs": [
        {
          "output_type": "stream",
          "text": [
            "length\n",
            "just right        68.04\n",
            "slightly long     21.80\n",
            "slightly short     4.52\n",
            "very long          4.79\n",
            "very short         0.84\n",
            "Name: bottoms, dtype: float64\n",
            "length\n",
            "just right        77.41\n",
            "slightly long      9.13\n",
            "slightly short    10.82\n",
            "very long          1.39\n",
            "very short         1.25\n",
            "Name: dresses, dtype: float64\n",
            "length\n",
            "just right        76.81\n",
            "slightly long     11.59\n",
            "slightly short     7.87\n",
            "very long          2.90\n",
            "very short         0.83\n",
            "Name: new, dtype: float64\n",
            "length\n",
            "just right        82.81\n",
            "slightly long      8.49\n",
            "slightly short     7.04\n",
            "very long          1.16\n",
            "very short         0.50\n",
            "Name: outerwear, dtype: float64\n",
            "length\n",
            "just right        76.80\n",
            "slightly long     12.82\n",
            "slightly short     7.31\n",
            "very long          1.52\n",
            "very short         1.56\n",
            "Name: sale, dtype: float64\n",
            "length\n",
            "just right        73.58\n",
            "slightly long     14.93\n",
            "slightly short     6.94\n",
            "very long          3.57\n",
            "very short         0.98\n",
            "Name: tops, dtype: float64\n",
            "length\n",
            "just right        82.18\n",
            "slightly long      7.64\n",
            "slightly short     9.82\n",
            "very long           NaN\n",
            "very short         0.36\n",
            "Name: wedding, dtype: float64\n"
          ],
          "name": "stdout"
        }
      ]
    },
    {
      "cell_type": "markdown",
      "metadata": {
        "id": "XjoWw_cCj4Os"
      },
      "source": [
        "**Which reason is the most common for returning clothes?**\r\n",
        "Slightly long seems to be the most common issue that the customers are experiencing in terms of length. And \"large\" seems to be the most common issue in terms of fitness.\r\n",
        "So the reason is overall size/shape of the product. \r\n"
      ]
    },
    {
      "cell_type": "markdown",
      "metadata": {
        "id": "x_8j8Sb5A5V5"
      },
      "source": [
        "<a id=\"15\"></a>\n",
        "### Total Number of Users vs Total Number of items bought\n",
        "\n",
        "**Q** What percantage of customers bought only one item at a single transaction? \n"
      ]
    },
    {
      "cell_type": "code",
      "metadata": {
        "id": "q0H2rnvaA5V5",
        "colab": {
          "base_uri": "https://localhost:8080/",
          "height": 630
        },
        "outputId": "b286965c-e5c5-43c6-d882-5ce67ca88d48"
      },
      "source": [
        "# Users who bought so many items\n",
        "items_bought = []\n",
        "total_users = []\n",
        "for i in range(min(mc_df.user_id.value_counts()), max(mc_df.user_id.value_counts())+1):\n",
        "    all_users = sum(mc_df.user_id.value_counts() == i)\n",
        "    if all_users != 0:\n",
        "        total_users.append(all_users)\n",
        "        items_bought.append(i)\n",
        "plt.xlabel(\"Number of items bought\", fontsize = 18)\n",
        "plt.ylabel(\"Number of users\", fontsize = 18)\n",
        "plt.title(\"Distribution of items bought by users on Modcloth\")\n",
        "__ = sns.barplot(x=items_bought, y=total_users, color='y')\n",
        "fig = plt.gcf()\n",
        "fig.set_size_inches(20,10)"
      ],
      "execution_count": 50,
      "outputs": [
        {
          "output_type": "display_data",
          "data": {
            "image/png": "[encoded data removed]",
            "text/plain": [
              "<Figure size 1440x720 with 1 Axes>"
            ]
          },
          "metadata": {
            "tags": [],
            "needs_background": "light"
          }
        }
      ]
    },
    {
      "cell_type": "code",
      "metadata": {
        "colab": {
          "base_uri": "https://localhost:8080/"
        },
        "id": "pIn_fZtrkUam",
        "outputId": "eb404b67-e91b-4ef1-82a1-ae0bef46210a"
      },
      "source": [
        "#What percentage of users bought only one item at a single transaction? \r\n",
        "print('Percentage of users who bought one item:', round(total_users[0]/sum(total_users)*100, 2))\r\n",
        "#answer 66.42 %"
      ],
      "execution_count": 51,
      "outputs": [
        {
          "output_type": "stream",
          "text": [
            "Percentage of users who bought one item: 66.42\n"
          ],
          "name": "stdout"
        }
      ]
    },
    {
      "cell_type": "markdown",
      "metadata": {
        "id": "etlBYTDhkVxE"
      },
      "source": [
        "**What percentage of customers bought only one item at a single transaction?**\r\n",
        "66.42 %"
      ]
    },
    {
      "cell_type": "markdown",
      "metadata": {
        "id": "SF5Zpx1wA5V5"
      },
      "source": [
        "<a id=\"16\"></a>\n",
        "## Height vs shoe_size -  Modcloth customers\n",
        "It would be interesting to see if there exists a linear relation between the height of a person and their shoe-size, i.e.- it will mean shoe-size increases with increase in height!\n",
        "\n",
        "* Investigate the correlation between shoe_size and height for the customers of Modcloth. \n",
        "\n",
        "* Create a visualisation that show the correlation between the two variables. "
      ]
    },
    {
      "cell_type": "code",
      "metadata": {
        "id": "OOrNHfwoA5V5",
        "colab": {
          "base_uri": "https://localhost:8080/",
          "height": 279
        },
        "outputId": "c0ec9e0a-db8f-4fc9-f4db-168657f0be93"
      },
      "source": [
        "import matplotlib.pyplot as plt\r\n",
        "plt.plot(pd.to_numeric(mc_df['height'],errors='coerce').sort_values(ascending = False), pd.to_numeric(mc_df['shoe_size'],errors='coerce').sort_values(ascending = False))\r\n",
        "\r\n",
        "plt.xlabel(\"Height in cm\") #height in cms\r\n",
        "plt.ylabel(\"Shoe size\") #shoe_size\r\n",
        "plt.show()\r\n",
        "\r\n",
        "# Alternative below\r\n",
        "#x = mc_df['shoe_size'] = pd.to_numeric(mc_df['shoe_size'], errors = 'coerce')\r\n",
        "#y = mc_df['height'] = pd.to_numeric(mc_df['height'], errors = 'coerce')\r\n",
        "\r\n",
        "#sns.jointplot(x,y,  kind=\"reg\")"
      ],
      "execution_count": 52,
      "outputs": [
        {
          "output_type": "display_data",
          "data": {
            "image/png": "[encoded data removed]",
            "text/plain": [
              "<Figure size 432x288 with 1 Axes>"
            ]
          },
          "metadata": {
            "tags": [],
            "needs_background": "light"
          }
        }
      ]
    }
  ]
}