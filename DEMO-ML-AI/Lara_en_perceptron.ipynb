{
 "cells": [
  {
   "cell_type": "markdown",
   "metadata": {},
   "source": [
    "# 2 - Learning in a perceptron\n",
    "\n",
    "I denna notebook visas hur man implementerar lärande i en perceptron. Vi startar med en dum perceptron som initialieras random och gör sedan två träningssessioner. \n",
    "\n",
    "1. Tränar perceptronen att känna igen 0 och 1 \n",
    "1. Tränar perceptronen att negera input "
   ]
  },
  {
   "cell_type": "code",
   "execution_count": 2,
   "metadata": {},
   "outputs": [],
   "source": [
    "import random\n",
    "import numpy as np"
   ]
  },
  {
   "cell_type": "code",
   "execution_count": 3,
   "metadata": {},
   "outputs": [],
   "source": [
    "#Aktiveringsfunktionen\n",
    "def step_function(x, threshold):\n",
    "    if x < threshold:\n",
    "        return 0\n",
    "    elif x >= threshold:\n",
    "        return 1\n",
    "\n",
    "class Perceptron1():\n",
    "    \"\"\"Denna klass implementerar en perceptron som tar 1 input.\"\"\"\n",
    "    \n",
    "    def __init__(self, w1, threshold, activation_function):\n",
    "        self.w1 = w1\n",
    "        self.threshold = threshold\n",
    "        self.activation_function = activation_function\n",
    "    \n",
    "    def activate(self, x1):\n",
    "        output = self.activation_function(x1 * self.w1, self.threshold)\n",
    "        return output\n",
    "    \n",
    "    def train(self, X, y, learning_rate=0.01, iterations=50):\n",
    "        self.w1 = random.uniform(0, 0.1)\n",
    "        self.threshold = random.uniform(-1, 1)\n",
    "        self.errors = []\n",
    "        self.w1_breadcrumbs = []\n",
    "        self.t_breadcrumbs = [self.threshold]\n",
    "\n",
    "        for _ in range(iterations):\n",
    "            errors = 0\n",
    "            for xi, target in zip(X, y):\n",
    "                update = learning_rate * (target - self.activate(xi))\n",
    "                self.w1 +=  update * xi\n",
    "                self.w1 +=  update\n",
    "                errors += int(update != 0.0)\n",
    "            self.w1_breadcrumbs.append(self.w1)\n",
    "            self.errors.append(errors)\n",
    "            # Om felen blir fler (sämre) reseta tröskelvärdet helt random \n",
    "            if self.errors[-1] > self.errors[0]:\n",
    "                self.threshold = random.uniform(-1, 1)\n",
    "                self.t_breadcrumbs.append(self.threshold)"
   ]
  },
  {
   "cell_type": "markdown",
   "metadata": {},
   "source": [
    "Skapa en neuron som inte kan eller vet något:"
   ]
  },
  {
   "cell_type": "code",
   "execution_count": 4,
   "metadata": {},
   "outputs": [],
   "source": [
    "# default state\n",
    "p1 = Perceptron1(w1=0.001, threshold=0.5, activation_function=step_function)"
   ]
  },
  {
   "cell_type": "code",
   "execution_count": 5,
   "metadata": {},
   "outputs": [
    {
     "data": {
      "text/plain": [
       "0"
      ]
     },
     "execution_count": 5,
     "metadata": {},
     "output_type": "execute_result"
    }
   ],
   "source": [
    "p1.activate(0)"
   ]
  },
  {
   "cell_type": "code",
   "execution_count": 6,
   "metadata": {},
   "outputs": [
    {
     "data": {
      "text/plain": [
       "0"
      ]
     },
     "execution_count": 6,
     "metadata": {},
     "output_type": "execute_result"
    }
   ],
   "source": [
    "p1.activate(1)"
   ]
  },
  {
   "cell_type": "markdown",
   "metadata": {},
   "source": [
    "Låt oss träna vår neuron att känna igen 1 och 0:"
   ]
  },
  {
   "cell_type": "code",
   "execution_count": 7,
   "metadata": {},
   "outputs": [],
   "source": [
    "p1.train([1, 0, 1, 0, 0], [1, 0, 1, 0, 0])"
   ]
  },
  {
   "cell_type": "code",
   "execution_count": 8,
   "metadata": {},
   "outputs": [
    {
     "data": {
      "text/plain": [
       "1"
      ]
     },
     "execution_count": 8,
     "metadata": {},
     "output_type": "execute_result"
    }
   ],
   "source": [
    "p1.activate(1)"
   ]
  },
  {
   "cell_type": "code",
   "execution_count": 9,
   "metadata": {},
   "outputs": [
    {
     "data": {
      "text/plain": [
       "0"
      ]
     },
     "execution_count": 9,
     "metadata": {},
     "output_type": "execute_result"
    }
   ],
   "source": [
    "p1.activate(0)"
   ]
  },
  {
   "cell_type": "code",
   "execution_count": 10,
   "metadata": {},
   "outputs": [
    {
     "data": {
      "text/plain": [
       "[<matplotlib.lines.Line2D at 0x7f7b46bb70a0>]"
      ]
     },
     "execution_count": 10,
     "metadata": {},
     "output_type": "execute_result"
    },
    {
     "data": {
      "image/png": "[encoded data removed]",
      "text/plain": [
       "<Figure size 432x288 with 1 Axes>"
      ]
     },
     "metadata": {
      "needs_background": "light"
     },
     "output_type": "display_data"
    }
   ],
   "source": [
    "#Visulaisera hur träningen ser ut, och hur mycket bättre neuronen blir \n",
    "import matplotlib.pyplot as plt\n",
    "%matplotlib inline\n",
    "plt.ylabel('Num errors / weight')\n",
    "plt.xlabel('Iterations of training')\n",
    "plt.plot(np.array(p1.w1_breadcrumbs))\n",
    "plt.plot(np.array(p1.errors))"
   ]
  },
  {
   "cell_type": "markdown",
   "metadata": {},
   "source": [
    "Now we train the same neuron again to negate the inputs, by running `train()` with inversed expected outputs:"
   ]
  },
  {
   "cell_type": "code",
   "execution_count": 25,
   "metadata": {},
   "outputs": [],
   "source": [
    "p1.train([1, 0, 1, 0, 0], [0, 1, 0, 1, 1])"
   ]
  },
  {
   "cell_type": "code",
   "execution_count": 26,
   "metadata": {},
   "outputs": [
    {
     "data": {
      "text/plain": [
       "1"
      ]
     },
     "execution_count": 26,
     "metadata": {},
     "output_type": "execute_result"
    }
   ],
   "source": [
    "p1.activate(0)"
   ]
  },
  {
   "cell_type": "code",
   "execution_count": 27,
   "metadata": {},
   "outputs": [
    {
     "data": {
      "text/plain": [
       "0"
      ]
     },
     "execution_count": 27,
     "metadata": {},
     "output_type": "execute_result"
    }
   ],
   "source": [
    "p1.activate(1)"
   ]
  },
  {
   "cell_type": "code",
   "execution_count": 28,
   "metadata": {},
   "outputs": [
    {
     "data": {
      "text/plain": [
       "[<matplotlib.lines.Line2D at 0x7fe28eaf8760>]"
      ]
     },
     "execution_count": 28,
     "metadata": {},
     "output_type": "execute_result"
    },
    {
     "data": {
      "image/png": "[encoded data removed]",
      "text/plain": [
       "<Figure size 432x288 with 1 Axes>"
      ]
     },
     "metadata": {
      "needs_background": "light"
     },
     "output_type": "display_data"
    }
   ],
   "source": [
    "import matplotlib.pyplot as plt\n",
    "%matplotlib inline\n",
    "plt.ylabel('Num errors / weight')\n",
    "plt.xlabel('Iterations of training')\n",
    "plt.plot(np.array(p1.w1_breadcrumbs))\n",
    "plt.plot(np.array(p1.errors))"
   ]
  },
  {
   "cell_type": "code",
   "execution_count": null,
   "metadata": {},
   "outputs": [],
   "source": []
  },
  {
   "cell_type": "code",
   "execution_count": null,
   "metadata": {},
   "outputs": [],
   "source": []
  }
 ],
 "metadata": {
  "kernelspec": {
   "display_name": "Python 3 (ipykernel)",
   "language": "python",
   "name": "python3"
  },
  "language_info": {
   "codemirror_mode": {
    "name": "ipython",
    "version": 3
   },
   "file_extension": ".py",
   "mimetype": "text/x-python",
   "name": "python",
   "nbconvert_exporter": "python",
   "pygments_lexer": "ipython3",
   "version": "3.9.12"
  }
 },
 "nbformat": 4,
 "nbformat_minor": 4
}
