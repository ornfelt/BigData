{
 "cells": [
  {
   "cell_type": "markdown",
   "metadata": {},
   "source": [
    "# Analys av tweets från bokmässan\n",
    "\n",
    "## Attribution David Johnsson, Uppsala University\n"
   ]
  },
  {
   "cell_type": "markdown",
   "metadata": {},
   "source": [
    "Starta med att ladda in följande moduler och sätt upp visualiseringsmiljön för matplotlib\n",
    "\n",
    "1. `pandas` \n",
    "2. `textmining` \n",
    "Funktioner för statistisk textmining, fokuserad på bag-of-words model (som ni inte behöver sätta er in för denna kurs.f För den nyfikne eller vetgirige finns enkla förklaringar exempelvis [här](https://www.analyticsvidhya.com/blog/2020/02/quick-introduction-bag-of-words-bow-tf-idf/) eller [här](https://www.geeksforgeeks.org/bag-of-words-bow-model-in-nlp/), en enkel tutorial finns också [här](https://machinelearningmastery.com/gentle-introduction-bag-words-model/)) \n",
    "3. `wordcloud` - En visualiseringsmodul för att skapa ordmoln, vilket vi gör i denna laboration.\n",
    "4. `matplotlib` \n",
    "5. `sklearn` -  Scikit-learn,ett pythonbibliotek för maskininlärningsalgoritmer, den kommer vi använda mycket i både laboration 3 och 4."
   ]
  },
  {
   "cell_type": "code",
   "execution_count": null,
   "metadata": {},
   "outputs": [],
   "source": [
    "# Kör denna cell för att ladda in biblioteken och sätta upp vår miljö\n",
    "import itertools\n",
    "\n",
    "import matplotlib\n",
    "import nltk\n",
    "import pandas as pd\n",
    "import textmining as tm\n",
    "import wordcloud\n",
    "from sklearn.feature_extraction.text import CountVectorizer\n",
    "\n",
    "# Sätt upp visualiseringen\n",
    "%matplotlib inline\n",
    "matplotlib.pyplot.rcParams[\"figure.figsize\"] = [10, 6]"
   ]
  },
  {
   "cell_type": "markdown",
   "metadata": {
    "lang": "en"
   },
   "source": [
    "## Analys av Twitterdata från bokmässan\n",
    "\n",
    "Ni har blivit inhyrda som konsulter för en bokpublicist som vill att du ska ta reda på vilka teman och böcker som har fått mest uppmärksamhet på bokmässan i Göteborg 2016. \n",
    "\n",
    "Er uppgift är att via Twitterdata undersöka vilka ämnen som fått speciellt mycket uppmärksamhet för och under bokmässan och presentera ett förslag till företaget du arbetar med vad som är lämpliga debattämnen. \n",
    "\n",
    "Fokus här är alltså på att förstå data, vilket är en viktigt del av pre-processering inför mer avacerad dataanalys. \n"
   ]
  },
  {
   "cell_type": "markdown",
   "metadata": {
    "lang": "en"
   },
   "source": [
    "## Data processing\n",
    "\n",
    "Som alltid behöver vårt data städas, i detta fall är fokus att sortera bort data som antingen inte går att analysera eller inte är intressant från den råtextdata vi fått från Twitter. Den data som givits samlades in från Twitter från maj till september 2016.\n",
    "\n",
    "Er datafil finns i repositoriet på github  och heter `twitter_book_fair_data.tsv`."
   ]
  },
  {
   "cell_type": "markdown",
   "metadata": {
    "lang": "en"
   },
   "source": [
    "### Ladda data\n",
    "\n",
    "En `.tsv` fil betyder att det är en tab-separerad fil med tabelldata (jämfört med ; separerad som vi använt tidigare)\n",
    "\n",
    "**F2** Starta arbetet med att läsa in filen med read_csv() med följande parametrar:  encoding=\"utf-8\", sep=\"\\t\" och spara i en dataframe"
   ]
  },
  {
   "cell_type": "code",
   "execution_count": null,
   "metadata": {},
   "outputs": [],
   "source": [
    "twitter_data_book_df = pd.read_csv(\n",
    "    \"Data/twitter_book_fair_data.tsv\", encoding=\"utf-8\", sep=\"\\t\"\n",
    ")"
   ]
  },
  {
   "cell_type": "code",
   "execution_count": null,
   "metadata": {},
   "outputs": [],
   "source": [
    "twitter_data_book_df.head()"
   ]
  },
  {
   "cell_type": "code",
   "execution_count": null,
   "metadata": {},
   "outputs": [],
   "source": [
    "twitter_data_book_df.shape"
   ]
  },
  {
   "cell_type": "code",
   "execution_count": null,
   "metadata": {},
   "outputs": [],
   "source": [
    "twitter_data_book_df.dtypes"
   ]
  },
  {
   "cell_type": "code",
   "execution_count": null,
   "metadata": {},
   "outputs": [],
   "source": [
    "twitter_data_book_df.isnull()"
   ]
  },
  {
   "cell_type": "code",
   "execution_count": null,
   "metadata": {},
   "outputs": [],
   "source": [
    "twitter_data_book_df.info()"
   ]
  },
  {
   "cell_type": "markdown",
   "metadata": {
    "lang": "en"
   },
   "source": [
    "En kolumn är speciellt intressant för vår **textanalys**, extrahera den från den dataframe vi lagrat all data i och skapa en variabel där du placerar denna data, döp variablen till `tweets_corpus`."
   ]
  },
  {
   "cell_type": "code",
   "execution_count": null,
   "metadata": {},
   "outputs": [],
   "source": [
    "tweets_corpus = twitter_data_book_df.text"
   ]
  },
  {
   "cell_type": "code",
   "execution_count": null,
   "metadata": {},
   "outputs": [],
   "source": [
    "tweets_corpus.head()"
   ]
  },
  {
   "cell_type": "markdown",
   "metadata": {
    "lang": "en"
   },
   "source": [
    "### Emojis\n",
    "\n",
    "På Twitter är det väldigt vanligt med emojis 👍 ✨ 🐫 🎉 🚀 🤘.\n",
    "\n",
    "Dessa kan innehålla mycket information som kan vara relevant för vår analys. Dock är det ofta svårt att analysera emojis med hjälp av vanliga verktug för NLP(Natural Language Processig). \n",
    "\n",
    "Vi behöver därför ta bort dessa ur vårt utvalda dataset som skapades i uppgiften ovan.\n"
   ]
  },
  {
   "cell_type": "code",
   "execution_count": null,
   "metadata": {
    "scrolled": true
   },
   "outputs": [],
   "source": [
    "encode2ascii = lambda x: x.encode(\"ascii\", errors=\"ignore\").decode(\"utf-8\")\n",
    "clean_tweets = tweets_corpus.apply(encode2ascii)\n",
    "clean_tweets"
   ]
  },
  {
   "cell_type": "markdown",
   "metadata": {
    "lang": "en"
   },
   "source": [
    "### Ta bort URLs\n",
    "Det är också vanligt att man på Twitter länkar till olika webbplatser med hjälp av URL:er, när man gör textanalys på twitterdata är det vanligt att delar av dessa URL:er dyker upp som \"mest frekventa ord\" vilket påverkar vår analys negativs. Dessa behöver därför också tas bort."
   ]
  },
  {
   "cell_type": "code",
   "execution_count": null,
   "metadata": {},
   "outputs": [],
   "source": [
    "clean_tweets = clean_tweets.str.replace(r\"http\\S+\", \"\")\n",
    "clean_tweets"
   ]
  },
  {
   "cell_type": "markdown",
   "metadata": {
    "lang": "en"
   },
   "source": [
    "### Funktion för att hitta mest frekventa ord \n",
    "\n",
    "Ett sätt att förstå hur olika metoder för pre-processing påverkar ett dataset kan man räkna de mest förekommande orden efter varje operation som utförs. Eftersom vi kommer vilja utföra denna räkning många gånger under arbetet är de lämpligt att skapa en funktion för det som vi kan anropa flera gånger.\n",
    "\n",
    "#### Vad är en Term Document Matrix (TDM)?\n",
    "\n",
    "En TDM är en tabell där antalet unika ord räknas för varje dokument. För att göra detta på vårt Twitterdata är det lämpligt att skapa en TDM där varje tweet är en egen vektor där varje element består av de ord som finns i den tweeten. En tweet med tre unika ord blir alltså en vektor med tre element. \n",
    "\n",
    "Nedanstående kod skapar denna TDM i form av en funktion med namn `create_term_document_matrix()`:"
   ]
  },
  {
   "cell_type": "code",
   "execution_count": null,
   "metadata": {},
   "outputs": [],
   "source": [
    "\"\"\"\n",
    "Skapar en funktion som tar in argumenten corpus och min_df, om inget värde \n",
    "ges till min_df så blir det 1\n",
    "\"\"\"\n",
    "\n",
    "\n",
    "def create_term_document_matrix(corpus, min_df=1):\n",
    "    cvec = CountVectorizer(min_df=min_df, stop_words=tm.stopwords)\n",
    "    \"\"\"\n",
    "    CountVectorizer skapar en matris med varje unikt ord i en datasamling\n",
    "    och visar hur ofta de förekommer. Argumentet stop_words ger användaren\n",
    "    möjligheten att välja vilka ord som ska vara stopwords. I detta fall\n",
    "    används textminings fördefinierade stop words. min_df definierar den undre\n",
    "    gränsen för hur ofta ett ord behöver förekomma för att vara med i matrisen\n",
    "    \"\"\"\n",
    "\n",
    "    tfmatrix = cvec.fit_transform(corpus)\n",
    "    # Transformerar en datasamling tll valfri struktur genom sitt agrument\n",
    "    return pd.DataFrame(data=tfmatrix.toarray(), columns=cvec.get_feature_names())\n",
    "    \"\"\"\n",
    "    Funktionen returnerar en dataframe där datamängden kommer från tfmatrix och \n",
    "    kolumn namnen från cvec. I det här fallet är kolumnnamnen de unika orden. \n",
    "    Funktionen är alltså en implementation av bag-of-words, där varje förekomst av varje unikt ord (undantaget stopwords) räknas.\n",
    "    \"\"\""
   ]
  },
  {
   "cell_type": "markdown",
   "metadata": {},
   "source": [
    "Testa vår nya funktion genom att skapa en TDM endast för de tre första raderna i `clean_tweets` som kan sorteras ut med `.head(3)` funktionen. "
   ]
  },
  {
   "cell_type": "code",
   "execution_count": null,
   "metadata": {},
   "outputs": [],
   "source": [
    "create_term_document_matrix(clean_tweets.head(3))"
   ]
  },
  {
   "cell_type": "markdown",
   "metadata": {},
   "source": [
    "**F11.** Hur många kolumner skapades i TDM:n?"
   ]
  },
  {
   "cell_type": "markdown",
   "metadata": {},
   "source": [
    "Svaret beror lite på vilka parametrar man lägger in i funktionen ovan, men man bör kunna plocka fram antalet med exempelvis shape och också förhoppningsvis förstå att antalet kolumner representerar antalet unika ord vars förekomst räknas. "
   ]
  },
  {
   "cell_type": "markdown",
   "metadata": {},
   "source": [
    "För att hitta de mest frekvent förekommander orden i vår TDM behöver vi räkna ord. Det är också lämpligt med en visualisering över dessa vanligast förekommande ord. Även detta kommer vi behöva göra flera gånger och därför är det återigen lämpligt att definiera en funktion `plot_top_words()` som både räknar och plottar orden i ett stapeldiagram. \n"
   ]
  },
  {
   "cell_type": "code",
   "execution_count": null,
   "metadata": {},
   "outputs": [],
   "source": [
    "\"\"\"\n",
    "En funktion som tar in en datasamling, antalet ord\n",
    "som ska finnas i den lista över top words som returnerar samt antalet ord som ska visas i stapeldiagramet. \n",
    "Från början ska listan innehålla 50 ord och diagrammet 30. Det finns dock de som ändrat detta när de svarar. \n",
    "\"\"\"\n",
    "\n",
    "\n",
    "def plot_top_words(tweets, num_word_instances, top_words):\n",
    "    tdm_df = create_term_document_matrix(tweets, min_df=2)\n",
    "    # Använder den tidigare sakpta funktionen för att ta fram en matris med ord\n",
    "    # som förekommer minst 2 ggr\n",
    "    word_frequencies = tdm_df[[x for x in tdm_df.columns if len(x) > 1]].sum()\n",
    "    # Använder en loop för att se om ordet i kolumnen innehåller fler än en\n",
    "    # bokstav och sumerar sedan kolumnen\n",
    "    sorted_words = word_frequencies.sort_values(ascending=False)\n",
    "    # Vi sorterar sedan orden i fallande ordning d.v.s.\n",
    "    # den mest förekommande först\n",
    "    top_sorted_words = sorted_words[:num_word_instances]\n",
    "    # top_sorted_words är sedan de num_word_instances mest förekommande\n",
    "    # orden från sorted_words\n",
    "    top_sorted_words[:top_words].plot.bar()\n",
    "    # Sedan förkortas listan ytterligare med top_words\n",
    "    # som därefter ritas upp i ett stapeldiagram\n",
    "    return top_sorted_words\n",
    "    # top_sorted_words med num_word_instances antalet ord returneras som en lista"
   ]
  },
  {
   "cell_type": "markdown",
   "metadata": {},
   "source": [
    "Nu kan vi använda `plot_top_words()` funktionen för att räkna ut de mest förekommande orden i hela vårt corpus, viktigt att ha tålamod dock för det kan ta ett tag. Nedanstående kod utför beräkningen."
   ]
  },
  {
   "cell_type": "code",
   "execution_count": null,
   "metadata": {},
   "outputs": [],
   "source": [
    "top_words = plot_top_words(clean_tweets, 50, 30)\n",
    "top_words"
   ]
  },
  {
   "cell_type": "markdown",
   "metadata": {
    "lang": "en"
   },
   "source": [
    "### Små bokstäver\n",
    "\n",
    "Nästa steg i pre-processingen av vårt dataset (vårt corpus) är att göra om alla bokstäver till små. \n"
   ]
  },
  {
   "cell_type": "code",
   "execution_count": 1,
   "metadata": {},
   "outputs": [
    {
     "ename": "NameError",
     "evalue": "name 'clean_tweets' is not defined",
     "output_type": "error",
     "traceback": [
      "\u001b[0;31m---------------------------------------------------------------------------\u001b[0m",
      "\u001b[0;31mNameError\u001b[0m                                 Traceback (most recent call last)",
      "Input \u001b[0;32mIn [1]\u001b[0m, in \u001b[0;36m<cell line: 1>\u001b[0;34m()\u001b[0m\n\u001b[0;32m----> 1\u001b[0m tweets_lowered \u001b[38;5;241m=\u001b[39m \u001b[43mclean_tweets\u001b[49m\u001b[38;5;241m.\u001b[39mstr\u001b[38;5;241m.\u001b[39mlower()\n",
      "\u001b[0;31mNameError\u001b[0m: name 'clean_tweets' is not defined"
     ]
    }
   ],
   "source": [
    "tweets_lowered = clean_tweets.str.lower()"
   ]
  },
  {
   "cell_type": "code",
   "execution_count": null,
   "metadata": {},
   "outputs": [],
   "source": [
    "\n",
    "top_words_lowered = plot_top_words(tweets_lowered, 50, 30)\n",
    "top_words_lowered"
   ]
  },
  {
   "cell_type": "markdown",
   "metadata": {
    "lang": "en"
   },
   "source": [
    "För att underlätta att jämföra vad våra ansträngningar får för resultat kan det vara bra att enkelt kunna jämföra olika listor med top_words.\n",
    "\n",
    "Skapa en ny dataframe som har två kolumner, en med de 20 mest frekventa orden från`top_words` och en med de 20 mest frekventa orden från `top_word_lowered`. Döp kolumnerna till `Top tweeted clean`och  `Top tweeted lowered`. "
   ]
  },
  {
   "cell_type": "code",
   "execution_count": null,
   "metadata": {},
   "outputs": [],
   "source": [
    "pd.DataFrame(\n",
    "    {\n",
    "        \"Top tweeted clean\": top_words[0:20].index,\n",
    "        \"Top tweeted lowered\": top_words_lowered[0:20].index,\n",
    "    }\n",
    ")"
   ]
  },
  {
   "cell_type": "code",
   "execution_count": null,
   "metadata": {},
   "outputs": [],
   "source": [
    "set(top_words[0:20].index) - set(top_words_lowered[0:20].index)"
   ]
  },
  {
   "cell_type": "markdown",
   "metadata": {},
   "source": [
    "### Korta ord\n",
    "\n",
    "Korta ord har ofta inte någon egentlig betydelse, alltså behöver vi inte dessa ord. Typiska sådana ord kan vara ja, jo eller nej. Vi bestämmer oss för att alla ord som är kortare än 3 bokstäver inte innehar någon betydelse i vår analys och tar därmed bort dem. \n"
   ]
  },
  {
   "cell_type": "code",
   "execution_count": null,
   "metadata": {},
   "outputs": [],
   "source": [
    "tweets_lowered"
   ]
  },
  {
   "cell_type": "code",
   "execution_count": null,
   "metadata": {},
   "outputs": [],
   "source": [
    "tweets_low_no_small = tweets_lowered.str.replace(r\"\\b\\w{1,2}\\b\", \"\")#Jag brukar ge godkänt om man fyllt i 2 eller 3 här, kommer inte riktigt ihåg vilket som är rätt.\n",
    "tweets_low_no_small"
   ]
  },
  {
   "cell_type": "code",
   "execution_count": null,
   "metadata": {},
   "outputs": [],
   "source": [
    "# Skapar ny topplista utan korta ord\n",
    "top_words_low_no_small = plot_top_words(tweets_low_no_small, 50, 30)\n",
    "top_words_low_no_small"
   ]
  },
  {
   "cell_type": "markdown",
   "metadata": {},
   "source": [
    "**F21.** Efter att korta ord tagits bort, hur många gånger måste ett ord förekomma i vårt corpus för att hamna i den nya listan enligt ovan? "
   ]
  },
  {
   "cell_type": "markdown",
   "metadata": {
    "lang": "en"
   },
   "source": [
    "### Betydelselösa ord\n",
    "\n",
    "Stop words är andra ord som inte är korta men som ändå inte har betydelse, dessa kan vara lite besvärligare att identifiera och ta bort. En möjlighet är att helt enkelt skapa en lista med sådana ord och sedan använda den listan för att filtrera ut orden ur ett corpus. Vi har ju redan tagit bort alla ord med färre bokstäver än 3, så sådana behöver vi inte lägga in i listan. \n",
    "\n",
    "Nedan är ett exempel på en lista med stoppord som är betydelselösa. \n"
   ]
  },
  {
   "cell_type": "code",
   "execution_count": null,
   "metadata": {},
   "outputs": [],
   "source": [
    "my_stop_words = [\n",
    "    \"och\",\n",
    "    \"det\",\n",
    "    \"att\",\n",
    "    \"i\",\n",
    "    \"en\",\n",
    "    \"jag\",\n",
    "    \"hon\",\n",
    "    \"som\",\n",
    "    \"han\",\n",
    "    \"paa\",\n",
    "    \"den\",\n",
    "    \"med\",\n",
    "    \"var\",\n",
    "    \"sig\",\n",
    "    \"foer\",\n",
    "    \"saa\",\n",
    "    \"till\",\n",
    "    \"aer\",\n",
    "    \"men\",\n",
    "    \"ett\",\n",
    "    \"om\",\n",
    "    \"hade\",\n",
    "    \"de\",\n",
    "    \"av\",\n",
    "    \"icke\",\n",
    "    \"mig\",\n",
    "    \"du\",\n",
    "    \"henne\",\n",
    "    \"daa\",\n",
    "    \"sin\",\n",
    "    \"nu\",\n",
    "    \"har\",\n",
    "    \"inte\",\n",
    "    \"hans\",\n",
    "    \"honom\",\n",
    "    \"skulle\",\n",
    "    \"hennes\",\n",
    "    \"daer\",\n",
    "    \"min\",\n",
    "    \"man\",\n",
    "    \"ej\",\n",
    "    \"vid\",\n",
    "    \"kunde\",\n",
    "    \"naagot\",\n",
    "    \"fraan\",\n",
    "    \"ut\",\n",
    "    \"naer\",\n",
    "    \"efter\",\n",
    "    \"upp\",\n",
    "    \"vi\",\n",
    "    \"dem\",\n",
    "    \"vara\",\n",
    "    \"vad\",\n",
    "    \"oever\",\n",
    "    \"aen\",\n",
    "    \"dig\",\n",
    "    \"kan\",\n",
    "    \"sina\",\n",
    "    \"haer\",\n",
    "    \"ha\",\n",
    "    \"mot\",\n",
    "    \"alla\",\n",
    "    \"under\",\n",
    "    \"naagon\",\n",
    "    \"eller\",\n",
    "    \"allt\",\n",
    "    \"mycket\",\n",
    "    \"sedan\",\n",
    "    \"ju\",\n",
    "    \"denna\",\n",
    "    \"sjaelv\",\n",
    "    \"detta\",\n",
    "    \"aat\",\n",
    "    \"utan\",\n",
    "    \"varit\",\n",
    "    \"hur\",\n",
    "    \"ingen\",\n",
    "    \"mitt\",\n",
    "    \"ni\",\n",
    "    \"bli\",\n",
    "    \"blev\",\n",
    "    \"oss\",\n",
    "    \"din\",\n",
    "    \"dessa\",\n",
    "    \"naagra\",\n",
    "    \"deras\",\n",
    "    \"blir\",\n",
    "    \"mina\",\n",
    "    \"samma\",\n",
    "    \"vilken\",\n",
    "    \"er\",\n",
    "    \"saadan\",\n",
    "    \"vaar\",\n",
    "    \"blivit\",\n",
    "    \"dess\",\n",
    "    \"inom\",\n",
    "    \"mellan\",\n",
    "    \"saadant\",\n",
    "    \"varfoer\",\n",
    "    \"varje\",\n",
    "    \"vilka\",\n",
    "    \"ditt\",\n",
    "    \"vem\",\n",
    "    \"vilket\",\n",
    "    \"sitta\",\n",
    "    \"saadana\",\n",
    "    \"vart\",\n",
    "    \"dina\",\n",
    "    \"vars\",\n",
    "    \"vaart\",\n",
    "    \"vaara\",\n",
    "    \"ert\",\n",
    "    \"era\",\n",
    "    \"vilka\",\n",
    "]"
   ]
  },
  {
   "cell_type": "markdown",
   "metadata": {
    "lang": "en"
   },
   "source": [
    "När vi skapat vår lista är det dags att skapa en funktion som tar bort dessa från ett dokument. Denna funktion är kodad i cellen nedan. (Igen strunta i lambda för tillfället.)"
   ]
  },
  {
   "cell_type": "code",
   "execution_count": null,
   "metadata": {},
   "outputs": [],
   "source": [
    "remove_stopwords = lambda x: \" \".join(y for y in x.split() if y not in my_stop_words)"
   ]
  },
  {
   "cell_type": "markdown",
   "metadata": {},
   "source": [
    "Funktionen ovan tar alltså bort stoppord från ett dokument (alltså en tweet), för att ta bort stoppord från hela vårt corpus kan funktionen `.apply()`användas. \n"
   ]
  },
  {
   "cell_type": "code",
   "execution_count": null,
   "metadata": {},
   "outputs": [],
   "source": [
    "tweets_low_no_small_stopwords = tweets_low_no_small.apply(remove_stopwords)"
   ]
  },
  {
   "cell_type": "code",
   "execution_count": null,
   "metadata": {},
   "outputs": [],
   "source": [
    "top_words_low_no_small_stopwords = plot_top_words(tweets_low_no_small_stopwords, 50, 30)\n",
    "top_words_low_no_small_stopwords"
   ]
  },
  {
   "cell_type": "markdown",
   "metadata": {
    "lang": "en"
   },
   "source": [
    "Vad är skillnaderna mellan de frekvent förekommande orden i jämförelse med våra tidigare listor? Skriv den kod som jämför dessa tre listor `top_words_lowered`, `top_words_low_no_small` and `top_words_low_no_small_stopwords`, titta på de första 20 orden i listorna.\n",
    "\n",
    "En variant är att använda koden nedan som jämför listorna och returnerar skillanderna. En annan är att återanvända koden som skapar en dataframe med de tre listorna. Båda varianterna finns med nedan. Man kan säkert göra på andra sätt också. \n"
   ]
  },
  {
   "cell_type": "code",
   "execution_count": null,
   "metadata": {},
   "outputs": [],
   "source": [
    "set(top_words_lowered[0:20].index) - set(top_words_low_no_small_stopwords[0:20].index) - set(top_words_low_no_small[0:20].index)"
   ]
  },
  {
   "cell_type": "code",
   "execution_count": null,
   "metadata": {},
   "outputs": [],
   "source": [
    "pd.DataFrame(\n",
    "    {\n",
    "        \"Top tweeted clean\": top_words[0:20].index,\n",
    "        \"Top tweeted lowered\": top_words_lowered[0:20].index,\n",
    "        \"Top tweeted no small\": top_words_low_no_small[0:20].index,\n",
    "    }\n",
    ")"
   ]
  },
  {
   "cell_type": "markdown",
   "metadata": {
    "lang": "en"
   },
   "source": [
    "### Visualisering och rekommendation\n",
    "\n",
    "Dags att visualisera vårt resultat och övertyga vår klient om att vi hittat de bästa debattämnena för dem! Här gör vi det genom att skapa ett word cloud där de mest frekventa orden syns bäst. \n",
    "\n",
    "Nedanstående kod skapar ett ordmoln för `top_words_low_no_small_stopwords`"
   ]
  },
  {
   "cell_type": "code",
   "execution_count": null,
   "metadata": {},
   "outputs": [],
   "source": [
    "import matplotlib.pyplot as plt\n",
    "from wordcloud import WordCloud\n",
    "\n",
    "wordcloud = WordCloud(max_font_size=40)\n",
    "wordcloud.fit_words(top_words_low_no_small_stopwords.to_dict())\n",
    "plt.figure()\n",
    "plt.imshow(wordcloud, interpolation=\"bilinear\")\n",
    "plt.axis(\"off\")\n",
    "plt.show()"
   ]
  },
  {
   "cell_type": "markdown",
   "metadata": {
    "lang": "en"
   },
   "source": [
    "När du tittar på ordmolnet, är det fler ord som borde vara stoppord? Ange några stycken och förklara varför de bör tas bort."
   ]
  },
  {
   "cell_type": "markdown",
   "metadata": {
    "lang": "en"
   },
   "source": [
    "Vilket tema rekommenderar ni att publicisten ska ha som debattämne? "
   ]
  }
 ],
 "metadata": {
  "kernelspec": {
   "display_name": "Python 3 (ipykernel)",
   "language": "python",
   "name": "python3"
  },
  "language_info": {
   "codemirror_mode": {
    "name": "ipython",
    "version": 3
   },
   "file_extension": ".py",
   "mimetype": "text/x-python",
   "name": "python",
   "nbconvert_exporter": "python",
   "pygments_lexer": "ipython3",
   "version": "3.9.12"
  },
  "latex_envs": {
   "LaTeX_envs_menu_present": true,
   "autoclose": false,
   "autocomplete": true,
   "bibliofile": "biblio.bib",
   "cite_by": "apalike",
   "current_citInitial": 1,
   "eqLabelWithNumbers": true,
   "eqNumInitial": 1,
   "hotkeys": {
    "equation": "Ctrl-E",
    "itemize": "Ctrl-I"
   },
   "labels_anchors": false,
   "latex_user_defs": false,
   "report_style_numbering": false,
   "user_envs_cfg": false
  },
  "nbTranslate": {
   "displayLangs": [],
   "hotkey": "alt-t",
   "langInMainMenu": true,
   "sourceLang": "sv",
   "targetLang": "en",
   "useGoogleTranslate": true
  }
 },
 "nbformat": 4,
 "nbformat_minor": 4
}
