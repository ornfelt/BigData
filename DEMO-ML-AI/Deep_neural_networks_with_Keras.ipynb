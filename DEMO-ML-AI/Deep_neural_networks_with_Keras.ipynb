{
  "cells": [
    {
      "cell_type": "markdown",
      "metadata": {
        "id": "view-in-github",
        "colab_type": "text"
      },
      "source": [
        "<a href=\"https://colab.research.google.com/github/UU-IM-EU/DEMO-ML-AI/blob/main/Deep_neural_networks_with_Keras.ipynb\" target=\"_parent\"><img src=\"https://colab.research.google.com/assets/colab-badge.svg\" alt=\"Open In Colab\"/></a>"
      ]
    },
    {
      "cell_type": "code",
      "execution_count": null,
      "metadata": {
        "id": "iXUo7lDfXEZ4"
      },
      "outputs": [],
      "source": [
        "pip install tensorflow"
      ]
    },
    {
      "cell_type": "code",
      "execution_count": null,
      "metadata": {
        "id": "Zl8qQKFAXEZ5"
      },
      "outputs": [],
      "source": [
        "import keras\n",
        "from keras.models import Sequential\n",
        "from keras.layers import Dense, Dropout\n",
        "from keras.optimizers import RMSprop\n",
        "import matplotlib.pyplot as plt\n",
        "import numpy as np"
      ]
    },
    {
      "cell_type": "code",
      "execution_count": null,
      "metadata": {
        "id": "9Qrs-OVTXEZ6"
      },
      "outputs": [],
      "source": [
        "#Funktion för att visualisera bild och korrekt siffra\n",
        "def plot_images(images, cls_true, cls_pred=None):\n",
        "    assert len(images) == len(cls_true) == 9\n",
        "    fig, axes = plt.subplots(3, 3)\n",
        "    fig.subplots_adjust(hspace=0.3, wspace=0.3)\n",
        "    for i, ax in enumerate(axes.flat):\n",
        "        ax.imshow(images[i].reshape(img_shape), cmap='binary')\n",
        "        if cls_pred is None:\n",
        "            xlabel = \"True: {0}\".format(cls_true[i])\n",
        "        else:\n",
        "            xlabel = \"True: {0}, Pred: {1}\".format(cls_true[i], cls_pred[i])\n",
        "        ax.set_xlabel(xlabel)\n",
        "        ax.set_xticks([])\n",
        "        ax.set_yticks([])\n",
        "    plt.show()"
      ]
    },
    {
      "cell_type": "code",
      "execution_count": null,
      "metadata": {
        "id": "LzZTcropXEZ6"
      },
      "outputs": [],
      "source": [
        "#Funktion för att visa felen\n",
        "def plot_example_errors(cls_pred):\n",
        "    incorrect = (cls_pred != y_test)\n",
        "    ims = x_test_flat[incorrect]\n",
        "    cls_pred = cls_pred[incorrect]\n",
        "    cls_true = y_test[incorrect]\n",
        "    plot_images(images=ims[0:9],\n",
        "                cls_true=cls_true[0:9],\n",
        "                cls_pred=cls_pred[0:9])"
      ]
    },
    {
      "cell_type": "markdown",
      "metadata": {
        "id": "htytGECVXEZ7"
      },
      "source": [
        "Ladda data. Datamängden MNIST dataset innehåller 70000 handskrivna siffror med facit."
      ]
    },
    {
      "cell_type": "code",
      "execution_count": null,
      "metadata": {
        "id": "UrwrBCG4XEZ8"
      },
      "outputs": [],
      "source": [
        "from keras.datasets import mnist\n",
        "(x_train, y_train), (x_test, y_test) = mnist.load_data()\n",
        "# Formatera data för att passa classificeraren \n",
        "img_shape = [x_train.shape[1],x_train.shape[2]]\n",
        "img_shape"
      ]
    },
    {
      "cell_type": "code",
      "execution_count": null,
      "metadata": {
        "id": "xY3ZS0mFXEZ8"
      },
      "outputs": [],
      "source": [
        "test_images = x_train[0:9]\n",
        "classes_true = y_train[0:9]\n",
        "plot_images(test_images, classes_true)"
      ]
    },
    {
      "cell_type": "code",
      "execution_count": null,
      "metadata": {
        "id": "mtpMGkX8XEZ8"
      },
      "outputs": [],
      "source": [
        "#För att effektivisera minneshanteringen\n",
        "batch_size = 128\n",
        "#Antalet klasser som kan klassificeras\n",
        "num_classes = 10\n",
        "#Antal träningssessioner\n",
        "epochs = 20\n",
        "\n",
        "\n"
      ]
    },
    {
      "cell_type": "markdown",
      "metadata": {
        "id": "k4NbqUZ8XEZ9"
      },
      "source": [
        "## Förprocessering"
      ]
    },
    {
      "cell_type": "code",
      "execution_count": null,
      "metadata": {
        "id": "xsum-PlHXEZ9"
      },
      "outputs": [],
      "source": [
        "# Skala om test och träningsdata för att passa algoritmen\n",
        "x_train_flat = x_train.reshape(60000, 784)\n",
        "x_test_flat = x_test.reshape(10000, 784)\n",
        "\n",
        "# Ändra typ till float \n",
        "x_train_flat = x_train_flat.astype('float32')\n",
        "x_test_flat = x_test_flat.astype('float32')\n",
        "\n",
        "# Normalisera data \n",
        "x_train_flat /= 255\n",
        "x_test_flat /= 255\n",
        "\n",
        "# Dela upp data i 6000 för träning och 1000 för test. Konvertera till binära matriser \n",
        "y_train_cat = keras.utils.to_categorical(y_train, num_classes)\n",
        "y_test_cat = keras.utils.to_categorical(y_test, num_classes)\n",
        "\n",
        "print(x_train_flat.shape[0], 'training samples')\n",
        "print(x_test_flat.shape[0], 'test samples')"
      ]
    },
    {
      "cell_type": "markdown",
      "metadata": {
        "id": "Y8lAq8PhXEZ9"
      },
      "source": [
        "## Definiera ett neuralt nätverk med 3 lager, 512 neuroner i de två första lagren och 10 (motsvarande de 10 möjliga siffror som kan vara output) i det tredje och sista lagret"
      ]
    },
    {
      "cell_type": "code",
      "execution_count": null,
      "metadata": {
        "id": "qE2_gB2wXEZ-"
      },
      "outputs": [],
      "source": [
        "#Instansiera ett neuralt nätverk\n",
        "model = Sequential()\n",
        "model.add(Dense(512, activation='relu', input_shape=(784,)))\n",
        "model.add(Dense(512, activation='relu'))\n",
        "model.add(Dense(num_classes, activation='softmax'))\n",
        "\n",
        "# Spriv ut en summering av vårt neurala nätverk.\n",
        "model.summary()"
      ]
    },
    {
      "cell_type": "markdown",
      "metadata": {
        "id": "-XFt6BEuXEZ-"
      },
      "source": [
        "Ok, då tränar vi vårt nätverk:"
      ]
    },
    {
      "cell_type": "code",
      "execution_count": null,
      "metadata": {
        "id": "W1sWCZhnXEZ-"
      },
      "outputs": [],
      "source": [
        "# Epochs är alltså antalet gånger vi låter nätverket träna på vårt träningsdata. \n",
        "epochs = 1\n",
        "\n",
        "model.compile(loss='categorical_crossentropy',\n",
        "              optimizer=RMSprop(),\n",
        "              metrics=['accuracy'])\n",
        "\n",
        "history = model.fit(x_train_flat, y_train_cat,\n",
        "                    batch_size=batch_size,\n",
        "                    epochs=epochs,\n",
        "                    verbose=1,\n",
        "                    validation_data=(x_test_flat, y_test_cat))\n",
        "score = model.evaluate(x_test_flat, y_test_cat, verbose=0)\n",
        "print('Test loss:', score[0])\n",
        "print('Test accuracy, the percentage of digits we predict accurately is :', 100*score[1], '%')"
      ]
    },
    {
      "cell_type": "code",
      "execution_count": null,
      "metadata": {
        "id": "DVnpZ8slXEZ-"
      },
      "outputs": [],
      "source": [
        "predictions = model.predict(x_test_flat)\n",
        "class_pred = np.argmax(predictions, axis=1)"
      ]
    },
    {
      "cell_type": "markdown",
      "metadata": {
        "id": "8XqpvoYtXEZ_"
      },
      "source": [
        "Bra prediktioner:"
      ]
    },
    {
      "cell_type": "code",
      "execution_count": null,
      "metadata": {
        "id": "tm7EvVfxXEZ_"
      },
      "outputs": [],
      "source": [
        "plot_images(x_test_flat[0:9], y_test[0:9], class_pred[0:9])"
      ]
    },
    {
      "cell_type": "markdown",
      "metadata": {
        "id": "jPrz9ahSXEZ_"
      },
      "source": [
        "Felaktiga prediktioner:"
      ]
    },
    {
      "cell_type": "code",
      "execution_count": null,
      "metadata": {
        "id": "WnDHuaq9XEZ_"
      },
      "outputs": [],
      "source": [
        "plot_example_errors(class_pred)"
      ]
    },
    {
      "cell_type": "code",
      "execution_count": null,
      "metadata": {
        "id": "qnZP0E2-XEaA"
      },
      "outputs": [],
      "source": [
        "# Confusion matrix. Kod direkt från SKLEARN \n",
        "def plot_confusion_matrix(cm, classes,\n",
        "                          normalize=False,\n",
        "                          title='Confusion matrix',\n",
        "                          cmap=plt.cm.Blues):\n",
        "    \"\"\"\n",
        "    This function prints and plots the confusion matrix.\n",
        "    Normalization can be applied by setting `normalize=True`.\n",
        "    \"\"\"\n",
        "    plt.imshow(cm, interpolation='nearest', cmap=cmap)\n",
        "    plt.title(title)\n",
        "    plt.colorbar()\n",
        "    tick_marks = np.arange(len(classes))\n",
        "    plt.xticks(tick_marks, classes, rotation=45)\n",
        "    plt.yticks(tick_marks, classes)\n",
        "\n",
        "    if normalize:\n",
        "        cm = cm.astype('float') / cm.sum(axis=1)[:, np.newaxis]\n",
        "\n",
        "    thresh = cm.max() / 2.\n",
        "    for i, j in itertools.product(range(cm.shape[0]), range(cm.shape[1])):\n",
        "        plt.text(j, i, cm[i, j],\n",
        "                 horizontalalignment=\"center\",\n",
        "                 color=\"white\" if cm[i, j] > thresh else \"black\")\n",
        "\n",
        "    plt.tight_layout()\n",
        "    plt.ylabel('Actual class')\n",
        "    plt.xlabel('Predicted class')\n"
      ]
    },
    {
      "cell_type": "code",
      "execution_count": null,
      "metadata": {
        "id": "n6GVrItWXEaA"
      },
      "outputs": [],
      "source": [
        "from collections import Counter\n",
        "from sklearn.metrics import confusion_matrix\n",
        "import itertools\n",
        "\n",
        "# Predict the values from the validation dataset\n",
        "Y_pred = model.predict(x_test_flat)\n",
        "# Convert predictions classes to one hot vectors \n",
        "Y_pred_classes = np.argmax(Y_pred, axis = 1) \n",
        "# Convert validation observations to one hot vectors\n",
        "Y_true = np.argmax(y_test_cat, axis = 1) \n",
        "# compute the confusion matrix\n",
        "confusion_mtx = confusion_matrix(Y_true, Y_pred_classes) \n",
        "# plot the confusion matrix\n",
        "plot_confusion_matrix(confusion_mtx, classes = range(10))"
      ]
    },
    {
      "cell_type": "code",
      "execution_count": null,
      "metadata": {
        "id": "24UCy_z2XEaA"
      },
      "outputs": [],
      "source": []
    }
  ],
  "metadata": {
    "kernelspec": {
      "display_name": "Python 3 (ipykernel)",
      "language": "python",
      "name": "python3"
    },
    "language_info": {
      "codemirror_mode": {
        "name": "ipython",
        "version": 3
      },
      "file_extension": ".py",
      "mimetype": "text/x-python",
      "name": "python",
      "nbconvert_exporter": "python",
      "pygments_lexer": "ipython3",
      "version": "3.9.12"
    },
    "colab": {
      "provenance": [],
      "include_colab_link": true
    }
  },
  "nbformat": 4,
  "nbformat_minor": 0
}