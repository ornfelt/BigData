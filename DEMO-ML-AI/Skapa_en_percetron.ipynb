{
 "cells": [
  {
   "cell_type": "markdown",
   "metadata": {},
   "source": [
    "# 1 - Implementera en perceptron\n",
    "\n",
    "Den här notebooken går kort igenom hur man kan implementera en enkel perceptron. Vi skapar två olika perceptroner, en som tar ett input och en som tar två. Dessa perceptroner kan ingenting och kan egentligen inte användas till något alls. De är alltså långt ifrån AI. Dock består även djupa neurala nätverk av dessa enkla delar. "
   ]
  },
  {
   "cell_type": "code",
   "execution_count": 1,
   "metadata": {},
   "outputs": [],
   "source": [
    "# Definerar den aktiveringsfunktion som används i en perceptron.\n",
    "#Funktionen kallas för Heaviside step function (enstegsfunktionen). Den ger två olika putput 1 eller 0. \n",
    "def step_function(x, threshold):\n",
    "    if x < threshold:\n",
    "        return 0\n",
    "    elif x >= threshold:\n",
    "        return 1"
   ]
  },
  {
   "cell_type": "code",
   "execution_count": 2,
   "metadata": {},
   "outputs": [],
   "source": [
    "class Perceptron1():\n",
    "    \"\"\"Denna klass implementerar en perceptron som tar 1 input.\"\"\"\n",
    "    \n",
    "    def __init__(self, w1, threshold, activation_function):\n",
    "        self.w1 = w1\n",
    "        self.threshold = threshold\n",
    "        self.activation_function = activation_function\n",
    "    \n",
    "    def activate(self, x1):\n",
    "        output = self.activation_function(x1 * self.w1, self.threshold)\n",
    "        return output"
   ]
  },
  {
   "cell_type": "code",
   "execution_count": 4,
   "metadata": {},
   "outputs": [
    {
     "data": {
      "text/plain": [
       "0"
      ]
     },
     "execution_count": 4,
     "metadata": {},
     "output_type": "execute_result"
    }
   ],
   "source": [
    "#Sätt vikt och tröskelvärde\n",
    "w1 = 0.5\n",
    "threshold = 1\n",
    "\n",
    "#Skapa en perceptron genom att anropa dess konstruktor\n",
    "p1 = Perceptron1(w1, threshold, step_function)\n",
    "\n",
    "#Ge ett input och aktivera perceptronen\n",
    "input1 = 0.5\n",
    "p1.activate(input1)"
   ]
  },
  {
   "cell_type": "code",
   "execution_count": 5,
   "metadata": {},
   "outputs": [],
   "source": [
    "#Importera nödvändiga bibliotek\n",
    "import matplotlib.pyplot as plt\n",
    "import numpy as np\n",
    "import pandas as pd\n",
    "from ipywidgets import interact\n",
    "import ipywidgets as widgets"
   ]
  },
  {
   "cell_type": "code",
   "execution_count": 6,
   "metadata": {},
   "outputs": [
    {
     "data": {
      "application/vnd.jupyter.widget-view+json": {
       "model_id": "ef758640390d4d6a9b1fa9bd55126094",
       "version_major": 2,
       "version_minor": 0
      },
      "text/plain": [
       "interactive(children=(FloatSlider(value=1.0, description='input1', max=4.0), FloatSlider(value=0.5, descriptio…"
      ]
     },
     "metadata": {},
     "output_type": "display_data"
    },
    {
     "data": {
      "text/plain": [
       "<function __main__.plot_perceptron1(input1, w1)>"
      ]
     },
     "execution_count": 6,
     "metadata": {},
     "output_type": "execute_result"
    }
   ],
   "source": [
    "#En funktion som ritar perceptronen med dess aktiveringsfunktion och gör det möjligt att interagera med den genom att ändra input och vikt\n",
    "def plot_perceptron1(input1, w1):\n",
    "    p1 = Perceptron1(w1, 1, step_function)\n",
    "    plt.step(np.array([0, threshold, 2]), np.array([0, 0, 1]))\n",
    "    prediction = p1.activate(input1)\n",
    "    plt.scatter(x=[input1 * w1], y=[prediction])\n",
    "    plt.show()\n",
    "    return pd.DataFrame({\n",
    "        \"Input\": [input1],\n",
    "        \"Weight\": [w1],\n",
    "        \"Sum weight\": [w1],\n",
    "        \"Weighted input\": [input1 * w1],\n",
    "        \"Predicted value\": [prediction]\n",
    "    })\n",
    "interact(plot_perceptron1, input1=widgets.FloatSlider(1., min=0., max=4), w1=0.5)"
   ]
  },
  {
   "cell_type": "code",
   "execution_count": 7,
   "metadata": {},
   "outputs": [],
   "source": [
    "class Perceptron2():\n",
    "    \"\"\"Klass som implementerar en 2-input perceptron.\"\"\"\n",
    "    \n",
    "    def __init__(self, w1, w2, threshold, activation_function):\n",
    "        self.w1 = w1\n",
    "        self.w2 = w2\n",
    "        self.threshold = threshold\n",
    "        self.activation_function = activation_function\n",
    "    \n",
    "    def activate(self, x1, x2):\n",
    "        output = self.activation_function(sum([x1 * self.w1, x2 * self.w2]), self.threshold)\n",
    "        return output"
   ]
  },
  {
   "cell_type": "code",
   "execution_count": 8,
   "metadata": {},
   "outputs": [
    {
     "data": {
      "text/plain": [
       "1"
      ]
     },
     "execution_count": 8,
     "metadata": {},
     "output_type": "execute_result"
    }
   ],
   "source": [
    "#Sätt initiala vikter och tröskelvärden\n",
    "w1 = 0.5\n",
    "w2 = 0.5\n",
    "threshold = 0.5\n",
    "p2 = Perceptron2(w1, w2, threshold, step_function)\n",
    "\n",
    "input1 = 1\n",
    "input2 = 1\n",
    "p2.activate(input1, input2)"
   ]
  },
  {
   "cell_type": "code",
   "execution_count": 9,
   "metadata": {},
   "outputs": [
    {
     "data": {
      "application/vnd.jupyter.widget-view+json": {
       "model_id": "2210c4c12eac434faad5198c598d3a48",
       "version_major": 2,
       "version_minor": 0
      },
      "text/plain": [
       "interactive(children=(FloatSlider(value=1.0, description='input1', max=4.0), FloatSlider(value=1.0, descriptio…"
      ]
     },
     "metadata": {},
     "output_type": "display_data"
    },
    {
     "data": {
      "text/plain": [
       "<function __main__.plot_perceptron2(input1, input2, w1, w2)>"
      ]
     },
     "execution_count": 9,
     "metadata": {},
     "output_type": "execute_result"
    }
   ],
   "source": [
    "#Funktion som ritar perceptronerna och gör det möjligt att interagera med dem \n",
    "def plot_perceptron2(input1, input2, w1, w2):\n",
    "    p2 = Perceptron2(w1, w2, 1, step_function)\n",
    "    #plot\n",
    "    plt.step(np.array([0, threshold, 2]), np.array([0, 0, 1]))\n",
    "    prediction = p2.activate(input1, input2)\n",
    "    plt.scatter(x=sum(np.array([input1, input2]) * np.array([w1, w2])), y=[prediction])\n",
    "    plt.show()\n",
    "    return pd.DataFrame({\n",
    "        \"Inputs\": [input1, input2],\n",
    "        \"Weights\": [w1, w2],\n",
    "        \"Sum inputs\": [np.array([input1, input2]).sum(), np.nan],\n",
    "        \"Sum weighted input\": [sum(np.array([input1, input2]) * np.array([w1, w2])), np.nan],\n",
    "        \"Predicted value\": [prediction, np.nan]\n",
    "    })\n",
    "\n",
    "interact(plot_perceptron2, input1=widgets.FloatSlider(1., min=0., max=4), w1=0.5, input2=widgets.FloatSlider(1., min=0., max=4), w2=0.5)"
   ]
  },
  {
   "cell_type": "code",
   "execution_count": 14,
   "metadata": {},
   "outputs": [
    {
     "data": {
      "text/plain": [
       "1"
      ]
     },
     "execution_count": 14,
     "metadata": {},
     "output_type": "execute_result"
    }
   ],
   "source": [
    "first_p = Perceptron1(0.5, 0.5, step_function)\n",
    "second_p = Perceptron1(0.1, 0.5, step_function)\n",
    "\n",
    "output_neuron1 = first_p.activate(1)\n",
    "output_neuron2 = second_p.activate(0)\n",
    "p2.activate(output_neuron1, output_neuron2)"
   ]
  },
  {
   "cell_type": "code",
   "execution_count": 10,
   "metadata": {},
   "outputs": [
    {
     "data": {
      "application/vnd.jupyter.widget-view+json": {
       "model_id": "9200fdfb4d58484da42bf0fae0e59bde",
       "version_major": 2,
       "version_minor": 0
      },
      "text/plain": [
       "interactive(children=(FloatSlider(value=1.0, description='input1', max=4.0), FloatSlider(value=1.0, descriptio…"
      ]
     },
     "metadata": {},
     "output_type": "display_data"
    },
    {
     "data": {
      "text/plain": [
       "<function __main__.plot_perceptron3(input1, input2, w1, w2, w3, w4)>"
      ]
     },
     "execution_count": 10,
     "metadata": {},
     "output_type": "execute_result"
    }
   ],
   "source": [
    "#Två input-perceptroner, en output, alltså ett enkelt neuralt nätverk \n",
    "def plot_perceptron3(input1, input2, w1, w2, w3, w4):\n",
    "    first_p = Perceptron1(w1, 0.5, step_function)\n",
    "    second_p = Perceptron1(w2, 0.5, step_function)\n",
    "    third_p = Perceptron2(w3, w4, 0.25, step_function)\n",
    "    prediction1 = first_p.activate(input1)\n",
    "    prediction2 = second_p.activate(input2)\n",
    "    prediction3 = third_p.activate(prediction1, prediction2)\n",
    "    # plots\n",
    "    plt.subplot(2, 2, 1)\n",
    "    plt.step(np.array([0, first_p.threshold, 2]), np.array([0, 0, 1]))\n",
    "    plt.scatter(x=[input1 * w1], y=[prediction1])\n",
    "    plt.subplot(2, 2, 3)\n",
    "    plt.step(np.array([0, second_p.threshold, 2]), np.array([0, 0, 1]))\n",
    "    plt.scatter(x=[input2 * w2], y=[prediction2])\n",
    "    plt.subplot(2, 2, 4)\n",
    "    plt.step(np.array([0, third_p.threshold, 2]), np.array([0, 0, 1]))\n",
    "    plt.scatter(x=sum(np.array([prediction1, prediction2]) * np.array([w3, w4])), y=[prediction3])\n",
    "    plt.show()\n",
    "    \n",
    "interact(plot_perceptron3, \n",
    "         input1=widgets.FloatSlider(1., min=0., max=4), w1=0.5, \n",
    "         input2=widgets.FloatSlider(1., min=0., max=4), w2=0.5, \n",
    "         w3=0.5, w4=0.5)"
   ]
  },
  {
   "cell_type": "code",
   "execution_count": null,
   "metadata": {},
   "outputs": [],
   "source": []
  },
  {
   "cell_type": "code",
   "execution_count": null,
   "metadata": {},
   "outputs": [],
   "source": []
  }
 ],
 "metadata": {
  "kernelspec": {
   "display_name": "Python 3 (ipykernel)",
   "language": "python",
   "name": "python3"
  },
  "language_info": {
   "codemirror_mode": {
    "name": "ipython",
    "version": 3
   },
   "file_extension": ".py",
   "mimetype": "text/x-python",
   "name": "python",
   "nbconvert_exporter": "python",
   "pygments_lexer": "ipython3",
   "version": "3.9.12"
  }
 },
 "nbformat": 4,
 "nbformat_minor": 4
}
