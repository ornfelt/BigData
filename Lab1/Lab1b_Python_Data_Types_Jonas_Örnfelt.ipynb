{
  "cells": [
    {
      "cell_type": "markdown",
      "metadata": {
        "id": "ucKwHcVzF5_b"
      },
      "source": [
        "<sup>This notebook is adapted from https://github.com/data-8/data8assets and licensed for reuse under [Creative Commons Attribution-NonCommercial 4.0 International (CC BY-NC 4.0)](http://creativecommons.org/licenses/by-nc/4.0/).</sup>"
      ]
    },
    {
      "cell_type": "markdown",
      "metadata": {
        "id": "WOVxiLL1F5_d"
      },
      "source": [
        "# Lab 1b: Data Types\n",
        "\n",
        "Last time, we had our first look at Python and Jupyter notebooks.  So far, we've only used Python to manipulate numbers.  There's a lot more to life than numbers, so Python lets us represent many other types of data in programs.\n",
        "\n",
        "In this exercise, you'll first see how to represent and manipulate another fundamental type of data: text.  A piece of text is called a *string* in Python.\n",
        "\n",
        "You'll also see how to invoke *methods*.  A method is very similar to a function.  It just looks a little different because it's tied to a particular piece of data (like a piece of text or a number).\n",
        "\n",
        "Last, you'll see how to work with datasets in Python -- *collections* of data, like the numbers 2 through 5 or the words \"welcome\", \"to\", and \"exercise\"."
      ]
    },
    {
      "cell_type": "markdown",
      "metadata": {
        "id": "QSMGXNQVF5_f"
      },
      "source": [
        "# 1. Review: The building blocks of Python code\n",
        "\n",
        "The two building blocks of Python code are *expressions* and *statements*.  An **expression** is a piece of code that\n",
        "\n",
        "* is self-contained, meaning it would make sense to write it on a line by itself, and\n",
        "* usually has a value.\n",
        "\n",
        "\n",
        "Here are two expressions that both evaluate to 3\n",
        "\n",
        "    3\n",
        "    5 - 2\n",
        "    \n",
        "One important form of an expression is the **call expression**, which first names a function and then describes its arguments. The function returns some value, based on its arguments. Some important mathematical functions are\n",
        "\n",
        "| Function | Description                                                   |\n",
        "|----------|---------------------------------------------------------------|\n",
        "| `abs`      | Returns the absolute value of its argument                    |\n",
        "| `max`      | Returns the maximum of all its arguments                      |\n",
        "| `min`      | Returns the minimum of all its arguments                      |\n",
        "| `pow`      | Raises its first argument to the power of its second argument |\n",
        "| `round`    | Round its argument to the nearest integer                     |\n",
        "\n",
        "Here are two call expressions that both evaluate to 3\n",
        "\n",
        "    abs(2 - 5)\n",
        "    max(round(2.8), min(pow(2, 10), -1 * pow(2, 10)))\n",
        "\n",
        "All these expressions but the first are **compound expressions**, meaning that they are actually combinations of several smaller expressions.  `2 + 3` combines the expressions `2` and `3` by addition.  In this case, `2` and `3` are called **subexpressions** because they're expressions that are part of a larger expression.\n",
        "\n",
        "A **statement** is a whole line of code.  Some statements are just expressions.  The expressions listed above are examples.\n",
        "\n",
        "Other statements *make something happen* rather than *having a value*.  After they are run, something in the world has changed.  For example, an **assignment statement** assigns a value to a name. \n",
        "\n",
        "A good way to think about this is that we're **evaluating the right-hand side** of the equals sign and **assigning it to the left-hand side**. Here are some assignment statements:\n",
        "    \n",
        "    height = 1.3\n",
        "    the_number_five = abs(-5)\n",
        "    absolute_height_difference = abs(height - 1.688)\n",
        "\n",
        "A key idea in programming is that large, interesting things can be built by combining many simple, uninteresting things.  The key to understanding a complicated piece of code is breaking it down into its simple components.\n",
        "\n",
        "For example, a lot is going on in the last statement above, but it's really just a combination of a few things.  This picture describes what's going on.\n",
        "\n",
        "<img src=\"images/statement.jpg\">"
      ]
    },
    {
      "cell_type": "markdown",
      "metadata": {
        "id": "sGRd9wCaF5_i"
      },
      "source": [
        "**Question 1.1.** In the next cell, assign the name `new_year` to the larger number among the following two numbers:\n",
        "\n",
        "1. the absolute value of $2^{5}-2^{11}-2^0$, and \n",
        "2. $5 \\times 13 \\times 31$.\n",
        "\n",
        "Try to use just one statement (one line of code)."
      ]
    },
    {
      "cell_type": "code",
      "execution_count": 4,
      "metadata": {
        "colab": {
          "base_uri": "https://localhost:8080/"
        },
        "id": "ndsgevCjF5_k",
        "outputId": "e665bdee-bc15-4ba4-f8ca-d248333ad940"
      },
      "outputs": [
        {
          "output_type": "stream",
          "name": "stdout",
          "text": [
            "2019\n",
            "2015\n"
          ]
        },
        {
          "output_type": "execute_result",
          "data": {
            "text/plain": [
              "2019"
            ]
          },
          "metadata": {},
          "execution_count": 4
        }
      ],
      "source": [
        "print(abs((2**5)-(2**11)-(2**1)-(2**0)))\n",
        "print(abs(5*13*31))\n",
        "\n",
        "new_year = abs((2**5)-(2**11)-(2**1)-(2**0))\n",
        "new_year"
      ]
    },
    {
      "cell_type": "markdown",
      "metadata": {
        "id": "XwmScfgQF5_m"
      },
      "source": [
        "# 2. Text\n",
        "Programming doesn't just concern numbers. Text is one of the most common types of values used in programs. \n",
        "\n",
        "A snippet of text is represented by a **string value** in Python. The word \"*string*\" is a programming term for a sequence of characters. A string might contain a single character, a word, a sentence, or a whole book.\n",
        "\n",
        "To distinguish text data from actual code, we demarcate strings by putting quotation marks around them. Single quotes (`'`) and double quotes (`\"`) are both valid, but the types of opening and closing quotation marks must match. The contents can be any sequence of characters, including numbers and symbols. \n",
        "\n",
        "We've seen strings before in `print` statements.  Below, two different strings are passed as arguments to the `print` function."
      ]
    },
    {
      "cell_type": "code",
      "execution_count": null,
      "metadata": {
        "id": "R4l2EOS0F5_n"
      },
      "outputs": [],
      "source": [
        "print(\"I <3\", 'Data Science')"
      ]
    },
    {
      "cell_type": "markdown",
      "metadata": {
        "id": "Bb0-3oP5F5_p"
      },
      "source": [
        "Just like names can be given to numbers, names can be given to string values.  The names and strings aren't required to be similar in any way. Any name can be assigned to any string."
      ]
    },
    {
      "cell_type": "code",
      "execution_count": 5,
      "metadata": {
        "colab": {
          "base_uri": "https://localhost:8080/"
        },
        "id": "ckHgS0oLF5_q",
        "outputId": "0b3ee0ac-3ad4-435d-ff17-5f5ae5a98158"
      },
      "outputs": [
        {
          "output_type": "stream",
          "name": "stdout",
          "text": [
            "two * two\n"
          ]
        }
      ],
      "source": [
        "one = 'two'\n",
        "plus = '*'\n",
        "print(one, plus, one)"
      ]
    },
    {
      "cell_type": "markdown",
      "metadata": {
        "id": "S2hOmgcSF5_r"
      },
      "source": [
        "**Question 2.1.** Yuri Gagarin was the first person to travel through outer space.  When he emerged from his capsule upon landing on Earth, he [reportedly](https://en.wikiquote.org/wiki/Yuri_Gagarin) had the following conversation with a woman and girl who saw the landing:\n",
        "\n",
        "    The woman asked: \"Can it be that you have come from outer space?\"\n",
        "    Gagarin replied: \"As a matter of fact, I have!\"\n",
        "\n",
        "The cell below contains unfinished code.  Fill in the `...`s so that it prints out this conversation *exactly* as it appears above."
      ]
    },
    {
      "cell_type": "code",
      "execution_count": null,
      "metadata": {
        "id": "QdmYZxjMF5_r"
      },
      "outputs": [],
      "source": [
        "woman_asking = \"The woman asked:\"\n",
        "woman_quote = '\"Can it be that you have come from outer space?\"'\n",
        "gagarin_reply = 'Gagarin replied:'\n",
        "gagarin_quote = \"As a matter of fact, I have!\"\n",
        "\n",
        "print(woman_asking, woman_quote)\n",
        "print(gagarin_reply, gagarin_quote)"
      ]
    },
    {
      "cell_type": "markdown",
      "metadata": {
        "id": "17oVWKglF5_r"
      },
      "source": [
        "## 2.1. String Methods"
      ]
    },
    {
      "cell_type": "markdown",
      "metadata": {
        "id": "R1kTwnugF5_s"
      },
      "source": [
        "Strings can be transformed using **methods**, which are functions that involve an existing string and some other arguments. One example is the `replace` method, which replaces all instances of some part of a string with some alternative. \n",
        "\n",
        "A method is invoked on a string by placing a `.` after the string value, then the name of the method, and finally parentheses containing the arguments. Here's a sketch, where the `<` and `>` symbols aren't part of the syntax; they just mark the boundaries of sub-expressions.\n",
        "\n",
        "    <expression that evaluates to a string>.<method name>(<argument>, <argument>, ...)\n",
        "\n",
        "Try to predict the output of these examples, then execute them."
      ]
    },
    {
      "cell_type": "code",
      "execution_count": 6,
      "metadata": {
        "colab": {
          "base_uri": "https://localhost:8080/",
          "height": 35
        },
        "id": "o5v_yVzEF5_s",
        "outputId": "d004ef1c-6cbd-413d-97a2-18be97f53707"
      },
      "outputs": [
        {
          "output_type": "execute_result",
          "data": {
            "text/plain": [
              "'Hella'"
            ],
            "application/vnd.google.colaboratory.intrinsic+json": {
              "type": "string"
            }
          },
          "metadata": {},
          "execution_count": 6
        }
      ],
      "source": [
        "# Replace one letter\n",
        "'Hello'.replace('o', 'a')"
      ]
    },
    {
      "cell_type": "code",
      "execution_count": 7,
      "metadata": {
        "colab": {
          "base_uri": "https://localhost:8080/",
          "height": 35
        },
        "id": "yD1mwgWQF5_s",
        "outputId": "6d2c9b09-760b-4686-e5bc-e64fe4f47d84"
      },
      "outputs": [
        {
          "output_type": "execute_result",
          "data": {
            "text/plain": [
              "'matchmaker'"
            ],
            "application/vnd.google.colaboratory.intrinsic+json": {
              "type": "string"
            }
          },
          "metadata": {},
          "execution_count": 7
        }
      ],
      "source": [
        "# Replace a sequence of letters, which appears twice\n",
        "'hitchhiker'.replace('hi', 'ma')"
      ]
    },
    {
      "cell_type": "markdown",
      "metadata": {
        "id": "xgrvpD1XF5_u"
      },
      "source": [
        "Once a name is bound to a string value, methods can be invoked on that name as well. The name is still bound to the original string, so a new name is needed to capture the result. "
      ]
    },
    {
      "cell_type": "code",
      "execution_count": 8,
      "metadata": {
        "colab": {
          "base_uri": "https://localhost:8080/"
        },
        "id": "-deBR1xzF5_u",
        "outputId": "709484a5-ce7a-407b-ffd8-21122b474ae5"
      },
      "outputs": [
        {
          "output_type": "stream",
          "name": "stdout",
          "text": [
            "sharp: edged\n",
            "hot: magma\n"
          ]
        }
      ],
      "source": [
        "sharp = 'edged'\n",
        "hot = sharp.replace('ed', 'ma')\n",
        "print('sharp:', sharp)\n",
        "print('hot:', hot)"
      ]
    },
    {
      "cell_type": "markdown",
      "metadata": {
        "id": "HQVdvAjzF5_u"
      },
      "source": [
        "You can call functions on the results of other functions.  For example,\n",
        "\n",
        "    max(abs(-5), abs(3))\n",
        "\n",
        "has value 5.  Similarly, you can invoke methods on the results of other method (or function) calls."
      ]
    },
    {
      "cell_type": "code",
      "execution_count": 9,
      "metadata": {
        "colab": {
          "base_uri": "https://localhost:8080/",
          "height": 35
        },
        "id": "pspg9HMTF5_u",
        "outputId": "74e128c8-c3bc-4f0e-d86a-0791731b64e1"
      },
      "outputs": [
        {
          "output_type": "execute_result",
          "data": {
            "text/plain": [
              "'degrade'"
            ],
            "application/vnd.google.colaboratory.intrinsic+json": {
              "type": "string"
            }
          },
          "metadata": {},
          "execution_count": 9
        }
      ],
      "source": [
        "# Calling replace on the output of another call to\n",
        "# replace\n",
        "'train'.replace('t', 'ing').replace('in', 'de')\n",
        "#ingrain\n",
        "#degrade"
      ]
    },
    {
      "cell_type": "markdown",
      "metadata": {
        "id": "UzXB8t3RF5_u"
      },
      "source": [
        "Here's a picture of how Python evaluates a \"chained\" method call like that:\n",
        "\n",
        "<img src=\"images/chaining_method_calls.jpg\"/>"
      ]
    },
    {
      "cell_type": "markdown",
      "metadata": {
        "id": "0iZs58UVF5_u"
      },
      "source": [
        "**Question 2.1.1.** Assign strings to the names `you` and `this` so that the final expression evaluates to a 10-letter English word with three double letters in a row.\n",
        "\n",
        "*Hint:* After you guess at some values for `you` and `this`, it's helpful to see the value of the variable `the`.  Try printing the value of `the` by adding a line like this:\n",
        "    \n",
        "    print(the)"
      ]
    },
    {
      "cell_type": "code",
      "execution_count": 14,
      "metadata": {
        "colab": {
          "base_uri": "https://localhost:8080/",
          "height": 35
        },
        "id": "iatMYeH8F5_v",
        "outputId": "dc116727-a57d-4a5d-f91b-ec866c2b5662"
      },
      "outputs": [
        {
          "output_type": "execute_result",
          "data": {
            "text/plain": [
              "'complainer'"
            ],
            "application/vnd.google.colaboratory.intrinsic+json": {
              "type": "string"
            }
          },
          "metadata": {},
          "execution_count": 14
        }
      ],
      "source": [
        "you = \"lain\"\n",
        "this = \"comp\"\n",
        "a = 'beeper'\n",
        "the = a.replace('p', you) \n",
        "#print(the)\n",
        "the.replace('bee', this)"
      ]
    },
    {
      "cell_type": "markdown",
      "metadata": {
        "id": "mID5FMZoF5_v"
      },
      "source": [
        "Other string methods do not take any arguments at all, because the original string is all that's needed to compute the result. In this case, parentheses are still needed, but there's nothing in between the parentheses. Here are some methods that work that way:\n",
        "\n",
        "|Method name|Value|\n",
        "|-|-|\n",
        "|`lower`|a lowercased version of the string|\n",
        "|`upper`|an uppercased version of the string|\n",
        "|`capitalize`|a version with the first letter capitalized|\n",
        "|`title`|a version with the first letter of every word capitalized||\n"
      ]
    },
    {
      "cell_type": "code",
      "execution_count": null,
      "metadata": {
        "id": "dyXpmn-cF5_v"
      },
      "outputs": [],
      "source": [
        "'uPpsALA unIverSITy'.title()"
      ]
    },
    {
      "cell_type": "markdown",
      "metadata": {
        "id": "K80_NBAUF5_v"
      },
      "source": [
        "All these string methods are useful, but most programmers don't memorize their names or how to use them.  In the \"real world,\" people usually just search the internet for documentation and examples. A complete [list of string methods](https://docs.python.org/3/library/stdtypes.html#string-methods) appears in the Python language documentation. [Stack Overflow](http://stackoverflow.com) has a huge database of answered questions that often demonstrate how to use these methods to achieve various ends."
      ]
    },
    {
      "cell_type": "markdown",
      "metadata": {
        "id": "Ae71XdEEF5_v"
      },
      "source": [
        "## 2.2. Converting to and from Strings"
      ]
    },
    {
      "cell_type": "markdown",
      "metadata": {
        "id": "n2wzYOkWF5_w"
      },
      "source": [
        "Strings and numbers are different *types* of values, even when a string contains the digits of a number. For example, evaluating the following cell causes an error because an integer cannot be added to a string."
      ]
    },
    {
      "cell_type": "code",
      "execution_count": 15,
      "metadata": {
        "colab": {
          "base_uri": "https://localhost:8080/",
          "height": 166
        },
        "id": "5Fofi-61F5_w",
        "outputId": "59a98b0d-8545-4c54-c334-027aa9ac6604"
      },
      "outputs": [
        {
          "output_type": "error",
          "ename": "TypeError",
          "evalue": "ignored",
          "traceback": [
            "\u001b[0;31m---------------------------------------------------------------------------\u001b[0m",
            "\u001b[0;31mTypeError\u001b[0m                                 Traceback (most recent call last)",
            "\u001b[0;32m<ipython-input-15-ea74adbd7634>\u001b[0m in \u001b[0;36m<module>\u001b[0;34m\u001b[0m\n\u001b[0;32m----> 1\u001b[0;31m \u001b[0;36m8\u001b[0m \u001b[0;34m+\u001b[0m \u001b[0;34m\"8\"\u001b[0m\u001b[0;34m\u001b[0m\u001b[0;34m\u001b[0m\u001b[0m\n\u001b[0m",
            "\u001b[0;31mTypeError\u001b[0m: unsupported operand type(s) for +: 'int' and 'str'"
          ]
        }
      ],
      "source": [
        "8 + \"8\""
      ]
    },
    {
      "cell_type": "markdown",
      "metadata": {
        "id": "5iVs-EuxF5_w"
      },
      "source": [
        "However, there are built-in functions to convert numbers to strings and strings to numbers. \n",
        "\n",
        "    int:   Converts a string of digits to an integer (\"int\") value\n",
        "    float: Converts a string of digits, perhaps with a decimal point, to a decimal (\"float\") value\n",
        "    str:   Converts any value to a string"
      ]
    },
    {
      "cell_type": "markdown",
      "metadata": {
        "id": "1z4SSyGLF5_x"
      },
      "source": [
        "Try to predict what the following cell will evaluate to, then evaluate it."
      ]
    },
    {
      "cell_type": "code",
      "execution_count": 16,
      "metadata": {
        "colab": {
          "base_uri": "https://localhost:8080/"
        },
        "id": "NV5-kEEhF5_x",
        "outputId": "ac9218fe-f7e6-4702-df3e-71eaae2a6e43"
      },
      "outputs": [
        {
          "output_type": "execute_result",
          "data": {
            "text/plain": [
              "16"
            ]
          },
          "metadata": {},
          "execution_count": 16
        }
      ],
      "source": [
        "8 + int(\"8\")"
      ]
    },
    {
      "cell_type": "markdown",
      "metadata": {
        "id": "P7ZtQQyNF5_x"
      },
      "source": [
        "Suppose you're writing a program that looks for dates in a text, and you want your program to find the amount of time that elapsed between two years it has identified.  It doesn't make sense to subtract two texts, but you can first convert the text containing the years into numbers.\n",
        "\n",
        "**Question 2.2.1.** Finish the code below to compute the number of years that elapsed between `one_year` and `another_year`.  Don't just write the numbers `1618` and `1648` (or `30`); use a conversion function to turn the given text data into numbers."
      ]
    },
    {
      "cell_type": "code",
      "execution_count": 17,
      "metadata": {
        "colab": {
          "base_uri": "https://localhost:8080/"
        },
        "id": "jkEsB51VF5_x",
        "outputId": "75bf4725-1720-44dc-8684-4c7f7eef7f41"
      },
      "outputs": [
        {
          "output_type": "execute_result",
          "data": {
            "text/plain": [
              "30"
            ]
          },
          "metadata": {},
          "execution_count": 17
        }
      ],
      "source": [
        "# Some text data:\n",
        "one_year = \"1618\"\n",
        "another_year = \"1648\"\n",
        "\n",
        "# Complete the next line.  Note that we can't just write:\n",
        "#   another_year - one_year\n",
        "# If you don't see why, try seeing what happens when you\n",
        "# write that here.\n",
        "difference = int(another_year) - int(one_year)\n",
        "difference"
      ]
    },
    {
      "cell_type": "markdown",
      "metadata": {
        "id": "9X7-dugFF5_y"
      },
      "source": [
        "## 2.3. Strings as function arguments\n",
        "\n",
        "String values, like numbers, can be arguments to functions and can be returned by functions.  The function `len` takes a single string as its argument and returns the number of characters in the string: its **len**-gth.  \n",
        "\n",
        "Note that it doesn't count *words*. `len(\"one small step for man\")` is 22, not 5.\n",
        "\n",
        "**Question 2.3.1.**  Use `len` to find out the number of characters in the very long string in the next cell.  (It's the first sentence of the English translation of the French [Declaration of the Rights of Man](http://avalon.law.yale.edu/18th_century/rightsof.asp).)  The length of a string is the total number of characters in it, including things like spaces and punctuation.  Assign `sentence_length` to that number."
      ]
    },
    {
      "cell_type": "code",
      "execution_count": 18,
      "metadata": {
        "colab": {
          "base_uri": "https://localhost:8080/"
        },
        "id": "QVka3cQjF5_y",
        "outputId": "58e0b384-9e8e-4383-88a5-746db8e55b00"
      },
      "outputs": [
        {
          "output_type": "execute_result",
          "data": {
            "text/plain": [
              "896"
            ]
          },
          "metadata": {},
          "execution_count": 18
        }
      ],
      "source": [
        "a_very_long_sentence = \"The representatives of the French people, organized as a National Assembly, believing that the ignorance, neglect, or contempt of the rights of man are the sole cause of public calamities and of the corruption of governments, have determined to set forth in a solemn declaration the natural, unalienable, and sacred rights of man, in order that this declaration, being constantly before all the members of the Social body, shall remind them continually of their rights and duties; in order that the acts of the legislative power, as well as those of the executive power, may be compared at any moment with the objects and purposes of all political institutions and may thus be more respected, and, lastly, in order that the grievances of the citizens, based hereafter upon simple and incontestable principles, shall tend to the maintenance of the constitution and redound to the happiness of all.\"\n",
        "sentence_length = len(a_very_long_sentence)\n",
        "sentence_length"
      ]
    },
    {
      "cell_type": "markdown",
      "metadata": {
        "id": "jC4KDR04F5_y"
      },
      "source": [
        "# 3. Importing code\n",
        "\n",
        "> What has been will be again,  \n",
        "> what has been done will be done again;  \n",
        "> there is nothing new under the sun.\n",
        "\n",
        "Most programming involves work that is very similar to work that has been done before.  Since writing code is time-consuming, it's good to rely on others' published code when you can.  Rather than copy-pasting, Python allows us to **import** other code, creating a **module** that contains all of the names created by that code.\n",
        "\n",
        "Python includes many useful modules that are just an `import` away.  We'll look at the `math` module as a first example. The `math` module is extremely useful in computing mathematical expressions in Python. \n",
        "\n",
        "Suppose we want to very accurately compute the area of a circle with radius 5 meters.  For that, we need the constant $\\pi$, which is roughly 3.14.  Conveniently, the `math` module has `pi` defined for us:"
      ]
    },
    {
      "cell_type": "code",
      "execution_count": 21,
      "metadata": {
        "colab": {
          "base_uri": "https://localhost:8080/"
        },
        "id": "t_5w1Kb5F5_z",
        "outputId": "5ca7a5a4-db63-421e-bb87-b8c91f6914b4"
      },
      "outputs": [
        {
          "output_type": "execute_result",
          "data": {
            "text/plain": [
              "78.53981633974483"
            ]
          },
          "metadata": {},
          "execution_count": 21
        }
      ],
      "source": [
        "import math\n",
        "radius = 5\n",
        "area_of_circle = radius**2 * math.pi\n",
        "area_of_circle"
      ]
    },
    {
      "cell_type": "markdown",
      "metadata": {
        "id": "rz9JIFr4F5_z"
      },
      "source": [
        "`pi` is defined inside `math`, and the way that we access names that are inside modules is by writing the module's name, then a dot, then the name of the thing we want:\n",
        "\n",
        "    <module name>.<name>\n",
        "    \n",
        "In order to use a module at all, we must first write the statement `import <module name>`.  That statement creates a module object with things like `pi` in it and then assigns the name `math` to that module.  Above we have done that for `math`."
      ]
    },
    {
      "cell_type": "markdown",
      "metadata": {
        "id": "p-nW5tD9F5_z"
      },
      "source": [
        "**Question 3.1.** `math` also provides the name `e` for the base of the natural logarithm, which is roughly 2.71.  Compute $e^{\\pi}-\\pi$, giving it the name `near_twenty`."
      ]
    },
    {
      "cell_type": "code",
      "execution_count": 22,
      "metadata": {
        "colab": {
          "base_uri": "https://localhost:8080/"
        },
        "id": "XFtopkJzF5_0",
        "outputId": "e061aeb6-6136-4e24-f4af-814c8b2a7f74"
      },
      "outputs": [
        {
          "output_type": "execute_result",
          "data": {
            "text/plain": [
              "19.99909997918947"
            ]
          },
          "metadata": {},
          "execution_count": 22
        }
      ],
      "source": [
        "near_twenty = ((math.e**math.pi)-math.pi)\n",
        "near_twenty"
      ]
    },
    {
      "cell_type": "markdown",
      "metadata": {
        "id": "ofGPrZMNF5_0"
      },
      "source": [
        "## 3.1. Importing functions\n",
        "\n",
        "**Modules** can provide other named things, including **functions**.  For example, `math` provides the name `sin` for the sine function.  Having imported `math` already, we can write `math.sin(3)` to compute the sine of 3.  (Note that this sine function considers its argument to be in [radians](https://en.wikipedia.org/wiki/Radian), not degrees.  180 degrees are equivalent to $\\pi$ radians.)\n",
        "\n",
        "**Question 3.1.1.** A $\\frac{\\pi}{4}$-radian (45-degree) angle forms a right triangle with equal base and height, pictured below.  If the hypotenuse (the radius of the circle in the picture) is 1, then the height is $\\sin(\\frac{\\pi}{4})$.  Compute that using `sin` and `pi` from the `math` module.  Give the result the name `sine_of_pi_over_four`.\n",
        "\n",
        "<img src=\"http://mathworld.wolfram.com/images/eps-gif/TrigonometryAnglesPi4_1000.gif\">\n",
        "(Source: [Wolfram MathWorld](http://mathworld.wolfram.com/images/eps-gif/TrigonometryAnglesPi4_1000.gif))"
      ]
    },
    {
      "cell_type": "code",
      "execution_count": 23,
      "metadata": {
        "colab": {
          "base_uri": "https://localhost:8080/"
        },
        "id": "vCQGbevQF5_1",
        "outputId": "e64a9447-db78-4afc-8e84-7eff3cdf0ee2"
      },
      "outputs": [
        {
          "output_type": "execute_result",
          "data": {
            "text/plain": [
              "0.7071067811865475"
            ]
          },
          "metadata": {},
          "execution_count": 23
        }
      ],
      "source": [
        "sine_of_pi_over_four = math.sin(math.pi/4)\n",
        "sine_of_pi_over_four"
      ]
    },
    {
      "cell_type": "markdown",
      "metadata": {
        "id": "cou8UYolF5_2"
      },
      "source": [
        "For your reference, here are some more examples of functions from the `math` module.\n",
        "\n",
        "Note how different methods take in different number of arguments. Often, the documentation of the module will provide information on how many arguments is required for each method."
      ]
    },
    {
      "cell_type": "code",
      "execution_count": 24,
      "metadata": {
        "colab": {
          "base_uri": "https://localhost:8080/"
        },
        "id": "vZGQE_EmF5_2",
        "outputId": "43a8e9a8-9d8e-4a8e-d4a1-0d2474e538b6"
      },
      "outputs": [
        {
          "output_type": "execute_result",
          "data": {
            "text/plain": [
              "120"
            ]
          },
          "metadata": {},
          "execution_count": 24
        }
      ],
      "source": [
        "# Calculating factorials.\n",
        "math.factorial(5)"
      ]
    },
    {
      "cell_type": "code",
      "execution_count": 25,
      "metadata": {
        "colab": {
          "base_uri": "https://localhost:8080/"
        },
        "id": "nySv2zXGF5_2",
        "outputId": "ba988847-7ee7-4d1c-e9ec-c265d3f89918"
      },
      "outputs": [
        {
          "output_type": "execute_result",
          "data": {
            "text/plain": [
              "3.0"
            ]
          },
          "metadata": {},
          "execution_count": 25
        }
      ],
      "source": [
        "# Calculating logarithms (the logarithm of 8 in base 2).\n",
        "# The result is 3 because 2 to the power of 3 is 8.\n",
        "math.log(8, 2)"
      ]
    },
    {
      "cell_type": "code",
      "execution_count": 26,
      "metadata": {
        "colab": {
          "base_uri": "https://localhost:8080/"
        },
        "id": "FLU4-AhFF5_2",
        "outputId": "f3c22344-5be3-412d-8c36-69fd70519016"
      },
      "outputs": [
        {
          "output_type": "execute_result",
          "data": {
            "text/plain": [
              "2.23606797749979"
            ]
          },
          "metadata": {},
          "execution_count": 26
        }
      ],
      "source": [
        "# Calculating square roots.\n",
        "math.sqrt(5)"
      ]
    },
    {
      "cell_type": "code",
      "execution_count": 27,
      "metadata": {
        "colab": {
          "base_uri": "https://localhost:8080/"
        },
        "id": "Dc7Ki5csF5_3",
        "outputId": "1bffcfff-646d-458e-bae0-0bb23bd333ca"
      },
      "outputs": [
        {
          "output_type": "execute_result",
          "data": {
            "text/plain": [
              "-1.0"
            ]
          },
          "metadata": {},
          "execution_count": 27
        }
      ],
      "source": [
        "# Calculating cosines.\n",
        "math.cos(math.pi)"
      ]
    },
    {
      "cell_type": "markdown",
      "metadata": {
        "id": "upWpls2nF5_3"
      },
      "source": [
        "##### A function that displays a picture\n",
        "People have written Python functions that do very cool and complicated things, like crawling web pages for data, transforming videos, or doing machine learning with lots of data.  Now that you can import things, when you want to do something with code, first check to see if someone else has done it for you.\n",
        "\n",
        "Let's see an example of a function that's used for downloading and displaying pictures.\n",
        "\n",
        "The module `IPython.display` provides a function called `Image`.  The `Image` function takes a single argument, a string that is the URL of the image on the web.  It returns an *image* value that this Jupyter notebook understands how to display.  To display an image, make it the value of the last expression in a cell, just like you'd display a number or a string.\n",
        "\n",
        "**Question 3.1.2.** In the next cell, import the module `IPython.display` and use its `Image` function to display the image at this URL:\n",
        "\n",
        "    https://upload.wikimedia.org/wikipedia/commons/thumb/8/8c/David_-_The_Death_of_Socrates.jpg/1024px-David_-_The_Death_of_Socrates.jpg\n",
        "\n",
        "Give the name `art` to the output of the call to `Image`.  (It might take a few seconds to load the image.  It's a painting called *The Death of Socrates* by Jacques-Louis David, depicting events from a philosophical text by Plato.)"
      ]
    },
    {
      "cell_type": "code",
      "execution_count": 28,
      "metadata": {
        "colab": {
          "base_uri": "https://localhost:8080/",
          "height": 690
        },
        "id": "Loxl-A0QF5_4",
        "outputId": "429614e5-3a04-4a51-aceb-f19386c778b5"
      },
      "outputs": [
        {
          "output_type": "execute_result",
          "data": {
            "image/jpeg": "[encoded data removed]",
            "text/plain": [
              "<IPython.core.display.Image object>"
            ]
          },
          "metadata": {},
          "execution_count": 28
        }
      ],
      "source": [
        "# Import the module IPython.display. Watch out for capitalization.\n",
        "import IPython.display\n",
        "# Replace the ... with a call to the Image function\n",
        "# in the IPython.display module, which should produce\n",
        "# a picture.\n",
        "art = IPython.display.Image(\"https://upload.wikimedia.org/wikipedia/commons/thumb/8/8c/David_-_The_Death_of_Socrates.jpg/1024px-David_-_The_Death_of_Socrates.jpg\")\n",
        "art"
      ]
    },
    {
      "cell_type": "markdown",
      "metadata": {
        "id": "JKAhYYmzF5_4"
      },
      "source": [
        "# 4. Arrays\n",
        "\n",
        "Up to now, we haven't done much that you couldn't do yourself by hand, without going through the trouble of learning Python.  Computers are most useful when you can use a small amount of code to *do the same action* to *many different things*.\n",
        "\n",
        "For example, in the time it takes you to calculate the 18% tip on a restaurant bill, a laptop can calculate 18% tips for every restaurant bill paid by every human on Earth that day.  (That's if you're pretty fast at doing arithmetic in your head!)\n",
        "\n",
        "**Arrays** are how we put many values in one place so that we can operate on them as a group. For example, if `billions_of_numbers` is an array of numbers, the expression\n",
        "\n",
        "    .18 * billions_of_numbers\n",
        "\n",
        "gives a new array of numbers that's the result of multiplying each number in `billions_of_numbers` by .18 (18%).  Arrays are not limited to numbers; we can also put all the words in a book into an array of strings.\n",
        "\n",
        "Concretely, an array is a **collection of values of the same type**, like a column in an Excel spreadsheet. \n",
        "\n",
        "<img src=\"images/excel_array.jpg\">"
      ]
    },
    {
      "cell_type": "markdown",
      "metadata": {
        "id": "vQsPCB9SF5_5"
      },
      "source": [
        "## 4.1. Making arrays\n",
        "You can type in the data that goes in an array yourself, but that's not typically how programs work. Normally, we create arrays by loading them from an external source, like a data file.\n",
        "\n",
        "First, though, let's learn how to do it the hard way. Execute the following cell to import the `numpy` module that we will use for creating and manipulating arrays."
      ]
    },
    {
      "cell_type": "code",
      "execution_count": 29,
      "metadata": {
        "id": "NzX2PWCiF5_6"
      },
      "outputs": [],
      "source": [
        "import numpy as np"
      ]
    },
    {
      "cell_type": "markdown",
      "metadata": {
        "id": "B3PyvlawF5_7"
      },
      "source": [
        "Now, to create an array, call the function `np.array`.  The argument you pass to `np.array` will be a regular Python list (e.g. `[1, 2, 3]`) and the function returns the array with the list values in it.  Run this cell to see an example:"
      ]
    },
    {
      "cell_type": "code",
      "execution_count": 30,
      "metadata": {
        "scrolled": true,
        "colab": {
          "base_uri": "https://localhost:8080/"
        },
        "id": "7LxY-vLHF5_7",
        "outputId": "59fbbbdd-b54e-4c16-9639-e5b0fd84a2c7"
      },
      "outputs": [
        {
          "output_type": "execute_result",
          "data": {
            "text/plain": [
              "array([ 0.125,  4.75 , -1.3  ])"
            ]
          },
          "metadata": {},
          "execution_count": 30
        }
      ],
      "source": [
        "np.array([0.125, 4.75, -1.3])"
      ]
    },
    {
      "cell_type": "markdown",
      "metadata": {
        "id": "azxY1qurF5_8"
      },
      "source": [
        "Each value in an array (in the above case, the numbers 0.125, 4.75, and -1.3) is called an *element* of that array.\n",
        "\n",
        "Arrays themselves are also values, just like numbers and strings.  That means you can assign them names or use them as arguments to functions.\n",
        "\n",
        "**Question 4.1.1.** Make an array containing the numbers 1, 2, and 3, in that order.  Name it `small_numbers`."
      ]
    },
    {
      "cell_type": "code",
      "execution_count": 33,
      "metadata": {
        "colab": {
          "base_uri": "https://localhost:8080/"
        },
        "id": "qV1zPrdzF5_8",
        "outputId": "9d35ff69-71dc-4046-82cc-31145523d9de"
      },
      "outputs": [
        {
          "output_type": "execute_result",
          "data": {
            "text/plain": [
              "array([1, 2, 3])"
            ]
          },
          "metadata": {},
          "execution_count": 33
        }
      ],
      "source": [
        "#small_numbers = np.array([1,2,3])\n",
        "from datascience import *\n",
        "small_numbers = make_array(1,2,3)\n",
        "small_numbers"
      ]
    },
    {
      "cell_type": "markdown",
      "metadata": {
        "id": "pL2umsDtF5_9"
      },
      "source": [
        "**Question 4.1.2.** Make an array containing the numbers 0, 1, -1, $\\pi$, and $e$, in that order.  Name it `interesting_numbers`.  *Hint:* How did you get the values $\\pi$ and $e$ earlier?  You can refer to them in exactly the same way here."
      ]
    },
    {
      "cell_type": "code",
      "execution_count": 34,
      "metadata": {
        "colab": {
          "base_uri": "https://localhost:8080/"
        },
        "id": "bzqS3qHBF5_9",
        "outputId": "08bee566-ee90-48bc-d2b9-a49ddfce5e23"
      },
      "outputs": [
        {
          "output_type": "execute_result",
          "data": {
            "text/plain": [
              "array([ 0.        ,  1.        , -1.        ,  3.14159265,  2.71828183])"
            ]
          },
          "metadata": {},
          "execution_count": 34
        }
      ],
      "source": [
        "interesting_numbers = make_array(0,1,-1,math.pi,math.e)\n",
        "interesting_numbers"
      ]
    },
    {
      "cell_type": "markdown",
      "metadata": {
        "id": "PAprWnlXF5_9"
      },
      "source": [
        "**Question 4.1.3.** Make an array containing the five strings `\"Hello\"`, `\",\"`, `\" \"`, `\"world\"`, and `\"!\"`.  (The third one is a single space inside quotes.)  Name it `hello_world_components`.\n",
        "\n",
        "*Note:* If you print `hello_world_components`, you'll notice some extra information in addition to its contents: `dtype='<U5'`.  That's just NumPy's extremely cryptic way of saying that the things in the array are strings."
      ]
    },
    {
      "cell_type": "code",
      "execution_count": 35,
      "metadata": {
        "colab": {
          "base_uri": "https://localhost:8080/"
        },
        "id": "MChUzNooF5_-",
        "outputId": "36c0ef70-ef0a-4e6d-d9c2-fb365c72e575"
      },
      "outputs": [
        {
          "output_type": "execute_result",
          "data": {
            "text/plain": [
              "array(['Hello', ',', ' ', 'world', '!'],\n",
              "      dtype='<U5')"
            ]
          },
          "metadata": {},
          "execution_count": 35
        }
      ],
      "source": [
        "hello_world_components = make_array(\"Hello\",\",\",\" \",\"world\",\"!\")\n",
        "hello_world_components"
      ]
    },
    {
      "cell_type": "markdown",
      "metadata": {
        "id": "NzbyElrCF5__"
      },
      "source": [
        "The `join` method of a string takes an array of strings as its argument and puts all of the elements together into one string. Try it:"
      ]
    },
    {
      "cell_type": "code",
      "execution_count": 36,
      "metadata": {
        "colab": {
          "base_uri": "https://localhost:8080/",
          "height": 35
        },
        "id": "fqey_omtF5__",
        "outputId": "6e35677a-a8b7-486d-d050-b2477b5440a0"
      },
      "outputs": [
        {
          "output_type": "execute_result",
          "data": {
            "text/plain": [
              "'(╯°□°）╯︵ ┻━┻'"
            ],
            "application/vnd.google.colaboratory.intrinsic+json": {
              "type": "string"
            }
          },
          "metadata": {},
          "execution_count": 36
        }
      ],
      "source": [
        "'°'.join(np.array(['(╯', '□','）╯︵ ┻━┻']))"
      ]
    },
    {
      "cell_type": "markdown",
      "metadata": {
        "id": "KcePJzyIF5__"
      },
      "source": [
        "**Question 4.1.4.** Assign `separator` to a string so that the name `hello` is bound to the string `'Hello, world!'` in the cell below."
      ]
    },
    {
      "cell_type": "code",
      "execution_count": 37,
      "metadata": {
        "colab": {
          "base_uri": "https://localhost:8080/",
          "height": 35
        },
        "id": "Y_goAenTF6AA",
        "outputId": "476319de-709f-47cf-adea-d446882e3211"
      },
      "outputs": [
        {
          "output_type": "execute_result",
          "data": {
            "text/plain": [
              "'Hello, world!'"
            ],
            "application/vnd.google.colaboratory.intrinsic+json": {
              "type": "string"
            }
          },
          "metadata": {},
          "execution_count": 37
        }
      ],
      "source": [
        "separator = \"\"\n",
        "hello = separator.join(hello_world_components)\n",
        "hello"
      ]
    },
    {
      "cell_type": "markdown",
      "metadata": {
        "id": "VgSPQF3GF6AA"
      },
      "source": [
        "### 4.1.1.  `np.arange`\n",
        "Arrays are provided by a package called [NumPy](http://www.numpy.org/) (pronounced \"NUM-pie\" or, if you prefer to pronounce things incorrectly, \"NUM-pee\").  The package is called `numpy`, but it's standard to rename it `np` for brevity.  You can do that with:\n",
        "\n",
        "    import numpy as np\n",
        "\n",
        "Very often in data science, we want to work with many numbers that are evenly spaced within some range.  NumPy provides a special function for this called `arange`.  `np.arange(start, stop, space)` produces an array with all the numbers starting at `start` and counting up by `space`, stopping before `stop` is reached.\n",
        "\n",
        "For example, the value of `np.arange(1, 6, 2)` is an array with elements 1, 3, and 5 -- it starts at 1 and counts up by 2, then stops before 6.  In other words, it's equivalent to `np.array([1, 3, 5])`.\n",
        "\n",
        "`np.arange(4, 9, 1)` is an array with elements 4, 5, 6, 7, and 8.  (It doesn't contain 9 because `np.arange` stops *before* the stop value is reached.)\n",
        "\n",
        "**Question 4.1.1.1.** Import `numpy` as `np` and then use `np.arange` to create an array with the multiples of 99 from 0 up to (**and including**) 9999.  (So its elements are 0, 99, 198, 297, etc.)"
      ]
    },
    {
      "cell_type": "code",
      "execution_count": 39,
      "metadata": {
        "colab": {
          "base_uri": "https://localhost:8080/"
        },
        "id": "H25C_v-vF6AA",
        "outputId": "4bd03c1c-db8e-44a0-dc3a-0d1a3882ad04"
      },
      "outputs": [
        {
          "output_type": "execute_result",
          "data": {
            "text/plain": [
              "array([   0,   99,  198,  297,  396,  495,  594,  693,  792,  891,  990,\n",
              "       1089, 1188, 1287, 1386, 1485, 1584, 1683, 1782, 1881, 1980, 2079,\n",
              "       2178, 2277, 2376, 2475, 2574, 2673, 2772, 2871, 2970, 3069, 3168,\n",
              "       3267, 3366, 3465, 3564, 3663, 3762, 3861, 3960, 4059, 4158, 4257,\n",
              "       4356, 4455, 4554, 4653, 4752, 4851, 4950, 5049, 5148, 5247, 5346,\n",
              "       5445, 5544, 5643, 5742, 5841, 5940, 6039, 6138, 6237, 6336, 6435,\n",
              "       6534, 6633, 6732, 6831, 6930, 7029, 7128, 7227, 7326, 7425, 7524,\n",
              "       7623, 7722, 7821, 7920, 8019, 8118, 8217, 8316, 8415, 8514, 8613,\n",
              "       8712, 8811, 8910, 9009, 9108, 9207, 9306, 9405, 9504, 9603, 9702,\n",
              "       9801, 9900, 9999])"
            ]
          },
          "metadata": {},
          "execution_count": 39
        }
      ],
      "source": [
        "import numpy as np\n",
        "multiples_of_99 = np.arange(0,10000,99)\n",
        "multiples_of_99"
      ]
    },
    {
      "cell_type": "markdown",
      "metadata": {
        "id": "929zJgASF6AB"
      },
      "source": [
        "##### Temperature readings\n",
        "NOAA (the US National Oceanic and Atmospheric Administration) operates weather stations that measure surface temperatures at different sites around the United States.  The hourly readings are [publicly available](http://www.ncdc.noaa.gov/qclcd/QCLCD?prior=N).\n",
        "\n",
        "Suppose we download all the hourly data from the Oakland, California site for the month of December 2015.  To analyze the data, we want to know when each reading was taken, but we find that the data don't include the timestamps of the readings (the time at which each one was taken).\n",
        "\n",
        "However, we know the first reading was taken at the first instant of December 2015 (midnight on December 1st) and each subsequent reading was taken exactly 1 hour after the last.\n",
        "\n",
        "**Question 4.1.1.2.** Create an array of the *time, in seconds, since the start of the month* at which each hourly reading was taken.  Name it `collection_times`.\n",
        "\n",
        "*Hint 1:* There were 31 days in December, which is equivalent to ($31 \\times 24$) hours or ($31 \\times 24 \\times 60 \\times 60$) seconds.  So your array should have $31 \\times 24$ elements in it.\n",
        "\n",
        "*Hint 2:* The `len` function works on arrays, too.  The length of `collection_times` should be $31 \\times 24$ elements."
      ]
    },
    {
      "cell_type": "markdown",
      "metadata": {
        "id": "yCuDhXfSF6AB"
      },
      "source": [
        "## 4.2. Working with single elements of arrays (\"indexing\")\n",
        "Let's work with a more interesting dataset.  The next cell creates an array called `population` that includes estimated world populations in every year from **1950** to roughly the present.  (The estimates come from the [US Census Bureau website](http://www.census.gov/population/international/data/worldpop/table_population.php).)\n",
        "\n",
        "Rather than type in the data manually, we've loaded them from a file on your computer called `world_population.csv`.  You'll learn how to do that in the next exercise."
      ]
    },
    {
      "cell_type": "code",
      "execution_count": 40,
      "metadata": {
        "colab": {
          "base_uri": "https://localhost:8080/"
        },
        "id": "re2JGwHEF6AB",
        "outputId": "0891cb41-5a28-4d1b-985e-13a4a9931d39"
      },
      "outputs": [
        {
          "output_type": "execute_result",
          "data": {
            "text/plain": [
              "array([      0,    3600,    7200,   10800,   14400,   18000,   21600,\n",
              "         25200,   28800,   32400,   36000,   39600,   43200,   46800,\n",
              "         50400,   54000,   57600,   61200,   64800,   68400,   72000,\n",
              "         75600,   79200,   82800,   86400,   90000,   93600,   97200,\n",
              "        100800,  104400,  108000,  111600,  115200,  118800,  122400,\n",
              "        126000,  129600,  133200,  136800,  140400,  144000,  147600,\n",
              "        151200,  154800,  158400,  162000,  165600,  169200,  172800,\n",
              "        176400,  180000,  183600,  187200,  190800,  194400,  198000,\n",
              "        201600,  205200,  208800,  212400,  216000,  219600,  223200,\n",
              "        226800,  230400,  234000,  237600,  241200,  244800,  248400,\n",
              "        252000,  255600,  259200,  262800,  266400,  270000,  273600,\n",
              "        277200,  280800,  284400,  288000,  291600,  295200,  298800,\n",
              "        302400,  306000,  309600,  313200,  316800,  320400,  324000,\n",
              "        327600,  331200,  334800,  338400,  342000,  345600,  349200,\n",
              "        352800,  356400,  360000,  363600,  367200,  370800,  374400,\n",
              "        378000,  381600,  385200,  388800,  392400,  396000,  399600,\n",
              "        403200,  406800,  410400,  414000,  417600,  421200,  424800,\n",
              "        428400,  432000,  435600,  439200,  442800,  446400,  450000,\n",
              "        453600,  457200,  460800,  464400,  468000,  471600,  475200,\n",
              "        478800,  482400,  486000,  489600,  493200,  496800,  500400,\n",
              "        504000,  507600,  511200,  514800,  518400,  522000,  525600,\n",
              "        529200,  532800,  536400,  540000,  543600,  547200,  550800,\n",
              "        554400,  558000,  561600,  565200,  568800,  572400,  576000,\n",
              "        579600,  583200,  586800,  590400,  594000,  597600,  601200,\n",
              "        604800,  608400,  612000,  615600,  619200,  622800,  626400,\n",
              "        630000,  633600,  637200,  640800,  644400,  648000,  651600,\n",
              "        655200,  658800,  662400,  666000,  669600,  673200,  676800,\n",
              "        680400,  684000,  687600,  691200,  694800,  698400,  702000,\n",
              "        705600,  709200,  712800,  716400,  720000,  723600,  727200,\n",
              "        730800,  734400,  738000,  741600,  745200,  748800,  752400,\n",
              "        756000,  759600,  763200,  766800,  770400,  774000,  777600,\n",
              "        781200,  784800,  788400,  792000,  795600,  799200,  802800,\n",
              "        806400,  810000,  813600,  817200,  820800,  824400,  828000,\n",
              "        831600,  835200,  838800,  842400,  846000,  849600,  853200,\n",
              "        856800,  860400,  864000,  867600,  871200,  874800,  878400,\n",
              "        882000,  885600,  889200,  892800,  896400,  900000,  903600,\n",
              "        907200,  910800,  914400,  918000,  921600,  925200,  928800,\n",
              "        932400,  936000,  939600,  943200,  946800,  950400,  954000,\n",
              "        957600,  961200,  964800,  968400,  972000,  975600,  979200,\n",
              "        982800,  986400,  990000,  993600,  997200, 1000800, 1004400,\n",
              "       1008000, 1011600, 1015200, 1018800, 1022400, 1026000, 1029600,\n",
              "       1033200, 1036800, 1040400, 1044000, 1047600, 1051200, 1054800,\n",
              "       1058400, 1062000, 1065600, 1069200, 1072800, 1076400, 1080000,\n",
              "       1083600, 1087200, 1090800, 1094400, 1098000, 1101600, 1105200,\n",
              "       1108800, 1112400, 1116000, 1119600, 1123200, 1126800, 1130400,\n",
              "       1134000, 1137600, 1141200, 1144800, 1148400, 1152000, 1155600,\n",
              "       1159200, 1162800, 1166400, 1170000, 1173600, 1177200, 1180800,\n",
              "       1184400, 1188000, 1191600, 1195200, 1198800, 1202400, 1206000,\n",
              "       1209600, 1213200, 1216800, 1220400, 1224000, 1227600, 1231200,\n",
              "       1234800, 1238400, 1242000, 1245600, 1249200, 1252800, 1256400,\n",
              "       1260000, 1263600, 1267200, 1270800, 1274400, 1278000, 1281600,\n",
              "       1285200, 1288800, 1292400, 1296000, 1299600, 1303200, 1306800,\n",
              "       1310400, 1314000, 1317600, 1321200, 1324800, 1328400, 1332000,\n",
              "       1335600, 1339200, 1342800, 1346400, 1350000, 1353600, 1357200,\n",
              "       1360800, 1364400, 1368000, 1371600, 1375200, 1378800, 1382400,\n",
              "       1386000, 1389600, 1393200, 1396800, 1400400, 1404000, 1407600,\n",
              "       1411200, 1414800, 1418400, 1422000, 1425600, 1429200, 1432800,\n",
              "       1436400, 1440000, 1443600, 1447200, 1450800, 1454400, 1458000,\n",
              "       1461600, 1465200, 1468800, 1472400, 1476000, 1479600, 1483200,\n",
              "       1486800, 1490400, 1494000, 1497600, 1501200, 1504800, 1508400,\n",
              "       1512000, 1515600, 1519200, 1522800, 1526400, 1530000, 1533600,\n",
              "       1537200, 1540800, 1544400, 1548000, 1551600, 1555200, 1558800,\n",
              "       1562400, 1566000, 1569600, 1573200, 1576800, 1580400, 1584000,\n",
              "       1587600, 1591200, 1594800, 1598400, 1602000, 1605600, 1609200,\n",
              "       1612800, 1616400, 1620000, 1623600, 1627200, 1630800, 1634400,\n",
              "       1638000, 1641600, 1645200, 1648800, 1652400, 1656000, 1659600,\n",
              "       1663200, 1666800, 1670400, 1674000, 1677600, 1681200, 1684800,\n",
              "       1688400, 1692000, 1695600, 1699200, 1702800, 1706400, 1710000,\n",
              "       1713600, 1717200, 1720800, 1724400, 1728000, 1731600, 1735200,\n",
              "       1738800, 1742400, 1746000, 1749600, 1753200, 1756800, 1760400,\n",
              "       1764000, 1767600, 1771200, 1774800, 1778400, 1782000, 1785600,\n",
              "       1789200, 1792800, 1796400, 1800000, 1803600, 1807200, 1810800,\n",
              "       1814400, 1818000, 1821600, 1825200, 1828800, 1832400, 1836000,\n",
              "       1839600, 1843200, 1846800, 1850400, 1854000, 1857600, 1861200,\n",
              "       1864800, 1868400, 1872000, 1875600, 1879200, 1882800, 1886400,\n",
              "       1890000, 1893600, 1897200, 1900800, 1904400, 1908000, 1911600,\n",
              "       1915200, 1918800, 1922400, 1926000, 1929600, 1933200, 1936800,\n",
              "       1940400, 1944000, 1947600, 1951200, 1954800, 1958400, 1962000,\n",
              "       1965600, 1969200, 1972800, 1976400, 1980000, 1983600, 1987200,\n",
              "       1990800, 1994400, 1998000, 2001600, 2005200, 2008800, 2012400,\n",
              "       2016000, 2019600, 2023200, 2026800, 2030400, 2034000, 2037600,\n",
              "       2041200, 2044800, 2048400, 2052000, 2055600, 2059200, 2062800,\n",
              "       2066400, 2070000, 2073600, 2077200, 2080800, 2084400, 2088000,\n",
              "       2091600, 2095200, 2098800, 2102400, 2106000, 2109600, 2113200,\n",
              "       2116800, 2120400, 2124000, 2127600, 2131200, 2134800, 2138400,\n",
              "       2142000, 2145600, 2149200, 2152800, 2156400, 2160000, 2163600,\n",
              "       2167200, 2170800, 2174400, 2178000, 2181600, 2185200, 2188800,\n",
              "       2192400, 2196000, 2199600, 2203200, 2206800, 2210400, 2214000,\n",
              "       2217600, 2221200, 2224800, 2228400, 2232000, 2235600, 2239200,\n",
              "       2242800, 2246400, 2250000, 2253600, 2257200, 2260800, 2264400,\n",
              "       2268000, 2271600, 2275200, 2278800, 2282400, 2286000, 2289600,\n",
              "       2293200, 2296800, 2300400, 2304000, 2307600, 2311200, 2314800,\n",
              "       2318400, 2322000, 2325600, 2329200, 2332800, 2336400, 2340000,\n",
              "       2343600, 2347200, 2350800, 2354400, 2358000, 2361600, 2365200,\n",
              "       2368800, 2372400, 2376000, 2379600, 2383200, 2386800, 2390400,\n",
              "       2394000, 2397600, 2401200, 2404800, 2408400, 2412000, 2415600,\n",
              "       2419200, 2422800, 2426400, 2430000, 2433600, 2437200, 2440800,\n",
              "       2444400, 2448000, 2451600, 2455200, 2458800, 2462400, 2466000,\n",
              "       2469600, 2473200, 2476800, 2480400, 2484000, 2487600, 2491200,\n",
              "       2494800, 2498400, 2502000, 2505600, 2509200, 2512800, 2516400,\n",
              "       2520000, 2523600, 2527200, 2530800, 2534400, 2538000, 2541600,\n",
              "       2545200, 2548800, 2552400, 2556000, 2559600, 2563200, 2566800,\n",
              "       2570400, 2574000, 2577600, 2581200, 2584800, 2588400, 2592000,\n",
              "       2595600, 2599200, 2602800, 2606400, 2610000, 2613600, 2617200,\n",
              "       2620800, 2624400, 2628000, 2631600, 2635200, 2638800, 2642400,\n",
              "       2646000, 2649600, 2653200, 2656800, 2660400, 2664000, 2667600,\n",
              "       2671200, 2674800])"
            ]
          },
          "metadata": {},
          "execution_count": 40
        }
      ],
      "source": [
        "collection_times =  np.arange((0),(31*24*60*60),(60*60))\n",
        "collection_times"
      ]
    },
    {
      "cell_type": "code",
      "execution_count": 41,
      "metadata": {
        "colab": {
          "base_uri": "https://localhost:8080/"
        },
        "id": "MWiNcftMF6AB",
        "outputId": "bf37f10b-4f13-4e08-d18a-ccabb0a2b903"
      },
      "outputs": [
        {
          "output_type": "execute_result",
          "data": {
            "text/plain": [
              "array([2557628654, 2594939877, 2636772306, 2682053389, 2730228104,\n",
              "       2782098943, 2835299673, 2891349717, 2948137248, 3000716593,\n",
              "       3043001508, 3083966929, 3140093217, 3209827882, 3281201306,\n",
              "       3350425793, 3420677923, 3490333715, 3562313822, 3637159050,\n",
              "       3712697742, 3790326948, 3866568653, 3942096442, 4016608813,\n",
              "       4089083233, 4160185010, 4232084578, 4304105753, 4379013942,\n",
              "       4451362735, 4534410125, 4614566561, 4695736743, 4774569391,\n",
              "       4856462699, 4940571232, 5027200492, 5114557167, 5201440110,\n",
              "       5288955934, 5371585922, 5456136278, 5538268316, 5618682132,\n",
              "       5699202985, 5779440593, 5857972543, 5935213248, 6012074922,\n",
              "       6088571383, 6165219247, 6242016348, 6318590956, 6395699509,\n",
              "       6473044732, 6551263534, 6629913759, 6709049780, 6788214394,\n",
              "       6866332358, 6944055583, 7022349283, 7101027895, 7178722893,\n",
              "       7256490011])"
            ]
          },
          "metadata": {},
          "execution_count": 41
        }
      ],
      "source": [
        "# Don't worry too much about what goes on in this cell.\n",
        "import pandas as pd\n",
        "population = np.array(pd.read_csv(\"world_population.csv\")['Population'])\n",
        "population"
      ]
    },
    {
      "cell_type": "markdown",
      "metadata": {
        "id": "wNuKV6rrF6AC"
      },
      "source": [
        "Here's how we get the first element of `population`, which is the world population in the first year in the dataset, 1950."
      ]
    },
    {
      "cell_type": "code",
      "execution_count": 42,
      "metadata": {
        "colab": {
          "base_uri": "https://localhost:8080/"
        },
        "id": "f9krYFyBF6AC",
        "outputId": "7ffa58a6-ba02-4891-b2a8-f2f7ffd57976"
      },
      "outputs": [
        {
          "output_type": "execute_result",
          "data": {
            "text/plain": [
              "2557628654"
            ]
          },
          "metadata": {},
          "execution_count": 42
        }
      ],
      "source": [
        "population.item(0)"
      ]
    },
    {
      "cell_type": "markdown",
      "metadata": {
        "id": "yYOtQG9yF6AC"
      },
      "source": [
        "The value of that expression is the number 2557628654 (around 2.5 billion), because that's the first thing in the array `population`.\n",
        "\n",
        "Notice that we wrote `.item(0)`, not `.item(1)`, to get the first element.  This is a weird convention in computer science.  0 is called the *index* of the first item.  It's the number of elements that appear *before* that item.  So 3 is the index of the 4th item.\n",
        "\n",
        "Here are some more examples.  In the examples, we've given names to the things we get out of `population`.  Read and run each cell."
      ]
    },
    {
      "cell_type": "code",
      "execution_count": 43,
      "metadata": {
        "colab": {
          "base_uri": "https://localhost:8080/"
        },
        "id": "SBKDEDk3F6AD",
        "outputId": "5937633e-acef-4bb7-8bb1-dc05d0a3c6e8"
      },
      "outputs": [
        {
          "output_type": "execute_result",
          "data": {
            "text/plain": [
              "2636772306"
            ]
          },
          "metadata": {},
          "execution_count": 43
        }
      ],
      "source": [
        "# The third element in the array is the population\n",
        "# in 1952.\n",
        "population_1952 = population.item(2)\n",
        "population_1952"
      ]
    },
    {
      "cell_type": "code",
      "execution_count": 44,
      "metadata": {
        "colab": {
          "base_uri": "https://localhost:8080/"
        },
        "id": "QsDdi3k8F6AD",
        "outputId": "77718303-1b22-4cec-c3ff-f08ba8bcbe87"
      },
      "outputs": [
        {
          "output_type": "execute_result",
          "data": {
            "text/plain": [
              "3140093217"
            ]
          },
          "metadata": {},
          "execution_count": 44
        }
      ],
      "source": [
        "# The thirteenth element in the array is the population\n",
        "# in 1962 (which is 1950 + 12).\n",
        "population_1962 = population.item(12)\n",
        "population_1962"
      ]
    },
    {
      "cell_type": "code",
      "execution_count": 45,
      "metadata": {
        "colab": {
          "base_uri": "https://localhost:8080/"
        },
        "id": "McWr8nF5F6AD",
        "outputId": "0808c826-9d6c-40f0-d750-4e536c446ffe"
      },
      "outputs": [
        {
          "output_type": "execute_result",
          "data": {
            "text/plain": [
              "7256490011"
            ]
          },
          "metadata": {},
          "execution_count": 45
        }
      ],
      "source": [
        "# The 66th element is the population in 2015.\n",
        "population_2015 = population.item(65)\n",
        "population_2015"
      ]
    },
    {
      "cell_type": "code",
      "execution_count": 46,
      "metadata": {
        "colab": {
          "base_uri": "https://localhost:8080/",
          "height": 218
        },
        "id": "ekn3bVsXF6AE",
        "outputId": "3106c6c7-0808-4cf4-fed6-7ff2ce393f60"
      },
      "outputs": [
        {
          "output_type": "error",
          "ename": "IndexError",
          "evalue": "ignored",
          "traceback": [
            "\u001b[0;31m---------------------------------------------------------------------------\u001b[0m",
            "\u001b[0;31mIndexError\u001b[0m                                Traceback (most recent call last)",
            "\u001b[0;32m<ipython-input-46-21c08771548e>\u001b[0m in \u001b[0;36m<module>\u001b[0;34m\u001b[0m\n\u001b[1;32m      1\u001b[0m \u001b[0;31m# The array has only 66 elements, so this doesn't work.\u001b[0m\u001b[0;34m\u001b[0m\u001b[0;34m\u001b[0m\u001b[0;34m\u001b[0m\u001b[0m\n\u001b[1;32m      2\u001b[0m \u001b[0;31m# (There's no element with 66 other elements before it.)\u001b[0m\u001b[0;34m\u001b[0m\u001b[0;34m\u001b[0m\u001b[0;34m\u001b[0m\u001b[0m\n\u001b[0;32m----> 3\u001b[0;31m \u001b[0mpopulation_2016\u001b[0m \u001b[0;34m=\u001b[0m \u001b[0mpopulation\u001b[0m\u001b[0;34m.\u001b[0m\u001b[0mitem\u001b[0m\u001b[0;34m(\u001b[0m\u001b[0;36m66\u001b[0m\u001b[0;34m)\u001b[0m\u001b[0;34m\u001b[0m\u001b[0;34m\u001b[0m\u001b[0m\n\u001b[0m\u001b[1;32m      4\u001b[0m \u001b[0mpopulation_2016\u001b[0m\u001b[0;34m\u001b[0m\u001b[0;34m\u001b[0m\u001b[0m\n",
            "\u001b[0;31mIndexError\u001b[0m: index 66 is out of bounds for axis 0 with size 66"
          ]
        }
      ],
      "source": [
        "# The array has only 66 elements, so this doesn't work.\n",
        "# (There's no element with 66 other elements before it.)\n",
        "population_2016 = population.item(66)\n",
        "population_2016"
      ]
    },
    {
      "cell_type": "code",
      "execution_count": 47,
      "metadata": {
        "colab": {
          "base_uri": "https://localhost:8080/"
        },
        "id": "GAOYGVnEF6AE",
        "outputId": "72a74d25-7f9f-4ce1-93a6-c0a3d3e20583"
      },
      "outputs": [
        {
          "output_type": "execute_result",
          "data": {
            "text/plain": [
              "-2"
            ]
          },
          "metadata": {},
          "execution_count": 47
        }
      ],
      "source": [
        "# Since np.array returns an array, we can call .item(3)\n",
        "# on its output to get its 4th element, just like we\n",
        "# \"chained\" together calls to the method \"replace\" earlier.\n",
        "np.array([-1, -3, 4, -2]).item(3)"
      ]
    },
    {
      "cell_type": "markdown",
      "metadata": {
        "id": "eEZ0NAmdF6AE"
      },
      "source": [
        "**Question 4.2.1.** Set `population_1973` to the world population in 1973, by getting the appropriate element from `population` using `item`."
      ]
    },
    {
      "cell_type": "code",
      "execution_count": 49,
      "metadata": {
        "colab": {
          "base_uri": "https://localhost:8080/"
        },
        "id": "Rs51IZmeF6AE",
        "outputId": "61c8f286-56b0-49d2-d4b5-61997d37daa4"
      },
      "outputs": [
        {
          "output_type": "execute_result",
          "data": {
            "text/plain": [
              "3942096442"
            ]
          },
          "metadata": {},
          "execution_count": 49
        }
      ],
      "source": [
        "population_1973 = population.item(23)\n",
        "population_1973"
      ]
    },
    {
      "cell_type": "markdown",
      "metadata": {
        "id": "EFZZXc4GF6AF"
      },
      "source": [
        "## 4.3. Doing something to every element of an array\n",
        "Arrays are primarily useful for doing the same operation many times, so we don't often have to use `.item` and work with single elements.\n",
        "\n",
        "##### Logarithms\n",
        "Here is one simple question we might ask about world population:\n",
        "\n",
        "> How big was the population in *orders of magnitude* in each year?\n",
        "\n",
        "The logarithm function is one way of measuring how big a number is. The logarithm (base 10) of a number increases by 1 every time we multiply the number by 10. It's like a measure of how many decimal digits the number has, or how big it is in orders of magnitude.\n",
        "\n",
        "We could try to answer our question like this, using the `log10` function from the `math` module and the `item` method you just saw:"
      ]
    },
    {
      "cell_type": "code",
      "execution_count": 51,
      "metadata": {
        "colab": {
          "base_uri": "https://localhost:8080/"
        },
        "id": "6BmsZSYoF6AF",
        "outputId": "16deb7b4-c492-4997-87a0-dacc723aa9af"
      },
      "outputs": [
        {
          "output_type": "execute_result",
          "data": {
            "text/plain": [
              "Ellipsis"
            ]
          },
          "metadata": {},
          "execution_count": 51
        }
      ],
      "source": [
        "import math\n",
        "\n",
        "population_1950_magnitude = math.log10(population.item(0))\n",
        "population_1951_magnitude = math.log10(population.item(1))\n",
        "population_1952_magnitude = math.log10(population.item(2))\n",
        "population_1953_magnitude = math.log10(population.item(3))\n",
        "..."
      ]
    },
    {
      "cell_type": "markdown",
      "metadata": {
        "id": "zcodrB0LF6AF"
      },
      "source": [
        "But this is tedious and doesn't really take advantage of the fact that we are using a computer.\n",
        "\n",
        "Instead, NumPy provides its own version of `log10` that takes the logarithm of each element of an array.  It takes a single array of numbers as its argument.  It returns an array of the same length, where the first element of the result is the logarithm of the first element of the argument, and so on.\n",
        "\n",
        "**Question 4.3.1.** Use it to compute the logarithms of the world population in every year.  Give the result (an array of 66 numbers) the name `population_magnitudes`.  Your code should be very short."
      ]
    },
    {
      "cell_type": "code",
      "execution_count": 52,
      "metadata": {
        "colab": {
          "base_uri": "https://localhost:8080/"
        },
        "id": "kR0vKJX7F6AF",
        "outputId": "f9c23cd4-76b8-4157-b352-0ea1203ea6bc"
      },
      "outputs": [
        {
          "output_type": "execute_result",
          "data": {
            "text/plain": [
              "array([ 9.40783749,  9.4141273 ,  9.42107263,  9.42846742,  9.43619893,\n",
              "        9.44437257,  9.45259897,  9.46110062,  9.4695477 ,  9.47722498,\n",
              "        9.48330217,  9.48910971,  9.49694254,  9.50648175,  9.51603288,\n",
              "        9.5251    ,  9.53411218,  9.54286695,  9.55173218,  9.56076229,\n",
              "        9.56968959,  9.57867667,  9.58732573,  9.59572724,  9.60385954,\n",
              "        9.61162595,  9.61911264,  9.62655434,  9.63388293,  9.64137633,\n",
              "        9.64849299,  9.6565208 ,  9.66413091,  9.67170374,  9.67893421,\n",
              "        9.68632006,  9.69377717,  9.70132621,  9.70880804,  9.7161236 ,\n",
              "        9.72336995,  9.73010253,  9.73688521,  9.74337399,  9.74963446,\n",
              "        9.75581413,  9.7618858 ,  9.76774733,  9.77343633,  9.77902438,\n",
              "        9.7845154 ,  9.78994853,  9.7953249 ,  9.80062024,  9.80588805,\n",
              "        9.81110861,  9.81632507,  9.82150788,  9.82666101,  9.83175555,\n",
              "        9.83672482,  9.84161319,  9.84648243,  9.85132122,  9.85604719,\n",
              "        9.8607266 ])"
            ]
          },
          "metadata": {},
          "execution_count": 52
        }
      ],
      "source": [
        "population_magnitudes = np.log10(population)\n",
        "population_magnitudes"
      ]
    },
    {
      "cell_type": "markdown",
      "metadata": {
        "id": "OHPRa0zoF6AF"
      },
      "source": [
        "<img src=\"images/array_logarithm.jpg\">\n",
        "\n",
        "This is called *elementwise* application of the function, since it operates separately on each element of the array it's called on.  The textbook's section on arrays has a useful list of NumPy functions that are designed to work elementwise, like `np.log10`.\n",
        "\n",
        "##### Arithmetic\n",
        "Arithmetic also works elementwise on arrays.  For example, you can divide all the population numbers by 1 billion to get numbers in billions:"
      ]
    },
    {
      "cell_type": "code",
      "execution_count": 53,
      "metadata": {
        "colab": {
          "base_uri": "https://localhost:8080/"
        },
        "id": "RI2fdrdHF6AG",
        "outputId": "ff0dfb32-2fa2-4965-b948-48f1483ddec5"
      },
      "outputs": [
        {
          "output_type": "execute_result",
          "data": {
            "text/plain": [
              "array([ 2.55762865,  2.59493988,  2.63677231,  2.68205339,  2.7302281 ,\n",
              "        2.78209894,  2.83529967,  2.89134972,  2.94813725,  3.00071659,\n",
              "        3.04300151,  3.08396693,  3.14009322,  3.20982788,  3.28120131,\n",
              "        3.35042579,  3.42067792,  3.49033371,  3.56231382,  3.63715905,\n",
              "        3.71269774,  3.79032695,  3.86656865,  3.94209644,  4.01660881,\n",
              "        4.08908323,  4.16018501,  4.23208458,  4.30410575,  4.37901394,\n",
              "        4.45136274,  4.53441012,  4.61456656,  4.69573674,  4.77456939,\n",
              "        4.8564627 ,  4.94057123,  5.02720049,  5.11455717,  5.20144011,\n",
              "        5.28895593,  5.37158592,  5.45613628,  5.53826832,  5.61868213,\n",
              "        5.69920299,  5.77944059,  5.85797254,  5.93521325,  6.01207492,\n",
              "        6.08857138,  6.16521925,  6.24201635,  6.31859096,  6.39569951,\n",
              "        6.47304473,  6.55126353,  6.62991376,  6.70904978,  6.78821439,\n",
              "        6.86633236,  6.94405558,  7.02234928,  7.10102789,  7.17872289,\n",
              "        7.25649001])"
            ]
          },
          "metadata": {},
          "execution_count": 53
        }
      ],
      "source": [
        "population_in_billions = population / 1000000000\n",
        "population_in_billions"
      ]
    },
    {
      "cell_type": "markdown",
      "metadata": {
        "id": "18OoElAOF6AG"
      },
      "source": [
        "You can do the same with addition, subtraction, multiplication, and exponentiation (`**`). For example, you can calculate a tip on several restaurant bills at once (in this case just 3):"
      ]
    },
    {
      "cell_type": "code",
      "execution_count": 54,
      "metadata": {
        "colab": {
          "base_uri": "https://localhost:8080/"
        },
        "id": "myxQXlj8F6AG",
        "outputId": "115590d7-1cdd-4ced-c143-a4d65ea2c432"
      },
      "outputs": [
        {
          "output_type": "stream",
          "name": "stdout",
          "text": [
            "Restaurant bills:\t [ 20.12  39.9   31.01]\n",
            "Tips:\t\t\t [ 4.024  7.98   6.202]\n"
          ]
        }
      ],
      "source": [
        "restaurant_bills = np.array([20.12, 39.90, 31.01])\n",
        "print(\"Restaurant bills:\\t\", restaurant_bills)\n",
        "tips = .2 * restaurant_bills\n",
        "print(\"Tips:\\t\\t\\t\", tips)"
      ]
    },
    {
      "cell_type": "markdown",
      "metadata": {
        "id": "gg9ej0ZJF6AG"
      },
      "source": [
        "<img src=\"images/array_multiplication.jpg\">\n",
        "\n",
        "**Question 4.3.2.** Suppose the total charge at a restaurant is the original bill plus the tip.  That means we can multiply the original bill by 1.2 to get the total charge.  Compute the total charge for each bill in `restaurant_bills`."
      ]
    },
    {
      "cell_type": "code",
      "execution_count": 55,
      "metadata": {
        "colab": {
          "base_uri": "https://localhost:8080/"
        },
        "id": "Tc4qqZphF6AG",
        "outputId": "6fa4bf24-3d4a-4133-c87f-3a40190c8ecd"
      },
      "outputs": [
        {
          "output_type": "execute_result",
          "data": {
            "text/plain": [
              "array([ 24.144,  47.88 ,  37.212])"
            ]
          },
          "metadata": {},
          "execution_count": 55
        }
      ],
      "source": [
        "total_charges = 1.2*restaurant_bills\n",
        "total_charges"
      ]
    },
    {
      "cell_type": "markdown",
      "metadata": {
        "id": "SMQJYYzRF6AH"
      },
      "source": [
        "**Question 4.3.3.** `more_restaurant_bills.csv` contains 100,000 bills!  Compute the total charge for each one.  How is your code different?"
      ]
    },
    {
      "cell_type": "code",
      "execution_count": 58,
      "metadata": {
        "colab": {
          "base_uri": "https://localhost:8080/"
        },
        "id": "Ged-po4FF6AH",
        "outputId": "c163e34a-45b0-4fdb-f369-3d2bf5ae9545"
      },
      "outputs": [
        {
          "output_type": "execute_result",
          "data": {
            "text/plain": [
              "array([ 20.244,  20.892,  12.216, ...,  19.308,  18.336,  35.664])"
            ]
          },
          "metadata": {},
          "execution_count": 58
        }
      ],
      "source": [
        "more_restaurant_bills = np.array(pd.read_csv(\"more_restaurant_bills.csv\")[\"Bill\"])\n",
        "more_total_charges = 1.2*more_restaurant_bills\n",
        "more_total_charges"
      ]
    },
    {
      "cell_type": "markdown",
      "metadata": {
        "id": "9y2m551IF6AH"
      },
      "source": [
        "The function `sum` takes a single array of numbers as its argument.  It returns the sum of all the numbers in that array (so it returns a single number, not an array).\n",
        "\n",
        "**Question 4.3.4.** What was the sum of all the bills in `more_restaurant_bills`, *including tips*?"
      ]
    },
    {
      "cell_type": "code",
      "execution_count": 59,
      "metadata": {
        "colab": {
          "base_uri": "https://localhost:8080/"
        },
        "id": "EI9OFP-QF6AH",
        "outputId": "91673568-2bc1-4345-ff62-af29f94e8639"
      },
      "outputs": [
        {
          "output_type": "execute_result",
          "data": {
            "text/plain": [
              "1795730.0640000193"
            ]
          },
          "metadata": {},
          "execution_count": 59
        }
      ],
      "source": [
        "sum_of_bills = sum(more_total_charges)\n",
        "sum_of_bills"
      ]
    },
    {
      "cell_type": "markdown",
      "metadata": {
        "id": "UTw4Zz4CF6AH"
      },
      "source": [
        "**Question 4.3.5.** The powers of 2 ($2^0 = 1$, $2^1 = 2$, $2^2 = 4$, etc) arise frequently in computer science.  (For example, you may have noticed that storage on smartphones or USBs come in powers of 2, like 16 GB, 32 GB, or 64 GB.)  Use `np.arange` and the exponentiation operator `**` to compute the first 30 powers of 2, starting from `2^0`."
      ]
    },
    {
      "cell_type": "code",
      "execution_count": 60,
      "metadata": {
        "colab": {
          "base_uri": "https://localhost:8080/"
        },
        "id": "L3WmyyHpF6AH",
        "outputId": "0f6206ea-31bd-4ed3-c033-17fa9f035014"
      },
      "outputs": [
        {
          "output_type": "execute_result",
          "data": {
            "text/plain": [
              "array([    1,     2,     4,     8,    16,    32,    64,   128,   256,\n",
              "         512,  1024,  2048,  4096,  8192, 16384])"
            ]
          },
          "metadata": {},
          "execution_count": 60
        }
      ],
      "source": [
        "powers_of_2 = 2**((np.arange(0,15,1)))\n",
        "powers_of_2"
      ]
    },
    {
      "cell_type": "markdown",
      "metadata": {
        "id": "7KkoFtEUF6AI"
      },
      "source": [
        "You're done with Lab 1b!\n",
        "\n",
        "Choose **Save and Checkpoint** from the **File** menu to save your work.\n",
        "\n",
        "If you are running the labs in Binder (on the cloud), then choose **Download as Notebook** and save it to your computer. \n",
        "\n",
        "You can then move on to [Lab 1c](Lab1c_Python_Tables.ipynb)."
      ]
    }
  ],
  "metadata": {
    "anaconda-cloud": {},
    "kernelspec": {
      "display_name": "Python 3",
      "language": "python",
      "name": "python3"
    },
    "language_info": {
      "codemirror_mode": {
        "name": "ipython",
        "version": 3
      },
      "file_extension": ".py",
      "mimetype": "text/x-python",
      "name": "python",
      "nbconvert_exporter": "python",
      "pygments_lexer": "ipython3",
      "version": "3.8.5"
    },
    "colab": {
      "provenance": [],
      "collapsed_sections": []
    }
  },
  "nbformat": 4,
  "nbformat_minor": 0
}