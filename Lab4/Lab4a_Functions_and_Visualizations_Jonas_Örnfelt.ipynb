{
  "cells": [
    {
      "cell_type": "markdown",
      "metadata": {
        "id": "g1t8iXKhYXrW"
      },
      "source": [
        "# Lab 4a: Functions and Visualizations"
      ]
    },
    {
      "cell_type": "markdown",
      "metadata": {
        "id": "G1rtCxwTYXrZ"
      },
      "source": [
        "Welcome to Lab 4a. In this lab, we'll practice writing *functions* and using the `DataFrame` method `apply`.  We'll also learn about visualization using `matplotlib`.\n",
        "\n",
        "First, set up the imports by running the cell below."
      ]
    },
    {
      "cell_type": "code",
      "execution_count": 106,
      "metadata": {
        "id": "Md12iOxaYXrb"
      },
      "outputs": [],
      "source": [
        "import numpy as np\n",
        "import pandas as pd\n",
        "import matplotlib\n",
        "%matplotlib inline\n",
        "import matplotlib.pyplot as plt\n",
        "import warnings\n",
        "warnings.simplefilter('ignore', FutureWarning)\n",
        "from ipywidgets import interact, interactive, fixed, interact_manual\n",
        "import ipywidgets as widgets"
      ]
    },
    {
      "cell_type": "markdown",
      "metadata": {
        "id": "Ys8lPwHpYXrc"
      },
      "source": [
        "## 1. Functions and CEO Incomes\n",
        "\n",
        "Let's start with a real data analysis task.  We'll look at the 2015 compensation of CEOs at the 100 largest companies in California.  The data were compiled for a Los Angeles Times analysis [here](http://spreadsheets.latimes.com/california-ceo-compensation/), and ultimately came from [filings](https://www.sec.gov/answers/proxyhtf.htm) mandated by the SEC from all publicly-traded companies.  Two companies have two CEOs, so there are 102 CEOs in the dataset.\n",
        "\n",
        "We've copied the data in raw form from the LA Times page into a file called `raw_compensation.csv`.  (The page notes that all dollar amounts are in millions of dollars.)"
      ]
    },
    {
      "cell_type": "code",
      "source": [
        "# Use google drive to load dataset\n",
        "from google.colab import drive\n",
        "drive.mount('/content/drive')\n",
        "gdrive = '/content/drive/MyDrive/data/'"
      ],
      "metadata": {
        "colab": {
          "base_uri": "https://localhost:8080/"
        },
        "id": "vN2qFzeJkqrC",
        "outputId": "75f4b0fb-ce74-4797-9c93-d31fd021c9a8"
      },
      "execution_count": 107,
      "outputs": [
        {
          "output_type": "stream",
          "name": "stdout",
          "text": [
            "Drive already mounted at /content/drive; to attempt to forcibly remount, call drive.mount(\"/content/drive\", force_remount=True).\n"
          ]
        }
      ]
    },
    {
      "cell_type": "code",
      "execution_count": 108,
      "metadata": {
        "colab": {
          "base_uri": "https://localhost:8080/",
          "height": 424
        },
        "id": "y5BnvBvAYXre",
        "outputId": "e99c06c4-8528-4994-a414-9855ed0d6d5b"
      },
      "outputs": [
        {
          "output_type": "execute_result",
          "data": {
            "text/plain": [
              "     Rank                Name                 Company (Headquarters)  \\\n",
              "0       1       Mark V. Hurd*                  Oracle (Redwood City)   \n",
              "1       2      Safra A. Catz*                  Oracle (Redwood City)   \n",
              "2       3      Robert A. Iger                  Walt Disney (Burbank)   \n",
              "3       4    Marissa A. Mayer                     Yahoo! (Sunnyvale)   \n",
              "4       5        Marc Benioff         salesforce.com (San Francisco)   \n",
              "..    ...                 ...                                    ...   \n",
              "97     98  Gregory N. Roberts  A-Mark Precious Metals (Santa Monica)   \n",
              "98     99     Jose L. Laparte                 PriceSmart (San Diego)   \n",
              "99    100         Jack Dorsey                Twitter (San Francisco)   \n",
              "100   101        Elon R. Musk               Tesla Motors (Palo Alto)   \n",
              "101   102    Lawrence Page***               Alphabet (Mountain View)   \n",
              "\n",
              "    Total Pay            % Change Cash Pay Equity Pay Other Pay  \\\n",
              "0     $53.25   (No previous year)   $0.95     $52.27     $0.02    \n",
              "1     $53.24   (No previous year)   $0.95     $52.27     $0.02    \n",
              "2     $44.91                  -3%  $24.89     $17.28     $2.74    \n",
              "3     $35.98                 -15%   $1.00     $34.43     $0.55    \n",
              "4     $33.36                 -16%   $4.65     $27.26     $1.45    \n",
              "..        ...                 ...      ...        ...       ...   \n",
              "97     $0.94                 -11%   $0.93      $0.00     $0.02    \n",
              "98     $0.81                  -7%   $0.71      $0.00     $0.10    \n",
              "99     $0.07   (No previous year)   $0.00      $0.00     $0.07    \n",
              "100    $0.04                   6%   $0.04      $0.00     $0.00    \n",
              "101    $0.00                   0%   $0.00      $0.00     $0.00    \n",
              "\n",
              "     Ratio of CEO pay to average industry worker pay  \n",
              "0                                          362.00000  \n",
              "1                                          362.00000  \n",
              "2                                          477.00000  \n",
              "3                                          342.00000  \n",
              "4                                          338.00000  \n",
              "..                                               ...  \n",
              "97                                          17.00000  \n",
              "98                                          32.00000  \n",
              "99                                           0.63000  \n",
              "100                                          0.46000  \n",
              "101                                          0.00001  \n",
              "\n",
              "[102 rows x 9 columns]"
            ],
            "text/html": [
              "\n",
              "  <div id=\"df-a0bceb4e-3e1e-4b32-a64b-0f57d47210e7\">\n",
              "    <div class=\"colab-df-container\">\n",
              "      <div>\n",
              "<style scoped>\n",
              "    .dataframe tbody tr th:only-of-type {\n",
              "        vertical-align: middle;\n",
              "    }\n",
              "\n",
              "    .dataframe tbody tr th {\n",
              "        vertical-align: top;\n",
              "    }\n",
              "\n",
              "    .dataframe thead th {\n",
              "        text-align: right;\n",
              "    }\n",
              "</style>\n",
              "<table border=\"1\" class=\"dataframe\">\n",
              "  <thead>\n",
              "    <tr style=\"text-align: right;\">\n",
              "      <th></th>\n",
              "      <th>Rank</th>\n",
              "      <th>Name</th>\n",
              "      <th>Company (Headquarters)</th>\n",
              "      <th>Total Pay</th>\n",
              "      <th>% Change</th>\n",
              "      <th>Cash Pay</th>\n",
              "      <th>Equity Pay</th>\n",
              "      <th>Other Pay</th>\n",
              "      <th>Ratio of CEO pay to average industry worker pay</th>\n",
              "    </tr>\n",
              "  </thead>\n",
              "  <tbody>\n",
              "    <tr>\n",
              "      <th>0</th>\n",
              "      <td>1</td>\n",
              "      <td>Mark V. Hurd*</td>\n",
              "      <td>Oracle (Redwood City)</td>\n",
              "      <td>$53.25</td>\n",
              "      <td>(No previous year)</td>\n",
              "      <td>$0.95</td>\n",
              "      <td>$52.27</td>\n",
              "      <td>$0.02</td>\n",
              "      <td>362.00000</td>\n",
              "    </tr>\n",
              "    <tr>\n",
              "      <th>1</th>\n",
              "      <td>2</td>\n",
              "      <td>Safra A. Catz*</td>\n",
              "      <td>Oracle (Redwood City)</td>\n",
              "      <td>$53.24</td>\n",
              "      <td>(No previous year)</td>\n",
              "      <td>$0.95</td>\n",
              "      <td>$52.27</td>\n",
              "      <td>$0.02</td>\n",
              "      <td>362.00000</td>\n",
              "    </tr>\n",
              "    <tr>\n",
              "      <th>2</th>\n",
              "      <td>3</td>\n",
              "      <td>Robert A. Iger</td>\n",
              "      <td>Walt Disney (Burbank)</td>\n",
              "      <td>$44.91</td>\n",
              "      <td>-3%</td>\n",
              "      <td>$24.89</td>\n",
              "      <td>$17.28</td>\n",
              "      <td>$2.74</td>\n",
              "      <td>477.00000</td>\n",
              "    </tr>\n",
              "    <tr>\n",
              "      <th>3</th>\n",
              "      <td>4</td>\n",
              "      <td>Marissa A. Mayer</td>\n",
              "      <td>Yahoo! (Sunnyvale)</td>\n",
              "      <td>$35.98</td>\n",
              "      <td>-15%</td>\n",
              "      <td>$1.00</td>\n",
              "      <td>$34.43</td>\n",
              "      <td>$0.55</td>\n",
              "      <td>342.00000</td>\n",
              "    </tr>\n",
              "    <tr>\n",
              "      <th>4</th>\n",
              "      <td>5</td>\n",
              "      <td>Marc Benioff</td>\n",
              "      <td>salesforce.com (San Francisco)</td>\n",
              "      <td>$33.36</td>\n",
              "      <td>-16%</td>\n",
              "      <td>$4.65</td>\n",
              "      <td>$27.26</td>\n",
              "      <td>$1.45</td>\n",
              "      <td>338.00000</td>\n",
              "    </tr>\n",
              "    <tr>\n",
              "      <th>...</th>\n",
              "      <td>...</td>\n",
              "      <td>...</td>\n",
              "      <td>...</td>\n",
              "      <td>...</td>\n",
              "      <td>...</td>\n",
              "      <td>...</td>\n",
              "      <td>...</td>\n",
              "      <td>...</td>\n",
              "      <td>...</td>\n",
              "    </tr>\n",
              "    <tr>\n",
              "      <th>97</th>\n",
              "      <td>98</td>\n",
              "      <td>Gregory N. Roberts</td>\n",
              "      <td>A-Mark Precious Metals (Santa Monica)</td>\n",
              "      <td>$0.94</td>\n",
              "      <td>-11%</td>\n",
              "      <td>$0.93</td>\n",
              "      <td>$0.00</td>\n",
              "      <td>$0.02</td>\n",
              "      <td>17.00000</td>\n",
              "    </tr>\n",
              "    <tr>\n",
              "      <th>98</th>\n",
              "      <td>99</td>\n",
              "      <td>Jose L. Laparte</td>\n",
              "      <td>PriceSmart (San Diego)</td>\n",
              "      <td>$0.81</td>\n",
              "      <td>-7%</td>\n",
              "      <td>$0.71</td>\n",
              "      <td>$0.00</td>\n",
              "      <td>$0.10</td>\n",
              "      <td>32.00000</td>\n",
              "    </tr>\n",
              "    <tr>\n",
              "      <th>99</th>\n",
              "      <td>100</td>\n",
              "      <td>Jack Dorsey</td>\n",
              "      <td>Twitter (San Francisco)</td>\n",
              "      <td>$0.07</td>\n",
              "      <td>(No previous year)</td>\n",
              "      <td>$0.00</td>\n",
              "      <td>$0.00</td>\n",
              "      <td>$0.07</td>\n",
              "      <td>0.63000</td>\n",
              "    </tr>\n",
              "    <tr>\n",
              "      <th>100</th>\n",
              "      <td>101</td>\n",
              "      <td>Elon R. Musk</td>\n",
              "      <td>Tesla Motors (Palo Alto)</td>\n",
              "      <td>$0.04</td>\n",
              "      <td>6%</td>\n",
              "      <td>$0.04</td>\n",
              "      <td>$0.00</td>\n",
              "      <td>$0.00</td>\n",
              "      <td>0.46000</td>\n",
              "    </tr>\n",
              "    <tr>\n",
              "      <th>101</th>\n",
              "      <td>102</td>\n",
              "      <td>Lawrence Page***</td>\n",
              "      <td>Alphabet (Mountain View)</td>\n",
              "      <td>$0.00</td>\n",
              "      <td>0%</td>\n",
              "      <td>$0.00</td>\n",
              "      <td>$0.00</td>\n",
              "      <td>$0.00</td>\n",
              "      <td>0.00001</td>\n",
              "    </tr>\n",
              "  </tbody>\n",
              "</table>\n",
              "<p>102 rows × 9 columns</p>\n",
              "</div>\n",
              "      <button class=\"colab-df-convert\" onclick=\"convertToInteractive('df-a0bceb4e-3e1e-4b32-a64b-0f57d47210e7')\"\n",
              "              title=\"Convert this dataframe to an interactive table.\"\n",
              "              style=\"display:none;\">\n",
              "        \n",
              "  <svg xmlns=\"http://www.w3.org/2000/svg\" height=\"24px\"viewBox=\"0 0 24 24\"\n",
              "       width=\"24px\">\n",
              "    <path d=\"M0 0h24v24H0V0z\" fill=\"none\"/>\n",
              "    <path d=\"M18.56 5.44l.94 2.06.94-2.06 2.06-.94-2.06-.94-.94-2.06-.94 2.06-2.06.94zm-11 1L8.5 8.5l.94-2.06 2.06-.94-2.06-.94L8.5 2.5l-.94 2.06-2.06.94zm10 10l.94 2.06.94-2.06 2.06-.94-2.06-.94-.94-2.06-.94 2.06-2.06.94z\"/><path d=\"M17.41 7.96l-1.37-1.37c-.4-.4-.92-.59-1.43-.59-.52 0-1.04.2-1.43.59L10.3 9.45l-7.72 7.72c-.78.78-.78 2.05 0 2.83L4 21.41c.39.39.9.59 1.41.59.51 0 1.02-.2 1.41-.59l7.78-7.78 2.81-2.81c.8-.78.8-2.07 0-2.86zM5.41 20L4 18.59l7.72-7.72 1.47 1.35L5.41 20z\"/>\n",
              "  </svg>\n",
              "      </button>\n",
              "      \n",
              "  <style>\n",
              "    .colab-df-container {\n",
              "      display:flex;\n",
              "      flex-wrap:wrap;\n",
              "      gap: 12px;\n",
              "    }\n",
              "\n",
              "    .colab-df-convert {\n",
              "      background-color: #E8F0FE;\n",
              "      border: none;\n",
              "      border-radius: 50%;\n",
              "      cursor: pointer;\n",
              "      display: none;\n",
              "      fill: #1967D2;\n",
              "      height: 32px;\n",
              "      padding: 0 0 0 0;\n",
              "      width: 32px;\n",
              "    }\n",
              "\n",
              "    .colab-df-convert:hover {\n",
              "      background-color: #E2EBFA;\n",
              "      box-shadow: 0px 1px 2px rgba(60, 64, 67, 0.3), 0px 1px 3px 1px rgba(60, 64, 67, 0.15);\n",
              "      fill: #174EA6;\n",
              "    }\n",
              "\n",
              "    [theme=dark] .colab-df-convert {\n",
              "      background-color: #3B4455;\n",
              "      fill: #D2E3FC;\n",
              "    }\n",
              "\n",
              "    [theme=dark] .colab-df-convert:hover {\n",
              "      background-color: #434B5C;\n",
              "      box-shadow: 0px 1px 3px 1px rgba(0, 0, 0, 0.15);\n",
              "      filter: drop-shadow(0px 1px 2px rgba(0, 0, 0, 0.3));\n",
              "      fill: #FFFFFF;\n",
              "    }\n",
              "  </style>\n",
              "\n",
              "      <script>\n",
              "        const buttonEl =\n",
              "          document.querySelector('#df-a0bceb4e-3e1e-4b32-a64b-0f57d47210e7 button.colab-df-convert');\n",
              "        buttonEl.style.display =\n",
              "          google.colab.kernel.accessAllowed ? 'block' : 'none';\n",
              "\n",
              "        async function convertToInteractive(key) {\n",
              "          const element = document.querySelector('#df-a0bceb4e-3e1e-4b32-a64b-0f57d47210e7');\n",
              "          const dataTable =\n",
              "            await google.colab.kernel.invokeFunction('convertToInteractive',\n",
              "                                                     [key], {});\n",
              "          if (!dataTable) return;\n",
              "\n",
              "          const docLinkHtml = 'Like what you see? Visit the ' +\n",
              "            '<a target=\"_blank\" href=https://colab.research.google.com/notebooks/data_table.ipynb>data table notebook</a>'\n",
              "            + ' to learn more about interactive tables.';\n",
              "          element.innerHTML = '';\n",
              "          dataTable['output_type'] = 'display_data';\n",
              "          await google.colab.output.renderOutput(dataTable, element);\n",
              "          const docLink = document.createElement('div');\n",
              "          docLink.innerHTML = docLinkHtml;\n",
              "          element.appendChild(docLink);\n",
              "        }\n",
              "      </script>\n",
              "    </div>\n",
              "  </div>\n",
              "  "
            ]
          },
          "metadata": {},
          "execution_count": 108
        }
      ],
      "source": [
        "#raw_compensation = pd.read_csv('raw_compensation.csv')\n",
        "raw_compensation = pd.read_csv(gdrive + 'raw_compensation.csv')\n",
        "raw_compensation"
      ]
    },
    {
      "cell_type": "markdown",
      "metadata": {
        "id": "wIny-xPhYXrf"
      },
      "source": [
        "**Question 1.** We want to compute the average of the CEOs' pay. Try running the cell below."
      ]
    },
    {
      "cell_type": "code",
      "execution_count": 109,
      "metadata": {
        "colab": {
          "base_uri": "https://localhost:8080/",
          "height": 346
        },
        "id": "jIUNTCdVYXrf",
        "outputId": "84e97bd1-cebd-4be5-fe04-b7ea9d903ed0"
      },
      "outputs": [
        {
          "output_type": "error",
          "ename": "TypeError",
          "evalue": "ignored",
          "traceback": [
            "\u001b[0;31m---------------------------------------------------------------------------\u001b[0m",
            "\u001b[0;31mTypeError\u001b[0m                                 Traceback (most recent call last)",
            "\u001b[0;32m<ipython-input-109-c8f7ee19ec67>\u001b[0m in \u001b[0;36m<module>\u001b[0;34m\u001b[0m\n\u001b[0;32m----> 1\u001b[0;31m \u001b[0mnp\u001b[0m\u001b[0;34m.\u001b[0m\u001b[0maverage\u001b[0m\u001b[0;34m(\u001b[0m\u001b[0mraw_compensation\u001b[0m\u001b[0;34m[\u001b[0m\u001b[0;34m\"Total Pay\"\u001b[0m\u001b[0;34m]\u001b[0m\u001b[0;34m)\u001b[0m\u001b[0;34m\u001b[0m\u001b[0;34m\u001b[0m\u001b[0m\n\u001b[0m",
            "\u001b[0;32m<__array_function__ internals>\u001b[0m in \u001b[0;36maverage\u001b[0;34m(*args, **kwargs)\u001b[0m\n",
            "\u001b[0;32m/usr/local/lib/python3.7/dist-packages/numpy/lib/function_base.py\u001b[0m in \u001b[0;36maverage\u001b[0;34m(a, axis, weights, returned)\u001b[0m\n\u001b[1;32m    378\u001b[0m \u001b[0;34m\u001b[0m\u001b[0m\n\u001b[1;32m    379\u001b[0m     \u001b[0;32mif\u001b[0m \u001b[0mweights\u001b[0m \u001b[0;32mis\u001b[0m \u001b[0;32mNone\u001b[0m\u001b[0;34m:\u001b[0m\u001b[0;34m\u001b[0m\u001b[0;34m\u001b[0m\u001b[0m\n\u001b[0;32m--> 380\u001b[0;31m         \u001b[0mavg\u001b[0m \u001b[0;34m=\u001b[0m \u001b[0ma\u001b[0m\u001b[0;34m.\u001b[0m\u001b[0mmean\u001b[0m\u001b[0;34m(\u001b[0m\u001b[0maxis\u001b[0m\u001b[0;34m)\u001b[0m\u001b[0;34m\u001b[0m\u001b[0;34m\u001b[0m\u001b[0m\n\u001b[0m\u001b[1;32m    381\u001b[0m         \u001b[0mscl\u001b[0m \u001b[0;34m=\u001b[0m \u001b[0mavg\u001b[0m\u001b[0;34m.\u001b[0m\u001b[0mdtype\u001b[0m\u001b[0;34m.\u001b[0m\u001b[0mtype\u001b[0m\u001b[0;34m(\u001b[0m\u001b[0ma\u001b[0m\u001b[0;34m.\u001b[0m\u001b[0msize\u001b[0m\u001b[0;34m/\u001b[0m\u001b[0mavg\u001b[0m\u001b[0;34m.\u001b[0m\u001b[0msize\u001b[0m\u001b[0;34m)\u001b[0m\u001b[0;34m\u001b[0m\u001b[0;34m\u001b[0m\u001b[0m\n\u001b[1;32m    382\u001b[0m     \u001b[0;32melse\u001b[0m\u001b[0;34m:\u001b[0m\u001b[0;34m\u001b[0m\u001b[0;34m\u001b[0m\u001b[0m\n",
            "\u001b[0;32m/usr/local/lib/python3.7/dist-packages/numpy/core/_methods.py\u001b[0m in \u001b[0;36m_mean\u001b[0;34m(a, axis, dtype, out, keepdims, where)\u001b[0m\n\u001b[1;32m    189\u001b[0m             \u001b[0mret\u001b[0m \u001b[0;34m=\u001b[0m \u001b[0mret\u001b[0m\u001b[0;34m.\u001b[0m\u001b[0mdtype\u001b[0m\u001b[0;34m.\u001b[0m\u001b[0mtype\u001b[0m\u001b[0;34m(\u001b[0m\u001b[0mret\u001b[0m \u001b[0;34m/\u001b[0m \u001b[0mrcount\u001b[0m\u001b[0;34m)\u001b[0m\u001b[0;34m\u001b[0m\u001b[0;34m\u001b[0m\u001b[0m\n\u001b[1;32m    190\u001b[0m     \u001b[0;32melse\u001b[0m\u001b[0;34m:\u001b[0m\u001b[0;34m\u001b[0m\u001b[0;34m\u001b[0m\u001b[0m\n\u001b[0;32m--> 191\u001b[0;31m         \u001b[0mret\u001b[0m \u001b[0;34m=\u001b[0m \u001b[0mret\u001b[0m \u001b[0;34m/\u001b[0m \u001b[0mrcount\u001b[0m\u001b[0;34m\u001b[0m\u001b[0;34m\u001b[0m\u001b[0m\n\u001b[0m\u001b[1;32m    192\u001b[0m \u001b[0;34m\u001b[0m\u001b[0m\n\u001b[1;32m    193\u001b[0m     \u001b[0;32mreturn\u001b[0m \u001b[0mret\u001b[0m\u001b[0;34m\u001b[0m\u001b[0;34m\u001b[0m\u001b[0m\n",
            "\u001b[0;31mTypeError\u001b[0m: ufunc 'true_divide' not supported for the input types, and the inputs could not be safely coerced to any supported types according to the casting rule ''safe''"
          ]
        }
      ],
      "source": [
        "np.average(raw_compensation[\"Total Pay\"])"
      ]
    },
    {
      "cell_type": "markdown",
      "metadata": {
        "id": "DG9qv4e-YXrg"
      },
      "source": [
        "You should see an error. Let's examine why this error occured by looking at the values in the \"Total Pay\" column. Use the `type` function and set `total_pay_type` to the type of the first value in the \"Total Pay\" column."
      ]
    },
    {
      "cell_type": "code",
      "execution_count": 110,
      "metadata": {
        "colab": {
          "base_uri": "https://localhost:8080/"
        },
        "id": "LYVEemd3YXrh",
        "outputId": "4fc09b36-6ef6-4e6c-bc66-12381d909b00"
      },
      "outputs": [
        {
          "output_type": "execute_result",
          "data": {
            "text/plain": [
              "str"
            ]
          },
          "metadata": {},
          "execution_count": 110
        }
      ],
      "source": [
        "total_pay_type = type(np.array(raw_compensation[\"Total Pay\"]).item(0))\n",
        "total_pay_type"
      ]
    },
    {
      "cell_type": "markdown",
      "metadata": {
        "id": "vJWS4EKJYXri"
      },
      "source": [
        "**Question 2.** You should have found that the values in \"Total Pay\" column are strings (text). It doesn't make sense to take the average of the text values, so we need to convert them to numbers if we want to do this. Extract the first value in the \"Total Pay\" column.  It's Mark Hurd's (CEO of Oracle inc.) pay in 2015, in *millions* of dollars.  Call it `mark_hurd_pay_string`."
      ]
    },
    {
      "cell_type": "code",
      "execution_count": 111,
      "metadata": {
        "colab": {
          "base_uri": "https://localhost:8080/",
          "height": 35
        },
        "id": "dQGjjD8vYXrj",
        "outputId": "afa97e3a-ddcc-4d2c-8b28-d659f066fb91"
      },
      "outputs": [
        {
          "output_type": "execute_result",
          "data": {
            "text/plain": [
              "'$53.25 '"
            ],
            "application/vnd.google.colaboratory.intrinsic+json": {
              "type": "string"
            }
          },
          "metadata": {},
          "execution_count": 111
        }
      ],
      "source": [
        "mark_hurd_pay_string = np.array(raw_compensation[\"Total Pay\"]).item(0)\n",
        "mark_hurd_pay_string"
      ]
    },
    {
      "cell_type": "markdown",
      "metadata": {
        "id": "oGaKWB0rYXrk"
      },
      "source": [
        "**Question 3.** Convert `mark_hurd_pay_string` to a number of *dollars*.  The string method `strip` will be useful for removing the dollar sign; it removes a specified character from the start or end of a string.  For example, the value of `\"100%\".strip(\"%\")` is the string `\"100\"`.  You'll also need the function `float`, which converts a string that looks like a number to an actual number.  Last, remember that the answer should be in dollars, not millions of dollars."
      ]
    },
    {
      "cell_type": "code",
      "execution_count": 112,
      "metadata": {
        "colab": {
          "base_uri": "https://localhost:8080/"
        },
        "id": "yjYf3-a5YXrl",
        "outputId": "d52cd7f9-5bb1-488e-f77d-f0425c81cb96"
      },
      "outputs": [
        {
          "output_type": "execute_result",
          "data": {
            "text/plain": [
              "53.25"
            ]
          },
          "metadata": {},
          "execution_count": 112
        }
      ],
      "source": [
        "mark_hurd_pay = float(mark_hurd_pay_string.strip('$'))\n",
        "mark_hurd_pay"
      ]
    },
    {
      "cell_type": "markdown",
      "metadata": {
        "id": "7l7RI3EhYXrm"
      },
      "source": [
        "To compute the average pay, we need to do this for every CEO.  But that looks like it would involve copying this code 102 times.\n",
        "\n",
        "This is where functions come in.  First, we'll define a new function, giving a name to the expression that converts \"total pay\" strings to numeric values.  Later in this lab we'll see the payoff: we can call that function on every pay string in the dataset at once.\n",
        "\n",
        "**Question 4.** Copy the expression you used to compute `mark_hurd_pay` as the `return` expression of the function below, but replace the specific `mark_hurd_pay_string` with the generic `pay_string` name specified in the first line of the `def` statement."
      ]
    },
    {
      "cell_type": "code",
      "execution_count": 113,
      "metadata": {
        "for_assignment_type": "student",
        "id": "KIcUEFhSYXrm"
      },
      "outputs": [],
      "source": [
        "def convert_pay_string_to_number(pay_string):\n",
        "    \"\"\"Converts a pay string like '$100' (in millions) to a number of dollars.\"\"\"\n",
        "    return float(pay_string.strip('$'))"
      ]
    },
    {
      "cell_type": "markdown",
      "metadata": {
        "id": "J-sdVp-KYXrn"
      },
      "source": [
        "Running that cell doesn't convert any particular pay string. Instead, it creates a function called `convert_pay_string_to_number` that can convert any string with the right format to a number representing millions of dollars.\n",
        "\n",
        "We can call our function just like we call the built-in functions we've seen. It takes one argument, a string, and it returns a number."
      ]
    },
    {
      "cell_type": "code",
      "execution_count": 114,
      "metadata": {
        "colab": {
          "base_uri": "https://localhost:8080/"
        },
        "id": "cRy-KElUYXro",
        "outputId": "a7887f28-06ed-4bf8-f879-572b12518789"
      },
      "outputs": [
        {
          "output_type": "execute_result",
          "data": {
            "text/plain": [
              "42.0"
            ]
          },
          "metadata": {},
          "execution_count": 114
        }
      ],
      "source": [
        "convert_pay_string_to_number('$42')"
      ]
    },
    {
      "cell_type": "code",
      "execution_count": 115,
      "metadata": {
        "colab": {
          "base_uri": "https://localhost:8080/"
        },
        "id": "FBu7wHx1YXrp",
        "outputId": "95e1ed6c-c36f-4959-f40a-6a4be76319d8"
      },
      "outputs": [
        {
          "output_type": "execute_result",
          "data": {
            "text/plain": [
              "53.25"
            ]
          },
          "metadata": {},
          "execution_count": 115
        }
      ],
      "source": [
        "convert_pay_string_to_number(mark_hurd_pay_string)"
      ]
    },
    {
      "cell_type": "code",
      "execution_count": 116,
      "metadata": {
        "colab": {
          "base_uri": "https://localhost:8080/"
        },
        "id": "SMkEat50YXrp",
        "outputId": "ff2fcce7-6ed1-4c8d-a783-542115013f38"
      },
      "outputs": [
        {
          "output_type": "execute_result",
          "data": {
            "text/plain": [
              "53.24"
            ]
          },
          "metadata": {},
          "execution_count": 116
        }
      ],
      "source": [
        "# We can also compute Safra Catz's (CFO or Oracle inc.) pay in the same way:\n",
        "convert_pay_string_to_number(np.array(raw_compensation[raw_compensation[\"Name\"].str.contains(\"Safra\")][\"Total Pay\"]).item(0))"
      ]
    },
    {
      "cell_type": "markdown",
      "metadata": {
        "id": "OQpb20zBYXrq"
      },
      "source": [
        "So, what have we gained by defining the `convert_pay_string_to_number` function? \n",
        "Well, without it, we'd have to copy that `10**6 * float(pay_string.strip(\"$\"))` stuff each time we wanted to convert a pay string.  Now we just call a function whose name says exactly what it's doing.\n",
        "\n",
        "Soon, we'll see how to apply this function to every pay string in a single expression. First, let's take a brief detour and introduce `interact`."
      ]
    },
    {
      "cell_type": "markdown",
      "metadata": {
        "id": "1pinfL3bYXrq"
      },
      "source": [
        "### Using `interact`\n",
        "\n",
        "We've included a nifty function called `interact` that allows you to\n",
        "call a function with different arguments.\n",
        "\n",
        "To use it, call `interact` with the function you want to interact with as the\n",
        "first argument, then specify a default value for each argument of the original\n",
        "function like so:"
      ]
    },
    {
      "cell_type": "code",
      "execution_count": 117,
      "metadata": {
        "colab": {
          "base_uri": "https://localhost:8080/",
          "height": 67,
          "referenced_widgets": [
            "7ab3ea53818b4a7789d591a09687b399",
            "a9e1b6d432ec4f06a6bad46f42588e65",
            "3d1525c47b6c49399411cbe0d64f58b9",
            "3c4412d8a3e743c1b70a111ffda3027d",
            "736e8d65fb044672b29a03d062b1a4bd",
            "da35f69d8bae45b58cd319c9b0126f81",
            "1610541126cb4923b74fb9b1c7b1fd4f"
          ]
        },
        "id": "oBqwhR4GYXrq",
        "outputId": "34fada0a-3a8f-47f8-e0ac-fb5728df4fd0"
      },
      "outputs": [
        {
          "output_type": "display_data",
          "data": {
            "text/plain": [
              "interactive(children=(Text(value='$42', description='pay_string'), Output()), _dom_classes=('widget-interact',…"
            ],
            "application/vnd.jupyter.widget-view+json": {
              "version_major": 2,
              "version_minor": 0,
              "model_id": "7ab3ea53818b4a7789d591a09687b399"
            }
          },
          "metadata": {}
        }
      ],
      "source": [
        "_ = interact(convert_pay_string_to_number, pay_string='$42')"
      ]
    },
    {
      "cell_type": "markdown",
      "metadata": {
        "id": "KAigqJS0YXrr"
      },
      "source": [
        "You can now change the value in the textbox to automatically call\n",
        "`convert_pay_string_to_number` with the argument you enter in the `pay_string`\n",
        "textbox. For example, entering in `'$49'` in the textbox will display the result of\n",
        "running `convert_pay_string_to_number('$49')`. Neat!\n",
        "\n",
        "Note that we'll never ask you to write the `interact` function calls yourself as\n",
        "part of a question. However, we'll include it here and there where it's helpful\n",
        "and you'll probably find it useful to use yourself.\n",
        "\n",
        "Now, let's continue on and write more functions."
      ]
    },
    {
      "cell_type": "markdown",
      "metadata": {
        "id": "HuxY50feYXrs"
      },
      "source": [
        "## 2. Defining functions\n",
        "\n",
        "Let's write a very simple function that converts a proportion to a percentage by multiplying it by 100.  For example, the value of `to_percentage(.5)` should be the number 50.  (No percent sign.)\n",
        "\n",
        "A function definition has a few parts.\n",
        "\n",
        "##### `def`\n",
        "It always starts with `def` (short for **def**ine):\n",
        "\n",
        "    def\n",
        "\n",
        "##### Name\n",
        "Next comes the name of the function.  Let's call our function `to_percentage`.\n",
        "    \n",
        "    def to_percentage\n",
        "\n",
        "##### Signature\n",
        "Next comes something called the *signature* of the function.  This tells Python how many arguments your function should have, and what names you'll use to refer to those arguments in the function's code.  `to_percentage` should take one argument, and we'll call that argument `proportion` since it should be a proportion.\n",
        "\n",
        "    def to_percentage(proportion)\n",
        "\n",
        "We put a colon after the signature to tell Python it's over.\n",
        "\n",
        "    def to_percentage(proportion):\n",
        "\n",
        "##### Documentation\n",
        "Functions can do complicated things, so you should write an explanation of what your function does.  For small functions, this is less important, but it's a good habit to learn from the start.  Conventionally, Python functions are documented by writing a triple-quoted string:\n",
        "\n",
        "    def to_percentage(proportion):\n",
        "        \"\"\"Converts a proportion to a percentage.\"\"\"\n",
        "    \n",
        "    \n",
        "##### Body\n",
        "Now we start writing code that runs when the function is called.  This is called the *body* of the function.  We can write anything we could write anywhere else.  First let's give a name to the number we multiply a proportion by to get a percentage.\n",
        "\n",
        "    def to_percentage(proportion):\n",
        "        \"\"\"Converts a proportion to a percentage.\"\"\"\n",
        "        factor = 100\n",
        "\n",
        "##### `return`\n",
        "The special instruction `return` in a function's body tells Python to make the value of the function call equal to whatever comes right after `return`.  We want the value of `to_percentage(.5)` to be the proportion .5 times the factor 100, so we write:\n",
        "\n",
        "    def to_percentage(proportion):\n",
        "        \"\"\"Converts a proportion to a percentage.\"\"\"\n",
        "        factor = 100\n",
        "        return proportion * factor"
      ]
    },
    {
      "cell_type": "markdown",
      "metadata": {
        "id": "LZyo2TExYXrt"
      },
      "source": [
        "**Question 1.** Define `to_percentage` in the cell below.  Call your function to convert the proportion .2 to a percentage.  Name that percentage `twenty_percent`."
      ]
    },
    {
      "cell_type": "code",
      "execution_count": 118,
      "metadata": {
        "for_assignment_type": "student",
        "colab": {
          "base_uri": "https://localhost:8080/"
        },
        "id": "9StJOJhRYXrt",
        "outputId": "7d8f3170-6ee2-4395-b712-08b4da2fcb5d"
      },
      "outputs": [
        {
          "output_type": "execute_result",
          "data": {
            "text/plain": [
              "20.0"
            ]
          },
          "metadata": {},
          "execution_count": 118
        }
      ],
      "source": [
        "def to_percentage(proportion):\n",
        "    \"\"\" Converts a proportion to a percentage\"\"\"\n",
        "    factor = 100\n",
        "    return proportion * factor\n",
        "\n",
        "twenty_percent = to_percentage(.20)\n",
        "twenty_percent"
      ]
    },
    {
      "cell_type": "markdown",
      "metadata": {
        "id": "UEq2teR_YXru"
      },
      "source": [
        "Like the built-in functions, you can use named values as arguments to your function.\n",
        "\n",
        "**Question 2.** Use `to_percentage` again to convert the proportion named `a_proportion` (defined below) to a percentage called `a_percentage`.\n",
        "\n",
        "*Note:* You don't need to define `to_percentage` again!  Just like other named things, functions stick around after you define them."
      ]
    },
    {
      "cell_type": "code",
      "execution_count": 119,
      "metadata": {
        "colab": {
          "base_uri": "https://localhost:8080/"
        },
        "id": "_qurs2p0YXru",
        "outputId": "76715e46-864b-41de-b5b3-55647f98e299"
      },
      "outputs": [
        {
          "output_type": "execute_result",
          "data": {
            "text/plain": [
              "70.71067811865476"
            ]
          },
          "metadata": {},
          "execution_count": 119
        }
      ],
      "source": [
        "a_proportion = 2**(.5) / 2\n",
        "a_percentage = to_percentage(a_proportion)\n",
        "a_percentage"
      ]
    },
    {
      "cell_type": "markdown",
      "metadata": {
        "id": "YpuejwTAYXru"
      },
      "source": [
        "Here's something important about functions: the names assigned within a function body are only accessible within the function body. Once the function has returned, those names are gone.  So even though you defined `factor = 100` inside `to_percentage` above and then called `to_percentage`, you cannot refer to `factor` anywhere except inside the body of `to_percentage`:"
      ]
    },
    {
      "cell_type": "code",
      "execution_count": 120,
      "metadata": {
        "colab": {
          "base_uri": "https://localhost:8080/",
          "height": 201
        },
        "id": "lARJjVpqYXrv",
        "outputId": "c54f1979-db59-4c99-d9c0-267871a2b029"
      },
      "outputs": [
        {
          "output_type": "error",
          "ename": "NameError",
          "evalue": "ignored",
          "traceback": [
            "\u001b[0;31m---------------------------------------------------------------------------\u001b[0m",
            "\u001b[0;31mNameError\u001b[0m                                 Traceback (most recent call last)",
            "\u001b[0;32m<ipython-input-120-a219be0dab32>\u001b[0m in \u001b[0;36m<module>\u001b[0;34m\u001b[0m\n\u001b[1;32m      1\u001b[0m \u001b[0;31m# You should see an error when you run this.  (If you don't, you might\u001b[0m\u001b[0;34m\u001b[0m\u001b[0;34m\u001b[0m\u001b[0;34m\u001b[0m\u001b[0m\n\u001b[1;32m      2\u001b[0m \u001b[0;31m# have defined factor somewhere above.)\u001b[0m\u001b[0;34m\u001b[0m\u001b[0;34m\u001b[0m\u001b[0;34m\u001b[0m\u001b[0m\n\u001b[0;32m----> 3\u001b[0;31m \u001b[0mfactor\u001b[0m\u001b[0;34m\u001b[0m\u001b[0;34m\u001b[0m\u001b[0m\n\u001b[0m",
            "\u001b[0;31mNameError\u001b[0m: name 'factor' is not defined"
          ]
        }
      ],
      "source": [
        "# You should see an error when you run this.  (If you don't, you might\n",
        "# have defined factor somewhere above.)\n",
        "factor"
      ]
    },
    {
      "cell_type": "markdown",
      "metadata": {
        "id": "K_PrhIHiYXrv"
      },
      "source": [
        "As we've seen with the built-in functions, functions can also take strings (or arrays, or tables) as arguments, and they can return those things, too.\n",
        "\n",
        "**Question 3.** Define a function called `disemvowel`.  It should take a single string as its argument.  (You can call that argument whatever you want.)  It should return a copy of that string, but with all the characters that are vowels removed.  (In English, the vowels are the characters \"a\", \"e\", \"i\", \"o\", and \"u\".)\n",
        "\n",
        "*Hint:* To remove all the \"a\"s from a string, you can use `that_string.replace(\"a\", \"\")`.  And you can call `replace` multiple times."
      ]
    },
    {
      "cell_type": "code",
      "execution_count": 121,
      "metadata": {
        "colab": {
          "base_uri": "https://localhost:8080/",
          "height": 35
        },
        "id": "rexDFFqTYXrv",
        "outputId": "130c8222-32ae-498a-fc6f-08fb3fe8d986"
      },
      "outputs": [
        {
          "output_type": "execute_result",
          "data": {
            "text/plain": [
              "'Cn y rd ths wtht vwls?'"
            ],
            "application/vnd.google.colaboratory.intrinsic+json": {
              "type": "string"
            }
          },
          "metadata": {},
          "execution_count": 121
        }
      ],
      "source": [
        "def disemvowel(a_string):\n",
        "  return a_string.replace('a', '').replace('e', '').replace('i', '').replace('o', '').replace('u', '')\n",
        "\n",
        "# An example call to your function.  (It's often helpful to run\n",
        "# an example call from time to time while you're writing a function,\n",
        "# to see how it currently works.)\n",
        "disemvowel(\"Can you read this without vowels?\")"
      ]
    },
    {
      "cell_type": "code",
      "execution_count": 122,
      "metadata": {
        "colab": {
          "base_uri": "https://localhost:8080/",
          "height": 67,
          "referenced_widgets": [
            "fcd8ad01bcf6487289752de1a8929528",
            "0867b93eb1014309af17d1ad040d1f62",
            "ebbf090809704a4b876a6cd35c93a825",
            "b5f5fec21fb540df969c26fe4dfad6c7",
            "5bc7fc50d29549fbad831870de6ead6d",
            "7f2f3b04f5184da383c5a0d8ff3da7ec",
            "fca74855650b477bb7ae6bb708d3de54"
          ]
        },
        "id": "kIfN0IRRYXrw",
        "outputId": "13881de7-3f0f-4643-bf32-ab7cf94a6718"
      },
      "outputs": [
        {
          "output_type": "display_data",
          "data": {
            "text/plain": [
              "interactive(children=(Text(value='Hello world', description='a_string'), Output()), _dom_classes=('widget-inte…"
            ],
            "application/vnd.jupyter.widget-view+json": {
              "version_major": 2,
              "version_minor": 0,
              "model_id": "fcd8ad01bcf6487289752de1a8929528"
            }
          },
          "metadata": {}
        }
      ],
      "source": [
        "# Alternatively, you can use interact to call your function\n",
        "_ = interact(disemvowel, a_string='Hello world')"
      ]
    },
    {
      "cell_type": "markdown",
      "metadata": {
        "id": "mB1lwcksYXrw"
      },
      "source": [
        "##### Calls on calls on calls\n",
        "Just as you write a series of lines to build up a complex computation, it's useful to define a series of small functions that build on each other.  Since you can write any code inside a function's body, you can call other functions you've written.\n",
        "\n",
        "If a function is a like a recipe, defining a function in terms of other functions is like having a recipe for cake telling you to follow another recipe to make the frosting, and another to make the sprinkles.  This makes the cake recipe shorter and clearer, and it avoids having a bunch of duplicated frosting recipes.  It's a foundation of productive programming.\n",
        "\n",
        "For example, suppose you want to count the number of characters *that aren't vowels* in a piece of text.  One way to do that is this to remove all the vowels and count the size of the remaining string.\n",
        "\n",
        "**Question 4.** Write a function called `num_non_vowels`.  It should take a string as its argument and return a number.  The number should be the number of characters in the argument string that aren't vowels.\n",
        "\n",
        "*Hint:* The function `len` takes a string as its argument and returns the number of characters in it."
      ]
    },
    {
      "cell_type": "code",
      "execution_count": 123,
      "metadata": {
        "colab": {
          "base_uri": "https://localhost:8080/",
          "height": 67,
          "referenced_widgets": [
            "f689a10b81ad4d0ca5873800596db767",
            "da1d153f7e5e489b8584df57b2182b02",
            "e3ef83f0fd3b479e9839c097c658771f",
            "43363d851c384b0caa140fbd0ab32793",
            "bac92f62ebe14f52899e63f8d1a6ef0c",
            "1214fc70b853459e8dcc9d1eb5c47ddf",
            "e6b1e53de3454424b41aa5a91d60482f"
          ]
        },
        "id": "hxWTHEsUYXrx",
        "outputId": "25d21ccb-87f0-4b21-91a3-9b58ac49b5ed"
      },
      "outputs": [
        {
          "output_type": "display_data",
          "data": {
            "text/plain": [
              "interactive(children=(Text(value='Test', description='a_string'), Output()), _dom_classes=('widget-interact',)…"
            ],
            "application/vnd.jupyter.widget-view+json": {
              "version_major": 2,
              "version_minor": 0,
              "model_id": "f689a10b81ad4d0ca5873800596db767"
            }
          },
          "metadata": {}
        }
      ],
      "source": [
        "def num_non_vowels(a_string):\n",
        "    \"\"\"The number of characters in a string, minus the vowels.\"\"\"\n",
        "    return len(disemvowel(a_string))\n",
        "    return\n",
        "\n",
        "# Try calling your function yourself to make sure the output is what\n",
        "# you expect. You can also use the interact function if you'd like.\n",
        "_ = interact(num_non_vowels, a_string='Test')"
      ]
    },
    {
      "cell_type": "markdown",
      "metadata": {
        "id": "7PS8UWCcYXrx"
      },
      "source": [
        "Functions can also encapsulate code that *does things* rather than just computing values.  For example, if you call `print` inside a function, and then call that function, something will get printed.\n",
        "\n",
        "The `movies_by_year` dataset in the textbook has information about movie sales in recent years.  Suppose you'd like to display the year with the 5th-highest total gross movie sales, printed in a human-readable way.  You might do this:"
      ]
    },
    {
      "cell_type": "code",
      "execution_count": 124,
      "metadata": {
        "colab": {
          "base_uri": "https://localhost:8080/"
        },
        "id": "O9WCAcDMYXry",
        "outputId": "ca9cc1ac-f719-4ffd-de8b-bbfc5fbc0d56"
      },
      "outputs": [
        {
          "output_type": "stream",
          "name": "stdout",
          "text": [
            "Year number 5 for total gross movie sales was: 2010\n"
          ]
        }
      ],
      "source": [
        "#movies_by_year = pd.read_csv(\"movies_by_year.csv\")\n",
        "movies_by_year = pd.read_csv(gdrive + \"movies_by_year.csv\")\n",
        "rank = 5\n",
        "fifth_from_top_movie_year = np.array(movies_by_year.sort_values(by=\"Total Gross\", ascending=False)[\"Year\"]).item(rank-1)\n",
        "print(\"Year number\", rank, \"for total gross movie sales was:\", fifth_from_top_movie_year)"
      ]
    },
    {
      "cell_type": "markdown",
      "metadata": {
        "id": "yn_ndHTTYXry"
      },
      "source": [
        "After writing this, you realize you also wanted to print out the 2nd and 3rd-highest years.  Instead of copying your code, you decide to put it in a function.  Since the rank varies, you make that an argument to your function.\n",
        "\n",
        "**Question 5.** Write a function called `print_kth_top_movie_year`.  It should take a single argument, the rank of the year (like 2, 3, or 5 in the above examples).  It should print out a message like the one above.  It shouldn't have a `return` statement."
      ]
    },
    {
      "cell_type": "code",
      "execution_count": 125,
      "metadata": {
        "for_assignment_type": "student",
        "colab": {
          "base_uri": "https://localhost:8080/"
        },
        "id": "-5sR1xcRYXrz",
        "outputId": "bd7b5169-c22f-41b5-c3cb-8af5179d22b3"
      },
      "outputs": [
        {
          "output_type": "stream",
          "name": "stdout",
          "text": [
            "Year number 2 for total gross movie sales was: 2013\n",
            "Year number 3 for total gross movie sales was: 2012\n"
          ]
        }
      ],
      "source": [
        "def print_kth_top_movie_year(k):\n",
        "    # Our solution used 2 lines.\n",
        "    k_from_top_movie_year = np.array(movies_by_year.sort_values(by=\"Total Gross\", ascending=False)[\"Year\"]).item(k-1)\n",
        "    print(\"Year number\", k, \"for total gross movie sales was:\", k_from_top_movie_year)\n",
        "\n",
        "# Example calls to your function:\n",
        "print_kth_top_movie_year(2)\n",
        "print_kth_top_movie_year(3)"
      ]
    },
    {
      "cell_type": "code",
      "execution_count": 126,
      "metadata": {
        "colab": {
          "base_uri": "https://localhost:8080/",
          "height": 66,
          "referenced_widgets": [
            "d636509c01f34d29b1aec254fcd8c966",
            "9560b6224ac64bdea5f52efa64951ba2",
            "6fd463b6c6fe4b0d827da306d010d0b3",
            "9f6e57f77a514c8fb299fc98b43ac988",
            "4bca38a6cecb428491d488545d93c499",
            "20f066229361440790d105fa454ca7f3",
            "fa8e3795137742d3a463997e6ae3b0df"
          ]
        },
        "id": "EvIJwTUKYXrz",
        "outputId": "caa9fd84-a9d7-4f91-8622-a6e9c1eed1ce"
      },
      "outputs": [
        {
          "output_type": "display_data",
          "data": {
            "text/plain": [
              "interactive(children=(Dropdown(description='k', options=(1, 2, 3, 4, 5, 6, 7, 8, 9), value=1), Output()), _dom…"
            ],
            "application/vnd.jupyter.widget-view+json": {
              "version_major": 2,
              "version_minor": 0,
              "model_id": "d636509c01f34d29b1aec254fcd8c966"
            }
          },
          "metadata": {}
        }
      ],
      "source": [
        "# interact also allows you to pass in an array for a function argument. It will\n",
        "# then present a dropdown menu of options.\n",
        "_ = interact(print_kth_top_movie_year, k=np.arange(1, 10))"
      ]
    },
    {
      "cell_type": "markdown",
      "metadata": {
        "id": "nQJLYEpUYXr0"
      },
      "source": [
        "## 3. `apply`ing functions\n",
        "\n",
        "Defining a function is a lot like giving a name to a value with `=`.  In fact, a function is a value just like the number 1 or the text \"the\"!\n",
        "\n",
        "For example, we can make a new name for the built-in function `max` if we want:"
      ]
    },
    {
      "cell_type": "code",
      "execution_count": 127,
      "metadata": {
        "colab": {
          "base_uri": "https://localhost:8080/"
        },
        "id": "PR-DubIkYXr0",
        "outputId": "c47d73b3-d6ef-4f06-cbe4-a596ebd4d9e4"
      },
      "outputs": [
        {
          "output_type": "execute_result",
          "data": {
            "text/plain": [
              "6"
            ]
          },
          "metadata": {},
          "execution_count": 127
        }
      ],
      "source": [
        "our_name_for_max = max\n",
        "our_name_for_max(2, 6)"
      ]
    },
    {
      "cell_type": "markdown",
      "metadata": {
        "id": "iFFovYiCYXr0"
      },
      "source": [
        "The old name for `max` is still around:"
      ]
    },
    {
      "cell_type": "code",
      "execution_count": 128,
      "metadata": {
        "colab": {
          "base_uri": "https://localhost:8080/"
        },
        "id": "cUvYoCo9YXr1",
        "outputId": "dd8de9a6-b911-4124-fc3e-a36ec1c39b54"
      },
      "outputs": [
        {
          "output_type": "execute_result",
          "data": {
            "text/plain": [
              "6"
            ]
          },
          "metadata": {},
          "execution_count": 128
        }
      ],
      "source": [
        "max(2, 6)"
      ]
    },
    {
      "cell_type": "markdown",
      "metadata": {
        "id": "Kw9yk-xoYXr1"
      },
      "source": [
        "Try just writing `max` or `our_name_for_max` (or the name of any other function) in a cell, and run that cell.  Python will print out a (very brief) description of the function."
      ]
    },
    {
      "cell_type": "code",
      "execution_count": 129,
      "metadata": {
        "colab": {
          "base_uri": "https://localhost:8080/"
        },
        "id": "Q9ZsxcwyYXr1",
        "outputId": "4226a0b4-fcda-42c1-b237-dffc9d6052ea"
      },
      "outputs": [
        {
          "output_type": "execute_result",
          "data": {
            "text/plain": [
              "<function max>"
            ]
          },
          "metadata": {},
          "execution_count": 129
        }
      ],
      "source": [
        "max"
      ]
    },
    {
      "cell_type": "markdown",
      "metadata": {
        "id": "LJ7DZRpOYXr2"
      },
      "source": [
        "Why is this useful?  Since functions are just values, it's possible to pass them as arguments to other functions.  Here's a simple but not-so-practical example: we can make an array of functions."
      ]
    },
    {
      "cell_type": "code",
      "execution_count": 130,
      "metadata": {
        "colab": {
          "base_uri": "https://localhost:8080/"
        },
        "id": "6vU-xj9NYXr2",
        "outputId": "de270792-a696-4c5a-f012-07ce846b68c7"
      },
      "outputs": [
        {
          "output_type": "execute_result",
          "data": {
            "text/plain": [
              "array([<built-in function max>, <function average at 0x7f30f74da5f0>,\n",
              "       <ufunc 'equal'>], dtype=object)"
            ]
          },
          "metadata": {},
          "execution_count": 130
        }
      ],
      "source": [
        "np.array([max, np.average, np.equal])"
      ]
    },
    {
      "cell_type": "markdown",
      "metadata": {
        "id": "WwlCvQqSYXr2"
      },
      "source": [
        "**Question 1.** Make an array containing any 3 other functions you've seen.  Call it `some_functions`."
      ]
    },
    {
      "cell_type": "code",
      "execution_count": 131,
      "metadata": {
        "colab": {
          "base_uri": "https://localhost:8080/"
        },
        "id": "RP-J0PuiYXr3",
        "outputId": "bc3d69df-ce37-4970-8180-ea704106a14c"
      },
      "outputs": [
        {
          "output_type": "execute_result",
          "data": {
            "text/plain": [
              "[<function max>,\n",
              " <function min>,\n",
              " <function sorted(iterable, /, *, key=None, reverse=False)>]"
            ]
          },
          "metadata": {},
          "execution_count": 131
        }
      ],
      "source": [
        "some_functions = [max, min, sorted]\n",
        "some_functions"
      ]
    },
    {
      "cell_type": "markdown",
      "metadata": {
        "id": "q5Dwul7eYXr3"
      },
      "source": [
        "Working with functions as values can lead to some funny-looking code.  For example, see if you can figure out why this works:"
      ]
    },
    {
      "cell_type": "code",
      "execution_count": 132,
      "metadata": {
        "colab": {
          "base_uri": "https://localhost:8080/"
        },
        "id": "s4rJbz_8YXr4",
        "outputId": "14b3024a-8bc0-49a9-9267-ef5d11b83170"
      },
      "outputs": [
        {
          "output_type": "execute_result",
          "data": {
            "text/plain": [
              "7"
            ]
          },
          "metadata": {},
          "execution_count": 132
        }
      ],
      "source": [
        "np.array([max, np.average, np.equal]).item(0)(4, -2, 7)"
      ]
    },
    {
      "cell_type": "markdown",
      "metadata": {
        "id": "5XhMMa7QYXr4"
      },
      "source": [
        "Here's a simpler example that's actually useful: the table method `apply`.\n",
        "\n",
        "`apply` calls a function many times, once on *each* element in a column of a table.  It produces an array of the results.  Here we use `apply` to convert every CEO's pay to a number, using the function you defined:"
      ]
    },
    {
      "cell_type": "code",
      "execution_count": 133,
      "metadata": {
        "colab": {
          "base_uri": "https://localhost:8080/"
        },
        "id": "k1a8361QYXr5",
        "outputId": "fbcb6c28-a0cf-4bd1-85c9-2d086fbcd73e"
      },
      "outputs": [
        {
          "output_type": "execute_result",
          "data": {
            "text/plain": [
              "0      53.25\n",
              "1      53.24\n",
              "2      44.91\n",
              "3      35.98\n",
              "4      33.36\n",
              "       ...  \n",
              "97      0.94\n",
              "98      0.81\n",
              "99      0.07\n",
              "100     0.04\n",
              "101     0.00\n",
              "Name: Total Pay, Length: 102, dtype: float64"
            ]
          },
          "metadata": {},
          "execution_count": 133
        }
      ],
      "source": [
        "raw_compensation[\"Total Pay\"].apply(convert_pay_string_to_number)"
      ]
    },
    {
      "cell_type": "markdown",
      "metadata": {
        "id": "Vfz3qGPFYXr5"
      },
      "source": [
        "Here's an illustration of what that did:\n",
        "\n",
        "<img src=\"images/apply.png\"/>\n",
        "\n",
        "Note that we didn't write something like `convert_pay_string_to_number()` or `convert_pay_string_to_number(\"Total Pay\")`.  The job of `apply` is to call the function we give it, so instead of calling `convert_pay_string_to_number` ourselves, we just write its name as an argument to `apply`.\n",
        "\n",
        "**Question 2.** Using `apply`, make a table that's a copy of `raw_compensation` with one more column called \"Total Pay (\\$)\".  It should be the result of applying `convert_pay_string_to_number` to the \"Total Pay\" column, as we did above.  Call the new table `compensation`."
      ]
    },
    {
      "cell_type": "code",
      "execution_count": 134,
      "metadata": {
        "colab": {
          "base_uri": "https://localhost:8080/",
          "height": 554
        },
        "id": "0897Gi_EYXr5",
        "outputId": "d59f447d-049c-4f5d-b825-8a265a0bb04b"
      },
      "outputs": [
        {
          "output_type": "execute_result",
          "data": {
            "text/plain": [
              "     Rank                Name                 Company (Headquarters)  \\\n",
              "0       1       Mark V. Hurd*                  Oracle (Redwood City)   \n",
              "1       2      Safra A. Catz*                  Oracle (Redwood City)   \n",
              "2       3      Robert A. Iger                  Walt Disney (Burbank)   \n",
              "3       4    Marissa A. Mayer                     Yahoo! (Sunnyvale)   \n",
              "4       5        Marc Benioff         salesforce.com (San Francisco)   \n",
              "..    ...                 ...                                    ...   \n",
              "97     98  Gregory N. Roberts  A-Mark Precious Metals (Santa Monica)   \n",
              "98     99     Jose L. Laparte                 PriceSmart (San Diego)   \n",
              "99    100         Jack Dorsey                Twitter (San Francisco)   \n",
              "100   101        Elon R. Musk               Tesla Motors (Palo Alto)   \n",
              "101   102    Lawrence Page***               Alphabet (Mountain View)   \n",
              "\n",
              "    Total Pay            % Change Cash Pay Equity Pay Other Pay  \\\n",
              "0     $53.25   (No previous year)   $0.95     $52.27     $0.02    \n",
              "1     $53.24   (No previous year)   $0.95     $52.27     $0.02    \n",
              "2     $44.91                  -3%  $24.89     $17.28     $2.74    \n",
              "3     $35.98                 -15%   $1.00     $34.43     $0.55    \n",
              "4     $33.36                 -16%   $4.65     $27.26     $1.45    \n",
              "..        ...                 ...      ...        ...       ...   \n",
              "97     $0.94                 -11%   $0.93      $0.00     $0.02    \n",
              "98     $0.81                  -7%   $0.71      $0.00     $0.10    \n",
              "99     $0.07   (No previous year)   $0.00      $0.00     $0.07    \n",
              "100    $0.04                   6%   $0.04      $0.00     $0.00    \n",
              "101    $0.00                   0%   $0.00      $0.00     $0.00    \n",
              "\n",
              "     Ratio of CEO pay to average industry worker pay  Total Pay ($)  \n",
              "0                                          362.00000          53.25  \n",
              "1                                          362.00000          53.24  \n",
              "2                                          477.00000          44.91  \n",
              "3                                          342.00000          35.98  \n",
              "4                                          338.00000          33.36  \n",
              "..                                               ...            ...  \n",
              "97                                          17.00000           0.94  \n",
              "98                                          32.00000           0.81  \n",
              "99                                           0.63000           0.07  \n",
              "100                                          0.46000           0.04  \n",
              "101                                          0.00001           0.00  \n",
              "\n",
              "[102 rows x 10 columns]"
            ],
            "text/html": [
              "\n",
              "  <div id=\"df-e4e9aed7-b4c6-41ac-8aae-d90a61908d72\">\n",
              "    <div class=\"colab-df-container\">\n",
              "      <div>\n",
              "<style scoped>\n",
              "    .dataframe tbody tr th:only-of-type {\n",
              "        vertical-align: middle;\n",
              "    }\n",
              "\n",
              "    .dataframe tbody tr th {\n",
              "        vertical-align: top;\n",
              "    }\n",
              "\n",
              "    .dataframe thead th {\n",
              "        text-align: right;\n",
              "    }\n",
              "</style>\n",
              "<table border=\"1\" class=\"dataframe\">\n",
              "  <thead>\n",
              "    <tr style=\"text-align: right;\">\n",
              "      <th></th>\n",
              "      <th>Rank</th>\n",
              "      <th>Name</th>\n",
              "      <th>Company (Headquarters)</th>\n",
              "      <th>Total Pay</th>\n",
              "      <th>% Change</th>\n",
              "      <th>Cash Pay</th>\n",
              "      <th>Equity Pay</th>\n",
              "      <th>Other Pay</th>\n",
              "      <th>Ratio of CEO pay to average industry worker pay</th>\n",
              "      <th>Total Pay ($)</th>\n",
              "    </tr>\n",
              "  </thead>\n",
              "  <tbody>\n",
              "    <tr>\n",
              "      <th>0</th>\n",
              "      <td>1</td>\n",
              "      <td>Mark V. Hurd*</td>\n",
              "      <td>Oracle (Redwood City)</td>\n",
              "      <td>$53.25</td>\n",
              "      <td>(No previous year)</td>\n",
              "      <td>$0.95</td>\n",
              "      <td>$52.27</td>\n",
              "      <td>$0.02</td>\n",
              "      <td>362.00000</td>\n",
              "      <td>53.25</td>\n",
              "    </tr>\n",
              "    <tr>\n",
              "      <th>1</th>\n",
              "      <td>2</td>\n",
              "      <td>Safra A. Catz*</td>\n",
              "      <td>Oracle (Redwood City)</td>\n",
              "      <td>$53.24</td>\n",
              "      <td>(No previous year)</td>\n",
              "      <td>$0.95</td>\n",
              "      <td>$52.27</td>\n",
              "      <td>$0.02</td>\n",
              "      <td>362.00000</td>\n",
              "      <td>53.24</td>\n",
              "    </tr>\n",
              "    <tr>\n",
              "      <th>2</th>\n",
              "      <td>3</td>\n",
              "      <td>Robert A. Iger</td>\n",
              "      <td>Walt Disney (Burbank)</td>\n",
              "      <td>$44.91</td>\n",
              "      <td>-3%</td>\n",
              "      <td>$24.89</td>\n",
              "      <td>$17.28</td>\n",
              "      <td>$2.74</td>\n",
              "      <td>477.00000</td>\n",
              "      <td>44.91</td>\n",
              "    </tr>\n",
              "    <tr>\n",
              "      <th>3</th>\n",
              "      <td>4</td>\n",
              "      <td>Marissa A. Mayer</td>\n",
              "      <td>Yahoo! (Sunnyvale)</td>\n",
              "      <td>$35.98</td>\n",
              "      <td>-15%</td>\n",
              "      <td>$1.00</td>\n",
              "      <td>$34.43</td>\n",
              "      <td>$0.55</td>\n",
              "      <td>342.00000</td>\n",
              "      <td>35.98</td>\n",
              "    </tr>\n",
              "    <tr>\n",
              "      <th>4</th>\n",
              "      <td>5</td>\n",
              "      <td>Marc Benioff</td>\n",
              "      <td>salesforce.com (San Francisco)</td>\n",
              "      <td>$33.36</td>\n",
              "      <td>-16%</td>\n",
              "      <td>$4.65</td>\n",
              "      <td>$27.26</td>\n",
              "      <td>$1.45</td>\n",
              "      <td>338.00000</td>\n",
              "      <td>33.36</td>\n",
              "    </tr>\n",
              "    <tr>\n",
              "      <th>...</th>\n",
              "      <td>...</td>\n",
              "      <td>...</td>\n",
              "      <td>...</td>\n",
              "      <td>...</td>\n",
              "      <td>...</td>\n",
              "      <td>...</td>\n",
              "      <td>...</td>\n",
              "      <td>...</td>\n",
              "      <td>...</td>\n",
              "      <td>...</td>\n",
              "    </tr>\n",
              "    <tr>\n",
              "      <th>97</th>\n",
              "      <td>98</td>\n",
              "      <td>Gregory N. Roberts</td>\n",
              "      <td>A-Mark Precious Metals (Santa Monica)</td>\n",
              "      <td>$0.94</td>\n",
              "      <td>-11%</td>\n",
              "      <td>$0.93</td>\n",
              "      <td>$0.00</td>\n",
              "      <td>$0.02</td>\n",
              "      <td>17.00000</td>\n",
              "      <td>0.94</td>\n",
              "    </tr>\n",
              "    <tr>\n",
              "      <th>98</th>\n",
              "      <td>99</td>\n",
              "      <td>Jose L. Laparte</td>\n",
              "      <td>PriceSmart (San Diego)</td>\n",
              "      <td>$0.81</td>\n",
              "      <td>-7%</td>\n",
              "      <td>$0.71</td>\n",
              "      <td>$0.00</td>\n",
              "      <td>$0.10</td>\n",
              "      <td>32.00000</td>\n",
              "      <td>0.81</td>\n",
              "    </tr>\n",
              "    <tr>\n",
              "      <th>99</th>\n",
              "      <td>100</td>\n",
              "      <td>Jack Dorsey</td>\n",
              "      <td>Twitter (San Francisco)</td>\n",
              "      <td>$0.07</td>\n",
              "      <td>(No previous year)</td>\n",
              "      <td>$0.00</td>\n",
              "      <td>$0.00</td>\n",
              "      <td>$0.07</td>\n",
              "      <td>0.63000</td>\n",
              "      <td>0.07</td>\n",
              "    </tr>\n",
              "    <tr>\n",
              "      <th>100</th>\n",
              "      <td>101</td>\n",
              "      <td>Elon R. Musk</td>\n",
              "      <td>Tesla Motors (Palo Alto)</td>\n",
              "      <td>$0.04</td>\n",
              "      <td>6%</td>\n",
              "      <td>$0.04</td>\n",
              "      <td>$0.00</td>\n",
              "      <td>$0.00</td>\n",
              "      <td>0.46000</td>\n",
              "      <td>0.04</td>\n",
              "    </tr>\n",
              "    <tr>\n",
              "      <th>101</th>\n",
              "      <td>102</td>\n",
              "      <td>Lawrence Page***</td>\n",
              "      <td>Alphabet (Mountain View)</td>\n",
              "      <td>$0.00</td>\n",
              "      <td>0%</td>\n",
              "      <td>$0.00</td>\n",
              "      <td>$0.00</td>\n",
              "      <td>$0.00</td>\n",
              "      <td>0.00001</td>\n",
              "      <td>0.00</td>\n",
              "    </tr>\n",
              "  </tbody>\n",
              "</table>\n",
              "<p>102 rows × 10 columns</p>\n",
              "</div>\n",
              "      <button class=\"colab-df-convert\" onclick=\"convertToInteractive('df-e4e9aed7-b4c6-41ac-8aae-d90a61908d72')\"\n",
              "              title=\"Convert this dataframe to an interactive table.\"\n",
              "              style=\"display:none;\">\n",
              "        \n",
              "  <svg xmlns=\"http://www.w3.org/2000/svg\" height=\"24px\"viewBox=\"0 0 24 24\"\n",
              "       width=\"24px\">\n",
              "    <path d=\"M0 0h24v24H0V0z\" fill=\"none\"/>\n",
              "    <path d=\"M18.56 5.44l.94 2.06.94-2.06 2.06-.94-2.06-.94-.94-2.06-.94 2.06-2.06.94zm-11 1L8.5 8.5l.94-2.06 2.06-.94-2.06-.94L8.5 2.5l-.94 2.06-2.06.94zm10 10l.94 2.06.94-2.06 2.06-.94-2.06-.94-.94-2.06-.94 2.06-2.06.94z\"/><path d=\"M17.41 7.96l-1.37-1.37c-.4-.4-.92-.59-1.43-.59-.52 0-1.04.2-1.43.59L10.3 9.45l-7.72 7.72c-.78.78-.78 2.05 0 2.83L4 21.41c.39.39.9.59 1.41.59.51 0 1.02-.2 1.41-.59l7.78-7.78 2.81-2.81c.8-.78.8-2.07 0-2.86zM5.41 20L4 18.59l7.72-7.72 1.47 1.35L5.41 20z\"/>\n",
              "  </svg>\n",
              "      </button>\n",
              "      \n",
              "  <style>\n",
              "    .colab-df-container {\n",
              "      display:flex;\n",
              "      flex-wrap:wrap;\n",
              "      gap: 12px;\n",
              "    }\n",
              "\n",
              "    .colab-df-convert {\n",
              "      background-color: #E8F0FE;\n",
              "      border: none;\n",
              "      border-radius: 50%;\n",
              "      cursor: pointer;\n",
              "      display: none;\n",
              "      fill: #1967D2;\n",
              "      height: 32px;\n",
              "      padding: 0 0 0 0;\n",
              "      width: 32px;\n",
              "    }\n",
              "\n",
              "    .colab-df-convert:hover {\n",
              "      background-color: #E2EBFA;\n",
              "      box-shadow: 0px 1px 2px rgba(60, 64, 67, 0.3), 0px 1px 3px 1px rgba(60, 64, 67, 0.15);\n",
              "      fill: #174EA6;\n",
              "    }\n",
              "\n",
              "    [theme=dark] .colab-df-convert {\n",
              "      background-color: #3B4455;\n",
              "      fill: #D2E3FC;\n",
              "    }\n",
              "\n",
              "    [theme=dark] .colab-df-convert:hover {\n",
              "      background-color: #434B5C;\n",
              "      box-shadow: 0px 1px 3px 1px rgba(0, 0, 0, 0.15);\n",
              "      filter: drop-shadow(0px 1px 2px rgba(0, 0, 0, 0.3));\n",
              "      fill: #FFFFFF;\n",
              "    }\n",
              "  </style>\n",
              "\n",
              "      <script>\n",
              "        const buttonEl =\n",
              "          document.querySelector('#df-e4e9aed7-b4c6-41ac-8aae-d90a61908d72 button.colab-df-convert');\n",
              "        buttonEl.style.display =\n",
              "          google.colab.kernel.accessAllowed ? 'block' : 'none';\n",
              "\n",
              "        async function convertToInteractive(key) {\n",
              "          const element = document.querySelector('#df-e4e9aed7-b4c6-41ac-8aae-d90a61908d72');\n",
              "          const dataTable =\n",
              "            await google.colab.kernel.invokeFunction('convertToInteractive',\n",
              "                                                     [key], {});\n",
              "          if (!dataTable) return;\n",
              "\n",
              "          const docLinkHtml = 'Like what you see? Visit the ' +\n",
              "            '<a target=\"_blank\" href=https://colab.research.google.com/notebooks/data_table.ipynb>data table notebook</a>'\n",
              "            + ' to learn more about interactive tables.';\n",
              "          element.innerHTML = '';\n",
              "          dataTable['output_type'] = 'display_data';\n",
              "          await google.colab.output.renderOutput(dataTable, element);\n",
              "          const docLink = document.createElement('div');\n",
              "          docLink.innerHTML = docLinkHtml;\n",
              "          element.appendChild(docLink);\n",
              "        }\n",
              "      </script>\n",
              "    </div>\n",
              "  </div>\n",
              "  "
            ]
          },
          "metadata": {},
          "execution_count": 134
        }
      ],
      "source": [
        "raw_compensation[\"Total Pay ($)\"] = raw_compensation[\"Total Pay\"].apply(convert_pay_string_to_number)\n",
        "compensation = raw_compensation\n",
        "#compensation = raw_compensation[\"Total Pay ($)\"]\n",
        "compensation"
      ]
    },
    {
      "cell_type": "markdown",
      "metadata": {
        "id": "djAoxMokYXr6"
      },
      "source": [
        "Now that we have the pay in numbers, we can compute things about them.\n",
        "\n",
        "**Question 3.** Compute the average total pay of the CEOs in the dataset."
      ]
    },
    {
      "cell_type": "code",
      "execution_count": 135,
      "metadata": {
        "colab": {
          "base_uri": "https://localhost:8080/"
        },
        "id": "3Q60KWsIYXr7",
        "outputId": "2a212662-3721-4a06-ce35-b51a2e2218dd"
      },
      "outputs": [
        {
          "output_type": "execute_result",
          "data": {
            "text/plain": [
              "11.445294117647055"
            ]
          },
          "metadata": {},
          "execution_count": 135
        }
      ],
      "source": [
        "#average_total_pay = np.average(compensation)\n",
        "average_total_pay = np.average(compensation[\"Total Pay ($)\"])\n",
        "average_total_pay"
      ]
    },
    {
      "cell_type": "markdown",
      "metadata": {
        "id": "zlOnSv-jYXr8"
      },
      "source": [
        "**Question 4.** Companies pay executives in a variety of ways: directly in cash; by granting stock or other \"equity\" in the company; or with ancillary benefits (like private jets).  Compute the proportion of each CEO's pay that was cash.  (Your answer should be an array of numbers, one for each CEO in the dataset.)"
      ]
    },
    {
      "cell_type": "code",
      "source": [
        "# Testing...\n",
        "raw_compensation.head()\n",
        "total_pay = convert_pay_string_to_number(raw_compensation[\"Total Pay\"][0])\n",
        "cash_pay = convert_pay_string_to_number(raw_compensation[\"Cash Pay\"][0])\n",
        "cash_pay / total_pay"
      ],
      "metadata": {
        "colab": {
          "base_uri": "https://localhost:8080/"
        },
        "id": "Z-wm2vQzrCZ4",
        "outputId": "ff0b5f98-8b54-4cd5-a996-39dd08ca0c75"
      },
      "execution_count": 136,
      "outputs": [
        {
          "output_type": "execute_result",
          "data": {
            "text/plain": [
              "0.01784037558685446"
            ]
          },
          "metadata": {},
          "execution_count": 136
        }
      ]
    },
    {
      "cell_type": "code",
      "execution_count": 137,
      "metadata": {
        "colab": {
          "base_uri": "https://localhost:8080/"
        },
        "id": "solurwBlYXr8",
        "outputId": "bbbea3a5-9c0c-4676-9df2-2628c5fcbf4e"
      },
      "outputs": [
        {
          "output_type": "execute_result",
          "data": {
            "text/plain": [
              "array([0.01784038, 0.01784373, 0.55421955, 0.02779322, 0.13938849,\n",
              "       0.48711755, 0.19555354, 0.12437059, 0.25993884, 0.35196687,\n",
              "       0.3075693 , 0.22138635, 0.13126362, 0.1708126 , 0.23099415,\n",
              "       0.06734817, 0.13043478, 0.28004957, 0.33229814, 0.15355805,\n",
              "       0.29337748, 0.21829105, 0.31100478, 0.25086147, 0.2299169 ,\n",
              "       0.16991643, 0.31795947, 0.26188786, 0.28357143, 0.15654718,\n",
              "       0.38168558, 0.28934426, 0.20361248, 0.47650453, 0.45643154,\n",
              "       0.36402027, 0.2177626 , 0.24763543, 0.42562724, 0.2610261 ,\n",
              "       0.18361836, 0.1444548 , 0.33333333, 0.10834132, 0.20925747,\n",
              "       0.97276265, 0.22979552, 0.22789784, 0.37893701, 0.25175527,\n",
              "       0.73895582, 0.37018256, 0.2412731 , 0.2133758 , 0.20553781,\n",
              "       0.23318872, 0.33664459, 0.3875969 , 0.56094808, 0.11757991,\n",
              "       0.35239207, 0.24463007, 0.25      , 0.23712575, 0.43377886,\n",
              "       0.31424936, 0.46363636, 0.32585752, 0.24766977, 0.98755187,\n",
              "       0.27184466, 0.96207865, 0.31831395, 0.81979321, 0.23795181,\n",
              "       0.17530488, 0.21172638, 0.37162162, 0.27288136, 0.26994907,\n",
              "       0.55148342, 0.3597786 , 0.        , 0.47154472, 0.47154472,\n",
              "       0.29753915, 0.16235294, 0.48529412, 0.46819338, 0.32526882,\n",
              "       0.98958333, 0.61130742, 0.67021277, 0.75510204, 0.50837989,\n",
              "       0.98809524, 0.98039216, 0.9893617 , 0.87654321, 0.        ,\n",
              "       1.        ,        nan])"
            ]
          },
          "metadata": {},
          "execution_count": 137
        }
      ],
      "source": [
        "compensation[\"Cash Pay Proportion\"] = compensation[\"Cash Pay\"].apply(convert_pay_string_to_number)\n",
        "cash_proportion = compensation[\"Cash Pay Proportion\"] / compensation[\"Total Pay ($)\"]\n",
        "#cash_proportion = cash_proportion.array\n",
        "cash_proportion = cash_proportion.values\n",
        "cash_proportion"
      ]
    },
    {
      "cell_type": "markdown",
      "metadata": {
        "id": "MZI9vbpVYXr8"
      },
      "source": [
        "Check out the \"% Change\" column in `compensation`.  It shows the percentage increase in the CEO's pay from the previous year.  For CEOs with no previous year on record, it instead says \"(No previous year)\".  The values in this column are *strings*, not numbers, so like the \"Total Pay\" column, it's not usable without a bit of extra work.\n",
        "\n",
        "Given your current pay and the percentage increase from the previous year, you can compute your previous year's pay.  For example, if your pay is \\$100 this year, and that's an increase of 50% from the previous year, then your previous year's pay was $\\frac{\\$100}{1 + \\frac{50}{100}}$, or around \\$66.66.\n",
        "\n",
        "**Question 5.** Create a new table called `with_previous_compensation`.  It should be a copy of `compensation`, but with the \"(No previous year)\" CEOs filtered out, and with an extra column called \"2014 Total Pay ($)\".  That column should have each CEO's pay in 2014.\n",
        "\n",
        "*Hint:* This question takes several steps, but each one is still something you've seen before.  Take it one step at a time, using as many lines as you need.  You can print out your results after each step to make sure you're on the right track.\n",
        "\n",
        "*Hint 2:* You'll need to define a function.  You can do that just above your other code."
      ]
    },
    {
      "cell_type": "code",
      "source": [
        "# For reference, our solution involved more than just this one line of code\n",
        "compensation_copy = compensation.copy()\n",
        "# Oneliner for fun\n",
        "compensation_copy[\"2014 Total Pay ($)\"] = (compensation[\"Total Pay ($)\"] / (1 + (compensation.loc[compensation[\"% Change\"] != \"(No previous year)\"][\"% Change\"].apply((lambda x: float(x.strip('%')))) / 100))).round(2)\n",
        "compensation_copy.head()"
      ],
      "metadata": {
        "colab": {
          "base_uri": "https://localhost:8080/",
          "height": 337
        },
        "id": "9vP03by3F0Hw",
        "outputId": "08e7ec77-ee52-4ac7-dbbd-d8bec4d50a97"
      },
      "execution_count": 138,
      "outputs": [
        {
          "output_type": "execute_result",
          "data": {
            "text/plain": [
              "   Rank              Name          Company (Headquarters) Total Pay  \\\n",
              "0     1     Mark V. Hurd*           Oracle (Redwood City)   $53.25    \n",
              "1     2    Safra A. Catz*           Oracle (Redwood City)   $53.24    \n",
              "2     3    Robert A. Iger           Walt Disney (Burbank)   $44.91    \n",
              "3     4  Marissa A. Mayer              Yahoo! (Sunnyvale)   $35.98    \n",
              "4     5      Marc Benioff  salesforce.com (San Francisco)   $33.36    \n",
              "\n",
              "             % Change Cash Pay Equity Pay Other Pay  \\\n",
              "0  (No previous year)   $0.95     $52.27     $0.02    \n",
              "1  (No previous year)   $0.95     $52.27     $0.02    \n",
              "2                 -3%  $24.89     $17.28     $2.74    \n",
              "3                -15%   $1.00     $34.43     $0.55    \n",
              "4                -16%   $4.65     $27.26     $1.45    \n",
              "\n",
              "   Ratio of CEO pay to average industry worker pay  Total Pay ($)  \\\n",
              "0                                            362.0          53.25   \n",
              "1                                            362.0          53.24   \n",
              "2                                            477.0          44.91   \n",
              "3                                            342.0          35.98   \n",
              "4                                            338.0          33.36   \n",
              "\n",
              "   Cash Pay Proportion  2014 Total Pay ($)  \n",
              "0                 0.95                 NaN  \n",
              "1                 0.95                 NaN  \n",
              "2                24.89               46.30  \n",
              "3                 1.00               42.33  \n",
              "4                 4.65               39.71  "
            ],
            "text/html": [
              "\n",
              "  <div id=\"df-c70c97a2-2536-4ab6-9c09-3124fa877a66\">\n",
              "    <div class=\"colab-df-container\">\n",
              "      <div>\n",
              "<style scoped>\n",
              "    .dataframe tbody tr th:only-of-type {\n",
              "        vertical-align: middle;\n",
              "    }\n",
              "\n",
              "    .dataframe tbody tr th {\n",
              "        vertical-align: top;\n",
              "    }\n",
              "\n",
              "    .dataframe thead th {\n",
              "        text-align: right;\n",
              "    }\n",
              "</style>\n",
              "<table border=\"1\" class=\"dataframe\">\n",
              "  <thead>\n",
              "    <tr style=\"text-align: right;\">\n",
              "      <th></th>\n",
              "      <th>Rank</th>\n",
              "      <th>Name</th>\n",
              "      <th>Company (Headquarters)</th>\n",
              "      <th>Total Pay</th>\n",
              "      <th>% Change</th>\n",
              "      <th>Cash Pay</th>\n",
              "      <th>Equity Pay</th>\n",
              "      <th>Other Pay</th>\n",
              "      <th>Ratio of CEO pay to average industry worker pay</th>\n",
              "      <th>Total Pay ($)</th>\n",
              "      <th>Cash Pay Proportion</th>\n",
              "      <th>2014 Total Pay ($)</th>\n",
              "    </tr>\n",
              "  </thead>\n",
              "  <tbody>\n",
              "    <tr>\n",
              "      <th>0</th>\n",
              "      <td>1</td>\n",
              "      <td>Mark V. Hurd*</td>\n",
              "      <td>Oracle (Redwood City)</td>\n",
              "      <td>$53.25</td>\n",
              "      <td>(No previous year)</td>\n",
              "      <td>$0.95</td>\n",
              "      <td>$52.27</td>\n",
              "      <td>$0.02</td>\n",
              "      <td>362.0</td>\n",
              "      <td>53.25</td>\n",
              "      <td>0.95</td>\n",
              "      <td>NaN</td>\n",
              "    </tr>\n",
              "    <tr>\n",
              "      <th>1</th>\n",
              "      <td>2</td>\n",
              "      <td>Safra A. Catz*</td>\n",
              "      <td>Oracle (Redwood City)</td>\n",
              "      <td>$53.24</td>\n",
              "      <td>(No previous year)</td>\n",
              "      <td>$0.95</td>\n",
              "      <td>$52.27</td>\n",
              "      <td>$0.02</td>\n",
              "      <td>362.0</td>\n",
              "      <td>53.24</td>\n",
              "      <td>0.95</td>\n",
              "      <td>NaN</td>\n",
              "    </tr>\n",
              "    <tr>\n",
              "      <th>2</th>\n",
              "      <td>3</td>\n",
              "      <td>Robert A. Iger</td>\n",
              "      <td>Walt Disney (Burbank)</td>\n",
              "      <td>$44.91</td>\n",
              "      <td>-3%</td>\n",
              "      <td>$24.89</td>\n",
              "      <td>$17.28</td>\n",
              "      <td>$2.74</td>\n",
              "      <td>477.0</td>\n",
              "      <td>44.91</td>\n",
              "      <td>24.89</td>\n",
              "      <td>46.30</td>\n",
              "    </tr>\n",
              "    <tr>\n",
              "      <th>3</th>\n",
              "      <td>4</td>\n",
              "      <td>Marissa A. Mayer</td>\n",
              "      <td>Yahoo! (Sunnyvale)</td>\n",
              "      <td>$35.98</td>\n",
              "      <td>-15%</td>\n",
              "      <td>$1.00</td>\n",
              "      <td>$34.43</td>\n",
              "      <td>$0.55</td>\n",
              "      <td>342.0</td>\n",
              "      <td>35.98</td>\n",
              "      <td>1.00</td>\n",
              "      <td>42.33</td>\n",
              "    </tr>\n",
              "    <tr>\n",
              "      <th>4</th>\n",
              "      <td>5</td>\n",
              "      <td>Marc Benioff</td>\n",
              "      <td>salesforce.com (San Francisco)</td>\n",
              "      <td>$33.36</td>\n",
              "      <td>-16%</td>\n",
              "      <td>$4.65</td>\n",
              "      <td>$27.26</td>\n",
              "      <td>$1.45</td>\n",
              "      <td>338.0</td>\n",
              "      <td>33.36</td>\n",
              "      <td>4.65</td>\n",
              "      <td>39.71</td>\n",
              "    </tr>\n",
              "  </tbody>\n",
              "</table>\n",
              "</div>\n",
              "      <button class=\"colab-df-convert\" onclick=\"convertToInteractive('df-c70c97a2-2536-4ab6-9c09-3124fa877a66')\"\n",
              "              title=\"Convert this dataframe to an interactive table.\"\n",
              "              style=\"display:none;\">\n",
              "        \n",
              "  <svg xmlns=\"http://www.w3.org/2000/svg\" height=\"24px\"viewBox=\"0 0 24 24\"\n",
              "       width=\"24px\">\n",
              "    <path d=\"M0 0h24v24H0V0z\" fill=\"none\"/>\n",
              "    <path d=\"M18.56 5.44l.94 2.06.94-2.06 2.06-.94-2.06-.94-.94-2.06-.94 2.06-2.06.94zm-11 1L8.5 8.5l.94-2.06 2.06-.94-2.06-.94L8.5 2.5l-.94 2.06-2.06.94zm10 10l.94 2.06.94-2.06 2.06-.94-2.06-.94-.94-2.06-.94 2.06-2.06.94z\"/><path d=\"M17.41 7.96l-1.37-1.37c-.4-.4-.92-.59-1.43-.59-.52 0-1.04.2-1.43.59L10.3 9.45l-7.72 7.72c-.78.78-.78 2.05 0 2.83L4 21.41c.39.39.9.59 1.41.59.51 0 1.02-.2 1.41-.59l7.78-7.78 2.81-2.81c.8-.78.8-2.07 0-2.86zM5.41 20L4 18.59l7.72-7.72 1.47 1.35L5.41 20z\"/>\n",
              "  </svg>\n",
              "      </button>\n",
              "      \n",
              "  <style>\n",
              "    .colab-df-container {\n",
              "      display:flex;\n",
              "      flex-wrap:wrap;\n",
              "      gap: 12px;\n",
              "    }\n",
              "\n",
              "    .colab-df-convert {\n",
              "      background-color: #E8F0FE;\n",
              "      border: none;\n",
              "      border-radius: 50%;\n",
              "      cursor: pointer;\n",
              "      display: none;\n",
              "      fill: #1967D2;\n",
              "      height: 32px;\n",
              "      padding: 0 0 0 0;\n",
              "      width: 32px;\n",
              "    }\n",
              "\n",
              "    .colab-df-convert:hover {\n",
              "      background-color: #E2EBFA;\n",
              "      box-shadow: 0px 1px 2px rgba(60, 64, 67, 0.3), 0px 1px 3px 1px rgba(60, 64, 67, 0.15);\n",
              "      fill: #174EA6;\n",
              "    }\n",
              "\n",
              "    [theme=dark] .colab-df-convert {\n",
              "      background-color: #3B4455;\n",
              "      fill: #D2E3FC;\n",
              "    }\n",
              "\n",
              "    [theme=dark] .colab-df-convert:hover {\n",
              "      background-color: #434B5C;\n",
              "      box-shadow: 0px 1px 3px 1px rgba(0, 0, 0, 0.15);\n",
              "      filter: drop-shadow(0px 1px 2px rgba(0, 0, 0, 0.3));\n",
              "      fill: #FFFFFF;\n",
              "    }\n",
              "  </style>\n",
              "\n",
              "      <script>\n",
              "        const buttonEl =\n",
              "          document.querySelector('#df-c70c97a2-2536-4ab6-9c09-3124fa877a66 button.colab-df-convert');\n",
              "        buttonEl.style.display =\n",
              "          google.colab.kernel.accessAllowed ? 'block' : 'none';\n",
              "\n",
              "        async function convertToInteractive(key) {\n",
              "          const element = document.querySelector('#df-c70c97a2-2536-4ab6-9c09-3124fa877a66');\n",
              "          const dataTable =\n",
              "            await google.colab.kernel.invokeFunction('convertToInteractive',\n",
              "                                                     [key], {});\n",
              "          if (!dataTable) return;\n",
              "\n",
              "          const docLinkHtml = 'Like what you see? Visit the ' +\n",
              "            '<a target=\"_blank\" href=https://colab.research.google.com/notebooks/data_table.ipynb>data table notebook</a>'\n",
              "            + ' to learn more about interactive tables.';\n",
              "          element.innerHTML = '';\n",
              "          dataTable['output_type'] = 'display_data';\n",
              "          await google.colab.output.renderOutput(dataTable, element);\n",
              "          const docLink = document.createElement('div');\n",
              "          docLink.innerHTML = docLinkHtml;\n",
              "          element.appendChild(docLink);\n",
              "        }\n",
              "      </script>\n",
              "    </div>\n",
              "  </div>\n",
              "  "
            ]
          },
          "metadata": {},
          "execution_count": 138
        }
      ]
    },
    {
      "cell_type": "code",
      "execution_count": 139,
      "metadata": {
        "for_assignment_type": "student",
        "colab": {
          "base_uri": "https://localhost:8080/",
          "height": 406
        },
        "id": "HF6cicsYYXr9",
        "outputId": "3bcc4329-ccca-4ec1-d376-7ccca7c020f8"
      },
      "outputs": [
        {
          "output_type": "stream",
          "name": "stderr",
          "text": [
            "/usr/local/lib/python3.7/dist-packages/ipykernel_launcher.py:10: SettingWithCopyWarning: \n",
            "A value is trying to be set on a copy of a slice from a DataFrame.\n",
            "Try using .loc[row_indexer,col_indexer] = value instead\n",
            "\n",
            "See the caveats in the documentation: https://pandas.pydata.org/pandas-docs/stable/user_guide/indexing.html#returning-a-view-versus-a-copy\n",
            "  # Remove the CWD from sys.path while we load stuff.\n"
          ]
        },
        {
          "output_type": "execute_result",
          "data": {
            "text/plain": [
              "   Rank                Name          Company (Headquarters) Total Pay  \\\n",
              "2     3      Robert A. Iger           Walt Disney (Burbank)   $44.91    \n",
              "3     4    Marissa A. Mayer              Yahoo! (Sunnyvale)   $35.98    \n",
              "4     5        Marc Benioff  salesforce.com (San Francisco)   $33.36    \n",
              "5     6  John H. Hammergren        McKesson (San Francisco)   $24.84    \n",
              "6     7      John S. Watson             Chevron (San Ramon)   $22.04    \n",
              "\n",
              "  % Change Cash Pay Equity Pay Other Pay  \\\n",
              "2      -3%  $24.89     $17.28     $2.74    \n",
              "3     -15%   $1.00     $34.43     $0.55    \n",
              "4     -16%   $4.65     $27.26     $1.45    \n",
              "5      -4%  $12.10     $12.37     $0.37    \n",
              "6     -15%   $4.31     $14.68     $3.05    \n",
              "\n",
              "   Ratio of CEO pay to average industry worker pay  Total Pay ($)  \\\n",
              "2                                            477.0          44.91   \n",
              "3                                            342.0          35.98   \n",
              "4                                            338.0          33.36   \n",
              "5                                            222.0          24.84   \n",
              "6                                            183.0          22.04   \n",
              "\n",
              "   Cash Pay Proportion  2014 Total Pay ($)  \n",
              "2                24.89               46.30  \n",
              "3                 1.00               42.33  \n",
              "4                 4.65               39.71  \n",
              "5                12.10               25.88  \n",
              "6                 4.31               25.93  "
            ],
            "text/html": [
              "\n",
              "  <div id=\"df-4b43dd8d-e562-40ad-bcc6-4c0a7fc79fd9\">\n",
              "    <div class=\"colab-df-container\">\n",
              "      <div>\n",
              "<style scoped>\n",
              "    .dataframe tbody tr th:only-of-type {\n",
              "        vertical-align: middle;\n",
              "    }\n",
              "\n",
              "    .dataframe tbody tr th {\n",
              "        vertical-align: top;\n",
              "    }\n",
              "\n",
              "    .dataframe thead th {\n",
              "        text-align: right;\n",
              "    }\n",
              "</style>\n",
              "<table border=\"1\" class=\"dataframe\">\n",
              "  <thead>\n",
              "    <tr style=\"text-align: right;\">\n",
              "      <th></th>\n",
              "      <th>Rank</th>\n",
              "      <th>Name</th>\n",
              "      <th>Company (Headquarters)</th>\n",
              "      <th>Total Pay</th>\n",
              "      <th>% Change</th>\n",
              "      <th>Cash Pay</th>\n",
              "      <th>Equity Pay</th>\n",
              "      <th>Other Pay</th>\n",
              "      <th>Ratio of CEO pay to average industry worker pay</th>\n",
              "      <th>Total Pay ($)</th>\n",
              "      <th>Cash Pay Proportion</th>\n",
              "      <th>2014 Total Pay ($)</th>\n",
              "    </tr>\n",
              "  </thead>\n",
              "  <tbody>\n",
              "    <tr>\n",
              "      <th>2</th>\n",
              "      <td>3</td>\n",
              "      <td>Robert A. Iger</td>\n",
              "      <td>Walt Disney (Burbank)</td>\n",
              "      <td>$44.91</td>\n",
              "      <td>-3%</td>\n",
              "      <td>$24.89</td>\n",
              "      <td>$17.28</td>\n",
              "      <td>$2.74</td>\n",
              "      <td>477.0</td>\n",
              "      <td>44.91</td>\n",
              "      <td>24.89</td>\n",
              "      <td>46.30</td>\n",
              "    </tr>\n",
              "    <tr>\n",
              "      <th>3</th>\n",
              "      <td>4</td>\n",
              "      <td>Marissa A. Mayer</td>\n",
              "      <td>Yahoo! (Sunnyvale)</td>\n",
              "      <td>$35.98</td>\n",
              "      <td>-15%</td>\n",
              "      <td>$1.00</td>\n",
              "      <td>$34.43</td>\n",
              "      <td>$0.55</td>\n",
              "      <td>342.0</td>\n",
              "      <td>35.98</td>\n",
              "      <td>1.00</td>\n",
              "      <td>42.33</td>\n",
              "    </tr>\n",
              "    <tr>\n",
              "      <th>4</th>\n",
              "      <td>5</td>\n",
              "      <td>Marc Benioff</td>\n",
              "      <td>salesforce.com (San Francisco)</td>\n",
              "      <td>$33.36</td>\n",
              "      <td>-16%</td>\n",
              "      <td>$4.65</td>\n",
              "      <td>$27.26</td>\n",
              "      <td>$1.45</td>\n",
              "      <td>338.0</td>\n",
              "      <td>33.36</td>\n",
              "      <td>4.65</td>\n",
              "      <td>39.71</td>\n",
              "    </tr>\n",
              "    <tr>\n",
              "      <th>5</th>\n",
              "      <td>6</td>\n",
              "      <td>John H. Hammergren</td>\n",
              "      <td>McKesson (San Francisco)</td>\n",
              "      <td>$24.84</td>\n",
              "      <td>-4%</td>\n",
              "      <td>$12.10</td>\n",
              "      <td>$12.37</td>\n",
              "      <td>$0.37</td>\n",
              "      <td>222.0</td>\n",
              "      <td>24.84</td>\n",
              "      <td>12.10</td>\n",
              "      <td>25.88</td>\n",
              "    </tr>\n",
              "    <tr>\n",
              "      <th>6</th>\n",
              "      <td>7</td>\n",
              "      <td>John S. Watson</td>\n",
              "      <td>Chevron (San Ramon)</td>\n",
              "      <td>$22.04</td>\n",
              "      <td>-15%</td>\n",
              "      <td>$4.31</td>\n",
              "      <td>$14.68</td>\n",
              "      <td>$3.05</td>\n",
              "      <td>183.0</td>\n",
              "      <td>22.04</td>\n",
              "      <td>4.31</td>\n",
              "      <td>25.93</td>\n",
              "    </tr>\n",
              "  </tbody>\n",
              "</table>\n",
              "</div>\n",
              "      <button class=\"colab-df-convert\" onclick=\"convertToInteractive('df-4b43dd8d-e562-40ad-bcc6-4c0a7fc79fd9')\"\n",
              "              title=\"Convert this dataframe to an interactive table.\"\n",
              "              style=\"display:none;\">\n",
              "        \n",
              "  <svg xmlns=\"http://www.w3.org/2000/svg\" height=\"24px\"viewBox=\"0 0 24 24\"\n",
              "       width=\"24px\">\n",
              "    <path d=\"M0 0h24v24H0V0z\" fill=\"none\"/>\n",
              "    <path d=\"M18.56 5.44l.94 2.06.94-2.06 2.06-.94-2.06-.94-.94-2.06-.94 2.06-2.06.94zm-11 1L8.5 8.5l.94-2.06 2.06-.94-2.06-.94L8.5 2.5l-.94 2.06-2.06.94zm10 10l.94 2.06.94-2.06 2.06-.94-2.06-.94-.94-2.06-.94 2.06-2.06.94z\"/><path d=\"M17.41 7.96l-1.37-1.37c-.4-.4-.92-.59-1.43-.59-.52 0-1.04.2-1.43.59L10.3 9.45l-7.72 7.72c-.78.78-.78 2.05 0 2.83L4 21.41c.39.39.9.59 1.41.59.51 0 1.02-.2 1.41-.59l7.78-7.78 2.81-2.81c.8-.78.8-2.07 0-2.86zM5.41 20L4 18.59l7.72-7.72 1.47 1.35L5.41 20z\"/>\n",
              "  </svg>\n",
              "      </button>\n",
              "      \n",
              "  <style>\n",
              "    .colab-df-container {\n",
              "      display:flex;\n",
              "      flex-wrap:wrap;\n",
              "      gap: 12px;\n",
              "    }\n",
              "\n",
              "    .colab-df-convert {\n",
              "      background-color: #E8F0FE;\n",
              "      border: none;\n",
              "      border-radius: 50%;\n",
              "      cursor: pointer;\n",
              "      display: none;\n",
              "      fill: #1967D2;\n",
              "      height: 32px;\n",
              "      padding: 0 0 0 0;\n",
              "      width: 32px;\n",
              "    }\n",
              "\n",
              "    .colab-df-convert:hover {\n",
              "      background-color: #E2EBFA;\n",
              "      box-shadow: 0px 1px 2px rgba(60, 64, 67, 0.3), 0px 1px 3px 1px rgba(60, 64, 67, 0.15);\n",
              "      fill: #174EA6;\n",
              "    }\n",
              "\n",
              "    [theme=dark] .colab-df-convert {\n",
              "      background-color: #3B4455;\n",
              "      fill: #D2E3FC;\n",
              "    }\n",
              "\n",
              "    [theme=dark] .colab-df-convert:hover {\n",
              "      background-color: #434B5C;\n",
              "      box-shadow: 0px 1px 3px 1px rgba(0, 0, 0, 0.15);\n",
              "      filter: drop-shadow(0px 1px 2px rgba(0, 0, 0, 0.3));\n",
              "      fill: #FFFFFF;\n",
              "    }\n",
              "  </style>\n",
              "\n",
              "      <script>\n",
              "        const buttonEl =\n",
              "          document.querySelector('#df-4b43dd8d-e562-40ad-bcc6-4c0a7fc79fd9 button.colab-df-convert');\n",
              "        buttonEl.style.display =\n",
              "          google.colab.kernel.accessAllowed ? 'block' : 'none';\n",
              "\n",
              "        async function convertToInteractive(key) {\n",
              "          const element = document.querySelector('#df-4b43dd8d-e562-40ad-bcc6-4c0a7fc79fd9');\n",
              "          const dataTable =\n",
              "            await google.colab.kernel.invokeFunction('convertToInteractive',\n",
              "                                                     [key], {});\n",
              "          if (!dataTable) return;\n",
              "\n",
              "          const docLinkHtml = 'Like what you see? Visit the ' +\n",
              "            '<a target=\"_blank\" href=https://colab.research.google.com/notebooks/data_table.ipynb>data table notebook</a>'\n",
              "            + ' to learn more about interactive tables.';\n",
              "          element.innerHTML = '';\n",
              "          dataTable['output_type'] = 'display_data';\n",
              "          await google.colab.output.renderOutput(dataTable, element);\n",
              "          const docLink = document.createElement('div');\n",
              "          docLink.innerHTML = docLinkHtml;\n",
              "          element.appendChild(docLink);\n",
              "        }\n",
              "      </script>\n",
              "    </div>\n",
              "  </div>\n",
              "  "
            ]
          },
          "metadata": {},
          "execution_count": 139
        }
      ],
      "source": [
        "def convert_change_string_to_number(change_string):\n",
        "    \"\"\"Converts a % change string like '$100' (in millions) to a number of dollars.\"\"\"\n",
        "    return float(change_string.strip('%'))\n",
        "\n",
        "compensation_new = compensation.loc[compensation[\"% Change\"] != \"(No previous year)\"]\n",
        "\n",
        "change_value = compensation_new[\"% Change\"].apply(convert_change_string_to_number)\n",
        "change_value\n",
        "# Formula: total pay $ / (1 + change_value / 100)\n",
        "compensation_new[\"2014 Total Pay ($)\"] = (compensation_new[\"Total Pay ($)\"] / (1 + (change_value / 100))).round(2)\n",
        "with_previous_compensation = compensation_new\n",
        "with_previous_compensation.head()\n",
        "\n",
        "# Old\n",
        "#change_value = compensation.loc[compensation[\"% Change\"] != \"(No previous year)\"][\"% Change\"].apply(convert_change_string_to_number)\n",
        "# This commented line will include the Total Pay ($) if no % change exists (i.e. fillna)\n",
        "#compensation[\"2014 Total Pay ($)\"] = (compensation[\"Total Pay ($)\"] / (1 + (change_value / 100))).round(2).fillna(compensation[\"Total Pay ($)\"])\n",
        "#compensation[\"2014 Total Pay ($)\"] = (compensation[\"Total Pay ($)\"] / (1 + (change_value / 100))).round(2)\n",
        "#compensation.head()"
      ]
    },
    {
      "cell_type": "markdown",
      "metadata": {
        "id": "0qVmkl7mYXr-"
      },
      "source": [
        "**Question 6.** What was the average pay of these CEOs in 2014?"
      ]
    },
    {
      "cell_type": "code",
      "execution_count": 140,
      "metadata": {
        "colab": {
          "base_uri": "https://localhost:8080/"
        },
        "id": "UBVh9XVhYXr-",
        "outputId": "77c38cca-de1f-4240-f241-969abaa19dab"
      },
      "outputs": [
        {
          "output_type": "execute_result",
          "data": {
            "text/plain": [
              "11.649135802469134"
            ]
          },
          "metadata": {},
          "execution_count": 140
        }
      ],
      "source": [
        "average_pay_2014 = np.average(with_previous_compensation[\"2014 Total Pay ($)\"])\n",
        "average_pay_2014"
      ]
    },
    {
      "cell_type": "markdown",
      "metadata": {
        "id": "gyrokNibYXr-"
      },
      "source": [
        "## 4. Histograms\n",
        "Earlier, we computed the average pay among the CEOs in our 102-CEO dataset.  The average doesn't tell us everything about the amounts CEOs are paid, though.  Maybe just a few CEOs make the bulk of the money, even among these 102.\n",
        "\n",
        "We can use a *histogram* to display more information about a set of numbers.  The `DataFrame` method `hist` takes an argument `column`, the name of a column of numbers.  It produces a histogram of the numbers in that column.\n",
        "\n",
        "**Question 1.** Make a histogram of the pay of the CEOs in `compensation`."
      ]
    },
    {
      "cell_type": "code",
      "execution_count": 150,
      "metadata": {
        "colab": {
          "base_uri": "https://localhost:8080/",
          "height": 844
        },
        "id": "Htzt1-TaYXr_",
        "outputId": "576c8a77-64bc-415c-e7f4-67a9653e1319"
      },
      "outputs": [
        {
          "output_type": "execute_result",
          "data": {
            "text/plain": [
              "array([[<matplotlib.axes._subplots.AxesSubplot object at 0x7f30e3f66e90>]],\n",
              "      dtype=object)"
            ]
          },
          "metadata": {},
          "execution_count": 150
        },
        {
          "output_type": "display_data",
          "data": {
            "text/plain": [
              "<Figure size 432x288 with 1 Axes>"
            ],
            "image/png": "[encoded data removed]"
          },
          "metadata": {
            "needs_background": "light"
          }
        },
        {
          "output_type": "display_data",
          "data": {
            "text/plain": [
              "<Figure size 432x288 with 1 Axes>"
            ],
            "image/png": "[encoded data removed]"
          },
          "metadata": {
            "needs_background": "light"
          }
        },
        {
          "output_type": "display_data",
          "data": {
            "text/plain": [
              "<Figure size 432x288 with 1 Axes>"
            ],
            "image/png": "[encoded data removed]"
          },
          "metadata": {
            "needs_background": "light"
          }
        }
      ],
      "source": [
        "compensation.hist(column=\"Total Pay ($)\")\n",
        "compensation.hist(column=\"Cash Pay Proportion\")\n",
        "with_previous_compensation.hist(column=\"2014 Total Pay ($)\")"
      ]
    },
    {
      "cell_type": "markdown",
      "metadata": {
        "id": "-5YEKaLkYXr_"
      },
      "source": [
        "**Question 2.** Looking at the histogram, how many CEOs made more than \\$30 million?  (Answer the question by filling in your answer manually.  You'll have to do a bit of arithmetic; feel free to use Python as a calculator.)"
      ]
    },
    {
      "cell_type": "code",
      "execution_count": 158,
      "metadata": {
        "colab": {
          "base_uri": "https://localhost:8080/",
          "height": 607
        },
        "id": "rPWQyJ6CYXr_",
        "outputId": "c55d3844-f27f-4af2-e21b-91e944b16fb3"
      },
      "outputs": [
        {
          "output_type": "stream",
          "name": "stdout",
          "text": [
            "Max value of total pay ($): 53.25\n"
          ]
        },
        {
          "output_type": "execute_result",
          "data": {
            "text/plain": [
              "     Rank                Name                 Company (Headquarters)  \\\n",
              "0       1       Mark V. Hurd*                  Oracle (Redwood City)   \n",
              "1       2      Safra A. Catz*                  Oracle (Redwood City)   \n",
              "2       3      Robert A. Iger                  Walt Disney (Burbank)   \n",
              "3       4    Marissa A. Mayer                     Yahoo! (Sunnyvale)   \n",
              "4       5        Marc Benioff         salesforce.com (San Francisco)   \n",
              "..    ...                 ...                                    ...   \n",
              "97     98  Gregory N. Roberts  A-Mark Precious Metals (Santa Monica)   \n",
              "98     99     Jose L. Laparte                 PriceSmart (San Diego)   \n",
              "99    100         Jack Dorsey                Twitter (San Francisco)   \n",
              "100   101        Elon R. Musk               Tesla Motors (Palo Alto)   \n",
              "101   102    Lawrence Page***               Alphabet (Mountain View)   \n",
              "\n",
              "    Total Pay            % Change Cash Pay Equity Pay Other Pay  \\\n",
              "0     $53.25   (No previous year)   $0.95     $52.27     $0.02    \n",
              "1     $53.24   (No previous year)   $0.95     $52.27     $0.02    \n",
              "2     $44.91                  -3%  $24.89     $17.28     $2.74    \n",
              "3     $35.98                 -15%   $1.00     $34.43     $0.55    \n",
              "4     $33.36                 -16%   $4.65     $27.26     $1.45    \n",
              "..        ...                 ...      ...        ...       ...   \n",
              "97     $0.94                 -11%   $0.93      $0.00     $0.02    \n",
              "98     $0.81                  -7%   $0.71      $0.00     $0.10    \n",
              "99     $0.07   (No previous year)   $0.00      $0.00     $0.07    \n",
              "100    $0.04                   6%   $0.04      $0.00     $0.00    \n",
              "101    $0.00                   0%   $0.00      $0.00     $0.00    \n",
              "\n",
              "     Ratio of CEO pay to average industry worker pay  Total Pay ($)  \\\n",
              "0                                          362.00000          53.25   \n",
              "1                                          362.00000          53.24   \n",
              "2                                          477.00000          44.91   \n",
              "3                                          342.00000          35.98   \n",
              "4                                          338.00000          33.36   \n",
              "..                                               ...            ...   \n",
              "97                                          17.00000           0.94   \n",
              "98                                          32.00000           0.81   \n",
              "99                                           0.63000           0.07   \n",
              "100                                          0.46000           0.04   \n",
              "101                                          0.00001           0.00   \n",
              "\n",
              "     Cash Pay Proportion  \n",
              "0                   0.95  \n",
              "1                   0.95  \n",
              "2                  24.89  \n",
              "3                   1.00  \n",
              "4                   4.65  \n",
              "..                   ...  \n",
              "97                  0.93  \n",
              "98                  0.71  \n",
              "99                  0.00  \n",
              "100                 0.04  \n",
              "101                 0.00  \n",
              "\n",
              "[102 rows x 11 columns]"
            ],
            "text/html": [
              "\n",
              "  <div id=\"df-0fd38632-9c18-4c54-8b43-47366d70a08d\">\n",
              "    <div class=\"colab-df-container\">\n",
              "      <div>\n",
              "<style scoped>\n",
              "    .dataframe tbody tr th:only-of-type {\n",
              "        vertical-align: middle;\n",
              "    }\n",
              "\n",
              "    .dataframe tbody tr th {\n",
              "        vertical-align: top;\n",
              "    }\n",
              "\n",
              "    .dataframe thead th {\n",
              "        text-align: right;\n",
              "    }\n",
              "</style>\n",
              "<table border=\"1\" class=\"dataframe\">\n",
              "  <thead>\n",
              "    <tr style=\"text-align: right;\">\n",
              "      <th></th>\n",
              "      <th>Rank</th>\n",
              "      <th>Name</th>\n",
              "      <th>Company (Headquarters)</th>\n",
              "      <th>Total Pay</th>\n",
              "      <th>% Change</th>\n",
              "      <th>Cash Pay</th>\n",
              "      <th>Equity Pay</th>\n",
              "      <th>Other Pay</th>\n",
              "      <th>Ratio of CEO pay to average industry worker pay</th>\n",
              "      <th>Total Pay ($)</th>\n",
              "      <th>Cash Pay Proportion</th>\n",
              "    </tr>\n",
              "  </thead>\n",
              "  <tbody>\n",
              "    <tr>\n",
              "      <th>0</th>\n",
              "      <td>1</td>\n",
              "      <td>Mark V. Hurd*</td>\n",
              "      <td>Oracle (Redwood City)</td>\n",
              "      <td>$53.25</td>\n",
              "      <td>(No previous year)</td>\n",
              "      <td>$0.95</td>\n",
              "      <td>$52.27</td>\n",
              "      <td>$0.02</td>\n",
              "      <td>362.00000</td>\n",
              "      <td>53.25</td>\n",
              "      <td>0.95</td>\n",
              "    </tr>\n",
              "    <tr>\n",
              "      <th>1</th>\n",
              "      <td>2</td>\n",
              "      <td>Safra A. Catz*</td>\n",
              "      <td>Oracle (Redwood City)</td>\n",
              "      <td>$53.24</td>\n",
              "      <td>(No previous year)</td>\n",
              "      <td>$0.95</td>\n",
              "      <td>$52.27</td>\n",
              "      <td>$0.02</td>\n",
              "      <td>362.00000</td>\n",
              "      <td>53.24</td>\n",
              "      <td>0.95</td>\n",
              "    </tr>\n",
              "    <tr>\n",
              "      <th>2</th>\n",
              "      <td>3</td>\n",
              "      <td>Robert A. Iger</td>\n",
              "      <td>Walt Disney (Burbank)</td>\n",
              "      <td>$44.91</td>\n",
              "      <td>-3%</td>\n",
              "      <td>$24.89</td>\n",
              "      <td>$17.28</td>\n",
              "      <td>$2.74</td>\n",
              "      <td>477.00000</td>\n",
              "      <td>44.91</td>\n",
              "      <td>24.89</td>\n",
              "    </tr>\n",
              "    <tr>\n",
              "      <th>3</th>\n",
              "      <td>4</td>\n",
              "      <td>Marissa A. Mayer</td>\n",
              "      <td>Yahoo! (Sunnyvale)</td>\n",
              "      <td>$35.98</td>\n",
              "      <td>-15%</td>\n",
              "      <td>$1.00</td>\n",
              "      <td>$34.43</td>\n",
              "      <td>$0.55</td>\n",
              "      <td>342.00000</td>\n",
              "      <td>35.98</td>\n",
              "      <td>1.00</td>\n",
              "    </tr>\n",
              "    <tr>\n",
              "      <th>4</th>\n",
              "      <td>5</td>\n",
              "      <td>Marc Benioff</td>\n",
              "      <td>salesforce.com (San Francisco)</td>\n",
              "      <td>$33.36</td>\n",
              "      <td>-16%</td>\n",
              "      <td>$4.65</td>\n",
              "      <td>$27.26</td>\n",
              "      <td>$1.45</td>\n",
              "      <td>338.00000</td>\n",
              "      <td>33.36</td>\n",
              "      <td>4.65</td>\n",
              "    </tr>\n",
              "    <tr>\n",
              "      <th>...</th>\n",
              "      <td>...</td>\n",
              "      <td>...</td>\n",
              "      <td>...</td>\n",
              "      <td>...</td>\n",
              "      <td>...</td>\n",
              "      <td>...</td>\n",
              "      <td>...</td>\n",
              "      <td>...</td>\n",
              "      <td>...</td>\n",
              "      <td>...</td>\n",
              "      <td>...</td>\n",
              "    </tr>\n",
              "    <tr>\n",
              "      <th>97</th>\n",
              "      <td>98</td>\n",
              "      <td>Gregory N. Roberts</td>\n",
              "      <td>A-Mark Precious Metals (Santa Monica)</td>\n",
              "      <td>$0.94</td>\n",
              "      <td>-11%</td>\n",
              "      <td>$0.93</td>\n",
              "      <td>$0.00</td>\n",
              "      <td>$0.02</td>\n",
              "      <td>17.00000</td>\n",
              "      <td>0.94</td>\n",
              "      <td>0.93</td>\n",
              "    </tr>\n",
              "    <tr>\n",
              "      <th>98</th>\n",
              "      <td>99</td>\n",
              "      <td>Jose L. Laparte</td>\n",
              "      <td>PriceSmart (San Diego)</td>\n",
              "      <td>$0.81</td>\n",
              "      <td>-7%</td>\n",
              "      <td>$0.71</td>\n",
              "      <td>$0.00</td>\n",
              "      <td>$0.10</td>\n",
              "      <td>32.00000</td>\n",
              "      <td>0.81</td>\n",
              "      <td>0.71</td>\n",
              "    </tr>\n",
              "    <tr>\n",
              "      <th>99</th>\n",
              "      <td>100</td>\n",
              "      <td>Jack Dorsey</td>\n",
              "      <td>Twitter (San Francisco)</td>\n",
              "      <td>$0.07</td>\n",
              "      <td>(No previous year)</td>\n",
              "      <td>$0.00</td>\n",
              "      <td>$0.00</td>\n",
              "      <td>$0.07</td>\n",
              "      <td>0.63000</td>\n",
              "      <td>0.07</td>\n",
              "      <td>0.00</td>\n",
              "    </tr>\n",
              "    <tr>\n",
              "      <th>100</th>\n",
              "      <td>101</td>\n",
              "      <td>Elon R. Musk</td>\n",
              "      <td>Tesla Motors (Palo Alto)</td>\n",
              "      <td>$0.04</td>\n",
              "      <td>6%</td>\n",
              "      <td>$0.04</td>\n",
              "      <td>$0.00</td>\n",
              "      <td>$0.00</td>\n",
              "      <td>0.46000</td>\n",
              "      <td>0.04</td>\n",
              "      <td>0.04</td>\n",
              "    </tr>\n",
              "    <tr>\n",
              "      <th>101</th>\n",
              "      <td>102</td>\n",
              "      <td>Lawrence Page***</td>\n",
              "      <td>Alphabet (Mountain View)</td>\n",
              "      <td>$0.00</td>\n",
              "      <td>0%</td>\n",
              "      <td>$0.00</td>\n",
              "      <td>$0.00</td>\n",
              "      <td>$0.00</td>\n",
              "      <td>0.00001</td>\n",
              "      <td>0.00</td>\n",
              "      <td>0.00</td>\n",
              "    </tr>\n",
              "  </tbody>\n",
              "</table>\n",
              "<p>102 rows × 11 columns</p>\n",
              "</div>\n",
              "      <button class=\"colab-df-convert\" onclick=\"convertToInteractive('df-0fd38632-9c18-4c54-8b43-47366d70a08d')\"\n",
              "              title=\"Convert this dataframe to an interactive table.\"\n",
              "              style=\"display:none;\">\n",
              "        \n",
              "  <svg xmlns=\"http://www.w3.org/2000/svg\" height=\"24px\"viewBox=\"0 0 24 24\"\n",
              "       width=\"24px\">\n",
              "    <path d=\"M0 0h24v24H0V0z\" fill=\"none\"/>\n",
              "    <path d=\"M18.56 5.44l.94 2.06.94-2.06 2.06-.94-2.06-.94-.94-2.06-.94 2.06-2.06.94zm-11 1L8.5 8.5l.94-2.06 2.06-.94-2.06-.94L8.5 2.5l-.94 2.06-2.06.94zm10 10l.94 2.06.94-2.06 2.06-.94-2.06-.94-.94-2.06-.94 2.06-2.06.94z\"/><path d=\"M17.41 7.96l-1.37-1.37c-.4-.4-.92-.59-1.43-.59-.52 0-1.04.2-1.43.59L10.3 9.45l-7.72 7.72c-.78.78-.78 2.05 0 2.83L4 21.41c.39.39.9.59 1.41.59.51 0 1.02-.2 1.41-.59l7.78-7.78 2.81-2.81c.8-.78.8-2.07 0-2.86zM5.41 20L4 18.59l7.72-7.72 1.47 1.35L5.41 20z\"/>\n",
              "  </svg>\n",
              "      </button>\n",
              "      \n",
              "  <style>\n",
              "    .colab-df-container {\n",
              "      display:flex;\n",
              "      flex-wrap:wrap;\n",
              "      gap: 12px;\n",
              "    }\n",
              "\n",
              "    .colab-df-convert {\n",
              "      background-color: #E8F0FE;\n",
              "      border: none;\n",
              "      border-radius: 50%;\n",
              "      cursor: pointer;\n",
              "      display: none;\n",
              "      fill: #1967D2;\n",
              "      height: 32px;\n",
              "      padding: 0 0 0 0;\n",
              "      width: 32px;\n",
              "    }\n",
              "\n",
              "    .colab-df-convert:hover {\n",
              "      background-color: #E2EBFA;\n",
              "      box-shadow: 0px 1px 2px rgba(60, 64, 67, 0.3), 0px 1px 3px 1px rgba(60, 64, 67, 0.15);\n",
              "      fill: #174EA6;\n",
              "    }\n",
              "\n",
              "    [theme=dark] .colab-df-convert {\n",
              "      background-color: #3B4455;\n",
              "      fill: #D2E3FC;\n",
              "    }\n",
              "\n",
              "    [theme=dark] .colab-df-convert:hover {\n",
              "      background-color: #434B5C;\n",
              "      box-shadow: 0px 1px 3px 1px rgba(0, 0, 0, 0.15);\n",
              "      filter: drop-shadow(0px 1px 2px rgba(0, 0, 0, 0.3));\n",
              "      fill: #FFFFFF;\n",
              "    }\n",
              "  </style>\n",
              "\n",
              "      <script>\n",
              "        const buttonEl =\n",
              "          document.querySelector('#df-0fd38632-9c18-4c54-8b43-47366d70a08d button.colab-df-convert');\n",
              "        buttonEl.style.display =\n",
              "          google.colab.kernel.accessAllowed ? 'block' : 'none';\n",
              "\n",
              "        async function convertToInteractive(key) {\n",
              "          const element = document.querySelector('#df-0fd38632-9c18-4c54-8b43-47366d70a08d');\n",
              "          const dataTable =\n",
              "            await google.colab.kernel.invokeFunction('convertToInteractive',\n",
              "                                                     [key], {});\n",
              "          if (!dataTable) return;\n",
              "\n",
              "          const docLinkHtml = 'Like what you see? Visit the ' +\n",
              "            '<a target=\"_blank\" href=https://colab.research.google.com/notebooks/data_table.ipynb>data table notebook</a>'\n",
              "            + ' to learn more about interactive tables.';\n",
              "          element.innerHTML = '';\n",
              "          dataTable['output_type'] = 'display_data';\n",
              "          await google.colab.output.renderOutput(dataTable, element);\n",
              "          const docLink = document.createElement('div');\n",
              "          docLink.innerHTML = docLinkHtml;\n",
              "          element.appendChild(docLink);\n",
              "        }\n",
              "      </script>\n",
              "    </div>\n",
              "  </div>\n",
              "  "
            ]
          },
          "metadata": {},
          "execution_count": 158
        }
      ],
      "source": [
        "print(f'Max value of total pay ($): {compensation[\"Total Pay ($)\"].max()}')\n",
        "\n",
        "num_ceos_more_than_30_million = 0\n",
        "\n",
        "compensation.sort_values(by=[\"Total Pay ($)\"], ascending=False)"
      ]
    },
    {
      "cell_type": "markdown",
      "metadata": {
        "id": "_aLjJNFnYXsA"
      },
      "source": [
        "**Question 3.** Answer the same question with code.  *Hint:* Use the table method `where` and the property `num_rows`."
      ]
    },
    {
      "cell_type": "code",
      "execution_count": 163,
      "metadata": {
        "colab": {
          "base_uri": "https://localhost:8080/"
        },
        "id": "jgww6QxjYXsA",
        "outputId": "1e230a2e-1c54-45e8-9301-8c88cd0816d9"
      },
      "outputs": [
        {
          "output_type": "execute_result",
          "data": {
            "text/plain": [
              "0"
            ]
          },
          "metadata": {},
          "execution_count": 163
        }
      ],
      "source": [
        "#from datascience import *\n",
        "#num_ceos_more_than_30_million_2 = compensation.where(\"Total Pay ($)\", are.above(30000000)).num_rows\n",
        "\n",
        "#num_ceos_more_than_30_million_2 = compensation.loc[compensation[\"Total Pay ($)\"] > 50].shape[0]\n",
        "num_ceos_more_than_30_million_2 = compensation.loc[compensation[\"Total Pay ($)\"] > 30000000].shape[0]\n",
        "num_ceos_more_than_30_million_2"
      ]
    },
    {
      "cell_type": "markdown",
      "metadata": {
        "id": "9zqrp3FGYXsA"
      },
      "source": [
        "---\n",
        "You're done with Lab 4a!\n",
        "\n",
        "Choose **Save and Checkpoint** from the **File** menu to save your work.\n",
        "\n",
        "If you are running the labs in Binder (on the cloud), then choose **Download as Notebook** and save it to your computer. \n",
        "\n",
        "You can then move on to [Lab 4b](Lab4b_Data_Cleaning_and_Analysis_challenge.ipynb)."
      ]
    }
  ],
  "metadata": {
    "anaconda-cloud": {},
    "kernelspec": {
      "display_name": "Python 3",
      "language": "python",
      "name": "python3"
    },
    "language_info": {
      "codemirror_mode": {
        "name": "ipython",
        "version": 3
      },
      "file_extension": ".py",
      "mimetype": "text/x-python",
      "name": "python",
      "nbconvert_exporter": "python",
      "pygments_lexer": "ipython3",
      "version": "3.8.6"
    },
    "widgets": {
      "application/vnd.jupyter.widget-state+json": {
        "7ab3ea53818b4a7789d591a09687b399": {
          "model_module": "@jupyter-widgets/controls",
          "model_name": "VBoxModel",
          "model_module_version": "1.5.0",
          "state": {
            "_dom_classes": [
              "widget-interact"
            ],
            "_model_module": "@jupyter-widgets/controls",
            "_model_module_version": "1.5.0",
            "_model_name": "VBoxModel",
            "_view_count": null,
            "_view_module": "@jupyter-widgets/controls",
            "_view_module_version": "1.5.0",
            "_view_name": "VBoxView",
            "box_style": "",
            "children": [
              "IPY_MODEL_a9e1b6d432ec4f06a6bad46f42588e65",
              "IPY_MODEL_3d1525c47b6c49399411cbe0d64f58b9"
            ],
            "layout": "IPY_MODEL_3c4412d8a3e743c1b70a111ffda3027d"
          }
        },
        "a9e1b6d432ec4f06a6bad46f42588e65": {
          "model_module": "@jupyter-widgets/controls",
          "model_name": "TextModel",
          "model_module_version": "1.5.0",
          "state": {
            "_dom_classes": [],
            "_model_module": "@jupyter-widgets/controls",
            "_model_module_version": "1.5.0",
            "_model_name": "TextModel",
            "_view_count": null,
            "_view_module": "@jupyter-widgets/controls",
            "_view_module_version": "1.5.0",
            "_view_name": "TextView",
            "continuous_update": true,
            "description": "pay_string",
            "description_tooltip": null,
            "disabled": false,
            "layout": "IPY_MODEL_736e8d65fb044672b29a03d062b1a4bd",
            "placeholder": "​",
            "style": "IPY_MODEL_da35f69d8bae45b58cd319c9b0126f81",
            "value": "$42"
          }
        },
        "3d1525c47b6c49399411cbe0d64f58b9": {
          "model_module": "@jupyter-widgets/output",
          "model_name": "OutputModel",
          "model_module_version": "1.0.0",
          "state": {
            "_dom_classes": [],
            "_model_module": "@jupyter-widgets/output",
            "_model_module_version": "1.0.0",
            "_model_name": "OutputModel",
            "_view_count": null,
            "_view_module": "@jupyter-widgets/output",
            "_view_module_version": "1.0.0",
            "_view_name": "OutputView",
            "layout": "IPY_MODEL_1610541126cb4923b74fb9b1c7b1fd4f",
            "msg_id": "",
            "outputs": [
              {
                "output_type": "display_data",
                "data": {
                  "text/plain": "42.0"
                },
                "metadata": {}
              }
            ]
          }
        },
        "3c4412d8a3e743c1b70a111ffda3027d": {
          "model_module": "@jupyter-widgets/base",
          "model_name": "LayoutModel",
          "model_module_version": "1.2.0",
          "state": {
            "_model_module": "@jupyter-widgets/base",
            "_model_module_version": "1.2.0",
            "_model_name": "LayoutModel",
            "_view_count": null,
            "_view_module": "@jupyter-widgets/base",
            "_view_module_version": "1.2.0",
            "_view_name": "LayoutView",
            "align_content": null,
            "align_items": null,
            "align_self": null,
            "border": null,
            "bottom": null,
            "display": null,
            "flex": null,
            "flex_flow": null,
            "grid_area": null,
            "grid_auto_columns": null,
            "grid_auto_flow": null,
            "grid_auto_rows": null,
            "grid_column": null,
            "grid_gap": null,
            "grid_row": null,
            "grid_template_areas": null,
            "grid_template_columns": null,
            "grid_template_rows": null,
            "height": null,
            "justify_content": null,
            "justify_items": null,
            "left": null,
            "margin": null,
            "max_height": null,
            "max_width": null,
            "min_height": null,
            "min_width": null,
            "object_fit": null,
            "object_position": null,
            "order": null,
            "overflow": null,
            "overflow_x": null,
            "overflow_y": null,
            "padding": null,
            "right": null,
            "top": null,
            "visibility": null,
            "width": null
          }
        },
        "736e8d65fb044672b29a03d062b1a4bd": {
          "model_module": "@jupyter-widgets/base",
          "model_name": "LayoutModel",
          "model_module_version": "1.2.0",
          "state": {
            "_model_module": "@jupyter-widgets/base",
            "_model_module_version": "1.2.0",
            "_model_name": "LayoutModel",
            "_view_count": null,
            "_view_module": "@jupyter-widgets/base",
            "_view_module_version": "1.2.0",
            "_view_name": "LayoutView",
            "align_content": null,
            "align_items": null,
            "align_self": null,
            "border": null,
            "bottom": null,
            "display": null,
            "flex": null,
            "flex_flow": null,
            "grid_area": null,
            "grid_auto_columns": null,
            "grid_auto_flow": null,
            "grid_auto_rows": null,
            "grid_column": null,
            "grid_gap": null,
            "grid_row": null,
            "grid_template_areas": null,
            "grid_template_columns": null,
            "grid_template_rows": null,
            "height": null,
            "justify_content": null,
            "justify_items": null,
            "left": null,
            "margin": null,
            "max_height": null,
            "max_width": null,
            "min_height": null,
            "min_width": null,
            "object_fit": null,
            "object_position": null,
            "order": null,
            "overflow": null,
            "overflow_x": null,
            "overflow_y": null,
            "padding": null,
            "right": null,
            "top": null,
            "visibility": null,
            "width": null
          }
        },
        "da35f69d8bae45b58cd319c9b0126f81": {
          "model_module": "@jupyter-widgets/controls",
          "model_name": "DescriptionStyleModel",
          "model_module_version": "1.5.0",
          "state": {
            "_model_module": "@jupyter-widgets/controls",
            "_model_module_version": "1.5.0",
            "_model_name": "DescriptionStyleModel",
            "_view_count": null,
            "_view_module": "@jupyter-widgets/base",
            "_view_module_version": "1.2.0",
            "_view_name": "StyleView",
            "description_width": ""
          }
        },
        "1610541126cb4923b74fb9b1c7b1fd4f": {
          "model_module": "@jupyter-widgets/base",
          "model_name": "LayoutModel",
          "model_module_version": "1.2.0",
          "state": {
            "_model_module": "@jupyter-widgets/base",
            "_model_module_version": "1.2.0",
            "_model_name": "LayoutModel",
            "_view_count": null,
            "_view_module": "@jupyter-widgets/base",
            "_view_module_version": "1.2.0",
            "_view_name": "LayoutView",
            "align_content": null,
            "align_items": null,
            "align_self": null,
            "border": null,
            "bottom": null,
            "display": null,
            "flex": null,
            "flex_flow": null,
            "grid_area": null,
            "grid_auto_columns": null,
            "grid_auto_flow": null,
            "grid_auto_rows": null,
            "grid_column": null,
            "grid_gap": null,
            "grid_row": null,
            "grid_template_areas": null,
            "grid_template_columns": null,
            "grid_template_rows": null,
            "height": null,
            "justify_content": null,
            "justify_items": null,
            "left": null,
            "margin": null,
            "max_height": null,
            "max_width": null,
            "min_height": null,
            "min_width": null,
            "object_fit": null,
            "object_position": null,
            "order": null,
            "overflow": null,
            "overflow_x": null,
            "overflow_y": null,
            "padding": null,
            "right": null,
            "top": null,
            "visibility": null,
            "width": null
          }
        },
        "fcd8ad01bcf6487289752de1a8929528": {
          "model_module": "@jupyter-widgets/controls",
          "model_name": "VBoxModel",
          "model_module_version": "1.5.0",
          "state": {
            "_dom_classes": [
              "widget-interact"
            ],
            "_model_module": "@jupyter-widgets/controls",
            "_model_module_version": "1.5.0",
            "_model_name": "VBoxModel",
            "_view_count": null,
            "_view_module": "@jupyter-widgets/controls",
            "_view_module_version": "1.5.0",
            "_view_name": "VBoxView",
            "box_style": "",
            "children": [
              "IPY_MODEL_0867b93eb1014309af17d1ad040d1f62",
              "IPY_MODEL_ebbf090809704a4b876a6cd35c93a825"
            ],
            "layout": "IPY_MODEL_b5f5fec21fb540df969c26fe4dfad6c7"
          }
        },
        "0867b93eb1014309af17d1ad040d1f62": {
          "model_module": "@jupyter-widgets/controls",
          "model_name": "TextModel",
          "model_module_version": "1.5.0",
          "state": {
            "_dom_classes": [],
            "_model_module": "@jupyter-widgets/controls",
            "_model_module_version": "1.5.0",
            "_model_name": "TextModel",
            "_view_count": null,
            "_view_module": "@jupyter-widgets/controls",
            "_view_module_version": "1.5.0",
            "_view_name": "TextView",
            "continuous_update": true,
            "description": "a_string",
            "description_tooltip": null,
            "disabled": false,
            "layout": "IPY_MODEL_5bc7fc50d29549fbad831870de6ead6d",
            "placeholder": "​",
            "style": "IPY_MODEL_7f2f3b04f5184da383c5a0d8ff3da7ec",
            "value": "Hello world"
          }
        },
        "ebbf090809704a4b876a6cd35c93a825": {
          "model_module": "@jupyter-widgets/output",
          "model_name": "OutputModel",
          "model_module_version": "1.0.0",
          "state": {
            "_dom_classes": [],
            "_model_module": "@jupyter-widgets/output",
            "_model_module_version": "1.0.0",
            "_model_name": "OutputModel",
            "_view_count": null,
            "_view_module": "@jupyter-widgets/output",
            "_view_module_version": "1.0.0",
            "_view_name": "OutputView",
            "layout": "IPY_MODEL_fca74855650b477bb7ae6bb708d3de54",
            "msg_id": "",
            "outputs": [
              {
                "output_type": "display_data",
                "data": {
                  "text/plain": "'Hll wrld'",
                  "application/vnd.google.colaboratory.intrinsic+json": {
                    "type": "string"
                  }
                },
                "metadata": {}
              }
            ]
          }
        },
        "b5f5fec21fb540df969c26fe4dfad6c7": {
          "model_module": "@jupyter-widgets/base",
          "model_name": "LayoutModel",
          "model_module_version": "1.2.0",
          "state": {
            "_model_module": "@jupyter-widgets/base",
            "_model_module_version": "1.2.0",
            "_model_name": "LayoutModel",
            "_view_count": null,
            "_view_module": "@jupyter-widgets/base",
            "_view_module_version": "1.2.0",
            "_view_name": "LayoutView",
            "align_content": null,
            "align_items": null,
            "align_self": null,
            "border": null,
            "bottom": null,
            "display": null,
            "flex": null,
            "flex_flow": null,
            "grid_area": null,
            "grid_auto_columns": null,
            "grid_auto_flow": null,
            "grid_auto_rows": null,
            "grid_column": null,
            "grid_gap": null,
            "grid_row": null,
            "grid_template_areas": null,
            "grid_template_columns": null,
            "grid_template_rows": null,
            "height": null,
            "justify_content": null,
            "justify_items": null,
            "left": null,
            "margin": null,
            "max_height": null,
            "max_width": null,
            "min_height": null,
            "min_width": null,
            "object_fit": null,
            "object_position": null,
            "order": null,
            "overflow": null,
            "overflow_x": null,
            "overflow_y": null,
            "padding": null,
            "right": null,
            "top": null,
            "visibility": null,
            "width": null
          }
        },
        "5bc7fc50d29549fbad831870de6ead6d": {
          "model_module": "@jupyter-widgets/base",
          "model_name": "LayoutModel",
          "model_module_version": "1.2.0",
          "state": {
            "_model_module": "@jupyter-widgets/base",
            "_model_module_version": "1.2.0",
            "_model_name": "LayoutModel",
            "_view_count": null,
            "_view_module": "@jupyter-widgets/base",
            "_view_module_version": "1.2.0",
            "_view_name": "LayoutView",
            "align_content": null,
            "align_items": null,
            "align_self": null,
            "border": null,
            "bottom": null,
            "display": null,
            "flex": null,
            "flex_flow": null,
            "grid_area": null,
            "grid_auto_columns": null,
            "grid_auto_flow": null,
            "grid_auto_rows": null,
            "grid_column": null,
            "grid_gap": null,
            "grid_row": null,
            "grid_template_areas": null,
            "grid_template_columns": null,
            "grid_template_rows": null,
            "height": null,
            "justify_content": null,
            "justify_items": null,
            "left": null,
            "margin": null,
            "max_height": null,
            "max_width": null,
            "min_height": null,
            "min_width": null,
            "object_fit": null,
            "object_position": null,
            "order": null,
            "overflow": null,
            "overflow_x": null,
            "overflow_y": null,
            "padding": null,
            "right": null,
            "top": null,
            "visibility": null,
            "width": null
          }
        },
        "7f2f3b04f5184da383c5a0d8ff3da7ec": {
          "model_module": "@jupyter-widgets/controls",
          "model_name": "DescriptionStyleModel",
          "model_module_version": "1.5.0",
          "state": {
            "_model_module": "@jupyter-widgets/controls",
            "_model_module_version": "1.5.0",
            "_model_name": "DescriptionStyleModel",
            "_view_count": null,
            "_view_module": "@jupyter-widgets/base",
            "_view_module_version": "1.2.0",
            "_view_name": "StyleView",
            "description_width": ""
          }
        },
        "fca74855650b477bb7ae6bb708d3de54": {
          "model_module": "@jupyter-widgets/base",
          "model_name": "LayoutModel",
          "model_module_version": "1.2.0",
          "state": {
            "_model_module": "@jupyter-widgets/base",
            "_model_module_version": "1.2.0",
            "_model_name": "LayoutModel",
            "_view_count": null,
            "_view_module": "@jupyter-widgets/base",
            "_view_module_version": "1.2.0",
            "_view_name": "LayoutView",
            "align_content": null,
            "align_items": null,
            "align_self": null,
            "border": null,
            "bottom": null,
            "display": null,
            "flex": null,
            "flex_flow": null,
            "grid_area": null,
            "grid_auto_columns": null,
            "grid_auto_flow": null,
            "grid_auto_rows": null,
            "grid_column": null,
            "grid_gap": null,
            "grid_row": null,
            "grid_template_areas": null,
            "grid_template_columns": null,
            "grid_template_rows": null,
            "height": null,
            "justify_content": null,
            "justify_items": null,
            "left": null,
            "margin": null,
            "max_height": null,
            "max_width": null,
            "min_height": null,
            "min_width": null,
            "object_fit": null,
            "object_position": null,
            "order": null,
            "overflow": null,
            "overflow_x": null,
            "overflow_y": null,
            "padding": null,
            "right": null,
            "top": null,
            "visibility": null,
            "width": null
          }
        },
        "f689a10b81ad4d0ca5873800596db767": {
          "model_module": "@jupyter-widgets/controls",
          "model_name": "VBoxModel",
          "model_module_version": "1.5.0",
          "state": {
            "_dom_classes": [
              "widget-interact"
            ],
            "_model_module": "@jupyter-widgets/controls",
            "_model_module_version": "1.5.0",
            "_model_name": "VBoxModel",
            "_view_count": null,
            "_view_module": "@jupyter-widgets/controls",
            "_view_module_version": "1.5.0",
            "_view_name": "VBoxView",
            "box_style": "",
            "children": [
              "IPY_MODEL_da1d153f7e5e489b8584df57b2182b02",
              "IPY_MODEL_e3ef83f0fd3b479e9839c097c658771f"
            ],
            "layout": "IPY_MODEL_43363d851c384b0caa140fbd0ab32793"
          }
        },
        "da1d153f7e5e489b8584df57b2182b02": {
          "model_module": "@jupyter-widgets/controls",
          "model_name": "TextModel",
          "model_module_version": "1.5.0",
          "state": {
            "_dom_classes": [],
            "_model_module": "@jupyter-widgets/controls",
            "_model_module_version": "1.5.0",
            "_model_name": "TextModel",
            "_view_count": null,
            "_view_module": "@jupyter-widgets/controls",
            "_view_module_version": "1.5.0",
            "_view_name": "TextView",
            "continuous_update": true,
            "description": "a_string",
            "description_tooltip": null,
            "disabled": false,
            "layout": "IPY_MODEL_bac92f62ebe14f52899e63f8d1a6ef0c",
            "placeholder": "​",
            "style": "IPY_MODEL_1214fc70b853459e8dcc9d1eb5c47ddf",
            "value": "Test"
          }
        },
        "e3ef83f0fd3b479e9839c097c658771f": {
          "model_module": "@jupyter-widgets/output",
          "model_name": "OutputModel",
          "model_module_version": "1.0.0",
          "state": {
            "_dom_classes": [],
            "_model_module": "@jupyter-widgets/output",
            "_model_module_version": "1.0.0",
            "_model_name": "OutputModel",
            "_view_count": null,
            "_view_module": "@jupyter-widgets/output",
            "_view_module_version": "1.0.0",
            "_view_name": "OutputView",
            "layout": "IPY_MODEL_e6b1e53de3454424b41aa5a91d60482f",
            "msg_id": "",
            "outputs": [
              {
                "output_type": "display_data",
                "data": {
                  "text/plain": "3"
                },
                "metadata": {}
              }
            ]
          }
        },
        "43363d851c384b0caa140fbd0ab32793": {
          "model_module": "@jupyter-widgets/base",
          "model_name": "LayoutModel",
          "model_module_version": "1.2.0",
          "state": {
            "_model_module": "@jupyter-widgets/base",
            "_model_module_version": "1.2.0",
            "_model_name": "LayoutModel",
            "_view_count": null,
            "_view_module": "@jupyter-widgets/base",
            "_view_module_version": "1.2.0",
            "_view_name": "LayoutView",
            "align_content": null,
            "align_items": null,
            "align_self": null,
            "border": null,
            "bottom": null,
            "display": null,
            "flex": null,
            "flex_flow": null,
            "grid_area": null,
            "grid_auto_columns": null,
            "grid_auto_flow": null,
            "grid_auto_rows": null,
            "grid_column": null,
            "grid_gap": null,
            "grid_row": null,
            "grid_template_areas": null,
            "grid_template_columns": null,
            "grid_template_rows": null,
            "height": null,
            "justify_content": null,
            "justify_items": null,
            "left": null,
            "margin": null,
            "max_height": null,
            "max_width": null,
            "min_height": null,
            "min_width": null,
            "object_fit": null,
            "object_position": null,
            "order": null,
            "overflow": null,
            "overflow_x": null,
            "overflow_y": null,
            "padding": null,
            "right": null,
            "top": null,
            "visibility": null,
            "width": null
          }
        },
        "bac92f62ebe14f52899e63f8d1a6ef0c": {
          "model_module": "@jupyter-widgets/base",
          "model_name": "LayoutModel",
          "model_module_version": "1.2.0",
          "state": {
            "_model_module": "@jupyter-widgets/base",
            "_model_module_version": "1.2.0",
            "_model_name": "LayoutModel",
            "_view_count": null,
            "_view_module": "@jupyter-widgets/base",
            "_view_module_version": "1.2.0",
            "_view_name": "LayoutView",
            "align_content": null,
            "align_items": null,
            "align_self": null,
            "border": null,
            "bottom": null,
            "display": null,
            "flex": null,
            "flex_flow": null,
            "grid_area": null,
            "grid_auto_columns": null,
            "grid_auto_flow": null,
            "grid_auto_rows": null,
            "grid_column": null,
            "grid_gap": null,
            "grid_row": null,
            "grid_template_areas": null,
            "grid_template_columns": null,
            "grid_template_rows": null,
            "height": null,
            "justify_content": null,
            "justify_items": null,
            "left": null,
            "margin": null,
            "max_height": null,
            "max_width": null,
            "min_height": null,
            "min_width": null,
            "object_fit": null,
            "object_position": null,
            "order": null,
            "overflow": null,
            "overflow_x": null,
            "overflow_y": null,
            "padding": null,
            "right": null,
            "top": null,
            "visibility": null,
            "width": null
          }
        },
        "1214fc70b853459e8dcc9d1eb5c47ddf": {
          "model_module": "@jupyter-widgets/controls",
          "model_name": "DescriptionStyleModel",
          "model_module_version": "1.5.0",
          "state": {
            "_model_module": "@jupyter-widgets/controls",
            "_model_module_version": "1.5.0",
            "_model_name": "DescriptionStyleModel",
            "_view_count": null,
            "_view_module": "@jupyter-widgets/base",
            "_view_module_version": "1.2.0",
            "_view_name": "StyleView",
            "description_width": ""
          }
        },
        "e6b1e53de3454424b41aa5a91d60482f": {
          "model_module": "@jupyter-widgets/base",
          "model_name": "LayoutModel",
          "model_module_version": "1.2.0",
          "state": {
            "_model_module": "@jupyter-widgets/base",
            "_model_module_version": "1.2.0",
            "_model_name": "LayoutModel",
            "_view_count": null,
            "_view_module": "@jupyter-widgets/base",
            "_view_module_version": "1.2.0",
            "_view_name": "LayoutView",
            "align_content": null,
            "align_items": null,
            "align_self": null,
            "border": null,
            "bottom": null,
            "display": null,
            "flex": null,
            "flex_flow": null,
            "grid_area": null,
            "grid_auto_columns": null,
            "grid_auto_flow": null,
            "grid_auto_rows": null,
            "grid_column": null,
            "grid_gap": null,
            "grid_row": null,
            "grid_template_areas": null,
            "grid_template_columns": null,
            "grid_template_rows": null,
            "height": null,
            "justify_content": null,
            "justify_items": null,
            "left": null,
            "margin": null,
            "max_height": null,
            "max_width": null,
            "min_height": null,
            "min_width": null,
            "object_fit": null,
            "object_position": null,
            "order": null,
            "overflow": null,
            "overflow_x": null,
            "overflow_y": null,
            "padding": null,
            "right": null,
            "top": null,
            "visibility": null,
            "width": null
          }
        },
        "d636509c01f34d29b1aec254fcd8c966": {
          "model_module": "@jupyter-widgets/controls",
          "model_name": "VBoxModel",
          "model_module_version": "1.5.0",
          "state": {
            "_dom_classes": [
              "widget-interact"
            ],
            "_model_module": "@jupyter-widgets/controls",
            "_model_module_version": "1.5.0",
            "_model_name": "VBoxModel",
            "_view_count": null,
            "_view_module": "@jupyter-widgets/controls",
            "_view_module_version": "1.5.0",
            "_view_name": "VBoxView",
            "box_style": "",
            "children": [
              "IPY_MODEL_9560b6224ac64bdea5f52efa64951ba2",
              "IPY_MODEL_6fd463b6c6fe4b0d827da306d010d0b3"
            ],
            "layout": "IPY_MODEL_9f6e57f77a514c8fb299fc98b43ac988"
          }
        },
        "9560b6224ac64bdea5f52efa64951ba2": {
          "model_module": "@jupyter-widgets/controls",
          "model_name": "DropdownModel",
          "model_module_version": "1.5.0",
          "state": {
            "_dom_classes": [],
            "_model_module": "@jupyter-widgets/controls",
            "_model_module_version": "1.5.0",
            "_model_name": "DropdownModel",
            "_options_labels": [
              "1",
              "2",
              "3",
              "4",
              "5",
              "6",
              "7",
              "8",
              "9"
            ],
            "_view_count": null,
            "_view_module": "@jupyter-widgets/controls",
            "_view_module_version": "1.5.0",
            "_view_name": "DropdownView",
            "description": "k",
            "description_tooltip": null,
            "disabled": false,
            "index": 0,
            "layout": "IPY_MODEL_4bca38a6cecb428491d488545d93c499",
            "style": "IPY_MODEL_20f066229361440790d105fa454ca7f3"
          }
        },
        "6fd463b6c6fe4b0d827da306d010d0b3": {
          "model_module": "@jupyter-widgets/output",
          "model_name": "OutputModel",
          "model_module_version": "1.0.0",
          "state": {
            "_dom_classes": [],
            "_model_module": "@jupyter-widgets/output",
            "_model_module_version": "1.0.0",
            "_model_name": "OutputModel",
            "_view_count": null,
            "_view_module": "@jupyter-widgets/output",
            "_view_module_version": "1.0.0",
            "_view_name": "OutputView",
            "layout": "IPY_MODEL_fa8e3795137742d3a463997e6ae3b0df",
            "msg_id": "",
            "outputs": [
              {
                "output_type": "stream",
                "name": "stdout",
                "text": [
                  "Year number 1 for total gross movie sales was: 2015\n"
                ]
              }
            ]
          }
        },
        "9f6e57f77a514c8fb299fc98b43ac988": {
          "model_module": "@jupyter-widgets/base",
          "model_name": "LayoutModel",
          "model_module_version": "1.2.0",
          "state": {
            "_model_module": "@jupyter-widgets/base",
            "_model_module_version": "1.2.0",
            "_model_name": "LayoutModel",
            "_view_count": null,
            "_view_module": "@jupyter-widgets/base",
            "_view_module_version": "1.2.0",
            "_view_name": "LayoutView",
            "align_content": null,
            "align_items": null,
            "align_self": null,
            "border": null,
            "bottom": null,
            "display": null,
            "flex": null,
            "flex_flow": null,
            "grid_area": null,
            "grid_auto_columns": null,
            "grid_auto_flow": null,
            "grid_auto_rows": null,
            "grid_column": null,
            "grid_gap": null,
            "grid_row": null,
            "grid_template_areas": null,
            "grid_template_columns": null,
            "grid_template_rows": null,
            "height": null,
            "justify_content": null,
            "justify_items": null,
            "left": null,
            "margin": null,
            "max_height": null,
            "max_width": null,
            "min_height": null,
            "min_width": null,
            "object_fit": null,
            "object_position": null,
            "order": null,
            "overflow": null,
            "overflow_x": null,
            "overflow_y": null,
            "padding": null,
            "right": null,
            "top": null,
            "visibility": null,
            "width": null
          }
        },
        "4bca38a6cecb428491d488545d93c499": {
          "model_module": "@jupyter-widgets/base",
          "model_name": "LayoutModel",
          "model_module_version": "1.2.0",
          "state": {
            "_model_module": "@jupyter-widgets/base",
            "_model_module_version": "1.2.0",
            "_model_name": "LayoutModel",
            "_view_count": null,
            "_view_module": "@jupyter-widgets/base",
            "_view_module_version": "1.2.0",
            "_view_name": "LayoutView",
            "align_content": null,
            "align_items": null,
            "align_self": null,
            "border": null,
            "bottom": null,
            "display": null,
            "flex": null,
            "flex_flow": null,
            "grid_area": null,
            "grid_auto_columns": null,
            "grid_auto_flow": null,
            "grid_auto_rows": null,
            "grid_column": null,
            "grid_gap": null,
            "grid_row": null,
            "grid_template_areas": null,
            "grid_template_columns": null,
            "grid_template_rows": null,
            "height": null,
            "justify_content": null,
            "justify_items": null,
            "left": null,
            "margin": null,
            "max_height": null,
            "max_width": null,
            "min_height": null,
            "min_width": null,
            "object_fit": null,
            "object_position": null,
            "order": null,
            "overflow": null,
            "overflow_x": null,
            "overflow_y": null,
            "padding": null,
            "right": null,
            "top": null,
            "visibility": null,
            "width": null
          }
        },
        "20f066229361440790d105fa454ca7f3": {
          "model_module": "@jupyter-widgets/controls",
          "model_name": "DescriptionStyleModel",
          "model_module_version": "1.5.0",
          "state": {
            "_model_module": "@jupyter-widgets/controls",
            "_model_module_version": "1.5.0",
            "_model_name": "DescriptionStyleModel",
            "_view_count": null,
            "_view_module": "@jupyter-widgets/base",
            "_view_module_version": "1.2.0",
            "_view_name": "StyleView",
            "description_width": ""
          }
        },
        "fa8e3795137742d3a463997e6ae3b0df": {
          "model_module": "@jupyter-widgets/base",
          "model_name": "LayoutModel",
          "model_module_version": "1.2.0",
          "state": {
            "_model_module": "@jupyter-widgets/base",
            "_model_module_version": "1.2.0",
            "_model_name": "LayoutModel",
            "_view_count": null,
            "_view_module": "@jupyter-widgets/base",
            "_view_module_version": "1.2.0",
            "_view_name": "LayoutView",
            "align_content": null,
            "align_items": null,
            "align_self": null,
            "border": null,
            "bottom": null,
            "display": null,
            "flex": null,
            "flex_flow": null,
            "grid_area": null,
            "grid_auto_columns": null,
            "grid_auto_flow": null,
            "grid_auto_rows": null,
            "grid_column": null,
            "grid_gap": null,
            "grid_row": null,
            "grid_template_areas": null,
            "grid_template_columns": null,
            "grid_template_rows": null,
            "height": null,
            "justify_content": null,
            "justify_items": null,
            "left": null,
            "margin": null,
            "max_height": null,
            "max_width": null,
            "min_height": null,
            "min_width": null,
            "object_fit": null,
            "object_position": null,
            "order": null,
            "overflow": null,
            "overflow_x": null,
            "overflow_y": null,
            "padding": null,
            "right": null,
            "top": null,
            "visibility": null,
            "width": null
          }
        }
      }
    },
    "colab": {
      "provenance": []
    }
  },
  "nbformat": 4,
  "nbformat_minor": 0
}