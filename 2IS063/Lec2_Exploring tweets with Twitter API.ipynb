{
 "cells": [
  {
   "cell_type": "code",
   "execution_count": 1,
   "id": "leading-allah",
   "metadata": {},
   "outputs": [],
   "source": [
    "api_key = 'g534V8feNfzunmeMqM4vZgSEw'\n",
    "api_secret = 'dUPkoyeOgMbCfrSIddxFKhVV4p7p0z1mUVXbm32OHiIs1Jlp71'\n",
    "access_token = '213419166-FPGxsP7WSqp3O4InL5fQmSAkoiKmm2i2lOVlzg7i'\n",
    "access_token_secret = 'UDDqcWw1JmhktFcTInVU0r8MhS73XV3lucL2W21U2IzXO'"
   ]
  },
  {
   "cell_type": "code",
   "execution_count": 2,
   "id": "confidential-enough",
   "metadata": {},
   "outputs": [],
   "source": [
    "import tweepy"
   ]
  },
  {
   "cell_type": "code",
   "execution_count": 3,
   "id": "opened-singing",
   "metadata": {},
   "outputs": [],
   "source": [
    "auth = tweepy.OAuthHandler(api_key, api_secret)\n",
    "auth.set_access_token(access_token, access_token_secret)\n",
    "api = tweepy.API(auth)"
   ]
  },
  {
   "cell_type": "code",
   "execution_count": 4,
   "id": "strange-henry",
   "metadata": {},
   "outputs": [],
   "source": [
    "users = api.search_users(q='POTUS', page=1)"
   ]
  },
  {
   "cell_type": "code",
   "execution_count": 5,
   "id": "apart-protest",
   "metadata": {},
   "outputs": [
    {
     "data": {
      "text/plain": [
       "20"
      ]
     },
     "execution_count": 5,
     "metadata": {},
     "output_type": "execute_result"
    }
   ],
   "source": [
    "len(users)"
   ]
  },
  {
   "cell_type": "code",
   "execution_count": 6,
   "id": "ruled-setup",
   "metadata": {},
   "outputs": [
    {
     "name": "stdout",
     "output_type": "stream",
     "text": [
      "We found 20 users\n",
      "President Biden\n",
      "President Trump 45 Archived\n",
      "Jo Jorgensen\n",
      "Rogue POTUS Staff\n",
      "POTUS Press ✩\n",
      "Narrated President\n",
      "Office of Presidential Correspondence\n",
      "Potus Geeks\n",
      "Poll Maker\n",
      "サンプくん ꪔ̤̮ (MINDS: @NinjaInk)\n",
      "Joe Biden\n",
      "PixelPotus\n",
      "Sorinne Ardeleanu for POTUS\n",
      "RESIST\n",
      "Rogue POTUS Staffer\n",
      "Addyson Rae Garner\n",
      "John Adams\n",
      "POTUS Schedule Bot\n",
      "POTUS Poker\n",
      "Presidential Quotes\n"
     ]
    }
   ],
   "source": [
    "print('We found {} users'.format(len(users)))\n",
    "for user in users:\n",
    "    print(user.name)"
   ]
  },
  {
   "cell_type": "code",
   "execution_count": 7,
   "id": "separated-elements",
   "metadata": {},
   "outputs": [
    {
     "data": {
      "text/plain": [
       "['__class__',\n",
       " '__delattr__',\n",
       " '__dict__',\n",
       " '__dir__',\n",
       " '__doc__',\n",
       " '__eq__',\n",
       " '__format__',\n",
       " '__ge__',\n",
       " '__getattribute__',\n",
       " '__getstate__',\n",
       " '__gt__',\n",
       " '__hash__',\n",
       " '__init__',\n",
       " '__init_subclass__',\n",
       " '__le__',\n",
       " '__lt__',\n",
       " '__module__',\n",
       " '__ne__',\n",
       " '__new__',\n",
       " '__reduce__',\n",
       " '__reduce_ex__',\n",
       " '__repr__',\n",
       " '__setattr__',\n",
       " '__sizeof__',\n",
       " '__str__',\n",
       " '__subclasshook__',\n",
       " '__weakref__',\n",
       " '_api',\n",
       " '_json',\n",
       " 'contributors_enabled',\n",
       " 'created_at',\n",
       " 'default_profile',\n",
       " 'default_profile_image',\n",
       " 'description',\n",
       " 'entities',\n",
       " 'favourites_count',\n",
       " 'follow',\n",
       " 'follow_request_sent',\n",
       " 'followers',\n",
       " 'followers_count',\n",
       " 'followers_ids',\n",
       " 'following',\n",
       " 'friends',\n",
       " 'friends_count',\n",
       " 'geo_enabled',\n",
       " 'has_extended_profile',\n",
       " 'id',\n",
       " 'id_str',\n",
       " 'is_translation_enabled',\n",
       " 'is_translator',\n",
       " 'lang',\n",
       " 'listed_count',\n",
       " 'lists',\n",
       " 'lists_memberships',\n",
       " 'lists_subscriptions',\n",
       " 'location',\n",
       " 'name',\n",
       " 'notifications',\n",
       " 'parse',\n",
       " 'parse_list',\n",
       " 'profile_background_color',\n",
       " 'profile_background_image_url',\n",
       " 'profile_background_image_url_https',\n",
       " 'profile_background_tile',\n",
       " 'profile_banner_url',\n",
       " 'profile_image_url',\n",
       " 'profile_image_url_https',\n",
       " 'profile_link_color',\n",
       " 'profile_sidebar_border_color',\n",
       " 'profile_sidebar_fill_color',\n",
       " 'profile_text_color',\n",
       " 'profile_use_background_image',\n",
       " 'protected',\n",
       " 'screen_name',\n",
       " 'status',\n",
       " 'statuses_count',\n",
       " 'time_zone',\n",
       " 'timeline',\n",
       " 'translator_type',\n",
       " 'unfollow',\n",
       " 'url',\n",
       " 'utc_offset',\n",
       " 'verified',\n",
       " 'withheld_in_countries']"
      ]
     },
     "execution_count": 7,
     "metadata": {},
     "output_type": "execute_result"
    }
   ],
   "source": [
    "dir(users[0])"
   ]
  },
  {
   "cell_type": "code",
   "execution_count": 8,
   "id": "capital-glass",
   "metadata": {},
   "outputs": [
    {
     "data": {
      "text/plain": [
       "'President Biden'"
      ]
     },
     "execution_count": 8,
     "metadata": {},
     "output_type": "execute_result"
    }
   ],
   "source": [
    " users[0].name"
   ]
  },
  {
   "cell_type": "code",
   "execution_count": 9,
   "id": "changed-above",
   "metadata": {},
   "outputs": [],
   "source": [
    "pb = users[0]"
   ]
  },
  {
   "cell_type": "code",
   "execution_count": 10,
   "id": "inner-mason",
   "metadata": {},
   "outputs": [
    {
     "data": {
      "text/plain": [
       "'President Biden'"
      ]
     },
     "execution_count": 10,
     "metadata": {},
     "output_type": "execute_result"
    }
   ],
   "source": [
    "pb.name"
   ]
  },
  {
   "cell_type": "code",
   "execution_count": 11,
   "id": "marine-tribute",
   "metadata": {},
   "outputs": [
    {
     "data": {
      "text/plain": [
       "'POTUS'"
      ]
     },
     "execution_count": 11,
     "metadata": {},
     "output_type": "execute_result"
    }
   ],
   "source": [
    "pb.screen_name"
   ]
  },
  {
   "cell_type": "code",
   "execution_count": 12,
   "id": "atomic-planet",
   "metadata": {},
   "outputs": [
    {
     "data": {
      "text/plain": [
       "15050409"
      ]
     },
     "execution_count": 12,
     "metadata": {},
     "output_type": "execute_result"
    }
   ],
   "source": [
    "pb.followers_count"
   ]
  },
  {
   "cell_type": "code",
   "execution_count": 13,
   "id": "informational-remove",
   "metadata": {},
   "outputs": [
    {
     "data": {
      "text/plain": [
       "15.050409"
      ]
     },
     "execution_count": 13,
     "metadata": {},
     "output_type": "execute_result"
    }
   ],
   "source": [
    "pb.followers_count / (1 * 10 ** 6)"
   ]
  },
  {
   "cell_type": "code",
   "execution_count": 14,
   "id": "thermal-biotechnology",
   "metadata": {},
   "outputs": [],
   "source": [
    "pb_tweets = tweepy.Cursor(api.user_timeline, screen_name=pb.screen_name).items(50)"
   ]
  },
  {
   "cell_type": "code",
   "execution_count": 15,
   "id": "variable-doctrine",
   "metadata": {},
   "outputs": [
    {
     "name": "stdout",
     "output_type": "stream",
     "text": [
      "This afternoon, I visited the Port of Baltimore to talk about three things: how we can get prices down, ensure stor… https://t.co/jLvp9YEpIx\n",
      "God love ya, @Bucks. Thanks for stopping by. https://t.co/bFKpDHnPu2\n",
      "Yesterday, I spoke with CEOs from major retailers Walmart and Target — and leading freight movers FedEx and UPS.\n",
      "\n",
      "T… https://t.co/exoZZMbA6A\n",
      "Last week, we took a monumental step forward as a nation.\n",
      "\n",
      "Not only did we learn that our economy has created 5.6 m… https://t.co/ZYrOKezSoV\n",
      "Tune in as I deliver remarks on how the Bipartisan Infrastructure Deal will upgrade our nation’s ports and strength… https://t.co/gpjFTbh2YG\n",
      "Happy birthday, @USMC! https://t.co/2ctlxUoVW1\n",
      "I’m heading to the Port of Baltimore this afternoon to discuss the Bipartisan Infrastructure Deal. The deal will up… https://t.co/ySTK15DLLz\n",
      "Jobs are up, wages are up, home values are up, personal debt is down, and unemployment is down.\n",
      "\n",
      "We have more work… https://t.co/Rzi4IA5T3x\n",
      "Today’s report shows an increase over last month on inflation. Reversing this trend is a top priority.\n",
      "\n",
      "My Infrastr… https://t.co/RzC6l5IMvX\n",
      "Today, we learned that we have had six consecutive weeks of decline in new unemployment claims. Unemployment claims… https://t.co/JfLNhdbTya\n",
      "I know folks are concerned about getting what they need for the upcoming holidays. That’s why I spent the afternoon… https://t.co/6hpUZb0x9Y\n",
      "Yesterday, @Khris22m couldn’t make it so @Giannis_An34 had me give him a call. https://t.co/ODt9J3rBon\n",
      "The truth is America’s public transit infrastructure is inadequate.\n",
      "\n",
      "The infrastructure deal will make the largest… https://t.co/lFUutLhjrE\n",
      "If you look around on your daily commute, it’s no secret that 1 in 5 miles of our highways and major roads — and 45… https://t.co/JNKWYdcvFl\n",
      "Clean drinking water for every American.\n",
      "High-speed internet for every American.\n",
      "Better roads and bridges for every… https://t.co/8dgUsg3By6\n",
      "RT @WhiteHouse: The Bipartisan Infrastructure Deal makes the largest investment in our nation’s bridges since the interstate highway system…\n",
      "Can’t wait to take these out for a spin. Great to host you today, @Giannis_An34. https://t.co/kfcSKAe7Cv\n",
      "In sports — as in a democracy — unity is perhaps the most elusive and necessary of things. But that’s who the Milwa… https://t.co/rRHhFHaJVP\n",
      "It’s simply unacceptable that we’ve fallen behind on infrastructure, education, and more. \n",
      "\n",
      "With my Bipartisan Infr… https://t.co/47bCDOkNtf\n",
      "RT @WhiteHouse: Brock was hesitant about getting vaccinated because he had seen lots of conflicting information and didn’t know what to tru…\n",
      "Tune in as we welcome the Milwaukee Bucks to the White House to celebrate their 2021 NBA Championship. https://t.co/W2EFbBhwK3\n",
      "After months of negotiations, we reached a deal on prescription drug prices last week. It’s going to lower prices f… https://t.co/rbEWzfxbfu\n",
      "This afternoon, I’m hosting the Milwaukee Bucks at the White House. I’m looking forward to celebrating their 2021 N… https://t.co/dbOMyZvOuE\n",
      "My Bipartisan Infrastructure Deal will build a national network of charging stations for electric vehicles and thou… https://t.co/nzsqNcLIxB\n",
      "@BigBird @EricaRHill Good on ya, @BigBird. Getting vaccinated is the best way to keep your whole neighborhood safe.\n",
      "We’re finally going to get rid of our nation’s dangerous lead pipes thanks to this infrastructure deal. \n",
      " \n",
      "Every ki… https://t.co/jtkO0U7nGg\n",
      "My Bipartisan Infrastructure Deal is going to modernize our ports, airports, and freight rail – making it easier fo… https://t.co/komXgxOa1U\n",
      "This week, we learned that our economy created 5.6 million jobs since I took office, and unemployment is down to 4.… https://t.co/1bZ5v3q7HJ\n",
      "This infrastructure deal is something that has been talked about in Washington for so long, but never done – until… https://t.co/Ocwfkorcrf\n",
      "The vast majority of the jobs created by my Bipartisan Infrastructure Deal don’t require a college degree. This is… https://t.co/Inv7qoqUrg\n",
      "My two bills – the Build Back Better Framework and the Bipartisan Infrastructure Deal – add up to the largest effor… https://t.co/FfRSgbZM4S\n",
      "It’s time to begin rebuilding America. https://t.co/6a150RlKgD\n",
      "These investments are a huge deal for the American people. Take it from a guy who likes trains almost as much as I… https://t.co/yT6xXiEvt9\n",
      "The Bipartisan Infrastructure Deal will create good-paying, union jobs and transform our transportation system with… https://t.co/azfvPSYFKb\n",
      "This Bipartisan Infrastructure Deal creates jobs replacing lead water pipes so every American can drink clean water… https://t.co/VWGNpxDYK8\n",
      ".@VP and I look forward to having a formal signing ceremony of this bipartisan infrastructure legislation soon.\n",
      "\n",
      "Bu… https://t.co/SZM8VKcBbO\n",
      "The Build Back Better Act will ease the cost of child and elder care, provide universal preschool, lower prescripti… https://t.co/vC1OsamgaR\n",
      "Last night, the House of Representatives passed my Bipartisan Infrastructure Deal – a once-in-a-generation investme… https://t.co/mGSHsVKMAC\n",
      "Tune in as I deliver remarks on the House of Representative’s passage of the Bipartisan Infrastructure Deal. https://t.co/xS0HGV2J2s\n",
      "We’ve just taken a monumental step forward as a nation.  https://t.co/V9ShDcR3SJ\n",
      "I am urging all members to vote for both the rule for consideration of the Build Back Better Act and final passage… https://t.co/qxL7WUU1e9\n",
      "Thanks to the economic plan that I got through Congress earlier this year and our successful vaccine deployment, we… https://t.co/JLUfwSRoGV\n",
      "We laid the foundation for the progress we’re seeing today with my American Rescue Plan. \n",
      "\n",
      "It put money in working… https://t.co/BXOk8TiSvn\n",
      "I want to say very clearly: If your number one issue is the cost of living, the number one priority should be seein… https://t.co/sARQ5SbPJ3\n",
      "Today is another great day in our economic recovery. Thanks to the economic plan that I got through Congress earlie… https://t.co/JwxmH3a0v2\n",
      "Tune in as I deliver remarks on the October jobs report. https://t.co/O1fjR2oF2f\n",
      "Over 5.6 million jobs created. Under 5% unemployment. \n",
      "\n",
      "This is a significant improvement from when I took office,… https://t.co/Lgd9rSmU8x\n",
      "Those at the top have gotten a free ride — at the expense of the middle class — for far too long. My Build Back Bet… https://t.co/uRNjESr4hY\n",
      "Initial unemployment insurance claims are down by nearly two-thirds since when I took office. \n",
      "\n",
      "This is real progre… https://t.co/bXH5sIdvu5\n",
      "No one should have to choose between paying for lifesaving medication or putting food on the table.\n",
      " \n",
      "My Build Back… https://t.co/CEE91JmYC1\n"
     ]
    }
   ],
   "source": [
    "for tweet in pb_tweets:\n",
    "    print(tweet.text)"
   ]
  },
  {
   "cell_type": "code",
   "execution_count": 16,
   "id": "advanced-installation",
   "metadata": {},
   "outputs": [],
   "source": [
    "pb_tweets = tweepy.Cursor(api.user_timeline, screen_name=pb.screen_name).items(50)"
   ]
  },
  {
   "cell_type": "code",
   "execution_count": 17,
   "id": "continued-gabriel",
   "metadata": {},
   "outputs": [],
   "source": [
    "tweet1 = next(pb_tweets)"
   ]
  },
  {
   "cell_type": "code",
   "execution_count": 18,
   "id": "nuclear-lewis",
   "metadata": {},
   "outputs": [
    {
     "data": {
      "text/plain": [
       "'This afternoon, I visited the Port of Baltimore to talk about three things: how we can get prices down, ensure stor… https://t.co/jLvp9YEpIx'"
      ]
     },
     "execution_count": 18,
     "metadata": {},
     "output_type": "execute_result"
    }
   ],
   "source": [
    "tweet1.text"
   ]
  },
  {
   "cell_type": "code",
   "execution_count": 19,
   "id": "statewide-combining",
   "metadata": {},
   "outputs": [
    {
     "data": {
      "text/plain": [
       "['__class__',\n",
       " '__delattr__',\n",
       " '__dict__',\n",
       " '__dir__',\n",
       " '__doc__',\n",
       " '__eq__',\n",
       " '__format__',\n",
       " '__ge__',\n",
       " '__getattribute__',\n",
       " '__getstate__',\n",
       " '__gt__',\n",
       " '__hash__',\n",
       " '__init__',\n",
       " '__init_subclass__',\n",
       " '__le__',\n",
       " '__lt__',\n",
       " '__module__',\n",
       " '__ne__',\n",
       " '__new__',\n",
       " '__reduce__',\n",
       " '__reduce_ex__',\n",
       " '__repr__',\n",
       " '__setattr__',\n",
       " '__sizeof__',\n",
       " '__str__',\n",
       " '__subclasshook__',\n",
       " '__weakref__',\n",
       " '_api',\n",
       " '_json',\n",
       " 'author',\n",
       " 'contributors',\n",
       " 'coordinates',\n",
       " 'created_at',\n",
       " 'destroy',\n",
       " 'entities',\n",
       " 'favorite',\n",
       " 'favorite_count',\n",
       " 'favorited',\n",
       " 'geo',\n",
       " 'id',\n",
       " 'id_str',\n",
       " 'in_reply_to_screen_name',\n",
       " 'in_reply_to_status_id',\n",
       " 'in_reply_to_status_id_str',\n",
       " 'in_reply_to_user_id',\n",
       " 'in_reply_to_user_id_str',\n",
       " 'is_quote_status',\n",
       " 'lang',\n",
       " 'parse',\n",
       " 'parse_list',\n",
       " 'place',\n",
       " 'possibly_sensitive',\n",
       " 'retweet',\n",
       " 'retweet_count',\n",
       " 'retweeted',\n",
       " 'retweets',\n",
       " 'source',\n",
       " 'source_url',\n",
       " 'text',\n",
       " 'truncated',\n",
       " 'user']"
      ]
     },
     "execution_count": 19,
     "metadata": {},
     "output_type": "execute_result"
    }
   ],
   "source": [
    " dir(tweet1)"
   ]
  },
  {
   "cell_type": "code",
   "execution_count": 20,
   "id": "finnish-somewhere",
   "metadata": {},
   "outputs": [
    {
     "data": {
      "text/plain": [
       "{'hashtags': [],\n",
       " 'symbols': [],\n",
       " 'user_mentions': [],\n",
       " 'urls': [{'url': 'https://t.co/jLvp9YEpIx',\n",
       "   'expanded_url': 'https://twitter.com/i/web/status/1458622734804606979',\n",
       "   'display_url': 'twitter.com/i/web/status/1…',\n",
       "   'indices': [117, 140]}]}"
      ]
     },
     "execution_count": 20,
     "metadata": {},
     "output_type": "execute_result"
    }
   ],
   "source": [
    "tweet1.entities"
   ]
  },
  {
   "cell_type": "code",
   "execution_count": 21,
   "id": "recovered-industry",
   "metadata": {},
   "outputs": [
    {
     "data": {
      "text/plain": [
       "1380"
      ]
     },
     "execution_count": 21,
     "metadata": {},
     "output_type": "execute_result"
    }
   ],
   "source": [
    "tweet1.retweet_count"
   ]
  },
  {
   "cell_type": "code",
   "execution_count": 22,
   "id": "applied-spank",
   "metadata": {},
   "outputs": [
    {
     "data": {
      "text/plain": [
       "8859"
      ]
     },
     "execution_count": 22,
     "metadata": {},
     "output_type": "execute_result"
    }
   ],
   "source": [
    "tweet1.favorite_count"
   ]
  },
  {
   "cell_type": "code",
   "execution_count": 25,
   "id": "pregnant-strength",
   "metadata": {},
   "outputs": [
    {
     "name": "stdout",
     "output_type": "stream",
     "text": [
      "Number of tweets extracted: 200.\n",
      "\n",
      "5 recent tweets:\n",
      "\n",
      "This afternoon, I visited the Port of Baltimore to talk about three things: how we can get prices down, ensure stor… https://t.co/jLvp9YEpIx\n",
      "\n",
      "God love ya, @Bucks. Thanks for stopping by. https://t.co/bFKpDHnPu2\n",
      "\n",
      "Yesterday, I spoke with CEOs from major retailers Walmart and Target — and leading freight movers FedEx and UPS.\n",
      "\n",
      "T… https://t.co/exoZZMbA6A\n",
      "\n",
      "Last week, we took a monumental step forward as a nation.\n",
      "\n",
      "Not only did we learn that our economy has created 5.6 m… https://t.co/ZYrOKezSoV\n",
      "\n",
      "Tune in as I deliver remarks on how the Bipartisan Infrastructure Deal will upgrade our nation’s ports and strength… https://t.co/gpjFTbh2YG\n",
      "\n"
     ]
    }
   ],
   "source": [
    "tweets = api.user_timeline(screen_name=\"POTUS\", count=200)\n",
    "print(\"Number of tweets extracted: {}.\\n\".format(len(tweets)))\n",
    "print(\"5 recent tweets:\\n\")\n",
    "for tweet in tweets[:5]:\n",
    "    print(tweet.text)\n",
    "    print()"
   ]
  },
  {
   "cell_type": "code",
   "execution_count": 26,
   "id": "stretch-synthetic",
   "metadata": {},
   "outputs": [
    {
     "data": {
      "text/html": [
       "<div>\n",
       "<style scoped>\n",
       "    .dataframe tbody tr th:only-of-type {\n",
       "        vertical-align: middle;\n",
       "    }\n",
       "\n",
       "    .dataframe tbody tr th {\n",
       "        vertical-align: top;\n",
       "    }\n",
       "\n",
       "    .dataframe thead th {\n",
       "        text-align: right;\n",
       "    }\n",
       "</style>\n",
       "<table border=\"1\" class=\"dataframe\">\n",
       "  <thead>\n",
       "    <tr style=\"text-align: right;\">\n",
       "      <th></th>\n",
       "      <th>Tweets</th>\n",
       "    </tr>\n",
       "  </thead>\n",
       "  <tbody>\n",
       "    <tr>\n",
       "      <th>0</th>\n",
       "      <td>This afternoon, I visited the Port of Baltimor...</td>\n",
       "    </tr>\n",
       "    <tr>\n",
       "      <th>1</th>\n",
       "      <td>God love ya, @Bucks. Thanks for stopping by. h...</td>\n",
       "    </tr>\n",
       "    <tr>\n",
       "      <th>2</th>\n",
       "      <td>Yesterday, I spoke with CEOs from major retail...</td>\n",
       "    </tr>\n",
       "    <tr>\n",
       "      <th>3</th>\n",
       "      <td>Last week, we took a monumental step forward a...</td>\n",
       "    </tr>\n",
       "    <tr>\n",
       "      <th>4</th>\n",
       "      <td>Tune in as I deliver remarks on how the Bipart...</td>\n",
       "    </tr>\n",
       "    <tr>\n",
       "      <th>5</th>\n",
       "      <td>Happy birthday, @USMC! https://t.co/2ctlxUoVW1</td>\n",
       "    </tr>\n",
       "    <tr>\n",
       "      <th>6</th>\n",
       "      <td>I’m heading to the Port of Baltimore this afte...</td>\n",
       "    </tr>\n",
       "    <tr>\n",
       "      <th>7</th>\n",
       "      <td>Jobs are up, wages are up, home values are up,...</td>\n",
       "    </tr>\n",
       "    <tr>\n",
       "      <th>8</th>\n",
       "      <td>Today’s report shows an increase over last mon...</td>\n",
       "    </tr>\n",
       "    <tr>\n",
       "      <th>9</th>\n",
       "      <td>Today, we learned that we have had six consecu...</td>\n",
       "    </tr>\n",
       "  </tbody>\n",
       "</table>\n",
       "</div>"
      ],
      "text/plain": [
       "                                              Tweets\n",
       "0  This afternoon, I visited the Port of Baltimor...\n",
       "1  God love ya, @Bucks. Thanks for stopping by. h...\n",
       "2  Yesterday, I spoke with CEOs from major retail...\n",
       "3  Last week, we took a monumental step forward a...\n",
       "4  Tune in as I deliver remarks on how the Bipart...\n",
       "5     Happy birthday, @USMC! https://t.co/2ctlxUoVW1\n",
       "6  I’m heading to the Port of Baltimore this afte...\n",
       "7  Jobs are up, wages are up, home values are up,...\n",
       "8  Today’s report shows an increase over last mon...\n",
       "9  Today, we learned that we have had six consecu..."
      ]
     },
     "execution_count": 26,
     "metadata": {},
     "output_type": "execute_result"
    }
   ],
   "source": [
    "import pandas as pd\n",
    "data = pd.DataFrame(data=[tweet.text for tweet in tweets], columns=['Tweets'])\n",
    "data.head(10)"
   ]
  },
  {
   "cell_type": "code",
   "execution_count": 27,
   "id": "careful-enterprise",
   "metadata": {},
   "outputs": [
    {
     "data": {
      "text/html": [
       "<div>\n",
       "<style scoped>\n",
       "    .dataframe tbody tr th:only-of-type {\n",
       "        vertical-align: middle;\n",
       "    }\n",
       "\n",
       "    .dataframe tbody tr th {\n",
       "        vertical-align: top;\n",
       "    }\n",
       "\n",
       "    .dataframe thead th {\n",
       "        text-align: right;\n",
       "    }\n",
       "</style>\n",
       "<table border=\"1\" class=\"dataframe\">\n",
       "  <thead>\n",
       "    <tr style=\"text-align: right;\">\n",
       "      <th></th>\n",
       "      <th>Tweets</th>\n",
       "      <th>Date</th>\n",
       "      <th>len</th>\n",
       "      <th>ID</th>\n",
       "      <th>Source</th>\n",
       "      <th>Likes</th>\n",
       "      <th>RTs</th>\n",
       "    </tr>\n",
       "  </thead>\n",
       "  <tbody>\n",
       "    <tr>\n",
       "      <th>0</th>\n",
       "      <td>This afternoon, I visited the Port of Baltimor...</td>\n",
       "      <td>2021-11-11 02:28:54</td>\n",
       "      <td>140</td>\n",
       "      <td>1458622734804606979</td>\n",
       "      <td>The White House</td>\n",
       "      <td>8876</td>\n",
       "      <td>1380</td>\n",
       "    </tr>\n",
       "    <tr>\n",
       "      <th>1</th>\n",
       "      <td>God love ya, @Bucks. Thanks for stopping by. h...</td>\n",
       "      <td>2021-11-10 22:50:39</td>\n",
       "      <td>68</td>\n",
       "      <td>1458567812050571264</td>\n",
       "      <td>The White House</td>\n",
       "      <td>12139</td>\n",
       "      <td>1459</td>\n",
       "    </tr>\n",
       "    <tr>\n",
       "      <th>2</th>\n",
       "      <td>Yesterday, I spoke with CEOs from major retail...</td>\n",
       "      <td>2021-11-10 22:24:56</td>\n",
       "      <td>140</td>\n",
       "      <td>1458561336527491077</td>\n",
       "      <td>The White House</td>\n",
       "      <td>22137</td>\n",
       "      <td>3381</td>\n",
       "    </tr>\n",
       "    <tr>\n",
       "      <th>3</th>\n",
       "      <td>Last week, we took a monumental step forward a...</td>\n",
       "      <td>2021-11-10 21:51:59</td>\n",
       "      <td>140</td>\n",
       "      <td>1458553045449678855</td>\n",
       "      <td>The White House</td>\n",
       "      <td>9584</td>\n",
       "      <td>1634</td>\n",
       "    </tr>\n",
       "    <tr>\n",
       "      <th>4</th>\n",
       "      <td>Tune in as I deliver remarks on how the Bipart...</td>\n",
       "      <td>2021-11-10 21:16:36</td>\n",
       "      <td>140</td>\n",
       "      <td>1458544140279500802</td>\n",
       "      <td>Twitter Media Studio</td>\n",
       "      <td>3619</td>\n",
       "      <td>757</td>\n",
       "    </tr>\n",
       "    <tr>\n",
       "      <th>5</th>\n",
       "      <td>Happy birthday, @USMC! https://t.co/2ctlxUoVW1</td>\n",
       "      <td>2021-11-10 20:37:28</td>\n",
       "      <td>46</td>\n",
       "      <td>1458534291638468609</td>\n",
       "      <td>The White House</td>\n",
       "      <td>5632</td>\n",
       "      <td>865</td>\n",
       "    </tr>\n",
       "    <tr>\n",
       "      <th>6</th>\n",
       "      <td>I’m heading to the Port of Baltimore this afte...</td>\n",
       "      <td>2021-11-10 17:39:58</td>\n",
       "      <td>140</td>\n",
       "      <td>1458489622372261894</td>\n",
       "      <td>The White House</td>\n",
       "      <td>10027</td>\n",
       "      <td>1399</td>\n",
       "    </tr>\n",
       "    <tr>\n",
       "      <th>7</th>\n",
       "      <td>Jobs are up, wages are up, home values are up,...</td>\n",
       "      <td>2021-11-10 16:30:11</td>\n",
       "      <td>139</td>\n",
       "      <td>1458472064659099652</td>\n",
       "      <td>The White House</td>\n",
       "      <td>27107</td>\n",
       "      <td>4648</td>\n",
       "    </tr>\n",
       "    <tr>\n",
       "      <th>8</th>\n",
       "      <td>Today’s report shows an increase over last mon...</td>\n",
       "      <td>2021-11-10 16:05:13</td>\n",
       "      <td>140</td>\n",
       "      <td>1458465779595288582</td>\n",
       "      <td>The White House</td>\n",
       "      <td>9897</td>\n",
       "      <td>1831</td>\n",
       "    </tr>\n",
       "    <tr>\n",
       "      <th>9</th>\n",
       "      <td>Today, we learned that we have had six consecu...</td>\n",
       "      <td>2021-11-10 15:52:37</td>\n",
       "      <td>140</td>\n",
       "      <td>1458462609771057152</td>\n",
       "      <td>The White House</td>\n",
       "      <td>35878</td>\n",
       "      <td>5221</td>\n",
       "    </tr>\n",
       "  </tbody>\n",
       "</table>\n",
       "</div>"
      ],
      "text/plain": [
       "                                              Tweets                Date  len  \\\n",
       "0  This afternoon, I visited the Port of Baltimor... 2021-11-11 02:28:54  140   \n",
       "1  God love ya, @Bucks. Thanks for stopping by. h... 2021-11-10 22:50:39   68   \n",
       "2  Yesterday, I spoke with CEOs from major retail... 2021-11-10 22:24:56  140   \n",
       "3  Last week, we took a monumental step forward a... 2021-11-10 21:51:59  140   \n",
       "4  Tune in as I deliver remarks on how the Bipart... 2021-11-10 21:16:36  140   \n",
       "5     Happy birthday, @USMC! https://t.co/2ctlxUoVW1 2021-11-10 20:37:28   46   \n",
       "6  I’m heading to the Port of Baltimore this afte... 2021-11-10 17:39:58  140   \n",
       "7  Jobs are up, wages are up, home values are up,... 2021-11-10 16:30:11  139   \n",
       "8  Today’s report shows an increase over last mon... 2021-11-10 16:05:13  140   \n",
       "9  Today, we learned that we have had six consecu... 2021-11-10 15:52:37  140   \n",
       "\n",
       "                    ID                Source  Likes   RTs  \n",
       "0  1458622734804606979       The White House   8876  1380  \n",
       "1  1458567812050571264       The White House  12139  1459  \n",
       "2  1458561336527491077       The White House  22137  3381  \n",
       "3  1458553045449678855       The White House   9584  1634  \n",
       "4  1458544140279500802  Twitter Media Studio   3619   757  \n",
       "5  1458534291638468609       The White House   5632   865  \n",
       "6  1458489622372261894       The White House  10027  1399  \n",
       "7  1458472064659099652       The White House  27107  4648  \n",
       "8  1458465779595288582       The White House   9897  1831  \n",
       "9  1458462609771057152       The White House  35878  5221  "
      ]
     },
     "metadata": {},
     "output_type": "display_data"
    }
   ],
   "source": [
    "data['Date'] = [x.created_at for x in tweets]\n",
    "data['len'] = [len(x.text) for x in tweets]\n",
    "data['ID'] = [x.id for x in tweets]\n",
    "data['Source'] = [x.source for x in tweets]\n",
    "data['Likes'] = [x.favorite_count for x in tweets]\n",
    "data['RTs'] = [x.retweet_count for x in tweets]\n",
    "display(data.head(10))"
   ]
  },
  {
   "cell_type": "code",
   "execution_count": null,
   "id": "criminal-celtic",
   "metadata": {},
   "outputs": [],
   "source": [
    "data.iloc[7][\"Tweets\"]"
   ]
  },
  {
   "cell_type": "code",
   "execution_count": 28,
   "id": "prompt-cigarette",
   "metadata": {},
   "outputs": [
    {
     "name": "stdout",
     "output_type": "stream",
     "text": [
      "The average length of the tweets: 132.67\n"
     ]
    }
   ],
   "source": [
    "mean = data['len'].mean()\n",
    "print(\"The average length of the tweets: {}\".format(mean))"
   ]
  },
  {
   "cell_type": "code",
   "execution_count": 29,
   "id": "actual-runner",
   "metadata": {},
   "outputs": [
    {
     "data": {
      "text/plain": [
       "<AxesSubplot:xlabel='Date'>"
      ]
     },
     "execution_count": 29,
     "metadata": {},
     "output_type": "execute_result"
    },
    {
     "data": {
      "image/png": "[encoded data removed]",
      "text/plain": [
       "<Figure size 1152x288 with 1 Axes>"
      ]
     },
     "metadata": {
      "needs_background": "light"
     },
     "output_type": "display_data"
    }
   ],
   "source": [
    "import matplotlib\n",
    "%matplotlib inline\n",
    "tlen = pd.Series(data=data['len'].values, index=data['Date'])\n",
    "tlen.plot(figsize=(16,4), color='r')"
   ]
  },
  {
   "cell_type": "code",
   "execution_count": 30,
   "id": "immune-bathroom",
   "metadata": {},
   "outputs": [
    {
     "data": {
      "text/plain": [
       "<AxesSubplot:xlabel='Date'>"
      ]
     },
     "execution_count": 30,
     "metadata": {},
     "output_type": "execute_result"
    },
    {
     "data": {
      "image/png": "[encoded data removed]",
      "text/plain": [
       "<Figure size 1152x288 with 1 Axes>"
      ]
     },
     "metadata": {
      "needs_background": "light"
     },
     "output_type": "display_data"
    }
   ],
   "source": [
    "tfav = pd.Series(data=data['Likes'].values, index=data['Date'])\n",
    "tret = pd.Series(data=data['RTs'].values, index=data['Date'])\n",
    "tfav.plot(figsize=(16,4), label=\"Likes\", legend=True)\n",
    "tret.plot(figsize=(16,4), label=\"Retweets\", legend=True)"
   ]
  },
  {
   "cell_type": "code",
   "execution_count": null,
   "id": "transparent-newsletter",
   "metadata": {},
   "outputs": [],
   "source": []
  }
 ],
 "metadata": {
  "kernelspec": {
   "display_name": "Python 3",
   "language": "python",
   "name": "python3"
  },
  "language_info": {
   "codemirror_mode": {
    "name": "ipython",
    "version": 3
   },
   "file_extension": ".py",
   "mimetype": "text/x-python",
   "name": "python",
   "nbconvert_exporter": "python",
   "pygments_lexer": "ipython3",
   "version": "3.8.3"
  }
 },
 "nbformat": 4,
 "nbformat_minor": 5
}
