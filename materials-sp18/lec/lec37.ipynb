{
 "cells": [
  {
   "cell_type": "code",
   "execution_count": null,
   "metadata": {},
   "outputs": [],
   "source": [
    "from datascience import *\n",
    "import numpy as np\n",
    "import matplotlib\n",
    "%matplotlib inline\n",
    "import matplotlib.pyplot as plots\n",
    "plots.style.use('fivethirtyeight')"
   ]
  },
  {
   "cell_type": "markdown",
   "metadata": {},
   "source": [
    "## Harvard Med School Question ##"
   ]
  },
  {
   "cell_type": "code",
   "execution_count": null,
   "metadata": {},
   "outputs": [],
   "source": [
    "['Disease'] * 10"
   ]
  },
  {
   "cell_type": "code",
   "execution_count": null,
   "metadata": {},
   "outputs": [],
   "source": [
    "def create_branch(a, b, n):\n",
    "    t = Table().with_column('Status', [a] * n)\n",
    "    t.append_column('Test Result', b)\n",
    "    return t"
   ]
  },
  {
   "cell_type": "code",
   "execution_count": null,
   "metadata": {},
   "outputs": [],
   "source": [
    "def create_population(prior_prob_of_disease, n):\n",
    "    t = create_branch('Disease', '+', round(prior_prob_of_disease * n))\n",
    "    t.append(create_branch('No disease', '+', round((1-prior_prob_of_disease) * 0.05 * n)))\n",
    "    t.append(create_branch('No disease', '-', round((1-prior_prob_of_disease) * 0.95 * n)))\n",
    "    return t"
   ]
  },
  {
   "cell_type": "code",
   "execution_count": null,
   "metadata": {},
   "outputs": [],
   "source": [
    "create_population(0.001, 100000).pivot('Test Result', 'Status')"
   ]
  },
  {
   "cell_type": "markdown",
   "metadata": {},
   "source": [
    "## Broste Thesis Data ##"
   ]
  },
  {
   "cell_type": "code",
   "execution_count": null,
   "metadata": {},
   "outputs": [],
   "source": [
    "summary = Table(['Age', 'Condition', 'Total', 'Deaths', 'CHD Deaths']).with_rows([\n",
    "    ['0-34',  'Diet',    1367, 3, 0],\n",
    "    ['35-44', 'Diet',    728, 3, 0],\n",
    "    ['45-54', 'Diet',    767, 14, 4],\n",
    "    ['55-64', 'Diet',    870, 35, 7],\n",
    "    ['65+',   'Diet',    953, 190, 42],\n",
    "    ['0-34',  'Control', 1337, 7, 1],\n",
    "    ['35-44', 'Control', 731, 4, 1],\n",
    "    ['45-54', 'Control', 816, 16, 4],\n",
    "    ['55-64', 'Control', 896, 33, 12],\n",
    "    ['65+',   'Control', 958, 162, 34],   \n",
    "])\n",
    "summary"
   ]
  },
  {
   "cell_type": "code",
   "execution_count": null,
   "metadata": {},
   "outputs": [],
   "source": [
    "np.arange(12) < 3"
   ]
  },
  {
   "cell_type": "code",
   "execution_count": null,
   "metadata": {},
   "outputs": [],
   "source": [
    "subjects = Table(['Age', 'Condition', 'Participated', 'Died'])\n",
    "for row in summary.rows:\n",
    "    i = np.arange(0, row.item('Total'))\n",
    "    t = Table().with_columns('Died', i < row.item('Deaths'))\n",
    "    t.append_column('Age', row.item('Age'))\n",
    "    t.append_column('Condition', row.item('Condition'))\n",
    "    t.append_column('Participated', True)\n",
    "    subjects.append(t)\n",
    "subjects"
   ]
  },
  {
   "cell_type": "code",
   "execution_count": null,
   "metadata": {},
   "outputs": [],
   "source": [
    "subjects.group(['Age', 'Condition'], sum)"
   ]
  },
  {
   "cell_type": "code",
   "execution_count": null,
   "metadata": {},
   "outputs": [],
   "source": [
    "subjects.group('Condition', sum)"
   ]
  },
  {
   "cell_type": "code",
   "execution_count": null,
   "metadata": {},
   "outputs": [],
   "source": [
    "subjects.drop('Age').group('Condition', sum)"
   ]
  },
  {
   "cell_type": "code",
   "execution_count": null,
   "metadata": {},
   "outputs": [],
   "source": [
    "def hazard_rate(counts):\n",
    "    return counts.item('Died sum') / counts.item('Participated sum')\n",
    "\n",
    "def rate_difference(t):\n",
    "    counts = t.drop('Age').group('Condition', sum)\n",
    "    return abs(hazard_rate(counts.row(1)) - hazard_rate(counts.row(0)))\n",
    "\n",
    "rate_difference(subjects)"
   ]
  },
  {
   "cell_type": "code",
   "execution_count": null,
   "metadata": {},
   "outputs": [],
   "source": [
    "rate_difference(subjects.where('Age', '0-34'))"
   ]
  },
  {
   "cell_type": "code",
   "execution_count": null,
   "metadata": {},
   "outputs": [],
   "source": [
    "rate_difference(subjects.where('Age', '65+'))"
   ]
  },
  {
   "cell_type": "code",
   "execution_count": null,
   "metadata": {},
   "outputs": [],
   "source": [
    "def test(t):\n",
    "    observed = rate_difference(t)\n",
    "    repetitions = 200\n",
    "\n",
    "    stats = make_array()\n",
    "    for i in np.arange(repetitions):\n",
    "        simulated_results = t.select('Died').sample(with_replacement=False).column('Died')\n",
    "        simulated_outcomes = t.with_column('Died', simulated_results)\n",
    "        simulated_stat = rate_difference(simulated_outcomes)\n",
    "        stats = np.append(stats, simulated_stat)\n",
    "\n",
    "    # Find the empirical P-value:\n",
    "    p = np.count_nonzero(stats >= observed) / repetitions\n",
    "    \n",
    "    print('Observed absolute difference in hazard rates:', observed)\n",
    "    print('P-value:', p)\n",
    "\n",
    "test(subjects)"
   ]
  },
  {
   "cell_type": "code",
   "execution_count": null,
   "metadata": {},
   "outputs": [],
   "source": [
    "subjects.group('Age').column('Age')"
   ]
  },
  {
   "cell_type": "code",
   "execution_count": null,
   "metadata": {},
   "outputs": [],
   "source": [
    "for age in subjects.group('Age').column('Age'):\n",
    "    print('Ages', age)\n",
    "    test(subjects.where('Age', age))"
   ]
  },
  {
   "cell_type": "code",
   "execution_count": null,
   "metadata": {},
   "outputs": [],
   "source": []
  }
 ],
 "metadata": {
  "kernelspec": {
   "display_name": "Python 3",
   "language": "python",
   "name": "python3"
  },
  "language_info": {
   "codemirror_mode": {
    "name": "ipython",
    "version": 3
   },
   "file_extension": ".py",
   "mimetype": "text/x-python",
   "name": "python",
   "nbconvert_exporter": "python",
   "pygments_lexer": "ipython3",
   "version": "3.6.4"
  }
 },
 "nbformat": 4,
 "nbformat_minor": 2
}
