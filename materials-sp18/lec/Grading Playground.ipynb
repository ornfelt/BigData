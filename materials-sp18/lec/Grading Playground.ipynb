{
 "cells": [
  {
   "cell_type": "code",
   "execution_count": 1,
   "metadata": {
    "collapsed": true
   },
   "outputs": [],
   "source": [
    "import numpy as np"
   ]
  },
  {
   "cell_type": "code",
   "execution_count": 30,
   "metadata": {
    "collapsed": true
   },
   "outputs": [],
   "source": [
    "#How many assignments have been graded? \n",
    "#Update as we go\n",
    "\n",
    "hw = 5\n",
    "lab = 6\n",
    "midterm = 1\n",
    "project = 1\n",
    "final = 0 "
   ]
  },
  {
   "cell_type": "code",
   "execution_count": 12,
   "metadata": {
    "collapsed": true
   },
   "outputs": [],
   "source": [
    "#Your scores for each assignment. Input scores here!\n",
    "\n",
    "#HW1, HW2, etc.\n",
    "my_hw = make_array(0, 0, 0, 0, 0, 0, 0, 0, 0, 0, 0, 0)\n",
    "\n",
    "#Lab 01, Lab 02, etc.\n",
    "my_lab = make_array(0, 0, 0, 0, 0, 0, 0, 0, 0, 0)\n",
    "\n",
    "my_midterm = 0\n",
    "\n",
    "#Project 01, etc.\n",
    "my_project = make_array(0,0,0)\n",
    "\n",
    "my_final = 0\n"
   ]
  },
  {
   "cell_type": "code",
   "execution_count": 8,
   "metadata": {
    "collapsed": true
   },
   "outputs": [],
   "source": [
    "#Total HW Scores. Input them as they come in! \n",
    "#.01 means the assignment is not out yet. You should change it\n",
    "#When it is out!\n",
    "#Total score = OkPy + Gradescope + Checkpoint \n",
    "\n",
    "\n",
    "hw_total = make_array(14, 25, 18, 13, 5, 0.01, 0.01, 0.01, 0.01, 0.01, 0.01, 0.01)\n",
    "\n",
    "lab_total = np.ones(10)\n",
    "\n",
    "midterm_total = 50\n",
    "\n",
    "project_total = make_array(24, .01, 0.01)\n",
    "\n",
    "final_total = 0.01"
   ]
  },
  {
   "cell_type": "code",
   "execution_count": 50,
   "metadata": {},
   "outputs": [
    {
     "name": "stdout",
     "output_type": "stream",
     "text": [
      "My total percentage is  0.01\n",
      "The total possible percentage is  0.35016666666666674\n",
      "Out of the total score available, my percentage of total points is 0.028557829605\n"
     ]
    }
   ],
   "source": [
    "#Your calculated grade, not including drops\n",
    "my_score = .21*np.average(my_hw/hw_total) + .11*(np.average(my_lab/lab_total)) + .1*(my_midterm/midterm_total) \\\n",
    "+ .26*(np.average(my_project/project_total)) + .31*(my_final/final_total) + 1*.01\n",
    "\n",
    "print('My total percentage is ', str(my_score))\n",
    "\n",
    "#Total possible score as of now, without drops\n",
    "total_possible = (.21*hw/12) + (.11*lab/10) + .1*midterm + (.26*project/3) + .31*final + .01\n",
    "print('The total possible percentage is ', str(total_possible))\n",
    "\n",
    "#Percentage out of 100 of the possible points that can be earned\n",
    "print('Out of the total score available, my percentage of total points is ' + str(my_score/total_possible))"
   ]
  },
  {
   "cell_type": "code",
   "execution_count": 47,
   "metadata": {},
   "outputs": [
    {
     "name": "stdout",
     "output_type": "stream",
     "text": [
      "My total percentage with drops is  0.01\n"
     ]
    }
   ],
   "source": [
    "#If we calculate grades including drops\n",
    "\n",
    "#Drop lowest HWs\n",
    "hw_percents = list(my_hw / hw_total)\n",
    "hw_percents.remove(min(hw_percents))\n",
    "hw_percents.remove(min(hw_percents))\n",
    "hw_percents = np.array(hw_percents)\n",
    "\n",
    "#Drop lowest lab\n",
    "lab_percents = list(my_lab / lab_total)\n",
    "lab_percents.remove(min(lab_percents))\n",
    "lab_percents = np.array(lab_percents)\n",
    "\n",
    "#Calculate score\n",
    "my_score = .21*np.average(hw_percents) + .11*(np.average(lab_percents)) + .1*(my_midterm/midterm_total) \\\n",
    "+ .26*(np.average(my_project/project_total)) + .31*(my_final/final_total) + 1*.01\n",
    "\n",
    "print('My total percentage with drops is ', str(my_score))\n"
   ]
  }
 ],
 "metadata": {
  "kernelspec": {
   "display_name": "Python [default]",
   "language": "python",
   "name": "python3"
  },
  "language_info": {
   "codemirror_mode": {
    "name": "ipython",
    "version": 3
   },
   "file_extension": ".py",
   "mimetype": "text/x-python",
   "name": "python",
   "nbconvert_exporter": "python",
   "pygments_lexer": "ipython3",
   "version": "3.5.3"
  }
 },
 "nbformat": 4,
 "nbformat_minor": 2
}
