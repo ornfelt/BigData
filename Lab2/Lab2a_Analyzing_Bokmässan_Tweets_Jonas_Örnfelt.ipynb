{
  "cells": [
    {
      "cell_type": "markdown",
      "metadata": {
        "id": "tcqUGoY72s-j"
      },
      "source": [
        "# Lab 2a Analyzing Bokmässan Tweets"
      ]
    },
    {
      "cell_type": "markdown",
      "metadata": {
        "id": "oeZKjNoy2s-l"
      },
      "source": [
        "To learn more detailed Python programming (if you need to) you can also study chapters 1-9 from the free online book [Python for Everybody](https://www.py4e.com/html3/), however it is not essential to completing the labs.\n",
        "\n",
        "Now you are familiar with Jupyter, we can now try out a simple analysis of Twitter data with a focus on data cleansing."
      ]
    },
    {
      "cell_type": "markdown",
      "metadata": {
        "id": "Yu1lE2tA2s-m"
      },
      "source": [
        "Firstly, we need to load the relevant Python modules that we will use in the code later by running the next code cell. In this cell, we use the `import` command to load five modules:\n",
        "\n",
        "1. `pandas` - A collection of utilities to load and manipulate data tables.\n",
        "1. `textmining` - Functions for statistical text mining, focused on the bag-of-words model.\n",
        "1. `wordcloud` - A visualization module that generates wordclouds.\n",
        "1. `matplotlib` -  A 2D plotting library to create figures such as charts and plots.\n",
        "1. `sklearn` -  Scikit-learn, a library of machine learning algorithms."
      ]
    },
    {
      "cell_type": "code",
      "source": [
        "!pip install textmining3\n",
        "!pip install nltk"
      ],
      "metadata": {
        "id": "wBGUEG_2Y2db",
        "colab": {
          "base_uri": "https://localhost:8080/"
        },
        "outputId": "90127b10-804a-48eb-c722-78e5af805b70"
      },
      "execution_count": 1,
      "outputs": [
        {
          "output_type": "stream",
          "name": "stdout",
          "text": [
            "Looking in indexes: https://pypi.org/simple, https://us-python.pkg.dev/colab-wheels/public/simple/\n",
            "Collecting textmining3\n",
            "  Downloading textmining3-1.1.0-py2.py3-none-any.whl (1.9 MB)\n",
            "\u001b[K     |████████████████████████████████| 1.9 MB 8.7 MB/s \n",
            "\u001b[?25hRequirement already satisfied: Click>=6.0 in /usr/local/lib/python3.7/dist-packages (from textmining3) (7.1.2)\n",
            "Installing collected packages: textmining3\n",
            "Successfully installed textmining3-1.1.0\n",
            "Looking in indexes: https://pypi.org/simple, https://us-python.pkg.dev/colab-wheels/public/simple/\n",
            "Requirement already satisfied: nltk in /usr/local/lib/python3.7/dist-packages (3.7)\n",
            "Requirement already satisfied: regex>=2021.8.3 in /usr/local/lib/python3.7/dist-packages (from nltk) (2022.6.2)\n",
            "Requirement already satisfied: click in /usr/local/lib/python3.7/dist-packages (from nltk) (7.1.2)\n",
            "Requirement already satisfied: tqdm in /usr/local/lib/python3.7/dist-packages (from nltk) (4.64.1)\n",
            "Requirement already satisfied: joblib in /usr/local/lib/python3.7/dist-packages (from nltk) (1.2.0)\n"
          ]
        }
      ]
    },
    {
      "cell_type": "code",
      "execution_count": 2,
      "metadata": {
        "id": "vXRDM-Wy2s-n"
      },
      "outputs": [],
      "source": [
        "# Run this cell to import the modules and set up some stuff\n",
        "import pandas as pd\n",
        "import textmining as tm\n",
        "import wordcloud\n",
        "import matplotlib\n",
        "from sklearn.feature_extraction.text import CountVectorizer\n",
        "# the following two lines set up our visualization settings\n",
        "%matplotlib inline\n",
        "matplotlib.pyplot.rcParams['figure.figsize'] = [10, 6]"
      ]
    },
    {
      "cell_type": "markdown",
      "metadata": {
        "lang": "en",
        "id": "UUykbUuH2s-p"
      },
      "source": [
        "## Analysis of Twitter data from the book fair\n",
        "\n",
        "You have been hired as consultants by a book publisher who wants you to find out which themes and books have generated attention on Twitter during the 2016 book fair in Gothenburg.\n",
        "\n",
        "Your task is to find out if there is any topic that has been particularly hot on Twitter before the book fair and during the book fair and to present a proposal to the company on what themes seem to create debate. In this lab we focus on data preparation. In order to prepare data, it is important to understand data\n",
        "\n",
        "**Q1.** What do you think is distinctive Twitter data and how will this effect how we might want to pre-process the data?\n",
        "\n",
        "Provide your answer by editing the cell below:"
      ]
    },
    {
      "cell_type": "markdown",
      "metadata": {
        "id": "Fzi2UaRc2s-q"
      },
      "source": [
        "Twitter data might contain information that need to be filtered out, like amount of followers or if they are directed at some specific user / users. Also, links may be included since people might refer to some articles or similar in their tweets. The overall sentiment might also be harder to categorize since tweets can contain typos and sarcasm.\n",
        "\n",
        "*Hint: Double-click on this cell to edit it, then to exit edit-mode run the cell using the `Run` button in the toolbar above or press shift-return*."
      ]
    },
    {
      "cell_type": "markdown",
      "metadata": {
        "lang": "en",
        "id": "tH8t2xlR2s-r"
      },
      "source": [
        "## Data pre-processing\n",
        "\n",
        "Often, the data to be analyzed must be cleansed before we can use it. Data cleansing can include tasks such as dealing with missing values or, as in our case, filtering out some parts of the raw text data. Data you have been provided with was collected from Twitter during the period May 2016 to September 2016 during the \"Book Fair\" event.\n",
        "\n",
        "The data can be found in the `lab1-data.tsv` file."
      ]
    },
    {
      "cell_type": "markdown",
      "metadata": {
        "lang": "en",
        "id": "i20TgBtR2s-s"
      },
      "source": [
        "### Loading data\n",
        "\n",
        "Start by loading data from a `.tsv` file. We can load this data from the Cloud using a URL that points to the file. A TSV (tab-separated variable) file where each line in the file corrsponds to a row of a table, and each cell in every row is delimited with a tab character.\n",
        "\n",
        "You can load data into a `DataFrame` object using `pandas` with the following command:"
      ]
    },
    {
      "cell_type": "code",
      "source": [
        "# Use google drive to load dataset\n",
        "from google.colab import drive\n",
        "drive.mount('/content/drive')\n",
        "gdrive = '/content/drive/MyDrive/data/'"
      ],
      "metadata": {
        "colab": {
          "base_uri": "https://localhost:8080/"
        },
        "id": "bZMb_xM7izrU",
        "outputId": "87a972ea-70ed-482b-a2d3-6f4cd888179e"
      },
      "execution_count": 3,
      "outputs": [
        {
          "output_type": "stream",
          "name": "stdout",
          "text": [
            "Mounted at /content/drive\n"
          ]
        }
      ]
    },
    {
      "cell_type": "code",
      "source": [
        "# Read file and view head\n",
        "bok_tweets = pd.read_csv(gdrive + \"twitter_book_fair_data.tsv\", encoding=\"utf-8\", sep=\"\\t\")\n",
        "bok_tweets.head()"
      ],
      "metadata": {
        "colab": {
          "base_uri": "https://localhost:8080/",
          "height": 444
        },
        "id": "6i0QLmdCiz7e",
        "outputId": "c6db2c29-4094-4d64-aaf9-a0fab2a40df1"
      },
      "execution_count": 7,
      "outputs": [
        {
          "output_type": "execute_result",
          "data": {
            "text/plain": [
              "                                                text to_user_id  \\\n",
              "0  rt @amiethekid: kvaellens avsnitt av raseriet ...        NaN   \n",
              "1  maranatafoersamlingens monter paa bokmaessan v...        NaN   \n",
              "2  idrotten blev en trygg zon under en jobbig ton...        NaN   \n",
              "3  tillbakablick paa #bokmaessan #goeteborg del 1...        NaN   \n",
              "4  rt @flamman_: aha, vilken tid aer demon? hm, d...        NaN   \n",
              "\n",
              "         from_user                  id  from_user_id iso_language_code  \\\n",
              "0     ornellanizii  780663045701955584     701149297                sv   \n",
              "1        strrawbuz  780658066073198592     163765933                sv   \n",
              "2  birgittajekblom  780655458407383040      72873310                sv   \n",
              "3    kimmkimselius  780654308002062336      65428329                sv   \n",
              "4        annaherdy  780654122076962816     111971247                sv   \n",
              "\n",
              "                                              source  \\\n",
              "0  <a href=\"http://twitter.com\" rel=\"nofollow\">tw...   \n",
              "1  <a href=\"http://twitter.com\" rel=\"nofollow\">tw...   \n",
              "2  <a href=\"http://twitter.com/download/iphone\" r...   \n",
              "3  <a href=\"https://about.twitter.com/products/tw...   \n",
              "4  <a href=\"https://about.twitter.com/products/tw...   \n",
              "\n",
              "                                   profile_image_url geo_type  \\\n",
              "0   http://abs.twimg.com/images/themes/theme1/bg.png      NaN   \n",
              "1  http://pbs.twimg.com/profile_background_images...      NaN   \n",
              "2   http://abs.twimg.com/images/themes/theme1/bg.png      NaN   \n",
              "3  http://pbs.twimg.com/profile_background_images...      NaN   \n",
              "4  http://abs.twimg.com/images/themes/theme17/bg.gif      NaN   \n",
              "\n",
              "   geo_coordinates_0  geo_coordinates_1                      created_at  \\\n",
              "0                0.0                0.0  tue sep 27 06:59:08 +0000 2016   \n",
              "1                0.0                0.0  tue sep 27 06:39:21 +0000 2016   \n",
              "2                0.0                0.0  tue sep 27 06:28:59 +0000 2016   \n",
              "3                0.0                0.0  tue sep 27 06:24:25 +0000 2016   \n",
              "4                0.0                0.0  tue sep 27 06:23:41 +0000 2016   \n",
              "\n",
              "           time  \n",
              "0  1.474960e+09  \n",
              "1  1.474958e+09  \n",
              "2  1.474958e+09  \n",
              "3  1.474957e+09  \n",
              "4  1.474957e+09  "
            ],
            "text/html": [
              "\n",
              "  <div id=\"df-9c9ebe36-ddd3-4498-85e5-f97566d90208\">\n",
              "    <div class=\"colab-df-container\">\n",
              "      <div>\n",
              "<style scoped>\n",
              "    .dataframe tbody tr th:only-of-type {\n",
              "        vertical-align: middle;\n",
              "    }\n",
              "\n",
              "    .dataframe tbody tr th {\n",
              "        vertical-align: top;\n",
              "    }\n",
              "\n",
              "    .dataframe thead th {\n",
              "        text-align: right;\n",
              "    }\n",
              "</style>\n",
              "<table border=\"1\" class=\"dataframe\">\n",
              "  <thead>\n",
              "    <tr style=\"text-align: right;\">\n",
              "      <th></th>\n",
              "      <th>text</th>\n",
              "      <th>to_user_id</th>\n",
              "      <th>from_user</th>\n",
              "      <th>id</th>\n",
              "      <th>from_user_id</th>\n",
              "      <th>iso_language_code</th>\n",
              "      <th>source</th>\n",
              "      <th>profile_image_url</th>\n",
              "      <th>geo_type</th>\n",
              "      <th>geo_coordinates_0</th>\n",
              "      <th>geo_coordinates_1</th>\n",
              "      <th>created_at</th>\n",
              "      <th>time</th>\n",
              "    </tr>\n",
              "  </thead>\n",
              "  <tbody>\n",
              "    <tr>\n",
              "      <th>0</th>\n",
              "      <td>rt @amiethekid: kvaellens avsnitt av raseriet ...</td>\n",
              "      <td>NaN</td>\n",
              "      <td>ornellanizii</td>\n",
              "      <td>780663045701955584</td>\n",
              "      <td>701149297</td>\n",
              "      <td>sv</td>\n",
              "      <td>&lt;a href=\"http://twitter.com\" rel=\"nofollow\"&gt;tw...</td>\n",
              "      <td>http://abs.twimg.com/images/themes/theme1/bg.png</td>\n",
              "      <td>NaN</td>\n",
              "      <td>0.0</td>\n",
              "      <td>0.0</td>\n",
              "      <td>tue sep 27 06:59:08 +0000 2016</td>\n",
              "      <td>1.474960e+09</td>\n",
              "    </tr>\n",
              "    <tr>\n",
              "      <th>1</th>\n",
              "      <td>maranatafoersamlingens monter paa bokmaessan v...</td>\n",
              "      <td>NaN</td>\n",
              "      <td>strrawbuz</td>\n",
              "      <td>780658066073198592</td>\n",
              "      <td>163765933</td>\n",
              "      <td>sv</td>\n",
              "      <td>&lt;a href=\"http://twitter.com\" rel=\"nofollow\"&gt;tw...</td>\n",
              "      <td>http://pbs.twimg.com/profile_background_images...</td>\n",
              "      <td>NaN</td>\n",
              "      <td>0.0</td>\n",
              "      <td>0.0</td>\n",
              "      <td>tue sep 27 06:39:21 +0000 2016</td>\n",
              "      <td>1.474958e+09</td>\n",
              "    </tr>\n",
              "    <tr>\n",
              "      <th>2</th>\n",
              "      <td>idrotten blev en trygg zon under en jobbig ton...</td>\n",
              "      <td>NaN</td>\n",
              "      <td>birgittajekblom</td>\n",
              "      <td>780655458407383040</td>\n",
              "      <td>72873310</td>\n",
              "      <td>sv</td>\n",
              "      <td>&lt;a href=\"http://twitter.com/download/iphone\" r...</td>\n",
              "      <td>http://abs.twimg.com/images/themes/theme1/bg.png</td>\n",
              "      <td>NaN</td>\n",
              "      <td>0.0</td>\n",
              "      <td>0.0</td>\n",
              "      <td>tue sep 27 06:28:59 +0000 2016</td>\n",
              "      <td>1.474958e+09</td>\n",
              "    </tr>\n",
              "    <tr>\n",
              "      <th>3</th>\n",
              "      <td>tillbakablick paa #bokmaessan #goeteborg del 1...</td>\n",
              "      <td>NaN</td>\n",
              "      <td>kimmkimselius</td>\n",
              "      <td>780654308002062336</td>\n",
              "      <td>65428329</td>\n",
              "      <td>sv</td>\n",
              "      <td>&lt;a href=\"https://about.twitter.com/products/tw...</td>\n",
              "      <td>http://pbs.twimg.com/profile_background_images...</td>\n",
              "      <td>NaN</td>\n",
              "      <td>0.0</td>\n",
              "      <td>0.0</td>\n",
              "      <td>tue sep 27 06:24:25 +0000 2016</td>\n",
              "      <td>1.474957e+09</td>\n",
              "    </tr>\n",
              "    <tr>\n",
              "      <th>4</th>\n",
              "      <td>rt @flamman_: aha, vilken tid aer demon? hm, d...</td>\n",
              "      <td>NaN</td>\n",
              "      <td>annaherdy</td>\n",
              "      <td>780654122076962816</td>\n",
              "      <td>111971247</td>\n",
              "      <td>sv</td>\n",
              "      <td>&lt;a href=\"https://about.twitter.com/products/tw...</td>\n",
              "      <td>http://abs.twimg.com/images/themes/theme17/bg.gif</td>\n",
              "      <td>NaN</td>\n",
              "      <td>0.0</td>\n",
              "      <td>0.0</td>\n",
              "      <td>tue sep 27 06:23:41 +0000 2016</td>\n",
              "      <td>1.474957e+09</td>\n",
              "    </tr>\n",
              "  </tbody>\n",
              "</table>\n",
              "</div>\n",
              "      <button class=\"colab-df-convert\" onclick=\"convertToInteractive('df-9c9ebe36-ddd3-4498-85e5-f97566d90208')\"\n",
              "              title=\"Convert this dataframe to an interactive table.\"\n",
              "              style=\"display:none;\">\n",
              "        \n",
              "  <svg xmlns=\"http://www.w3.org/2000/svg\" height=\"24px\"viewBox=\"0 0 24 24\"\n",
              "       width=\"24px\">\n",
              "    <path d=\"M0 0h24v24H0V0z\" fill=\"none\"/>\n",
              "    <path d=\"M18.56 5.44l.94 2.06.94-2.06 2.06-.94-2.06-.94-.94-2.06-.94 2.06-2.06.94zm-11 1L8.5 8.5l.94-2.06 2.06-.94-2.06-.94L8.5 2.5l-.94 2.06-2.06.94zm10 10l.94 2.06.94-2.06 2.06-.94-2.06-.94-.94-2.06-.94 2.06-2.06.94z\"/><path d=\"M17.41 7.96l-1.37-1.37c-.4-.4-.92-.59-1.43-.59-.52 0-1.04.2-1.43.59L10.3 9.45l-7.72 7.72c-.78.78-.78 2.05 0 2.83L4 21.41c.39.39.9.59 1.41.59.51 0 1.02-.2 1.41-.59l7.78-7.78 2.81-2.81c.8-.78.8-2.07 0-2.86zM5.41 20L4 18.59l7.72-7.72 1.47 1.35L5.41 20z\"/>\n",
              "  </svg>\n",
              "      </button>\n",
              "      \n",
              "  <style>\n",
              "    .colab-df-container {\n",
              "      display:flex;\n",
              "      flex-wrap:wrap;\n",
              "      gap: 12px;\n",
              "    }\n",
              "\n",
              "    .colab-df-convert {\n",
              "      background-color: #E8F0FE;\n",
              "      border: none;\n",
              "      border-radius: 50%;\n",
              "      cursor: pointer;\n",
              "      display: none;\n",
              "      fill: #1967D2;\n",
              "      height: 32px;\n",
              "      padding: 0 0 0 0;\n",
              "      width: 32px;\n",
              "    }\n",
              "\n",
              "    .colab-df-convert:hover {\n",
              "      background-color: #E2EBFA;\n",
              "      box-shadow: 0px 1px 2px rgba(60, 64, 67, 0.3), 0px 1px 3px 1px rgba(60, 64, 67, 0.15);\n",
              "      fill: #174EA6;\n",
              "    }\n",
              "\n",
              "    [theme=dark] .colab-df-convert {\n",
              "      background-color: #3B4455;\n",
              "      fill: #D2E3FC;\n",
              "    }\n",
              "\n",
              "    [theme=dark] .colab-df-convert:hover {\n",
              "      background-color: #434B5C;\n",
              "      box-shadow: 0px 1px 3px 1px rgba(0, 0, 0, 0.15);\n",
              "      filter: drop-shadow(0px 1px 2px rgba(0, 0, 0, 0.3));\n",
              "      fill: #FFFFFF;\n",
              "    }\n",
              "  </style>\n",
              "\n",
              "      <script>\n",
              "        const buttonEl =\n",
              "          document.querySelector('#df-9c9ebe36-ddd3-4498-85e5-f97566d90208 button.colab-df-convert');\n",
              "        buttonEl.style.display =\n",
              "          google.colab.kernel.accessAllowed ? 'block' : 'none';\n",
              "\n",
              "        async function convertToInteractive(key) {\n",
              "          const element = document.querySelector('#df-9c9ebe36-ddd3-4498-85e5-f97566d90208');\n",
              "          const dataTable =\n",
              "            await google.colab.kernel.invokeFunction('convertToInteractive',\n",
              "                                                     [key], {});\n",
              "          if (!dataTable) return;\n",
              "\n",
              "          const docLinkHtml = 'Like what you see? Visit the ' +\n",
              "            '<a target=\"_blank\" href=https://colab.research.google.com/notebooks/data_table.ipynb>data table notebook</a>'\n",
              "            + ' to learn more about interactive tables.';\n",
              "          element.innerHTML = '';\n",
              "          dataTable['output_type'] = 'display_data';\n",
              "          await google.colab.output.renderOutput(dataTable, element);\n",
              "          const docLink = document.createElement('div');\n",
              "          docLink.innerHTML = docLinkHtml;\n",
              "          element.appendChild(docLink);\n",
              "        }\n",
              "      </script>\n",
              "    </div>\n",
              "  </div>\n",
              "  "
            ]
          },
          "metadata": {},
          "execution_count": 7
        }
      ]
    },
    {
      "cell_type": "code",
      "execution_count": 5,
      "metadata": {
        "colab": {
          "base_uri": "https://localhost:8080/",
          "height": 364
        },
        "id": "5DSOw6JF2s-t",
        "outputId": "ee68df58-5c55-4ccb-bc85-a588e4225a91"
      },
      "outputs": [
        {
          "output_type": "error",
          "ename": "HTTPError",
          "evalue": "ignored",
          "traceback": [
            "\u001b[0;31m---------------------------------------------------------------------------\u001b[0m",
            "\u001b[0;31mHTTPError\u001b[0m                                 Traceback (most recent call last)",
            "\u001b[0;32m<ipython-input-5-78ebb48f5a61>\u001b[0m in \u001b[0;36m<module>\u001b[0;34m\u001b[0m\n\u001b[1;32m      1\u001b[0m bok_tweets = pd.read_csv(\n\u001b[1;32m      2\u001b[0m     \u001b[0;34m\"https://s3.eu-west-2.amazonaws.com/uu-datamining-assets/lab1-data.tsv\"\u001b[0m\u001b[0;34m,\u001b[0m\u001b[0;34m\u001b[0m\u001b[0;34m\u001b[0m\u001b[0m\n\u001b[0;32m----> 3\u001b[0;31m     \u001b[0mencoding\u001b[0m\u001b[0;34m=\u001b[0m\u001b[0;34m\"utf-8\"\u001b[0m\u001b[0;34m,\u001b[0m \u001b[0msep\u001b[0m\u001b[0;34m=\u001b[0m\u001b[0;34m\"\\t\"\u001b[0m\u001b[0;34m\u001b[0m\u001b[0;34m\u001b[0m\u001b[0m\n\u001b[0m\u001b[1;32m      4\u001b[0m )\n",
            "\u001b[0;32m/usr/local/lib/python3.7/dist-packages/pandas/util/_decorators.py\u001b[0m in \u001b[0;36mwrapper\u001b[0;34m(*args, **kwargs)\u001b[0m\n\u001b[1;32m    309\u001b[0m                     \u001b[0mstacklevel\u001b[0m\u001b[0;34m=\u001b[0m\u001b[0mstacklevel\u001b[0m\u001b[0;34m,\u001b[0m\u001b[0;34m\u001b[0m\u001b[0;34m\u001b[0m\u001b[0m\n\u001b[1;32m    310\u001b[0m                 )\n\u001b[0;32m--> 311\u001b[0;31m             \u001b[0;32mreturn\u001b[0m \u001b[0mfunc\u001b[0m\u001b[0;34m(\u001b[0m\u001b[0;34m*\u001b[0m\u001b[0margs\u001b[0m\u001b[0;34m,\u001b[0m \u001b[0;34m**\u001b[0m\u001b[0mkwargs\u001b[0m\u001b[0;34m)\u001b[0m\u001b[0;34m\u001b[0m\u001b[0;34m\u001b[0m\u001b[0m\n\u001b[0m\u001b[1;32m    312\u001b[0m \u001b[0;34m\u001b[0m\u001b[0m\n\u001b[1;32m    313\u001b[0m         \u001b[0;32mreturn\u001b[0m \u001b[0mwrapper\u001b[0m\u001b[0;34m\u001b[0m\u001b[0;34m\u001b[0m\u001b[0m\n",
            "\u001b[0;32m/usr/local/lib/python3.7/dist-packages/pandas/io/parsers/readers.py\u001b[0m in \u001b[0;36mread_csv\u001b[0;34m(filepath_or_buffer, sep, delimiter, header, names, index_col, usecols, squeeze, prefix, mangle_dupe_cols, dtype, engine, converters, true_values, false_values, skipinitialspace, skiprows, skipfooter, nrows, na_values, keep_default_na, na_filter, verbose, skip_blank_lines, parse_dates, infer_datetime_format, keep_date_col, date_parser, dayfirst, cache_dates, iterator, chunksize, compression, thousands, decimal, lineterminator, quotechar, quoting, doublequote, escapechar, comment, encoding, encoding_errors, dialect, error_bad_lines, warn_bad_lines, on_bad_lines, delim_whitespace, low_memory, memory_map, float_precision, storage_options)\u001b[0m\n\u001b[1;32m    584\u001b[0m     \u001b[0mkwds\u001b[0m\u001b[0;34m.\u001b[0m\u001b[0mupdate\u001b[0m\u001b[0;34m(\u001b[0m\u001b[0mkwds_defaults\u001b[0m\u001b[0;34m)\u001b[0m\u001b[0;34m\u001b[0m\u001b[0;34m\u001b[0m\u001b[0m\n\u001b[1;32m    585\u001b[0m \u001b[0;34m\u001b[0m\u001b[0m\n\u001b[0;32m--> 586\u001b[0;31m     \u001b[0;32mreturn\u001b[0m \u001b[0m_read\u001b[0m\u001b[0;34m(\u001b[0m\u001b[0mfilepath_or_buffer\u001b[0m\u001b[0;34m,\u001b[0m \u001b[0mkwds\u001b[0m\u001b[0;34m)\u001b[0m\u001b[0;34m\u001b[0m\u001b[0;34m\u001b[0m\u001b[0m\n\u001b[0m\u001b[1;32m    587\u001b[0m \u001b[0;34m\u001b[0m\u001b[0m\n\u001b[1;32m    588\u001b[0m \u001b[0;34m\u001b[0m\u001b[0m\n",
            "\u001b[0;32m/usr/local/lib/python3.7/dist-packages/pandas/io/parsers/readers.py\u001b[0m in \u001b[0;36m_read\u001b[0;34m(filepath_or_buffer, kwds)\u001b[0m\n\u001b[1;32m    480\u001b[0m \u001b[0;34m\u001b[0m\u001b[0m\n\u001b[1;32m    481\u001b[0m     \u001b[0;31m# Create the parser.\u001b[0m\u001b[0;34m\u001b[0m\u001b[0;34m\u001b[0m\u001b[0;34m\u001b[0m\u001b[0m\n\u001b[0;32m--> 482\u001b[0;31m     \u001b[0mparser\u001b[0m \u001b[0;34m=\u001b[0m \u001b[0mTextFileReader\u001b[0m\u001b[0;34m(\u001b[0m\u001b[0mfilepath_or_buffer\u001b[0m\u001b[0;34m,\u001b[0m \u001b[0;34m**\u001b[0m\u001b[0mkwds\u001b[0m\u001b[0;34m)\u001b[0m\u001b[0;34m\u001b[0m\u001b[0;34m\u001b[0m\u001b[0m\n\u001b[0m\u001b[1;32m    483\u001b[0m \u001b[0;34m\u001b[0m\u001b[0m\n\u001b[1;32m    484\u001b[0m     \u001b[0;32mif\u001b[0m \u001b[0mchunksize\u001b[0m \u001b[0;32mor\u001b[0m \u001b[0miterator\u001b[0m\u001b[0;34m:\u001b[0m\u001b[0;34m\u001b[0m\u001b[0;34m\u001b[0m\u001b[0m\n",
            "\u001b[0;32m/usr/local/lib/python3.7/dist-packages/pandas/io/parsers/readers.py\u001b[0m in \u001b[0;36m__init__\u001b[0;34m(self, f, engine, **kwds)\u001b[0m\n\u001b[1;32m    809\u001b[0m             \u001b[0mself\u001b[0m\u001b[0;34m.\u001b[0m\u001b[0moptions\u001b[0m\u001b[0;34m[\u001b[0m\u001b[0;34m\"has_index_names\"\u001b[0m\u001b[0;34m]\u001b[0m \u001b[0;34m=\u001b[0m \u001b[0mkwds\u001b[0m\u001b[0;34m[\u001b[0m\u001b[0;34m\"has_index_names\"\u001b[0m\u001b[0;34m]\u001b[0m\u001b[0;34m\u001b[0m\u001b[0;34m\u001b[0m\u001b[0m\n\u001b[1;32m    810\u001b[0m \u001b[0;34m\u001b[0m\u001b[0m\n\u001b[0;32m--> 811\u001b[0;31m         \u001b[0mself\u001b[0m\u001b[0;34m.\u001b[0m\u001b[0m_engine\u001b[0m \u001b[0;34m=\u001b[0m \u001b[0mself\u001b[0m\u001b[0;34m.\u001b[0m\u001b[0m_make_engine\u001b[0m\u001b[0;34m(\u001b[0m\u001b[0mself\u001b[0m\u001b[0;34m.\u001b[0m\u001b[0mengine\u001b[0m\u001b[0;34m)\u001b[0m\u001b[0;34m\u001b[0m\u001b[0;34m\u001b[0m\u001b[0m\n\u001b[0m\u001b[1;32m    812\u001b[0m \u001b[0;34m\u001b[0m\u001b[0m\n\u001b[1;32m    813\u001b[0m     \u001b[0;32mdef\u001b[0m \u001b[0mclose\u001b[0m\u001b[0;34m(\u001b[0m\u001b[0mself\u001b[0m\u001b[0;34m)\u001b[0m\u001b[0;34m:\u001b[0m\u001b[0;34m\u001b[0m\u001b[0;34m\u001b[0m\u001b[0m\n",
            "\u001b[0;32m/usr/local/lib/python3.7/dist-packages/pandas/io/parsers/readers.py\u001b[0m in \u001b[0;36m_make_engine\u001b[0;34m(self, engine)\u001b[0m\n\u001b[1;32m   1038\u001b[0m             )\n\u001b[1;32m   1039\u001b[0m         \u001b[0;31m# error: Too many arguments for \"ParserBase\"\u001b[0m\u001b[0;34m\u001b[0m\u001b[0;34m\u001b[0m\u001b[0;34m\u001b[0m\u001b[0m\n\u001b[0;32m-> 1040\u001b[0;31m         \u001b[0;32mreturn\u001b[0m \u001b[0mmapping\u001b[0m\u001b[0;34m[\u001b[0m\u001b[0mengine\u001b[0m\u001b[0;34m]\u001b[0m\u001b[0;34m(\u001b[0m\u001b[0mself\u001b[0m\u001b[0;34m.\u001b[0m\u001b[0mf\u001b[0m\u001b[0;34m,\u001b[0m \u001b[0;34m**\u001b[0m\u001b[0mself\u001b[0m\u001b[0;34m.\u001b[0m\u001b[0moptions\u001b[0m\u001b[0;34m)\u001b[0m  \u001b[0;31m# type: ignore[call-arg]\u001b[0m\u001b[0;34m\u001b[0m\u001b[0;34m\u001b[0m\u001b[0m\n\u001b[0m\u001b[1;32m   1041\u001b[0m \u001b[0;34m\u001b[0m\u001b[0m\n\u001b[1;32m   1042\u001b[0m     \u001b[0;32mdef\u001b[0m \u001b[0m_failover_to_python\u001b[0m\u001b[0;34m(\u001b[0m\u001b[0mself\u001b[0m\u001b[0;34m)\u001b[0m\u001b[0;34m:\u001b[0m\u001b[0;34m\u001b[0m\u001b[0;34m\u001b[0m\u001b[0m\n",
            "\u001b[0;32m/usr/local/lib/python3.7/dist-packages/pandas/io/parsers/c_parser_wrapper.py\u001b[0m in \u001b[0;36m__init__\u001b[0;34m(self, src, **kwds)\u001b[0m\n\u001b[1;32m     49\u001b[0m \u001b[0;34m\u001b[0m\u001b[0m\n\u001b[1;32m     50\u001b[0m         \u001b[0;31m# open handles\u001b[0m\u001b[0;34m\u001b[0m\u001b[0;34m\u001b[0m\u001b[0;34m\u001b[0m\u001b[0m\n\u001b[0;32m---> 51\u001b[0;31m         \u001b[0mself\u001b[0m\u001b[0;34m.\u001b[0m\u001b[0m_open_handles\u001b[0m\u001b[0;34m(\u001b[0m\u001b[0msrc\u001b[0m\u001b[0;34m,\u001b[0m \u001b[0mkwds\u001b[0m\u001b[0;34m)\u001b[0m\u001b[0;34m\u001b[0m\u001b[0;34m\u001b[0m\u001b[0m\n\u001b[0m\u001b[1;32m     52\u001b[0m         \u001b[0;32massert\u001b[0m \u001b[0mself\u001b[0m\u001b[0;34m.\u001b[0m\u001b[0mhandles\u001b[0m \u001b[0;32mis\u001b[0m \u001b[0;32mnot\u001b[0m \u001b[0;32mNone\u001b[0m\u001b[0;34m\u001b[0m\u001b[0;34m\u001b[0m\u001b[0m\n\u001b[1;32m     53\u001b[0m \u001b[0;34m\u001b[0m\u001b[0m\n",
            "\u001b[0;32m/usr/local/lib/python3.7/dist-packages/pandas/io/parsers/base_parser.py\u001b[0m in \u001b[0;36m_open_handles\u001b[0;34m(self, src, kwds)\u001b[0m\n\u001b[1;32m    227\u001b[0m             \u001b[0mmemory_map\u001b[0m\u001b[0;34m=\u001b[0m\u001b[0mkwds\u001b[0m\u001b[0;34m.\u001b[0m\u001b[0mget\u001b[0m\u001b[0;34m(\u001b[0m\u001b[0;34m\"memory_map\"\u001b[0m\u001b[0;34m,\u001b[0m \u001b[0;32mFalse\u001b[0m\u001b[0;34m)\u001b[0m\u001b[0;34m,\u001b[0m\u001b[0;34m\u001b[0m\u001b[0;34m\u001b[0m\u001b[0m\n\u001b[1;32m    228\u001b[0m             \u001b[0mstorage_options\u001b[0m\u001b[0;34m=\u001b[0m\u001b[0mkwds\u001b[0m\u001b[0;34m.\u001b[0m\u001b[0mget\u001b[0m\u001b[0;34m(\u001b[0m\u001b[0;34m\"storage_options\"\u001b[0m\u001b[0;34m,\u001b[0m \u001b[0;32mNone\u001b[0m\u001b[0;34m)\u001b[0m\u001b[0;34m,\u001b[0m\u001b[0;34m\u001b[0m\u001b[0;34m\u001b[0m\u001b[0m\n\u001b[0;32m--> 229\u001b[0;31m             \u001b[0merrors\u001b[0m\u001b[0;34m=\u001b[0m\u001b[0mkwds\u001b[0m\u001b[0;34m.\u001b[0m\u001b[0mget\u001b[0m\u001b[0;34m(\u001b[0m\u001b[0;34m\"encoding_errors\"\u001b[0m\u001b[0;34m,\u001b[0m \u001b[0;34m\"strict\"\u001b[0m\u001b[0;34m)\u001b[0m\u001b[0;34m,\u001b[0m\u001b[0;34m\u001b[0m\u001b[0;34m\u001b[0m\u001b[0m\n\u001b[0m\u001b[1;32m    230\u001b[0m         )\n\u001b[1;32m    231\u001b[0m \u001b[0;34m\u001b[0m\u001b[0m\n",
            "\u001b[0;32m/usr/local/lib/python3.7/dist-packages/pandas/io/common.py\u001b[0m in \u001b[0;36mget_handle\u001b[0;34m(path_or_buf, mode, encoding, compression, memory_map, is_text, errors, storage_options)\u001b[0m\n\u001b[1;32m    612\u001b[0m         \u001b[0mcompression\u001b[0m\u001b[0;34m=\u001b[0m\u001b[0mcompression\u001b[0m\u001b[0;34m,\u001b[0m\u001b[0;34m\u001b[0m\u001b[0;34m\u001b[0m\u001b[0m\n\u001b[1;32m    613\u001b[0m         \u001b[0mmode\u001b[0m\u001b[0;34m=\u001b[0m\u001b[0mmode\u001b[0m\u001b[0;34m,\u001b[0m\u001b[0;34m\u001b[0m\u001b[0;34m\u001b[0m\u001b[0m\n\u001b[0;32m--> 614\u001b[0;31m         \u001b[0mstorage_options\u001b[0m\u001b[0;34m=\u001b[0m\u001b[0mstorage_options\u001b[0m\u001b[0;34m,\u001b[0m\u001b[0;34m\u001b[0m\u001b[0;34m\u001b[0m\u001b[0m\n\u001b[0m\u001b[1;32m    615\u001b[0m     )\n\u001b[1;32m    616\u001b[0m \u001b[0;34m\u001b[0m\u001b[0m\n",
            "\u001b[0;32m/usr/local/lib/python3.7/dist-packages/pandas/io/common.py\u001b[0m in \u001b[0;36m_get_filepath_or_buffer\u001b[0;34m(filepath_or_buffer, encoding, compression, mode, storage_options)\u001b[0m\n\u001b[1;32m    310\u001b[0m         \u001b[0;31m# assuming storage_options is to be interpreted as headers\u001b[0m\u001b[0;34m\u001b[0m\u001b[0;34m\u001b[0m\u001b[0;34m\u001b[0m\u001b[0m\n\u001b[1;32m    311\u001b[0m         \u001b[0mreq_info\u001b[0m \u001b[0;34m=\u001b[0m \u001b[0murllib\u001b[0m\u001b[0;34m.\u001b[0m\u001b[0mrequest\u001b[0m\u001b[0;34m.\u001b[0m\u001b[0mRequest\u001b[0m\u001b[0;34m(\u001b[0m\u001b[0mfilepath_or_buffer\u001b[0m\u001b[0;34m,\u001b[0m \u001b[0mheaders\u001b[0m\u001b[0;34m=\u001b[0m\u001b[0mstorage_options\u001b[0m\u001b[0;34m)\u001b[0m\u001b[0;34m\u001b[0m\u001b[0;34m\u001b[0m\u001b[0m\n\u001b[0;32m--> 312\u001b[0;31m         \u001b[0;32mwith\u001b[0m \u001b[0murlopen\u001b[0m\u001b[0;34m(\u001b[0m\u001b[0mreq_info\u001b[0m\u001b[0;34m)\u001b[0m \u001b[0;32mas\u001b[0m \u001b[0mreq\u001b[0m\u001b[0;34m:\u001b[0m\u001b[0;34m\u001b[0m\u001b[0;34m\u001b[0m\u001b[0m\n\u001b[0m\u001b[1;32m    313\u001b[0m             \u001b[0mcontent_encoding\u001b[0m \u001b[0;34m=\u001b[0m \u001b[0mreq\u001b[0m\u001b[0;34m.\u001b[0m\u001b[0mheaders\u001b[0m\u001b[0;34m.\u001b[0m\u001b[0mget\u001b[0m\u001b[0;34m(\u001b[0m\u001b[0;34m\"Content-Encoding\"\u001b[0m\u001b[0;34m,\u001b[0m \u001b[0;32mNone\u001b[0m\u001b[0;34m)\u001b[0m\u001b[0;34m\u001b[0m\u001b[0;34m\u001b[0m\u001b[0m\n\u001b[1;32m    314\u001b[0m             \u001b[0;32mif\u001b[0m \u001b[0mcontent_encoding\u001b[0m \u001b[0;34m==\u001b[0m \u001b[0;34m\"gzip\"\u001b[0m\u001b[0;34m:\u001b[0m\u001b[0;34m\u001b[0m\u001b[0;34m\u001b[0m\u001b[0m\n",
            "\u001b[0;32m/usr/local/lib/python3.7/dist-packages/pandas/io/common.py\u001b[0m in \u001b[0;36murlopen\u001b[0;34m(*args, **kwargs)\u001b[0m\n\u001b[1;32m    210\u001b[0m     \u001b[0;32mimport\u001b[0m \u001b[0murllib\u001b[0m\u001b[0;34m.\u001b[0m\u001b[0mrequest\u001b[0m\u001b[0;34m\u001b[0m\u001b[0;34m\u001b[0m\u001b[0m\n\u001b[1;32m    211\u001b[0m \u001b[0;34m\u001b[0m\u001b[0m\n\u001b[0;32m--> 212\u001b[0;31m     \u001b[0;32mreturn\u001b[0m \u001b[0murllib\u001b[0m\u001b[0;34m.\u001b[0m\u001b[0mrequest\u001b[0m\u001b[0;34m.\u001b[0m\u001b[0murlopen\u001b[0m\u001b[0;34m(\u001b[0m\u001b[0;34m*\u001b[0m\u001b[0margs\u001b[0m\u001b[0;34m,\u001b[0m \u001b[0;34m**\u001b[0m\u001b[0mkwargs\u001b[0m\u001b[0;34m)\u001b[0m\u001b[0;34m\u001b[0m\u001b[0;34m\u001b[0m\u001b[0m\n\u001b[0m\u001b[1;32m    213\u001b[0m \u001b[0;34m\u001b[0m\u001b[0m\n\u001b[1;32m    214\u001b[0m \u001b[0;34m\u001b[0m\u001b[0m\n",
            "\u001b[0;32m/usr/lib/python3.7/urllib/request.py\u001b[0m in \u001b[0;36murlopen\u001b[0;34m(url, data, timeout, cafile, capath, cadefault, context)\u001b[0m\n\u001b[1;32m    220\u001b[0m     \u001b[0;32melse\u001b[0m\u001b[0;34m:\u001b[0m\u001b[0;34m\u001b[0m\u001b[0;34m\u001b[0m\u001b[0m\n\u001b[1;32m    221\u001b[0m         \u001b[0mopener\u001b[0m \u001b[0;34m=\u001b[0m \u001b[0m_opener\u001b[0m\u001b[0;34m\u001b[0m\u001b[0;34m\u001b[0m\u001b[0m\n\u001b[0;32m--> 222\u001b[0;31m     \u001b[0;32mreturn\u001b[0m \u001b[0mopener\u001b[0m\u001b[0;34m.\u001b[0m\u001b[0mopen\u001b[0m\u001b[0;34m(\u001b[0m\u001b[0murl\u001b[0m\u001b[0;34m,\u001b[0m \u001b[0mdata\u001b[0m\u001b[0;34m,\u001b[0m \u001b[0mtimeout\u001b[0m\u001b[0;34m)\u001b[0m\u001b[0;34m\u001b[0m\u001b[0;34m\u001b[0m\u001b[0m\n\u001b[0m\u001b[1;32m    223\u001b[0m \u001b[0;34m\u001b[0m\u001b[0m\n\u001b[1;32m    224\u001b[0m \u001b[0;32mdef\u001b[0m \u001b[0minstall_opener\u001b[0m\u001b[0;34m(\u001b[0m\u001b[0mopener\u001b[0m\u001b[0;34m)\u001b[0m\u001b[0;34m:\u001b[0m\u001b[0;34m\u001b[0m\u001b[0;34m\u001b[0m\u001b[0m\n",
            "\u001b[0;32m/usr/lib/python3.7/urllib/request.py\u001b[0m in \u001b[0;36mopen\u001b[0;34m(self, fullurl, data, timeout)\u001b[0m\n\u001b[1;32m    529\u001b[0m         \u001b[0;32mfor\u001b[0m \u001b[0mprocessor\u001b[0m \u001b[0;32min\u001b[0m \u001b[0mself\u001b[0m\u001b[0;34m.\u001b[0m\u001b[0mprocess_response\u001b[0m\u001b[0;34m.\u001b[0m\u001b[0mget\u001b[0m\u001b[0;34m(\u001b[0m\u001b[0mprotocol\u001b[0m\u001b[0;34m,\u001b[0m \u001b[0;34m[\u001b[0m\u001b[0;34m]\u001b[0m\u001b[0;34m)\u001b[0m\u001b[0;34m:\u001b[0m\u001b[0;34m\u001b[0m\u001b[0;34m\u001b[0m\u001b[0m\n\u001b[1;32m    530\u001b[0m             \u001b[0mmeth\u001b[0m \u001b[0;34m=\u001b[0m \u001b[0mgetattr\u001b[0m\u001b[0;34m(\u001b[0m\u001b[0mprocessor\u001b[0m\u001b[0;34m,\u001b[0m \u001b[0mmeth_name\u001b[0m\u001b[0;34m)\u001b[0m\u001b[0;34m\u001b[0m\u001b[0;34m\u001b[0m\u001b[0m\n\u001b[0;32m--> 531\u001b[0;31m             \u001b[0mresponse\u001b[0m \u001b[0;34m=\u001b[0m \u001b[0mmeth\u001b[0m\u001b[0;34m(\u001b[0m\u001b[0mreq\u001b[0m\u001b[0;34m,\u001b[0m \u001b[0mresponse\u001b[0m\u001b[0;34m)\u001b[0m\u001b[0;34m\u001b[0m\u001b[0;34m\u001b[0m\u001b[0m\n\u001b[0m\u001b[1;32m    532\u001b[0m \u001b[0;34m\u001b[0m\u001b[0m\n\u001b[1;32m    533\u001b[0m         \u001b[0;32mreturn\u001b[0m \u001b[0mresponse\u001b[0m\u001b[0;34m\u001b[0m\u001b[0;34m\u001b[0m\u001b[0m\n",
            "\u001b[0;32m/usr/lib/python3.7/urllib/request.py\u001b[0m in \u001b[0;36mhttp_response\u001b[0;34m(self, request, response)\u001b[0m\n\u001b[1;32m    639\u001b[0m         \u001b[0;32mif\u001b[0m \u001b[0;32mnot\u001b[0m \u001b[0;34m(\u001b[0m\u001b[0;36m200\u001b[0m \u001b[0;34m<=\u001b[0m \u001b[0mcode\u001b[0m \u001b[0;34m<\u001b[0m \u001b[0;36m300\u001b[0m\u001b[0;34m)\u001b[0m\u001b[0;34m:\u001b[0m\u001b[0;34m\u001b[0m\u001b[0;34m\u001b[0m\u001b[0m\n\u001b[1;32m    640\u001b[0m             response = self.parent.error(\n\u001b[0;32m--> 641\u001b[0;31m                 'http', request, response, code, msg, hdrs)\n\u001b[0m\u001b[1;32m    642\u001b[0m \u001b[0;34m\u001b[0m\u001b[0m\n\u001b[1;32m    643\u001b[0m         \u001b[0;32mreturn\u001b[0m \u001b[0mresponse\u001b[0m\u001b[0;34m\u001b[0m\u001b[0;34m\u001b[0m\u001b[0m\n",
            "\u001b[0;32m/usr/lib/python3.7/urllib/request.py\u001b[0m in \u001b[0;36merror\u001b[0;34m(self, proto, *args)\u001b[0m\n\u001b[1;32m    567\u001b[0m         \u001b[0;32mif\u001b[0m \u001b[0mhttp_err\u001b[0m\u001b[0;34m:\u001b[0m\u001b[0;34m\u001b[0m\u001b[0;34m\u001b[0m\u001b[0m\n\u001b[1;32m    568\u001b[0m             \u001b[0margs\u001b[0m \u001b[0;34m=\u001b[0m \u001b[0;34m(\u001b[0m\u001b[0mdict\u001b[0m\u001b[0;34m,\u001b[0m \u001b[0;34m'default'\u001b[0m\u001b[0;34m,\u001b[0m \u001b[0;34m'http_error_default'\u001b[0m\u001b[0;34m)\u001b[0m \u001b[0;34m+\u001b[0m \u001b[0morig_args\u001b[0m\u001b[0;34m\u001b[0m\u001b[0;34m\u001b[0m\u001b[0m\n\u001b[0;32m--> 569\u001b[0;31m             \u001b[0;32mreturn\u001b[0m \u001b[0mself\u001b[0m\u001b[0;34m.\u001b[0m\u001b[0m_call_chain\u001b[0m\u001b[0;34m(\u001b[0m\u001b[0;34m*\u001b[0m\u001b[0margs\u001b[0m\u001b[0;34m)\u001b[0m\u001b[0;34m\u001b[0m\u001b[0;34m\u001b[0m\u001b[0m\n\u001b[0m\u001b[1;32m    570\u001b[0m \u001b[0;34m\u001b[0m\u001b[0m\n\u001b[1;32m    571\u001b[0m \u001b[0;31m# XXX probably also want an abstract factory that knows when it makes\u001b[0m\u001b[0;34m\u001b[0m\u001b[0;34m\u001b[0m\u001b[0;34m\u001b[0m\u001b[0m\n",
            "\u001b[0;32m/usr/lib/python3.7/urllib/request.py\u001b[0m in \u001b[0;36m_call_chain\u001b[0;34m(self, chain, kind, meth_name, *args)\u001b[0m\n\u001b[1;32m    501\u001b[0m         \u001b[0;32mfor\u001b[0m \u001b[0mhandler\u001b[0m \u001b[0;32min\u001b[0m \u001b[0mhandlers\u001b[0m\u001b[0;34m:\u001b[0m\u001b[0;34m\u001b[0m\u001b[0;34m\u001b[0m\u001b[0m\n\u001b[1;32m    502\u001b[0m             \u001b[0mfunc\u001b[0m \u001b[0;34m=\u001b[0m \u001b[0mgetattr\u001b[0m\u001b[0;34m(\u001b[0m\u001b[0mhandler\u001b[0m\u001b[0;34m,\u001b[0m \u001b[0mmeth_name\u001b[0m\u001b[0;34m)\u001b[0m\u001b[0;34m\u001b[0m\u001b[0;34m\u001b[0m\u001b[0m\n\u001b[0;32m--> 503\u001b[0;31m             \u001b[0mresult\u001b[0m \u001b[0;34m=\u001b[0m \u001b[0mfunc\u001b[0m\u001b[0;34m(\u001b[0m\u001b[0;34m*\u001b[0m\u001b[0margs\u001b[0m\u001b[0;34m)\u001b[0m\u001b[0;34m\u001b[0m\u001b[0;34m\u001b[0m\u001b[0m\n\u001b[0m\u001b[1;32m    504\u001b[0m             \u001b[0;32mif\u001b[0m \u001b[0mresult\u001b[0m \u001b[0;32mis\u001b[0m \u001b[0;32mnot\u001b[0m \u001b[0;32mNone\u001b[0m\u001b[0;34m:\u001b[0m\u001b[0;34m\u001b[0m\u001b[0;34m\u001b[0m\u001b[0m\n\u001b[1;32m    505\u001b[0m                 \u001b[0;32mreturn\u001b[0m \u001b[0mresult\u001b[0m\u001b[0;34m\u001b[0m\u001b[0;34m\u001b[0m\u001b[0m\n",
            "\u001b[0;32m/usr/lib/python3.7/urllib/request.py\u001b[0m in \u001b[0;36mhttp_error_default\u001b[0;34m(self, req, fp, code, msg, hdrs)\u001b[0m\n\u001b[1;32m    647\u001b[0m \u001b[0;32mclass\u001b[0m \u001b[0mHTTPDefaultErrorHandler\u001b[0m\u001b[0;34m(\u001b[0m\u001b[0mBaseHandler\u001b[0m\u001b[0;34m)\u001b[0m\u001b[0;34m:\u001b[0m\u001b[0;34m\u001b[0m\u001b[0;34m\u001b[0m\u001b[0m\n\u001b[1;32m    648\u001b[0m     \u001b[0;32mdef\u001b[0m \u001b[0mhttp_error_default\u001b[0m\u001b[0;34m(\u001b[0m\u001b[0mself\u001b[0m\u001b[0;34m,\u001b[0m \u001b[0mreq\u001b[0m\u001b[0;34m,\u001b[0m \u001b[0mfp\u001b[0m\u001b[0;34m,\u001b[0m \u001b[0mcode\u001b[0m\u001b[0;34m,\u001b[0m \u001b[0mmsg\u001b[0m\u001b[0;34m,\u001b[0m \u001b[0mhdrs\u001b[0m\u001b[0;34m)\u001b[0m\u001b[0;34m:\u001b[0m\u001b[0;34m\u001b[0m\u001b[0;34m\u001b[0m\u001b[0m\n\u001b[0;32m--> 649\u001b[0;31m         \u001b[0;32mraise\u001b[0m \u001b[0mHTTPError\u001b[0m\u001b[0;34m(\u001b[0m\u001b[0mreq\u001b[0m\u001b[0;34m.\u001b[0m\u001b[0mfull_url\u001b[0m\u001b[0;34m,\u001b[0m \u001b[0mcode\u001b[0m\u001b[0;34m,\u001b[0m \u001b[0mmsg\u001b[0m\u001b[0;34m,\u001b[0m \u001b[0mhdrs\u001b[0m\u001b[0;34m,\u001b[0m \u001b[0mfp\u001b[0m\u001b[0;34m)\u001b[0m\u001b[0;34m\u001b[0m\u001b[0;34m\u001b[0m\u001b[0m\n\u001b[0m\u001b[1;32m    650\u001b[0m \u001b[0;34m\u001b[0m\u001b[0m\n\u001b[1;32m    651\u001b[0m \u001b[0;32mclass\u001b[0m \u001b[0mHTTPRedirectHandler\u001b[0m\u001b[0;34m(\u001b[0m\u001b[0mBaseHandler\u001b[0m\u001b[0;34m)\u001b[0m\u001b[0;34m:\u001b[0m\u001b[0;34m\u001b[0m\u001b[0;34m\u001b[0m\u001b[0m\n",
            "\u001b[0;31mHTTPError\u001b[0m: HTTP Error 404: Not Found"
          ]
        }
      ],
      "source": [
        "bok_tweets = pd.read_csv(\n",
        "    \"https://s3.eu-west-2.amazonaws.com/uu-datamining-assets/lab1-data.tsv\", \n",
        "    encoding=\"utf-8\", sep=\"\\t\"\n",
        ")"
      ]
    },
    {
      "cell_type": "markdown",
      "metadata": {
        "lang": "en",
        "id": "A7mTgDuY2s-u"
      },
      "source": [
        "In Jupyter you can inspect variable `bok_tweets` by executing a cell with the variable name, as follows:"
      ]
    },
    {
      "cell_type": "code",
      "execution_count": 8,
      "metadata": {
        "id": "BFqEDT4c2s-v",
        "colab": {
          "base_uri": "https://localhost:8080/",
          "height": 835
        },
        "outputId": "152c9ca8-523f-4dea-97cf-7000380e6907"
      },
      "outputs": [
        {
          "output_type": "execute_result",
          "data": {
            "text/plain": [
              "                                                   text to_user_id  \\\n",
              "0     rt @amiethekid: kvaellens avsnitt av raseriet ...        NaN   \n",
              "1     maranatafoersamlingens monter paa bokmaessan v...        NaN   \n",
              "2     idrotten blev en trygg zon under en jobbig ton...        NaN   \n",
              "3     tillbakablick paa #bokmaessan #goeteborg del 1...        NaN   \n",
              "4     rt @flamman_: aha, vilken tid aer demon? hm, d...        NaN   \n",
              "...                                                 ...        ...   \n",
              "9995  rt @mxcartoons: nya tider kommenterar bokmaess...        NaN   \n",
              "9996  rt @viskot: apropaa #bokmaessan och det haer m...        NaN   \n",
              "9997  rt @charlieafnord: hej @bokmassangbg. kommer n...        NaN   \n",
              "9998  rt @mxcartoons: nya tider kommenterar bokmaess...        NaN   \n",
              "9999  rt @dolf371: tystnad aer yttrandefrihet – #bok...        NaN   \n",
              "\n",
              "            from_user                  id  from_user_id iso_language_code  \\\n",
              "0        ornellanizii  780663045701955584     701149297                sv   \n",
              "1           strrawbuz  780658066073198592     163765933                sv   \n",
              "2     birgittajekblom  780655458407383040      72873310                sv   \n",
              "3       kimmkimselius  780654308002062336      65428329                sv   \n",
              "4           annaherdy  780654122076962816     111971247                sv   \n",
              "...               ...                 ...           ...               ...   \n",
              "9995           zwepol  766966928837664768    2994150045                sv   \n",
              "9996    hannabergmans  766966926463668224     873555458                sv   \n",
              "9997     gnellriksson  766966850693566464    2233508656                sv   \n",
              "9998      hedvigkrook  766966686113071104    3065329706                sv   \n",
              "9999           zwepol  766966540155617285    2994150045                sv   \n",
              "\n",
              "                                                 source  \\\n",
              "0     <a href=\"http://twitter.com\" rel=\"nofollow\">tw...   \n",
              "1     <a href=\"http://twitter.com\" rel=\"nofollow\">tw...   \n",
              "2     <a href=\"http://twitter.com/download/iphone\" r...   \n",
              "3     <a href=\"https://about.twitter.com/products/tw...   \n",
              "4     <a href=\"https://about.twitter.com/products/tw...   \n",
              "...                                                 ...   \n",
              "9995  <a href=\"http://twitter.com/#!/download/ipad\" ...   \n",
              "9996  <a href=\"http://twitter.com/download/iphone\" r...   \n",
              "9997  <a href=\"http://twitter.com/download/android\" ...   \n",
              "9998  <a href=\"http://twitter.com\" rel=\"nofollow\">tw...   \n",
              "9999  <a href=\"http://twitter.com/#!/download/ipad\" ...   \n",
              "\n",
              "                                      profile_image_url geo_type  \\\n",
              "0      http://abs.twimg.com/images/themes/theme1/bg.png      NaN   \n",
              "1     http://pbs.twimg.com/profile_background_images...      NaN   \n",
              "2      http://abs.twimg.com/images/themes/theme1/bg.png      NaN   \n",
              "3     http://pbs.twimg.com/profile_background_images...      NaN   \n",
              "4     http://abs.twimg.com/images/themes/theme17/bg.gif      NaN   \n",
              "...                                                 ...      ...   \n",
              "9995   http://abs.twimg.com/images/themes/theme1/bg.png      NaN   \n",
              "9996   http://abs.twimg.com/images/themes/theme1/bg.png      NaN   \n",
              "9997   http://abs.twimg.com/images/themes/theme1/bg.png      NaN   \n",
              "9998   http://abs.twimg.com/images/themes/theme1/bg.png      NaN   \n",
              "9999   http://abs.twimg.com/images/themes/theme1/bg.png      NaN   \n",
              "\n",
              "      geo_coordinates_0  geo_coordinates_1                      created_at  \\\n",
              "0                   0.0                0.0  tue sep 27 06:59:08 +0000 2016   \n",
              "1                   0.0                0.0  tue sep 27 06:39:21 +0000 2016   \n",
              "2                   0.0                0.0  tue sep 27 06:28:59 +0000 2016   \n",
              "3                   0.0                0.0  tue sep 27 06:24:25 +0000 2016   \n",
              "4                   0.0                0.0  tue sep 27 06:23:41 +0000 2016   \n",
              "...                 ...                ...                             ...   \n",
              "9995                0.0                0.0  sat aug 20 11:55:40 +0000 2016   \n",
              "9996                0.0                0.0  sat aug 20 11:55:39 +0000 2016   \n",
              "9997                0.0                0.0  sat aug 20 11:55:21 +0000 2016   \n",
              "9998                0.0                0.0  sat aug 20 11:54:42 +0000 2016   \n",
              "9999                0.0                0.0  sat aug 20 11:54:07 +0000 2016   \n",
              "\n",
              "              time  \n",
              "0     1.474960e+09  \n",
              "1     1.474958e+09  \n",
              "2     1.474958e+09  \n",
              "3     1.474957e+09  \n",
              "4     1.474957e+09  \n",
              "...            ...  \n",
              "9995  1.471694e+09  \n",
              "9996  1.471694e+09  \n",
              "9997  1.471694e+09  \n",
              "9998  1.471694e+09  \n",
              "9999  1.471694e+09  \n",
              "\n",
              "[10000 rows x 13 columns]"
            ],
            "text/html": [
              "\n",
              "  <div id=\"df-c0fd4fab-a120-460f-969a-e856e8ce88d4\">\n",
              "    <div class=\"colab-df-container\">\n",
              "      <div>\n",
              "<style scoped>\n",
              "    .dataframe tbody tr th:only-of-type {\n",
              "        vertical-align: middle;\n",
              "    }\n",
              "\n",
              "    .dataframe tbody tr th {\n",
              "        vertical-align: top;\n",
              "    }\n",
              "\n",
              "    .dataframe thead th {\n",
              "        text-align: right;\n",
              "    }\n",
              "</style>\n",
              "<table border=\"1\" class=\"dataframe\">\n",
              "  <thead>\n",
              "    <tr style=\"text-align: right;\">\n",
              "      <th></th>\n",
              "      <th>text</th>\n",
              "      <th>to_user_id</th>\n",
              "      <th>from_user</th>\n",
              "      <th>id</th>\n",
              "      <th>from_user_id</th>\n",
              "      <th>iso_language_code</th>\n",
              "      <th>source</th>\n",
              "      <th>profile_image_url</th>\n",
              "      <th>geo_type</th>\n",
              "      <th>geo_coordinates_0</th>\n",
              "      <th>geo_coordinates_1</th>\n",
              "      <th>created_at</th>\n",
              "      <th>time</th>\n",
              "    </tr>\n",
              "  </thead>\n",
              "  <tbody>\n",
              "    <tr>\n",
              "      <th>0</th>\n",
              "      <td>rt @amiethekid: kvaellens avsnitt av raseriet ...</td>\n",
              "      <td>NaN</td>\n",
              "      <td>ornellanizii</td>\n",
              "      <td>780663045701955584</td>\n",
              "      <td>701149297</td>\n",
              "      <td>sv</td>\n",
              "      <td>&lt;a href=\"http://twitter.com\" rel=\"nofollow\"&gt;tw...</td>\n",
              "      <td>http://abs.twimg.com/images/themes/theme1/bg.png</td>\n",
              "      <td>NaN</td>\n",
              "      <td>0.0</td>\n",
              "      <td>0.0</td>\n",
              "      <td>tue sep 27 06:59:08 +0000 2016</td>\n",
              "      <td>1.474960e+09</td>\n",
              "    </tr>\n",
              "    <tr>\n",
              "      <th>1</th>\n",
              "      <td>maranatafoersamlingens monter paa bokmaessan v...</td>\n",
              "      <td>NaN</td>\n",
              "      <td>strrawbuz</td>\n",
              "      <td>780658066073198592</td>\n",
              "      <td>163765933</td>\n",
              "      <td>sv</td>\n",
              "      <td>&lt;a href=\"http://twitter.com\" rel=\"nofollow\"&gt;tw...</td>\n",
              "      <td>http://pbs.twimg.com/profile_background_images...</td>\n",
              "      <td>NaN</td>\n",
              "      <td>0.0</td>\n",
              "      <td>0.0</td>\n",
              "      <td>tue sep 27 06:39:21 +0000 2016</td>\n",
              "      <td>1.474958e+09</td>\n",
              "    </tr>\n",
              "    <tr>\n",
              "      <th>2</th>\n",
              "      <td>idrotten blev en trygg zon under en jobbig ton...</td>\n",
              "      <td>NaN</td>\n",
              "      <td>birgittajekblom</td>\n",
              "      <td>780655458407383040</td>\n",
              "      <td>72873310</td>\n",
              "      <td>sv</td>\n",
              "      <td>&lt;a href=\"http://twitter.com/download/iphone\" r...</td>\n",
              "      <td>http://abs.twimg.com/images/themes/theme1/bg.png</td>\n",
              "      <td>NaN</td>\n",
              "      <td>0.0</td>\n",
              "      <td>0.0</td>\n",
              "      <td>tue sep 27 06:28:59 +0000 2016</td>\n",
              "      <td>1.474958e+09</td>\n",
              "    </tr>\n",
              "    <tr>\n",
              "      <th>3</th>\n",
              "      <td>tillbakablick paa #bokmaessan #goeteborg del 1...</td>\n",
              "      <td>NaN</td>\n",
              "      <td>kimmkimselius</td>\n",
              "      <td>780654308002062336</td>\n",
              "      <td>65428329</td>\n",
              "      <td>sv</td>\n",
              "      <td>&lt;a href=\"https://about.twitter.com/products/tw...</td>\n",
              "      <td>http://pbs.twimg.com/profile_background_images...</td>\n",
              "      <td>NaN</td>\n",
              "      <td>0.0</td>\n",
              "      <td>0.0</td>\n",
              "      <td>tue sep 27 06:24:25 +0000 2016</td>\n",
              "      <td>1.474957e+09</td>\n",
              "    </tr>\n",
              "    <tr>\n",
              "      <th>4</th>\n",
              "      <td>rt @flamman_: aha, vilken tid aer demon? hm, d...</td>\n",
              "      <td>NaN</td>\n",
              "      <td>annaherdy</td>\n",
              "      <td>780654122076962816</td>\n",
              "      <td>111971247</td>\n",
              "      <td>sv</td>\n",
              "      <td>&lt;a href=\"https://about.twitter.com/products/tw...</td>\n",
              "      <td>http://abs.twimg.com/images/themes/theme17/bg.gif</td>\n",
              "      <td>NaN</td>\n",
              "      <td>0.0</td>\n",
              "      <td>0.0</td>\n",
              "      <td>tue sep 27 06:23:41 +0000 2016</td>\n",
              "      <td>1.474957e+09</td>\n",
              "    </tr>\n",
              "    <tr>\n",
              "      <th>...</th>\n",
              "      <td>...</td>\n",
              "      <td>...</td>\n",
              "      <td>...</td>\n",
              "      <td>...</td>\n",
              "      <td>...</td>\n",
              "      <td>...</td>\n",
              "      <td>...</td>\n",
              "      <td>...</td>\n",
              "      <td>...</td>\n",
              "      <td>...</td>\n",
              "      <td>...</td>\n",
              "      <td>...</td>\n",
              "      <td>...</td>\n",
              "    </tr>\n",
              "    <tr>\n",
              "      <th>9995</th>\n",
              "      <td>rt @mxcartoons: nya tider kommenterar bokmaess...</td>\n",
              "      <td>NaN</td>\n",
              "      <td>zwepol</td>\n",
              "      <td>766966928837664768</td>\n",
              "      <td>2994150045</td>\n",
              "      <td>sv</td>\n",
              "      <td>&lt;a href=\"http://twitter.com/#!/download/ipad\" ...</td>\n",
              "      <td>http://abs.twimg.com/images/themes/theme1/bg.png</td>\n",
              "      <td>NaN</td>\n",
              "      <td>0.0</td>\n",
              "      <td>0.0</td>\n",
              "      <td>sat aug 20 11:55:40 +0000 2016</td>\n",
              "      <td>1.471694e+09</td>\n",
              "    </tr>\n",
              "    <tr>\n",
              "      <th>9996</th>\n",
              "      <td>rt @viskot: apropaa #bokmaessan och det haer m...</td>\n",
              "      <td>NaN</td>\n",
              "      <td>hannabergmans</td>\n",
              "      <td>766966926463668224</td>\n",
              "      <td>873555458</td>\n",
              "      <td>sv</td>\n",
              "      <td>&lt;a href=\"http://twitter.com/download/iphone\" r...</td>\n",
              "      <td>http://abs.twimg.com/images/themes/theme1/bg.png</td>\n",
              "      <td>NaN</td>\n",
              "      <td>0.0</td>\n",
              "      <td>0.0</td>\n",
              "      <td>sat aug 20 11:55:39 +0000 2016</td>\n",
              "      <td>1.471694e+09</td>\n",
              "    </tr>\n",
              "    <tr>\n",
              "      <th>9997</th>\n",
              "      <td>rt @charlieafnord: hej @bokmassangbg. kommer n...</td>\n",
              "      <td>NaN</td>\n",
              "      <td>gnellriksson</td>\n",
              "      <td>766966850693566464</td>\n",
              "      <td>2233508656</td>\n",
              "      <td>sv</td>\n",
              "      <td>&lt;a href=\"http://twitter.com/download/android\" ...</td>\n",
              "      <td>http://abs.twimg.com/images/themes/theme1/bg.png</td>\n",
              "      <td>NaN</td>\n",
              "      <td>0.0</td>\n",
              "      <td>0.0</td>\n",
              "      <td>sat aug 20 11:55:21 +0000 2016</td>\n",
              "      <td>1.471694e+09</td>\n",
              "    </tr>\n",
              "    <tr>\n",
              "      <th>9998</th>\n",
              "      <td>rt @mxcartoons: nya tider kommenterar bokmaess...</td>\n",
              "      <td>NaN</td>\n",
              "      <td>hedvigkrook</td>\n",
              "      <td>766966686113071104</td>\n",
              "      <td>3065329706</td>\n",
              "      <td>sv</td>\n",
              "      <td>&lt;a href=\"http://twitter.com\" rel=\"nofollow\"&gt;tw...</td>\n",
              "      <td>http://abs.twimg.com/images/themes/theme1/bg.png</td>\n",
              "      <td>NaN</td>\n",
              "      <td>0.0</td>\n",
              "      <td>0.0</td>\n",
              "      <td>sat aug 20 11:54:42 +0000 2016</td>\n",
              "      <td>1.471694e+09</td>\n",
              "    </tr>\n",
              "    <tr>\n",
              "      <th>9999</th>\n",
              "      <td>rt @dolf371: tystnad aer yttrandefrihet – #bok...</td>\n",
              "      <td>NaN</td>\n",
              "      <td>zwepol</td>\n",
              "      <td>766966540155617285</td>\n",
              "      <td>2994150045</td>\n",
              "      <td>sv</td>\n",
              "      <td>&lt;a href=\"http://twitter.com/#!/download/ipad\" ...</td>\n",
              "      <td>http://abs.twimg.com/images/themes/theme1/bg.png</td>\n",
              "      <td>NaN</td>\n",
              "      <td>0.0</td>\n",
              "      <td>0.0</td>\n",
              "      <td>sat aug 20 11:54:07 +0000 2016</td>\n",
              "      <td>1.471694e+09</td>\n",
              "    </tr>\n",
              "  </tbody>\n",
              "</table>\n",
              "<p>10000 rows × 13 columns</p>\n",
              "</div>\n",
              "      <button class=\"colab-df-convert\" onclick=\"convertToInteractive('df-c0fd4fab-a120-460f-969a-e856e8ce88d4')\"\n",
              "              title=\"Convert this dataframe to an interactive table.\"\n",
              "              style=\"display:none;\">\n",
              "        \n",
              "  <svg xmlns=\"http://www.w3.org/2000/svg\" height=\"24px\"viewBox=\"0 0 24 24\"\n",
              "       width=\"24px\">\n",
              "    <path d=\"M0 0h24v24H0V0z\" fill=\"none\"/>\n",
              "    <path d=\"M18.56 5.44l.94 2.06.94-2.06 2.06-.94-2.06-.94-.94-2.06-.94 2.06-2.06.94zm-11 1L8.5 8.5l.94-2.06 2.06-.94-2.06-.94L8.5 2.5l-.94 2.06-2.06.94zm10 10l.94 2.06.94-2.06 2.06-.94-2.06-.94-.94-2.06-.94 2.06-2.06.94z\"/><path d=\"M17.41 7.96l-1.37-1.37c-.4-.4-.92-.59-1.43-.59-.52 0-1.04.2-1.43.59L10.3 9.45l-7.72 7.72c-.78.78-.78 2.05 0 2.83L4 21.41c.39.39.9.59 1.41.59.51 0 1.02-.2 1.41-.59l7.78-7.78 2.81-2.81c.8-.78.8-2.07 0-2.86zM5.41 20L4 18.59l7.72-7.72 1.47 1.35L5.41 20z\"/>\n",
              "  </svg>\n",
              "      </button>\n",
              "      \n",
              "  <style>\n",
              "    .colab-df-container {\n",
              "      display:flex;\n",
              "      flex-wrap:wrap;\n",
              "      gap: 12px;\n",
              "    }\n",
              "\n",
              "    .colab-df-convert {\n",
              "      background-color: #E8F0FE;\n",
              "      border: none;\n",
              "      border-radius: 50%;\n",
              "      cursor: pointer;\n",
              "      display: none;\n",
              "      fill: #1967D2;\n",
              "      height: 32px;\n",
              "      padding: 0 0 0 0;\n",
              "      width: 32px;\n",
              "    }\n",
              "\n",
              "    .colab-df-convert:hover {\n",
              "      background-color: #E2EBFA;\n",
              "      box-shadow: 0px 1px 2px rgba(60, 64, 67, 0.3), 0px 1px 3px 1px rgba(60, 64, 67, 0.15);\n",
              "      fill: #174EA6;\n",
              "    }\n",
              "\n",
              "    [theme=dark] .colab-df-convert {\n",
              "      background-color: #3B4455;\n",
              "      fill: #D2E3FC;\n",
              "    }\n",
              "\n",
              "    [theme=dark] .colab-df-convert:hover {\n",
              "      background-color: #434B5C;\n",
              "      box-shadow: 0px 1px 3px 1px rgba(0, 0, 0, 0.15);\n",
              "      filter: drop-shadow(0px 1px 2px rgba(0, 0, 0, 0.3));\n",
              "      fill: #FFFFFF;\n",
              "    }\n",
              "  </style>\n",
              "\n",
              "      <script>\n",
              "        const buttonEl =\n",
              "          document.querySelector('#df-c0fd4fab-a120-460f-969a-e856e8ce88d4 button.colab-df-convert');\n",
              "        buttonEl.style.display =\n",
              "          google.colab.kernel.accessAllowed ? 'block' : 'none';\n",
              "\n",
              "        async function convertToInteractive(key) {\n",
              "          const element = document.querySelector('#df-c0fd4fab-a120-460f-969a-e856e8ce88d4');\n",
              "          const dataTable =\n",
              "            await google.colab.kernel.invokeFunction('convertToInteractive',\n",
              "                                                     [key], {});\n",
              "          if (!dataTable) return;\n",
              "\n",
              "          const docLinkHtml = 'Like what you see? Visit the ' +\n",
              "            '<a target=\"_blank\" href=https://colab.research.google.com/notebooks/data_table.ipynb>data table notebook</a>'\n",
              "            + ' to learn more about interactive tables.';\n",
              "          element.innerHTML = '';\n",
              "          dataTable['output_type'] = 'display_data';\n",
              "          await google.colab.output.renderOutput(dataTable, element);\n",
              "          const docLink = document.createElement('div');\n",
              "          docLink.innerHTML = docLinkHtml;\n",
              "          element.appendChild(docLink);\n",
              "        }\n",
              "      </script>\n",
              "    </div>\n",
              "  </div>\n",
              "  "
            ]
          },
          "metadata": {},
          "execution_count": 8
        }
      ],
      "source": [
        "bok_tweets"
      ]
    },
    {
      "cell_type": "markdown",
      "metadata": {
        "lang": "en",
        "id": "Td40qHax2s-w"
      },
      "source": [
        "To inspect the column names, use the `columns` attribute.\n",
        "\n",
        "**Q2** Replace the ellipsis `...` with `bok_tweets.columns` to assign the column list to the variable named `columns` and run the cell:"
      ]
    },
    {
      "cell_type": "code",
      "execution_count": 9,
      "metadata": {
        "id": "1-7DnSPA2s-w",
        "colab": {
          "base_uri": "https://localhost:8080/"
        },
        "outputId": "59be1c69-ec62-406a-d03e-fe04be9d6e32"
      },
      "outputs": [
        {
          "output_type": "execute_result",
          "data": {
            "text/plain": [
              "Index(['text', 'to_user_id', 'from_user', 'id', 'from_user_id',\n",
              "       'iso_language_code', 'source', 'profile_image_url', 'geo_type',\n",
              "       'geo_coordinates_0', 'geo_coordinates_1', 'created_at', 'time'],\n",
              "      dtype='object')"
            ]
          },
          "metadata": {},
          "execution_count": 9
        }
      ],
      "source": [
        "columns = bok_tweets.columns\n",
        "columns"
      ]
    },
    {
      "cell_type": "markdown",
      "metadata": {
        "id": "KQi0WuDU2s-x"
      },
      "source": [
        "To view the first few rows of a dataset, use the `head()`function with `3` as a parameter to tell the function to only load the first 3 records from `bok_tweets`. You can of course replace this with other numbers (try it):"
      ]
    },
    {
      "cell_type": "code",
      "execution_count": 12,
      "metadata": {
        "id": "9KVt_jnX2s-x",
        "colab": {
          "base_uri": "https://localhost:8080/",
          "height": 378
        },
        "outputId": "08ab943e-4afa-4336-e543-a291bfd66c67"
      },
      "outputs": [
        {
          "output_type": "execute_result",
          "data": {
            "text/plain": [
              "                                                text to_user_id  \\\n",
              "0  rt @amiethekid: kvaellens avsnitt av raseriet ...        NaN   \n",
              "1  maranatafoersamlingens monter paa bokmaessan v...        NaN   \n",
              "2  idrotten blev en trygg zon under en jobbig ton...        NaN   \n",
              "3  tillbakablick paa #bokmaessan #goeteborg del 1...        NaN   \n",
              "\n",
              "         from_user                  id  from_user_id iso_language_code  \\\n",
              "0     ornellanizii  780663045701955584     701149297                sv   \n",
              "1        strrawbuz  780658066073198592     163765933                sv   \n",
              "2  birgittajekblom  780655458407383040      72873310                sv   \n",
              "3    kimmkimselius  780654308002062336      65428329                sv   \n",
              "\n",
              "                                              source  \\\n",
              "0  <a href=\"http://twitter.com\" rel=\"nofollow\">tw...   \n",
              "1  <a href=\"http://twitter.com\" rel=\"nofollow\">tw...   \n",
              "2  <a href=\"http://twitter.com/download/iphone\" r...   \n",
              "3  <a href=\"https://about.twitter.com/products/tw...   \n",
              "\n",
              "                                   profile_image_url geo_type  \\\n",
              "0   http://abs.twimg.com/images/themes/theme1/bg.png      NaN   \n",
              "1  http://pbs.twimg.com/profile_background_images...      NaN   \n",
              "2   http://abs.twimg.com/images/themes/theme1/bg.png      NaN   \n",
              "3  http://pbs.twimg.com/profile_background_images...      NaN   \n",
              "\n",
              "   geo_coordinates_0  geo_coordinates_1                      created_at  \\\n",
              "0                0.0                0.0  tue sep 27 06:59:08 +0000 2016   \n",
              "1                0.0                0.0  tue sep 27 06:39:21 +0000 2016   \n",
              "2                0.0                0.0  tue sep 27 06:28:59 +0000 2016   \n",
              "3                0.0                0.0  tue sep 27 06:24:25 +0000 2016   \n",
              "\n",
              "           time  \n",
              "0  1.474960e+09  \n",
              "1  1.474958e+09  \n",
              "2  1.474958e+09  \n",
              "3  1.474957e+09  "
            ],
            "text/html": [
              "\n",
              "  <div id=\"df-210f6916-aa40-45ff-8a0f-5bdf716717a1\">\n",
              "    <div class=\"colab-df-container\">\n",
              "      <div>\n",
              "<style scoped>\n",
              "    .dataframe tbody tr th:only-of-type {\n",
              "        vertical-align: middle;\n",
              "    }\n",
              "\n",
              "    .dataframe tbody tr th {\n",
              "        vertical-align: top;\n",
              "    }\n",
              "\n",
              "    .dataframe thead th {\n",
              "        text-align: right;\n",
              "    }\n",
              "</style>\n",
              "<table border=\"1\" class=\"dataframe\">\n",
              "  <thead>\n",
              "    <tr style=\"text-align: right;\">\n",
              "      <th></th>\n",
              "      <th>text</th>\n",
              "      <th>to_user_id</th>\n",
              "      <th>from_user</th>\n",
              "      <th>id</th>\n",
              "      <th>from_user_id</th>\n",
              "      <th>iso_language_code</th>\n",
              "      <th>source</th>\n",
              "      <th>profile_image_url</th>\n",
              "      <th>geo_type</th>\n",
              "      <th>geo_coordinates_0</th>\n",
              "      <th>geo_coordinates_1</th>\n",
              "      <th>created_at</th>\n",
              "      <th>time</th>\n",
              "    </tr>\n",
              "  </thead>\n",
              "  <tbody>\n",
              "    <tr>\n",
              "      <th>0</th>\n",
              "      <td>rt @amiethekid: kvaellens avsnitt av raseriet ...</td>\n",
              "      <td>NaN</td>\n",
              "      <td>ornellanizii</td>\n",
              "      <td>780663045701955584</td>\n",
              "      <td>701149297</td>\n",
              "      <td>sv</td>\n",
              "      <td>&lt;a href=\"http://twitter.com\" rel=\"nofollow\"&gt;tw...</td>\n",
              "      <td>http://abs.twimg.com/images/themes/theme1/bg.png</td>\n",
              "      <td>NaN</td>\n",
              "      <td>0.0</td>\n",
              "      <td>0.0</td>\n",
              "      <td>tue sep 27 06:59:08 +0000 2016</td>\n",
              "      <td>1.474960e+09</td>\n",
              "    </tr>\n",
              "    <tr>\n",
              "      <th>1</th>\n",
              "      <td>maranatafoersamlingens monter paa bokmaessan v...</td>\n",
              "      <td>NaN</td>\n",
              "      <td>strrawbuz</td>\n",
              "      <td>780658066073198592</td>\n",
              "      <td>163765933</td>\n",
              "      <td>sv</td>\n",
              "      <td>&lt;a href=\"http://twitter.com\" rel=\"nofollow\"&gt;tw...</td>\n",
              "      <td>http://pbs.twimg.com/profile_background_images...</td>\n",
              "      <td>NaN</td>\n",
              "      <td>0.0</td>\n",
              "      <td>0.0</td>\n",
              "      <td>tue sep 27 06:39:21 +0000 2016</td>\n",
              "      <td>1.474958e+09</td>\n",
              "    </tr>\n",
              "    <tr>\n",
              "      <th>2</th>\n",
              "      <td>idrotten blev en trygg zon under en jobbig ton...</td>\n",
              "      <td>NaN</td>\n",
              "      <td>birgittajekblom</td>\n",
              "      <td>780655458407383040</td>\n",
              "      <td>72873310</td>\n",
              "      <td>sv</td>\n",
              "      <td>&lt;a href=\"http://twitter.com/download/iphone\" r...</td>\n",
              "      <td>http://abs.twimg.com/images/themes/theme1/bg.png</td>\n",
              "      <td>NaN</td>\n",
              "      <td>0.0</td>\n",
              "      <td>0.0</td>\n",
              "      <td>tue sep 27 06:28:59 +0000 2016</td>\n",
              "      <td>1.474958e+09</td>\n",
              "    </tr>\n",
              "    <tr>\n",
              "      <th>3</th>\n",
              "      <td>tillbakablick paa #bokmaessan #goeteborg del 1...</td>\n",
              "      <td>NaN</td>\n",
              "      <td>kimmkimselius</td>\n",
              "      <td>780654308002062336</td>\n",
              "      <td>65428329</td>\n",
              "      <td>sv</td>\n",
              "      <td>&lt;a href=\"https://about.twitter.com/products/tw...</td>\n",
              "      <td>http://pbs.twimg.com/profile_background_images...</td>\n",
              "      <td>NaN</td>\n",
              "      <td>0.0</td>\n",
              "      <td>0.0</td>\n",
              "      <td>tue sep 27 06:24:25 +0000 2016</td>\n",
              "      <td>1.474957e+09</td>\n",
              "    </tr>\n",
              "  </tbody>\n",
              "</table>\n",
              "</div>\n",
              "      <button class=\"colab-df-convert\" onclick=\"convertToInteractive('df-210f6916-aa40-45ff-8a0f-5bdf716717a1')\"\n",
              "              title=\"Convert this dataframe to an interactive table.\"\n",
              "              style=\"display:none;\">\n",
              "        \n",
              "  <svg xmlns=\"http://www.w3.org/2000/svg\" height=\"24px\"viewBox=\"0 0 24 24\"\n",
              "       width=\"24px\">\n",
              "    <path d=\"M0 0h24v24H0V0z\" fill=\"none\"/>\n",
              "    <path d=\"M18.56 5.44l.94 2.06.94-2.06 2.06-.94-2.06-.94-.94-2.06-.94 2.06-2.06.94zm-11 1L8.5 8.5l.94-2.06 2.06-.94-2.06-.94L8.5 2.5l-.94 2.06-2.06.94zm10 10l.94 2.06.94-2.06 2.06-.94-2.06-.94-.94-2.06-.94 2.06-2.06.94z\"/><path d=\"M17.41 7.96l-1.37-1.37c-.4-.4-.92-.59-1.43-.59-.52 0-1.04.2-1.43.59L10.3 9.45l-7.72 7.72c-.78.78-.78 2.05 0 2.83L4 21.41c.39.39.9.59 1.41.59.51 0 1.02-.2 1.41-.59l7.78-7.78 2.81-2.81c.8-.78.8-2.07 0-2.86zM5.41 20L4 18.59l7.72-7.72 1.47 1.35L5.41 20z\"/>\n",
              "  </svg>\n",
              "      </button>\n",
              "      \n",
              "  <style>\n",
              "    .colab-df-container {\n",
              "      display:flex;\n",
              "      flex-wrap:wrap;\n",
              "      gap: 12px;\n",
              "    }\n",
              "\n",
              "    .colab-df-convert {\n",
              "      background-color: #E8F0FE;\n",
              "      border: none;\n",
              "      border-radius: 50%;\n",
              "      cursor: pointer;\n",
              "      display: none;\n",
              "      fill: #1967D2;\n",
              "      height: 32px;\n",
              "      padding: 0 0 0 0;\n",
              "      width: 32px;\n",
              "    }\n",
              "\n",
              "    .colab-df-convert:hover {\n",
              "      background-color: #E2EBFA;\n",
              "      box-shadow: 0px 1px 2px rgba(60, 64, 67, 0.3), 0px 1px 3px 1px rgba(60, 64, 67, 0.15);\n",
              "      fill: #174EA6;\n",
              "    }\n",
              "\n",
              "    [theme=dark] .colab-df-convert {\n",
              "      background-color: #3B4455;\n",
              "      fill: #D2E3FC;\n",
              "    }\n",
              "\n",
              "    [theme=dark] .colab-df-convert:hover {\n",
              "      background-color: #434B5C;\n",
              "      box-shadow: 0px 1px 3px 1px rgba(0, 0, 0, 0.15);\n",
              "      filter: drop-shadow(0px 1px 2px rgba(0, 0, 0, 0.3));\n",
              "      fill: #FFFFFF;\n",
              "    }\n",
              "  </style>\n",
              "\n",
              "      <script>\n",
              "        const buttonEl =\n",
              "          document.querySelector('#df-210f6916-aa40-45ff-8a0f-5bdf716717a1 button.colab-df-convert');\n",
              "        buttonEl.style.display =\n",
              "          google.colab.kernel.accessAllowed ? 'block' : 'none';\n",
              "\n",
              "        async function convertToInteractive(key) {\n",
              "          const element = document.querySelector('#df-210f6916-aa40-45ff-8a0f-5bdf716717a1');\n",
              "          const dataTable =\n",
              "            await google.colab.kernel.invokeFunction('convertToInteractive',\n",
              "                                                     [key], {});\n",
              "          if (!dataTable) return;\n",
              "\n",
              "          const docLinkHtml = 'Like what you see? Visit the ' +\n",
              "            '<a target=\"_blank\" href=https://colab.research.google.com/notebooks/data_table.ipynb>data table notebook</a>'\n",
              "            + ' to learn more about interactive tables.';\n",
              "          element.innerHTML = '';\n",
              "          dataTable['output_type'] = 'display_data';\n",
              "          await google.colab.output.renderOutput(dataTable, element);\n",
              "          const docLink = document.createElement('div');\n",
              "          docLink.innerHTML = docLinkHtml;\n",
              "          element.appendChild(docLink);\n",
              "        }\n",
              "      </script>\n",
              "    </div>\n",
              "  </div>\n",
              "  "
            ]
          },
          "metadata": {},
          "execution_count": 12
        }
      ],
      "source": [
        "bok_tweets.head(4)"
      ]
    },
    {
      "cell_type": "markdown",
      "metadata": {
        "lang": "en",
        "id": "xLBI6hCO2s-x"
      },
      "source": [
        "To get some summary statistics on the dataset, use the `describe()` function:"
      ]
    },
    {
      "cell_type": "code",
      "execution_count": 13,
      "metadata": {
        "id": "kE40GI-J2s-y",
        "colab": {
          "base_uri": "https://localhost:8080/",
          "height": 300
        },
        "outputId": "ba8e8c76-aa1d-412b-e2b2-d88dfd8b73e9"
      },
      "outputs": [
        {
          "output_type": "execute_result",
          "data": {
            "text/plain": [
              "                 id  from_user_id  geo_coordinates_0  geo_coordinates_1  \\\n",
              "count  1.000000e+04  1.000000e+04        9996.000000        9996.000000   \n",
              "mean   7.771100e+17  2.705030e+16           0.664916           0.140839   \n",
              "std    1.602894e+16  1.394526e+17           6.163928           1.311286   \n",
              "min    0.000000e+00  0.000000e+00           0.000000           0.000000   \n",
              "25%    7.781674e+17  9.590491e+07           0.000000           0.000000   \n",
              "50%    7.789823e+17  3.919799e+08           0.000000           0.000000   \n",
              "75%    7.795877e+17  1.896645e+09           0.000000           0.000000   \n",
              "max    7.806630e+17  7.796813e+17          62.416700          18.055360   \n",
              "\n",
              "               time  \n",
              "count  9.996000e+03  \n",
              "mean   1.474187e+09  \n",
              "std    9.311175e+05  \n",
              "min    1.471694e+09  \n",
              "25%    1.474365e+09  \n",
              "50%    1.474559e+09  \n",
              "75%    1.474703e+09  \n",
              "max    1.474960e+09  "
            ],
            "text/html": [
              "\n",
              "  <div id=\"df-cd4944bc-1783-4ba2-bf70-83363e3f9000\">\n",
              "    <div class=\"colab-df-container\">\n",
              "      <div>\n",
              "<style scoped>\n",
              "    .dataframe tbody tr th:only-of-type {\n",
              "        vertical-align: middle;\n",
              "    }\n",
              "\n",
              "    .dataframe tbody tr th {\n",
              "        vertical-align: top;\n",
              "    }\n",
              "\n",
              "    .dataframe thead th {\n",
              "        text-align: right;\n",
              "    }\n",
              "</style>\n",
              "<table border=\"1\" class=\"dataframe\">\n",
              "  <thead>\n",
              "    <tr style=\"text-align: right;\">\n",
              "      <th></th>\n",
              "      <th>id</th>\n",
              "      <th>from_user_id</th>\n",
              "      <th>geo_coordinates_0</th>\n",
              "      <th>geo_coordinates_1</th>\n",
              "      <th>time</th>\n",
              "    </tr>\n",
              "  </thead>\n",
              "  <tbody>\n",
              "    <tr>\n",
              "      <th>count</th>\n",
              "      <td>1.000000e+04</td>\n",
              "      <td>1.000000e+04</td>\n",
              "      <td>9996.000000</td>\n",
              "      <td>9996.000000</td>\n",
              "      <td>9.996000e+03</td>\n",
              "    </tr>\n",
              "    <tr>\n",
              "      <th>mean</th>\n",
              "      <td>7.771100e+17</td>\n",
              "      <td>2.705030e+16</td>\n",
              "      <td>0.664916</td>\n",
              "      <td>0.140839</td>\n",
              "      <td>1.474187e+09</td>\n",
              "    </tr>\n",
              "    <tr>\n",
              "      <th>std</th>\n",
              "      <td>1.602894e+16</td>\n",
              "      <td>1.394526e+17</td>\n",
              "      <td>6.163928</td>\n",
              "      <td>1.311286</td>\n",
              "      <td>9.311175e+05</td>\n",
              "    </tr>\n",
              "    <tr>\n",
              "      <th>min</th>\n",
              "      <td>0.000000e+00</td>\n",
              "      <td>0.000000e+00</td>\n",
              "      <td>0.000000</td>\n",
              "      <td>0.000000</td>\n",
              "      <td>1.471694e+09</td>\n",
              "    </tr>\n",
              "    <tr>\n",
              "      <th>25%</th>\n",
              "      <td>7.781674e+17</td>\n",
              "      <td>9.590491e+07</td>\n",
              "      <td>0.000000</td>\n",
              "      <td>0.000000</td>\n",
              "      <td>1.474365e+09</td>\n",
              "    </tr>\n",
              "    <tr>\n",
              "      <th>50%</th>\n",
              "      <td>7.789823e+17</td>\n",
              "      <td>3.919799e+08</td>\n",
              "      <td>0.000000</td>\n",
              "      <td>0.000000</td>\n",
              "      <td>1.474559e+09</td>\n",
              "    </tr>\n",
              "    <tr>\n",
              "      <th>75%</th>\n",
              "      <td>7.795877e+17</td>\n",
              "      <td>1.896645e+09</td>\n",
              "      <td>0.000000</td>\n",
              "      <td>0.000000</td>\n",
              "      <td>1.474703e+09</td>\n",
              "    </tr>\n",
              "    <tr>\n",
              "      <th>max</th>\n",
              "      <td>7.806630e+17</td>\n",
              "      <td>7.796813e+17</td>\n",
              "      <td>62.416700</td>\n",
              "      <td>18.055360</td>\n",
              "      <td>1.474960e+09</td>\n",
              "    </tr>\n",
              "  </tbody>\n",
              "</table>\n",
              "</div>\n",
              "      <button class=\"colab-df-convert\" onclick=\"convertToInteractive('df-cd4944bc-1783-4ba2-bf70-83363e3f9000')\"\n",
              "              title=\"Convert this dataframe to an interactive table.\"\n",
              "              style=\"display:none;\">\n",
              "        \n",
              "  <svg xmlns=\"http://www.w3.org/2000/svg\" height=\"24px\"viewBox=\"0 0 24 24\"\n",
              "       width=\"24px\">\n",
              "    <path d=\"M0 0h24v24H0V0z\" fill=\"none\"/>\n",
              "    <path d=\"M18.56 5.44l.94 2.06.94-2.06 2.06-.94-2.06-.94-.94-2.06-.94 2.06-2.06.94zm-11 1L8.5 8.5l.94-2.06 2.06-.94-2.06-.94L8.5 2.5l-.94 2.06-2.06.94zm10 10l.94 2.06.94-2.06 2.06-.94-2.06-.94-.94-2.06-.94 2.06-2.06.94z\"/><path d=\"M17.41 7.96l-1.37-1.37c-.4-.4-.92-.59-1.43-.59-.52 0-1.04.2-1.43.59L10.3 9.45l-7.72 7.72c-.78.78-.78 2.05 0 2.83L4 21.41c.39.39.9.59 1.41.59.51 0 1.02-.2 1.41-.59l7.78-7.78 2.81-2.81c.8-.78.8-2.07 0-2.86zM5.41 20L4 18.59l7.72-7.72 1.47 1.35L5.41 20z\"/>\n",
              "  </svg>\n",
              "      </button>\n",
              "      \n",
              "  <style>\n",
              "    .colab-df-container {\n",
              "      display:flex;\n",
              "      flex-wrap:wrap;\n",
              "      gap: 12px;\n",
              "    }\n",
              "\n",
              "    .colab-df-convert {\n",
              "      background-color: #E8F0FE;\n",
              "      border: none;\n",
              "      border-radius: 50%;\n",
              "      cursor: pointer;\n",
              "      display: none;\n",
              "      fill: #1967D2;\n",
              "      height: 32px;\n",
              "      padding: 0 0 0 0;\n",
              "      width: 32px;\n",
              "    }\n",
              "\n",
              "    .colab-df-convert:hover {\n",
              "      background-color: #E2EBFA;\n",
              "      box-shadow: 0px 1px 2px rgba(60, 64, 67, 0.3), 0px 1px 3px 1px rgba(60, 64, 67, 0.15);\n",
              "      fill: #174EA6;\n",
              "    }\n",
              "\n",
              "    [theme=dark] .colab-df-convert {\n",
              "      background-color: #3B4455;\n",
              "      fill: #D2E3FC;\n",
              "    }\n",
              "\n",
              "    [theme=dark] .colab-df-convert:hover {\n",
              "      background-color: #434B5C;\n",
              "      box-shadow: 0px 1px 3px 1px rgba(0, 0, 0, 0.15);\n",
              "      filter: drop-shadow(0px 1px 2px rgba(0, 0, 0, 0.3));\n",
              "      fill: #FFFFFF;\n",
              "    }\n",
              "  </style>\n",
              "\n",
              "      <script>\n",
              "        const buttonEl =\n",
              "          document.querySelector('#df-cd4944bc-1783-4ba2-bf70-83363e3f9000 button.colab-df-convert');\n",
              "        buttonEl.style.display =\n",
              "          google.colab.kernel.accessAllowed ? 'block' : 'none';\n",
              "\n",
              "        async function convertToInteractive(key) {\n",
              "          const element = document.querySelector('#df-cd4944bc-1783-4ba2-bf70-83363e3f9000');\n",
              "          const dataTable =\n",
              "            await google.colab.kernel.invokeFunction('convertToInteractive',\n",
              "                                                     [key], {});\n",
              "          if (!dataTable) return;\n",
              "\n",
              "          const docLinkHtml = 'Like what you see? Visit the ' +\n",
              "            '<a target=\"_blank\" href=https://colab.research.google.com/notebooks/data_table.ipynb>data table notebook</a>'\n",
              "            + ' to learn more about interactive tables.';\n",
              "          element.innerHTML = '';\n",
              "          dataTable['output_type'] = 'display_data';\n",
              "          await google.colab.output.renderOutput(dataTable, element);\n",
              "          const docLink = document.createElement('div');\n",
              "          docLink.innerHTML = docLinkHtml;\n",
              "          element.appendChild(docLink);\n",
              "        }\n",
              "      </script>\n",
              "    </div>\n",
              "  </div>\n",
              "  "
            ]
          },
          "metadata": {},
          "execution_count": 13
        }
      ],
      "source": [
        "bok_tweets.describe()"
      ]
    },
    {
      "cell_type": "markdown",
      "metadata": {
        "id": "E3wl1yBX2s-z"
      },
      "source": [
        "To get the shape of the dataset (length and width), use the `shape` attribute:"
      ]
    },
    {
      "cell_type": "code",
      "execution_count": 14,
      "metadata": {
        "id": "fggS4WQm2s-z",
        "colab": {
          "base_uri": "https://localhost:8080/"
        },
        "outputId": "7ba710f8-30f2-436d-e7d1-0cb1e6da21ca"
      },
      "outputs": [
        {
          "output_type": "execute_result",
          "data": {
            "text/plain": [
              "(10000, 13)"
            ]
          },
          "metadata": {},
          "execution_count": 14
        }
      ],
      "source": [
        "bok_tweets.shape"
      ]
    },
    {
      "cell_type": "markdown",
      "metadata": {
        "id": "9HtY4XLE2s-z"
      },
      "source": [
        "**Q3.** How many rows and columns are in the dataset? Provide your answer by replacing the ellipses `...` in the next cell with your answers."
      ]
    },
    {
      "cell_type": "code",
      "execution_count": 16,
      "metadata": {
        "id": "KE_M4N8I2s-z",
        "colab": {
          "base_uri": "https://localhost:8080/"
        },
        "outputId": "ac93a601-264b-4021-8aee-f2a2126ceaaa"
      },
      "outputs": [
        {
          "output_type": "stream",
          "name": "stdout",
          "text": [
            "Number of rows: 10000\n",
            "Number of columns: 13\n"
          ]
        }
      ],
      "source": [
        "number_of_rows = bok_tweets.shape[0]\n",
        "number_of_columns = bok_tweets.shape[1]\n",
        "\n",
        "print(f\"Number of rows: {number_of_rows}\")\n",
        "print(f\"Number of columns: {number_of_columns}\")"
      ]
    },
    {
      "cell_type": "markdown",
      "metadata": {
        "id": "XUAnIVF42s-z"
      },
      "source": [
        "To get general information about the data set, such as how many values are not empty, use the `info()` function:"
      ]
    },
    {
      "cell_type": "code",
      "execution_count": 17,
      "metadata": {
        "id": "BxVzddfQ2s-z",
        "colab": {
          "base_uri": "https://localhost:8080/"
        },
        "outputId": "33719f84-0d25-4785-c813-c5ec22864804"
      },
      "outputs": [
        {
          "output_type": "stream",
          "name": "stdout",
          "text": [
            "<class 'pandas.core.frame.DataFrame'>\n",
            "RangeIndex: 10000 entries, 0 to 9999\n",
            "Data columns (total 13 columns):\n",
            " #   Column             Non-Null Count  Dtype  \n",
            "---  ------             --------------  -----  \n",
            " 0   text               10000 non-null  object \n",
            " 1   to_user_id         428 non-null    object \n",
            " 2   from_user          9996 non-null   object \n",
            " 3   id                 10000 non-null  int64  \n",
            " 4   from_user_id       10000 non-null  int64  \n",
            " 5   iso_language_code  10000 non-null  object \n",
            " 6   source             10000 non-null  object \n",
            " 7   profile_image_url  9589 non-null   object \n",
            " 8   geo_type           115 non-null    object \n",
            " 9   geo_coordinates_0  9996 non-null   float64\n",
            " 10  geo_coordinates_1  9996 non-null   float64\n",
            " 11  created_at         9996 non-null   object \n",
            " 12  time               9996 non-null   float64\n",
            "dtypes: float64(3), int64(2), object(8)\n",
            "memory usage: 1015.8+ KB\n"
          ]
        }
      ],
      "source": [
        "bok_tweets.info()"
      ]
    },
    {
      "cell_type": "markdown",
      "metadata": {
        "id": "DCl-iR8E2s-0"
      },
      "source": [
        "**Q4.** How many tweets the dataset are mentions to another user (i.e. an `@`, or a mention, is when you include somebody's `@twittername` in the tweet? \n",
        "\n",
        "*Hint: The count of non-null objects in `info()` imply that of values present in a particular column.*"
      ]
    },
    {
      "cell_type": "code",
      "execution_count": 20,
      "metadata": {
        "id": "oZbPsRip2s-0",
        "colab": {
          "base_uri": "https://localhost:8080/"
        },
        "outputId": "e74c0f54-6331-4fe7-c1fc-bf57252e4e64"
      },
      "outputs": [
        {
          "output_type": "stream",
          "name": "stdout",
          "text": [
            "Number of @-tweets: 428\n"
          ]
        }
      ],
      "source": [
        "number_of_mentions = bok_tweets[\"to_user_id\"].notnull().sum().sum()\n",
        "number_of_mentions\n",
        "print(f\"Number of @-tweets: {number_of_mentions}\")"
      ]
    },
    {
      "cell_type": "markdown",
      "metadata": {
        "lang": "en",
        "id": "rAJPp6V72s-0"
      },
      "source": [
        "**Q5.** Inspect the columns and contents of data. What part of data may be of interest for your analysis?"
      ]
    },
    {
      "cell_type": "markdown",
      "metadata": {
        "id": "-zBAyQdQ2s-1"
      },
      "source": [
        "The text column is especially interesting since we want to analyze patterns from the tweet contents. We want to find if there is any theme or book that have received more attention in the tweets in particular."
      ]
    },
    {
      "cell_type": "markdown",
      "metadata": {
        "lang": "en",
        "id": "aNIuuXta2s-1"
      },
      "source": [
        "A collection of documents containing text is usually called a corpus. We can create a corpus by extracting just the `text` column of `bok_tweets`. Pandas let's us do this by simply indexing the column using the dot accessor to the column name.\n",
        "\n",
        "Run the next cell to extract the text from the data and create the corpus that you will work with:"
      ]
    },
    {
      "cell_type": "code",
      "execution_count": 21,
      "metadata": {
        "id": "z2sT48nC2s-1",
        "colab": {
          "base_uri": "https://localhost:8080/"
        },
        "outputId": "fd38d84e-50ed-48b7-97c6-7b8453c33a64"
      },
      "outputs": [
        {
          "output_type": "execute_result",
          "data": {
            "text/plain": [
              "0       rt @amiethekid: kvaellens avsnitt av raseriet ...\n",
              "1       maranatafoersamlingens monter paa bokmaessan v...\n",
              "2       idrotten blev en trygg zon under en jobbig ton...\n",
              "3       tillbakablick paa #bokmaessan #goeteborg del 1...\n",
              "4       rt @flamman_: aha, vilken tid aer demon? hm, d...\n",
              "                              ...                        \n",
              "9995    rt @mxcartoons: nya tider kommenterar bokmaess...\n",
              "9996    rt @viskot: apropaa #bokmaessan och det haer m...\n",
              "9997    rt @charlieafnord: hej @bokmassangbg. kommer n...\n",
              "9998    rt @mxcartoons: nya tider kommenterar bokmaess...\n",
              "9999    rt @dolf371: tystnad aer yttrandefrihet – #bok...\n",
              "Name: text, Length: 10000, dtype: object"
            ]
          },
          "metadata": {},
          "execution_count": 21
        }
      ],
      "source": [
        "tweets_corpus = bok_tweets.text\n",
        "tweets_corpus"
      ]
    },
    {
      "cell_type": "markdown",
      "metadata": {
        "lang": "en",
        "id": "1bAKlxAe2s-1"
      },
      "source": [
        "### Emojis\n",
        "\n",
        "On Twitter it is common to use emojis 👍 ✨ 🐫 🎉 🚀 🤘.\n",
        "\n",
        "When doing text analysis this can be useful because an emoji can contain a lot of information about what a person who wrote something means and what tone the text has. However, emojis may be problematic during analyses since coding of these is not necessarily compatible with the processing modules like NLTK.\n",
        "\n",
        "Unfortunately, emojis creates problems for the features we use in this lab 😭 and you will therefore need to filter out emojis from the raw data.\n",
        "\n",
        "Run the following cell that removes emojis from the `tweets` corpus:"
      ]
    },
    {
      "cell_type": "code",
      "execution_count": 22,
      "metadata": {
        "scrolled": true,
        "id": "7c6W_Z762s-2",
        "colab": {
          "base_uri": "https://localhost:8080/"
        },
        "outputId": "075c9716-ff12-427e-f91c-8a4ad5f84eac"
      },
      "outputs": [
        {
          "output_type": "execute_result",
          "data": {
            "text/plain": [
              "0       rt @amiethekid: kvaellens avsnitt av raseriet ...\n",
              "1       maranatafoersamlingens monter paa bokmaessan v...\n",
              "2       idrotten blev en trygg zon under en jobbig ton...\n",
              "3       tillbakablick paa #bokmaessan #goeteborg del 1...\n",
              "4       rt @flamman_: aha, vilken tid aer demon? hm, d...\n",
              "                              ...                        \n",
              "9995    rt @mxcartoons: nya tider kommenterar bokmaess...\n",
              "9996    rt @viskot: apropaa #bokmaessan och det haer m...\n",
              "9997    rt @charlieafnord: hej @bokmassangbg. kommer n...\n",
              "9998    rt @mxcartoons: nya tider kommenterar bokmaess...\n",
              "9999    rt @dolf371: tystnad aer yttrandefrihet  #bokm...\n",
              "Name: text, Length: 10000, dtype: object"
            ]
          },
          "metadata": {},
          "execution_count": 22
        }
      ],
      "source": [
        "encode2ascii = lambda x: x.encode('ascii', errors='ignore').decode('utf-8')\n",
        "clean_tweets = tweets_corpus.apply(encode2ascii)\n",
        "clean_tweets"
      ]
    },
    {
      "cell_type": "markdown",
      "metadata": {
        "lang": "en",
        "id": "V3VwWWxF2s-2"
      },
      "source": [
        "**Q6.** How might removing emojis effect the quality of analysis? Explain your answer."
      ]
    },
    {
      "cell_type": "markdown",
      "metadata": {
        "id": "hmjuM8gk2s-2"
      },
      "source": [
        "Emojis are often used to express sentiments and oftentimes replace words that coul've been used instead. When we remove the emojis we remove those directed feelings. You may also loose the ability to differentiate if a message is meant as a joke or not. Aside from this, the analysis will benefit from removing the emojis since they can also be difficult to interpret."
      ]
    },
    {
      "cell_type": "markdown",
      "metadata": {
        "lang": "en",
        "id": "Oh198Fwr2s-3"
      },
      "source": [
        "### Remove URLs\n",
        "On Twitter, it is common to link to locations on the Web using URLs. It is often the case that commonly occuring parts of URLs will end up among the most frequent words. It is therefore important to filter them out.\n",
        "\n",
        "We can remove content that matches URL patterns with the following command:"
      ]
    },
    {
      "cell_type": "code",
      "execution_count": 23,
      "metadata": {
        "id": "5ODNbWhC2s-3",
        "colab": {
          "base_uri": "https://localhost:8080/"
        },
        "outputId": "08a61c35-dfad-475d-e181-45a396499237"
      },
      "outputs": [
        {
          "output_type": "stream",
          "name": "stderr",
          "text": [
            "/usr/local/lib/python3.7/dist-packages/ipykernel_launcher.py:1: FutureWarning: The default value of regex will change from True to False in a future version.\n",
            "  \"\"\"Entry point for launching an IPython kernel.\n"
          ]
        },
        {
          "output_type": "execute_result",
          "data": {
            "text/plain": [
              "0       rt @amiethekid: kvaellens avsnitt av raseriet ...\n",
              "1       maranatafoersamlingens monter paa bokmaessan v...\n",
              "2       idrotten blev en trygg zon under en jobbig ton...\n",
              "3        tillbakablick paa #bokmaessan #goeteborg del 1  \n",
              "4       rt @flamman_: aha, vilken tid aer demon? hm, d...\n",
              "                              ...                        \n",
              "9995    rt @mxcartoons: nya tider kommenterar bokmaess...\n",
              "9996    rt @viskot: apropaa #bokmaessan och det haer m...\n",
              "9997    rt @charlieafnord: hej @bokmassangbg. kommer n...\n",
              "9998    rt @mxcartoons: nya tider kommenterar bokmaess...\n",
              "9999    rt @dolf371: tystnad aer yttrandefrihet  #bokm...\n",
              "Name: text, Length: 10000, dtype: object"
            ]
          },
          "metadata": {},
          "execution_count": 23
        }
      ],
      "source": [
        "clean_tweets = clean_tweets.str.replace(r'http\\S+', '')\n",
        "clean_tweets"
      ]
    },
    {
      "cell_type": "markdown",
      "metadata": {
        "id": "xr8H0uq12s-3"
      },
      "source": [
        "**Q7** How might removing URLs effect the quality of analysis? Explain your answer."
      ]
    },
    {
      "cell_type": "markdown",
      "metadata": {
        "id": "IvpxKwSU2s-3"
      },
      "source": [
        "Removing the links will affect the analysis in a good way since links won't help in the overall results. For example, positive or negative words can be contained in the links that don't actually adhere to the review sentiment."
      ]
    },
    {
      "cell_type": "markdown",
      "metadata": {
        "lang": "en",
        "id": "fbY02sLm2s-4"
      },
      "source": [
        "### Function for most frequent words\n",
        "\n",
        "We will look for the most frequent words several times during this lab after each pre-processing step in order to compare the affect of the pre-processing. We will do the same operations several times, so therefore we will create a couple of functions to help us with our analysis.\n",
        "\n",
        "#### What is a Term Document Matrix?\n",
        "\n",
        "First, we create a term-document matrix (TDM), which can also referred to as a document-term matrix (DTM). A TDM gives us a table of the number of instances of a word for each document in a corpus. You should start by creating a TDM that is a representation of each tweet in terms of a feature vector. The feature vector creates an element for each word (unless excluded in the pre-processing, see further below). Thus, each element in the feature vector represents a word contained in one of the tweets. In the TDM you create, each line corresponds to the text of a tweet where all words that are not filtered out of the tweet are saved in the corresponding elements in the feature vector.\n",
        "\n",
        "Our function `create_term_document_matrix()` to create a TDM is as follows:"
      ]
    },
    {
      "cell_type": "code",
      "execution_count": 25,
      "metadata": {
        "id": "6OTo8gnJ2s-4"
      },
      "outputs": [],
      "source": [
        "def create_term_document_matrix(corpus, min_df=1):\n",
        "    cvec = CountVectorizer(min_df=min_df, stop_words=tm.stopwords)\n",
        "    tfmatrix = cvec.fit_transform(corpus)\n",
        "    return pd.DataFrame(data=tfmatrix.toarray(), columns=cvec.get_feature_names())"
      ]
    },
    {
      "cell_type": "markdown",
      "metadata": {
        "id": "3ZEkQruT2s-4"
      },
      "source": [
        "For example, we can create a TDM for only the first three documents in our tweets corpus by using the `.head(3)` function on the `tweets_corpus`, similar to what we did at the beginning with `bok_tweets`.\n",
        "\n",
        "Replace the ellipsis with in the next cell with the documents we wish to pass to the `create_term_document_matrix()` function:"
      ]
    },
    {
      "cell_type": "code",
      "execution_count": 26,
      "metadata": {
        "id": "kBVp8SlT2s-5",
        "colab": {
          "base_uri": "https://localhost:8080/",
          "height": 227
        },
        "outputId": "dc20ff1a-c885-407f-d7b0-c4d1a4601ac1"
      },
      "outputs": [
        {
          "output_type": "stream",
          "name": "stderr",
          "text": [
            "/usr/local/lib/python3.7/dist-packages/sklearn/utils/deprecation.py:87: FutureWarning: Function get_feature_names is deprecated; get_feature_names is deprecated in 1.0 and will be removed in 1.2. Please use get_feature_names_out instead.\n",
            "  warnings.warn(msg, category=FutureWarning)\n"
          ]
        },
        {
          "output_type": "execute_result",
          "data": {
            "text/plain": [
              "   00  000  01  02  03  031  04  05  06  07  ...  zedendahl  zetterlund  \\\n",
              "0   0    0   0   0   0    0   0   0   0   0  ...          0           0   \n",
              "1   0    0   0   0   0    0   0   0   0   0  ...          0           0   \n",
              "2   0    0   0   0   0    0   0   0   0   0  ...          0           0   \n",
              "\n",
              "   ziggy  zlatan  zoecormier  zombieseminariet  zon  zoo  zpiff75  zweigbergk  \n",
              "0      0       0           0                 0    0    0        0           0  \n",
              "1      0       0           0                 0    0    0        0           0  \n",
              "2      0       0           0                 0    1    0        0           0  \n",
              "\n",
              "[3 rows x 13257 columns]"
            ],
            "text/html": [
              "\n",
              "  <div id=\"df-c76a2452-810f-42c0-af9a-656b8a999b04\">\n",
              "    <div class=\"colab-df-container\">\n",
              "      <div>\n",
              "<style scoped>\n",
              "    .dataframe tbody tr th:only-of-type {\n",
              "        vertical-align: middle;\n",
              "    }\n",
              "\n",
              "    .dataframe tbody tr th {\n",
              "        vertical-align: top;\n",
              "    }\n",
              "\n",
              "    .dataframe thead th {\n",
              "        text-align: right;\n",
              "    }\n",
              "</style>\n",
              "<table border=\"1\" class=\"dataframe\">\n",
              "  <thead>\n",
              "    <tr style=\"text-align: right;\">\n",
              "      <th></th>\n",
              "      <th>00</th>\n",
              "      <th>000</th>\n",
              "      <th>01</th>\n",
              "      <th>02</th>\n",
              "      <th>03</th>\n",
              "      <th>031</th>\n",
              "      <th>04</th>\n",
              "      <th>05</th>\n",
              "      <th>06</th>\n",
              "      <th>07</th>\n",
              "      <th>...</th>\n",
              "      <th>zedendahl</th>\n",
              "      <th>zetterlund</th>\n",
              "      <th>ziggy</th>\n",
              "      <th>zlatan</th>\n",
              "      <th>zoecormier</th>\n",
              "      <th>zombieseminariet</th>\n",
              "      <th>zon</th>\n",
              "      <th>zoo</th>\n",
              "      <th>zpiff75</th>\n",
              "      <th>zweigbergk</th>\n",
              "    </tr>\n",
              "  </thead>\n",
              "  <tbody>\n",
              "    <tr>\n",
              "      <th>0</th>\n",
              "      <td>0</td>\n",
              "      <td>0</td>\n",
              "      <td>0</td>\n",
              "      <td>0</td>\n",
              "      <td>0</td>\n",
              "      <td>0</td>\n",
              "      <td>0</td>\n",
              "      <td>0</td>\n",
              "      <td>0</td>\n",
              "      <td>0</td>\n",
              "      <td>...</td>\n",
              "      <td>0</td>\n",
              "      <td>0</td>\n",
              "      <td>0</td>\n",
              "      <td>0</td>\n",
              "      <td>0</td>\n",
              "      <td>0</td>\n",
              "      <td>0</td>\n",
              "      <td>0</td>\n",
              "      <td>0</td>\n",
              "      <td>0</td>\n",
              "    </tr>\n",
              "    <tr>\n",
              "      <th>1</th>\n",
              "      <td>0</td>\n",
              "      <td>0</td>\n",
              "      <td>0</td>\n",
              "      <td>0</td>\n",
              "      <td>0</td>\n",
              "      <td>0</td>\n",
              "      <td>0</td>\n",
              "      <td>0</td>\n",
              "      <td>0</td>\n",
              "      <td>0</td>\n",
              "      <td>...</td>\n",
              "      <td>0</td>\n",
              "      <td>0</td>\n",
              "      <td>0</td>\n",
              "      <td>0</td>\n",
              "      <td>0</td>\n",
              "      <td>0</td>\n",
              "      <td>0</td>\n",
              "      <td>0</td>\n",
              "      <td>0</td>\n",
              "      <td>0</td>\n",
              "    </tr>\n",
              "    <tr>\n",
              "      <th>2</th>\n",
              "      <td>0</td>\n",
              "      <td>0</td>\n",
              "      <td>0</td>\n",
              "      <td>0</td>\n",
              "      <td>0</td>\n",
              "      <td>0</td>\n",
              "      <td>0</td>\n",
              "      <td>0</td>\n",
              "      <td>0</td>\n",
              "      <td>0</td>\n",
              "      <td>...</td>\n",
              "      <td>0</td>\n",
              "      <td>0</td>\n",
              "      <td>0</td>\n",
              "      <td>0</td>\n",
              "      <td>0</td>\n",
              "      <td>0</td>\n",
              "      <td>1</td>\n",
              "      <td>0</td>\n",
              "      <td>0</td>\n",
              "      <td>0</td>\n",
              "    </tr>\n",
              "  </tbody>\n",
              "</table>\n",
              "<p>3 rows × 13257 columns</p>\n",
              "</div>\n",
              "      <button class=\"colab-df-convert\" onclick=\"convertToInteractive('df-c76a2452-810f-42c0-af9a-656b8a999b04')\"\n",
              "              title=\"Convert this dataframe to an interactive table.\"\n",
              "              style=\"display:none;\">\n",
              "        \n",
              "  <svg xmlns=\"http://www.w3.org/2000/svg\" height=\"24px\"viewBox=\"0 0 24 24\"\n",
              "       width=\"24px\">\n",
              "    <path d=\"M0 0h24v24H0V0z\" fill=\"none\"/>\n",
              "    <path d=\"M18.56 5.44l.94 2.06.94-2.06 2.06-.94-2.06-.94-.94-2.06-.94 2.06-2.06.94zm-11 1L8.5 8.5l.94-2.06 2.06-.94-2.06-.94L8.5 2.5l-.94 2.06-2.06.94zm10 10l.94 2.06.94-2.06 2.06-.94-2.06-.94-.94-2.06-.94 2.06-2.06.94z\"/><path d=\"M17.41 7.96l-1.37-1.37c-.4-.4-.92-.59-1.43-.59-.52 0-1.04.2-1.43.59L10.3 9.45l-7.72 7.72c-.78.78-.78 2.05 0 2.83L4 21.41c.39.39.9.59 1.41.59.51 0 1.02-.2 1.41-.59l7.78-7.78 2.81-2.81c.8-.78.8-2.07 0-2.86zM5.41 20L4 18.59l7.72-7.72 1.47 1.35L5.41 20z\"/>\n",
              "  </svg>\n",
              "      </button>\n",
              "      \n",
              "  <style>\n",
              "    .colab-df-container {\n",
              "      display:flex;\n",
              "      flex-wrap:wrap;\n",
              "      gap: 12px;\n",
              "    }\n",
              "\n",
              "    .colab-df-convert {\n",
              "      background-color: #E8F0FE;\n",
              "      border: none;\n",
              "      border-radius: 50%;\n",
              "      cursor: pointer;\n",
              "      display: none;\n",
              "      fill: #1967D2;\n",
              "      height: 32px;\n",
              "      padding: 0 0 0 0;\n",
              "      width: 32px;\n",
              "    }\n",
              "\n",
              "    .colab-df-convert:hover {\n",
              "      background-color: #E2EBFA;\n",
              "      box-shadow: 0px 1px 2px rgba(60, 64, 67, 0.3), 0px 1px 3px 1px rgba(60, 64, 67, 0.15);\n",
              "      fill: #174EA6;\n",
              "    }\n",
              "\n",
              "    [theme=dark] .colab-df-convert {\n",
              "      background-color: #3B4455;\n",
              "      fill: #D2E3FC;\n",
              "    }\n",
              "\n",
              "    [theme=dark] .colab-df-convert:hover {\n",
              "      background-color: #434B5C;\n",
              "      box-shadow: 0px 1px 3px 1px rgba(0, 0, 0, 0.15);\n",
              "      filter: drop-shadow(0px 1px 2px rgba(0, 0, 0, 0.3));\n",
              "      fill: #FFFFFF;\n",
              "    }\n",
              "  </style>\n",
              "\n",
              "      <script>\n",
              "        const buttonEl =\n",
              "          document.querySelector('#df-c76a2452-810f-42c0-af9a-656b8a999b04 button.colab-df-convert');\n",
              "        buttonEl.style.display =\n",
              "          google.colab.kernel.accessAllowed ? 'block' : 'none';\n",
              "\n",
              "        async function convertToInteractive(key) {\n",
              "          const element = document.querySelector('#df-c76a2452-810f-42c0-af9a-656b8a999b04');\n",
              "          const dataTable =\n",
              "            await google.colab.kernel.invokeFunction('convertToInteractive',\n",
              "                                                     [key], {});\n",
              "          if (!dataTable) return;\n",
              "\n",
              "          const docLinkHtml = 'Like what you see? Visit the ' +\n",
              "            '<a target=\"_blank\" href=https://colab.research.google.com/notebooks/data_table.ipynb>data table notebook</a>'\n",
              "            + ' to learn more about interactive tables.';\n",
              "          element.innerHTML = '';\n",
              "          dataTable['output_type'] = 'display_data';\n",
              "          await google.colab.output.renderOutput(dataTable, element);\n",
              "          const docLink = document.createElement('div');\n",
              "          docLink.innerHTML = docLinkHtml;\n",
              "          element.appendChild(docLink);\n",
              "        }\n",
              "      </script>\n",
              "    </div>\n",
              "  </div>\n",
              "  "
            ]
          },
          "metadata": {},
          "execution_count": 26
        }
      ],
      "source": [
        "create_term_document_matrix(clean_tweets).head(3)"
      ]
    },
    {
      "cell_type": "markdown",
      "metadata": {
        "id": "20Z8hEPx2s-5"
      },
      "source": [
        "**Q8.** How many columns are created for our small TDM above?"
      ]
    },
    {
      "cell_type": "code",
      "execution_count": 28,
      "metadata": {
        "id": "frWoo-UP2s-5",
        "colab": {
          "base_uri": "https://localhost:8080/"
        },
        "outputId": "e706b6a0-0408-4c9c-f53f-891fd5345c38"
      },
      "outputs": [
        {
          "output_type": "stream",
          "name": "stdout",
          "text": [
            "Number of tdm columns: 13257\n"
          ]
        }
      ],
      "source": [
        "number_of_tdm_columns = create_term_document_matrix(clean_tweets).head(3).shape[1]\n",
        "print(f\"Number of tdm columns: {number_of_tdm_columns}\")"
      ]
    },
    {
      "cell_type": "markdown",
      "metadata": {
        "id": "QQjO3cnR2s-5"
      },
      "source": [
        "To find the top words we will do a bit more work with our next function `plot_top_words()`. In this function we sum up each of the columns in the TDM, sort the word frequencies by counts, return the top sorted words list, and additionally plot these words in a nice bar chart."
      ]
    },
    {
      "cell_type": "code",
      "execution_count": 29,
      "metadata": {
        "id": "_oTQXtfQ2s-5"
      },
      "outputs": [],
      "source": [
        "def plot_top_words(tweets, num_word_instances, top_words):\n",
        "    tdm_df = create_term_document_matrix(tweets, min_df=2)\n",
        "    word_frequencies = tdm_df[[x for x in tdm_df.columns if len(x) > 1]].sum()\n",
        "    sorted_words = word_frequencies.sort_values(ascending=False)\n",
        "    top_sorted_words = sorted_words[:num_word_instances]\n",
        "    top_sorted_words[:top_words].plot.bar()\n",
        "    return top_sorted_words"
      ]
    },
    {
      "cell_type": "markdown",
      "metadata": {
        "id": "lRncMSuL2s-5"
      },
      "source": [
        "After defining our own `plot_top_words()` function, we can use it by using the tweets corpus as input (be patient as it make take some time for the function to complete processing):"
      ]
    },
    {
      "cell_type": "code",
      "execution_count": 30,
      "metadata": {
        "id": "60ufg4n32s-5",
        "colab": {
          "base_uri": "https://localhost:8080/",
          "height": 1000
        },
        "outputId": "833d14e0-38be-46ec-d4f4-4977da35b265"
      },
      "outputs": [
        {
          "output_type": "execute_result",
          "data": {
            "text/plain": [
              "bokmaessan        9858\n",
              "paa               5256\n",
              "rt                4805\n",
              "och               2918\n",
              "aer               2351\n",
              "om                2329\n",
              "att               2047\n",
              "med               1873\n",
              "foer              1811\n",
              "det               1740\n",
              "som               1288\n",
              "en                1261\n",
              "till              1223\n",
              "vi                1060\n",
              "monter            1052\n",
              "av                 995\n",
              "inte               948\n",
              "jag                945\n",
              "nu                 890\n",
              "svpol              850\n",
              "haer               761\n",
              "har                759\n",
              "kl                 648\n",
              "man                637\n",
              "bokmassangbg       604\n",
              "du                 602\n",
              "nya                595\n",
              "fraan              580\n",
              "saa                550\n",
              "yttrandefrihet     531\n",
              "den                524\n",
              "faar               521\n",
              "amp                479\n",
              "ett                477\n",
              "hur                467\n",
              "de                 460\n",
              "idag               456\n",
              "ska                446\n",
              "naer               413\n",
              "kom                411\n",
              "samtal             409\n",
              "alla               406\n",
              "goeteborg          400\n",
              "bokmassan          375\n",
              "tider              374\n",
              "men                366\n",
              "vaar               366\n",
              "kan                364\n",
              "ni                 352\n",
              "sig                331\n",
              "dtype: int64"
            ]
          },
          "metadata": {},
          "execution_count": 30
        },
        {
          "output_type": "display_data",
          "data": {
            "text/plain": [
              "<Figure size 720x432 with 1 Axes>"
            ],
            "image/png": "[encoded data removed]"
          },
          "metadata": {
            "needs_background": "light"
          }
        }
      ],
      "source": [
        "top_words = plot_top_words(clean_tweets, 50, 30)\n",
        "top_words"
      ]
    },
    {
      "cell_type": "markdown",
      "metadata": {
        "id": "bVNjwELw2s-5"
      },
      "source": [
        "**Q9** How many times must a word occur in your corpus for the function to appear in the top words list output above?"
      ]
    },
    {
      "cell_type": "code",
      "execution_count": 32,
      "metadata": {
        "id": "6gZ8-ALh2s-6",
        "colab": {
          "base_uri": "https://localhost:8080/"
        },
        "outputId": "f532f304-8c1b-4c65-b063-57671c062f39"
      },
      "outputs": [
        {
          "output_type": "stream",
          "name": "stdout",
          "text": [
            "Amount of occurances for lowest word from top_words: 331\n"
          ]
        }
      ],
      "source": [
        "min_occurences_to_make_top_50_words = 50\n",
        "# Print lowest amount of \n",
        "print(f\"Amount of occurances for lowest word from top_words: {top_words.min()}\")"
      ]
    },
    {
      "cell_type": "markdown",
      "metadata": {
        "id": "2-3fA21D2s-6"
      },
      "source": [
        "**Q10.** How many words does the function plot in the bar chart?"
      ]
    },
    {
      "cell_type": "code",
      "execution_count": 33,
      "metadata": {
        "id": "SP7CGfYO2s-7"
      },
      "outputs": [],
      "source": [
        "number_of_words_plotted_in_bar_chart = 30"
      ]
    },
    {
      "cell_type": "markdown",
      "metadata": {
        "lang": "en",
        "id": "UkUeLCdt2s-7"
      },
      "source": [
        "### Lowercase\n",
        "\n",
        "The next step is to redo all the words in lowercase letters. You do this to avoid identiftyinhg the same words as different ones, when written in different cases. For example before transforming the whole corpus into lowercase letters, the word `Bokmaessan`and `bokmaessan` may be identified as different words.\n",
        "\n",
        "To change the `clean_tweets` corpus into lower case text, use the following command:"
      ]
    },
    {
      "cell_type": "code",
      "execution_count": 34,
      "metadata": {
        "id": "_rpIo-F92s-7"
      },
      "outputs": [],
      "source": [
        "tweets_lowered = clean_tweets.str.lower()"
      ]
    },
    {
      "cell_type": "markdown",
      "metadata": {
        "id": "9lTPeQQX2s-8"
      },
      "source": [
        "In the next cell, write some code to plot the top words again with the lowered tweets corupus. Replace the ellipsis (`...`) with your own code:"
      ]
    },
    {
      "cell_type": "code",
      "execution_count": 35,
      "metadata": {
        "id": "SkfSKOOw2s-8",
        "colab": {
          "base_uri": "https://localhost:8080/",
          "height": 1000
        },
        "outputId": "5d371e2b-bb67-42f8-c6c0-dfadb18bd285"
      },
      "outputs": [
        {
          "output_type": "stream",
          "name": "stderr",
          "text": [
            "/usr/local/lib/python3.7/dist-packages/sklearn/utils/deprecation.py:87: FutureWarning: Function get_feature_names is deprecated; get_feature_names is deprecated in 1.0 and will be removed in 1.2. Please use get_feature_names_out instead.\n",
            "  warnings.warn(msg, category=FutureWarning)\n"
          ]
        },
        {
          "output_type": "execute_result",
          "data": {
            "text/plain": [
              "bokmaessan        9858\n",
              "paa               5256\n",
              "rt                4805\n",
              "och               2918\n",
              "aer               2351\n",
              "om                2329\n",
              "att               2047\n",
              "med               1873\n",
              "foer              1811\n",
              "det               1740\n",
              "som               1288\n",
              "en                1261\n",
              "till              1223\n",
              "vi                1060\n",
              "monter            1052\n",
              "av                 995\n",
              "inte               948\n",
              "jag                945\n",
              "nu                 890\n",
              "svpol              850\n",
              "haer               761\n",
              "har                759\n",
              "kl                 648\n",
              "man                637\n",
              "bokmassangbg       604\n",
              "du                 602\n",
              "nya                595\n",
              "fraan              580\n",
              "saa                550\n",
              "yttrandefrihet     531\n",
              "den                524\n",
              "faar               521\n",
              "amp                479\n",
              "ett                477\n",
              "hur                467\n",
              "de                 460\n",
              "idag               456\n",
              "ska                446\n",
              "naer               413\n",
              "kom                411\n",
              "samtal             409\n",
              "alla               406\n",
              "goeteborg          400\n",
              "bokmassan          375\n",
              "tider              374\n",
              "men                366\n",
              "vaar               366\n",
              "kan                364\n",
              "ni                 352\n",
              "sig                331\n",
              "dtype: int64"
            ]
          },
          "metadata": {},
          "execution_count": 35
        },
        {
          "output_type": "display_data",
          "data": {
            "text/plain": [
              "<Figure size 720x432 with 1 Axes>"
            ],
            "image/png": "[encoded data removed]"
          },
          "metadata": {
            "needs_background": "light"
          }
        }
      ],
      "source": [
        "top_words_lowered = plot_top_words(tweets_lowered , 50, 30)\n",
        "top_words_lowered"
      ]
    },
    {
      "cell_type": "markdown",
      "metadata": {
        "id": "yRGDrcW22s-9"
      },
      "source": [
        "**Q11.** What do you observe in the data after plotting the lowered tweets, and why?"
      ]
    },
    {
      "cell_type": "markdown",
      "metadata": {
        "id": "f31hCJ8o2s-9"
      },
      "source": [
        "The result hasn't really changed since the tweets were already lowercase. The plot aligns with the plot above."
      ]
    },
    {
      "cell_type": "markdown",
      "metadata": {
        "lang": "en",
        "id": "9-9qtOBx2s-9"
      },
      "source": [
        "In the next cell, you can use the code to compare your different lists with the most common words. The code creates a table using the `DataFrame` class, with the indexes of both top tweets corpuses as inputs.\n",
        "\n",
        "This code lets us preview the top 20 tweets, where the range given in the square brackets `[0:20]` defines which part of the top words lists are used. For example `[5:40]` will give you the 5th to 40th words in the list. You can try changing the range values if you like."
      ]
    },
    {
      "cell_type": "code",
      "execution_count": 36,
      "metadata": {
        "id": "JHzBCtWj2s--",
        "colab": {
          "base_uri": "https://localhost:8080/",
          "height": 677
        },
        "outputId": "8493b599-04f7-4279-8eea-2a5a0843bd13"
      },
      "outputs": [
        {
          "output_type": "execute_result",
          "data": {
            "text/plain": [
              "   Top tweeted clean Top tweeted lowered\n",
              "0         bokmaessan          bokmaessan\n",
              "1                paa                 paa\n",
              "2                 rt                  rt\n",
              "3                och                 och\n",
              "4                aer                 aer\n",
              "5                 om                  om\n",
              "6                att                 att\n",
              "7                med                 med\n",
              "8               foer                foer\n",
              "9                det                 det\n",
              "10               som                 som\n",
              "11                en                  en\n",
              "12              till                till\n",
              "13                vi                  vi\n",
              "14            monter              monter\n",
              "15                av                  av\n",
              "16              inte                inte\n",
              "17               jag                 jag\n",
              "18                nu                  nu\n",
              "19             svpol               svpol"
            ],
            "text/html": [
              "\n",
              "  <div id=\"df-52ab0ef0-4ae1-4dbb-97e8-9307da20e382\">\n",
              "    <div class=\"colab-df-container\">\n",
              "      <div>\n",
              "<style scoped>\n",
              "    .dataframe tbody tr th:only-of-type {\n",
              "        vertical-align: middle;\n",
              "    }\n",
              "\n",
              "    .dataframe tbody tr th {\n",
              "        vertical-align: top;\n",
              "    }\n",
              "\n",
              "    .dataframe thead th {\n",
              "        text-align: right;\n",
              "    }\n",
              "</style>\n",
              "<table border=\"1\" class=\"dataframe\">\n",
              "  <thead>\n",
              "    <tr style=\"text-align: right;\">\n",
              "      <th></th>\n",
              "      <th>Top tweeted clean</th>\n",
              "      <th>Top tweeted lowered</th>\n",
              "    </tr>\n",
              "  </thead>\n",
              "  <tbody>\n",
              "    <tr>\n",
              "      <th>0</th>\n",
              "      <td>bokmaessan</td>\n",
              "      <td>bokmaessan</td>\n",
              "    </tr>\n",
              "    <tr>\n",
              "      <th>1</th>\n",
              "      <td>paa</td>\n",
              "      <td>paa</td>\n",
              "    </tr>\n",
              "    <tr>\n",
              "      <th>2</th>\n",
              "      <td>rt</td>\n",
              "      <td>rt</td>\n",
              "    </tr>\n",
              "    <tr>\n",
              "      <th>3</th>\n",
              "      <td>och</td>\n",
              "      <td>och</td>\n",
              "    </tr>\n",
              "    <tr>\n",
              "      <th>4</th>\n",
              "      <td>aer</td>\n",
              "      <td>aer</td>\n",
              "    </tr>\n",
              "    <tr>\n",
              "      <th>5</th>\n",
              "      <td>om</td>\n",
              "      <td>om</td>\n",
              "    </tr>\n",
              "    <tr>\n",
              "      <th>6</th>\n",
              "      <td>att</td>\n",
              "      <td>att</td>\n",
              "    </tr>\n",
              "    <tr>\n",
              "      <th>7</th>\n",
              "      <td>med</td>\n",
              "      <td>med</td>\n",
              "    </tr>\n",
              "    <tr>\n",
              "      <th>8</th>\n",
              "      <td>foer</td>\n",
              "      <td>foer</td>\n",
              "    </tr>\n",
              "    <tr>\n",
              "      <th>9</th>\n",
              "      <td>det</td>\n",
              "      <td>det</td>\n",
              "    </tr>\n",
              "    <tr>\n",
              "      <th>10</th>\n",
              "      <td>som</td>\n",
              "      <td>som</td>\n",
              "    </tr>\n",
              "    <tr>\n",
              "      <th>11</th>\n",
              "      <td>en</td>\n",
              "      <td>en</td>\n",
              "    </tr>\n",
              "    <tr>\n",
              "      <th>12</th>\n",
              "      <td>till</td>\n",
              "      <td>till</td>\n",
              "    </tr>\n",
              "    <tr>\n",
              "      <th>13</th>\n",
              "      <td>vi</td>\n",
              "      <td>vi</td>\n",
              "    </tr>\n",
              "    <tr>\n",
              "      <th>14</th>\n",
              "      <td>monter</td>\n",
              "      <td>monter</td>\n",
              "    </tr>\n",
              "    <tr>\n",
              "      <th>15</th>\n",
              "      <td>av</td>\n",
              "      <td>av</td>\n",
              "    </tr>\n",
              "    <tr>\n",
              "      <th>16</th>\n",
              "      <td>inte</td>\n",
              "      <td>inte</td>\n",
              "    </tr>\n",
              "    <tr>\n",
              "      <th>17</th>\n",
              "      <td>jag</td>\n",
              "      <td>jag</td>\n",
              "    </tr>\n",
              "    <tr>\n",
              "      <th>18</th>\n",
              "      <td>nu</td>\n",
              "      <td>nu</td>\n",
              "    </tr>\n",
              "    <tr>\n",
              "      <th>19</th>\n",
              "      <td>svpol</td>\n",
              "      <td>svpol</td>\n",
              "    </tr>\n",
              "  </tbody>\n",
              "</table>\n",
              "</div>\n",
              "      <button class=\"colab-df-convert\" onclick=\"convertToInteractive('df-52ab0ef0-4ae1-4dbb-97e8-9307da20e382')\"\n",
              "              title=\"Convert this dataframe to an interactive table.\"\n",
              "              style=\"display:none;\">\n",
              "        \n",
              "  <svg xmlns=\"http://www.w3.org/2000/svg\" height=\"24px\"viewBox=\"0 0 24 24\"\n",
              "       width=\"24px\">\n",
              "    <path d=\"M0 0h24v24H0V0z\" fill=\"none\"/>\n",
              "    <path d=\"M18.56 5.44l.94 2.06.94-2.06 2.06-.94-2.06-.94-.94-2.06-.94 2.06-2.06.94zm-11 1L8.5 8.5l.94-2.06 2.06-.94-2.06-.94L8.5 2.5l-.94 2.06-2.06.94zm10 10l.94 2.06.94-2.06 2.06-.94-2.06-.94-.94-2.06-.94 2.06-2.06.94z\"/><path d=\"M17.41 7.96l-1.37-1.37c-.4-.4-.92-.59-1.43-.59-.52 0-1.04.2-1.43.59L10.3 9.45l-7.72 7.72c-.78.78-.78 2.05 0 2.83L4 21.41c.39.39.9.59 1.41.59.51 0 1.02-.2 1.41-.59l7.78-7.78 2.81-2.81c.8-.78.8-2.07 0-2.86zM5.41 20L4 18.59l7.72-7.72 1.47 1.35L5.41 20z\"/>\n",
              "  </svg>\n",
              "      </button>\n",
              "      \n",
              "  <style>\n",
              "    .colab-df-container {\n",
              "      display:flex;\n",
              "      flex-wrap:wrap;\n",
              "      gap: 12px;\n",
              "    }\n",
              "\n",
              "    .colab-df-convert {\n",
              "      background-color: #E8F0FE;\n",
              "      border: none;\n",
              "      border-radius: 50%;\n",
              "      cursor: pointer;\n",
              "      display: none;\n",
              "      fill: #1967D2;\n",
              "      height: 32px;\n",
              "      padding: 0 0 0 0;\n",
              "      width: 32px;\n",
              "    }\n",
              "\n",
              "    .colab-df-convert:hover {\n",
              "      background-color: #E2EBFA;\n",
              "      box-shadow: 0px 1px 2px rgba(60, 64, 67, 0.3), 0px 1px 3px 1px rgba(60, 64, 67, 0.15);\n",
              "      fill: #174EA6;\n",
              "    }\n",
              "\n",
              "    [theme=dark] .colab-df-convert {\n",
              "      background-color: #3B4455;\n",
              "      fill: #D2E3FC;\n",
              "    }\n",
              "\n",
              "    [theme=dark] .colab-df-convert:hover {\n",
              "      background-color: #434B5C;\n",
              "      box-shadow: 0px 1px 3px 1px rgba(0, 0, 0, 0.15);\n",
              "      filter: drop-shadow(0px 1px 2px rgba(0, 0, 0, 0.3));\n",
              "      fill: #FFFFFF;\n",
              "    }\n",
              "  </style>\n",
              "\n",
              "      <script>\n",
              "        const buttonEl =\n",
              "          document.querySelector('#df-52ab0ef0-4ae1-4dbb-97e8-9307da20e382 button.colab-df-convert');\n",
              "        buttonEl.style.display =\n",
              "          google.colab.kernel.accessAllowed ? 'block' : 'none';\n",
              "\n",
              "        async function convertToInteractive(key) {\n",
              "          const element = document.querySelector('#df-52ab0ef0-4ae1-4dbb-97e8-9307da20e382');\n",
              "          const dataTable =\n",
              "            await google.colab.kernel.invokeFunction('convertToInteractive',\n",
              "                                                     [key], {});\n",
              "          if (!dataTable) return;\n",
              "\n",
              "          const docLinkHtml = 'Like what you see? Visit the ' +\n",
              "            '<a target=\"_blank\" href=https://colab.research.google.com/notebooks/data_table.ipynb>data table notebook</a>'\n",
              "            + ' to learn more about interactive tables.';\n",
              "          element.innerHTML = '';\n",
              "          dataTable['output_type'] = 'display_data';\n",
              "          await google.colab.output.renderOutput(dataTable, element);\n",
              "          const docLink = document.createElement('div');\n",
              "          docLink.innerHTML = docLinkHtml;\n",
              "          element.appendChild(docLink);\n",
              "        }\n",
              "      </script>\n",
              "    </div>\n",
              "  </div>\n",
              "  "
            ]
          },
          "metadata": {},
          "execution_count": 36
        }
      ],
      "source": [
        "pd.DataFrame({\n",
        "    'Top tweeted clean': top_words[0:20].index,\n",
        "    'Top tweeted lowered': top_words_lowered[0:20].index\n",
        "})"
      ]
    },
    {
      "cell_type": "markdown",
      "metadata": {
        "lang": "en",
        "id": "9tfQbUy62s--"
      },
      "source": [
        "You can use the following code to check the words in two top words lists they are identical:"
      ]
    },
    {
      "cell_type": "code",
      "execution_count": 37,
      "metadata": {
        "id": "-NdFyEci2s--",
        "colab": {
          "base_uri": "https://localhost:8080/"
        },
        "outputId": "8fbdc1c4-bbef-489e-f361-ddd7aff6f317"
      },
      "outputs": [
        {
          "output_type": "execute_result",
          "data": {
            "text/plain": [
              "set()"
            ]
          },
          "metadata": {},
          "execution_count": 37
        }
      ],
      "source": [
        "set(top_words[0:20].index) - set(top_words_lowered[0:20].index)"
      ]
    },
    {
      "cell_type": "markdown",
      "metadata": {
        "lang": "en",
        "id": "we2QJqku2s-_"
      },
      "source": [
        "If the lists of top words are identical, the cell will return only `set()`, otherwise it will list the words that are different."
      ]
    },
    {
      "cell_type": "markdown",
      "metadata": {
        "lang": "en",
        "id": "qXz63LI_2s-_"
      },
      "source": [
        "**Q12.** Has the pre-processing of data you performed so far changed the list of the 20 most frequent words? Provide a reason for your observation."
      ]
    },
    {
      "cell_type": "markdown",
      "metadata": {
        "id": "kCnsAJql2s-_"
      },
      "source": [
        "The pre-processing hasn't changed if we compare top_words and top_words_lowered. However, the removal of emojis and link has most likely caused other words to be most frequent, compared to if they hadn't been removed."
      ]
    },
    {
      "cell_type": "markdown",
      "metadata": {
        "id": "qIdwFORL2s_A"
      },
      "source": [
        "### Small words\n",
        "\n",
        "Most small words are usually of limited importance, so let's strip those out. We can simply use a regular expression to identify words that are 3 letters long and keep them in the corpus."
      ]
    },
    {
      "cell_type": "code",
      "execution_count": 38,
      "metadata": {
        "id": "QFbEK0p_2s_A"
      },
      "outputs": [],
      "source": [
        "tweets_low_no_small = tweets_lowered.str.findall('\\w{3,}').str.join(' ')  # short words (2 chars)"
      ]
    },
    {
      "cell_type": "code",
      "execution_count": 39,
      "metadata": {
        "id": "J4yI9mCN2s_A",
        "colab": {
          "base_uri": "https://localhost:8080/",
          "height": 1000
        },
        "outputId": "cf02571e-179c-4223-f675-b5043413f6f5"
      },
      "outputs": [
        {
          "output_type": "stream",
          "name": "stderr",
          "text": [
            "/usr/local/lib/python3.7/dist-packages/sklearn/utils/deprecation.py:87: FutureWarning: Function get_feature_names is deprecated; get_feature_names is deprecated in 1.0 and will be removed in 1.2. Please use get_feature_names_out instead.\n",
            "  warnings.warn(msg, category=FutureWarning)\n"
          ]
        },
        {
          "output_type": "execute_result",
          "data": {
            "text/plain": [
              "bokmaessan        9858\n",
              "paa               5256\n",
              "och               2918\n",
              "aer               2351\n",
              "att               2047\n",
              "med               1873\n",
              "foer              1811\n",
              "det               1740\n",
              "som               1288\n",
              "till              1223\n",
              "monter            1052\n",
              "inte               948\n",
              "jag                945\n",
              "svpol              850\n",
              "haer               761\n",
              "har                759\n",
              "man                637\n",
              "bokmassangbg       604\n",
              "nya                595\n",
              "fraan              580\n",
              "saa                550\n",
              "yttrandefrihet     531\n",
              "den                524\n",
              "faar               521\n",
              "amp                479\n",
              "ett                477\n",
              "hur                467\n",
              "idag               456\n",
              "ska                446\n",
              "naer               413\n",
              "kom                411\n",
              "samtal             409\n",
              "alla               406\n",
              "goeteborg          400\n",
              "bokmassan          375\n",
              "tider              374\n",
              "vaar               366\n",
              "men                366\n",
              "kan                364\n",
              "sig                331\n",
              "aar                306\n",
              "vad                288\n",
              "bok                284\n",
              "vill               278\n",
              "just               270\n",
              "plats              265\n",
              "oss                265\n",
              "vara               262\n",
              "kommer             259\n",
              "mig                255\n",
              "dtype: int64"
            ]
          },
          "metadata": {},
          "execution_count": 39
        },
        {
          "output_type": "display_data",
          "data": {
            "text/plain": [
              "<Figure size 720x432 with 1 Axes>"
            ],
            "image/png": "[encoded data removed]"
          },
          "metadata": {
            "needs_background": "light"
          }
        }
      ],
      "source": [
        "top_words_low_no_small = plot_top_words(tweets_low_no_small, 50, 30)\n",
        "top_words_low_no_small"
      ]
    },
    {
      "cell_type": "markdown",
      "metadata": {
        "id": "kh3Rd27b2s_A"
      },
      "source": [
        "**Q13.** Now after removing short words, how many times must a word occur in your corpus for the function to appear in the top words list output above?"
      ]
    },
    {
      "cell_type": "code",
      "execution_count": 45,
      "metadata": {
        "id": "P_uVDbxJ2s_A",
        "colab": {
          "base_uri": "https://localhost:8080/"
        },
        "outputId": "6a8df9b7-930a-4f59-bc3e-72f53002cf7f"
      },
      "outputs": [
        {
          "output_type": "stream",
          "name": "stdout",
          "text": [
            "Amount of occurances for lowest word from top_words_low_no_small: 255\n"
          ]
        }
      ],
      "source": [
        "min_occurences_to_make_top_50_words_short_words = 50\n",
        "print(f\"Amount of occurances for lowest word from top_words_low_no_small: {top_words_low_no_small.min()}\")"
      ]
    },
    {
      "cell_type": "markdown",
      "metadata": {
        "lang": "en",
        "id": "ONC5Kuar2s_B"
      },
      "source": [
        "### Stop Words\n",
        "\n",
        "Stop words are words of limited importance and are therefore not so interesting for your analysis. We use stop words as a reference so that we can filter out words that we do not want to analyze, for example prepositions and conjunctions.\n",
        "\n",
        "First, we can create a list of stopwords that we can use to remove from the most frequent word collection:"
      ]
    },
    {
      "cell_type": "code",
      "execution_count": 41,
      "metadata": {
        "id": "4YxYj4h22s_B"
      },
      "outputs": [],
      "source": [
        "my_stop_words = [\"och\", \"det\", \"att\", \"i\", \"en\", \"jag\", \"hon\", \n",
        "                \"som\", \"han\", \"paa\", \"den\", \"med\", \"var\", \"sig\", \n",
        "                \"foer\", \"saa\", \"till\", \"aer\", \"men\", \"ett\", \n",
        "                \"om\", \"hade\", \"de\", \"av\", \"icke\", \"mig\", \"du\", \n",
        "                \"henne\", \"daa\", \"sin\", \"nu\", \"har\", \"inte\", \n",
        "                \"hans\", \"honom\", \"skulle\", \"hennes\", \"daer\", \n",
        "                \"min\", \"man\", \"ej\", \"vid\", \"kunde\", \"naagot\", \n",
        "                \"fraan\", \"ut\", \"naer\", \"efter\", \"upp\", \"vi\", \n",
        "                \"dem\", \"vara\", \"vad\", \"oever\", \"aen\", \"dig\", \n",
        "                \"kan\", \"sina\", \"haer\", \"ha\", \"mot\", \"alla\", \n",
        "                \"under\", \"naagon\", \"eller\", \"allt\", \"mycket\", \n",
        "                \"sedan\", \"ju\", \"denna\", \"sjaelv\", \"detta\", \n",
        "                \"aat\", \"utan\", \"varit\", \"hur\", \"ingen\", \"mitt\", \n",
        "                \"ni\", \"bli\", \"blev\", \"oss\", \"din\", \"dessa\", \n",
        "                \"naagra\", \"deras\", \"blir\", \"mina\", \"samma\", \n",
        "                \"vilken\", \"er\", \"saadan\", \"vaar\", \"blivit\", \n",
        "                \"dess\", \"inom\", \"mellan\", \"saadant\", \"varfoer\", \n",
        "                \"varje\", \"vilka\", \"ditt\", \"vem\", \"vilket\", \n",
        "                \"sitta\", \"saadana\", \"vart\", \"dina\", \"vars\", \n",
        "                \"vaart\", \"vaara\", \"ert\", \"era\", \"vilka\"]"
      ]
    },
    {
      "cell_type": "markdown",
      "metadata": {
        "lang": "en",
        "id": "pW2OB8A62s_B"
      },
      "source": [
        "Then we can define a function `remove_stopwods` that removes the stop words from a single document. We then use the `.apply()` function to apply the function across the whole of the `tweets_lowered_no_urls` corpus to delete these words:"
      ]
    },
    {
      "cell_type": "code",
      "execution_count": 42,
      "metadata": {
        "id": "hJic3Dtt2s_C"
      },
      "outputs": [],
      "source": [
        "remove_stopwords = lambda x: ' '.join(y for y in x.split() if y not in my_stop_words)\n",
        "tweets_low_no_small_stopwords = tweets_low_no_small.apply(remove_stopwords)"
      ]
    },
    {
      "cell_type": "code",
      "execution_count": 43,
      "metadata": {
        "id": "aSFg4puh2s_C",
        "colab": {
          "base_uri": "https://localhost:8080/",
          "height": 1000
        },
        "outputId": "ded4c8df-ac1d-49ab-e685-36b849246f4a"
      },
      "outputs": [
        {
          "output_type": "execute_result",
          "data": {
            "text/plain": [
              "bokmaessan         9858\n",
              "monter             1052\n",
              "svpol               850\n",
              "bokmassangbg        604\n",
              "nya                 595\n",
              "yttrandefrihet      531\n",
              "faar                521\n",
              "amp                 479\n",
              "idag                456\n",
              "ska                 446\n",
              "kom                 411\n",
              "samtal              409\n",
              "goeteborg           400\n",
              "bokmassan           375\n",
              "tider               374\n",
              "aar                 306\n",
              "bok                 284\n",
              "vill                278\n",
              "just                270\n",
              "plats               265\n",
              "kommer              259\n",
              "itorget             247\n",
              "boecker             233\n",
              "finns               227\n",
              "pratar              226\n",
              "tack                216\n",
              "pedagogikscenen     210\n",
              "charlieafnord       204\n",
              "bibliotek           198\n",
              "seminarium          191\n",
              "saeger              184\n",
              "bara                183\n",
              "dag                 183\n",
              "lyssna              182\n",
              "vaelkommen          178\n",
              "c04                 176\n",
              "hos                 176\n",
              "barn                175\n",
              "missa               175\n",
              "skaems              169\n",
              "bra                 169\n",
              "maaste              167\n",
              "igen                167\n",
              "goer                166\n",
              "kolla               165\n",
              "pandark2083         158\n",
              "foerfattare         156\n",
              "skolan              154\n",
              "hoer                153\n",
              "faa                 151\n",
              "dtype: int64"
            ]
          },
          "metadata": {},
          "execution_count": 43
        },
        {
          "output_type": "display_data",
          "data": {
            "text/plain": [
              "<Figure size 720x432 with 1 Axes>"
            ],
            "image/png": "[encoded data removed]"
          },
          "metadata": {
            "needs_background": "light"
          }
        }
      ],
      "source": [
        "top_words_low_no_small_stopwords = plot_top_words(tweets_low_no_small_stopwords, 50, 30)\n",
        "top_words_low_no_small_stopwords"
      ]
    },
    {
      "cell_type": "markdown",
      "metadata": {
        "id": "1dNNDB3f2s_C"
      },
      "source": [
        "**Q14.** Now after removing stop words, how many times must a word occur in your corpus for the function to appear in the top words list output above?"
      ]
    },
    {
      "cell_type": "code",
      "execution_count": 46,
      "metadata": {
        "id": "DJRWa9nG2s_C",
        "colab": {
          "base_uri": "https://localhost:8080/"
        },
        "outputId": "6854100b-3d9b-4dac-84f5-9f0516c97d66"
      },
      "outputs": [
        {
          "output_type": "stream",
          "name": "stdout",
          "text": [
            "Amount of occurances for lowest word from top_words_low_no_small_stop_words: 151\n"
          ]
        }
      ],
      "source": [
        "min_occurences_to_make_top_50_words_short_stop_words = 50\n",
        "print(f\"Amount of occurances for lowest word from top_words_low_no_small_stop_words: {top_words_low_no_small_stopwords.min()}\")"
      ]
    },
    {
      "cell_type": "markdown",
      "metadata": {
        "lang": "en",
        "id": "SAprmYy-2s_C"
      },
      "source": [
        "**Q15.** What are the differences between the most frequent words compared to the previous pre-processed lists?\n",
        "\n",
        "*Hint: To help with your answer, read a little further to create a comparison table.*"
      ]
    },
    {
      "cell_type": "markdown",
      "metadata": {
        "id": "D-_Qdd7O2s_C"
      },
      "source": [
        "The difference is that stop words, i.e. common words that won't help the analysis, have been removed. This includes words like \"oss\" and \"mig\"."
      ]
    },
    {
      "cell_type": "markdown",
      "metadata": {
        "lang": "en",
        "id": "IMGqdMZW2s_C"
      },
      "source": [
        "Write some code to create a table showiung the top 20 words at each stage of pre-processing by comparing `top_words_lowered`, `top_words_low_no_small` and `top_words_low_no_small_stopwords` to help you answer this question.\n",
        "\n",
        "In the code cell below replace the ellipsis with your own code and run it to create your comparison table:"
      ]
    },
    {
      "cell_type": "code",
      "execution_count": 47,
      "metadata": {
        "id": "xcuaPUzC2s_C",
        "colab": {
          "base_uri": "https://localhost:8080/",
          "height": 677
        },
        "outputId": "b98a3ec7-8f1b-4a98-c86a-af931cd43fc8"
      },
      "outputs": [
        {
          "output_type": "execute_result",
          "data": {
            "text/plain": [
              "   Top tweeted lowered Top tweeted low no small  \\\n",
              "0           bokmaessan               bokmaessan   \n",
              "1                  paa                      paa   \n",
              "2                   rt                      och   \n",
              "3                  och                      aer   \n",
              "4                  aer                      att   \n",
              "5                   om                      med   \n",
              "6                  att                     foer   \n",
              "7                  med                      det   \n",
              "8                 foer                      som   \n",
              "9                  det                     till   \n",
              "10                 som                   monter   \n",
              "11                  en                     inte   \n",
              "12                till                      jag   \n",
              "13                  vi                    svpol   \n",
              "14              monter                     haer   \n",
              "15                  av                      har   \n",
              "16                inte                      man   \n",
              "17                 jag             bokmassangbg   \n",
              "18                  nu                      nya   \n",
              "19               svpol                    fraan   \n",
              "\n",
              "   Top tweeted low no small stopwords  \n",
              "0                          bokmaessan  \n",
              "1                              monter  \n",
              "2                               svpol  \n",
              "3                        bokmassangbg  \n",
              "4                                 nya  \n",
              "5                      yttrandefrihet  \n",
              "6                                faar  \n",
              "7                                 amp  \n",
              "8                                idag  \n",
              "9                                 ska  \n",
              "10                                kom  \n",
              "11                             samtal  \n",
              "12                          goeteborg  \n",
              "13                          bokmassan  \n",
              "14                              tider  \n",
              "15                                aar  \n",
              "16                                bok  \n",
              "17                               vill  \n",
              "18                               just  \n",
              "19                              plats  "
            ],
            "text/html": [
              "\n",
              "  <div id=\"df-28cd165a-16a0-45a1-b4ef-68e7c46697a3\">\n",
              "    <div class=\"colab-df-container\">\n",
              "      <div>\n",
              "<style scoped>\n",
              "    .dataframe tbody tr th:only-of-type {\n",
              "        vertical-align: middle;\n",
              "    }\n",
              "\n",
              "    .dataframe tbody tr th {\n",
              "        vertical-align: top;\n",
              "    }\n",
              "\n",
              "    .dataframe thead th {\n",
              "        text-align: right;\n",
              "    }\n",
              "</style>\n",
              "<table border=\"1\" class=\"dataframe\">\n",
              "  <thead>\n",
              "    <tr style=\"text-align: right;\">\n",
              "      <th></th>\n",
              "      <th>Top tweeted lowered</th>\n",
              "      <th>Top tweeted low no small</th>\n",
              "      <th>Top tweeted low no small stopwords</th>\n",
              "    </tr>\n",
              "  </thead>\n",
              "  <tbody>\n",
              "    <tr>\n",
              "      <th>0</th>\n",
              "      <td>bokmaessan</td>\n",
              "      <td>bokmaessan</td>\n",
              "      <td>bokmaessan</td>\n",
              "    </tr>\n",
              "    <tr>\n",
              "      <th>1</th>\n",
              "      <td>paa</td>\n",
              "      <td>paa</td>\n",
              "      <td>monter</td>\n",
              "    </tr>\n",
              "    <tr>\n",
              "      <th>2</th>\n",
              "      <td>rt</td>\n",
              "      <td>och</td>\n",
              "      <td>svpol</td>\n",
              "    </tr>\n",
              "    <tr>\n",
              "      <th>3</th>\n",
              "      <td>och</td>\n",
              "      <td>aer</td>\n",
              "      <td>bokmassangbg</td>\n",
              "    </tr>\n",
              "    <tr>\n",
              "      <th>4</th>\n",
              "      <td>aer</td>\n",
              "      <td>att</td>\n",
              "      <td>nya</td>\n",
              "    </tr>\n",
              "    <tr>\n",
              "      <th>5</th>\n",
              "      <td>om</td>\n",
              "      <td>med</td>\n",
              "      <td>yttrandefrihet</td>\n",
              "    </tr>\n",
              "    <tr>\n",
              "      <th>6</th>\n",
              "      <td>att</td>\n",
              "      <td>foer</td>\n",
              "      <td>faar</td>\n",
              "    </tr>\n",
              "    <tr>\n",
              "      <th>7</th>\n",
              "      <td>med</td>\n",
              "      <td>det</td>\n",
              "      <td>amp</td>\n",
              "    </tr>\n",
              "    <tr>\n",
              "      <th>8</th>\n",
              "      <td>foer</td>\n",
              "      <td>som</td>\n",
              "      <td>idag</td>\n",
              "    </tr>\n",
              "    <tr>\n",
              "      <th>9</th>\n",
              "      <td>det</td>\n",
              "      <td>till</td>\n",
              "      <td>ska</td>\n",
              "    </tr>\n",
              "    <tr>\n",
              "      <th>10</th>\n",
              "      <td>som</td>\n",
              "      <td>monter</td>\n",
              "      <td>kom</td>\n",
              "    </tr>\n",
              "    <tr>\n",
              "      <th>11</th>\n",
              "      <td>en</td>\n",
              "      <td>inte</td>\n",
              "      <td>samtal</td>\n",
              "    </tr>\n",
              "    <tr>\n",
              "      <th>12</th>\n",
              "      <td>till</td>\n",
              "      <td>jag</td>\n",
              "      <td>goeteborg</td>\n",
              "    </tr>\n",
              "    <tr>\n",
              "      <th>13</th>\n",
              "      <td>vi</td>\n",
              "      <td>svpol</td>\n",
              "      <td>bokmassan</td>\n",
              "    </tr>\n",
              "    <tr>\n",
              "      <th>14</th>\n",
              "      <td>monter</td>\n",
              "      <td>haer</td>\n",
              "      <td>tider</td>\n",
              "    </tr>\n",
              "    <tr>\n",
              "      <th>15</th>\n",
              "      <td>av</td>\n",
              "      <td>har</td>\n",
              "      <td>aar</td>\n",
              "    </tr>\n",
              "    <tr>\n",
              "      <th>16</th>\n",
              "      <td>inte</td>\n",
              "      <td>man</td>\n",
              "      <td>bok</td>\n",
              "    </tr>\n",
              "    <tr>\n",
              "      <th>17</th>\n",
              "      <td>jag</td>\n",
              "      <td>bokmassangbg</td>\n",
              "      <td>vill</td>\n",
              "    </tr>\n",
              "    <tr>\n",
              "      <th>18</th>\n",
              "      <td>nu</td>\n",
              "      <td>nya</td>\n",
              "      <td>just</td>\n",
              "    </tr>\n",
              "    <tr>\n",
              "      <th>19</th>\n",
              "      <td>svpol</td>\n",
              "      <td>fraan</td>\n",
              "      <td>plats</td>\n",
              "    </tr>\n",
              "  </tbody>\n",
              "</table>\n",
              "</div>\n",
              "      <button class=\"colab-df-convert\" onclick=\"convertToInteractive('df-28cd165a-16a0-45a1-b4ef-68e7c46697a3')\"\n",
              "              title=\"Convert this dataframe to an interactive table.\"\n",
              "              style=\"display:none;\">\n",
              "        \n",
              "  <svg xmlns=\"http://www.w3.org/2000/svg\" height=\"24px\"viewBox=\"0 0 24 24\"\n",
              "       width=\"24px\">\n",
              "    <path d=\"M0 0h24v24H0V0z\" fill=\"none\"/>\n",
              "    <path d=\"M18.56 5.44l.94 2.06.94-2.06 2.06-.94-2.06-.94-.94-2.06-.94 2.06-2.06.94zm-11 1L8.5 8.5l.94-2.06 2.06-.94-2.06-.94L8.5 2.5l-.94 2.06-2.06.94zm10 10l.94 2.06.94-2.06 2.06-.94-2.06-.94-.94-2.06-.94 2.06-2.06.94z\"/><path d=\"M17.41 7.96l-1.37-1.37c-.4-.4-.92-.59-1.43-.59-.52 0-1.04.2-1.43.59L10.3 9.45l-7.72 7.72c-.78.78-.78 2.05 0 2.83L4 21.41c.39.39.9.59 1.41.59.51 0 1.02-.2 1.41-.59l7.78-7.78 2.81-2.81c.8-.78.8-2.07 0-2.86zM5.41 20L4 18.59l7.72-7.72 1.47 1.35L5.41 20z\"/>\n",
              "  </svg>\n",
              "      </button>\n",
              "      \n",
              "  <style>\n",
              "    .colab-df-container {\n",
              "      display:flex;\n",
              "      flex-wrap:wrap;\n",
              "      gap: 12px;\n",
              "    }\n",
              "\n",
              "    .colab-df-convert {\n",
              "      background-color: #E8F0FE;\n",
              "      border: none;\n",
              "      border-radius: 50%;\n",
              "      cursor: pointer;\n",
              "      display: none;\n",
              "      fill: #1967D2;\n",
              "      height: 32px;\n",
              "      padding: 0 0 0 0;\n",
              "      width: 32px;\n",
              "    }\n",
              "\n",
              "    .colab-df-convert:hover {\n",
              "      background-color: #E2EBFA;\n",
              "      box-shadow: 0px 1px 2px rgba(60, 64, 67, 0.3), 0px 1px 3px 1px rgba(60, 64, 67, 0.15);\n",
              "      fill: #174EA6;\n",
              "    }\n",
              "\n",
              "    [theme=dark] .colab-df-convert {\n",
              "      background-color: #3B4455;\n",
              "      fill: #D2E3FC;\n",
              "    }\n",
              "\n",
              "    [theme=dark] .colab-df-convert:hover {\n",
              "      background-color: #434B5C;\n",
              "      box-shadow: 0px 1px 3px 1px rgba(0, 0, 0, 0.15);\n",
              "      filter: drop-shadow(0px 1px 2px rgba(0, 0, 0, 0.3));\n",
              "      fill: #FFFFFF;\n",
              "    }\n",
              "  </style>\n",
              "\n",
              "      <script>\n",
              "        const buttonEl =\n",
              "          document.querySelector('#df-28cd165a-16a0-45a1-b4ef-68e7c46697a3 button.colab-df-convert');\n",
              "        buttonEl.style.display =\n",
              "          google.colab.kernel.accessAllowed ? 'block' : 'none';\n",
              "\n",
              "        async function convertToInteractive(key) {\n",
              "          const element = document.querySelector('#df-28cd165a-16a0-45a1-b4ef-68e7c46697a3');\n",
              "          const dataTable =\n",
              "            await google.colab.kernel.invokeFunction('convertToInteractive',\n",
              "                                                     [key], {});\n",
              "          if (!dataTable) return;\n",
              "\n",
              "          const docLinkHtml = 'Like what you see? Visit the ' +\n",
              "            '<a target=\"_blank\" href=https://colab.research.google.com/notebooks/data_table.ipynb>data table notebook</a>'\n",
              "            + ' to learn more about interactive tables.';\n",
              "          element.innerHTML = '';\n",
              "          dataTable['output_type'] = 'display_data';\n",
              "          await google.colab.output.renderOutput(dataTable, element);\n",
              "          const docLink = document.createElement('div');\n",
              "          docLink.innerHTML = docLinkHtml;\n",
              "          element.appendChild(docLink);\n",
              "        }\n",
              "      </script>\n",
              "    </div>\n",
              "  </div>\n",
              "  "
            ]
          },
          "metadata": {},
          "execution_count": 47
        }
      ],
      "source": [
        "pd.DataFrame({\n",
        "    'Top tweeted lowered': top_words_lowered[0:20].index,\n",
        "    'Top tweeted low no small': top_words_low_no_small[0:20].index,\n",
        "    'Top tweeted low no small stopwords': top_words_low_no_small_stopwords[0:20].index\n",
        "})"
      ]
    },
    {
      "cell_type": "markdown",
      "metadata": {
        "lang": "en",
        "id": "3I4FAXgN2s_D"
      },
      "source": [
        "### Add your own stopwords\n",
        "\n",
        "Now you can choose to add your own stop words if you think there are words in the graph that are not so informative to determine what kind of topics discussed at the book fair. For example, you could remove `years` as represented in the text with` aar`. Write your own code in the cell below and run it to remove your own stop words:\n",
        "\n",
        "*Check the earlier example code that removes the initial list of stop words if you are not sure how to do this.*"
      ]
    },
    {
      "cell_type": "code",
      "execution_count": 49,
      "metadata": {
        "id": "HGFRI-_y2s_E",
        "colab": {
          "base_uri": "https://localhost:8080/",
          "height": 1000
        },
        "outputId": "3a932b98-f5a9-4214-eb2e-3203f4116a40"
      },
      "outputs": [
        {
          "output_type": "stream",
          "name": "stderr",
          "text": [
            "/usr/local/lib/python3.7/dist-packages/sklearn/utils/deprecation.py:87: FutureWarning: Function get_feature_names is deprecated; get_feature_names is deprecated in 1.0 and will be removed in 1.2. Please use get_feature_names_out instead.\n",
            "  warnings.warn(msg, category=FutureWarning)\n"
          ]
        },
        {
          "output_type": "execute_result",
          "data": {
            "text/plain": [
              "bokmaessan         9858\n",
              "monter             1052\n",
              "svpol               850\n",
              "bokmassangbg        604\n",
              "nya                 595\n",
              "yttrandefrihet      531\n",
              "faar                521\n",
              "amp                 479\n",
              "idag                456\n",
              "ska                 446\n",
              "kom                 411\n",
              "samtal              409\n",
              "goeteborg           400\n",
              "bokmassan           375\n",
              "tider               374\n",
              "aar                 306\n",
              "bok                 284\n",
              "vill                278\n",
              "just                270\n",
              "plats               265\n",
              "kommer              259\n",
              "itorget             247\n",
              "boecker             233\n",
              "finns               227\n",
              "pratar              226\n",
              "tack                216\n",
              "pedagogikscenen     210\n",
              "charlieafnord       204\n",
              "bibliotek           198\n",
              "seminarium          191\n",
              "saeger              184\n",
              "bara                183\n",
              "dag                 183\n",
              "lyssna              182\n",
              "vaelkommen          178\n",
              "c04                 176\n",
              "hos                 176\n",
              "barn                175\n",
              "missa               175\n",
              "skaems              169\n",
              "bra                 169\n",
              "maaste              167\n",
              "igen                167\n",
              "goer                166\n",
              "kolla               165\n",
              "pandark2083         158\n",
              "foerfattare         156\n",
              "skolan              154\n",
              "hoer                153\n",
              "faa                 151\n",
              "dtype: int64"
            ]
          },
          "metadata": {},
          "execution_count": 49
        },
        {
          "output_type": "display_data",
          "data": {
            "text/plain": [
              "<Figure size 720x432 with 1 Axes>"
            ],
            "image/png": "[encoded data removed]"
          },
          "metadata": {
            "needs_background": "light"
          }
        }
      ],
      "source": [
        "more_stop_words = [ \"och\", \"det\", \"att\", \"i\", \"en\", \"jag\", \"hon\", \n",
        "                \"foer\", \"saa\", \"till\", \"aer\", \"men\", \"ett\", \n",
        "                \"som\", \"han\", \"paa\", \"den\", \"med\", \"var\", \"sig\", \n",
        "                \"om\", \"hade\", \"de\", \"av\", \"icke\", \"mig\", \"du\", \n",
        "                \"fraan\", \"ut\", \"naer\", \"efter\", \"upp\", \"vi\", \n",
        "                \"henne\", \"daa\", \"sin\", \"nu\", \"har\", \"inte\", \n",
        "                \"under\", \"naagon\", \"eller\", \"allt\", \"mycket\", \n",
        "                \"min\", \"man\", \"ej\", \"vid\", \"kunde\", \"naagot\", \n",
        "                \"dem\", \"vara\", \"vad\", \"oever\", \"aen\", \"dig\", \n",
        "                \"sedan\", \"ju\", \"denna\", \"sjaelv\", \"detta\", \n",
        "                \"aat\", \"utan\", \"varit\", \"hur\", \"ingen\", \"mitt\", \n",
        "                \"naagra\", \"deras\", \"blir\", \"mina\", \"samma\", \n",
        "                \"ni\", \"bli\", \"blev\", \"oss\", \"din\", \"dessa\", \n",
        "                \"kan\", \"sina\", \"haer\", \"ha\", \"mot\", \"alla\", \n",
        "                \"vilken\", \"er\", \"saadan\", \"vaar\", \"blivit\", \n",
        "                \"sitta\", \"saadana\", \"vart\", \"dina\", \"vars\", \n",
        "                \"varje\", \"vilka\", \"ditt\", \"vem\", \"vilket\", \n",
        "                \"hans\", \"honom\", \"skulle\", \"hennes\", \"daer\", \n",
        "                \"dess\", \"inom\", \"mellan\", \"saadant\", \"varfoer\", \n",
        "                \"vaart\", \"vaara\", \"ert\", \"era\", \"vilka\" ]\n",
        "\n",
        "remove_more_stopwords = lambda x: ' '.join(y for y in x.split() if y not in more_stop_words)\n",
        "tweets_low_no_small_more_stopwords = tweets_low_no_small_stopwords.apply(remove_more_stopwords)\n",
        "top_words_no_small_more_stopwords = plot_top_words(tweets_low_no_small_more_stopwords, 50, 30)\n",
        "top_words_no_small_more_stopwords"
      ]
    },
    {
      "cell_type": "markdown",
      "metadata": {
        "lang": "en",
        "id": "kdKvcpbf2s_E"
      },
      "source": [
        "**Q16.** What stop words did you add and why? Did you notice any further problems?"
      ]
    },
    {
      "cell_type": "markdown",
      "metadata": {
        "id": "8vI39j4Z2s_E"
      },
      "source": [
        "I used some other words that doesn't help in discovering sentiments in the analysis. I didn't noticed any problems. Only that characters like 'ö', 'ä', 'å' are interpreted differently so stop words need to be adapted for that."
      ]
    },
    {
      "cell_type": "markdown",
      "metadata": {
        "lang": "en",
        "id": "mdCNq8xt2s_E"
      },
      "source": [
        "### Visualization of analysis and recommendation\n",
        "\n",
        "Now you will create a visualization that will help you convince the company why they should focus on this particular topic. A common way of visualizing commonly used words in a text is by using a word cloud.\n",
        "\n",
        "You create a word cloud using the following code:"
      ]
    },
    {
      "cell_type": "code",
      "execution_count": 50,
      "metadata": {
        "id": "GpT1I-x-2s_F",
        "colab": {
          "base_uri": "https://localhost:8080/",
          "height": 310
        },
        "outputId": "9437145e-0045-425f-f6f6-af9e322b8dfd"
      },
      "outputs": [
        {
          "output_type": "display_data",
          "data": {
            "text/plain": [
              "<Figure size 720x432 with 1 Axes>"
            ],
            "image/png": "[encoded data removed]"
          },
          "metadata": {
            "needs_background": "light"
          }
        }
      ],
      "source": [
        "from wordcloud import WordCloud\n",
        "import matplotlib.pyplot as plt\n",
        "wordcloud = WordCloud(max_font_size=40)\n",
        "wordcloud.fit_words(top_words_no_small_more_stopwords.to_dict())\n",
        "plt.figure()\n",
        "plt.imshow(wordcloud, interpolation=\"bilinear\")\n",
        "plt.axis(\"off\")\n",
        "plt.show()"
      ]
    },
    {
      "cell_type": "markdown",
      "metadata": {
        "lang": "en",
        "id": "-b_IstED2s_F"
      },
      "source": [
        "The code above creates a word cloud with words from the `top_words_no_small_more_stopwords` list. Run the next cell to generate a word cloud with the `top_words_low_no_small_stopwords` list."
      ]
    },
    {
      "cell_type": "code",
      "execution_count": 51,
      "metadata": {
        "id": "Wjv7_zWM2s_F",
        "colab": {
          "base_uri": "https://localhost:8080/",
          "height": 310
        },
        "outputId": "324aac00-7fd2-4610-f273-3d82833041ff"
      },
      "outputs": [
        {
          "output_type": "display_data",
          "data": {
            "text/plain": [
              "<Figure size 720x432 with 1 Axes>"
            ],
            "image/png": "[encoded data removed]"
          },
          "metadata": {
            "needs_background": "light"
          }
        }
      ],
      "source": [
        "from wordcloud import WordCloud\n",
        "import matplotlib.pyplot as plt\n",
        "wordcloud = WordCloud(max_font_size=40)\n",
        "wordcloud.fit_words(top_words_low_no_small_stopwords.to_dict())\n",
        "plt.figure()\n",
        "plt.imshow(wordcloud, interpolation=\"bilinear\")\n",
        "plt.axis(\"off\")\n",
        "plt.show()"
      ]
    },
    {
      "cell_type": "code",
      "source": [
        "from wordcloud import WordCloud\n",
        "import matplotlib.pyplot as plt\n",
        "wordcloud = WordCloud(max_font_size=40)\n",
        "wordcloud.fit_words(top_words_lowered.to_dict())\n",
        "plt.figure()\n",
        "plt.imshow(wordcloud, interpolation=\"bilinear\")\n",
        "plt.axis(\"off\")\n",
        "plt.show()"
      ],
      "metadata": {
        "colab": {
          "base_uri": "https://localhost:8080/",
          "height": 310
        },
        "id": "XZNgTH9D0uMS",
        "outputId": "b77b461f-07a7-4098-f744-3af2466bc080"
      },
      "execution_count": 53,
      "outputs": [
        {
          "output_type": "display_data",
          "data": {
            "text/plain": [
              "<Figure size 720x432 with 1 Axes>"
            ],
            "image/png": "[encoded data removed]"
          },
          "metadata": {
            "needs_background": "light"
          }
        }
      ]
    },
    {
      "cell_type": "markdown",
      "metadata": {
        "lang": "en",
        "id": "qlY7a36p2s_F"
      },
      "source": [
        "### Compare your word clouds\n",
        "\n",
        "Create word clouds for at least two of your top words lists to compare how the pre-processing has affected the word clouds. You can also change the minimum frequency for a word to end up in the word cloud. If you think any words should be deleted, you can go back to an earlier step and add it to your stop word list and re-run the cells afterwards."
      ]
    },
    {
      "cell_type": "markdown",
      "metadata": {
        "lang": "en",
        "id": "pm43Twk92s_F"
      },
      "source": [
        "**Q17.** Are there any words that are not as informative that you removed to improve visualization? Explain why you removed any additional words."
      ]
    },
    {
      "cell_type": "markdown",
      "metadata": {
        "lang": "en",
        "id": "e3FXHbQe2s_G"
      },
      "source": [
        "I removed some more words like these:\n",
        "\"dess\", \"inom\", \"mellan\", \"saadant\", \"varfoer\", \"vaart\", \"vaara\", \"ert\", \"era\", \"vilka\".\n",
        "\n",
        "These words don't say that much on their own, so I decided to exclude them from the lists."
      ]
    },
    {
      "cell_type": "markdown",
      "metadata": {
        "lang": "en",
        "id": "lwfS8Kub2s_G"
      },
      "source": [
        "**Q18.** What theme would you recommend the book publisher to target next year? Explain your answer."
      ]
    },
    {
      "cell_type": "markdown",
      "metadata": {
        "lang": "en",
        "id": "sALzDRrk2s_G"
      },
      "source": [
        "Freedom of speech is an emerging pattern that seems most relevant. I would therefore recommend that theme. Other top words mostly relate to the event in itself."
      ]
    },
    {
      "cell_type": "markdown",
      "metadata": {
        "lang": "en",
        "id": "237VYh7e2s_G"
      },
      "source": [
        "**Q19.** Now that you have explored some Twitter data, what do you now think are the interesting characteristics of this kind of data? How does it affect how you must pre-process data?"
      ]
    },
    {
      "cell_type": "markdown",
      "metadata": {
        "lang": "en",
        "id": "XQrTCuWP2s_G"
      },
      "source": [
        "This data is particularly interesting since it involves \"innocent\" tweets where people have expressed their opinions which they might not know were gonna be analysed in this manner. Tweets are usually very genuine so this is an interesting and effective way of finding out what people think about certain subjects.\n",
        "\n",
        "The pre-processing contains different techniques like removing emojis and links which might no be included as a step in other pre-processing routines."
      ]
    },
    {
      "cell_type": "markdown",
      "metadata": {
        "id": "6V3Ay3aE2s_G"
      },
      "source": [
        "---\n",
        "You're done with Lab 2a!\n",
        "\n",
        "Choose **Save and Checkpoint** from the **File** menu to save your work.\n",
        "\n",
        "If you are running the labs in Binder (on the cloud), then choose **Download as Notebook** and save it to your computer. \n",
        "\n",
        "You can then move on to [Lab 2b](Lab2b_Association_analysis_for_MatFörAlla.ipynb)."
      ]
    }
  ],
  "metadata": {
    "kernelspec": {
      "display_name": "Python 3",
      "language": "python",
      "name": "python3"
    },
    "language_info": {
      "codemirror_mode": {
        "name": "ipython",
        "version": 3
      },
      "file_extension": ".py",
      "mimetype": "text/x-python",
      "name": "python",
      "nbconvert_exporter": "python",
      "pygments_lexer": "ipython3",
      "version": "3.8.6"
    },
    "latex_envs": {
      "LaTeX_envs_menu_present": true,
      "autoclose": false,
      "autocomplete": true,
      "bibliofile": "biblio.bib",
      "cite_by": "apalike",
      "current_citInitial": 1,
      "eqLabelWithNumbers": true,
      "eqNumInitial": 1,
      "hotkeys": {
        "equation": "Ctrl-E",
        "itemize": "Ctrl-I"
      },
      "labels_anchors": false,
      "latex_user_defs": false,
      "report_style_numbering": false,
      "user_envs_cfg": false
    },
    "nbTranslate": {
      "displayLangs": [],
      "hotkey": "alt-t",
      "langInMainMenu": true,
      "sourceLang": "sv",
      "targetLang": "en",
      "useGoogleTranslate": true
    },
    "colab": {
      "provenance": [],
      "collapsed_sections": []
    }
  },
  "nbformat": 4,
  "nbformat_minor": 0
}