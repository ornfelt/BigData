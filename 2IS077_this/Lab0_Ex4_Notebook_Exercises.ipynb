{
 "cells": [
  {
   "cell_type": "markdown",
   "metadata": {},
   "source": [
    "# Exercise 4: Getting familiar with Notebooks\n",
    "---"
   ]
  },
  {
   "cell_type": "markdown",
   "metadata": {},
   "source": [
    "## Notebook UI"
   ]
  },
  {
   "cell_type": "markdown",
   "metadata": {},
   "source": [
    "### Part 1 - Running code cells"
   ]
  },
  {
   "cell_type": "markdown",
   "metadata": {},
   "source": [
    "Create a new Notebook and create a couple of cells that contain simple Python expressions. \n",
    "\n",
    "Practice shifting between command and edit mode a few times, going back to edit existing cells.\n",
    "\n",
    "Try using `time.sleep(2)` and watch the kernel activity indicator."
   ]
  },
  {
   "cell_type": "code",
   "execution_count": null,
   "metadata": {},
   "outputs": [],
   "source": [
    "from time import sleep\n",
    "sleep(2)"
   ]
  },
  {
   "cell_type": "markdown",
   "metadata": {},
   "source": [
    "### Part 2 - Editing markdown cells"
   ]
  },
  {
   "cell_type": "markdown",
   "metadata": {},
   "source": [
    "Go back to that last Notebook and  add at least one of each cell type.  Practice the following cell operations:\n",
    "\n",
    "* Moving up/down\n",
    "* Cut/Copy/Paste\n",
    "* Merge/Split"
   ]
  },
  {
   "cell_type": "code",
   "execution_count": null,
   "metadata": {},
   "outputs": [],
   "source": []
  },
  {
   "cell_type": "markdown",
   "metadata": {},
   "source": [
    "### Part 3 - Editing and moving cells"
   ]
  },
  {
   "cell_type": "markdown",
   "metadata": {},
   "source": [
    "Go back to that last Notebook and repeat some of those cell operations using keyboard shortcuts:\n",
    "\n",
    "* Inserting cells above/below\n",
    "* Delete cell\n",
    "* Move cell up/down\n",
    "* Cut/copy/paste cell\n",
    "* Changing cell types"
   ]
  },
  {
   "cell_type": "code",
   "execution_count": null,
   "metadata": {},
   "outputs": [],
   "source": []
  },
  {
   "cell_type": "markdown",
   "metadata": {},
   "source": [
    "### Part 4 - Answering questions for the labs (IMPORTANT)"
   ]
  },
  {
   "cell_type": "markdown",
   "metadata": {},
   "source": [
    "Each of the Lab sessions 1-4 will require you to read notebooks and run some code. You will also be asked to provide answers to questions.\n",
    "\n",
    "#### Text answers\n",
    "\n",
    "Some questions will simply ask you to edit a markdown cell and write your answer in the cell immediately after the question text. \n",
    "\n",
    "For example:"
   ]
  },
  {
   "cell_type": "markdown",
   "metadata": {},
   "source": [
    "**Q1.** What processes are involved in data mining?"
   ]
  },
  {
   "cell_type": "markdown",
   "metadata": {},
   "source": [
    "*Edit this cell to type your answer here*"
   ]
  },
  {
   "cell_type": "markdown",
   "metadata": {},
   "source": [
    "Like with text answers, you will be somtimes be presented with a code cell immediately after the question. In this cell you must provide your answer. There will usually be an ellipsis, which is three periods that look like `...` You should **replace the ellipsis** with your answer, then **run the cell**.\n",
    "\n",
    "For example:"
   ]
  },
  {
   "cell_type": "markdown",
   "metadata": {},
   "source": [
    "**Q2.** What is the answer to the equation $1 + 2 \\times 3$?"
   ]
  },
  {
   "cell_type": "code",
   "execution_count": null,
   "metadata": {},
   "outputs": [],
   "source": [
    "my_answer = ...\n",
    "my_answer"
   ]
  },
  {
   "cell_type": "markdown",
   "metadata": {},
   "source": [
    "Some questions might require a list of strings as answers. Strings in Python are enclosed in speech marks like:\n",
    "\n",
    "    \"Hello world!\"\n",
    "    \n",
    "Lists are enclosed in square brackets `[` and `]`, with each item in the list delimited with a comma `,` like:\n",
    "\n",
    "    [\"Hello\", \"world!\"]\n",
    "\n",
    "Like with the previous way of answering in code cells, the ellipsis should be removed when you put your answer. Let us try and example of prodiving a list of strings as an answer to a question in our notebook:"
   ]
  },
  {
   "cell_type": "markdown",
   "metadata": {},
   "source": [
    "**Q3.** What are the first names of each of the members of the pop group ABBA?\n",
    "\n",
    "*If you're not sure who is in ABBA, [check here](https://www.youtube.com/watch?v=z4cSo_O-4zc).*"
   ]
  },
  {
   "cell_type": "code",
   "execution_count": null,
   "metadata": {},
   "outputs": [],
   "source": [
    "abba_names = [ ... ]\n",
    "abba_names"
   ]
  },
  {
   "cell_type": "markdown",
   "metadata": {},
   "source": [
    "## Restarting the kernel"
   ]
  },
  {
   "cell_type": "markdown",
   "metadata": {},
   "source": [
    "Define a variable in a Notebook, then use the \"Kernel:Restart\" menu item to restart the Kernel and verify that the variable has been cleared."
   ]
  },
  {
   "cell_type": "markdown",
   "metadata": {},
   "source": [
    "---\n",
    "**You should now be equipped to begin with [Lab 1](Lab1_Analyzing_Bokmässan_Tweets.ipynb).**"
   ]
  },
  {
   "cell_type": "code",
   "execution_count": null,
   "metadata": {},
   "outputs": [],
   "source": []
  }
 ],
 "metadata": {
  "kernelspec": {
   "display_name": "Python 3",
   "language": "python",
   "name": "python3"
  },
  "language_info": {
   "codemirror_mode": {
    "name": "ipython",
    "version": 3
   },
   "file_extension": ".py",
   "mimetype": "text/x-python",
   "name": "python",
   "nbconvert_exporter": "python",
   "pygments_lexer": "ipython3",
   "version": "3.8.5"
  },
  "nbTranslate": {
   "displayLangs": [
    "*"
   ],
   "hotkey": "alt-t",
   "langInMainMenu": true,
   "sourceLang": "en",
   "targetLang": "fr",
   "useGoogleTranslate": true
  }
 },
 "nbformat": 4,
 "nbformat_minor": 1
}
