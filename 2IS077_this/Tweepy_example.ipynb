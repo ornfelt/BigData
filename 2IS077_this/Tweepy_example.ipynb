{
 "cells": [
  {
   "cell_type": "markdown",
   "metadata": {},
   "source": [
    "Get your own API key and Access Token from Twitter: https://www.gabfirethemes.com/create-twitter-api-key/"
   ]
  },
  {
   "cell_type": "code",
   "execution_count": 5,
   "metadata": {},
   "outputs": [],
   "source": [
    "api_key = 'g5KNGNKSSgZ8eX4UeX1MERiXJ'\n",
    "api_secret = 'Tp7TooiB8dNPlOV1DWDkDiwlIIUKNdWAwtTLhWX7HFmFIBfmpQ'\n",
    "access_token = '213419166-9PRu4R9s4Ce9aC3ckhT5Ro5pWA7gJeLxOOFXYdXj'\n",
    "access_token_secret = 'KCcbChw8cr20xSC6w8M7JgP7m39Lm1NZQfVWGiFQDuBkU'"
   ]
  },
  {
   "cell_type": "code",
   "execution_count": 6,
   "metadata": {},
   "outputs": [],
   "source": [
    "import tweepy"
   ]
  },
  {
   "cell_type": "code",
   "execution_count": 7,
   "metadata": {},
   "outputs": [],
   "source": [
    "auth = tweepy.OAuthHandler(api_key, api_secret)\n",
    "auth.set_access_token(access_token, access_token_secret)\n",
    "api = tweepy.API(auth)"
   ]
  },
  {
   "cell_type": "code",
   "execution_count": 8,
   "metadata": {},
   "outputs": [],
   "source": [
    "users = api.search_users(q='Elon Musk')"
   ]
  },
  {
   "cell_type": "code",
   "execution_count": 9,
   "metadata": {},
   "outputs": [
    {
     "data": {
      "text/plain": [
       "17"
      ]
     },
     "execution_count": 9,
     "metadata": {},
     "output_type": "execute_result"
    }
   ],
   "source": [
    "len(users)"
   ]
  },
  {
   "cell_type": "code",
   "execution_count": 9,
   "metadata": {},
   "outputs": [
    {
     "name": "stdout",
     "output_type": "stream",
     "text": [
      "We found 20 users\n",
      "Elon Musk\n",
      "Elon Musk\n",
      "Elon Musk\n",
      "Elon Musk\n",
      "Elon Musk\n",
      "Elon Musk\n",
      "Elon Musk News\n",
      "steven ''italian elon musk'' monacelli\n",
      "BORED.eth\n",
      "Am I Elon Musk?\n",
      "Evil Elon Musk\n",
      "Elon Musk (for serious Im totally him)\n",
      "Elon Musk (Parody)\n",
      "Elon Musk’s Cow\n",
      "Jenny Yang\n",
      "Matt Steinglass's Elon Musk parody acct 🇺🇸 🇳🇱\n",
      "Elon Musk Fondles Dogs\n",
      "Italian Elon Musk\n",
      "elon musk’s dog\n",
      "not elon musk\n"
     ]
    }
   ],
   "source": [
    "print('We found {} users'.format(len(users)))\n",
    "for user in users:\n",
    "    print(user.name)"
   ]
  },
  {
   "cell_type": "code",
   "execution_count": 10,
   "metadata": {},
   "outputs": [
    {
     "data": {
      "text/plain": [
       "['__class__',\n",
       " '__delattr__',\n",
       " '__dict__',\n",
       " '__dir__',\n",
       " '__doc__',\n",
       " '__eq__',\n",
       " '__format__',\n",
       " '__ge__',\n",
       " '__getattribute__',\n",
       " '__getstate__',\n",
       " '__gt__',\n",
       " '__hash__',\n",
       " '__init__',\n",
       " '__init_subclass__',\n",
       " '__le__',\n",
       " '__lt__',\n",
       " '__module__',\n",
       " '__ne__',\n",
       " '__new__',\n",
       " '__reduce__',\n",
       " '__reduce_ex__',\n",
       " '__repr__',\n",
       " '__setattr__',\n",
       " '__sizeof__',\n",
       " '__slots__',\n",
       " '__str__',\n",
       " '__subclasshook__',\n",
       " '__weakref__',\n",
       " '_api',\n",
       " '_json',\n",
       " 'contributors_enabled',\n",
       " 'created_at',\n",
       " 'default_profile',\n",
       " 'default_profile_image',\n",
       " 'description',\n",
       " 'entities',\n",
       " 'favourites_count',\n",
       " 'follow',\n",
       " 'follow_request_sent',\n",
       " 'follower_ids',\n",
       " 'followers',\n",
       " 'followers_count',\n",
       " 'following',\n",
       " 'friends',\n",
       " 'friends_count',\n",
       " 'geo_enabled',\n",
       " 'has_extended_profile',\n",
       " 'id',\n",
       " 'id_str',\n",
       " 'is_translation_enabled',\n",
       " 'is_translator',\n",
       " 'lang',\n",
       " 'list_memberships',\n",
       " 'list_ownerships',\n",
       " 'list_subscriptions',\n",
       " 'listed_count',\n",
       " 'lists',\n",
       " 'location',\n",
       " 'name',\n",
       " 'notifications',\n",
       " 'parse',\n",
       " 'parse_list',\n",
       " 'profile_background_color',\n",
       " 'profile_background_image_url',\n",
       " 'profile_background_image_url_https',\n",
       " 'profile_background_tile',\n",
       " 'profile_banner_url',\n",
       " 'profile_image_url',\n",
       " 'profile_image_url_https',\n",
       " 'profile_link_color',\n",
       " 'profile_sidebar_border_color',\n",
       " 'profile_sidebar_fill_color',\n",
       " 'profile_text_color',\n",
       " 'profile_use_background_image',\n",
       " 'protected',\n",
       " 'screen_name',\n",
       " 'status',\n",
       " 'statuses_count',\n",
       " 'time_zone',\n",
       " 'timeline',\n",
       " 'translator_type',\n",
       " 'unfollow',\n",
       " 'url',\n",
       " 'utc_offset',\n",
       " 'verified',\n",
       " 'withheld_in_countries']"
      ]
     },
     "execution_count": 10,
     "metadata": {},
     "output_type": "execute_result"
    }
   ],
   "source": [
    "dir(users[0])"
   ]
  },
  {
   "cell_type": "code",
   "execution_count": 11,
   "metadata": {},
   "outputs": [],
   "source": [
    "musk = users[0]"
   ]
  },
  {
   "cell_type": "code",
   "execution_count": 12,
   "metadata": {},
   "outputs": [
    {
     "data": {
      "text/plain": [
       "'elonmusk'"
      ]
     },
     "execution_count": 12,
     "metadata": {},
     "output_type": "execute_result"
    }
   ],
   "source": [
    "musk.screen_name"
   ]
  },
  {
   "cell_type": "code",
   "execution_count": 13,
   "metadata": {},
   "outputs": [
    {
     "data": {
      "text/plain": [
       "117935387"
      ]
     },
     "execution_count": 13,
     "metadata": {},
     "output_type": "execute_result"
    }
   ],
   "source": [
    "musk.followers_count"
   ]
  },
  {
   "cell_type": "code",
   "execution_count": 14,
   "metadata": {},
   "outputs": [
    {
     "data": {
      "text/plain": [
       "117.935387"
      ]
     },
     "execution_count": 14,
     "metadata": {},
     "output_type": "execute_result"
    }
   ],
   "source": [
    "musk.followers_count / (1 * 10 ** 6)"
   ]
  },
  {
   "cell_type": "code",
   "execution_count": 15,
   "metadata": {},
   "outputs": [],
   "source": [
    "musk_tweets = tweepy.Cursor(api.user_timeline, screen_name=musk.screen_name).items(50)"
   ]
  },
  {
   "cell_type": "code",
   "execution_count": 16,
   "metadata": {},
   "outputs": [
    {
     "name": "stdout",
     "output_type": "stream",
     "text": [
      "@KimDotcom @SamHarrisOrg My firstborn child died in my arms. I felt his last heartbeat. \n",
      "\n",
      "I have no mercy for anyon… https://t.co/s8vsRUO3HC\n",
      "@teslaownersSV @EvaFoxU Oh man, that’s a long story, but if we haven’t cut response time in half by end of year, I… https://t.co/TFkXWUJjkw\n",
      "@BLKMDL3 @EvaFoxU Latter\n",
      "@teslaownersSV @EvaFoxU Yes, major focus on video overall\n",
      "@EvaFoxU Priority #1\n",
      "@SamHarrisOrg Suffer little children, and forbid them not, to come unto me: for of such is the kingdom of heaven\n",
      "@EvaFoxU Falcon is powered by 9 merkins!\n",
      "Our love will never die https://t.co/y5SldfAAt0\n",
      "And lead us not into temptation … https://t.co/8qNOXzwXS9\n",
      "@EvaFoxU So tempting …\n",
      "@HappyJesse Yes\n",
      "@kanyewest Don’t kill what ye hate\n",
      "Save what ye love\n",
      "@teslaownersSV @kcoleman Making good progress. Still tracking to wide release next month.\n",
      "World Cup Qatar 2022: Opening Ceremony\n",
      "https://t.co/TjSSitY7fK\n",
      "@TimRunsHisMouth So you say “mainstream media” is biased? \n",
      "\n",
      "Hmm, will have to fact-check that with mainstream media… https://t.co/YZQEhyu601\n",
      "@RaheemKassam They just can’t stop writing about Twitter, which is driving usage through roof lmao\n",
      "@catturd2 One thing is for sure: it’s not boring https://t.co/47uPkl88gZ\n",
      "@kcoleman Exactly\n",
      "@stillgray @mtaibbi “All the news that’s fit to print” my ass\n",
      "@CBSNewsPress 🤭\n",
      "@Starbie888 @NateSilver538 [Cue Spider-Man meme]\n",
      "@Starbie888 @NateSilver538 What could be more fun than a social network consisting entirely of hall monitors!?\n",
      "@NateSilver538 🤣🤣💯🎯\n",
      "@mtaibbi It is tragic how far The New York Times has fallen – basically just boring af far left brainwashing at thi… https://t.co/GOktTCHe2N\n",
      "World Cup starts soon! Follow on Twitter for best coverage by far.\n",
      "@WholeMarsBlog 🤣\n",
      "@TomFitton Sure as night follows day …\n",
      "@JGreenblattADL @ADL Hey stop defaming me!\n",
      "@naiivememe 🔥🔥\n",
      "Twitter is ALIVE\n",
      "@EMTSLA @teslaownersSV @RaheemKassam @nypost Good idea\n",
      "@teslaownersSV @RaheemKassam @nypost Their posts are super boring\n",
      "@RaheemKassam @nypost They should bring Walter Cronkite back\n",
      "@nypost Oh forget it who cares\n",
      "@RenataKonkoly @nypost 🤣💯\n",
      "@nypost Who made this decision?\n",
      "@BuzzPatterson 😉\n",
      "@KimDotcom Twitter engineering is working on it\n",
      "RT @Tesla: Inside Tesla exhibit at Petersen Automotive Museum opens tomorrow https://t.co/qU3IickfBw\n",
      "@sriramk Server load is insane rn. Good stress test before World Cup tomorrow!\n",
      "@DavidSacks Well-said\n",
      "@LefterisJP Lmaooo\n",
      "RT @TrungTPhan: Twitter servers right now https://t.co/f65xDOb981\n",
      "@TrungTPhan 🤣🤣\n",
      "The people have spoken. \n",
      "\n",
      "Trump will be reinstated.\n",
      "\n",
      "Vox Populi, Vox Dei. https://t.co/jmkhFuyfkv\n",
      "@TheBabylonBee 🤣 but actually\n",
      "@MomAngtrades 🤣\n",
      "134M people have seen this poll\n",
      "@TrungTPhan Red Bull does work tbh\n",
      "@BillyM2k @lexfridman Definitely need to improve Twitter’s dopamine/cortisol ratio!\n"
     ]
    }
   ],
   "source": [
    "for tweet in musk_tweets:\n",
    "    print(tweet.text)"
   ]
  },
  {
   "cell_type": "code",
   "execution_count": 17,
   "metadata": {},
   "outputs": [],
   "source": [
    "musk_tweets = tweepy.Cursor(api.user_timeline, screen_name=musk.screen_name).items(50)"
   ]
  },
  {
   "cell_type": "code",
   "execution_count": 18,
   "metadata": {},
   "outputs": [],
   "source": [
    "tweet1 = next(musk_tweets)"
   ]
  },
  {
   "cell_type": "code",
   "execution_count": 19,
   "metadata": {
    "scrolled": true
   },
   "outputs": [
    {
     "data": {
      "text/plain": [
       "{'hashtags': [],\n",
       " 'symbols': [],\n",
       " 'user_mentions': [{'screen_name': 'KimDotcom',\n",
       "   'name': 'Kim Dotcom',\n",
       "   'id': 611986351,\n",
       "   'id_str': '611986351',\n",
       "   'indices': [0, 10]},\n",
       "  {'screen_name': 'SamHarrisOrg',\n",
       "   'name': 'Sam Harris',\n",
       "   'id': 116994659,\n",
       "   'id_str': '116994659',\n",
       "   'indices': [11, 24]}],\n",
       " 'urls': [{'url': 'https://t.co/s8vsRUO3HC',\n",
       "   'expanded_url': 'https://twitter.com/i/web/status/1594552252865384450',\n",
       "   'display_url': 'twitter.com/i/web/status/1…',\n",
       "   'indices': [117, 140]}]}"
      ]
     },
     "execution_count": 19,
     "metadata": {},
     "output_type": "execute_result"
    }
   ],
   "source": [
    "tweet1.entities"
   ]
  },
  {
   "cell_type": "code",
   "execution_count": 29,
   "metadata": {},
   "outputs": [
    {
     "data": {
      "text/html": [
       "<div>\n",
       "<style scoped>\n",
       "    .dataframe tbody tr th:only-of-type {\n",
       "        vertical-align: middle;\n",
       "    }\n",
       "\n",
       "    .dataframe tbody tr th {\n",
       "        vertical-align: top;\n",
       "    }\n",
       "\n",
       "    .dataframe thead th {\n",
       "        text-align: right;\n",
       "    }\n",
       "</style>\n",
       "<table border=\"1\" class=\"dataframe\">\n",
       "  <thead>\n",
       "    <tr style=\"text-align: right;\">\n",
       "      <th></th>\n",
       "      <th>Tweets</th>\n",
       "    </tr>\n",
       "  </thead>\n",
       "  <tbody>\n",
       "    <tr>\n",
       "      <th>0</th>\n",
       "      <td>To all of those who have asked, I will not be ...</td>\n",
       "    </tr>\n",
       "    <tr>\n",
       "      <th>1</th>\n",
       "      <td>The 75,000,000 great American Patriots who vot...</td>\n",
       "    </tr>\n",
       "    <tr>\n",
       "      <th>2</th>\n",
       "      <td>https://t.co/csX07ZVWGe</td>\n",
       "    </tr>\n",
       "    <tr>\n",
       "      <th>3</th>\n",
       "      <td>I am asking for everyone at the U.S. Capitol t...</td>\n",
       "    </tr>\n",
       "    <tr>\n",
       "      <th>4</th>\n",
       "      <td>Please support our Capitol Police and Law Enfo...</td>\n",
       "    </tr>\n",
       "    <tr>\n",
       "      <th>5</th>\n",
       "      <td>https://t.co/izItBeFE6G</td>\n",
       "    </tr>\n",
       "    <tr>\n",
       "      <th>6</th>\n",
       "      <td>These scoundrels are only toying with the @sen...</td>\n",
       "    </tr>\n",
       "    <tr>\n",
       "      <th>7</th>\n",
       "      <td>Even Mexico uses Voter I.D.</td>\n",
       "    </tr>\n",
       "    <tr>\n",
       "      <th>8</th>\n",
       "      <td>The States want to redo their votes. They foun...</td>\n",
       "    </tr>\n",
       "    <tr>\n",
       "      <th>9</th>\n",
       "      <td>They just happened to find 50,000 ballots late...</td>\n",
       "    </tr>\n",
       "  </tbody>\n",
       "</table>\n",
       "</div>"
      ],
      "text/plain": [
       "                                              Tweets\n",
       "0  To all of those who have asked, I will not be ...\n",
       "1  The 75,000,000 great American Patriots who vot...\n",
       "2                            https://t.co/csX07ZVWGe\n",
       "3  I am asking for everyone at the U.S. Capitol t...\n",
       "4  Please support our Capitol Police and Law Enfo...\n",
       "5                            https://t.co/izItBeFE6G\n",
       "6  These scoundrels are only toying with the @sen...\n",
       "7                        Even Mexico uses Voter I.D.\n",
       "8  The States want to redo their votes. They foun...\n",
       "9  They just happened to find 50,000 ballots late..."
      ]
     },
     "execution_count": 29,
     "metadata": {},
     "output_type": "execute_result"
    }
   ],
   "source": [
    "import pandas as pd\n",
    "tweets = api.user_timeline(screen_name=\"realDonaldTrump\", count=200)\n",
    "data = pd.DataFrame(data=[tweet.text for tweet in tweets], columns=['Tweets'])\n",
    "data.head(10)"
   ]
  },
  {
   "cell_type": "code",
   "execution_count": 32,
   "metadata": {},
   "outputs": [
    {
     "ename": "TypeError",
     "evalue": "'DataFrame' object is not an iterator",
     "output_type": "error",
     "traceback": [
      "\u001b[0;31m---------------------------------------------------------------------------\u001b[0m",
      "\u001b[0;31mTypeError\u001b[0m                                 Traceback (most recent call last)",
      "Input \u001b[0;32mIn [32]\u001b[0m, in \u001b[0;36m<cell line: 1>\u001b[0;34m()\u001b[0m\n\u001b[0;32m----> 1\u001b[0m \u001b[38;5;28;43mnext\u001b[39;49m\u001b[43m(\u001b[49m\u001b[43mdata\u001b[49m\u001b[43m)\u001b[49m\n",
      "\u001b[0;31mTypeError\u001b[0m: 'DataFrame' object is not an iterator"
     ]
    }
   ],
   "source": []
  },
  {
   "cell_type": "code",
   "execution_count": 30,
   "metadata": {},
   "outputs": [
    {
     "data": {
      "text/html": [
       "<div>\n",
       "<style scoped>\n",
       "    .dataframe tbody tr th:only-of-type {\n",
       "        vertical-align: middle;\n",
       "    }\n",
       "\n",
       "    .dataframe tbody tr th {\n",
       "        vertical-align: top;\n",
       "    }\n",
       "\n",
       "    .dataframe thead th {\n",
       "        text-align: right;\n",
       "    }\n",
       "</style>\n",
       "<table border=\"1\" class=\"dataframe\">\n",
       "  <thead>\n",
       "    <tr style=\"text-align: right;\">\n",
       "      <th></th>\n",
       "      <th>Tweets</th>\n",
       "    </tr>\n",
       "  </thead>\n",
       "  <tbody>\n",
       "    <tr>\n",
       "      <th>0</th>\n",
       "      <td>To all of those who have asked, I will not be ...</td>\n",
       "    </tr>\n",
       "    <tr>\n",
       "      <th>1</th>\n",
       "      <td>The 75,000,000 great American Patriots who vot...</td>\n",
       "    </tr>\n",
       "    <tr>\n",
       "      <th>2</th>\n",
       "      <td>https://t.co/csX07ZVWGe</td>\n",
       "    </tr>\n",
       "    <tr>\n",
       "      <th>3</th>\n",
       "      <td>I am asking for everyone at the U.S. Capitol t...</td>\n",
       "    </tr>\n",
       "    <tr>\n",
       "      <th>4</th>\n",
       "      <td>Please support our Capitol Police and Law Enfo...</td>\n",
       "    </tr>\n",
       "    <tr>\n",
       "      <th>5</th>\n",
       "      <td>https://t.co/izItBeFE6G</td>\n",
       "    </tr>\n",
       "    <tr>\n",
       "      <th>6</th>\n",
       "      <td>These scoundrels are only toying with the @sen...</td>\n",
       "    </tr>\n",
       "    <tr>\n",
       "      <th>7</th>\n",
       "      <td>Even Mexico uses Voter I.D.</td>\n",
       "    </tr>\n",
       "    <tr>\n",
       "      <th>8</th>\n",
       "      <td>The States want to redo their votes. They foun...</td>\n",
       "    </tr>\n",
       "    <tr>\n",
       "      <th>9</th>\n",
       "      <td>They just happened to find 50,000 ballots late...</td>\n",
       "    </tr>\n",
       "    <tr>\n",
       "      <th>10</th>\n",
       "      <td>THE REPUBLICAN PARTY AND, MORE IMPORTANTLY, OU...</td>\n",
       "    </tr>\n",
       "    <tr>\n",
       "      <th>11</th>\n",
       "      <td>States want to correct their votes, which they...</td>\n",
       "    </tr>\n",
       "    <tr>\n",
       "      <th>12</th>\n",
       "      <td>Sleepy Eyes Chuck Todd is so happy with the fa...</td>\n",
       "    </tr>\n",
       "    <tr>\n",
       "      <th>13</th>\n",
       "      <td>If Vice President @Mike_Pence comes through fo...</td>\n",
       "    </tr>\n",
       "    <tr>\n",
       "      <th>14</th>\n",
       "      <td>RT @DanScavino: 🔊WOW! We hear you from the Wes...</td>\n",
       "    </tr>\n",
       "    <tr>\n",
       "      <th>15</th>\n",
       "      <td>RT @christina_bobb: Pennsylvania is going to T...</td>\n",
       "    </tr>\n",
       "    <tr>\n",
       "      <th>16</th>\n",
       "      <td>Get smart Republicans. FIGHT! https://t.co/3fs...</td>\n",
       "    </tr>\n",
       "    <tr>\n",
       "      <th>17</th>\n",
       "      <td>RT @TomiLahren: I wonder when the water main i...</td>\n",
       "    </tr>\n",
       "    <tr>\n",
       "      <th>18</th>\n",
       "      <td>RT @TomiLahren: Democrats scrounging up votes ...</td>\n",
       "    </tr>\n",
       "    <tr>\n",
       "      <th>19</th>\n",
       "      <td>RT @TomiLahren: The steal is in the making in ...</td>\n",
       "    </tr>\n",
       "  </tbody>\n",
       "</table>\n",
       "</div>"
      ],
      "text/plain": [
       "                                               Tweets\n",
       "0   To all of those who have asked, I will not be ...\n",
       "1   The 75,000,000 great American Patriots who vot...\n",
       "2                             https://t.co/csX07ZVWGe\n",
       "3   I am asking for everyone at the U.S. Capitol t...\n",
       "4   Please support our Capitol Police and Law Enfo...\n",
       "5                             https://t.co/izItBeFE6G\n",
       "6   These scoundrels are only toying with the @sen...\n",
       "7                         Even Mexico uses Voter I.D.\n",
       "8   The States want to redo their votes. They foun...\n",
       "9   They just happened to find 50,000 ballots late...\n",
       "10  THE REPUBLICAN PARTY AND, MORE IMPORTANTLY, OU...\n",
       "11  States want to correct their votes, which they...\n",
       "12  Sleepy Eyes Chuck Todd is so happy with the fa...\n",
       "13  If Vice President @Mike_Pence comes through fo...\n",
       "14  RT @DanScavino: 🔊WOW! We hear you from the Wes...\n",
       "15  RT @christina_bobb: Pennsylvania is going to T...\n",
       "16  Get smart Republicans. FIGHT! https://t.co/3fs...\n",
       "17  RT @TomiLahren: I wonder when the water main i...\n",
       "18  RT @TomiLahren: Democrats scrounging up votes ...\n",
       "19  RT @TomiLahren: The steal is in the making in ..."
      ]
     },
     "execution_count": 30,
     "metadata": {},
     "output_type": "execute_result"
    }
   ],
   "source": [
    "data.head(20)"
   ]
  },
  {
   "cell_type": "code",
   "execution_count": 33,
   "metadata": {},
   "outputs": [
    {
     "data": {
      "text/html": [
       "<div>\n",
       "<style scoped>\n",
       "    .dataframe tbody tr th:only-of-type {\n",
       "        vertical-align: middle;\n",
       "    }\n",
       "\n",
       "    .dataframe tbody tr th {\n",
       "        vertical-align: top;\n",
       "    }\n",
       "\n",
       "    .dataframe thead th {\n",
       "        text-align: right;\n",
       "    }\n",
       "</style>\n",
       "<table border=\"1\" class=\"dataframe\">\n",
       "  <thead>\n",
       "    <tr style=\"text-align: right;\">\n",
       "      <th></th>\n",
       "      <th>Tweets</th>\n",
       "      <th>Date</th>\n",
       "    </tr>\n",
       "  </thead>\n",
       "  <tbody>\n",
       "    <tr>\n",
       "      <th>0</th>\n",
       "      <td>To all of those who have asked, I will not be ...</td>\n",
       "      <td>2021-01-08 15:44:28+00:00</td>\n",
       "    </tr>\n",
       "    <tr>\n",
       "      <th>1</th>\n",
       "      <td>The 75,000,000 great American Patriots who vot...</td>\n",
       "      <td>2021-01-08 14:46:38+00:00</td>\n",
       "    </tr>\n",
       "    <tr>\n",
       "      <th>2</th>\n",
       "      <td>https://t.co/csX07ZVWGe</td>\n",
       "      <td>2021-01-08 00:10:24+00:00</td>\n",
       "    </tr>\n",
       "    <tr>\n",
       "      <th>3</th>\n",
       "      <td>I am asking for everyone at the U.S. Capitol t...</td>\n",
       "      <td>2021-01-06 20:13:26+00:00</td>\n",
       "    </tr>\n",
       "    <tr>\n",
       "      <th>4</th>\n",
       "      <td>Please support our Capitol Police and Law Enfo...</td>\n",
       "      <td>2021-01-06 19:38:58+00:00</td>\n",
       "    </tr>\n",
       "    <tr>\n",
       "      <th>...</th>\n",
       "      <td>...</td>\n",
       "      <td>...</td>\n",
       "    </tr>\n",
       "    <tr>\n",
       "      <th>186</th>\n",
       "      <td>RT @LindseyGrahamSC: @realDonaldTrump Congress...</td>\n",
       "      <td>2020-12-28 21:37:52+00:00</td>\n",
       "    </tr>\n",
       "    <tr>\n",
       "      <th>187</th>\n",
       "      <td>“Breaking News: In Pennsylvania there were 205...</td>\n",
       "      <td>2020-12-28 21:00:35+00:00</td>\n",
       "    </tr>\n",
       "    <tr>\n",
       "      <th>188</th>\n",
       "      <td>RT @marklevinshow: Helter Stelter, Fake Tapper...</td>\n",
       "      <td>2020-12-28 20:53:31+00:00</td>\n",
       "    </tr>\n",
       "    <tr>\n",
       "      <th>189</th>\n",
       "      <td>Good news on Covid Relief Bill. Information to...</td>\n",
       "      <td>2020-12-27 23:21:03+00:00</td>\n",
       "    </tr>\n",
       "    <tr>\n",
       "      <th>190</th>\n",
       "      <td>See you in Washington, DC, on January 6th. Don...</td>\n",
       "      <td>2020-12-27 22:51:36+00:00</td>\n",
       "    </tr>\n",
       "  </tbody>\n",
       "</table>\n",
       "<p>191 rows × 2 columns</p>\n",
       "</div>"
      ],
      "text/plain": [
       "                                                Tweets  \\\n",
       "0    To all of those who have asked, I will not be ...   \n",
       "1    The 75,000,000 great American Patriots who vot...   \n",
       "2                              https://t.co/csX07ZVWGe   \n",
       "3    I am asking for everyone at the U.S. Capitol t...   \n",
       "4    Please support our Capitol Police and Law Enfo...   \n",
       "..                                                 ...   \n",
       "186  RT @LindseyGrahamSC: @realDonaldTrump Congress...   \n",
       "187  “Breaking News: In Pennsylvania there were 205...   \n",
       "188  RT @marklevinshow: Helter Stelter, Fake Tapper...   \n",
       "189  Good news on Covid Relief Bill. Information to...   \n",
       "190  See you in Washington, DC, on January 6th. Don...   \n",
       "\n",
       "                         Date  \n",
       "0   2021-01-08 15:44:28+00:00  \n",
       "1   2021-01-08 14:46:38+00:00  \n",
       "2   2021-01-08 00:10:24+00:00  \n",
       "3   2021-01-06 20:13:26+00:00  \n",
       "4   2021-01-06 19:38:58+00:00  \n",
       "..                        ...  \n",
       "186 2020-12-28 21:37:52+00:00  \n",
       "187 2020-12-28 21:00:35+00:00  \n",
       "188 2020-12-28 20:53:31+00:00  \n",
       "189 2020-12-27 23:21:03+00:00  \n",
       "190 2020-12-27 22:51:36+00:00  \n",
       "\n",
       "[191 rows x 2 columns]"
      ]
     },
     "execution_count": 33,
     "metadata": {},
     "output_type": "execute_result"
    }
   ],
   "source": [
    "data['Date'] = [x.created_at for x in tweets]\n",
    "data"
   ]
  },
  {
   "cell_type": "code",
   "execution_count": 34,
   "metadata": {},
   "outputs": [],
   "source": [
    "data['len']  = [len(x.text) for x in tweets]  # number of characters in a tweet (think length)\n",
    "data['ID']   = [x.id for x in tweets]\n",
    "data['Source'] = [x.source for x in tweets]\n",
    "data['Likes']  = [x.favorite_count for x in tweets] # favorite_count\n",
    "data['RTs']    =  [x.retweet_count for x in tweets]  # retweet count"
   ]
  },
  {
   "cell_type": "code",
   "execution_count": 35,
   "metadata": {},
   "outputs": [
    {
     "data": {
      "text/html": [
       "<div>\n",
       "<style scoped>\n",
       "    .dataframe tbody tr th:only-of-type {\n",
       "        vertical-align: middle;\n",
       "    }\n",
       "\n",
       "    .dataframe tbody tr th {\n",
       "        vertical-align: top;\n",
       "    }\n",
       "\n",
       "    .dataframe thead th {\n",
       "        text-align: right;\n",
       "    }\n",
       "</style>\n",
       "<table border=\"1\" class=\"dataframe\">\n",
       "  <thead>\n",
       "    <tr style=\"text-align: right;\">\n",
       "      <th></th>\n",
       "      <th>Tweets</th>\n",
       "      <th>Date</th>\n",
       "      <th>len</th>\n",
       "      <th>ID</th>\n",
       "      <th>Source</th>\n",
       "      <th>Likes</th>\n",
       "      <th>RTs</th>\n",
       "    </tr>\n",
       "  </thead>\n",
       "  <tbody>\n",
       "    <tr>\n",
       "      <th>0</th>\n",
       "      <td>To all of those who have asked, I will not be ...</td>\n",
       "      <td>2021-01-08 15:44:28+00:00</td>\n",
       "      <td>88</td>\n",
       "      <td>1347569870578266115</td>\n",
       "      <td>Twitter for iPhone</td>\n",
       "      <td>574628</td>\n",
       "      <td>74334</td>\n",
       "    </tr>\n",
       "    <tr>\n",
       "      <th>1</th>\n",
       "      <td>The 75,000,000 great American Patriots who vot...</td>\n",
       "      <td>2021-01-08 14:46:38+00:00</td>\n",
       "      <td>140</td>\n",
       "      <td>1347555316863553542</td>\n",
       "      <td>Twitter for iPhone</td>\n",
       "      <td>478001</td>\n",
       "      <td>82828</td>\n",
       "    </tr>\n",
       "    <tr>\n",
       "      <th>2</th>\n",
       "      <td>https://t.co/csX07ZVWGe</td>\n",
       "      <td>2021-01-08 00:10:24+00:00</td>\n",
       "      <td>23</td>\n",
       "      <td>1347334804052844550</td>\n",
       "      <td>Twitter Media Studio</td>\n",
       "      <td>602611</td>\n",
       "      <td>123250</td>\n",
       "    </tr>\n",
       "    <tr>\n",
       "      <th>3</th>\n",
       "      <td>I am asking for everyone at the U.S. Capitol t...</td>\n",
       "      <td>2021-01-06 20:13:26+00:00</td>\n",
       "      <td>144</td>\n",
       "      <td>1346912780700577792</td>\n",
       "      <td>Twitter for iPhone</td>\n",
       "      <td>671463</td>\n",
       "      <td>130400</td>\n",
       "    </tr>\n",
       "    <tr>\n",
       "      <th>4</th>\n",
       "      <td>Please support our Capitol Police and Law Enfo...</td>\n",
       "      <td>2021-01-06 19:38:58+00:00</td>\n",
       "      <td>112</td>\n",
       "      <td>1346904110969315332</td>\n",
       "      <td>Twitter for iPhone</td>\n",
       "      <td>517661</td>\n",
       "      <td>84779</td>\n",
       "    </tr>\n",
       "    <tr>\n",
       "      <th>5</th>\n",
       "      <td>https://t.co/izItBeFE6G</td>\n",
       "      <td>2021-01-06 18:49:54+00:00</td>\n",
       "      <td>23</td>\n",
       "      <td>1346891760174329859</td>\n",
       "      <td>Twitter for iPhone</td>\n",
       "      <td>199242</td>\n",
       "      <td>39491</td>\n",
       "    </tr>\n",
       "    <tr>\n",
       "      <th>6</th>\n",
       "      <td>These scoundrels are only toying with the @sen...</td>\n",
       "      <td>2021-01-06 15:44:31+00:00</td>\n",
       "      <td>140</td>\n",
       "      <td>1346845109736845318</td>\n",
       "      <td>Twitter for iPhone</td>\n",
       "      <td>185608</td>\n",
       "      <td>32392</td>\n",
       "    </tr>\n",
       "    <tr>\n",
       "      <th>7</th>\n",
       "      <td>Even Mexico uses Voter I.D.</td>\n",
       "      <td>2021-01-06 14:16:30+00:00</td>\n",
       "      <td>27</td>\n",
       "      <td>1346822958006886400</td>\n",
       "      <td>Twitter for iPhone</td>\n",
       "      <td>384038</td>\n",
       "      <td>52075</td>\n",
       "    </tr>\n",
       "    <tr>\n",
       "      <th>8</th>\n",
       "      <td>The States want to redo their votes. They foun...</td>\n",
       "      <td>2021-01-06 14:15:07+00:00</td>\n",
       "      <td>130</td>\n",
       "      <td>1346822610957561858</td>\n",
       "      <td>Twitter for iPhone</td>\n",
       "      <td>229551</td>\n",
       "      <td>40415</td>\n",
       "    </tr>\n",
       "    <tr>\n",
       "      <th>9</th>\n",
       "      <td>They just happened to find 50,000 ballots late...</td>\n",
       "      <td>2021-01-06 14:00:12+00:00</td>\n",
       "      <td>140</td>\n",
       "      <td>1346818855298072576</td>\n",
       "      <td>Twitter for iPhone</td>\n",
       "      <td>288211</td>\n",
       "      <td>56309</td>\n",
       "    </tr>\n",
       "  </tbody>\n",
       "</table>\n",
       "</div>"
      ],
      "text/plain": [
       "                                              Tweets  \\\n",
       "0  To all of those who have asked, I will not be ...   \n",
       "1  The 75,000,000 great American Patriots who vot...   \n",
       "2                            https://t.co/csX07ZVWGe   \n",
       "3  I am asking for everyone at the U.S. Capitol t...   \n",
       "4  Please support our Capitol Police and Law Enfo...   \n",
       "5                            https://t.co/izItBeFE6G   \n",
       "6  These scoundrels are only toying with the @sen...   \n",
       "7                        Even Mexico uses Voter I.D.   \n",
       "8  The States want to redo their votes. They foun...   \n",
       "9  They just happened to find 50,000 ballots late...   \n",
       "\n",
       "                       Date  len                   ID                Source  \\\n",
       "0 2021-01-08 15:44:28+00:00   88  1347569870578266115    Twitter for iPhone   \n",
       "1 2021-01-08 14:46:38+00:00  140  1347555316863553542    Twitter for iPhone   \n",
       "2 2021-01-08 00:10:24+00:00   23  1347334804052844550  Twitter Media Studio   \n",
       "3 2021-01-06 20:13:26+00:00  144  1346912780700577792    Twitter for iPhone   \n",
       "4 2021-01-06 19:38:58+00:00  112  1346904110969315332    Twitter for iPhone   \n",
       "5 2021-01-06 18:49:54+00:00   23  1346891760174329859    Twitter for iPhone   \n",
       "6 2021-01-06 15:44:31+00:00  140  1346845109736845318    Twitter for iPhone   \n",
       "7 2021-01-06 14:16:30+00:00   27  1346822958006886400    Twitter for iPhone   \n",
       "8 2021-01-06 14:15:07+00:00  130  1346822610957561858    Twitter for iPhone   \n",
       "9 2021-01-06 14:00:12+00:00  140  1346818855298072576    Twitter for iPhone   \n",
       "\n",
       "    Likes     RTs  \n",
       "0  574628   74334  \n",
       "1  478001   82828  \n",
       "2  602611  123250  \n",
       "3  671463  130400  \n",
       "4  517661   84779  \n",
       "5  199242   39491  \n",
       "6  185608   32392  \n",
       "7  384038   52075  \n",
       "8  229551   40415  \n",
       "9  288211   56309  "
      ]
     },
     "metadata": {},
     "output_type": "display_data"
    }
   ],
   "source": [
    "display(data.head(10))"
   ]
  },
  {
   "cell_type": "code",
   "execution_count": 36,
   "metadata": {},
   "outputs": [
    {
     "name": "stdout",
     "output_type": "stream",
     "text": [
      "The tweet with more retweets is: \n",
      "I am asking for everyone at the U.S. Capitol to remain peaceful. No violence! Remember, WE are the Party of Law &amp; O… https://t.co/XWZnbZWwze\n",
      "Number of retweets: 130400\n",
      "144 characters.\n",
      "\n"
     ]
    }
   ],
   "source": [
    "import numpy as np\n",
    "rt_max = data['RTs'].max()\n",
    "rt_tweet = data[data['RTs'] == rt_max]\n",
    "# Max RTs:\n",
    "print(\"The tweet with more retweets is: \\n{}\".format(np.array(rt_tweet['Tweets'])[0]))\n",
    "print(\"Number of retweets: {}\".format(rt_max))\n",
    "print(\"{} characters.\\n\".format(np.array(rt_tweet['len'])[0]))"
   ]
  },
  {
   "cell_type": "code",
   "execution_count": 37,
   "metadata": {},
   "outputs": [],
   "source": [
    "# We can create a time series of tweet length like this\n",
    "tlen = pd.Series(data=data['len'].values, index=data['Date'])"
   ]
  },
  {
   "cell_type": "code",
   "execution_count": 38,
   "metadata": {},
   "outputs": [
    {
     "data": {
      "text/plain": [
       "<AxesSubplot:xlabel='Date'>"
      ]
     },
     "execution_count": 38,
     "metadata": {},
     "output_type": "execute_result"
    },
    {
     "data": {
      "image/png": "[encoded data removed]",
      "text/plain": [
       "<Figure size 1152x288 with 1 Axes>"
      ]
     },
     "metadata": {
      "needs_background": "light"
     },
     "output_type": "display_data"
    }
   ],
   "source": [
    "# ...and plot it against time\n",
    "tlen.plot(figsize=(16,4), color='r')"
   ]
  },
  {
   "cell_type": "code",
   "execution_count": 39,
   "metadata": {},
   "outputs": [
    {
     "data": {
      "text/plain": [
       "<AxesSubplot:xlabel='Date'>"
      ]
     },
     "execution_count": 39,
     "metadata": {},
     "output_type": "execute_result"
    },
    {
     "data": {
      "image/png": "[encoded data removed]",
      "text/plain": [
       "<Figure size 1152x288 with 1 Axes>"
      ]
     },
     "metadata": {
      "needs_background": "light"
     },
     "output_type": "display_data"
    }
   ],
   "source": [
    "# Plot a likes vs retweets visualization, by getting the time series \n",
    "# for favourites and of retweets\n",
    "tfav = pd.Series(data=data['Likes'].values, index=data['Date'])\n",
    "tret = pd.Series(data=data['RTs'].values, index=data['Date'])\n",
    "\n",
    "tfav.plot(figsize=(16,4), label=\"Likes\", legend=True)\n",
    "tret.plot(figsize=(16,4), label=\"Retweets\", legend=True)"
   ]
  },
  {
   "cell_type": "code",
   "execution_count": null,
   "metadata": {},
   "outputs": [],
   "source": []
  },
  {
   "cell_type": "code",
   "execution_count": null,
   "metadata": {},
   "outputs": [],
   "source": []
  }
 ],
 "metadata": {
  "kernelspec": {
   "display_name": "Python 3 (ipykernel)",
   "language": "python",
   "name": "python3"
  },
  "language_info": {
   "codemirror_mode": {
    "name": "ipython",
    "version": 3
   },
   "file_extension": ".py",
   "mimetype": "text/x-python",
   "name": "python",
   "nbconvert_exporter": "python",
   "pygments_lexer": "ipython3",
   "version": "3.9.12"
  }
 },
 "nbformat": 4,
 "nbformat_minor": 1
}
