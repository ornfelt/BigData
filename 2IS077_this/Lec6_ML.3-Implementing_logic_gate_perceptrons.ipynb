{
 "cells": [
  {
   "cell_type": "markdown",
   "metadata": {},
   "source": [
    "# 3 - Implementing logic gate perceptrons\n",
    "\n",
    "In this notebook, we use out 1- and 2-input perceptrons to implement logic gates."
   ]
  },
  {
   "cell_type": "code",
   "execution_count": 1,
   "metadata": {},
   "outputs": [],
   "source": [
    "# The step function gives an output of 1 when the input exceeds a certain threshold. \n",
    "def step_function(x, threshold):\n",
    "    if x < threshold:\n",
    "        return 0\n",
    "    elif x >= threshold:\n",
    "        return 1"
   ]
  },
  {
   "cell_type": "code",
   "execution_count": 2,
   "metadata": {},
   "outputs": [],
   "source": [
    "class Perceptron2():\n",
    "    \"\"\"This class implements a 2-input perceptron.\"\"\"\n",
    "    \n",
    "    def __init__(self, w1, w2, threshold, activation_function):\n",
    "        self.w1 = w1\n",
    "        self.w2 = w2\n",
    "        self.threshold = threshold\n",
    "        self.activation_function = activation_function\n",
    "    \n",
    "    def activate(self, x1, x2):\n",
    "        output = self.activation_function(sum([x1 * self.w1, x2 * self.w2]), self.threshold)\n",
    "        return output"
   ]
  },
  {
   "cell_type": "markdown",
   "metadata": {},
   "source": [
    "#### AND truth table\n",
    "\n",
    "| $P$ | $Q$ | $P$ $\\wedge$ $Q$ |\n",
    "|:---:|:---:|:---:|\n",
    "|  T  |  T  |  T  |\n",
    "|  T  |  F  |  F  |\n",
    "|  F  |  T  |  F  |\n",
    "|  F  |  F  |  F  |"
   ]
  },
  {
   "cell_type": "code",
   "execution_count": 3,
   "metadata": {},
   "outputs": [
    {
     "name": "stdout",
     "output_type": "stream",
     "text": [
      "true and true == true 1\n",
      "true and false == false 0\n",
      "false and true == false 0\n",
      "false and false == false 0\n"
     ]
    }
   ],
   "source": [
    "weight1 = 1 \n",
    "weight2 = 1\n",
    "threshold = 2\n",
    "\n",
    "and_perceptron = Perceptron2(weight1, weight2, threshold, step_function)\n",
    "print(\"true and true == true\", and_perceptron.activate(1, 1))\n",
    "print(\"true and false == false\", and_perceptron.activate(1, 0))\n",
    "print(\"false and true == false\", and_perceptron.activate(0, 1))\n",
    "print(\"false and false == false\", and_perceptron.activate(0, 0))"
   ]
  },
  {
   "cell_type": "markdown",
   "metadata": {},
   "source": [
    "#### OR truth table\n",
    "\n",
    "| $P$ | $Q$ | $P$ $\\vee$ $Q$ |\n",
    "|:---:|:---:|:--------------:|\n",
    "|  T  |  T  |        T       |\n",
    "|  T  |  F  |        T       |\n",
    "|  F  |  T  |        T       |\n",
    "|  F  |  F  |        F       |"
   ]
  },
  {
   "cell_type": "code",
   "execution_count": 4,
   "metadata": {},
   "outputs": [
    {
     "name": "stdout",
     "output_type": "stream",
     "text": [
      "true or true == true 1\n",
      "true or false == true 1\n",
      "false or true == true 1\n",
      "false or false == false 0\n"
     ]
    }
   ],
   "source": [
    "weight1 = 1\n",
    "weight2 = 1\n",
    "threshold = 0.9\n",
    "\n",
    "or_perceptron = Perceptron2(weight1, weight2, threshold, step_function)\n",
    "print(\"true or true == true\", or_perceptron.activate(1, 1))\n",
    "print(\"true or false == true\", or_perceptron.activate(1, 0))\n",
    "print(\"false or true == true\", or_perceptron.activate(0, 1))\n",
    "print(\"false or false == false\", or_perceptron.activate(0, 0))"
   ]
  },
  {
   "cell_type": "markdown",
   "metadata": {},
   "source": [
    "#### NOT truth table\n",
    "\n",
    "| $P$ | $\\neg$ $P$ |\n",
    "|:---:|:----------:|\n",
    "|  T  |      F     |\n",
    "|  F  |      T     |\n"
   ]
  },
  {
   "cell_type": "code",
   "execution_count": 5,
   "metadata": {},
   "outputs": [],
   "source": [
    "class Perceptron1():\n",
    "    \"\"\"This class implements a 1-input perceptron.\"\"\"\n",
    "    \n",
    "    def __init__(self, w1, threshold, activation_function):\n",
    "        self.w1 = w1\n",
    "        self.threshold = threshold\n",
    "        self.activation_function = activation_function\n",
    "    \n",
    "    def activate(self, x1):\n",
    "        output = self.activation_function(x1 * self.w1, self.threshold)\n",
    "        return output"
   ]
  },
  {
   "cell_type": "code",
   "execution_count": 6,
   "metadata": {},
   "outputs": [
    {
     "name": "stdout",
     "output_type": "stream",
     "text": [
      "not true == false 0\n",
      "not false == true 1\n"
     ]
    }
   ],
   "source": [
    "weight1 = -1\n",
    "threshold = -0.1\n",
    "\n",
    "not_perceptron = Perceptron1(weight1, threshold, step_function)\n",
    "print(\"not true == false\", not_perceptron.activate(1))\n",
    "print(\"not false == true\", not_perceptron.activate(0))"
   ]
  },
  {
   "cell_type": "markdown",
   "metadata": {},
   "source": [
    "#### XOR truth table\n",
    "\n",
    "| $P$ | $Q$ | $P$ $\\oplus$ $Q$ |\n",
    "|:---:|:---:|:----------------:|\n",
    "|  T  |  T  |         F        |\n",
    "|  T  |  F  |         T        |\n",
    "|  F  |  T  |         T        |\n",
    "|  F  |  F  |         F        |"
   ]
  },
  {
   "cell_type": "code",
   "execution_count": 7,
   "metadata": {},
   "outputs": [
    {
     "name": "stdout",
     "output_type": "stream",
     "text": [
      "true xor true == false 0\n",
      "true xor false == true 1\n",
      "false xor true == true 1\n",
      "false xor false == false 0\n"
     ]
    }
   ],
   "source": [
    "def xor_net(input1, input2):\n",
    "    not_input1 = not_perceptron.activate(input1)\n",
    "    not_input2 = not_perceptron.activate(input2)\n",
    "\n",
    "    and_output1 = and_perceptron.activate(input1, not_input2)\n",
    "    and_output2 = and_perceptron.activate(not_input1, input2)\n",
    "    \n",
    "    output = or_perceptron.activate(and_output1, and_output2)\n",
    "    \n",
    "    return output\n",
    "\n",
    "\n",
    "print(\"true xor true == false\", xor_net(1, 1))\n",
    "print(\"true xor false == true\", xor_net(1, 0))\n",
    "print(\"false xor true == true\", xor_net(0, 1))\n",
    "print(\"false xor false == false\", xor_net(0, 0))"
   ]
  },
  {
   "cell_type": "code",
   "execution_count": null,
   "metadata": {},
   "outputs": [],
   "source": []
  }
 ],
 "metadata": {
  "kernelspec": {
   "display_name": "Python 3",
   "language": "python",
   "name": "python3"
  },
  "language_info": {
   "codemirror_mode": {
    "name": "ipython",
    "version": 3
   },
   "file_extension": ".py",
   "mimetype": "text/x-python",
   "name": "python",
   "nbconvert_exporter": "python",
   "pygments_lexer": "ipython3",
   "version": "3.8.6"
  }
 },
 "nbformat": 4,
 "nbformat_minor": 2
}
